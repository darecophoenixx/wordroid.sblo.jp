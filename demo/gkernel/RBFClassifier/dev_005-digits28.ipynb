{
 "cells": [
  {
   "cell_type": "code",
   "execution_count": 1,
   "metadata": {},
   "outputs": [
    {
     "name": "stderr",
     "output_type": "stream",
     "text": [
      "Using TensorFlow backend.\n"
     ]
    }
   ],
   "source": [
    "%matplotlib inline\n",
    "import os, sys\n",
    "\n",
    "import numpy as np\n",
    "import matplotlib.pyplot as plt\n",
    "from sklearn import datasets, linear_model\n",
    "from sklearn.metrics import f1_score, classification_report, confusion_matrix, make_scorer\n",
    "from sklearn.preprocessing import OneHotEncoder\n",
    "from sklearn.model_selection import train_test_split\n",
    "\n",
    "import keras\n",
    "from keras.models import Sequential\n",
    "from keras.utils import to_categorical\n",
    "from keras.layers import Input, Dense\n",
    "from keras.models import Model\n",
    "from keras.optimizers import SGD\n",
    "from keras import regularizers\n",
    "from keras.wrappers.scikit_learn import KerasClassifier, KerasRegressor\n",
    "from keras import backend as K\n",
    "import tensorflow as tf"
   ]
  },
  {
   "cell_type": "code",
   "execution_count": 2,
   "metadata": {
    "collapsed": true
   },
   "outputs": [],
   "source": [
    "sys.path.append('/home/admin/github/wordroid.sblo.jp/lib/keras_ex')\n",
    "#from gkernel import GaussianKernel, GaussianKernel2, GaussianKernel3\n",
    "from gkernel import GaussianKernel, GaussianKernel2, GaussianKernel3\n",
    "from gkernel.sklearn import (\n",
    "    RBFRegressor, RBFClassifier,\n",
    "    make_model_gkernel1,\n",
    "    make_model_gkernel2,\n",
    "    make_model_gkernel3,\n",
    "    make_model_out,\n",
    "    make_model\n",
    ")"
   ]
  },
  {
   "cell_type": "code",
   "execution_count": 3,
   "metadata": {
    "collapsed": true
   },
   "outputs": [],
   "source": [
    "# from sklearn.datasets import load_digits\n",
    "# digits = load_digits()\n",
    "# X, y = digits.data, digits.target\n",
    "# X = X / 16\n",
    "# X.shape, X.min(), X.max()"
   ]
  },
  {
   "cell_type": "code",
   "execution_count": 4,
   "metadata": {},
   "outputs": [
    {
     "name": "stderr",
     "output_type": "stream",
     "text": [
      "/home/admin/miniconda3/envs/da02/lib/python3.6/site-packages/sklearn/utils/deprecation.py:77: DeprecationWarning: Function fetch_mldata is deprecated; fetch_mldata was deprecated in version 0.20 and will be removed in version 0.22\n",
      "  warnings.warn(msg, category=DeprecationWarning)\n",
      "/home/admin/miniconda3/envs/da02/lib/python3.6/site-packages/sklearn/utils/deprecation.py:77: DeprecationWarning: Function mldata_filename is deprecated; mldata_filename was deprecated in version 0.20 and will be removed in version 0.22\n",
      "  warnings.warn(msg, category=DeprecationWarning)\n"
     ]
    },
    {
     "data": {
      "text/plain": [
       "{'COL_NAMES': ['label', 'data'],\n",
       " 'DESCR': 'mldata.org dataset: mnist-original',\n",
       " 'data': array([[0, 0, 0, ..., 0, 0, 0],\n",
       "        [0, 0, 0, ..., 0, 0, 0],\n",
       "        [0, 0, 0, ..., 0, 0, 0],\n",
       "        ...,\n",
       "        [0, 0, 0, ..., 0, 0, 0],\n",
       "        [0, 0, 0, ..., 0, 0, 0],\n",
       "        [0, 0, 0, ..., 0, 0, 0]], dtype=uint8),\n",
       " 'target': array([0., 0., 0., ..., 9., 9., 9.])}"
      ]
     },
     "execution_count": 4,
     "metadata": {},
     "output_type": "execute_result"
    }
   ],
   "source": [
    "from sklearn.datasets import fetch_mldata\n",
    "mnist = fetch_mldata('MNIST original')\n",
    "mnist"
   ]
  },
  {
   "cell_type": "code",
   "execution_count": 5,
   "metadata": {},
   "outputs": [
    {
     "data": {
      "text/plain": [
       "((70000, 784), 0.0, 1.0)"
      ]
     },
     "execution_count": 5,
     "metadata": {},
     "output_type": "execute_result"
    }
   ],
   "source": [
    "X, y = mnist.data, mnist.target\n",
    "X = X / 255\n",
    "X.shape, X.min(), X.max()"
   ]
  },
  {
   "cell_type": "code",
   "execution_count": 6,
   "metadata": {},
   "outputs": [
    {
     "data": {
      "text/plain": [
       "(70000,)"
      ]
     },
     "execution_count": 6,
     "metadata": {},
     "output_type": "execute_result"
    }
   ],
   "source": [
    "y.shape"
   ]
  },
  {
   "cell_type": "code",
   "execution_count": 7,
   "metadata": {},
   "outputs": [
    {
     "data": {
      "text/plain": [
       "(70000, 10)"
      ]
     },
     "execution_count": 7,
     "metadata": {},
     "output_type": "execute_result"
    }
   ],
   "source": [
    "y_cat = to_categorical(y, num_classes=10)\n",
    "y_cat.shape"
   ]
  },
  {
   "cell_type": "code",
   "execution_count": 8,
   "metadata": {},
   "outputs": [
    {
     "data": {
      "text/plain": [
       "((42000, 784), (28000, 784), (42000, 10), (28000, 10), (42000,), (28000,))"
      ]
     },
     "execution_count": 8,
     "metadata": {},
     "output_type": "execute_result"
    }
   ],
   "source": [
    "(\n",
    "    x_train, x_test,\n",
    "    y_cat_train, y_cat_test,\n",
    "    y_train, y_test\n",
    ") = train_test_split(X, y_cat, y,\n",
    "                     test_size=0.4,\n",
    "                     stratify=y, random_state=10002)\n",
    "\n",
    "(\n",
    "    x_train.shape, x_test.shape,\n",
    "    y_cat_train.shape, y_cat_test.shape,\n",
    "    y_train.shape, y_test.shape\n",
    ")"
   ]
  },
  {
   "cell_type": "code",
   "execution_count": null,
   "metadata": {
    "collapsed": true
   },
   "outputs": [],
   "source": []
  },
  {
   "cell_type": "code",
   "execution_count": null,
   "metadata": {
    "collapsed": true
   },
   "outputs": [],
   "source": []
  },
  {
   "cell_type": "code",
   "execution_count": 9,
   "metadata": {
    "collapsed": true
   },
   "outputs": [],
   "source": [
    "from sklearn.model_selection import StratifiedShuffleSplit, GridSearchCV, validation_curve\n",
    "from sklearn.feature_selection import RFECV\n",
    "from sklearn.linear_model import LogisticRegression, Lasso\n",
    "import pandas as pd\n",
    "from sklearn.metrics import mean_squared_error, mean_absolute_error, roc_auc_score, r2_score, make_scorer\n",
    "from sklearn.metrics.pairwise import cosine_similarity, euclidean_distances\n",
    "import joblib\n",
    "\n",
    "from lightgbm import LGBMClassifier"
   ]
  },
  {
   "cell_type": "code",
   "execution_count": 10,
   "metadata": {
    "collapsed": true
   },
   "outputs": [],
   "source": [
    "import warnings\n",
    "warnings.filterwarnings('ignore')"
   ]
  },
  {
   "cell_type": "code",
   "execution_count": 11,
   "metadata": {
    "collapsed": true
   },
   "outputs": [],
   "source": [
    "def f1_scorer(estimator, X, y):\n",
    "    pred = estimator.predict(X)\n",
    "    s = f1_score(y, pred, average='macro')\n",
    "    return s"
   ]
  },
  {
   "cell_type": "markdown",
   "metadata": {},
   "source": [
    "## clf1"
   ]
  },
  {
   "cell_type": "code",
   "execution_count": 12,
   "metadata": {
    "collapsed": true
   },
   "outputs": [],
   "source": [
    "clf1 = RBFClassifier(\n",
    "    num_lm=150,\n",
    "    lm_select_from_x=True,\n",
    "    random_state=10001,\n",
    "    #make_model_gkernel=make_model_gkernel3,\n",
    "    #tol=float(np.sqrt(np.finfo(np.float32).eps)/2),\n",
    "    lr=0.05, gamma='scale',\n",
    "    epochs=50, batch_size=500, verbose=0,\n",
    "    session_clear=False\n",
    ")\n",
    "# clf1 = LGBMClassifier(min_child_samples=50, reg_alpha=0.1)"
   ]
  },
  {
   "cell_type": "code",
   "execution_count": 13,
   "metadata": {},
   "outputs": [
    {
     "name": "stderr",
     "output_type": "stream",
     "text": [
      "WARNING: Logging before flag parsing goes to stderr.\n",
      "W1003 23:55:32.025313 140448021440320 deprecation_wrapper.py:119] From /home/admin/miniconda3/envs/da02/lib/python3.6/site-packages/keras/backend/tensorflow_backend.py:517: The name tf.placeholder is deprecated. Please use tf.compat.v1.placeholder instead.\n",
      "\n",
      "W1003 23:55:32.040025 140448021440320 deprecation_wrapper.py:119] From /home/admin/miniconda3/envs/da02/lib/python3.6/site-packages/keras/backend/tensorflow_backend.py:4138: The name tf.random_uniform is deprecated. Please use tf.random.uniform instead.\n",
      "\n",
      "W1003 23:55:32.047770 140448021440320 deprecation_wrapper.py:119] From /home/admin/miniconda3/envs/da02/lib/python3.6/site-packages/keras/backend/tensorflow_backend.py:174: The name tf.get_default_session is deprecated. Please use tf.compat.v1.get_default_session instead.\n",
      "\n",
      "W1003 23:55:32.048578 140448021440320 deprecation_wrapper.py:119] From /home/admin/miniconda3/envs/da02/lib/python3.6/site-packages/keras/backend/tensorflow_backend.py:181: The name tf.ConfigProto is deprecated. Please use tf.compat.v1.ConfigProto instead.\n",
      "\n",
      "W1003 23:55:32.049200 140448021440320 deprecation_wrapper.py:119] From /home/admin/miniconda3/envs/da02/lib/python3.6/site-packages/keras/backend/tensorflow_backend.py:186: The name tf.Session is deprecated. Please use tf.compat.v1.Session instead.\n",
      "\n",
      "W1003 23:55:32.142450 140448021440320 deprecation_wrapper.py:119] From /home/admin/miniconda3/envs/da02/lib/python3.6/site-packages/keras/optimizers.py:790: The name tf.train.Optimizer is deprecated. Please use tf.compat.v1.train.Optimizer instead.\n",
      "\n",
      "W1003 23:55:32.207085 140448021440320 deprecation.py:323] From /home/admin/miniconda3/envs/da02/lib/python3.6/site-packages/tensorflow/python/ops/math_grad.py:1250: add_dispatch_support.<locals>.wrapper (from tensorflow.python.ops.array_ops) is deprecated and will be removed in a future version.\n",
      "Instructions for updating:\n",
      "Use tf.where in 2.0, which has the same broadcast rule as np.where\n"
     ]
    },
    {
     "name": "stdout",
     "output_type": "stream",
     "text": [
      "CPU times: user 2min 46s, sys: 8.2 s, total: 2min 54s\n",
      "Wall time: 1min 35s\n"
     ]
    }
   ],
   "source": [
    "%%time\n",
    "#hst = clf1.fit(x_train, y_cat_train)\n",
    "hst = clf1.fit(x_train, y_train)"
   ]
  },
  {
   "cell_type": "code",
   "execution_count": 14,
   "metadata": {},
   "outputs": [
    {
     "data": {
      "text/plain": [
       "<matplotlib.legend.Legend at 0x7fbc07eae390>"
      ]
     },
     "execution_count": 14,
     "metadata": {},
     "output_type": "execute_result"
    },
    {
     "data": {
      "image/png": "[encoded data removed]",
      "text/plain": [
       "<matplotlib.figure.Figure at 0x7fbc07fe9470>"
      ]
     },
     "metadata": {},
     "output_type": "display_data"
    }
   ],
   "source": [
    "fig, ax = plt.subplots(1, 3, figsize=(20,5))\n",
    "ax[0].set_title('loss')\n",
    "ax[0].plot(list(range(len(hst[\"loss\"]))), hst[\"loss\"], label=\"Train loss\")\n",
    "ax[1].set_title('accuracy')\n",
    "ax[1].plot(list(range(len(hst[\"loss\"]))), hst[\"acc\"], label=\"accuracy\")\n",
    "ax[2].set_title('learning rate')\n",
    "ax[2].plot(list(range(len(hst[\"loss\"]))), hst[\"lr\"], label=\"learning rate\")\n",
    "ax[0].legend()\n",
    "ax[1].legend()\n",
    "ax[2].legend()"
   ]
  },
  {
   "cell_type": "code",
   "execution_count": 15,
   "metadata": {},
   "outputs": [
    {
     "data": {
      "text/plain": [
       "(42000,)"
      ]
     },
     "execution_count": 15,
     "metadata": {},
     "output_type": "execute_result"
    }
   ],
   "source": [
    "pred = clf1.predict(x_train)\n",
    "pred.shape"
   ]
  },
  {
   "cell_type": "code",
   "execution_count": 16,
   "metadata": {},
   "outputs": [
    {
     "data": {
      "text/plain": [
       "array([2., 9., 9., ..., 8., 4., 1.])"
      ]
     },
     "execution_count": 16,
     "metadata": {},
     "output_type": "execute_result"
    }
   ],
   "source": [
    "pred"
   ]
  },
  {
   "cell_type": "code",
   "execution_count": 17,
   "metadata": {},
   "outputs": [
    {
     "name": "stdout",
     "output_type": "stream",
     "text": [
      "F1_SCORE : 0.9385677966514876\n",
      "              precision    recall  f1-score   support\n",
      "\n",
      "         0.0       0.97      0.98      0.97      4142\n",
      "         1.0       0.97      0.98      0.97      4726\n",
      "         2.0       0.93      0.93      0.93      4194\n",
      "         3.0       0.93      0.91      0.92      4285\n",
      "         4.0       0.93      0.94      0.94      4094\n",
      "         5.0       0.92      0.92      0.92      3788\n",
      "         6.0       0.96      0.96      0.96      4125\n",
      "         7.0       0.94      0.94      0.94      4376\n",
      "         8.0       0.92      0.91      0.92      4095\n",
      "         9.0       0.92      0.91      0.91      4175\n",
      "\n",
      "   micro avg       0.94      0.94      0.94     42000\n",
      "   macro avg       0.94      0.94      0.94     42000\n",
      "weighted avg       0.94      0.94      0.94     42000\n",
      "\n",
      "[[4043    0   11    3    9   27   21    7   15    6]\n",
      " [   1 4613   22   11    8   10    7   13   35    6]\n",
      " [  19   19 3906   42   50   15   23   54   57    9]\n",
      " [   7   14   86 3914    5  110    7   37   72   33]\n",
      " [  10    6   24    4 3858    1   37   11   21  122]\n",
      " [  24   11   21   88   29 3479   44   10   54   28]\n",
      " [  32    9   12    2   24   49 3976    1   19    1]\n",
      " [   5   20   51    8   39    7    1 4131   10  104]\n",
      " [  13   35   47   93   18   69   33    9 3738   40]\n",
      " [  26   15    8   52  117   25    4  102   35 3791]]\n"
     ]
    }
   ],
   "source": [
    "print('F1_SCORE :', f1_score(y_train, pred, average='macro'))\n",
    "print(classification_report(y_train, pred))\n",
    "print(confusion_matrix(y_train, pred))"
   ]
  },
  {
   "cell_type": "code",
   "execution_count": 18,
   "metadata": {},
   "outputs": [
    {
     "data": {
      "text/plain": [
       "(28000,)"
      ]
     },
     "execution_count": 18,
     "metadata": {},
     "output_type": "execute_result"
    }
   ],
   "source": [
    "pred_test = clf1.predict(x_test)\n",
    "pred_test.shape"
   ]
  },
  {
   "cell_type": "code",
   "execution_count": 19,
   "metadata": {},
   "outputs": [
    {
     "name": "stdout",
     "output_type": "stream",
     "text": [
      "F1_SCORE : 0.9358756800204739\n",
      "              precision    recall  f1-score   support\n",
      "\n",
      "         0.0       0.96      0.98      0.97      2761\n",
      "         1.0       0.97      0.98      0.97      3151\n",
      "         2.0       0.93      0.92      0.93      2796\n",
      "         3.0       0.93      0.91      0.92      2856\n",
      "         4.0       0.92      0.94      0.93      2730\n",
      "         5.0       0.91      0.92      0.92      2525\n",
      "         6.0       0.96      0.96      0.96      2751\n",
      "         7.0       0.95      0.94      0.94      2917\n",
      "         8.0       0.92      0.91      0.91      2730\n",
      "         9.0       0.91      0.91      0.91      2783\n",
      "\n",
      "   micro avg       0.94      0.94      0.94     28000\n",
      "   macro avg       0.94      0.94      0.94     28000\n",
      "weighted avg       0.94      0.94      0.94     28000\n",
      "\n",
      "[[2694    0    7    1    0   20   18    2   14    5]\n",
      " [   1 3081   10   12    1   11    4    5   16   10]\n",
      " [  16   15 2580   27   43    7   20   22   60    6]\n",
      " [   2    3   50 2603    1   89    7   30   48   23]\n",
      " [  11    9   18    4 2558    3   21    8   10   88]\n",
      " [  18    6   13   61   15 2318   32    5   37   20]\n",
      " [  24    6   18    1   26   23 2644    1    6    2]\n",
      " [   8   11   47    6   34    4    0 2746    6   55]\n",
      " [  12   27   20   71   17   49   18    8 2479   29]\n",
      " [  12   11   11   26   82   17    3   71   27 2523]]\n"
     ]
    }
   ],
   "source": [
    "print('F1_SCORE :', f1_score(y_test, pred_test, average='macro'))\n",
    "print(classification_report(y_test, pred_test))\n",
    "print(confusion_matrix(y_test, pred_test))"
   ]
  },
  {
   "cell_type": "code",
   "execution_count": null,
   "metadata": {
    "collapsed": true
   },
   "outputs": [],
   "source": []
  },
  {
   "cell_type": "markdown",
   "metadata": {},
   "source": [
    "## clf2"
   ]
  },
  {
   "cell_type": "code",
   "execution_count": 20,
   "metadata": {
    "collapsed": true
   },
   "outputs": [],
   "source": [
    "clf2 = RBFClassifier(\n",
    "    num_lm=150,\n",
    "    lm_select_from_x=True,\n",
    "    random_state=10002,\n",
    "    #make_model_gkernel=make_model_gkernel3,\n",
    "    #tol=float(np.sqrt(np.finfo(np.float32).eps)/2),\n",
    "    lr=0.05, gamma='scale',\n",
    "    epochs=50, batch_size=500, verbose=0,\n",
    "    session_clear=False\n",
    ")\n",
    "# clf2 = LGBMClassifier(min_child_samples=50, reg_alpha=0.1)"
   ]
  },
  {
   "cell_type": "code",
   "execution_count": 21,
   "metadata": {},
   "outputs": [
    {
     "name": "stdout",
     "output_type": "stream",
     "text": [
      "CPU times: user 2min 21s, sys: 2.32 s, total: 2min 23s\n",
      "Wall time: 1min 18s\n"
     ]
    }
   ],
   "source": [
    "%%time\n",
    "#hst = clf2.fit(x_train, y_cat_train)\n",
    "hst = clf2.fit(x_train, y_train)"
   ]
  },
  {
   "cell_type": "code",
   "execution_count": 22,
   "metadata": {},
   "outputs": [
    {
     "data": {
      "text/plain": [
       "<matplotlib.legend.Legend at 0x7fbc027b8400>"
      ]
     },
     "execution_count": 22,
     "metadata": {},
     "output_type": "execute_result"
    },
    {
     "data": {
      "image/png": "[encoded data removed]",
      "text/plain": [
       "<matplotlib.figure.Figure at 0x7fbc07fc0390>"
      ]
     },
     "metadata": {},
     "output_type": "display_data"
    }
   ],
   "source": [
    "fig, ax = plt.subplots(1, 3, figsize=(20,5))\n",
    "ax[0].set_title('loss')\n",
    "ax[0].plot(list(range(len(hst[\"loss\"]))), hst[\"loss\"], label=\"Train loss\")\n",
    "ax[1].set_title('accuracy')\n",
    "ax[1].plot(list(range(len(hst[\"loss\"]))), hst[\"acc\"], label=\"accuracy\")\n",
    "ax[2].set_title('learning rate')\n",
    "ax[2].plot(list(range(len(hst[\"loss\"]))), hst[\"lr\"], label=\"learning rate\")\n",
    "ax[0].legend()\n",
    "ax[1].legend()\n",
    "ax[2].legend()"
   ]
  },
  {
   "cell_type": "code",
   "execution_count": 23,
   "metadata": {},
   "outputs": [
    {
     "data": {
      "text/plain": [
       "(42000,)"
      ]
     },
     "execution_count": 23,
     "metadata": {},
     "output_type": "execute_result"
    }
   ],
   "source": [
    "pred = clf2.predict(x_train)\n",
    "pred.shape"
   ]
  },
  {
   "cell_type": "code",
   "execution_count": 24,
   "metadata": {},
   "outputs": [
    {
     "data": {
      "text/plain": [
       "array([2., 9., 9., ..., 8., 4., 1.])"
      ]
     },
     "execution_count": 24,
     "metadata": {},
     "output_type": "execute_result"
    }
   ],
   "source": [
    "pred"
   ]
  },
  {
   "cell_type": "code",
   "execution_count": 25,
   "metadata": {},
   "outputs": [
    {
     "name": "stdout",
     "output_type": "stream",
     "text": [
      "F1_SCORE : 0.937817889373194\n",
      "              precision    recall  f1-score   support\n",
      "\n",
      "         0.0       0.97      0.98      0.97      4142\n",
      "         1.0       0.97      0.98      0.97      4726\n",
      "         2.0       0.93      0.93      0.93      4194\n",
      "         3.0       0.92      0.91      0.92      4285\n",
      "         4.0       0.93      0.94      0.93      4094\n",
      "         5.0       0.92      0.92      0.92      3788\n",
      "         6.0       0.95      0.97      0.96      4125\n",
      "         7.0       0.94      0.94      0.94      4376\n",
      "         8.0       0.93      0.91      0.92      4095\n",
      "         9.0       0.92      0.91      0.91      4175\n",
      "\n",
      "   micro avg       0.94      0.94      0.94     42000\n",
      "   macro avg       0.94      0.94      0.94     42000\n",
      "weighted avg       0.94      0.94      0.94     42000\n",
      "\n",
      "[[4042    0   14    6    7   18   21   11   21    2]\n",
      " [   0 4623   23   10    9   10    4   14   28    5]\n",
      " [  18   22 3890   48   52   22   36   48   45   13]\n",
      " [   5   17   82 3904    2  129    9   36   71   30]\n",
      " [  10    7   32    2 3836    2   45   11   17  132]\n",
      " [  22   10   22  101   25 3488   51    9   43   17]\n",
      " [  23    3   19    1   20   40 3998    1   20    0]\n",
      " [  14   23   45   14   40    7    1 4116   10  106]\n",
      " [  20   43   52   96   13   63   27    8 3730   43]\n",
      " [  21   16   13   48  127   19    3  111   27 3790]]\n"
     ]
    }
   ],
   "source": [
    "print('F1_SCORE :', f1_score(y_train, pred, average='macro'))\n",
    "print(classification_report(y_train, pred))\n",
    "print(confusion_matrix(y_train, pred))"
   ]
  },
  {
   "cell_type": "code",
   "execution_count": 26,
   "metadata": {},
   "outputs": [
    {
     "data": {
      "text/plain": [
       "(28000,)"
      ]
     },
     "execution_count": 26,
     "metadata": {},
     "output_type": "execute_result"
    }
   ],
   "source": [
    "pred_test = clf2.predict(x_test)\n",
    "pred_test.shape"
   ]
  },
  {
   "cell_type": "code",
   "execution_count": 27,
   "metadata": {},
   "outputs": [
    {
     "name": "stdout",
     "output_type": "stream",
     "text": [
      "F1_SCORE : 0.9349879317028483\n",
      "              precision    recall  f1-score   support\n",
      "\n",
      "         0.0       0.97      0.98      0.97      2761\n",
      "         1.0       0.97      0.98      0.98      3151\n",
      "         2.0       0.92      0.93      0.92      2796\n",
      "         3.0       0.93      0.91      0.92      2856\n",
      "         4.0       0.92      0.93      0.93      2730\n",
      "         5.0       0.92      0.92      0.92      2525\n",
      "         6.0       0.95      0.96      0.96      2751\n",
      "         7.0       0.94      0.93      0.94      2917\n",
      "         8.0       0.92      0.91      0.91      2730\n",
      "         9.0       0.91      0.90      0.91      2783\n",
      "\n",
      "   micro avg       0.94      0.94      0.94     28000\n",
      "   macro avg       0.93      0.94      0.93     28000\n",
      "weighted avg       0.94      0.94      0.94     28000\n",
      "\n",
      "[[2700    0   15    1    0   11   15    4   14    1]\n",
      " [   1 3088   13   11    1    6    2    5   17    7]\n",
      " [   7   11 2591   28   43    7   25   20   61    3]\n",
      " [   7    5   45 2598    0   95    8   26   50   22]\n",
      " [   7   12   27    3 2540    0   23    4   17   97]\n",
      " [  10    6   15   68   11 2330   36    6   34    9]\n",
      " [  18    4   20    2   21   23 2649    3   10    1]\n",
      " [   9   16   45    9   34    4    2 2715    6   77]\n",
      " [  12   22   29   69   18   51   20    4 2477   28]\n",
      " [  14    6   17   19   92   14    2   87   20 2512]]\n"
     ]
    }
   ],
   "source": [
    "print('F1_SCORE :', f1_score(y_test, pred_test, average='macro'))\n",
    "print(classification_report(y_test, pred_test))\n",
    "print(confusion_matrix(y_test, pred_test))"
   ]
  },
  {
   "cell_type": "code",
   "execution_count": null,
   "metadata": {
    "collapsed": true
   },
   "outputs": [],
   "source": []
  },
  {
   "cell_type": "markdown",
   "metadata": {},
   "source": [
    "## clf3"
   ]
  },
  {
   "cell_type": "code",
   "execution_count": 28,
   "metadata": {
    "collapsed": true
   },
   "outputs": [],
   "source": [
    "clf3 = RBFClassifier(\n",
    "    num_lm=150,\n",
    "    lm_select_from_x=True,\n",
    "    random_state=10003,\n",
    "    #make_model_gkernel=make_model_gkernel3,\n",
    "    #tol=float(np.sqrt(np.finfo(np.float32).eps)/2),\n",
    "    lr=0.05, gamma='scale',\n",
    "    epochs=50, batch_size=500, verbose=0,\n",
    "    session_clear=False\n",
    ")\n",
    "# clf3 = LGBMClassifier(min_child_samples=50, reg_alpha=0.1)"
   ]
  },
  {
   "cell_type": "code",
   "execution_count": 29,
   "metadata": {},
   "outputs": [
    {
     "name": "stdout",
     "output_type": "stream",
     "text": [
      "CPU times: user 2min 21s, sys: 2.48 s, total: 2min 23s\n",
      "Wall time: 1min 18s\n"
     ]
    }
   ],
   "source": [
    "%%time\n",
    "#hst = clf3.fit(x_train, y_cat_train)\n",
    "hst = clf3.fit(x_train, y_train)"
   ]
  },
  {
   "cell_type": "code",
   "execution_count": 30,
   "metadata": {},
   "outputs": [
    {
     "data": {
      "text/plain": [
       "<matplotlib.legend.Legend at 0x7fbc02037fd0>"
      ]
     },
     "execution_count": 30,
     "metadata": {},
     "output_type": "execute_result"
    },
    {
     "data": {
      "image/png": "[encoded data removed]",
      "text/plain": [
       "<matplotlib.figure.Figure at 0x7fbc021a5358>"
      ]
     },
     "metadata": {},
     "output_type": "display_data"
    }
   ],
   "source": [
    "fig, ax = plt.subplots(1, 3, figsize=(20,5))\n",
    "ax[0].set_title('loss')\n",
    "ax[0].plot(list(range(len(hst[\"loss\"]))), hst[\"loss\"], label=\"Train loss\")\n",
    "ax[1].set_title('accuracy')\n",
    "ax[1].plot(list(range(len(hst[\"loss\"]))), hst[\"acc\"], label=\"accuracy\")\n",
    "ax[2].set_title('learning rate')\n",
    "ax[2].plot(list(range(len(hst[\"loss\"]))), hst[\"lr\"], label=\"learning rate\")\n",
    "ax[0].legend()\n",
    "ax[1].legend()\n",
    "ax[2].legend()"
   ]
  },
  {
   "cell_type": "code",
   "execution_count": 31,
   "metadata": {},
   "outputs": [
    {
     "data": {
      "text/plain": [
       "(42000,)"
      ]
     },
     "execution_count": 31,
     "metadata": {},
     "output_type": "execute_result"
    }
   ],
   "source": [
    "pred = clf3.predict(x_train)\n",
    "pred.shape"
   ]
  },
  {
   "cell_type": "code",
   "execution_count": 32,
   "metadata": {},
   "outputs": [
    {
     "data": {
      "text/plain": [
       "array([2., 9., 9., ..., 8., 4., 1.])"
      ]
     },
     "execution_count": 32,
     "metadata": {},
     "output_type": "execute_result"
    }
   ],
   "source": [
    "pred"
   ]
  },
  {
   "cell_type": "code",
   "execution_count": 33,
   "metadata": {},
   "outputs": [
    {
     "name": "stdout",
     "output_type": "stream",
     "text": [
      "F1_SCORE : 0.932622231598988\n",
      "              precision    recall  f1-score   support\n",
      "\n",
      "         0.0       0.97      0.97      0.97      4142\n",
      "         1.0       0.97      0.97      0.97      4726\n",
      "         2.0       0.92      0.92      0.92      4194\n",
      "         3.0       0.92      0.92      0.92      4285\n",
      "         4.0       0.93      0.94      0.93      4094\n",
      "         5.0       0.91      0.91      0.91      3788\n",
      "         6.0       0.95      0.96      0.95      4125\n",
      "         7.0       0.94      0.93      0.93      4376\n",
      "         8.0       0.91      0.90      0.91      4095\n",
      "         9.0       0.91      0.90      0.90      4175\n",
      "\n",
      "   micro avg       0.93      0.93      0.93     42000\n",
      "   macro avg       0.93      0.93      0.93     42000\n",
      "weighted avg       0.93      0.93      0.93     42000\n",
      "\n",
      "[[4033    0    8    7    5   27   25    6   19   12]\n",
      " [   0 4606   22   14    8   19    5   15   32    5]\n",
      " [  20   20 3857   47   49   15   44   56   73   13]\n",
      " [   8   22   77 3925    5  109    8   31   73   27]\n",
      " [   9   10   23    0 3855    3   37   12   18  127]\n",
      " [  19   15   25   92   22 3459   59   19   60   18]\n",
      " [  31    9   18    5   33   55 3952    2   20    0]\n",
      " [  18   24   66    9   32   16    0 4066   18  127]\n",
      " [  15   43   58  105   16   84   27   11 3690   46]\n",
      " [  19   19   17   48  130   30    3  114   37 3758]]\n"
     ]
    }
   ],
   "source": [
    "print('F1_SCORE :', f1_score(y_train, pred, average='macro'))\n",
    "print(classification_report(y_train, pred))\n",
    "print(confusion_matrix(y_train, pred))"
   ]
  },
  {
   "cell_type": "code",
   "execution_count": 34,
   "metadata": {},
   "outputs": [
    {
     "data": {
      "text/plain": [
       "(28000,)"
      ]
     },
     "execution_count": 34,
     "metadata": {},
     "output_type": "execute_result"
    }
   ],
   "source": [
    "pred_test = clf3.predict(x_test)\n",
    "pred_test.shape"
   ]
  },
  {
   "cell_type": "code",
   "execution_count": 35,
   "metadata": {},
   "outputs": [
    {
     "name": "stdout",
     "output_type": "stream",
     "text": [
      "F1_SCORE : 0.9320364251967502\n",
      "              precision    recall  f1-score   support\n",
      "\n",
      "         0.0       0.96      0.98      0.97      2761\n",
      "         1.0       0.97      0.98      0.97      3151\n",
      "         2.0       0.92      0.92      0.92      2796\n",
      "         3.0       0.93      0.91      0.92      2856\n",
      "         4.0       0.93      0.93      0.93      2730\n",
      "         5.0       0.92      0.91      0.91      2525\n",
      "         6.0       0.95      0.96      0.95      2751\n",
      "         7.0       0.93      0.93      0.93      2917\n",
      "         8.0       0.90      0.91      0.90      2730\n",
      "         9.0       0.91      0.90      0.90      2783\n",
      "\n",
      "   micro avg       0.93      0.93      0.93     28000\n",
      "   macro avg       0.93      0.93      0.93     28000\n",
      "weighted avg       0.93      0.93      0.93     28000\n",
      "\n",
      "[[2694    0    7    3    1   16   15    3   13    9]\n",
      " [   1 3078   10   13    3   13    4    5   17    7]\n",
      " [   8   12 2569   24   35   10   37   28   67    6]\n",
      " [   7    5   50 2599    0   74    8   29   60   24]\n",
      " [   8   11   19    0 2548    3   21    9   13   98]\n",
      " [  18   10   19   57   16 2288   31   13   57   16]\n",
      " [  18    7   20    2   25   25 2642    1    9    2]\n",
      " [  15   14   51    8   25    1    1 2727    7   68]\n",
      " [  12   25   31   72   15   44   23   12 2472   24]\n",
      " [  11   12   17   23   79   20    2   94   23 2502]]\n"
     ]
    }
   ],
   "source": [
    "print('F1_SCORE :', f1_score(y_test, pred_test, average='macro'))\n",
    "print(classification_report(y_test, pred_test))\n",
    "print(confusion_matrix(y_test, pred_test))"
   ]
  },
  {
   "cell_type": "code",
   "execution_count": null,
   "metadata": {
    "collapsed": true
   },
   "outputs": [],
   "source": []
  },
  {
   "cell_type": "code",
   "execution_count": null,
   "metadata": {
    "collapsed": true
   },
   "outputs": [],
   "source": []
  },
  {
   "cell_type": "code",
   "execution_count": 36,
   "metadata": {
    "collapsed": true
   },
   "outputs": [],
   "source": [
    "clfs = [clf1, clf2, clf3]"
   ]
  },
  {
   "cell_type": "code",
   "execution_count": 37,
   "metadata": {
    "collapsed": true
   },
   "outputs": [],
   "source": [
    "pred_proba = [clf.predict_proba(x_train) for clf in clfs]"
   ]
  },
  {
   "cell_type": "code",
   "execution_count": 38,
   "metadata": {},
   "outputs": [
    {
     "data": {
      "text/plain": [
       "(42000, 10)"
      ]
     },
     "execution_count": 38,
     "metadata": {},
     "output_type": "execute_result"
    }
   ],
   "source": [
    "np.stack(pred_proba).mean(axis=0).shape"
   ]
  },
  {
   "cell_type": "code",
   "execution_count": 39,
   "metadata": {},
   "outputs": [
    {
     "name": "stdout",
     "output_type": "stream",
     "text": [
      "F1_SCORE : 0.9422330774198109\n",
      "              precision    recall  f1-score   support\n",
      "\n",
      "         0.0       0.97      0.98      0.97      4142\n",
      "         1.0       0.97      0.98      0.97      4726\n",
      "         2.0       0.93      0.93      0.93      4194\n",
      "         3.0       0.93      0.92      0.93      4285\n",
      "         4.0       0.93      0.95      0.94      4094\n",
      "         5.0       0.92      0.93      0.93      3788\n",
      "         6.0       0.96      0.97      0.96      4125\n",
      "         7.0       0.95      0.94      0.95      4376\n",
      "         8.0       0.93      0.92      0.92      4095\n",
      "         9.0       0.92      0.91      0.92      4175\n",
      "\n",
      "   micro avg       0.94      0.94      0.94     42000\n",
      "   macro avg       0.94      0.94      0.94     42000\n",
      "weighted avg       0.94      0.94      0.94     42000\n",
      "\n",
      "[[4060    0   12    5    6   13   20    8   15    3]\n",
      " [   0 4620   20   11    8   15    6   14   27    5]\n",
      " [  19   18 3905   40   48   16   32   51   54   11]\n",
      " [   6   17   77 3936    4  104    9   34   70   28]\n",
      " [   8    9   22    2 3873    2   36   10   17  115]\n",
      " [  19   11   21   76   27 3521   48    8   36   21]\n",
      " [  27    7   12    2   22   47 3988    1   18    1]\n",
      " [  13   20   54    9   32    8    1 4131   10   98]\n",
      " [  16   37   46   88   18   62   26    8 3753   41]\n",
      " [  25   17   11   50  109   23    3   98   27 3812]]\n"
     ]
    }
   ],
   "source": [
    "print('F1_SCORE :', f1_score(y_train, np.argmax(np.stack(pred_proba).mean(axis=0), axis=1), average='macro'))\n",
    "print(classification_report(y_train, np.argmax(np.stack(pred_proba).mean(axis=0), axis=1)))\n",
    "print(confusion_matrix(y_train, np.argmax(np.stack(pred_proba).mean(axis=0), axis=1)))"
   ]
  },
  {
   "cell_type": "code",
   "execution_count": 40,
   "metadata": {
    "collapsed": true
   },
   "outputs": [],
   "source": [
    "pred_proba_test = [clf.predict_proba(x_test) for clf in clfs]"
   ]
  },
  {
   "cell_type": "code",
   "execution_count": 41,
   "metadata": {},
   "outputs": [
    {
     "data": {
      "text/plain": [
       "(28000, 10)"
      ]
     },
     "execution_count": 41,
     "metadata": {},
     "output_type": "execute_result"
    }
   ],
   "source": [
    "np.stack(pred_proba_test).mean(axis=0).shape"
   ]
  },
  {
   "cell_type": "code",
   "execution_count": 42,
   "metadata": {},
   "outputs": [
    {
     "name": "stdout",
     "output_type": "stream",
     "text": [
      "F1_SCORE : 0.9406185231558952\n",
      "              precision    recall  f1-score   support\n",
      "\n",
      "         0.0       0.97      0.98      0.98      2761\n",
      "         1.0       0.97      0.98      0.98      3151\n",
      "         2.0       0.93      0.93      0.93      2796\n",
      "         3.0       0.93      0.92      0.93      2856\n",
      "         4.0       0.93      0.94      0.93      2730\n",
      "         5.0       0.92      0.93      0.93      2525\n",
      "         6.0       0.96      0.97      0.96      2751\n",
      "         7.0       0.95      0.94      0.94      2917\n",
      "         8.0       0.92      0.92      0.92      2730\n",
      "         9.0       0.92      0.91      0.92      2783\n",
      "\n",
      "   micro avg       0.94      0.94      0.94     28000\n",
      "   macro avg       0.94      0.94      0.94     28000\n",
      "weighted avg       0.94      0.94      0.94     28000\n",
      "\n",
      "[[2706    1    7    1    0   14   14    3   11    4]\n",
      " [   1 3083   11   12    2   10    2    5   17    8]\n",
      " [   9   11 2601   24   40    5   24   22   57    3]\n",
      " [   4    4   41 2626    1   81    7   27   44   21]\n",
      " [   5   12   23    1 2558    2   25    4   13   87]\n",
      " [   9    6   15   53   14 2345   30    6   34   13]\n",
      " [  21    4   16    0   22   22 2657    1    6    2]\n",
      " [  10   13   49    6   31    2    1 2741    4   60]\n",
      " [  10   23   23   63   17   42   19    8 2501   24]\n",
      " [  12   10   15   23   77   14    2   75   18 2537]]\n"
     ]
    }
   ],
   "source": [
    "print('F1_SCORE :', f1_score(y_test, np.argmax(np.stack(pred_proba_test).mean(axis=0), axis=1), average='macro'))\n",
    "print(classification_report(y_test, np.argmax(np.stack(pred_proba_test).mean(axis=0), axis=1)))\n",
    "print(confusion_matrix(y_test, np.argmax(np.stack(pred_proba_test).mean(axis=0), axis=1)))"
   ]
  },
  {
   "cell_type": "code",
   "execution_count": null,
   "metadata": {
    "collapsed": true
   },
   "outputs": [],
   "source": []
  },
  {
   "cell_type": "code",
   "execution_count": null,
   "metadata": {
    "collapsed": true
   },
   "outputs": [],
   "source": []
  },
  {
   "cell_type": "code",
   "execution_count": null,
   "metadata": {
    "collapsed": true
   },
   "outputs": [],
   "source": []
  },
  {
   "cell_type": "code",
   "execution_count": null,
   "metadata": {
    "collapsed": true
   },
   "outputs": [],
   "source": []
  }
 ],
 "metadata": {
  "kernelspec": {
   "display_name": "Python 3",
   "language": "python",
   "name": "python3"
  },
  "language_info": {
   "codemirror_mode": {
    "name": "ipython",
    "version": 3
   },
   "file_extension": ".py",
   "mimetype": "text/x-python",
   "name": "python",
   "nbconvert_exporter": "python",
   "pygments_lexer": "ipython3",
   "version": "3.6.8"
  }
 },
 "nbformat": 4,
 "nbformat_minor": 2
}
