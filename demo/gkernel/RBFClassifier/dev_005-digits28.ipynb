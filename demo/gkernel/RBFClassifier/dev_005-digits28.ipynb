{
 "cells": [
  {
   "cell_type": "code",
   "execution_count": 1,
   "metadata": {},
   "outputs": [
    {
     "name": "stderr",
     "output_type": "stream",
     "text": [
      "Using TensorFlow backend.\n"
     ]
    }
   ],
   "source": [
    "%matplotlib inline\n",
    "import os, sys\n",
    "\n",
    "import numpy as np\n",
    "import matplotlib.pyplot as plt\n",
    "from sklearn import datasets, linear_model\n",
    "from sklearn.metrics import f1_score, classification_report, confusion_matrix, make_scorer\n",
    "from sklearn.preprocessing import OneHotEncoder\n",
    "from sklearn.model_selection import train_test_split\n",
    "\n",
    "import keras\n",
    "from keras.models import Sequential\n",
    "from keras.utils import to_categorical\n",
    "from keras.layers import Input, Dense\n",
    "from keras.models import Model\n",
    "from keras.optimizers import SGD\n",
    "from keras import regularizers\n",
    "from keras.wrappers.scikit_learn import KerasClassifier, KerasRegressor\n",
    "from keras import backend as K\n",
    "import tensorflow as tf"
   ]
  },
  {
   "cell_type": "code",
   "execution_count": 2,
   "metadata": {
    "collapsed": true
   },
   "outputs": [],
   "source": [
    "sys.path.append('/home/admin/github/wordroid.sblo.jp/lib')\n",
    "#from gkernel import GaussianKernel, GaussianKernel2, GaussianKernel3\n",
    "from keras_ex.gkernel import GaussianKernel, GaussianKernel2, GaussianKernel3\n",
    "from keras_ex.gkernel.sklearn import (\n",
    "    RBFRegressor, RBFClassifier,\n",
    "    make_model_gkernel1,\n",
    "    make_model_gkernel2,\n",
    "    make_model_gkernel3,\n",
    "    make_model_out,\n",
    "    make_model\n",
    ")"
   ]
  },
  {
   "cell_type": "code",
   "execution_count": 3,
   "metadata": {
    "collapsed": true
   },
   "outputs": [],
   "source": [
    "# from sklearn.datasets import load_digits\n",
    "# digits = load_digits()\n",
    "# X, y = digits.data, digits.target\n",
    "# X = X / 16\n",
    "# X.shape, X.min(), X.max()"
   ]
  },
  {
   "cell_type": "code",
   "execution_count": 4,
   "metadata": {},
   "outputs": [
    {
     "name": "stderr",
     "output_type": "stream",
     "text": [
      "/home/admin/miniconda3/envs/da02/lib/python3.6/site-packages/sklearn/utils/deprecation.py:77: DeprecationWarning: Function fetch_mldata is deprecated; fetch_mldata was deprecated in version 0.20 and will be removed in version 0.22\n",
      "  warnings.warn(msg, category=DeprecationWarning)\n",
      "/home/admin/miniconda3/envs/da02/lib/python3.6/site-packages/sklearn/utils/deprecation.py:77: DeprecationWarning: Function mldata_filename is deprecated; mldata_filename was deprecated in version 0.20 and will be removed in version 0.22\n",
      "  warnings.warn(msg, category=DeprecationWarning)\n"
     ]
    },
    {
     "data": {
      "text/plain": [
       "{'COL_NAMES': ['label', 'data'],\n",
       " 'DESCR': 'mldata.org dataset: mnist-original',\n",
       " 'data': array([[0, 0, 0, ..., 0, 0, 0],\n",
       "        [0, 0, 0, ..., 0, 0, 0],\n",
       "        [0, 0, 0, ..., 0, 0, 0],\n",
       "        ...,\n",
       "        [0, 0, 0, ..., 0, 0, 0],\n",
       "        [0, 0, 0, ..., 0, 0, 0],\n",
       "        [0, 0, 0, ..., 0, 0, 0]], dtype=uint8),\n",
       " 'target': array([0., 0., 0., ..., 9., 9., 9.])}"
      ]
     },
     "execution_count": 4,
     "metadata": {},
     "output_type": "execute_result"
    }
   ],
   "source": [
    "from sklearn.datasets import fetch_mldata\n",
    "mnist = fetch_mldata('MNIST original')\n",
    "mnist"
   ]
  },
  {
   "cell_type": "code",
   "execution_count": 5,
   "metadata": {},
   "outputs": [
    {
     "data": {
      "text/plain": [
       "((70000, 784), 0.0, 1.0)"
      ]
     },
     "execution_count": 5,
     "metadata": {},
     "output_type": "execute_result"
    }
   ],
   "source": [
    "X, y = mnist.data, mnist.target\n",
    "X = X / 255\n",
    "X.shape, X.min(), X.max()"
   ]
  },
  {
   "cell_type": "code",
   "execution_count": 6,
   "metadata": {},
   "outputs": [
    {
     "data": {
      "text/plain": [
       "(70000,)"
      ]
     },
     "execution_count": 6,
     "metadata": {},
     "output_type": "execute_result"
    }
   ],
   "source": [
    "y.shape"
   ]
  },
  {
   "cell_type": "code",
   "execution_count": 7,
   "metadata": {},
   "outputs": [
    {
     "data": {
      "text/plain": [
       "(70000, 10)"
      ]
     },
     "execution_count": 7,
     "metadata": {},
     "output_type": "execute_result"
    }
   ],
   "source": [
    "y_cat = to_categorical(y, num_classes=10)\n",
    "y_cat.shape"
   ]
  },
  {
   "cell_type": "code",
   "execution_count": 8,
   "metadata": {},
   "outputs": [
    {
     "data": {
      "text/plain": [
       "((42000, 784), (28000, 784), (42000, 10), (28000, 10), (42000,), (28000,))"
      ]
     },
     "execution_count": 8,
     "metadata": {},
     "output_type": "execute_result"
    }
   ],
   "source": [
    "(\n",
    "    x_train, x_test,\n",
    "    y_cat_train, y_cat_test,\n",
    "    y_train, y_test\n",
    ") = train_test_split(X, y_cat, y,\n",
    "                     test_size=0.4,\n",
    "                     stratify=y, random_state=10002)\n",
    "\n",
    "(\n",
    "    x_train.shape, x_test.shape,\n",
    "    y_cat_train.shape, y_cat_test.shape,\n",
    "    y_train.shape, y_test.shape\n",
    ")"
   ]
  },
  {
   "cell_type": "code",
   "execution_count": null,
   "metadata": {
    "collapsed": true
   },
   "outputs": [],
   "source": []
  },
  {
   "cell_type": "code",
   "execution_count": null,
   "metadata": {
    "collapsed": true
   },
   "outputs": [],
   "source": []
  },
  {
   "cell_type": "code",
   "execution_count": 9,
   "metadata": {
    "collapsed": true
   },
   "outputs": [],
   "source": [
    "from sklearn.model_selection import StratifiedShuffleSplit, GridSearchCV, validation_curve\n",
    "from sklearn.feature_selection import RFECV\n",
    "from sklearn.linear_model import LogisticRegression, Lasso\n",
    "import pandas as pd\n",
    "from sklearn.metrics import mean_squared_error, mean_absolute_error, roc_auc_score, r2_score, make_scorer\n",
    "from sklearn.metrics.pairwise import cosine_similarity, euclidean_distances\n",
    "import joblib\n",
    "\n",
    "from lightgbm import LGBMClassifier"
   ]
  },
  {
   "cell_type": "code",
   "execution_count": 10,
   "metadata": {
    "collapsed": true
   },
   "outputs": [],
   "source": [
    "import warnings\n",
    "warnings.filterwarnings('ignore')"
   ]
  },
  {
   "cell_type": "code",
   "execution_count": 11,
   "metadata": {
    "collapsed": true
   },
   "outputs": [],
   "source": [
    "def f1_scorer(estimator, X, y):\n",
    "    pred = estimator.predict(X)\n",
    "    s = f1_score(y, pred, average='macro')\n",
    "    return s"
   ]
  },
  {
   "cell_type": "markdown",
   "metadata": {},
   "source": [
    "## clf1"
   ]
  },
  {
   "cell_type": "code",
   "execution_count": 12,
   "metadata": {
    "collapsed": true
   },
   "outputs": [],
   "source": [
    "clf1 = RBFClassifier(\n",
    "    num_lm=150,\n",
    "    lm_select_from_x=True,\n",
    "    random_state=10001,\n",
    "    #make_model_gkernel=make_model_gkernel3,\n",
    "    #tol=float(np.sqrt(np.finfo(np.float32).eps)/2),\n",
    "    lr=0.05, gamma='scale',\n",
    "    epochs=50, batch_size=500, verbose=0,\n",
    "    session_clear=False\n",
    ")\n",
    "# clf1 = LGBMClassifier(min_child_samples=50, reg_alpha=0.1)"
   ]
  },
  {
   "cell_type": "code",
   "execution_count": 13,
   "metadata": {},
   "outputs": [
    {
     "name": "stderr",
     "output_type": "stream",
     "text": [
      "WARNING: Logging before flag parsing goes to stderr.\n",
      "W1007 21:36:01.876602 140255110289216 deprecation_wrapper.py:119] From /home/admin/miniconda3/envs/da02/lib/python3.6/site-packages/keras/backend/tensorflow_backend.py:517: The name tf.placeholder is deprecated. Please use tf.compat.v1.placeholder instead.\n",
      "\n",
      "W1007 21:36:01.891154 140255110289216 deprecation_wrapper.py:119] From /home/admin/miniconda3/envs/da02/lib/python3.6/site-packages/keras/backend/tensorflow_backend.py:4138: The name tf.random_uniform is deprecated. Please use tf.random.uniform instead.\n",
      "\n",
      "W1007 21:36:01.899118 140255110289216 deprecation_wrapper.py:119] From /home/admin/miniconda3/envs/da02/lib/python3.6/site-packages/keras/backend/tensorflow_backend.py:174: The name tf.get_default_session is deprecated. Please use tf.compat.v1.get_default_session instead.\n",
      "\n",
      "W1007 21:36:01.899920 140255110289216 deprecation_wrapper.py:119] From /home/admin/miniconda3/envs/da02/lib/python3.6/site-packages/keras/backend/tensorflow_backend.py:181: The name tf.ConfigProto is deprecated. Please use tf.compat.v1.ConfigProto instead.\n",
      "\n",
      "W1007 21:36:01.900598 140255110289216 deprecation_wrapper.py:119] From /home/admin/miniconda3/envs/da02/lib/python3.6/site-packages/keras/backend/tensorflow_backend.py:186: The name tf.Session is deprecated. Please use tf.compat.v1.Session instead.\n",
      "\n",
      "W1007 21:36:02.012406 140255110289216 deprecation_wrapper.py:119] From /home/admin/miniconda3/envs/da02/lib/python3.6/site-packages/keras/optimizers.py:790: The name tf.train.Optimizer is deprecated. Please use tf.compat.v1.train.Optimizer instead.\n",
      "\n",
      "W1007 21:36:02.094169 140255110289216 deprecation.py:323] From /home/admin/miniconda3/envs/da02/lib/python3.6/site-packages/tensorflow/python/ops/math_grad.py:1250: add_dispatch_support.<locals>.wrapper (from tensorflow.python.ops.array_ops) is deprecated and will be removed in a future version.\n",
      "Instructions for updating:\n",
      "Use tf.where in 2.0, which has the same broadcast rule as np.where\n"
     ]
    },
    {
     "name": "stdout",
     "output_type": "stream",
     "text": [
      "CPU times: user 2min 23s, sys: 5.18 s, total: 2min 28s\n",
      "Wall time: 1min 23s\n"
     ]
    }
   ],
   "source": [
    "%%time\n",
    "#hst = clf1.fit(x_train, y_cat_train)\n",
    "hst = clf1.fit(x_train, y_train)"
   ]
  },
  {
   "cell_type": "code",
   "execution_count": 14,
   "metadata": {},
   "outputs": [
    {
     "data": {
      "text/plain": [
       "<matplotlib.legend.Legend at 0x7f8f166bcc50>"
      ]
     },
     "execution_count": 14,
     "metadata": {},
     "output_type": "execute_result"
    },
    {
     "data": {
      "image/png": "[encoded data removed]",
      "text/plain": [
       "<matplotlib.figure.Figure at 0x7f8f1c05af98>"
      ]
     },
     "metadata": {},
     "output_type": "display_data"
    }
   ],
   "source": [
    "fig, ax = plt.subplots(1, 3, figsize=(20,5))\n",
    "ax[0].set_title('loss')\n",
    "ax[0].plot(list(range(len(hst[\"loss\"]))), hst[\"loss\"], label=\"Train loss\")\n",
    "ax[1].set_title('accuracy')\n",
    "ax[1].plot(list(range(len(hst[\"loss\"]))), hst[\"acc\"], label=\"accuracy\")\n",
    "ax[2].set_title('learning rate')\n",
    "ax[2].plot(list(range(len(hst[\"loss\"]))), hst[\"lr\"], label=\"learning rate\")\n",
    "ax[0].legend()\n",
    "ax[1].legend()\n",
    "ax[2].legend()"
   ]
  },
  {
   "cell_type": "code",
   "execution_count": 15,
   "metadata": {},
   "outputs": [
    {
     "data": {
      "text/plain": [
       "(42000,)"
      ]
     },
     "execution_count": 15,
     "metadata": {},
     "output_type": "execute_result"
    }
   ],
   "source": [
    "pred = clf1.predict(x_train)\n",
    "pred.shape"
   ]
  },
  {
   "cell_type": "code",
   "execution_count": 16,
   "metadata": {},
   "outputs": [
    {
     "data": {
      "text/plain": [
       "array([2., 9., 9., ..., 8., 4., 1.])"
      ]
     },
     "execution_count": 16,
     "metadata": {},
     "output_type": "execute_result"
    }
   ],
   "source": [
    "pred"
   ]
  },
  {
   "cell_type": "code",
   "execution_count": 17,
   "metadata": {},
   "outputs": [
    {
     "name": "stdout",
     "output_type": "stream",
     "text": [
      "F1_SCORE : 0.9380658257048072\n",
      "              precision    recall  f1-score   support\n",
      "\n",
      "         0.0       0.97      0.98      0.97      4142\n",
      "         1.0       0.97      0.98      0.97      4726\n",
      "         2.0       0.93      0.93      0.93      4194\n",
      "         3.0       0.93      0.91      0.92      4285\n",
      "         4.0       0.93      0.94      0.93      4094\n",
      "         5.0       0.92      0.92      0.92      3788\n",
      "         6.0       0.96      0.96      0.96      4125\n",
      "         7.0       0.94      0.94      0.94      4376\n",
      "         8.0       0.92      0.91      0.92      4095\n",
      "         9.0       0.91      0.91      0.91      4175\n",
      "\n",
      "   micro avg       0.94      0.94      0.94     42000\n",
      "   macro avg       0.94      0.94      0.94     42000\n",
      "weighted avg       0.94      0.94      0.94     42000\n",
      "\n",
      "[[4039    0   10    4    9   29   22    8   17    4]\n",
      " [   1 4612   21   11    8   11    7   13   36    6]\n",
      " [  18   19 3900   43   51   16   23   53   61   10]\n",
      " [   7   14   85 3918    5  109    7   38   68   34]\n",
      " [  10    6   23    4 3855    1   37   10   21  127]\n",
      " [  21   11   22   88   29 3475   45   10   58   29]\n",
      " [  32    9   12    2   24   50 3974    1   20    1]\n",
      " [   6   20   52    8   39    7    1 4126   11  106]\n",
      " [  12   35   43   95   18   69   34    9 3739   41]\n",
      " [  25   15    8   55  119   25    3   99   36 3790]]\n"
     ]
    }
   ],
   "source": [
    "print('F1_SCORE :', f1_score(y_train, pred, average='macro'))\n",
    "print(classification_report(y_train, pred))\n",
    "print(confusion_matrix(y_train, pred))"
   ]
  },
  {
   "cell_type": "code",
   "execution_count": 18,
   "metadata": {},
   "outputs": [
    {
     "data": {
      "text/plain": [
       "(28000,)"
      ]
     },
     "execution_count": 18,
     "metadata": {},
     "output_type": "execute_result"
    }
   ],
   "source": [
    "pred_test = clf1.predict(x_test)\n",
    "pred_test.shape"
   ]
  },
  {
   "cell_type": "code",
   "execution_count": 19,
   "metadata": {},
   "outputs": [
    {
     "name": "stdout",
     "output_type": "stream",
     "text": [
      "F1_SCORE : 0.9352672837701773\n",
      "              precision    recall  f1-score   support\n",
      "\n",
      "         0.0       0.96      0.98      0.97      2761\n",
      "         1.0       0.97      0.98      0.97      3151\n",
      "         2.0       0.93      0.92      0.92      2796\n",
      "         3.0       0.92      0.91      0.92      2856\n",
      "         4.0       0.92      0.94      0.93      2730\n",
      "         5.0       0.91      0.92      0.91      2525\n",
      "         6.0       0.96      0.96      0.96      2751\n",
      "         7.0       0.95      0.94      0.94      2917\n",
      "         8.0       0.92      0.91      0.91      2730\n",
      "         9.0       0.91      0.91      0.91      2783\n",
      "\n",
      "   micro avg       0.94      0.94      0.94     28000\n",
      "   macro avg       0.94      0.94      0.94     28000\n",
      "weighted avg       0.94      0.94      0.94     28000\n",
      "\n",
      "[[2694    0    9    1    0   20   17    2   13    5]\n",
      " [   1 3079   10   12    1   11    4    5   18   10]\n",
      " [  16   15 2573   30   44    7   20   23   62    6]\n",
      " [   2    3   50 2606    1   89    7   29   46   23]\n",
      " [  11    9   18    4 2554    4   21    8   10   91]\n",
      " [  18    5   13   63   16 2317   32    4   37   20]\n",
      " [  24    6   19    1   27   23 2642    1    6    2]\n",
      " [   7   12   46    6   33    4    1 2746    6   56]\n",
      " [  12   27   20   74   17   50   19    8 2474   29]\n",
      " [  12   11   11   26   81   16    3   71   28 2524]]\n"
     ]
    }
   ],
   "source": [
    "print('F1_SCORE :', f1_score(y_test, pred_test, average='macro'))\n",
    "print(classification_report(y_test, pred_test))\n",
    "print(confusion_matrix(y_test, pred_test))"
   ]
  },
  {
   "cell_type": "code",
   "execution_count": null,
   "metadata": {
    "collapsed": true
   },
   "outputs": [],
   "source": []
  },
  {
   "cell_type": "markdown",
   "metadata": {},
   "source": [
    "## clf2"
   ]
  },
  {
   "cell_type": "code",
   "execution_count": 20,
   "metadata": {
    "collapsed": true
   },
   "outputs": [],
   "source": [
    "clf2 = RBFClassifier(\n",
    "    num_lm=150,\n",
    "    lm_select_from_x=True,\n",
    "    random_state=10002,\n",
    "    #make_model_gkernel=make_model_gkernel3,\n",
    "    #tol=float(np.sqrt(np.finfo(np.float32).eps)/2),\n",
    "    lr=0.05, gamma='scale',\n",
    "    epochs=50, batch_size=500, verbose=0,\n",
    "    session_clear=False\n",
    ")\n",
    "# clf2 = LGBMClassifier(min_child_samples=50, reg_alpha=0.1)"
   ]
  },
  {
   "cell_type": "code",
   "execution_count": 21,
   "metadata": {},
   "outputs": [
    {
     "name": "stdout",
     "output_type": "stream",
     "text": [
      "CPU times: user 2min 23s, sys: 2.42 s, total: 2min 25s\n",
      "Wall time: 1min 18s\n"
     ]
    }
   ],
   "source": [
    "%%time\n",
    "#hst = clf2.fit(x_train, y_cat_train)\n",
    "hst = clf2.fit(x_train, y_train)"
   ]
  },
  {
   "cell_type": "code",
   "execution_count": 22,
   "metadata": {},
   "outputs": [
    {
     "data": {
      "text/plain": [
       "<matplotlib.legend.Legend at 0x7f8f144defd0>"
      ]
     },
     "execution_count": 22,
     "metadata": {},
     "output_type": "execute_result"
    },
    {
     "data": {
      "image/png": "[encoded data removed]",
      "text/plain": [
       "<matplotlib.figure.Figure at 0x7f8f14611f28>"
      ]
     },
     "metadata": {},
     "output_type": "display_data"
    }
   ],
   "source": [
    "fig, ax = plt.subplots(1, 3, figsize=(20,5))\n",
    "ax[0].set_title('loss')\n",
    "ax[0].plot(list(range(len(hst[\"loss\"]))), hst[\"loss\"], label=\"Train loss\")\n",
    "ax[1].set_title('accuracy')\n",
    "ax[1].plot(list(range(len(hst[\"loss\"]))), hst[\"acc\"], label=\"accuracy\")\n",
    "ax[2].set_title('learning rate')\n",
    "ax[2].plot(list(range(len(hst[\"loss\"]))), hst[\"lr\"], label=\"learning rate\")\n",
    "ax[0].legend()\n",
    "ax[1].legend()\n",
    "ax[2].legend()"
   ]
  },
  {
   "cell_type": "code",
   "execution_count": 23,
   "metadata": {},
   "outputs": [
    {
     "data": {
      "text/plain": [
       "(42000,)"
      ]
     },
     "execution_count": 23,
     "metadata": {},
     "output_type": "execute_result"
    }
   ],
   "source": [
    "pred = clf2.predict(x_train)\n",
    "pred.shape"
   ]
  },
  {
   "cell_type": "code",
   "execution_count": 24,
   "metadata": {},
   "outputs": [
    {
     "data": {
      "text/plain": [
       "array([2., 9., 9., ..., 8., 4., 1.])"
      ]
     },
     "execution_count": 24,
     "metadata": {},
     "output_type": "execute_result"
    }
   ],
   "source": [
    "pred"
   ]
  },
  {
   "cell_type": "code",
   "execution_count": 25,
   "metadata": {},
   "outputs": [
    {
     "name": "stdout",
     "output_type": "stream",
     "text": [
      "F1_SCORE : 0.9378458133060084\n",
      "              precision    recall  f1-score   support\n",
      "\n",
      "         0.0       0.97      0.98      0.97      4142\n",
      "         1.0       0.97      0.98      0.97      4726\n",
      "         2.0       0.93      0.93      0.93      4194\n",
      "         3.0       0.92      0.91      0.92      4285\n",
      "         4.0       0.92      0.94      0.93      4094\n",
      "         5.0       0.92      0.92      0.92      3788\n",
      "         6.0       0.96      0.97      0.96      4125\n",
      "         7.0       0.94      0.94      0.94      4376\n",
      "         8.0       0.93      0.91      0.92      4095\n",
      "         9.0       0.92      0.90      0.91      4175\n",
      "\n",
      "   micro avg       0.94      0.94      0.94     42000\n",
      "   macro avg       0.94      0.94      0.94     42000\n",
      "weighted avg       0.94      0.94      0.94     42000\n",
      "\n",
      "[[4042    0   13    6    8   18   21   11   21    2]\n",
      " [   0 4618   24   11    9   10    4   14   31    5]\n",
      " [  20   20 3887   51   54   20   35   48   47   12]\n",
      " [   5   17   81 3911    2  127    9   36   69   28]\n",
      " [   8    7   31    2 3852    2   39    9   19  125]\n",
      " [  22   10   20  108   25 3484   49    9   44   17]\n",
      " [  23    3   19    1   20   40 3998    1   20    0]\n",
      " [  12   21   44   14   43    7    1 4118   11  105]\n",
      " [  21   42   49   97   14   61   26    8 3736   41]\n",
      " [  22   16   13   48  143   19    3  112   27 3772]]\n"
     ]
    }
   ],
   "source": [
    "print('F1_SCORE :', f1_score(y_train, pred, average='macro'))\n",
    "print(classification_report(y_train, pred))\n",
    "print(confusion_matrix(y_train, pred))"
   ]
  },
  {
   "cell_type": "code",
   "execution_count": 26,
   "metadata": {},
   "outputs": [
    {
     "data": {
      "text/plain": [
       "(28000,)"
      ]
     },
     "execution_count": 26,
     "metadata": {},
     "output_type": "execute_result"
    }
   ],
   "source": [
    "pred_test = clf2.predict(x_test)\n",
    "pred_test.shape"
   ]
  },
  {
   "cell_type": "code",
   "execution_count": 27,
   "metadata": {},
   "outputs": [
    {
     "name": "stdout",
     "output_type": "stream",
     "text": [
      "F1_SCORE : 0.9351327003928022\n",
      "              precision    recall  f1-score   support\n",
      "\n",
      "         0.0       0.97      0.98      0.97      2761\n",
      "         1.0       0.98      0.98      0.98      3151\n",
      "         2.0       0.92      0.93      0.92      2796\n",
      "         3.0       0.92      0.91      0.92      2856\n",
      "         4.0       0.92      0.93      0.93      2730\n",
      "         5.0       0.92      0.92      0.92      2525\n",
      "         6.0       0.95      0.96      0.96      2751\n",
      "         7.0       0.95      0.93      0.94      2917\n",
      "         8.0       0.91      0.91      0.91      2730\n",
      "         9.0       0.91      0.90      0.91      2783\n",
      "\n",
      "   micro avg       0.94      0.94      0.94     28000\n",
      "   macro avg       0.94      0.94      0.94     28000\n",
      "weighted avg       0.94      0.94      0.94     28000\n",
      "\n",
      "[[2698    0   15    1    0   12   15    4   14    2]\n",
      " [   1 3086   13   11    1    6    2    5   19    7]\n",
      " [   7   10 2590   31   44    7   24   19   61    3]\n",
      " [   7    5   43 2604    0   92    8   26   49   22]\n",
      " [   6   12   27    3 2547    0   23    4   17   91]\n",
      " [  10    5   15   72   11 2326   35    6   36    9]\n",
      " [  18    4   20    2   22   23 2649    2   10    1]\n",
      " [   9   16   45    9   34    4    2 2717    6   75]\n",
      " [  11   20   28   70   18   50   19    5 2483   26]\n",
      " [  14    6   17   19   98   14    2   87   22 2504]]\n"
     ]
    }
   ],
   "source": [
    "print('F1_SCORE :', f1_score(y_test, pred_test, average='macro'))\n",
    "print(classification_report(y_test, pred_test))\n",
    "print(confusion_matrix(y_test, pred_test))"
   ]
  },
  {
   "cell_type": "code",
   "execution_count": null,
   "metadata": {
    "collapsed": true
   },
   "outputs": [],
   "source": []
  },
  {
   "cell_type": "markdown",
   "metadata": {},
   "source": [
    "## clf3"
   ]
  },
  {
   "cell_type": "code",
   "execution_count": 28,
   "metadata": {
    "collapsed": true
   },
   "outputs": [],
   "source": [
    "clf3 = RBFClassifier(\n",
    "    num_lm=150,\n",
    "    lm_select_from_x=True,\n",
    "    random_state=10003,\n",
    "    #make_model_gkernel=make_model_gkernel3,\n",
    "    #tol=float(np.sqrt(np.finfo(np.float32).eps)/2),\n",
    "    lr=0.05, gamma='scale',\n",
    "    epochs=50, batch_size=500, verbose=0,\n",
    "    session_clear=False\n",
    ")\n",
    "# clf3 = LGBMClassifier(min_child_samples=50, reg_alpha=0.1)"
   ]
  },
  {
   "cell_type": "code",
   "execution_count": 29,
   "metadata": {},
   "outputs": [
    {
     "name": "stdout",
     "output_type": "stream",
     "text": [
      "CPU times: user 2min 18s, sys: 2.44 s, total: 2min 20s\n",
      "Wall time: 1min 21s\n"
     ]
    }
   ],
   "source": [
    "%%time\n",
    "#hst = clf3.fit(x_train, y_cat_train)\n",
    "hst = clf3.fit(x_train, y_train)"
   ]
  },
  {
   "cell_type": "code",
   "execution_count": 30,
   "metadata": {},
   "outputs": [
    {
     "data": {
      "text/plain": [
       "<matplotlib.legend.Legend at 0x7f8ef7024b38>"
      ]
     },
     "execution_count": 30,
     "metadata": {},
     "output_type": "execute_result"
    },
    {
     "data": {
      "image/png": "[encoded data removed]",
      "text/plain": [
       "<matplotlib.figure.Figure at 0x7f8f1460cd68>"
      ]
     },
     "metadata": {},
     "output_type": "display_data"
    }
   ],
   "source": [
    "fig, ax = plt.subplots(1, 3, figsize=(20,5))\n",
    "ax[0].set_title('loss')\n",
    "ax[0].plot(list(range(len(hst[\"loss\"]))), hst[\"loss\"], label=\"Train loss\")\n",
    "ax[1].set_title('accuracy')\n",
    "ax[1].plot(list(range(len(hst[\"loss\"]))), hst[\"acc\"], label=\"accuracy\")\n",
    "ax[2].set_title('learning rate')\n",
    "ax[2].plot(list(range(len(hst[\"loss\"]))), hst[\"lr\"], label=\"learning rate\")\n",
    "ax[0].legend()\n",
    "ax[1].legend()\n",
    "ax[2].legend()"
   ]
  },
  {
   "cell_type": "code",
   "execution_count": 31,
   "metadata": {},
   "outputs": [
    {
     "data": {
      "text/plain": [
       "(42000,)"
      ]
     },
     "execution_count": 31,
     "metadata": {},
     "output_type": "execute_result"
    }
   ],
   "source": [
    "pred = clf3.predict(x_train)\n",
    "pred.shape"
   ]
  },
  {
   "cell_type": "code",
   "execution_count": 32,
   "metadata": {},
   "outputs": [
    {
     "data": {
      "text/plain": [
       "array([2., 9., 9., ..., 8., 4., 1.])"
      ]
     },
     "execution_count": 32,
     "metadata": {},
     "output_type": "execute_result"
    }
   ],
   "source": [
    "pred"
   ]
  },
  {
   "cell_type": "code",
   "execution_count": 33,
   "metadata": {},
   "outputs": [
    {
     "name": "stdout",
     "output_type": "stream",
     "text": [
      "F1_SCORE : 0.9325468535613665\n",
      "              precision    recall  f1-score   support\n",
      "\n",
      "         0.0       0.97      0.97      0.97      4142\n",
      "         1.0       0.97      0.97      0.97      4726\n",
      "         2.0       0.92      0.92      0.92      4194\n",
      "         3.0       0.92      0.92      0.92      4285\n",
      "         4.0       0.93      0.94      0.93      4094\n",
      "         5.0       0.90      0.91      0.91      3788\n",
      "         6.0       0.95      0.96      0.95      4125\n",
      "         7.0       0.94      0.93      0.93      4376\n",
      "         8.0       0.91      0.90      0.91      4095\n",
      "         9.0       0.91      0.90      0.90      4175\n",
      "\n",
      "   micro avg       0.93      0.93      0.93     42000\n",
      "   macro avg       0.93      0.93      0.93     42000\n",
      "weighted avg       0.93      0.93      0.93     42000\n",
      "\n",
      "[[4033    0    9    7    5   27   26    6   17   12]\n",
      " [   0 4606   24   12    8   21    4   15   31    5]\n",
      " [  20   19 3860   47   49   15   44   55   72   13]\n",
      " [   8   21   78 3926    5  110    8   31   72   26]\n",
      " [  10   10   23    0 3856    4   34   12   18  127]\n",
      " [  19   15   25   92   22 3461   58   19   59   18]\n",
      " [  30    9   19    5   33   56 3951    2   20    0]\n",
      " [  18   24   67    9   32   18    0 4063   19  126]\n",
      " [  14   43   60  107   16   84   27   11 3688   45]\n",
      " [  19   19   18   49  132   30    3  113   38 3754]]\n"
     ]
    }
   ],
   "source": [
    "print('F1_SCORE :', f1_score(y_train, pred, average='macro'))\n",
    "print(classification_report(y_train, pred))\n",
    "print(confusion_matrix(y_train, pred))"
   ]
  },
  {
   "cell_type": "code",
   "execution_count": 34,
   "metadata": {},
   "outputs": [
    {
     "data": {
      "text/plain": [
       "(28000,)"
      ]
     },
     "execution_count": 34,
     "metadata": {},
     "output_type": "execute_result"
    }
   ],
   "source": [
    "pred_test = clf3.predict(x_test)\n",
    "pred_test.shape"
   ]
  },
  {
   "cell_type": "code",
   "execution_count": 35,
   "metadata": {},
   "outputs": [
    {
     "name": "stdout",
     "output_type": "stream",
     "text": [
      "F1_SCORE : 0.9318543544269613\n",
      "              precision    recall  f1-score   support\n",
      "\n",
      "         0.0       0.96      0.98      0.97      2761\n",
      "         1.0       0.97      0.98      0.97      3151\n",
      "         2.0       0.92      0.92      0.92      2796\n",
      "         3.0       0.93      0.91      0.92      2856\n",
      "         4.0       0.93      0.93      0.93      2730\n",
      "         5.0       0.92      0.91      0.91      2525\n",
      "         6.0       0.95      0.96      0.95      2751\n",
      "         7.0       0.93      0.93      0.93      2917\n",
      "         8.0       0.90      0.90      0.90      2730\n",
      "         9.0       0.91      0.90      0.90      2783\n",
      "\n",
      "   micro avg       0.93      0.93      0.93     28000\n",
      "   macro avg       0.93      0.93      0.93     28000\n",
      "weighted avg       0.93      0.93      0.93     28000\n",
      "\n",
      "[[2694    0    7    3    1   17   15    3   12    9]\n",
      " [   1 3077   12   12    3   13    4    5   17    7]\n",
      " [   8   12 2572   23   36    9   37   28   66    5]\n",
      " [   7    5   50 2601    0   74    8   28   59   24]\n",
      " [   8   11   20    0 2551    3   20    8   13   96]\n",
      " [  18   10   19   58   16 2292   29   13   54   16]\n",
      " [  19    7   20    2   25   25 2641    1    9    2]\n",
      " [  15   13   53    8   25    2    1 2724    7   69]\n",
      " [  13   25   33   74   15   47   23   12 2464   24]\n",
      " [  11   11   17   23   83   20    2   94   24 2498]]\n"
     ]
    }
   ],
   "source": [
    "print('F1_SCORE :', f1_score(y_test, pred_test, average='macro'))\n",
    "print(classification_report(y_test, pred_test))\n",
    "print(confusion_matrix(y_test, pred_test))"
   ]
  },
  {
   "cell_type": "code",
   "execution_count": null,
   "metadata": {
    "collapsed": true
   },
   "outputs": [],
   "source": []
  },
  {
   "cell_type": "code",
   "execution_count": null,
   "metadata": {
    "collapsed": true
   },
   "outputs": [],
   "source": []
  },
  {
   "cell_type": "code",
   "execution_count": 36,
   "metadata": {
    "collapsed": true
   },
   "outputs": [],
   "source": [
    "clfs = [clf1, clf2, clf3]"
   ]
  },
  {
   "cell_type": "code",
   "execution_count": 37,
   "metadata": {
    "collapsed": true
   },
   "outputs": [],
   "source": [
    "pred_proba = [clf.predict_proba(x_train) for clf in clfs]"
   ]
  },
  {
   "cell_type": "code",
   "execution_count": 38,
   "metadata": {},
   "outputs": [
    {
     "data": {
      "text/plain": [
       "(42000, 10)"
      ]
     },
     "execution_count": 38,
     "metadata": {},
     "output_type": "execute_result"
    }
   ],
   "source": [
    "np.stack(pred_proba).mean(axis=0).shape"
   ]
  },
  {
   "cell_type": "code",
   "execution_count": 39,
   "metadata": {},
   "outputs": [
    {
     "name": "stdout",
     "output_type": "stream",
     "text": [
      "F1_SCORE : 0.9418468613253521\n",
      "              precision    recall  f1-score   support\n",
      "\n",
      "         0.0       0.97      0.98      0.97      4142\n",
      "         1.0       0.97      0.98      0.97      4726\n",
      "         2.0       0.93      0.93      0.93      4194\n",
      "         3.0       0.93      0.92      0.93      4285\n",
      "         4.0       0.93      0.95      0.94      4094\n",
      "         5.0       0.92      0.93      0.93      3788\n",
      "         6.0       0.96      0.97      0.96      4125\n",
      "         7.0       0.95      0.94      0.94      4376\n",
      "         8.0       0.93      0.92      0.92      4095\n",
      "         9.0       0.92      0.91      0.92      4175\n",
      "\n",
      "   micro avg       0.94      0.94      0.94     42000\n",
      "   macro avg       0.94      0.94      0.94     42000\n",
      "weighted avg       0.94      0.94      0.94     42000\n",
      "\n",
      "[[4056    0   12    6    6   15   20    8   16    3]\n",
      " [   0 4619   20   11    8   15    6   14   28    5]\n",
      " [  19   18 3905   41   48   16   32   50   54   11]\n",
      " [   7   18   75 3938    5  104    9   32   69   28]\n",
      " [   8    9   22    2 3876    2   36   10   17  112]\n",
      " [  19   11   21   77   29 3519   48    8   36   20]\n",
      " [  27    6   12    2   23   48 3987    1   18    1]\n",
      " [  13   20   56    9   34    9    1 4122   11  101]\n",
      " [  16   37   45   89   18   63   26    8 3752   41]\n",
      " [  25   17   11   50  112   24    3   97   27 3809]]\n"
     ]
    }
   ],
   "source": [
    "print('F1_SCORE :', f1_score(y_train, np.argmax(np.stack(pred_proba).mean(axis=0), axis=1), average='macro'))\n",
    "print(classification_report(y_train, np.argmax(np.stack(pred_proba).mean(axis=0), axis=1)))\n",
    "print(confusion_matrix(y_train, np.argmax(np.stack(pred_proba).mean(axis=0), axis=1)))"
   ]
  },
  {
   "cell_type": "code",
   "execution_count": 40,
   "metadata": {
    "collapsed": true
   },
   "outputs": [],
   "source": [
    "pred_proba_test = [clf.predict_proba(x_test) for clf in clfs]"
   ]
  },
  {
   "cell_type": "code",
   "execution_count": 41,
   "metadata": {},
   "outputs": [
    {
     "data": {
      "text/plain": [
       "(28000, 10)"
      ]
     },
     "execution_count": 41,
     "metadata": {},
     "output_type": "execute_result"
    }
   ],
   "source": [
    "np.stack(pred_proba_test).mean(axis=0).shape"
   ]
  },
  {
   "cell_type": "code",
   "execution_count": 42,
   "metadata": {},
   "outputs": [
    {
     "name": "stdout",
     "output_type": "stream",
     "text": [
      "F1_SCORE : 0.9406496614458144\n",
      "              precision    recall  f1-score   support\n",
      "\n",
      "         0.0       0.97      0.98      0.98      2761\n",
      "         1.0       0.97      0.98      0.98      3151\n",
      "         2.0       0.93      0.93      0.93      2796\n",
      "         3.0       0.93      0.92      0.93      2856\n",
      "         4.0       0.93      0.94      0.93      2730\n",
      "         5.0       0.92      0.93      0.93      2525\n",
      "         6.0       0.96      0.97      0.96      2751\n",
      "         7.0       0.95      0.94      0.94      2917\n",
      "         8.0       0.92      0.92      0.92      2730\n",
      "         9.0       0.92      0.91      0.92      2783\n",
      "\n",
      "   micro avg       0.94      0.94      0.94     28000\n",
      "   macro avg       0.94      0.94      0.94     28000\n",
      "weighted avg       0.94      0.94      0.94     28000\n",
      "\n",
      "[[2706    1    7    1    0   15   14    3   11    3]\n",
      " [   1 3083   11   12    2   10    2    5   17    8]\n",
      " [   9   11 2598   26   41    5   24   22   57    3]\n",
      " [   4    4   41 2627    1   80    7   27   44   21]\n",
      " [   5   12   23    1 2564    2   23    4   13   83]\n",
      " [   9    6   15   54   14 2343   30    6   35   13]\n",
      " [  21    4   16    0   22   22 2656    1    7    2]\n",
      " [  10   13   49    6   31    2    1 2743    4   58]\n",
      " [  10   23   23   63   17   41   19    8 2502   24]\n",
      " [  12   10   15   23   78   15    2   75   19 2534]]\n"
     ]
    }
   ],
   "source": [
    "print('F1_SCORE :', f1_score(y_test, np.argmax(np.stack(pred_proba_test).mean(axis=0), axis=1), average='macro'))\n",
    "print(classification_report(y_test, np.argmax(np.stack(pred_proba_test).mean(axis=0), axis=1)))\n",
    "print(confusion_matrix(y_test, np.argmax(np.stack(pred_proba_test).mean(axis=0), axis=1)))"
   ]
  },
  {
   "cell_type": "code",
   "execution_count": null,
   "metadata": {
    "collapsed": true
   },
   "outputs": [],
   "source": []
  },
  {
   "cell_type": "code",
   "execution_count": null,
   "metadata": {
    "collapsed": true
   },
   "outputs": [],
   "source": []
  },
  {
   "cell_type": "code",
   "execution_count": null,
   "metadata": {
    "collapsed": true
   },
   "outputs": [],
   "source": []
  },
  {
   "cell_type": "code",
   "execution_count": null,
   "metadata": {
    "collapsed": true
   },
   "outputs": [],
   "source": []
  }
 ],
 "metadata": {
  "kernelspec": {
   "display_name": "Python 3",
   "language": "python",
   "name": "python3"
  },
  "language_info": {
   "codemirror_mode": {
    "name": "ipython",
    "version": 3
   },
   "file_extension": ".py",
   "mimetype": "text/x-python",
   "name": "python",
   "nbconvert_exporter": "python",
   "pygments_lexer": "ipython3",
   "version": "3.6.8"
  }
 },
 "nbformat": 4,
 "nbformat_minor": 2
}
