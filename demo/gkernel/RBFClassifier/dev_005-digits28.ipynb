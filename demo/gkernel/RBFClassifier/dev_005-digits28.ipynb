{
 "cells": [
  {
   "cell_type": "code",
   "execution_count": 1,
   "metadata": {},
   "outputs": [],
   "source": [
    "epochs = 100"
   ]
  },
  {
   "cell_type": "code",
   "execution_count": 2,
   "metadata": {},
   "outputs": [
    {
     "name": "stderr",
     "output_type": "stream",
     "text": [
      "Using TensorFlow backend.\n",
      "/home/admin/miniconda3/envs/da03/lib/python3.6/site-packages/tensorflow/python/framework/dtypes.py:516: FutureWarning: Passing (type, 1) or '1type' as a synonym of type is deprecated; in a future version of numpy, it will be understood as (type, (1,)) / '(1,)type'.\n",
      "  _np_qint8 = np.dtype([(\"qint8\", np.int8, 1)])\n",
      "/home/admin/miniconda3/envs/da03/lib/python3.6/site-packages/tensorflow/python/framework/dtypes.py:517: FutureWarning: Passing (type, 1) or '1type' as a synonym of type is deprecated; in a future version of numpy, it will be understood as (type, (1,)) / '(1,)type'.\n",
      "  _np_quint8 = np.dtype([(\"quint8\", np.uint8, 1)])\n",
      "/home/admin/miniconda3/envs/da03/lib/python3.6/site-packages/tensorflow/python/framework/dtypes.py:518: FutureWarning: Passing (type, 1) or '1type' as a synonym of type is deprecated; in a future version of numpy, it will be understood as (type, (1,)) / '(1,)type'.\n",
      "  _np_qint16 = np.dtype([(\"qint16\", np.int16, 1)])\n",
      "/home/admin/miniconda3/envs/da03/lib/python3.6/site-packages/tensorflow/python/framework/dtypes.py:519: FutureWarning: Passing (type, 1) or '1type' as a synonym of type is deprecated; in a future version of numpy, it will be understood as (type, (1,)) / '(1,)type'.\n",
      "  _np_quint16 = np.dtype([(\"quint16\", np.uint16, 1)])\n",
      "/home/admin/miniconda3/envs/da03/lib/python3.6/site-packages/tensorflow/python/framework/dtypes.py:520: FutureWarning: Passing (type, 1) or '1type' as a synonym of type is deprecated; in a future version of numpy, it will be understood as (type, (1,)) / '(1,)type'.\n",
      "  _np_qint32 = np.dtype([(\"qint32\", np.int32, 1)])\n",
      "/home/admin/miniconda3/envs/da03/lib/python3.6/site-packages/tensorflow/python/framework/dtypes.py:525: FutureWarning: Passing (type, 1) or '1type' as a synonym of type is deprecated; in a future version of numpy, it will be understood as (type, (1,)) / '(1,)type'.\n",
      "  np_resource = np.dtype([(\"resource\", np.ubyte, 1)])\n",
      "/home/admin/miniconda3/envs/da03/lib/python3.6/site-packages/tensorboard/compat/tensorflow_stub/dtypes.py:541: FutureWarning: Passing (type, 1) or '1type' as a synonym of type is deprecated; in a future version of numpy, it will be understood as (type, (1,)) / '(1,)type'.\n",
      "  _np_qint8 = np.dtype([(\"qint8\", np.int8, 1)])\n",
      "/home/admin/miniconda3/envs/da03/lib/python3.6/site-packages/tensorboard/compat/tensorflow_stub/dtypes.py:542: FutureWarning: Passing (type, 1) or '1type' as a synonym of type is deprecated; in a future version of numpy, it will be understood as (type, (1,)) / '(1,)type'.\n",
      "  _np_quint8 = np.dtype([(\"quint8\", np.uint8, 1)])\n",
      "/home/admin/miniconda3/envs/da03/lib/python3.6/site-packages/tensorboard/compat/tensorflow_stub/dtypes.py:543: FutureWarning: Passing (type, 1) or '1type' as a synonym of type is deprecated; in a future version of numpy, it will be understood as (type, (1,)) / '(1,)type'.\n",
      "  _np_qint16 = np.dtype([(\"qint16\", np.int16, 1)])\n",
      "/home/admin/miniconda3/envs/da03/lib/python3.6/site-packages/tensorboard/compat/tensorflow_stub/dtypes.py:544: FutureWarning: Passing (type, 1) or '1type' as a synonym of type is deprecated; in a future version of numpy, it will be understood as (type, (1,)) / '(1,)type'.\n",
      "  _np_quint16 = np.dtype([(\"quint16\", np.uint16, 1)])\n",
      "/home/admin/miniconda3/envs/da03/lib/python3.6/site-packages/tensorboard/compat/tensorflow_stub/dtypes.py:545: FutureWarning: Passing (type, 1) or '1type' as a synonym of type is deprecated; in a future version of numpy, it will be understood as (type, (1,)) / '(1,)type'.\n",
      "  _np_qint32 = np.dtype([(\"qint32\", np.int32, 1)])\n",
      "/home/admin/miniconda3/envs/da03/lib/python3.6/site-packages/tensorboard/compat/tensorflow_stub/dtypes.py:550: FutureWarning: Passing (type, 1) or '1type' as a synonym of type is deprecated; in a future version of numpy, it will be understood as (type, (1,)) / '(1,)type'.\n",
      "  np_resource = np.dtype([(\"resource\", np.ubyte, 1)])\n"
     ]
    }
   ],
   "source": [
    "%matplotlib inline\n",
    "import os, sys\n",
    "\n",
    "import numpy as np\n",
    "import matplotlib.pyplot as plt\n",
    "from sklearn import datasets, linear_model\n",
    "from sklearn.metrics import f1_score, classification_report, confusion_matrix, make_scorer\n",
    "from sklearn.preprocessing import OneHotEncoder\n",
    "from sklearn.model_selection import train_test_split\n",
    "\n",
    "import keras\n",
    "from keras.models import Sequential\n",
    "from keras.utils import to_categorical\n",
    "from keras.layers import Input, Dense\n",
    "from keras.models import Model\n",
    "from keras.optimizers import SGD\n",
    "from keras import regularizers\n",
    "from keras.wrappers.scikit_learn import KerasClassifier, KerasRegressor\n",
    "from keras import backend as K\n",
    "import tensorflow as tf"
   ]
  },
  {
   "cell_type": "code",
   "execution_count": 3,
   "metadata": {},
   "outputs": [],
   "source": [
    "sys.path.append('/home/admin/github/wordroid.sblo.jp/lib')\n",
    "#from gkernel import GaussianKernel, GaussianKernel2, GaussianKernel3\n",
    "from keras_ex.gkernel import GaussianKernel, GaussianKernel2, GaussianKernel3\n",
    "from keras_ex.gkernel.sklearn import (\n",
    "    RBFRegressor, RBFClassifier,\n",
    "    make_model_gkernel1,\n",
    "    make_model_gkernel2,\n",
    "    make_model_gkernel3,\n",
    "    make_model_out,\n",
    "    make_model\n",
    ")"
   ]
  },
  {
   "cell_type": "code",
   "execution_count": 4,
   "metadata": {},
   "outputs": [],
   "source": [
    "# from sklearn.datasets import load_digits\n",
    "# digits = load_digits()\n",
    "# X, y = digits.data, digits.target\n",
    "# X = X / 16\n",
    "# X.shape, X.min(), X.max()"
   ]
  },
  {
   "cell_type": "code",
   "execution_count": 5,
   "metadata": {},
   "outputs": [
    {
     "name": "stderr",
     "output_type": "stream",
     "text": [
      "/home/admin/miniconda3/envs/da03/lib/python3.6/site-packages/sklearn/utils/deprecation.py:85: DeprecationWarning: Function fetch_mldata is deprecated; fetch_mldata was deprecated in version 0.20 and will be removed in version 0.22. Please use fetch_openml.\n",
      "  warnings.warn(msg, category=DeprecationWarning)\n",
      "/home/admin/miniconda3/envs/da03/lib/python3.6/site-packages/sklearn/utils/deprecation.py:85: DeprecationWarning: Function mldata_filename is deprecated; mldata_filename was deprecated in version 0.20 and will be removed in version 0.22. Please use fetch_openml.\n",
      "  warnings.warn(msg, category=DeprecationWarning)\n"
     ]
    },
    {
     "data": {
      "text/plain": [
       "{'DESCR': 'mldata.org dataset: mnist-original',\n",
       " 'COL_NAMES': ['label', 'data'],\n",
       " 'target': array([0., 0., 0., ..., 9., 9., 9.]),\n",
       " 'data': array([[0, 0, 0, ..., 0, 0, 0],\n",
       "        [0, 0, 0, ..., 0, 0, 0],\n",
       "        [0, 0, 0, ..., 0, 0, 0],\n",
       "        ...,\n",
       "        [0, 0, 0, ..., 0, 0, 0],\n",
       "        [0, 0, 0, ..., 0, 0, 0],\n",
       "        [0, 0, 0, ..., 0, 0, 0]], dtype=uint8)}"
      ]
     },
     "execution_count": 5,
     "metadata": {},
     "output_type": "execute_result"
    }
   ],
   "source": [
    "from sklearn.datasets import fetch_mldata\n",
    "mnist = fetch_mldata('MNIST original')\n",
    "mnist"
   ]
  },
  {
   "cell_type": "code",
   "execution_count": 6,
   "metadata": {},
   "outputs": [
    {
     "data": {
      "text/plain": [
       "((70000, 784), 0.0, 1.0)"
      ]
     },
     "execution_count": 6,
     "metadata": {},
     "output_type": "execute_result"
    }
   ],
   "source": [
    "X, y = mnist.data, mnist.target\n",
    "X = X / 255\n",
    "X.shape, X.min(), X.max()"
   ]
  },
  {
   "cell_type": "code",
   "execution_count": 7,
   "metadata": {},
   "outputs": [
    {
     "data": {
      "text/plain": [
       "(70000,)"
      ]
     },
     "execution_count": 7,
     "metadata": {},
     "output_type": "execute_result"
    }
   ],
   "source": [
    "y.shape"
   ]
  },
  {
   "cell_type": "code",
   "execution_count": 8,
   "metadata": {},
   "outputs": [
    {
     "data": {
      "text/plain": [
       "(70000, 10)"
      ]
     },
     "execution_count": 8,
     "metadata": {},
     "output_type": "execute_result"
    }
   ],
   "source": [
    "y_cat = to_categorical(y, num_classes=10)\n",
    "y_cat.shape"
   ]
  },
  {
   "cell_type": "code",
   "execution_count": 9,
   "metadata": {},
   "outputs": [
    {
     "data": {
      "text/plain": [
       "((42000, 784), (28000, 784), (42000, 10), (28000, 10), (42000,), (28000,))"
      ]
     },
     "execution_count": 9,
     "metadata": {},
     "output_type": "execute_result"
    }
   ],
   "source": [
    "(\n",
    "    x_train, x_test,\n",
    "    y_cat_train, y_cat_test,\n",
    "    y_train, y_test\n",
    ") = train_test_split(X, y_cat, y,\n",
    "                     test_size=0.4,\n",
    "                     stratify=y, random_state=10002)\n",
    "\n",
    "(\n",
    "    x_train.shape, x_test.shape,\n",
    "    y_cat_train.shape, y_cat_test.shape,\n",
    "    y_train.shape, y_test.shape\n",
    ")"
   ]
  },
  {
   "cell_type": "code",
   "execution_count": null,
   "metadata": {},
   "outputs": [],
   "source": []
  },
  {
   "cell_type": "code",
   "execution_count": null,
   "metadata": {
    "collapsed": true,
    "jupyter": {
     "outputs_hidden": true
    }
   },
   "outputs": [],
   "source": []
  },
  {
   "cell_type": "code",
   "execution_count": 10,
   "metadata": {},
   "outputs": [],
   "source": [
    "from sklearn.model_selection import StratifiedShuffleSplit, GridSearchCV, validation_curve\n",
    "from sklearn.feature_selection import RFECV\n",
    "from sklearn.linear_model import LogisticRegression, Lasso\n",
    "import pandas as pd\n",
    "from sklearn.metrics import mean_squared_error, mean_absolute_error, roc_auc_score, r2_score, make_scorer\n",
    "from sklearn.metrics.pairwise import cosine_similarity, euclidean_distances\n",
    "import joblib\n",
    "\n",
    "from lightgbm import LGBMClassifier"
   ]
  },
  {
   "cell_type": "code",
   "execution_count": 11,
   "metadata": {},
   "outputs": [],
   "source": [
    "import warnings\n",
    "warnings.filterwarnings('ignore')"
   ]
  },
  {
   "cell_type": "code",
   "execution_count": 12,
   "metadata": {},
   "outputs": [],
   "source": [
    "def f1_scorer(estimator, X, y):\n",
    "    pred = estimator.predict(X)\n",
    "    s = f1_score(y, pred, average='macro')\n",
    "    return s"
   ]
  },
  {
   "cell_type": "code",
   "execution_count": null,
   "metadata": {
    "collapsed": true,
    "jupyter": {
     "outputs_hidden": true
    }
   },
   "outputs": [],
   "source": []
  },
  {
   "cell_type": "markdown",
   "metadata": {},
   "source": [
    "## batch_size=32\n",
    "taking long time\n",
    "* use make_model_gkernel2"
   ]
  },
  {
   "cell_type": "code",
   "execution_count": 13,
   "metadata": {},
   "outputs": [],
   "source": [
    "clf1 = RBFClassifier(\n",
    "    num_lm=150,\n",
    "    lm_select_from_x=True,\n",
    "    random_state=10001,\n",
    "    #make_model_gkernel=make_model_gkernel3,\n",
    "    #tol=float(np.sqrt(np.finfo(np.float32).eps)/2),\n",
    "    lr=0.05, gamma='scale',\n",
    "    epochs=epochs, batch_size=32, verbose=0,\n",
    "    session_clear=False\n",
    ")"
   ]
  },
  {
   "cell_type": "code",
   "execution_count": 14,
   "metadata": {},
   "outputs": [
    {
     "name": "stdout",
     "output_type": "stream",
     "text": [
      "WARNING:tensorflow:From /home/admin/miniconda3/envs/da03/lib/python3.6/site-packages/keras/backend/tensorflow_backend.py:517: The name tf.placeholder is deprecated. Please use tf.compat.v1.placeholder instead.\n",
      "\n",
      "WARNING:tensorflow:From /home/admin/miniconda3/envs/da03/lib/python3.6/site-packages/keras/backend/tensorflow_backend.py:4138: The name tf.random_uniform is deprecated. Please use tf.random.uniform instead.\n",
      "\n",
      "WARNING:tensorflow:From /home/admin/miniconda3/envs/da03/lib/python3.6/site-packages/keras/backend/tensorflow_backend.py:174: The name tf.get_default_session is deprecated. Please use tf.compat.v1.get_default_session instead.\n",
      "\n",
      "WARNING:tensorflow:From /home/admin/miniconda3/envs/da03/lib/python3.6/site-packages/keras/backend/tensorflow_backend.py:181: The name tf.ConfigProto is deprecated. Please use tf.compat.v1.ConfigProto instead.\n",
      "\n",
      "WARNING:tensorflow:From /home/admin/miniconda3/envs/da03/lib/python3.6/site-packages/keras/backend/tensorflow_backend.py:186: The name tf.Session is deprecated. Please use tf.compat.v1.Session instead.\n",
      "\n",
      "WARNING:tensorflow:From /home/admin/miniconda3/envs/da03/lib/python3.6/site-packages/keras/optimizers.py:790: The name tf.train.Optimizer is deprecated. Please use tf.compat.v1.train.Optimizer instead.\n",
      "\n",
      "WARNING:tensorflow:From /home/admin/miniconda3/envs/da03/lib/python3.6/site-packages/tensorflow/python/ops/math_grad.py:1250: add_dispatch_support.<locals>.wrapper (from tensorflow.python.ops.array_ops) is deprecated and will be removed in a future version.\n",
      "Instructions for updating:\n",
      "Use tf.where in 2.0, which has the same broadcast rule as np.where\n",
      "CPU times: user 7min 33s, sys: 15 s, total: 7min 48s\n",
      "Wall time: 5min 24s\n"
     ]
    }
   ],
   "source": [
    "%%time\n",
    "#hst = clf1.fit(x_train, y_cat_train)\n",
    "hst = clf1.fit(x_train, y_train)"
   ]
  },
  {
   "cell_type": "code",
   "execution_count": 15,
   "metadata": {},
   "outputs": [
    {
     "data": {
      "text/plain": [
       "<matplotlib.legend.Legend at 0x7f11c4f99eb8>"
      ]
     },
     "execution_count": 15,
     "metadata": {},
     "output_type": "execute_result"
    },
    {
     "data": {
      "image/png": "[encoded data removed]",
      "text/plain": [
       "<Figure size 1440x360 with 3 Axes>"
      ]
     },
     "metadata": {
      "needs_background": "light"
     },
     "output_type": "display_data"
    }
   ],
   "source": [
    "fig, ax = plt.subplots(1, 3, figsize=(20,5))\n",
    "ax[0].set_title('loss')\n",
    "ax[0].plot(list(range(len(hst[\"loss\"]))), hst[\"loss\"], label=\"Train loss\")\n",
    "ax[1].set_title('accuracy')\n",
    "ax[1].plot(list(range(len(hst[\"loss\"]))), hst[\"acc\"], label=\"accuracy\")\n",
    "ax[2].set_title('learning rate')\n",
    "ax[2].plot(list(range(len(hst[\"loss\"]))), hst[\"lr\"], label=\"learning rate\")\n",
    "ax[0].legend()\n",
    "ax[1].legend()\n",
    "ax[2].legend()"
   ]
  },
  {
   "cell_type": "code",
   "execution_count": 16,
   "metadata": {},
   "outputs": [
    {
     "data": {
      "text/plain": [
       "(42000,)"
      ]
     },
     "execution_count": 16,
     "metadata": {},
     "output_type": "execute_result"
    }
   ],
   "source": [
    "pred = clf1.predict(x_train)\n",
    "pred.shape"
   ]
  },
  {
   "cell_type": "code",
   "execution_count": 17,
   "metadata": {},
   "outputs": [
    {
     "data": {
      "text/plain": [
       "array([2., 9., 9., ..., 8., 4., 1.])"
      ]
     },
     "execution_count": 17,
     "metadata": {},
     "output_type": "execute_result"
    }
   ],
   "source": [
    "pred"
   ]
  },
  {
   "cell_type": "code",
   "execution_count": 18,
   "metadata": {},
   "outputs": [
    {
     "name": "stdout",
     "output_type": "stream",
     "text": [
      "F1_SCORE : 0.9494031069400434\n",
      "              precision    recall  f1-score   support\n",
      "\n",
      "         0.0       0.97      0.98      0.98      4142\n",
      "         1.0       0.98      0.98      0.98      4726\n",
      "         2.0       0.94      0.95      0.94      4194\n",
      "         3.0       0.93      0.93      0.93      4285\n",
      "         4.0       0.95      0.95      0.95      4094\n",
      "         5.0       0.93      0.93      0.93      3788\n",
      "         6.0       0.96      0.97      0.97      4125\n",
      "         7.0       0.95      0.96      0.96      4376\n",
      "         8.0       0.93      0.93      0.93      4095\n",
      "         9.0       0.93      0.93      0.93      4175\n",
      "\n",
      "    accuracy                           0.95     42000\n",
      "   macro avg       0.95      0.95      0.95     42000\n",
      "weighted avg       0.95      0.95      0.95     42000\n",
      "\n",
      "[[4064    0   11    0    6   17   18    6   13    7]\n",
      " [   1 4628   22   11    6    4    9   10   28    7]\n",
      " [  19   15 3966   36   43    8   24   37   39    7]\n",
      " [   3    9   81 3967    3   88    6   30   65   33]\n",
      " [   8    6   23    2 3878    4   30   13   20  110]\n",
      " [  18    7   13   79   20 3541   37    6   44   23]\n",
      " [  29    8   12    3   11   39 4006    1   16    0]\n",
      " [   5   15   37    5   29    5    0 4196   11   73]\n",
      " [   7   28   36   97   10   66   24   11 3788   28]\n",
      " [  20   11    8   43   86   19    4   92   28 3864]]\n"
     ]
    }
   ],
   "source": [
    "print('F1_SCORE :', f1_score(y_train, pred, average='macro'))\n",
    "print(classification_report(y_train, pred))\n",
    "print(confusion_matrix(y_train, pred))"
   ]
  },
  {
   "cell_type": "code",
   "execution_count": 19,
   "metadata": {},
   "outputs": [
    {
     "data": {
      "text/plain": [
       "(28000,)"
      ]
     },
     "execution_count": 19,
     "metadata": {},
     "output_type": "execute_result"
    }
   ],
   "source": [
    "pred_test = clf1.predict(x_test)\n",
    "pred_test.shape"
   ]
  },
  {
   "cell_type": "code",
   "execution_count": 20,
   "metadata": {},
   "outputs": [
    {
     "name": "stdout",
     "output_type": "stream",
     "text": [
      "F1_SCORE : 0.9446020120905017\n",
      "              precision    recall  f1-score   support\n",
      "\n",
      "         0.0       0.97      0.98      0.97      2761\n",
      "         1.0       0.98      0.98      0.98      3151\n",
      "         2.0       0.94      0.94      0.94      2796\n",
      "         3.0       0.93      0.92      0.93      2856\n",
      "         4.0       0.94      0.94      0.94      2730\n",
      "         5.0       0.92      0.93      0.93      2525\n",
      "         6.0       0.96      0.96      0.96      2751\n",
      "         7.0       0.95      0.95      0.95      2917\n",
      "         8.0       0.93      0.92      0.92      2730\n",
      "         9.0       0.93      0.92      0.92      2783\n",
      "\n",
      "    accuracy                           0.95     28000\n",
      "   macro avg       0.94      0.94      0.94     28000\n",
      "weighted avg       0.95      0.95      0.95     28000\n",
      "\n",
      "[[2692    1   13    1    1   22   11    3   10    7]\n",
      " [   1 3092    5   10    1    5    6    5   18    8]\n",
      " [  13   13 2637   24   27    4   14   14   48    2]\n",
      " [   3    4   46 2630    1   78    4   25   40   25]\n",
      " [  10    7   21    3 2574    2   24    5    9   75]\n",
      " [  16    4    7   52    9 2360   23    7   31   16]\n",
      " [  24    7   12    2   19   25 2654    0    6    2]\n",
      " [   6    9   48    9   29    4    0 2769    3   40]\n",
      " [  12   18   17   65   18   47   15    9 2501   28]\n",
      " [   7    5   10   21   70   14    4   66   28 2558]]\n"
     ]
    }
   ],
   "source": [
    "print('F1_SCORE :', f1_score(y_test, pred_test, average='macro'))\n",
    "print(classification_report(y_test, pred_test))\n",
    "print(confusion_matrix(y_test, pred_test))"
   ]
  },
  {
   "cell_type": "code",
   "execution_count": null,
   "metadata": {
    "collapsed": true,
    "jupyter": {
     "outputs_hidden": true
    }
   },
   "outputs": [],
   "source": []
  },
  {
   "cell_type": "markdown",
   "metadata": {},
   "source": [
    "## batch_size=500\n",
    "* use make_model_gkernel2"
   ]
  },
  {
   "cell_type": "code",
   "execution_count": 21,
   "metadata": {},
   "outputs": [],
   "source": [
    "clf1 = RBFClassifier(\n",
    "    num_lm=150,\n",
    "    lm_select_from_x=True,\n",
    "    random_state=10001,\n",
    "    #make_model_gkernel=make_model_gkernel3,\n",
    "    #tol=float(np.sqrt(np.finfo(np.float32).eps)/4),\n",
    "    #tol=float(np.finfo(np.float32).eps),\n",
    "    lr=0.05, gamma='scale',\n",
    "    epochs=epochs, batch_size=500, verbose=0,\n",
    "    session_clear=False\n",
    ")"
   ]
  },
  {
   "cell_type": "code",
   "execution_count": 22,
   "metadata": {},
   "outputs": [
    {
     "data": {
      "text/plain": [
       "(0.00034526698, 0.0001726334885461256, 8.63167442730628e-05)"
      ]
     },
     "execution_count": 22,
     "metadata": {},
     "output_type": "execute_result"
    }
   ],
   "source": [
    "np.sqrt(np.finfo(np.float32).eps), np.sqrt(np.finfo(np.float32).eps)/2, np.sqrt(np.finfo(np.float32).eps)/4"
   ]
  },
  {
   "cell_type": "code",
   "execution_count": 23,
   "metadata": {},
   "outputs": [
    {
     "name": "stdout",
     "output_type": "stream",
     "text": [
      "CPU times: user 1min 52s, sys: 2.16 s, total: 1min 54s\n",
      "Wall time: 1min 4s\n"
     ]
    }
   ],
   "source": [
    "%%time\n",
    "#hst = clf1.fit(x_train, y_cat_train)\n",
    "hst = clf1.fit(x_train, y_train)"
   ]
  },
  {
   "cell_type": "code",
   "execution_count": 24,
   "metadata": {},
   "outputs": [
    {
     "data": {
      "text/plain": [
       "<matplotlib.legend.Legend at 0x7f1193dcbd68>"
      ]
     },
     "execution_count": 24,
     "metadata": {},
     "output_type": "execute_result"
    },
    {
     "data": {
      "image/png": "[encoded data removed]",
      "text/plain": [
       "<Figure size 1440x360 with 3 Axes>"
      ]
     },
     "metadata": {
      "needs_background": "light"
     },
     "output_type": "display_data"
    }
   ],
   "source": [
    "fig, ax = plt.subplots(1, 3, figsize=(20,5))\n",
    "ax[0].set_title('loss')\n",
    "ax[0].plot(list(range(len(hst[\"loss\"]))), hst[\"loss\"], label=\"Train loss\")\n",
    "ax[1].set_title('accuracy')\n",
    "ax[1].plot(list(range(len(hst[\"loss\"]))), hst[\"acc\"], label=\"accuracy\")\n",
    "ax[2].set_title('learning rate')\n",
    "ax[2].plot(list(range(len(hst[\"loss\"]))), hst[\"lr\"], label=\"learning rate\")\n",
    "ax[0].legend()\n",
    "ax[1].legend()\n",
    "ax[2].legend()"
   ]
  },
  {
   "cell_type": "code",
   "execution_count": 25,
   "metadata": {},
   "outputs": [
    {
     "data": {
      "text/plain": [
       "(42000,)"
      ]
     },
     "execution_count": 25,
     "metadata": {},
     "output_type": "execute_result"
    }
   ],
   "source": [
    "pred = clf1.predict(x_train)\n",
    "pred.shape"
   ]
  },
  {
   "cell_type": "code",
   "execution_count": 26,
   "metadata": {},
   "outputs": [
    {
     "data": {
      "text/plain": [
       "array([2., 9., 9., ..., 8., 4., 1.])"
      ]
     },
     "execution_count": 26,
     "metadata": {},
     "output_type": "execute_result"
    }
   ],
   "source": [
    "pred"
   ]
  },
  {
   "cell_type": "code",
   "execution_count": 27,
   "metadata": {},
   "outputs": [
    {
     "name": "stdout",
     "output_type": "stream",
     "text": [
      "F1_SCORE : 0.9387280292440066\n",
      "              precision    recall  f1-score   support\n",
      "\n",
      "         0.0       0.97      0.98      0.97      4142\n",
      "         1.0       0.97      0.98      0.97      4726\n",
      "         2.0       0.93      0.93      0.93      4194\n",
      "         3.0       0.93      0.91      0.92      4285\n",
      "         4.0       0.93      0.94      0.93      4094\n",
      "         5.0       0.92      0.92      0.92      3788\n",
      "         6.0       0.96      0.96      0.96      4125\n",
      "         7.0       0.94      0.95      0.94      4376\n",
      "         8.0       0.92      0.91      0.92      4095\n",
      "         9.0       0.92      0.91      0.91      4175\n",
      "\n",
      "    accuracy                           0.94     42000\n",
      "   macro avg       0.94      0.94      0.94     42000\n",
      "weighted avg       0.94      0.94      0.94     42000\n",
      "\n",
      "[[4042    0   11    3    9   27   22    8   15    5]\n",
      " [   1 4610   22   13    8   10    6   14   36    6]\n",
      " [  18   18 3906   43   50   16   23   53   57   10]\n",
      " [   6   13   85 3920    5  111    7   37   68   33]\n",
      " [  10    6   23    4 3858    1   37   11   21  123]\n",
      " [  22   10   23   89   30 3475   46   10   55   28]\n",
      " [  32    9   12    2   24   51 3975    1   18    1]\n",
      " [   5   19   49    8   39    7    1 4138   10  100]\n",
      " [  12   35   46   93   18   69   34    9 3739   40]\n",
      " [  24   15    9   52  118   24    4  101   35 3793]]\n"
     ]
    }
   ],
   "source": [
    "print('F1_SCORE :', f1_score(y_train, pred, average='macro'))\n",
    "print(classification_report(y_train, pred))\n",
    "print(confusion_matrix(y_train, pred))"
   ]
  },
  {
   "cell_type": "code",
   "execution_count": 28,
   "metadata": {},
   "outputs": [
    {
     "data": {
      "text/plain": [
       "(28000,)"
      ]
     },
     "execution_count": 28,
     "metadata": {},
     "output_type": "execute_result"
    }
   ],
   "source": [
    "pred_test = clf1.predict(x_test)\n",
    "pred_test.shape"
   ]
  },
  {
   "cell_type": "code",
   "execution_count": 29,
   "metadata": {},
   "outputs": [
    {
     "name": "stdout",
     "output_type": "stream",
     "text": [
      "F1_SCORE : 0.9354465542541494\n",
      "              precision    recall  f1-score   support\n",
      "\n",
      "         0.0       0.96      0.98      0.97      2761\n",
      "         1.0       0.97      0.98      0.97      3151\n",
      "         2.0       0.93      0.92      0.93      2796\n",
      "         3.0       0.92      0.91      0.92      2856\n",
      "         4.0       0.92      0.94      0.93      2730\n",
      "         5.0       0.91      0.92      0.91      2525\n",
      "         6.0       0.95      0.96      0.96      2751\n",
      "         7.0       0.95      0.94      0.94      2917\n",
      "         8.0       0.92      0.91      0.91      2730\n",
      "         9.0       0.91      0.91      0.91      2783\n",
      "\n",
      "    accuracy                           0.94     28000\n",
      "   macro avg       0.94      0.94      0.94     28000\n",
      "weighted avg       0.94      0.94      0.94     28000\n",
      "\n",
      "[[2694    0    8    2    0   19   18    2   13    5]\n",
      " [   1 3078    9   13    1   11    4    5   19   10]\n",
      " [  16   15 2578   28   45    7   20   22   59    6]\n",
      " [   2    3   50 2602    1   91    7   29   47   24]\n",
      " [  11    9   18    4 2556    3   21    9   10   89]\n",
      " [  18    5   13   64   15 2315   33    5   37   20]\n",
      " [  24    5   18    1   26   22 2646    1    6    2]\n",
      " [   8   11   47    6   33    4    1 2747    5   55]\n",
      " [  11   27   21   73   17   49   18    8 2478   28]\n",
      " [  12   11   11   26   83   16    3   74   27 2520]]\n"
     ]
    }
   ],
   "source": [
    "print('F1_SCORE :', f1_score(y_test, pred_test, average='macro'))\n",
    "print(classification_report(y_test, pred_test))\n",
    "print(confusion_matrix(y_test, pred_test))"
   ]
  },
  {
   "cell_type": "code",
   "execution_count": null,
   "metadata": {},
   "outputs": [],
   "source": []
  },
  {
   "cell_type": "markdown",
   "metadata": {},
   "source": [
    "## clf1"
   ]
  },
  {
   "cell_type": "code",
   "execution_count": 30,
   "metadata": {},
   "outputs": [],
   "source": [
    "clf1 = RBFClassifier(\n",
    "    num_lm=250,\n",
    "    lm_select_from_x=True,\n",
    "    random_state=10001,\n",
    "    #make_model_gkernel=make_model_gkernel3,\n",
    "    #tol=float(np.sqrt(np.finfo(np.float32).eps)/2),\n",
    "    lr=0.05, gamma='scale',\n",
    "    epochs=epochs, batch_size=500, verbose=0,\n",
    "    session_clear=False\n",
    ")\n",
    "# clf1 = LGBMClassifier(min_child_samples=50, reg_alpha=0.1)"
   ]
  },
  {
   "cell_type": "code",
   "execution_count": 31,
   "metadata": {},
   "outputs": [
    {
     "name": "stdout",
     "output_type": "stream",
     "text": [
      "CPU times: user 2min 38s, sys: 2.23 s, total: 2min 41s\n",
      "Wall time: 1min 25s\n"
     ]
    }
   ],
   "source": [
    "%%time\n",
    "#hst = clf1.fit(x_train, y_cat_train)\n",
    "hst = clf1.fit(x_train, y_train)"
   ]
  },
  {
   "cell_type": "code",
   "execution_count": 32,
   "metadata": {},
   "outputs": [
    {
     "data": {
      "text/plain": [
       "<matplotlib.legend.Legend at 0x7f11c7f89898>"
      ]
     },
     "execution_count": 32,
     "metadata": {},
     "output_type": "execute_result"
    },
    {
     "data": {
      "image/png": "[encoded data removed]",
      "text/plain": [
       "<Figure size 1440x360 with 3 Axes>"
      ]
     },
     "metadata": {
      "needs_background": "light"
     },
     "output_type": "display_data"
    }
   ],
   "source": [
    "fig, ax = plt.subplots(1, 3, figsize=(20,5))\n",
    "ax[0].set_title('loss')\n",
    "ax[0].plot(list(range(len(hst[\"loss\"]))), hst[\"loss\"], label=\"Train loss\")\n",
    "ax[1].set_title('accuracy')\n",
    "ax[1].plot(list(range(len(hst[\"loss\"]))), hst[\"acc\"], label=\"accuracy\")\n",
    "ax[2].set_title('learning rate')\n",
    "ax[2].plot(list(range(len(hst[\"loss\"]))), hst[\"lr\"], label=\"learning rate\")\n",
    "ax[0].legend()\n",
    "ax[1].legend()\n",
    "ax[2].legend()"
   ]
  },
  {
   "cell_type": "code",
   "execution_count": 33,
   "metadata": {},
   "outputs": [
    {
     "data": {
      "text/plain": [
       "(42000,)"
      ]
     },
     "execution_count": 33,
     "metadata": {},
     "output_type": "execute_result"
    }
   ],
   "source": [
    "pred = clf1.predict(x_train)\n",
    "pred.shape"
   ]
  },
  {
   "cell_type": "code",
   "execution_count": 34,
   "metadata": {},
   "outputs": [
    {
     "data": {
      "text/plain": [
       "array([2., 9., 9., ..., 8., 4., 1.])"
      ]
     },
     "execution_count": 34,
     "metadata": {},
     "output_type": "execute_result"
    }
   ],
   "source": [
    "pred"
   ]
  },
  {
   "cell_type": "code",
   "execution_count": 35,
   "metadata": {},
   "outputs": [
    {
     "name": "stdout",
     "output_type": "stream",
     "text": [
      "F1_SCORE : 0.9520643476472929\n",
      "              precision    recall  f1-score   support\n",
      "\n",
      "         0.0       0.98      0.98      0.98      4142\n",
      "         1.0       0.98      0.98      0.98      4726\n",
      "         2.0       0.95      0.95      0.95      4194\n",
      "         3.0       0.94      0.94      0.94      4285\n",
      "         4.0       0.95      0.95      0.95      4094\n",
      "         5.0       0.93      0.94      0.94      3788\n",
      "         6.0       0.97      0.97      0.97      4125\n",
      "         7.0       0.95      0.95      0.95      4376\n",
      "         8.0       0.94      0.93      0.94      4095\n",
      "         9.0       0.93      0.93      0.93      4175\n",
      "\n",
      "    accuracy                           0.95     42000\n",
      "   macro avg       0.95      0.95      0.95     42000\n",
      "weighted avg       0.95      0.95      0.95     42000\n",
      "\n",
      "[[4066    0   11    1    5   18   15    7   14    5]\n",
      " [   1 4631   22   11    9    9    5   13   21    4]\n",
      " [  16   14 3976   34   34   15   18   40   39    8]\n",
      " [   2   13   63 4007    3   86    3   26   54   28]\n",
      " [   9    5   12    3 3907    3   20   13   17  105]\n",
      " [  20    8   16   75   25 3556   31    6   38   13]\n",
      " [  23    9    8    1   16   42 4007    0   17    2]\n",
      " [   3   13   39    7   26    7    1 4176   12   92]\n",
      " [   8   32   33   83   13   57   22   11 3811   25]\n",
      " [  18   10   12   41   85   19    2   91   27 3870]]\n"
     ]
    }
   ],
   "source": [
    "print('F1_SCORE :', f1_score(y_train, pred, average='macro'))\n",
    "print(classification_report(y_train, pred))\n",
    "print(confusion_matrix(y_train, pred))"
   ]
  },
  {
   "cell_type": "code",
   "execution_count": 36,
   "metadata": {},
   "outputs": [
    {
     "data": {
      "text/plain": [
       "(28000,)"
      ]
     },
     "execution_count": 36,
     "metadata": {},
     "output_type": "execute_result"
    }
   ],
   "source": [
    "pred_test = clf1.predict(x_test)\n",
    "pred_test.shape"
   ]
  },
  {
   "cell_type": "code",
   "execution_count": 37,
   "metadata": {},
   "outputs": [
    {
     "name": "stdout",
     "output_type": "stream",
     "text": [
      "F1_SCORE : 0.9482801001707264\n",
      "              precision    recall  f1-score   support\n",
      "\n",
      "         0.0       0.97      0.98      0.98      2761\n",
      "         1.0       0.98      0.98      0.98      3151\n",
      "         2.0       0.95      0.95      0.95      2796\n",
      "         3.0       0.94      0.93      0.93      2856\n",
      "         4.0       0.94      0.95      0.94      2730\n",
      "         5.0       0.93      0.94      0.93      2525\n",
      "         6.0       0.97      0.97      0.97      2751\n",
      "         7.0       0.96      0.95      0.95      2917\n",
      "         8.0       0.93      0.92      0.93      2730\n",
      "         9.0       0.93      0.93      0.93      2783\n",
      "\n",
      "    accuracy                           0.95     28000\n",
      "   macro avg       0.95      0.95      0.95     28000\n",
      "weighted avg       0.95      0.95      0.95     28000\n",
      "\n",
      "[[2699    0    8    1    1   20   15    2   13    2]\n",
      " [   1 3094    6   13    3    5    5    5   11    8]\n",
      " [  10   10 2649   25   22    4   10   15   46    5]\n",
      " [   1    4   37 2651    0   77    5   20   38   23]\n",
      " [   8    7   16    1 2583    1   15    7   13   79]\n",
      " [  12    3    9   48   14 2370   23    4   29   13]\n",
      " [  17    4   13    0   20   19 2668    1    7    2]\n",
      " [   7   10   41    8   29    4    0 2763    5   50]\n",
      " [  11   18   11   69   17   43   14    7 2515   25]\n",
      " [   6    3   12   17   62   15    3   67   22 2576]]\n"
     ]
    }
   ],
   "source": [
    "print('F1_SCORE :', f1_score(y_test, pred_test, average='macro'))\n",
    "print(classification_report(y_test, pred_test))\n",
    "print(confusion_matrix(y_test, pred_test))"
   ]
  },
  {
   "cell_type": "code",
   "execution_count": null,
   "metadata": {
    "collapsed": true,
    "jupyter": {
     "outputs_hidden": true
    }
   },
   "outputs": [],
   "source": []
  },
  {
   "cell_type": "markdown",
   "metadata": {},
   "source": [
    "## clf2"
   ]
  },
  {
   "cell_type": "code",
   "execution_count": 38,
   "metadata": {},
   "outputs": [],
   "source": [
    "clf2 = RBFClassifier(\n",
    "    num_lm=250,\n",
    "    lm_select_from_x=True,\n",
    "    random_state=10002,\n",
    "    #make_model_gkernel=make_model_gkernel3,\n",
    "    #tol=float(np.sqrt(np.finfo(np.float32).eps)/2),\n",
    "    lr=0.05, gamma='scale',\n",
    "    epochs=epochs, batch_size=500, verbose=0,\n",
    "    session_clear=False\n",
    ")\n",
    "# clf2 = LGBMClassifier(min_child_samples=50, reg_alpha=0.1)"
   ]
  },
  {
   "cell_type": "code",
   "execution_count": 39,
   "metadata": {},
   "outputs": [
    {
     "name": "stdout",
     "output_type": "stream",
     "text": [
      "CPU times: user 2min 29s, sys: 2.22 s, total: 2min 31s\n",
      "Wall time: 1min 20s\n"
     ]
    }
   ],
   "source": [
    "%%time\n",
    "#hst = clf2.fit(x_train, y_cat_train)\n",
    "hst = clf2.fit(x_train, y_train)"
   ]
  },
  {
   "cell_type": "code",
   "execution_count": 40,
   "metadata": {},
   "outputs": [
    {
     "data": {
      "text/plain": [
       "<matplotlib.legend.Legend at 0x7f11939804a8>"
      ]
     },
     "execution_count": 40,
     "metadata": {},
     "output_type": "execute_result"
    },
    {
     "data": {
      "image/png": "[encoded data removed]",
      "text/plain": [
       "<Figure size 1440x360 with 3 Axes>"
      ]
     },
     "metadata": {
      "needs_background": "light"
     },
     "output_type": "display_data"
    }
   ],
   "source": [
    "fig, ax = plt.subplots(1, 3, figsize=(20,5))\n",
    "ax[0].set_title('loss')\n",
    "ax[0].plot(list(range(len(hst[\"loss\"]))), hst[\"loss\"], label=\"Train loss\")\n",
    "ax[1].set_title('accuracy')\n",
    "ax[1].plot(list(range(len(hst[\"loss\"]))), hst[\"acc\"], label=\"accuracy\")\n",
    "ax[2].set_title('learning rate')\n",
    "ax[2].plot(list(range(len(hst[\"loss\"]))), hst[\"lr\"], label=\"learning rate\")\n",
    "ax[0].legend()\n",
    "ax[1].legend()\n",
    "ax[2].legend()"
   ]
  },
  {
   "cell_type": "code",
   "execution_count": 41,
   "metadata": {},
   "outputs": [
    {
     "data": {
      "text/plain": [
       "(42000,)"
      ]
     },
     "execution_count": 41,
     "metadata": {},
     "output_type": "execute_result"
    }
   ],
   "source": [
    "pred = clf2.predict(x_train)\n",
    "pred.shape"
   ]
  },
  {
   "cell_type": "code",
   "execution_count": 42,
   "metadata": {},
   "outputs": [
    {
     "data": {
      "text/plain": [
       "array([2., 9., 9., ..., 8., 4., 1.])"
      ]
     },
     "execution_count": 42,
     "metadata": {},
     "output_type": "execute_result"
    }
   ],
   "source": [
    "pred"
   ]
  },
  {
   "cell_type": "code",
   "execution_count": 43,
   "metadata": {},
   "outputs": [
    {
     "name": "stdout",
     "output_type": "stream",
     "text": [
      "F1_SCORE : 0.9522815887854555\n",
      "              precision    recall  f1-score   support\n",
      "\n",
      "         0.0       0.98      0.98      0.98      4142\n",
      "         1.0       0.98      0.98      0.98      4726\n",
      "         2.0       0.95      0.95      0.95      4194\n",
      "         3.0       0.94      0.93      0.94      4285\n",
      "         4.0       0.95      0.95      0.95      4094\n",
      "         5.0       0.94      0.94      0.94      3788\n",
      "         6.0       0.97      0.98      0.97      4125\n",
      "         7.0       0.95      0.95      0.95      4376\n",
      "         8.0       0.94      0.93      0.94      4095\n",
      "         9.0       0.94      0.92      0.93      4175\n",
      "\n",
      "    accuracy                           0.95     42000\n",
      "   macro avg       0.95      0.95      0.95     42000\n",
      "weighted avg       0.95      0.95      0.95     42000\n",
      "\n",
      "[[4061    0   14    2    8   15   16    7   15    4]\n",
      " [   0 4632   22   15    8    3    4   13   24    5]\n",
      " [  15   15 3971   31   32    8   23   47   44    8]\n",
      " [   5   13   56 3994    2   96    1   29   64   25]\n",
      " [   7    6   19    3 3898    3   32   15   12   99]\n",
      " [  15   10   17   68   16 3572   30    8   35   17]\n",
      " [  19    4   14    1   15   27 4028    0   17    0]\n",
      " [   9   19   36    7   25    8    1 4178   11   82]\n",
      " [   8   36   37   71   11   52   22    8 3825   25]\n",
      " [  16   13   10   38   99   19    4   95   26 3855]]\n"
     ]
    }
   ],
   "source": [
    "print('F1_SCORE :', f1_score(y_train, pred, average='macro'))\n",
    "print(classification_report(y_train, pred))\n",
    "print(confusion_matrix(y_train, pred))"
   ]
  },
  {
   "cell_type": "code",
   "execution_count": 44,
   "metadata": {},
   "outputs": [
    {
     "data": {
      "text/plain": [
       "(28000,)"
      ]
     },
     "execution_count": 44,
     "metadata": {},
     "output_type": "execute_result"
    }
   ],
   "source": [
    "pred_test = clf2.predict(x_test)\n",
    "pred_test.shape"
   ]
  },
  {
   "cell_type": "code",
   "execution_count": 45,
   "metadata": {},
   "outputs": [
    {
     "name": "stdout",
     "output_type": "stream",
     "text": [
      "F1_SCORE : 0.9495669827222082\n",
      "              precision    recall  f1-score   support\n",
      "\n",
      "         0.0       0.98      0.98      0.98      2761\n",
      "         1.0       0.98      0.98      0.98      3151\n",
      "         2.0       0.94      0.94      0.94      2796\n",
      "         3.0       0.94      0.93      0.93      2856\n",
      "         4.0       0.94      0.95      0.94      2730\n",
      "         5.0       0.94      0.94      0.94      2525\n",
      "         6.0       0.96      0.97      0.97      2751\n",
      "         7.0       0.95      0.95      0.95      2917\n",
      "         8.0       0.93      0.93      0.93      2730\n",
      "         9.0       0.93      0.92      0.93      2783\n",
      "\n",
      "    accuracy                           0.95     28000\n",
      "   macro avg       0.95      0.95      0.95     28000\n",
      "weighted avg       0.95      0.95      0.95     28000\n",
      "\n",
      "[[2709    1    9    1    1   10   13    2   10    5]\n",
      " [   1 3096   10   12    1    3    3    4   15    6]\n",
      " [   8    9 2632   24   32    5   20   17   47    2]\n",
      " [   5    4   30 2656    1   76    4   21   39   20]\n",
      " [   3   12   16    2 2581    1   21    5   17   72]\n",
      " [   6    6   11   57    8 2370   23    6   28   10]\n",
      " [  12    4   10    1   19   20 2676    0    8    1]\n",
      " [   4   12   39    8   26    1    2 2766    4   55]\n",
      " [   7   16   21   55   13   31   16    5 2551   15]\n",
      " [   7    3   13   17   64   11    2   78   23 2565]]\n"
     ]
    }
   ],
   "source": [
    "print('F1_SCORE :', f1_score(y_test, pred_test, average='macro'))\n",
    "print(classification_report(y_test, pred_test))\n",
    "print(confusion_matrix(y_test, pred_test))"
   ]
  },
  {
   "cell_type": "code",
   "execution_count": null,
   "metadata": {
    "collapsed": true,
    "jupyter": {
     "outputs_hidden": true
    }
   },
   "outputs": [],
   "source": []
  },
  {
   "cell_type": "markdown",
   "metadata": {},
   "source": [
    "## clf3"
   ]
  },
  {
   "cell_type": "code",
   "execution_count": 46,
   "metadata": {},
   "outputs": [],
   "source": [
    "clf3 = RBFClassifier(\n",
    "    num_lm=250,\n",
    "    lm_select_from_x=True,\n",
    "    random_state=10003,\n",
    "    #make_model_gkernel=make_model_gkernel3,\n",
    "    #tol=float(np.sqrt(np.finfo(np.float32).eps)/2),\n",
    "    lr=0.05, gamma='scale',\n",
    "    epochs=epochs, batch_size=500, verbose=0,\n",
    "    session_clear=False\n",
    ")\n",
    "# clf3 = LGBMClassifier(min_child_samples=50, reg_alpha=0.1)"
   ]
  },
  {
   "cell_type": "code",
   "execution_count": 47,
   "metadata": {},
   "outputs": [
    {
     "name": "stdout",
     "output_type": "stream",
     "text": [
      "CPU times: user 2min 24s, sys: 2.04 s, total: 2min 26s\n",
      "Wall time: 1min 19s\n"
     ]
    }
   ],
   "source": [
    "%%time\n",
    "#hst = clf3.fit(x_train, y_cat_train)\n",
    "hst = clf3.fit(x_train, y_train)"
   ]
  },
  {
   "cell_type": "code",
   "execution_count": 48,
   "metadata": {},
   "outputs": [
    {
     "data": {
      "text/plain": [
       "<matplotlib.legend.Legend at 0x7f11929dbcf8>"
      ]
     },
     "execution_count": 48,
     "metadata": {},
     "output_type": "execute_result"
    },
    {
     "data": {
      "image/png": "[encoded data removed]",
      "text/plain": [
       "<Figure size 1440x360 with 3 Axes>"
      ]
     },
     "metadata": {
      "needs_background": "light"
     },
     "output_type": "display_data"
    }
   ],
   "source": [
    "fig, ax = plt.subplots(1, 3, figsize=(20,5))\n",
    "ax[0].set_title('loss')\n",
    "ax[0].plot(list(range(len(hst[\"loss\"]))), hst[\"loss\"], label=\"Train loss\")\n",
    "ax[1].set_title('accuracy')\n",
    "ax[1].plot(list(range(len(hst[\"loss\"]))), hst[\"acc\"], label=\"accuracy\")\n",
    "ax[2].set_title('learning rate')\n",
    "ax[2].plot(list(range(len(hst[\"loss\"]))), hst[\"lr\"], label=\"learning rate\")\n",
    "ax[0].legend()\n",
    "ax[1].legend()\n",
    "ax[2].legend()"
   ]
  },
  {
   "cell_type": "code",
   "execution_count": 49,
   "metadata": {},
   "outputs": [
    {
     "data": {
      "text/plain": [
       "(42000,)"
      ]
     },
     "execution_count": 49,
     "metadata": {},
     "output_type": "execute_result"
    }
   ],
   "source": [
    "pred = clf3.predict(x_train)\n",
    "pred.shape"
   ]
  },
  {
   "cell_type": "code",
   "execution_count": 50,
   "metadata": {},
   "outputs": [
    {
     "data": {
      "text/plain": [
       "array([2., 9., 9., ..., 8., 4., 1.])"
      ]
     },
     "execution_count": 50,
     "metadata": {},
     "output_type": "execute_result"
    }
   ],
   "source": [
    "pred"
   ]
  },
  {
   "cell_type": "code",
   "execution_count": 51,
   "metadata": {},
   "outputs": [
    {
     "name": "stdout",
     "output_type": "stream",
     "text": [
      "F1_SCORE : 0.9506381862895352\n",
      "              precision    recall  f1-score   support\n",
      "\n",
      "         0.0       0.98      0.98      0.98      4142\n",
      "         1.0       0.97      0.98      0.98      4726\n",
      "         2.0       0.94      0.94      0.94      4194\n",
      "         3.0       0.94      0.93      0.93      4285\n",
      "         4.0       0.95      0.96      0.95      4094\n",
      "         5.0       0.93      0.94      0.93      3788\n",
      "         6.0       0.97      0.97      0.97      4125\n",
      "         7.0       0.95      0.95      0.95      4376\n",
      "         8.0       0.94      0.93      0.94      4095\n",
      "         9.0       0.93      0.92      0.93      4175\n",
      "\n",
      "    accuracy                           0.95     42000\n",
      "   macro avg       0.95      0.95      0.95     42000\n",
      "weighted avg       0.95      0.95      0.95     42000\n",
      "\n",
      "[[4067    0    9    5    3   17   14    6   12    9]\n",
      " [   0 4628   25    9    7   12    4   15   20    6]\n",
      " [  14   14 3963   31   43   11   21   43   48    6]\n",
      " [   6   17   76 3965    3   92    4   25   73   24]\n",
      " [   6    6   16    2 3910    2   30   13   11   98]\n",
      " [  15    9   18   79   15 3548   44    9   38   13]\n",
      " [  20    7   17    2   19   44 4002    1   13    0]\n",
      " [  11   17   46    6   21    4    0 4177   12   82]\n",
      " [   7   34   35   72   11   48   20    8 3826   34]\n",
      " [  17   16    9   36   91   24    1   89   31 3861]]\n"
     ]
    }
   ],
   "source": [
    "print('F1_SCORE :', f1_score(y_train, pred, average='macro'))\n",
    "print(classification_report(y_train, pred))\n",
    "print(confusion_matrix(y_train, pred))"
   ]
  },
  {
   "cell_type": "code",
   "execution_count": 52,
   "metadata": {},
   "outputs": [
    {
     "data": {
      "text/plain": [
       "(28000,)"
      ]
     },
     "execution_count": 52,
     "metadata": {},
     "output_type": "execute_result"
    }
   ],
   "source": [
    "pred_test = clf3.predict(x_test)\n",
    "pred_test.shape"
   ]
  },
  {
   "cell_type": "code",
   "execution_count": 53,
   "metadata": {},
   "outputs": [
    {
     "name": "stdout",
     "output_type": "stream",
     "text": [
      "F1_SCORE : 0.9464415460373636\n",
      "              precision    recall  f1-score   support\n",
      "\n",
      "         0.0       0.97      0.98      0.98      2761\n",
      "         1.0       0.98      0.98      0.98      3151\n",
      "         2.0       0.93      0.94      0.94      2796\n",
      "         3.0       0.94      0.92      0.93      2856\n",
      "         4.0       0.94      0.95      0.95      2730\n",
      "         5.0       0.93      0.93      0.93      2525\n",
      "         6.0       0.96      0.97      0.97      2751\n",
      "         7.0       0.95      0.94      0.95      2917\n",
      "         8.0       0.93      0.92      0.93      2730\n",
      "         9.0       0.92      0.92      0.92      2783\n",
      "\n",
      "    accuracy                           0.95     28000\n",
      "   macro avg       0.95      0.95      0.95     28000\n",
      "weighted avg       0.95      0.95      0.95     28000\n",
      "\n",
      "[[2705    0    8    3    1   17   12    0   10    5]\n",
      " [   1 3086   13   11    3    8    3    7   12    7]\n",
      " [   7   10 2637   24   26    4   23   14   48    3]\n",
      " [   6    5   48 2635    0   66    4   20   51   21]\n",
      " [   5    8   13    1 2590    3   18    2   10   80]\n",
      " [  14    7    9   48   10 2355   28    5   36   13]\n",
      " [   9    5   16    0   25   25 2666    0    5    0]\n",
      " [   8    9   47    7   16    1    1 2756    6   66]\n",
      " [  13   21   22   56   15   42   16    7 2523   15]\n",
      " [  10    6   17   18   63   11    1   77   17 2563]]\n"
     ]
    }
   ],
   "source": [
    "print('F1_SCORE :', f1_score(y_test, pred_test, average='macro'))\n",
    "print(classification_report(y_test, pred_test))\n",
    "print(confusion_matrix(y_test, pred_test))"
   ]
  },
  {
   "cell_type": "code",
   "execution_count": null,
   "metadata": {
    "collapsed": true,
    "jupyter": {
     "outputs_hidden": true
    }
   },
   "outputs": [],
   "source": []
  },
  {
   "cell_type": "code",
   "execution_count": null,
   "metadata": {
    "collapsed": true,
    "jupyter": {
     "outputs_hidden": true
    }
   },
   "outputs": [],
   "source": []
  },
  {
   "cell_type": "code",
   "execution_count": 54,
   "metadata": {},
   "outputs": [],
   "source": [
    "clfs = [clf1, clf2, clf3]"
   ]
  },
  {
   "cell_type": "code",
   "execution_count": 55,
   "metadata": {},
   "outputs": [],
   "source": [
    "pred_proba = [clf.predict_proba(x_train) for clf in clfs]"
   ]
  },
  {
   "cell_type": "code",
   "execution_count": 56,
   "metadata": {},
   "outputs": [
    {
     "data": {
      "text/plain": [
       "(42000, 10)"
      ]
     },
     "execution_count": 56,
     "metadata": {},
     "output_type": "execute_result"
    }
   ],
   "source": [
    "np.stack(pred_proba).mean(axis=0).shape"
   ]
  },
  {
   "cell_type": "code",
   "execution_count": 57,
   "metadata": {},
   "outputs": [
    {
     "name": "stdout",
     "output_type": "stream",
     "text": [
      "F1_SCORE : 0.956677338563369\n",
      "              precision    recall  f1-score   support\n",
      "\n",
      "         0.0       0.98      0.98      0.98      4142\n",
      "         1.0       0.98      0.98      0.98      4726\n",
      "         2.0       0.95      0.95      0.95      4194\n",
      "         3.0       0.95      0.94      0.94      4285\n",
      "         4.0       0.95      0.96      0.96      4094\n",
      "         5.0       0.94      0.95      0.94      3788\n",
      "         6.0       0.97      0.98      0.97      4125\n",
      "         7.0       0.96      0.96      0.96      4376\n",
      "         8.0       0.95      0.94      0.94      4095\n",
      "         9.0       0.94      0.93      0.94      4175\n",
      "\n",
      "    accuracy                           0.96     42000\n",
      "   macro avg       0.96      0.96      0.96     42000\n",
      "weighted avg       0.96      0.96      0.96     42000\n",
      "\n",
      "[[4073    0   10    4    6   13   16    6   10    4]\n",
      " [   0 4637   22    9    8    8    4   14   19    5]\n",
      " [  16   14 3992   24   32   13   18   38   39    8]\n",
      " [   4   15   55 4011    2   83    3   28   62   22]\n",
      " [   7    6   15    2 3926    2   29   12    7   88]\n",
      " [  18    7   15   63   18 3589   32    7   27   12]\n",
      " [  21    6   10    1   14   34 4024    0   15    0]\n",
      " [   7   16   36    7   23    5    1 4194    9   78]\n",
      " [   6   34   31   68   11   43   21    8 3849   24]\n",
      " [  19   11    8   33   80   19    2   79   22 3902]]\n"
     ]
    }
   ],
   "source": [
    "print('F1_SCORE :', f1_score(y_train, np.argmax(np.stack(pred_proba).mean(axis=0), axis=1), average='macro'))\n",
    "print(classification_report(y_train, np.argmax(np.stack(pred_proba).mean(axis=0), axis=1)))\n",
    "print(confusion_matrix(y_train, np.argmax(np.stack(pred_proba).mean(axis=0), axis=1)))"
   ]
  },
  {
   "cell_type": "code",
   "execution_count": 58,
   "metadata": {},
   "outputs": [],
   "source": [
    "pred_proba_test = [clf.predict_proba(x_test) for clf in clfs]"
   ]
  },
  {
   "cell_type": "code",
   "execution_count": 59,
   "metadata": {},
   "outputs": [
    {
     "data": {
      "text/plain": [
       "(28000, 10)"
      ]
     },
     "execution_count": 59,
     "metadata": {},
     "output_type": "execute_result"
    }
   ],
   "source": [
    "np.stack(pred_proba_test).mean(axis=0).shape"
   ]
  },
  {
   "cell_type": "code",
   "execution_count": 60,
   "metadata": {},
   "outputs": [
    {
     "name": "stdout",
     "output_type": "stream",
     "text": [
      "F1_SCORE : 0.9529954102177879\n",
      "              precision    recall  f1-score   support\n",
      "\n",
      "         0.0       0.98      0.98      0.98      2761\n",
      "         1.0       0.98      0.98      0.98      3151\n",
      "         2.0       0.95      0.95      0.95      2796\n",
      "         3.0       0.94      0.93      0.94      2856\n",
      "         4.0       0.95      0.95      0.95      2730\n",
      "         5.0       0.94      0.95      0.94      2525\n",
      "         6.0       0.97      0.97      0.97      2751\n",
      "         7.0       0.96      0.95      0.95      2917\n",
      "         8.0       0.94      0.93      0.94      2730\n",
      "         9.0       0.94      0.93      0.93      2783\n",
      "\n",
      "    accuracy                           0.95     28000\n",
      "   macro avg       0.95      0.95      0.95     28000\n",
      "weighted avg       0.95      0.95      0.95     28000\n",
      "\n",
      "[[2710    1    7    1    0   13   11    2   13    3]\n",
      " [   1 3097   10   12    2    4    3    5   11    6]\n",
      " [   9   10 2649   21   26    3   17   15   44    2]\n",
      " [   4    2   37 2661    0   73    5   17   38   19]\n",
      " [   4    9   17    1 2596    1   15    4   11   72]\n",
      " [   6    4    6   46   10 2390   22    4   28    9]\n",
      " [  12    4   10    0   17   21 2679    1    6    1]\n",
      " [   7    8   44    5   20    2    1 2777    3   50]\n",
      " [   9   18   10   59   16   31   14    5 2551   17]\n",
      " [   8    4   10   17   51   13    2   73   18 2587]]\n"
     ]
    }
   ],
   "source": [
    "print('F1_SCORE :', f1_score(y_test, np.argmax(np.stack(pred_proba_test).mean(axis=0), axis=1), average='macro'))\n",
    "print(classification_report(y_test, np.argmax(np.stack(pred_proba_test).mean(axis=0), axis=1)))\n",
    "print(confusion_matrix(y_test, np.argmax(np.stack(pred_proba_test).mean(axis=0), axis=1)))"
   ]
  },
  {
   "cell_type": "code",
   "execution_count": null,
   "metadata": {
    "collapsed": true,
    "jupyter": {
     "outputs_hidden": true
    }
   },
   "outputs": [],
   "source": []
  },
  {
   "cell_type": "code",
   "execution_count": null,
   "metadata": {
    "collapsed": true,
    "jupyter": {
     "outputs_hidden": true
    }
   },
   "outputs": [],
   "source": []
  },
  {
   "cell_type": "code",
   "execution_count": null,
   "metadata": {
    "collapsed": true,
    "jupyter": {
     "outputs_hidden": true
    }
   },
   "outputs": [],
   "source": []
  },
  {
   "cell_type": "code",
   "execution_count": null,
   "metadata": {
    "collapsed": true,
    "jupyter": {
     "outputs_hidden": true
    }
   },
   "outputs": [],
   "source": []
  }
 ],
 "metadata": {
  "kernelspec": {
   "display_name": "da03",
   "language": "python",
   "name": "da03"
  },
  "language_info": {
   "codemirror_mode": {
    "name": "ipython",
    "version": 3
   },
   "file_extension": ".py",
   "mimetype": "text/x-python",
   "name": "python",
   "nbconvert_exporter": "python",
   "pygments_lexer": "ipython3",
   "version": "3.6.9"
  }
 },
 "nbformat": 4,
 "nbformat_minor": 4
}
