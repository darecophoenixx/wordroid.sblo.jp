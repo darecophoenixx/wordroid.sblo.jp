{
 "cells": [
  {
   "cell_type": "code",
   "execution_count": 1,
   "metadata": {},
   "outputs": [],
   "source": [
    "epochs = 100"
   ]
  },
  {
   "cell_type": "code",
   "execution_count": 2,
   "metadata": {},
   "outputs": [
    {
     "name": "stderr",
     "output_type": "stream",
     "text": [
      "Using TensorFlow backend.\n",
      "/home/admin/miniconda3/envs/da03/lib/python3.6/site-packages/tensorflow/python/framework/dtypes.py:516: FutureWarning: Passing (type, 1) or '1type' as a synonym of type is deprecated; in a future version of numpy, it will be understood as (type, (1,)) / '(1,)type'.\n",
      "  _np_qint8 = np.dtype([(\"qint8\", np.int8, 1)])\n",
      "/home/admin/miniconda3/envs/da03/lib/python3.6/site-packages/tensorflow/python/framework/dtypes.py:517: FutureWarning: Passing (type, 1) or '1type' as a synonym of type is deprecated; in a future version of numpy, it will be understood as (type, (1,)) / '(1,)type'.\n",
      "  _np_quint8 = np.dtype([(\"quint8\", np.uint8, 1)])\n",
      "/home/admin/miniconda3/envs/da03/lib/python3.6/site-packages/tensorflow/python/framework/dtypes.py:518: FutureWarning: Passing (type, 1) or '1type' as a synonym of type is deprecated; in a future version of numpy, it will be understood as (type, (1,)) / '(1,)type'.\n",
      "  _np_qint16 = np.dtype([(\"qint16\", np.int16, 1)])\n",
      "/home/admin/miniconda3/envs/da03/lib/python3.6/site-packages/tensorflow/python/framework/dtypes.py:519: FutureWarning: Passing (type, 1) or '1type' as a synonym of type is deprecated; in a future version of numpy, it will be understood as (type, (1,)) / '(1,)type'.\n",
      "  _np_quint16 = np.dtype([(\"quint16\", np.uint16, 1)])\n",
      "/home/admin/miniconda3/envs/da03/lib/python3.6/site-packages/tensorflow/python/framework/dtypes.py:520: FutureWarning: Passing (type, 1) or '1type' as a synonym of type is deprecated; in a future version of numpy, it will be understood as (type, (1,)) / '(1,)type'.\n",
      "  _np_qint32 = np.dtype([(\"qint32\", np.int32, 1)])\n",
      "/home/admin/miniconda3/envs/da03/lib/python3.6/site-packages/tensorflow/python/framework/dtypes.py:525: FutureWarning: Passing (type, 1) or '1type' as a synonym of type is deprecated; in a future version of numpy, it will be understood as (type, (1,)) / '(1,)type'.\n",
      "  np_resource = np.dtype([(\"resource\", np.ubyte, 1)])\n",
      "/home/admin/miniconda3/envs/da03/lib/python3.6/site-packages/tensorboard/compat/tensorflow_stub/dtypes.py:541: FutureWarning: Passing (type, 1) or '1type' as a synonym of type is deprecated; in a future version of numpy, it will be understood as (type, (1,)) / '(1,)type'.\n",
      "  _np_qint8 = np.dtype([(\"qint8\", np.int8, 1)])\n",
      "/home/admin/miniconda3/envs/da03/lib/python3.6/site-packages/tensorboard/compat/tensorflow_stub/dtypes.py:542: FutureWarning: Passing (type, 1) or '1type' as a synonym of type is deprecated; in a future version of numpy, it will be understood as (type, (1,)) / '(1,)type'.\n",
      "  _np_quint8 = np.dtype([(\"quint8\", np.uint8, 1)])\n",
      "/home/admin/miniconda3/envs/da03/lib/python3.6/site-packages/tensorboard/compat/tensorflow_stub/dtypes.py:543: FutureWarning: Passing (type, 1) or '1type' as a synonym of type is deprecated; in a future version of numpy, it will be understood as (type, (1,)) / '(1,)type'.\n",
      "  _np_qint16 = np.dtype([(\"qint16\", np.int16, 1)])\n",
      "/home/admin/miniconda3/envs/da03/lib/python3.6/site-packages/tensorboard/compat/tensorflow_stub/dtypes.py:544: FutureWarning: Passing (type, 1) or '1type' as a synonym of type is deprecated; in a future version of numpy, it will be understood as (type, (1,)) / '(1,)type'.\n",
      "  _np_quint16 = np.dtype([(\"quint16\", np.uint16, 1)])\n",
      "/home/admin/miniconda3/envs/da03/lib/python3.6/site-packages/tensorboard/compat/tensorflow_stub/dtypes.py:545: FutureWarning: Passing (type, 1) or '1type' as a synonym of type is deprecated; in a future version of numpy, it will be understood as (type, (1,)) / '(1,)type'.\n",
      "  _np_qint32 = np.dtype([(\"qint32\", np.int32, 1)])\n",
      "/home/admin/miniconda3/envs/da03/lib/python3.6/site-packages/tensorboard/compat/tensorflow_stub/dtypes.py:550: FutureWarning: Passing (type, 1) or '1type' as a synonym of type is deprecated; in a future version of numpy, it will be understood as (type, (1,)) / '(1,)type'.\n",
      "  np_resource = np.dtype([(\"resource\", np.ubyte, 1)])\n"
     ]
    }
   ],
   "source": [
    "%matplotlib inline\n",
    "import os, sys\n",
    "\n",
    "import numpy as np\n",
    "import matplotlib.pyplot as plt\n",
    "from sklearn import datasets, linear_model\n",
    "from sklearn.metrics import f1_score, classification_report, confusion_matrix, make_scorer\n",
    "from sklearn.preprocessing import OneHotEncoder\n",
    "import keras\n",
    "from keras.models import Sequential\n",
    "from keras.layers import Input, Dense\n",
    "from keras.models import Model\n",
    "from keras.optimizers import SGD\n",
    "from keras import regularizers\n",
    "from keras.wrappers.scikit_learn import KerasClassifier, KerasRegressor\n",
    "from keras import backend as K\n",
    "import tensorflow as tf"
   ]
  },
  {
   "cell_type": "code",
   "execution_count": 3,
   "metadata": {},
   "outputs": [],
   "source": [
    "sys.path.append('/home/admin/github/wordroid.sblo.jp/lib')\n",
    "#from gkernel import GaussianKernel, GaussianKernel2, GaussianKernel3\n",
    "from keras_ex.gkernel.sklearn import RBFClassifier"
   ]
  },
  {
   "cell_type": "code",
   "execution_count": 4,
   "metadata": {},
   "outputs": [
    {
     "data": {
      "text/plain": [
       "((1797, 64), 0.0, 1.0)"
      ]
     },
     "execution_count": 4,
     "metadata": {},
     "output_type": "execute_result"
    }
   ],
   "source": [
    "from sklearn.datasets import load_digits\n",
    "digits = load_digits()\n",
    "X, y = digits.data, digits.target\n",
    "X = X / 16\n",
    "X.shape, X.min(), X.max()"
   ]
  },
  {
   "cell_type": "code",
   "execution_count": 5,
   "metadata": {},
   "outputs": [
    {
     "data": {
      "text/plain": [
       "(1797,)"
      ]
     },
     "execution_count": 5,
     "metadata": {},
     "output_type": "execute_result"
    }
   ],
   "source": [
    "y.shape"
   ]
  },
  {
   "cell_type": "code",
   "execution_count": 6,
   "metadata": {},
   "outputs": [],
   "source": [
    "N = y.shape[0]\n",
    "y2 = keras.utils.to_categorical(y, num_classes=10)\n",
    "y2.shape\n",
    "index = np.arange(N)\n",
    "xtrain = X[index[index % 2 != 0],:]\n",
    "ytrain = y2[index[index % 2 != 0]]\n",
    "xtest = X[index[index % 2 == 0],:]\n",
    "yans = y2[index[index % 2 == 0]]"
   ]
  },
  {
   "cell_type": "code",
   "execution_count": null,
   "metadata": {
    "collapsed": true,
    "jupyter": {
     "outputs_hidden": true
    }
   },
   "outputs": [],
   "source": []
  },
  {
   "cell_type": "code",
   "execution_count": 7,
   "metadata": {},
   "outputs": [],
   "source": [
    "from sklearn.model_selection import StratifiedShuffleSplit, GridSearchCV, validation_curve\n",
    "from sklearn.feature_selection import RFECV\n",
    "from sklearn.linear_model import LogisticRegression, Lasso\n",
    "import pandas as pd\n",
    "from sklearn.metrics import mean_squared_error, mean_absolute_error, roc_auc_score, r2_score, make_scorer\n",
    "from sklearn.metrics.pairwise import cosine_similarity, euclidean_distances\n",
    "import joblib\n",
    "\n",
    "from lightgbm import LGBMClassifier"
   ]
  },
  {
   "cell_type": "code",
   "execution_count": 8,
   "metadata": {},
   "outputs": [],
   "source": [
    "import warnings\n",
    "warnings.filterwarnings('ignore')"
   ]
  },
  {
   "cell_type": "code",
   "execution_count": 9,
   "metadata": {},
   "outputs": [],
   "source": [
    "def f1_scorer(estimator, X, y):\n",
    "    pred = estimator.predict(X)\n",
    "    s = f1_score(y, pred, average='macro')\n",
    "    return s"
   ]
  },
  {
   "cell_type": "markdown",
   "metadata": {},
   "source": [
    "## BENCHMARK LogisticRegression"
   ]
  },
  {
   "cell_type": "code",
   "execution_count": 10,
   "metadata": {},
   "outputs": [
    {
     "data": {
      "text/plain": [
       "3"
      ]
     },
     "execution_count": 10,
     "metadata": {},
     "output_type": "execute_result"
    }
   ],
   "source": [
    "cv_splitter = StratifiedShuffleSplit(n_splits=3, test_size=0.35, random_state=0)\n",
    "cv_splitter.get_n_splits(xtrain, ytrain)"
   ]
  },
  {
   "cell_type": "code",
   "execution_count": 11,
   "metadata": {},
   "outputs": [
    {
     "data": {
      "text/plain": [
       "array([1.e-03, 1.e-02, 1.e-01, 1.e+00, 1.e+01, 1.e+02, 1.e+03])"
      ]
     },
     "execution_count": 11,
     "metadata": {},
     "output_type": "execute_result"
    }
   ],
   "source": [
    "param_name = \"C\"\n",
    "param_range = np.logspace(-3, 3, 7)\n",
    "param_range"
   ]
  },
  {
   "cell_type": "code",
   "execution_count": 12,
   "metadata": {},
   "outputs": [
    {
     "name": "stderr",
     "output_type": "stream",
     "text": [
      "[Parallel(n_jobs=1)]: Using backend SequentialBackend with 1 concurrent workers.\n",
      "[Parallel(n_jobs=1)]: Done   1 out of   1 | elapsed:    0.0s remaining:    0.0s\n"
     ]
    },
    {
     "name": "stdout",
     "output_type": "stream",
     "text": [
      "[CV] C=0.001 .........................................................\n",
      "[CV] .......................................... C=0.001, total=   0.0s\n",
      "[CV] C=0.01 ..........................................................\n",
      "[CV] ........................................... C=0.01, total=   0.0s\n",
      "[CV] C=0.1 ...........................................................\n",
      "[CV] ............................................ C=0.1, total=   0.4s\n",
      "[CV] C=1.0 ...........................................................\n",
      "[CV] ............................................ C=1.0, total=   1.2s\n",
      "[CV] C=10.0 ..........................................................\n",
      "[CV] ........................................... C=10.0, total=   4.0s\n",
      "[CV] C=100.0 .........................................................\n",
      "[CV] .......................................... C=100.0, total=   4.3s\n",
      "[CV] C=1000.0 ........................................................\n",
      "[CV] ......................................... C=1000.0, total=   4.0s\n",
      "[CV] C=0.001 .........................................................\n",
      "[CV] .......................................... C=0.001, total=   0.0s\n",
      "[CV] C=0.01 ..........................................................\n",
      "[CV] ........................................... C=0.01, total=   0.0s\n",
      "[CV] C=0.1 ...........................................................\n",
      "[CV] ............................................ C=0.1, total=   0.4s\n",
      "[CV] C=1.0 ...........................................................\n",
      "[CV] ............................................ C=1.0, total=   1.2s\n",
      "[CV] C=10.0 ..........................................................\n",
      "[CV] ........................................... C=10.0, total=   5.3s\n",
      "[CV] C=100.0 .........................................................\n",
      "[CV] .......................................... C=100.0, total=   5.1s\n",
      "[CV] C=1000.0 ........................................................\n",
      "[CV] ......................................... C=1000.0, total=   4.5s\n",
      "[CV] C=0.001 .........................................................\n",
      "[CV] .......................................... C=0.001, total=   0.0s\n",
      "[CV] C=0.01 ..........................................................\n",
      "[CV] ........................................... C=0.01, total=   0.0s\n",
      "[CV] C=0.1 ...........................................................\n",
      "[CV] ............................................ C=0.1, total=   0.2s\n",
      "[CV] C=1.0 ...........................................................\n",
      "[CV] ............................................ C=1.0, total=   1.0s\n",
      "[CV] C=10.0 ..........................................................\n",
      "[CV] ........................................... C=10.0, total=   4.1s\n",
      "[CV] C=100.0 .........................................................\n",
      "[CV] .......................................... C=100.0, total=   4.7s\n",
      "[CV] C=1000.0 ........................................................\n",
      "[CV] ......................................... C=1000.0, total=   4.3s\n",
      "CPU times: user 44.6 s, sys: 5.04 ms, total: 44.6 s\n",
      "Wall time: 44.6 s\n"
     ]
    },
    {
     "name": "stderr",
     "output_type": "stream",
     "text": [
      "[Parallel(n_jobs=1)]: Done  21 out of  21 | elapsed:   44.6s finished\n"
     ]
    }
   ],
   "source": [
    "%%time\n",
    "\n",
    "train_scores, test_scores = validation_curve(\n",
    "    LogisticRegression(penalty='l1', multi_class='multinomial', solver='saga', max_iter=10000),\n",
    "    xtrain, np.argmax(ytrain, axis=1),\n",
    "    param_name=param_name, param_range=param_range,\n",
    "    cv=cv_splitter, n_jobs=1, verbose=2, scoring=f1_scorer)"
   ]
  },
  {
   "cell_type": "code",
   "execution_count": 13,
   "metadata": {},
   "outputs": [
    {
     "data": {
      "text/plain": [
       "array([[1.00000000e-03, 1.81908749e-02, 1.82688944e-02],\n",
       "       [1.00000000e-02, 1.80964287e-02, 1.80939848e-02],\n",
       "       [1.00000000e-01, 8.83084412e-01, 8.17783004e-01],\n",
       "       [1.00000000e+00, 9.85584329e-01, 9.31559398e-01],\n",
       "       [1.00000000e+01, 1.00000000e+00, 9.41272087e-01],\n",
       "       [1.00000000e+02, 1.00000000e+00, 9.44531466e-01],\n",
       "       [1.00000000e+03, 1.00000000e+00, 9.42442747e-01]])"
      ]
     },
     "execution_count": 13,
     "metadata": {},
     "output_type": "execute_result"
    }
   ],
   "source": [
    "train_scores_mean = np.mean(train_scores, axis=1)\n",
    "train_scores_std = np.std(train_scores, axis=1)\n",
    "test_scores_mean = np.mean(test_scores, axis=1)\n",
    "test_scores_std = np.std(test_scores, axis=1)\n",
    "np.c_[param_range, train_scores_mean, test_scores_mean]"
   ]
  },
  {
   "cell_type": "code",
   "execution_count": 14,
   "metadata": {},
   "outputs": [
    {
     "data": {
      "text/plain": [
       "<matplotlib.legend.Legend at 0x7f024653e390>"
      ]
     },
     "execution_count": 14,
     "metadata": {},
     "output_type": "execute_result"
    },
    {
     "data": {
      "image/png": "[encoded data removed]",
      "text/plain": [
       "<Figure size 432x288 with 1 Axes>"
      ]
     },
     "metadata": {
      "needs_background": "light"
     },
     "output_type": "display_data"
    }
   ],
   "source": [
    "plt.title(\"Validation Curve\")\n",
    "plt.xlabel(\"param\")\n",
    "plt.ylabel(\"Score\")\n",
    "plt.ylim(0.0, 1.1)\n",
    "lw = 2\n",
    "plt.semilogx(param_range, train_scores_mean, label=\"Training score\",\n",
    "             color=\"darkorange\", lw=lw)\n",
    "plt.fill_between(param_range, train_scores_mean - train_scores_std,\n",
    "                 train_scores_mean + train_scores_std, alpha=0.2,\n",
    "                 color=\"darkorange\", lw=lw)\n",
    "plt.semilogx(param_range, test_scores_mean, label=\"Cross-validation score\",\n",
    "             color=\"navy\", lw=lw)\n",
    "plt.fill_between(param_range, test_scores_mean - test_scores_std,\n",
    "                 test_scores_mean + test_scores_std, alpha=0.2,\n",
    "                 color=\"navy\", lw=lw)\n",
    "plt.legend(loc=\"best\")"
   ]
  },
  {
   "cell_type": "code",
   "execution_count": 15,
   "metadata": {},
   "outputs": [
    {
     "data": {
      "text/plain": [
       "LogisticRegression(C=1000, class_weight=None, dual=False, fit_intercept=True,\n",
       "                   intercept_scaling=1, l1_ratio=None, max_iter=10000,\n",
       "                   multi_class='multinomial', n_jobs=None, penalty='l1',\n",
       "                   random_state=None, solver='saga', tol=0.0001, verbose=0,\n",
       "                   warm_start=False)"
      ]
     },
     "execution_count": 15,
     "metadata": {},
     "output_type": "execute_result"
    }
   ],
   "source": [
    "'''test data'''\n",
    "est = LogisticRegression(penalty='l1', multi_class='multinomial', solver='saga', max_iter=10000, C=1000)\n",
    "est.fit(xtrain, np.argmax(ytrain, axis=1))"
   ]
  },
  {
   "cell_type": "code",
   "execution_count": 16,
   "metadata": {},
   "outputs": [],
   "source": [
    "pred = est.predict(xtrain)"
   ]
  },
  {
   "cell_type": "code",
   "execution_count": 17,
   "metadata": {},
   "outputs": [
    {
     "name": "stdout",
     "output_type": "stream",
     "text": [
      "F1_SCORE : 1.0\n",
      "              precision    recall  f1-score   support\n",
      "\n",
      "           0       1.00      1.00      1.00        88\n",
      "           1       1.00      1.00      1.00        89\n",
      "           2       1.00      1.00      1.00        91\n",
      "           3       1.00      1.00      1.00        93\n",
      "           4       1.00      1.00      1.00        88\n",
      "           5       1.00      1.00      1.00        91\n",
      "           6       1.00      1.00      1.00        90\n",
      "           7       1.00      1.00      1.00        91\n",
      "           8       1.00      1.00      1.00        86\n",
      "           9       1.00      1.00      1.00        91\n",
      "\n",
      "    accuracy                           1.00       898\n",
      "   macro avg       1.00      1.00      1.00       898\n",
      "weighted avg       1.00      1.00      1.00       898\n",
      "\n",
      "[[88  0  0  0  0  0  0  0  0  0]\n",
      " [ 0 89  0  0  0  0  0  0  0  0]\n",
      " [ 0  0 91  0  0  0  0  0  0  0]\n",
      " [ 0  0  0 93  0  0  0  0  0  0]\n",
      " [ 0  0  0  0 88  0  0  0  0  0]\n",
      " [ 0  0  0  0  0 91  0  0  0  0]\n",
      " [ 0  0  0  0  0  0 90  0  0  0]\n",
      " [ 0  0  0  0  0  0  0 91  0  0]\n",
      " [ 0  0  0  0  0  0  0  0 86  0]\n",
      " [ 0  0  0  0  0  0  0  0  0 91]]\n"
     ]
    }
   ],
   "source": [
    "print('F1_SCORE :', f1_score(np.argmax(ytrain, axis=1), pred, average='macro'))\n",
    "print(classification_report(np.argmax(ytrain, axis=1), pred))\n",
    "print(confusion_matrix(np.argmax(ytrain, axis=1), pred))"
   ]
  },
  {
   "cell_type": "code",
   "execution_count": 18,
   "metadata": {},
   "outputs": [],
   "source": [
    "pred_test = est.predict(xtest)"
   ]
  },
  {
   "cell_type": "code",
   "execution_count": 19,
   "metadata": {},
   "outputs": [
    {
     "name": "stdout",
     "output_type": "stream",
     "text": [
      "F1_SCORE : 0.9644145537214686\n",
      "              precision    recall  f1-score   support\n",
      "\n",
      "           0       1.00      1.00      1.00        90\n",
      "           1       0.96      0.91      0.93        93\n",
      "           2       0.98      1.00      0.99        86\n",
      "           3       0.97      0.99      0.98        90\n",
      "           4       1.00      0.97      0.98        93\n",
      "           5       0.95      0.98      0.96        91\n",
      "           6       1.00      0.98      0.99        91\n",
      "           7       0.97      0.98      0.97        88\n",
      "           8       0.88      0.92      0.90        88\n",
      "           9       0.95      0.92      0.94        89\n",
      "\n",
      "    accuracy                           0.96       899\n",
      "   macro avg       0.96      0.96      0.96       899\n",
      "weighted avg       0.96      0.96      0.96       899\n",
      "\n",
      "[[90  0  0  0  0  0  0  0  0  0]\n",
      " [ 0 85  2  1  0  1  0  0  4  0]\n",
      " [ 0  0 86  0  0  0  0  0  0  0]\n",
      " [ 0  0  0 89  0  0  0  0  1  0]\n",
      " [ 0  0  0  0 90  0  0  1  0  2]\n",
      " [ 0  0  0  0  0 89  0  1  0  1]\n",
      " [ 0  0  0  0  0  1 89  0  1  0]\n",
      " [ 0  0  0  0  0  0  0 86  1  1]\n",
      " [ 0  4  0  1  0  1  0  1 81  0]\n",
      " [ 0  0  0  1  0  2  0  0  4 82]]\n"
     ]
    }
   ],
   "source": [
    "print('F1_SCORE :', f1_score(np.argmax(yans, axis=1), pred_test, average='macro'))\n",
    "print(classification_report(np.argmax(yans, axis=1), pred_test))\n",
    "print(confusion_matrix(np.argmax(yans, axis=1), pred_test))"
   ]
  },
  {
   "cell_type": "code",
   "execution_count": null,
   "metadata": {
    "collapsed": true,
    "jupyter": {
     "outputs_hidden": true
    }
   },
   "outputs": [],
   "source": []
  },
  {
   "cell_type": "markdown",
   "metadata": {},
   "source": [
    "## Bagging + Logit"
   ]
  },
  {
   "cell_type": "code",
   "execution_count": 20,
   "metadata": {},
   "outputs": [],
   "source": [
    "from sklearn.ensemble import BaggingClassifier"
   ]
  },
  {
   "cell_type": "code",
   "execution_count": 21,
   "metadata": {},
   "outputs": [],
   "source": [
    "clf = BaggingClassifier(\n",
    "    LogisticRegression(penalty='l1', multi_class='multinomial', solver='saga', max_iter=10000, C=1000),\n",
    "    max_samples=0.5,\n",
    "    verbose=2\n",
    ")"
   ]
  },
  {
   "cell_type": "code",
   "execution_count": 22,
   "metadata": {},
   "outputs": [
    {
     "name": "stderr",
     "output_type": "stream",
     "text": [
      "[Parallel(n_jobs=1)]: Using backend SequentialBackend with 1 concurrent workers.\n"
     ]
    },
    {
     "name": "stdout",
     "output_type": "stream",
     "text": [
      "Building estimator 1 of 10 for this parallel run (total 10)...\n",
      "Building estimator 2 of 10 for this parallel run (total 10)...\n",
      "Building estimator 3 of 10 for this parallel run (total 10)...\n",
      "Building estimator 4 of 10 for this parallel run (total 10)...\n",
      "Building estimator 5 of 10 for this parallel run (total 10)...\n",
      "Building estimator 6 of 10 for this parallel run (total 10)...\n",
      "Building estimator 7 of 10 for this parallel run (total 10)...\n",
      "Building estimator 8 of 10 for this parallel run (total 10)...\n",
      "Building estimator 9 of 10 for this parallel run (total 10)...\n",
      "Building estimator 10 of 10 for this parallel run (total 10)...\n"
     ]
    },
    {
     "name": "stderr",
     "output_type": "stream",
     "text": [
      "[Parallel(n_jobs=1)]: Done   1 out of   1 | elapsed:  1.1min remaining:    0.0s\n",
      "[Parallel(n_jobs=1)]: Done   1 out of   1 | elapsed:  1.1min finished\n"
     ]
    },
    {
     "data": {
      "text/plain": [
       "BaggingClassifier(base_estimator=LogisticRegression(C=1000, class_weight=None,\n",
       "                                                    dual=False,\n",
       "                                                    fit_intercept=True,\n",
       "                                                    intercept_scaling=1,\n",
       "                                                    l1_ratio=None,\n",
       "                                                    max_iter=10000,\n",
       "                                                    multi_class='multinomial',\n",
       "                                                    n_jobs=None, penalty='l1',\n",
       "                                                    random_state=None,\n",
       "                                                    solver='saga', tol=0.0001,\n",
       "                                                    verbose=0,\n",
       "                                                    warm_start=False),\n",
       "                  bootstrap=True, bootstrap_features=False, max_features=1.0,\n",
       "                  max_samples=0.5, n_estimators=10, n_jobs=None,\n",
       "                  oob_score=False, random_state=None, verbose=2,\n",
       "                  warm_start=False)"
      ]
     },
     "execution_count": 22,
     "metadata": {},
     "output_type": "execute_result"
    }
   ],
   "source": [
    "clf.fit(xtrain, np.argmax(ytrain, axis=1))"
   ]
  },
  {
   "cell_type": "code",
   "execution_count": 23,
   "metadata": {},
   "outputs": [
    {
     "name": "stderr",
     "output_type": "stream",
     "text": [
      "[Parallel(n_jobs=1)]: Using backend SequentialBackend with 1 concurrent workers.\n",
      "[Parallel(n_jobs=1)]: Done   1 out of   1 | elapsed:    0.0s remaining:    0.0s\n",
      "[Parallel(n_jobs=1)]: Done   1 out of   1 | elapsed:    0.0s finished\n"
     ]
    }
   ],
   "source": [
    "pred = clf.predict(xtrain)"
   ]
  },
  {
   "cell_type": "code",
   "execution_count": 24,
   "metadata": {},
   "outputs": [
    {
     "name": "stdout",
     "output_type": "stream",
     "text": [
      "F1_SCORE : 0.9843736256502748\n",
      "              precision    recall  f1-score   support\n",
      "\n",
      "           0       1.00      1.00      1.00        88\n",
      "           1       0.95      1.00      0.97        89\n",
      "           2       0.99      0.99      0.99        91\n",
      "           3       1.00      0.98      0.99        93\n",
      "           4       1.00      0.98      0.99        88\n",
      "           5       0.99      0.98      0.98        91\n",
      "           6       0.99      0.99      0.99        90\n",
      "           7       1.00      1.00      1.00        91\n",
      "           8       0.98      0.95      0.96        86\n",
      "           9       0.96      0.98      0.97        91\n",
      "\n",
      "    accuracy                           0.98       898\n",
      "   macro avg       0.98      0.98      0.98       898\n",
      "weighted avg       0.98      0.98      0.98       898\n",
      "\n",
      "[[88  0  0  0  0  0  0  0  0  0]\n",
      " [ 0 89  0  0  0  0  0  0  0  0]\n",
      " [ 0  1 90  0  0  0  0  0  0  0]\n",
      " [ 0  0  0 91  0  0  0  0  1  1]\n",
      " [ 0  0  0  0 86  0  0  0  0  2]\n",
      " [ 0  0  0  0  0 89  1  0  0  1]\n",
      " [ 0  1  0  0  0  0 89  0  0  0]\n",
      " [ 0  0  0  0  0  0  0 91  0  0]\n",
      " [ 0  2  1  0  0  1  0  0 82  0]\n",
      " [ 0  1  0  0  0  0  0  0  1 89]]\n"
     ]
    }
   ],
   "source": [
    "print('F1_SCORE :', f1_score(np.argmax(ytrain, axis=1), pred, average='macro'))\n",
    "print(classification_report(np.argmax(ytrain, axis=1), pred))\n",
    "print(confusion_matrix(np.argmax(ytrain, axis=1), pred))"
   ]
  },
  {
   "cell_type": "code",
   "execution_count": 25,
   "metadata": {},
   "outputs": [
    {
     "name": "stderr",
     "output_type": "stream",
     "text": [
      "[Parallel(n_jobs=1)]: Using backend SequentialBackend with 1 concurrent workers.\n",
      "[Parallel(n_jobs=1)]: Done   1 out of   1 | elapsed:    0.0s remaining:    0.0s\n",
      "[Parallel(n_jobs=1)]: Done   1 out of   1 | elapsed:    0.0s finished\n"
     ]
    }
   ],
   "source": [
    "pred_test = clf.predict(xtest)"
   ]
  },
  {
   "cell_type": "code",
   "execution_count": 26,
   "metadata": {},
   "outputs": [
    {
     "name": "stdout",
     "output_type": "stream",
     "text": [
      "F1_SCORE : 0.9622725198201353\n",
      "              precision    recall  f1-score   support\n",
      "\n",
      "           0       1.00      1.00      1.00        90\n",
      "           1       0.93      0.97      0.95        93\n",
      "           2       0.98      0.99      0.98        86\n",
      "           3       0.99      0.93      0.96        90\n",
      "           4       1.00      0.97      0.98        93\n",
      "           5       0.97      0.96      0.96        91\n",
      "           6       1.00      0.98      0.99        91\n",
      "           7       0.96      0.98      0.97        88\n",
      "           8       0.88      0.92      0.90        88\n",
      "           9       0.93      0.93      0.93        89\n",
      "\n",
      "    accuracy                           0.96       899\n",
      "   macro avg       0.96      0.96      0.96       899\n",
      "weighted avg       0.96      0.96      0.96       899\n",
      "\n",
      "[[90  0  0  0  0  0  0  0  0  0]\n",
      " [ 0 90  1  0  0  0  0  0  2  0]\n",
      " [ 0  1 85  0  0  0  0  0  0  0]\n",
      " [ 0  0  0 84  0  0  0  1  5  0]\n",
      " [ 0  0  0  0 90  0  0  1  0  2]\n",
      " [ 0  0  1  0  0 87  0  1  0  2]\n",
      " [ 0  0  0  0  0  1 89  0  1  0]\n",
      " [ 0  0  0  0  0  0  0 86  1  1]\n",
      " [ 0  5  0  0  0  0  0  1 81  1]\n",
      " [ 0  1  0  1  0  2  0  0  2 83]]\n"
     ]
    }
   ],
   "source": [
    "print('F1_SCORE :', f1_score(np.argmax(yans, axis=1), pred_test, average='macro'))\n",
    "print(classification_report(np.argmax(yans, axis=1), pred_test))\n",
    "print(confusion_matrix(np.argmax(yans, axis=1), pred_test))"
   ]
  },
  {
   "cell_type": "code",
   "execution_count": null,
   "metadata": {
    "collapsed": true,
    "jupyter": {
     "outputs_hidden": true
    }
   },
   "outputs": [],
   "source": []
  },
  {
   "cell_type": "markdown",
   "metadata": {},
   "source": [
    "## BENCHMARK LGBMClassifier"
   ]
  },
  {
   "cell_type": "code",
   "execution_count": 27,
   "metadata": {},
   "outputs": [
    {
     "data": {
      "text/plain": [
       "3"
      ]
     },
     "execution_count": 27,
     "metadata": {},
     "output_type": "execute_result"
    }
   ],
   "source": [
    "cv_splitter = StratifiedShuffleSplit(n_splits=3, test_size=0.35, random_state=0)\n",
    "cv_splitter.get_n_splits(xtrain, ytrain)"
   ]
  },
  {
   "cell_type": "code",
   "execution_count": 28,
   "metadata": {},
   "outputs": [
    {
     "data": {
      "text/plain": [
       "array([1.e-03, 1.e-02, 1.e-01, 1.e+00, 1.e+01, 1.e+02, 1.e+03])"
      ]
     },
     "execution_count": 28,
     "metadata": {},
     "output_type": "execute_result"
    }
   ],
   "source": [
    "param_name = \"reg_alpha\"\n",
    "param_range = np.logspace(-3, 3, 7)\n",
    "param_range"
   ]
  },
  {
   "cell_type": "code",
   "execution_count": 29,
   "metadata": {},
   "outputs": [
    {
     "name": "stderr",
     "output_type": "stream",
     "text": [
      "[Parallel(n_jobs=1)]: Using backend SequentialBackend with 1 concurrent workers.\n"
     ]
    },
    {
     "name": "stdout",
     "output_type": "stream",
     "text": [
      "[CV] reg_alpha=0.001 .................................................\n",
      "[CV] .................................. reg_alpha=0.001, total=   0.5s\n",
      "[CV] reg_alpha=0.01 ..................................................\n"
     ]
    },
    {
     "name": "stderr",
     "output_type": "stream",
     "text": [
      "[Parallel(n_jobs=1)]: Done   1 out of   1 | elapsed:    0.5s remaining:    0.0s\n"
     ]
    },
    {
     "name": "stdout",
     "output_type": "stream",
     "text": [
      "[CV] ................................... reg_alpha=0.01, total=   0.5s\n",
      "[CV] reg_alpha=0.1 ...................................................\n",
      "[CV] .................................... reg_alpha=0.1, total=   0.4s\n",
      "[CV] reg_alpha=1.0 ...................................................\n",
      "[CV] .................................... reg_alpha=1.0, total=   0.3s\n",
      "[CV] reg_alpha=10.0 ..................................................\n",
      "[CV] ................................... reg_alpha=10.0, total=   0.2s\n",
      "[CV] reg_alpha=100.0 .................................................\n",
      "[CV] .................................. reg_alpha=100.0, total=   0.1s\n",
      "[CV] reg_alpha=1000.0 ................................................\n",
      "[CV] ................................. reg_alpha=1000.0, total=   0.1s\n",
      "[CV] reg_alpha=0.001 .................................................\n",
      "[CV] .................................. reg_alpha=0.001, total=   0.4s\n",
      "[CV] reg_alpha=0.01 ..................................................\n",
      "[CV] ................................... reg_alpha=0.01, total=   0.4s\n",
      "[CV] reg_alpha=0.1 ...................................................\n",
      "[CV] .................................... reg_alpha=0.1, total=   0.4s\n",
      "[CV] reg_alpha=1.0 ...................................................\n",
      "[CV] .................................... reg_alpha=1.0, total=   0.3s\n",
      "[CV] reg_alpha=10.0 ..................................................\n",
      "[CV] ................................... reg_alpha=10.0, total=   0.2s\n",
      "[CV] reg_alpha=100.0 .................................................\n",
      "[CV] .................................. reg_alpha=100.0, total=   0.1s\n",
      "[CV] reg_alpha=1000.0 ................................................\n",
      "[CV] ................................. reg_alpha=1000.0, total=   0.1s\n",
      "[CV] reg_alpha=0.001 .................................................\n",
      "[CV] .................................. reg_alpha=0.001, total=   0.5s\n",
      "[CV] reg_alpha=0.01 ..................................................\n",
      "[CV] ................................... reg_alpha=0.01, total=   0.4s\n",
      "[CV] reg_alpha=0.1 ...................................................\n",
      "[CV] .................................... reg_alpha=0.1, total=   0.4s\n",
      "[CV] reg_alpha=1.0 ...................................................\n",
      "[CV] .................................... reg_alpha=1.0, total=   0.3s\n",
      "[CV] reg_alpha=10.0 ..................................................\n",
      "[CV] ................................... reg_alpha=10.0, total=   0.2s\n",
      "[CV] reg_alpha=100.0 .................................................\n",
      "[CV] .................................. reg_alpha=100.0, total=   0.1s\n",
      "[CV] reg_alpha=1000.0 ................................................\n",
      "[CV] ................................. reg_alpha=1000.0, total=   0.1s\n",
      "CPU times: user 12 s, sys: 2.47 s, total: 14.4 s\n",
      "Wall time: 6.09 s\n"
     ]
    },
    {
     "name": "stderr",
     "output_type": "stream",
     "text": [
      "[Parallel(n_jobs=1)]: Done  21 out of  21 | elapsed:    6.1s finished\n"
     ]
    }
   ],
   "source": [
    "%%time\n",
    "\n",
    "train_scores, test_scores = validation_curve(\n",
    "    LGBMClassifier(\n",
    "        min_child_samples=20,\n",
    "        reg_alpha=0.1\n",
    "    ),\n",
    "    xtrain, np.argmax(ytrain, axis=1),\n",
    "    param_name=param_name, param_range=param_range,\n",
    "    cv=cv_splitter, n_jobs=1, verbose=2, scoring=f1_scorer)"
   ]
  },
  {
   "cell_type": "code",
   "execution_count": 30,
   "metadata": {},
   "outputs": [
    {
     "data": {
      "text/plain": [
       "array([[1.00000000e-03, 1.00000000e+00, 9.28927200e-01],\n",
       "       [1.00000000e-02, 1.00000000e+00, 9.30122641e-01],\n",
       "       [1.00000000e-01, 1.00000000e+00, 9.22696488e-01],\n",
       "       [1.00000000e+00, 1.00000000e+00, 9.11894179e-01],\n",
       "       [1.00000000e+01, 9.52515614e-01, 8.66954158e-01],\n",
       "       [1.00000000e+02, 1.86625194e-02, 1.89655172e-02],\n",
       "       [1.00000000e+03, 1.86625194e-02, 1.89655172e-02]])"
      ]
     },
     "execution_count": 30,
     "metadata": {},
     "output_type": "execute_result"
    }
   ],
   "source": [
    "train_scores_mean = np.mean(train_scores, axis=1)\n",
    "train_scores_std = np.std(train_scores, axis=1)\n",
    "test_scores_mean = np.mean(test_scores, axis=1)\n",
    "test_scores_std = np.std(test_scores, axis=1)\n",
    "np.c_[param_range, train_scores_mean, test_scores_mean]"
   ]
  },
  {
   "cell_type": "code",
   "execution_count": 31,
   "metadata": {},
   "outputs": [
    {
     "data": {
      "text/plain": [
       "<matplotlib.legend.Legend at 0x7f02440e0f60>"
      ]
     },
     "execution_count": 31,
     "metadata": {},
     "output_type": "execute_result"
    },
    {
     "data": {
      "image/png": "[encoded data removed]",
      "text/plain": [
       "<Figure size 432x288 with 1 Axes>"
      ]
     },
     "metadata": {
      "needs_background": "light"
     },
     "output_type": "display_data"
    }
   ],
   "source": [
    "plt.title(\"Validation Curve\")\n",
    "plt.xlabel(\"param\")\n",
    "plt.ylabel(\"Score\")\n",
    "plt.ylim(0.0, 1.1)\n",
    "lw = 2\n",
    "plt.semilogx(param_range, train_scores_mean, label=\"Training score\",\n",
    "             color=\"darkorange\", lw=lw)\n",
    "plt.fill_between(param_range, train_scores_mean - train_scores_std,\n",
    "                 train_scores_mean + train_scores_std, alpha=0.2,\n",
    "                 color=\"darkorange\", lw=lw)\n",
    "plt.semilogx(param_range, test_scores_mean, label=\"Cross-validation score\",\n",
    "             color=\"navy\", lw=lw)\n",
    "plt.fill_between(param_range, test_scores_mean - test_scores_std,\n",
    "                 test_scores_mean + test_scores_std, alpha=0.2,\n",
    "                 color=\"navy\", lw=lw)\n",
    "plt.legend(loc=\"best\")"
   ]
  },
  {
   "cell_type": "code",
   "execution_count": 32,
   "metadata": {},
   "outputs": [
    {
     "data": {
      "text/plain": [
       "LGBMClassifier(boosting_type='gbdt', class_weight=None, colsample_bytree=1.0,\n",
       "               importance_type='split', learning_rate=0.1, max_depth=-1,\n",
       "               min_child_samples=20, min_child_weight=0.001, min_split_gain=0.0,\n",
       "               n_estimators=100, n_jobs=-1, num_leaves=31, objective=None,\n",
       "               random_state=None, reg_alpha=0.1, reg_lambda=0.0, silent=True,\n",
       "               subsample=1.0, subsample_for_bin=200000, subsample_freq=0)"
      ]
     },
     "execution_count": 32,
     "metadata": {},
     "output_type": "execute_result"
    }
   ],
   "source": [
    "'''test data'''\n",
    "est = LGBMClassifier(\n",
    "        min_child_samples=20,\n",
    "        reg_alpha=0.1\n",
    "    )\n",
    "est.fit(xtrain, np.argmax(ytrain, axis=1))"
   ]
  },
  {
   "cell_type": "code",
   "execution_count": 33,
   "metadata": {},
   "outputs": [],
   "source": [
    "pred = est.predict(xtrain)"
   ]
  },
  {
   "cell_type": "code",
   "execution_count": 34,
   "metadata": {},
   "outputs": [
    {
     "name": "stdout",
     "output_type": "stream",
     "text": [
      "F1_SCORE : 1.0\n",
      "              precision    recall  f1-score   support\n",
      "\n",
      "           0       1.00      1.00      1.00        88\n",
      "           1       1.00      1.00      1.00        89\n",
      "           2       1.00      1.00      1.00        91\n",
      "           3       1.00      1.00      1.00        93\n",
      "           4       1.00      1.00      1.00        88\n",
      "           5       1.00      1.00      1.00        91\n",
      "           6       1.00      1.00      1.00        90\n",
      "           7       1.00      1.00      1.00        91\n",
      "           8       1.00      1.00      1.00        86\n",
      "           9       1.00      1.00      1.00        91\n",
      "\n",
      "    accuracy                           1.00       898\n",
      "   macro avg       1.00      1.00      1.00       898\n",
      "weighted avg       1.00      1.00      1.00       898\n",
      "\n",
      "[[88  0  0  0  0  0  0  0  0  0]\n",
      " [ 0 89  0  0  0  0  0  0  0  0]\n",
      " [ 0  0 91  0  0  0  0  0  0  0]\n",
      " [ 0  0  0 93  0  0  0  0  0  0]\n",
      " [ 0  0  0  0 88  0  0  0  0  0]\n",
      " [ 0  0  0  0  0 91  0  0  0  0]\n",
      " [ 0  0  0  0  0  0 90  0  0  0]\n",
      " [ 0  0  0  0  0  0  0 91  0  0]\n",
      " [ 0  0  0  0  0  0  0  0 86  0]\n",
      " [ 0  0  0  0  0  0  0  0  0 91]]\n"
     ]
    }
   ],
   "source": [
    "print('F1_SCORE :', f1_score(np.argmax(ytrain, axis=1), pred, average='macro'))\n",
    "print(classification_report(np.argmax(ytrain, axis=1), pred))\n",
    "print(confusion_matrix(np.argmax(ytrain, axis=1), pred))"
   ]
  },
  {
   "cell_type": "code",
   "execution_count": 35,
   "metadata": {},
   "outputs": [],
   "source": [
    "pred_test = est.predict(xtest)"
   ]
  },
  {
   "cell_type": "code",
   "execution_count": 36,
   "metadata": {},
   "outputs": [
    {
     "name": "stdout",
     "output_type": "stream",
     "text": [
      "F1_SCORE : 0.962305803067745\n",
      "              precision    recall  f1-score   support\n",
      "\n",
      "           0       0.99      0.98      0.98        90\n",
      "           1       0.96      0.95      0.95        93\n",
      "           2       0.98      0.99      0.98        86\n",
      "           3       0.93      0.94      0.94        90\n",
      "           4       0.99      0.94      0.96        93\n",
      "           5       0.94      0.99      0.96        91\n",
      "           6       1.00      0.96      0.98        91\n",
      "           7       0.98      0.99      0.98        88\n",
      "           8       0.92      0.93      0.93        88\n",
      "           9       0.95      0.97      0.96        89\n",
      "\n",
      "    accuracy                           0.96       899\n",
      "   macro avg       0.96      0.96      0.96       899\n",
      "weighted avg       0.96      0.96      0.96       899\n",
      "\n",
      "[[88  0  0  0  0  2  0  0  0  0]\n",
      " [ 1 88  2  2  0  0  0  0  0  0]\n",
      " [ 0  0 85  1  0  0  0  0  0  0]\n",
      " [ 0  0  0 85  0  1  0  0  3  1]\n",
      " [ 0  2  0  0 87  0  0  0  1  3]\n",
      " [ 0  0  0  0  0 90  0  0  0  1]\n",
      " [ 0  0  0  0  1  2 87  0  1  0]\n",
      " [ 0  0  0  0  0  0  0 87  1  0]\n",
      " [ 0  1  0  3  0  0  0  2 82  0]\n",
      " [ 0  1  0  0  0  1  0  0  1 86]]\n"
     ]
    }
   ],
   "source": [
    "print('F1_SCORE :', f1_score(np.argmax(yans, axis=1), pred_test, average='macro'))\n",
    "print(classification_report(np.argmax(yans, axis=1), pred_test))\n",
    "print(confusion_matrix(np.argmax(yans, axis=1), pred_test))"
   ]
  },
  {
   "cell_type": "code",
   "execution_count": null,
   "metadata": {
    "collapsed": true,
    "jupyter": {
     "outputs_hidden": true
    }
   },
   "outputs": [],
   "source": []
  },
  {
   "cell_type": "code",
   "execution_count": null,
   "metadata": {
    "collapsed": true,
    "jupyter": {
     "outputs_hidden": true
    }
   },
   "outputs": [],
   "source": []
  },
  {
   "cell_type": "code",
   "execution_count": 37,
   "metadata": {},
   "outputs": [
    {
     "data": {
      "text/plain": [
       "<keras_ex.gkernel.sklearn.RBFClassifier at 0x7f023ef52588>"
      ]
     },
     "execution_count": 37,
     "metadata": {},
     "output_type": "execute_result"
    }
   ],
   "source": [
    "#clf = RBFClassifier(num_lm=3)\n",
    "# clf = RBFClassifier(\n",
    "#     num_lm=3,\n",
    "#     lm=xtrain[:3]\n",
    "# )\n",
    "# clf = RBFClassifier(\n",
    "#     num_lm=50,\n",
    "#     lm=xtrain[:50],\n",
    "#     make_model_gkernel=make_model_gkernel3\n",
    "# )\n",
    "# early_stopping = EarlyStopping(monitor='loss', patience=5, min_delta=0.000, restore_best_weights=True)\n",
    "# clf = RBFClassifier(\n",
    "#     num_lm=3,\n",
    "#     lm=xtrain[np.random.choice(np.arange(xtrain.shape[0]), 3)],\n",
    "# )\n",
    "# clf = RBFClassifier(\n",
    "#     num_lm=10,\n",
    "#     lm=xtrain[:10],\n",
    "#     callbacks=[early_stopping],\n",
    "#     make_model_gkernel=make_model_gkernel3\n",
    "# )\n",
    "# clf = RBFClassifier(\n",
    "#     num_lm=3,\n",
    "#     lm=xtrain[:3],\n",
    "#     make_model_gkernel=make_model_gkernel3,\n",
    "#     activation='sigmoid',\n",
    "#     loss='binary_crossentropy'\n",
    "# )\n",
    "clf = RBFClassifier(\n",
    "    num_lm=10,\n",
    "    lm=xtrain[np.random.choice(np.arange(xtrain.shape[0]), 10)],\n",
    "    reg_l1=0.00,\n",
    "    epochs_warmup=10,\n",
    "    random_state=101\n",
    ")\n",
    "clf"
   ]
  },
  {
   "cell_type": "code",
   "execution_count": 38,
   "metadata": {},
   "outputs": [
    {
     "name": "stdout",
     "output_type": "stream",
     "text": [
      "WARNING:tensorflow:From /home/admin/miniconda3/envs/da03/lib/python3.6/site-packages/keras/backend/tensorflow_backend.py:95: The name tf.reset_default_graph is deprecated. Please use tf.compat.v1.reset_default_graph instead.\n",
      "\n",
      "WARNING:tensorflow:From /home/admin/miniconda3/envs/da03/lib/python3.6/site-packages/keras/backend/tensorflow_backend.py:98: The name tf.placeholder_with_default is deprecated. Please use tf.compat.v1.placeholder_with_default instead.\n",
      "\n",
      "WARNING:tensorflow:From /home/admin/miniconda3/envs/da03/lib/python3.6/site-packages/keras/backend/tensorflow_backend.py:102: The name tf.get_default_graph is deprecated. Please use tf.compat.v1.get_default_graph instead.\n",
      "\n",
      "WARNING:tensorflow:From /home/admin/miniconda3/envs/da03/lib/python3.6/site-packages/keras/backend/tensorflow_backend.py:517: The name tf.placeholder is deprecated. Please use tf.compat.v1.placeholder instead.\n",
      "\n",
      "WARNING:tensorflow:From /home/admin/miniconda3/envs/da03/lib/python3.6/site-packages/keras/backend/tensorflow_backend.py:4138: The name tf.random_uniform is deprecated. Please use tf.random.uniform instead.\n",
      "\n",
      "WARNING:tensorflow:From /home/admin/miniconda3/envs/da03/lib/python3.6/site-packages/keras/optimizers.py:790: The name tf.train.Optimizer is deprecated. Please use tf.compat.v1.train.Optimizer instead.\n",
      "\n",
      "WARNING:tensorflow:From /home/admin/miniconda3/envs/da03/lib/python3.6/site-packages/tensorflow/python/ops/math_grad.py:1250: add_dispatch_support.<locals>.wrapper (from tensorflow.python.ops.array_ops) is deprecated and will be removed in a future version.\n",
      "Instructions for updating:\n",
      "Use tf.where in 2.0, which has the same broadcast rule as np.where\n",
      "CPU times: user 9.3 s, sys: 298 ms, total: 9.6 s\n",
      "Wall time: 7.04 s\n"
     ]
    }
   ],
   "source": [
    "%%time\n",
    "hst = clf.fit(xtrain, ytrain, epochs=epochs, batch_size=32, verbose=0)"
   ]
  },
  {
   "cell_type": "code",
   "execution_count": 39,
   "metadata": {},
   "outputs": [
    {
     "data": {
      "text/plain": [
       "<matplotlib.legend.Legend at 0x7f02247a32b0>"
      ]
     },
     "execution_count": 39,
     "metadata": {},
     "output_type": "execute_result"
    },
    {
     "data": {
      "image/png": "[encoded data removed]",
      "text/plain": [
       "<Figure size 1440x360 with 3 Axes>"
      ]
     },
     "metadata": {
      "needs_background": "light"
     },
     "output_type": "display_data"
    }
   ],
   "source": [
    "fig, ax = plt.subplots(1, 3, figsize=(20,5))\n",
    "ax[0].set_title('loss')\n",
    "ax[0].plot(list(range(len(hst[\"loss\"]))), hst[\"loss\"], label=\"Train loss\")\n",
    "ax[1].set_title('accuracy')\n",
    "ax[1].plot(list(range(len(hst[\"loss\"]))), hst[\"acc\"], label=\"accuracy\")\n",
    "ax[2].set_title('learning rate')\n",
    "ax[2].plot(list(range(len(hst[\"loss\"]))), hst[\"lr\"], label=\"learning rate\")\n",
    "ax[0].legend()\n",
    "ax[1].legend()\n",
    "ax[2].legend()"
   ]
  },
  {
   "cell_type": "code",
   "execution_count": 40,
   "metadata": {},
   "outputs": [
    {
     "data": {
      "text/plain": [
       "(10, array([0, 1, 2, 3, 4, 5, 6, 7, 8, 9]))"
      ]
     },
     "execution_count": 40,
     "metadata": {},
     "output_type": "execute_result"
    }
   ],
   "source": [
    "clf.n_classes_, clf.classes_"
   ]
  },
  {
   "cell_type": "code",
   "execution_count": 41,
   "metadata": {},
   "outputs": [
    {
     "data": {
      "text/plain": [
       "{'num_lm': 10,\n",
       " 'lm': array([[0.    , 0.    , 0.5   , 0.75  , 0.75  , 0.875 , 0.1875, 0.    ,\n",
       "         0.    , 0.    , 0.6875, 0.6875, 0.625 , 1.    , 0.125 , 0.    ,\n",
       "         0.    , 0.    , 0.    , 0.    , 0.5625, 0.8125, 0.    , 0.    ,\n",
       "         0.    , 0.    , 0.    , 0.875 , 1.    , 0.8125, 0.    , 0.    ,\n",
       "         0.    , 0.    , 0.    , 0.5   , 0.5   , 1.    , 0.25  , 0.    ,\n",
       "         0.    , 0.    , 0.1875, 0.    , 0.    , 1.    , 0.25  , 0.    ,\n",
       "         0.    , 0.0625, 1.    , 0.5625, 0.5625, 0.9375, 0.125 , 0.    ,\n",
       "         0.    , 0.0625, 0.6875, 0.875 , 0.9375, 0.1875, 0.    , 0.    ],\n",
       "        [0.    , 0.    , 0.5625, 1.    , 1.    , 1.    , 0.4375, 0.    ,\n",
       "         0.    , 0.1875, 1.    , 0.6875, 0.25  , 0.25  , 0.0625, 0.    ,\n",
       "         0.    , 0.375 , 1.    , 0.0625, 0.    , 0.    , 0.    , 0.    ,\n",
       "         0.    , 0.5625, 1.    , 0.5625, 0.25  , 0.    , 0.    , 0.    ,\n",
       "         0.    , 0.    , 0.375 , 0.625 , 1.    , 0.5   , 0.    , 0.    ,\n",
       "         0.    , 0.    , 0.125 , 0.    , 0.5   , 0.875 , 0.    , 0.    ,\n",
       "         0.    , 0.    , 0.8125, 0.4375, 0.5   , 0.875 , 0.    , 0.    ,\n",
       "         0.    , 0.    , 0.625 , 1.    , 1.    , 0.25  , 0.    , 0.    ],\n",
       "        [0.    , 0.    , 0.75  , 0.9375, 0.1875, 0.    , 0.    , 0.    ,\n",
       "         0.    , 0.375 , 0.9375, 0.75  , 0.875 , 0.    , 0.    , 0.    ,\n",
       "         0.    , 0.4375, 0.3125, 0.0625, 1.    , 0.125 , 0.    , 0.    ,\n",
       "         0.    , 0.    , 0.    , 0.    , 0.6875, 0.4375, 0.    , 0.    ,\n",
       "         0.    , 0.    , 0.    , 0.125 , 0.9375, 0.1875, 0.    , 0.    ,\n",
       "         0.    , 0.    , 0.    , 0.5   , 0.875 , 0.0625, 0.    , 0.    ,\n",
       "         0.    , 0.    , 0.75  , 1.    , 0.75  , 0.5   , 0.3125, 0.    ,\n",
       "         0.    , 0.    , 0.5625, 0.5   , 0.8125, 0.9375, 0.4375, 0.    ],\n",
       "        [0.    , 0.    , 0.0625, 0.3125, 0.75  , 0.8125, 0.    , 0.    ,\n",
       "         0.    , 0.    , 0.6875, 0.8125, 0.9375, 1.    , 0.0625, 0.    ,\n",
       "         0.    , 0.125 , 0.875 , 0.    , 0.625 , 0.75  , 0.25  , 0.    ,\n",
       "         0.    , 0.3125, 0.8125, 0.75  , 0.1875, 0.75  , 0.    , 0.    ,\n",
       "         0.    , 0.    , 0.3125, 0.375 , 0.    , 0.75  , 0.25  , 0.    ,\n",
       "         0.    , 0.    , 0.    , 0.    , 0.    , 0.9375, 0.125 , 0.    ,\n",
       "         0.    , 0.    , 0.25  , 0.3125, 0.    , 1.    , 0.1875, 0.    ,\n",
       "         0.    , 0.    , 0.    , 0.25  , 0.875 , 0.8125, 0.    , 0.    ],\n",
       "        [0.    , 0.    , 0.75  , 0.9375, 0.1875, 0.    , 0.    , 0.    ,\n",
       "         0.    , 0.375 , 0.9375, 0.75  , 0.875 , 0.    , 0.    , 0.    ,\n",
       "         0.    , 0.4375, 0.3125, 0.0625, 1.    , 0.125 , 0.    , 0.    ,\n",
       "         0.    , 0.    , 0.    , 0.    , 0.6875, 0.4375, 0.    , 0.    ,\n",
       "         0.    , 0.    , 0.    , 0.125 , 0.9375, 0.1875, 0.    , 0.    ,\n",
       "         0.    , 0.    , 0.    , 0.5   , 0.875 , 0.0625, 0.    , 0.    ,\n",
       "         0.    , 0.    , 0.75  , 1.    , 0.75  , 0.5   , 0.3125, 0.    ,\n",
       "         0.    , 0.    , 0.5625, 0.5   , 0.8125, 0.9375, 0.4375, 0.    ],\n",
       "        [0.    , 0.    , 0.375 , 0.9375, 1.    , 0.625 , 0.    , 0.    ,\n",
       "         0.    , 0.1875, 1.    , 0.6875, 0.9375, 0.625 , 0.    , 0.    ,\n",
       "         0.    , 0.25  , 0.625 , 0.625 , 1.    , 0.25  , 0.    , 0.    ,\n",
       "         0.    , 0.    , 0.25  , 1.    , 0.9375, 0.1875, 0.    , 0.    ,\n",
       "         0.    , 0.    , 0.0625, 0.5625, 1.    , 0.9375, 0.125 , 0.    ,\n",
       "         0.    , 0.    , 0.    , 0.    , 0.1875, 1.    , 0.375 , 0.    ,\n",
       "         0.    , 0.    , 0.1875, 0.5625, 0.75  , 1.    , 0.3125, 0.    ,\n",
       "         0.    , 0.    , 0.5625, 1.    , 1.    , 0.5   , 0.    , 0.    ],\n",
       "        [0.    , 0.    , 0.5   , 0.75  , 0.8125, 0.0625, 0.    , 0.    ,\n",
       "         0.    , 0.3125, 0.75  , 0.125 , 0.375 , 0.8125, 0.    , 0.    ,\n",
       "         0.    , 0.6875, 0.3125, 0.    , 0.375 , 0.75  , 0.    , 0.    ,\n",
       "         0.    , 0.4375, 0.625 , 0.25  , 0.8125, 0.9375, 0.    , 0.    ,\n",
       "         0.    , 0.0625, 0.6875, 0.75  , 0.4375, 0.75  , 0.25  , 0.    ,\n",
       "         0.    , 0.    , 0.    , 0.    , 0.    , 0.25  , 0.5625, 0.    ,\n",
       "         0.    , 0.    , 0.625 , 0.3125, 0.    , 0.1875, 0.8125, 0.    ,\n",
       "         0.    , 0.    , 0.375 , 0.75  , 1.    , 0.8125, 0.625 , 0.    ],\n",
       "        [0.    , 0.    , 0.0625, 0.6875, 0.9375, 0.5   , 0.    , 0.    ,\n",
       "         0.    , 0.    , 0.    , 0.9375, 1.    , 0.5   , 0.    , 0.    ,\n",
       "         0.    , 0.    , 0.    , 0.8125, 1.    , 0.625 , 0.    , 0.    ,\n",
       "         0.    , 0.    , 0.    , 1.    , 1.    , 0.375 , 0.    , 0.    ,\n",
       "         0.    , 0.    , 0.125 , 1.    , 1.    , 0.375 , 0.    , 0.    ,\n",
       "         0.    , 0.    , 0.3125, 1.    , 1.    , 0.3125, 0.    , 0.    ,\n",
       "         0.    , 0.    , 0.3125, 1.    , 0.9375, 0.0625, 0.    , 0.    ,\n",
       "         0.    , 0.    , 0.125 , 0.9375, 0.9375, 0.1875, 0.    , 0.    ],\n",
       "        [0.    , 0.    , 0.    , 0.0625, 0.9375, 0.75  , 0.    , 0.    ,\n",
       "         0.    , 0.    , 0.    , 0.75  , 1.    , 0.8125, 0.    , 0.    ,\n",
       "         0.    , 0.    , 0.6875, 1.    , 1.    , 0.8125, 0.    , 0.    ,\n",
       "         0.    , 0.6875, 1.    , 0.6875, 0.8125, 0.8125, 0.    , 0.    ,\n",
       "         0.    , 0.1875, 0.4375, 0.    , 0.75  , 0.875 , 0.    , 0.    ,\n",
       "         0.    , 0.    , 0.    , 0.    , 0.6875, 0.8125, 0.    , 0.    ,\n",
       "         0.    , 0.    , 0.    , 0.    , 0.9375, 0.8125, 0.    , 0.    ,\n",
       "         0.    , 0.    , 0.    , 0.125 , 0.9375, 0.8125, 0.    , 0.    ],\n",
       "        [0.    , 0.    , 0.25  , 0.8125, 0.6875, 0.4375, 0.    , 0.    ,\n",
       "         0.    , 0.    , 0.875 , 1.    , 0.8125, 1.    , 0.125 , 0.    ,\n",
       "         0.    , 0.3125, 1.    , 0.25  , 0.    , 0.3125, 0.4375, 0.    ,\n",
       "         0.    , 0.5   , 0.875 , 0.    , 0.    , 0.25  , 0.5   , 0.    ,\n",
       "         0.    , 0.375 , 0.5625, 0.    , 0.    , 0.25  , 0.5   , 0.    ,\n",
       "         0.    , 0.125 , 0.875 , 0.0625, 0.    , 0.5   , 0.375 , 0.    ,\n",
       "         0.    , 0.    , 0.8125, 0.75  , 0.5625, 0.9375, 0.125 , 0.    ,\n",
       "         0.    , 0.    , 0.1875, 1.    , 0.75  , 0.3125, 0.    , 0.    ]]),\n",
       " 'reg_l1': 0.0,\n",
       " 'epochs_warmup': 10,\n",
       " 'random_state': 101,\n",
       " 'num_cls': 10,\n",
       " 'nn': None,\n",
       " 'lr': None,\n",
       " 'callbacks': None,\n",
       " 'loss': None}"
      ]
     },
     "execution_count": 41,
     "metadata": {},
     "output_type": "execute_result"
    }
   ],
   "source": [
    "clf.sk_params"
   ]
  },
  {
   "cell_type": "code",
   "execution_count": 42,
   "metadata": {},
   "outputs": [
    {
     "data": {
      "text/plain": [
       "{'build_fn': <function keras_ex.gkernel.sklearn.make_model(make_model_gkernel=<function make_model_gkernel2 at 0x7f02465efd08>, make_model_out=<function make_model_out at 0x7f02465efe18>, reg_l1=0.0, reg_l2=0.0, nn=2, num_lm=2, lm=None, gamma=None, random_state=None, num_cls=2, activation='softmax', opt=0.02, lr=0.05, loss='categorical_crossentropy', session_clear=True, batch_size_middle=32, lm_select_from_x=None, tol=None, epochs_warmup=10)>,\n",
       " 'sk_params': {'num_lm': 10,\n",
       "  'lm': array([[0.    , 0.    , 0.5   , 0.75  , 0.75  , 0.875 , 0.1875, 0.    ,\n",
       "          0.    , 0.    , 0.6875, 0.6875, 0.625 , 1.    , 0.125 , 0.    ,\n",
       "          0.    , 0.    , 0.    , 0.    , 0.5625, 0.8125, 0.    , 0.    ,\n",
       "          0.    , 0.    , 0.    , 0.875 , 1.    , 0.8125, 0.    , 0.    ,\n",
       "          0.    , 0.    , 0.    , 0.5   , 0.5   , 1.    , 0.25  , 0.    ,\n",
       "          0.    , 0.    , 0.1875, 0.    , 0.    , 1.    , 0.25  , 0.    ,\n",
       "          0.    , 0.0625, 1.    , 0.5625, 0.5625, 0.9375, 0.125 , 0.    ,\n",
       "          0.    , 0.0625, 0.6875, 0.875 , 0.9375, 0.1875, 0.    , 0.    ],\n",
       "         [0.    , 0.    , 0.5625, 1.    , 1.    , 1.    , 0.4375, 0.    ,\n",
       "          0.    , 0.1875, 1.    , 0.6875, 0.25  , 0.25  , 0.0625, 0.    ,\n",
       "          0.    , 0.375 , 1.    , 0.0625, 0.    , 0.    , 0.    , 0.    ,\n",
       "          0.    , 0.5625, 1.    , 0.5625, 0.25  , 0.    , 0.    , 0.    ,\n",
       "          0.    , 0.    , 0.375 , 0.625 , 1.    , 0.5   , 0.    , 0.    ,\n",
       "          0.    , 0.    , 0.125 , 0.    , 0.5   , 0.875 , 0.    , 0.    ,\n",
       "          0.    , 0.    , 0.8125, 0.4375, 0.5   , 0.875 , 0.    , 0.    ,\n",
       "          0.    , 0.    , 0.625 , 1.    , 1.    , 0.25  , 0.    , 0.    ],\n",
       "         [0.    , 0.    , 0.75  , 0.9375, 0.1875, 0.    , 0.    , 0.    ,\n",
       "          0.    , 0.375 , 0.9375, 0.75  , 0.875 , 0.    , 0.    , 0.    ,\n",
       "          0.    , 0.4375, 0.3125, 0.0625, 1.    , 0.125 , 0.    , 0.    ,\n",
       "          0.    , 0.    , 0.    , 0.    , 0.6875, 0.4375, 0.    , 0.    ,\n",
       "          0.    , 0.    , 0.    , 0.125 , 0.9375, 0.1875, 0.    , 0.    ,\n",
       "          0.    , 0.    , 0.    , 0.5   , 0.875 , 0.0625, 0.    , 0.    ,\n",
       "          0.    , 0.    , 0.75  , 1.    , 0.75  , 0.5   , 0.3125, 0.    ,\n",
       "          0.    , 0.    , 0.5625, 0.5   , 0.8125, 0.9375, 0.4375, 0.    ],\n",
       "         [0.    , 0.    , 0.0625, 0.3125, 0.75  , 0.8125, 0.    , 0.    ,\n",
       "          0.    , 0.    , 0.6875, 0.8125, 0.9375, 1.    , 0.0625, 0.    ,\n",
       "          0.    , 0.125 , 0.875 , 0.    , 0.625 , 0.75  , 0.25  , 0.    ,\n",
       "          0.    , 0.3125, 0.8125, 0.75  , 0.1875, 0.75  , 0.    , 0.    ,\n",
       "          0.    , 0.    , 0.3125, 0.375 , 0.    , 0.75  , 0.25  , 0.    ,\n",
       "          0.    , 0.    , 0.    , 0.    , 0.    , 0.9375, 0.125 , 0.    ,\n",
       "          0.    , 0.    , 0.25  , 0.3125, 0.    , 1.    , 0.1875, 0.    ,\n",
       "          0.    , 0.    , 0.    , 0.25  , 0.875 , 0.8125, 0.    , 0.    ],\n",
       "         [0.    , 0.    , 0.75  , 0.9375, 0.1875, 0.    , 0.    , 0.    ,\n",
       "          0.    , 0.375 , 0.9375, 0.75  , 0.875 , 0.    , 0.    , 0.    ,\n",
       "          0.    , 0.4375, 0.3125, 0.0625, 1.    , 0.125 , 0.    , 0.    ,\n",
       "          0.    , 0.    , 0.    , 0.    , 0.6875, 0.4375, 0.    , 0.    ,\n",
       "          0.    , 0.    , 0.    , 0.125 , 0.9375, 0.1875, 0.    , 0.    ,\n",
       "          0.    , 0.    , 0.    , 0.5   , 0.875 , 0.0625, 0.    , 0.    ,\n",
       "          0.    , 0.    , 0.75  , 1.    , 0.75  , 0.5   , 0.3125, 0.    ,\n",
       "          0.    , 0.    , 0.5625, 0.5   , 0.8125, 0.9375, 0.4375, 0.    ],\n",
       "         [0.    , 0.    , 0.375 , 0.9375, 1.    , 0.625 , 0.    , 0.    ,\n",
       "          0.    , 0.1875, 1.    , 0.6875, 0.9375, 0.625 , 0.    , 0.    ,\n",
       "          0.    , 0.25  , 0.625 , 0.625 , 1.    , 0.25  , 0.    , 0.    ,\n",
       "          0.    , 0.    , 0.25  , 1.    , 0.9375, 0.1875, 0.    , 0.    ,\n",
       "          0.    , 0.    , 0.0625, 0.5625, 1.    , 0.9375, 0.125 , 0.    ,\n",
       "          0.    , 0.    , 0.    , 0.    , 0.1875, 1.    , 0.375 , 0.    ,\n",
       "          0.    , 0.    , 0.1875, 0.5625, 0.75  , 1.    , 0.3125, 0.    ,\n",
       "          0.    , 0.    , 0.5625, 1.    , 1.    , 0.5   , 0.    , 0.    ],\n",
       "         [0.    , 0.    , 0.5   , 0.75  , 0.8125, 0.0625, 0.    , 0.    ,\n",
       "          0.    , 0.3125, 0.75  , 0.125 , 0.375 , 0.8125, 0.    , 0.    ,\n",
       "          0.    , 0.6875, 0.3125, 0.    , 0.375 , 0.75  , 0.    , 0.    ,\n",
       "          0.    , 0.4375, 0.625 , 0.25  , 0.8125, 0.9375, 0.    , 0.    ,\n",
       "          0.    , 0.0625, 0.6875, 0.75  , 0.4375, 0.75  , 0.25  , 0.    ,\n",
       "          0.    , 0.    , 0.    , 0.    , 0.    , 0.25  , 0.5625, 0.    ,\n",
       "          0.    , 0.    , 0.625 , 0.3125, 0.    , 0.1875, 0.8125, 0.    ,\n",
       "          0.    , 0.    , 0.375 , 0.75  , 1.    , 0.8125, 0.625 , 0.    ],\n",
       "         [0.    , 0.    , 0.0625, 0.6875, 0.9375, 0.5   , 0.    , 0.    ,\n",
       "          0.    , 0.    , 0.    , 0.9375, 1.    , 0.5   , 0.    , 0.    ,\n",
       "          0.    , 0.    , 0.    , 0.8125, 1.    , 0.625 , 0.    , 0.    ,\n",
       "          0.    , 0.    , 0.    , 1.    , 1.    , 0.375 , 0.    , 0.    ,\n",
       "          0.    , 0.    , 0.125 , 1.    , 1.    , 0.375 , 0.    , 0.    ,\n",
       "          0.    , 0.    , 0.3125, 1.    , 1.    , 0.3125, 0.    , 0.    ,\n",
       "          0.    , 0.    , 0.3125, 1.    , 0.9375, 0.0625, 0.    , 0.    ,\n",
       "          0.    , 0.    , 0.125 , 0.9375, 0.9375, 0.1875, 0.    , 0.    ],\n",
       "         [0.    , 0.    , 0.    , 0.0625, 0.9375, 0.75  , 0.    , 0.    ,\n",
       "          0.    , 0.    , 0.    , 0.75  , 1.    , 0.8125, 0.    , 0.    ,\n",
       "          0.    , 0.    , 0.6875, 1.    , 1.    , 0.8125, 0.    , 0.    ,\n",
       "          0.    , 0.6875, 1.    , 0.6875, 0.8125, 0.8125, 0.    , 0.    ,\n",
       "          0.    , 0.1875, 0.4375, 0.    , 0.75  , 0.875 , 0.    , 0.    ,\n",
       "          0.    , 0.    , 0.    , 0.    , 0.6875, 0.8125, 0.    , 0.    ,\n",
       "          0.    , 0.    , 0.    , 0.    , 0.9375, 0.8125, 0.    , 0.    ,\n",
       "          0.    , 0.    , 0.    , 0.125 , 0.9375, 0.8125, 0.    , 0.    ],\n",
       "         [0.    , 0.    , 0.25  , 0.8125, 0.6875, 0.4375, 0.    , 0.    ,\n",
       "          0.    , 0.    , 0.875 , 1.    , 0.8125, 1.    , 0.125 , 0.    ,\n",
       "          0.    , 0.3125, 1.    , 0.25  , 0.    , 0.3125, 0.4375, 0.    ,\n",
       "          0.    , 0.5   , 0.875 , 0.    , 0.    , 0.25  , 0.5   , 0.    ,\n",
       "          0.    , 0.375 , 0.5625, 0.    , 0.    , 0.25  , 0.5   , 0.    ,\n",
       "          0.    , 0.125 , 0.875 , 0.0625, 0.    , 0.5   , 0.375 , 0.    ,\n",
       "          0.    , 0.    , 0.8125, 0.75  , 0.5625, 0.9375, 0.125 , 0.    ,\n",
       "          0.    , 0.    , 0.1875, 1.    , 0.75  , 0.3125, 0.    , 0.    ]]),\n",
       "  'reg_l1': 0.0,\n",
       "  'epochs_warmup': 10,\n",
       "  'random_state': 101,\n",
       "  'num_cls': 10,\n",
       "  'nn': None,\n",
       "  'lr': None,\n",
       "  'callbacks': None,\n",
       "  'loss': None},\n",
       " 'classes_': array([0, 1, 2, 3, 4, 5, 6, 7, 8, 9]),\n",
       " 'n_classes_': 10,\n",
       " 'model': <keras.engine.training.Model at 0x7f023c6bb9b0>}"
      ]
     },
     "execution_count": 42,
     "metadata": {},
     "output_type": "execute_result"
    }
   ],
   "source": [
    "clf.__dict__"
   ]
  },
  {
   "cell_type": "code",
   "execution_count": 43,
   "metadata": {},
   "outputs": [
    {
     "data": {
      "text/plain": [
       "0.13608652"
      ]
     },
     "execution_count": 43,
     "metadata": {},
     "output_type": "execute_result"
    }
   ],
   "source": [
    "clf.current_gamma()"
   ]
  },
  {
   "cell_type": "code",
   "execution_count": 44,
   "metadata": {},
   "outputs": [
    {
     "data": {
      "text/plain": [
       "array([1, 3, 3, 7, 9, 1, 3, 5, 8, 3])"
      ]
     },
     "execution_count": 44,
     "metadata": {},
     "output_type": "execute_result"
    }
   ],
   "source": [
    "clf.predict(xtrain)[:10]"
   ]
  },
  {
   "cell_type": "code",
   "execution_count": 45,
   "metadata": {},
   "outputs": [
    {
     "data": {
      "text/plain": [
       "array([[9.9985325e-01, 7.1755091e-13, 2.0237605e-05, 2.1879270e-09,\n",
       "        1.6838033e-08, 2.5187151e-06, 1.1734737e-04, 4.4573159e-08,\n",
       "        4.5120905e-06, 2.0315215e-06],\n",
       "       [3.0345641e-04, 5.8736509e-01, 7.4624762e-02, 2.2333881e-03,\n",
       "        8.8630177e-02, 5.4342177e-05, 6.7252717e-03, 1.9100644e-01,\n",
       "        3.9095934e-02, 9.9611143e-03],\n",
       "       [2.0477553e-03, 1.1048194e-01, 1.2055491e-03, 2.0763508e-04,\n",
       "        7.4035430e-01, 8.4188429e-04, 4.1285060e-02, 7.9583056e-02,\n",
       "        7.3847608e-03, 1.6608091e-02],\n",
       "       [5.0799530e-03, 1.7700896e-02, 7.8123426e-03, 5.2389794e-04,\n",
       "        1.6399455e-01, 4.7094375e-02, 6.4202762e-01, 1.6735733e-02,\n",
       "        9.4689272e-02, 4.3413159e-03],\n",
       "       [4.2701137e-04, 5.7811040e-04, 2.7426213e-02, 1.5610322e-01,\n",
       "        3.5753801e-05, 2.1512192e-02, 6.3500758e-03, 2.2873130e-01,\n",
       "        4.3422237e-01, 1.2461385e-01]], dtype=float32)"
      ]
     },
     "execution_count": 45,
     "metadata": {},
     "output_type": "execute_result"
    }
   ],
   "source": [
    "clf.predict_proba(xtest)[:5]"
   ]
  },
  {
   "cell_type": "code",
   "execution_count": 46,
   "metadata": {},
   "outputs": [
    {
     "name": "stdout",
     "output_type": "stream",
     "text": [
      "898/898 [==============================] - 0s 177us/step\n"
     ]
    },
    {
     "data": {
      "text/plain": [
       "0.8318485523385301"
      ]
     },
     "execution_count": 46,
     "metadata": {},
     "output_type": "execute_result"
    }
   ],
   "source": [
    "clf.score(xtrain, ytrain)"
   ]
  },
  {
   "cell_type": "code",
   "execution_count": 47,
   "metadata": {},
   "outputs": [
    {
     "name": "stdout",
     "output_type": "stream",
     "text": [
      "899/899 [==============================] - 0s 22us/step\n"
     ]
    },
    {
     "data": {
      "text/plain": [
       "0.8242491658060118"
      ]
     },
     "execution_count": 47,
     "metadata": {},
     "output_type": "execute_result"
    }
   ],
   "source": [
    "clf.score(xtest, yans)"
   ]
  },
  {
   "cell_type": "code",
   "execution_count": 48,
   "metadata": {},
   "outputs": [
    {
     "name": "stdout",
     "output_type": "stream",
     "text": [
      "F1_SCORE : 0.8313147754973522\n",
      "              precision    recall  f1-score   support\n",
      "\n",
      "           0       0.99      0.99      0.99        88\n",
      "           1       0.84      0.82      0.83        89\n",
      "           2       0.92      0.89      0.91        91\n",
      "           3       0.82      0.80      0.81        93\n",
      "           4       0.85      0.89      0.87        88\n",
      "           5       0.91      0.88      0.89        91\n",
      "           6       0.82      0.84      0.83        90\n",
      "           7       0.78      0.81      0.80        91\n",
      "           8       0.62      0.60      0.61        86\n",
      "           9       0.77      0.79      0.78        91\n",
      "\n",
      "    accuracy                           0.83       898\n",
      "   macro avg       0.83      0.83      0.83       898\n",
      "weighted avg       0.83      0.83      0.83       898\n",
      "\n",
      "[[87  0  0  0  1  0  0  0  0  0]\n",
      " [ 0 73  3  0  3  0  2  2  0  6]\n",
      " [ 0  3 81  0  0  0  0  3  4  0]\n",
      " [ 0  0  1 74  0  2  0  2  6  8]\n",
      " [ 1  4  1  0 78  0  4  0  0  0]\n",
      " [ 0  0  0  1  0 80  5  0  2  3]\n",
      " [ 0  3  0  0  3  2 76  2  4  0]\n",
      " [ 0  1  0  0  6  0  1 74  9  0]\n",
      " [ 0  2  2  7  0  4  5 10 52  4]\n",
      " [ 0  1  0  8  1  0  0  2  7 72]]\n"
     ]
    }
   ],
   "source": [
    "print('F1_SCORE :', f1_score(np.argmax(ytrain,axis=1), clf.predict(xtrain), average='macro'))\n",
    "print(classification_report(np.argmax(ytrain,axis=1), clf.predict(xtrain)))\n",
    "print(confusion_matrix(np.argmax(ytrain,axis=1), clf.predict(xtrain)))"
   ]
  },
  {
   "cell_type": "code",
   "execution_count": 49,
   "metadata": {},
   "outputs": [
    {
     "name": "stdout",
     "output_type": "stream",
     "text": [
      "F1_SCORE : 0.8247600189912321\n",
      "              precision    recall  f1-score   support\n",
      "\n",
      "           0       0.99      0.99      0.99        90\n",
      "           1       0.78      0.77      0.78        93\n",
      "           2       0.85      0.93      0.89        86\n",
      "           3       0.90      0.78      0.83        90\n",
      "           4       0.88      0.82      0.85        93\n",
      "           5       0.86      0.77      0.81        91\n",
      "           6       0.73      0.84      0.78        91\n",
      "           7       0.85      0.85      0.85        88\n",
      "           8       0.69      0.69      0.69        88\n",
      "           9       0.73      0.81      0.77        89\n",
      "\n",
      "    accuracy                           0.82       899\n",
      "   macro avg       0.83      0.82      0.82       899\n",
      "weighted avg       0.83      0.82      0.82       899\n",
      "\n",
      "[[89  0  0  0  0  0  1  0  0  0]\n",
      " [ 0 72  7  0  5  1  3  0  0  5]\n",
      " [ 0  2 80  0  0  0  0  1  2  1]\n",
      " [ 0  0  0 70  0  0  0  2 10  8]\n",
      " [ 0  9  0  0 76  0  6  2  0  0]\n",
      " [ 0  1  0  0  0 70 11  0  3  6]\n",
      " [ 0  2  0  0  3  7 76  0  3  0]\n",
      " [ 0  0  3  0  1  0  3 75  5  1]\n",
      " [ 0  6  4  0  0  2  3  7 61  5]\n",
      " [ 1  0  0  8  1  1  1  1  4 72]]\n"
     ]
    }
   ],
   "source": [
    "print('F1_SCORE :', f1_score(np.argmax(yans,axis=1), clf.predict(xtest), average='macro'))\n",
    "print(classification_report(np.argmax(yans,axis=1), clf.predict(xtest)))\n",
    "print(confusion_matrix(np.argmax(yans,axis=1), clf.predict(xtest)))"
   ]
  },
  {
   "cell_type": "code",
   "execution_count": null,
   "metadata": {
    "collapsed": true,
    "jupyter": {
     "outputs_hidden": true
    }
   },
   "outputs": [],
   "source": []
  },
  {
   "cell_type": "code",
   "execution_count": 50,
   "metadata": {},
   "outputs": [
    {
     "data": {
      "text/plain": [
       "3"
      ]
     },
     "execution_count": 50,
     "metadata": {},
     "output_type": "execute_result"
    }
   ],
   "source": [
    "cv_splitter = StratifiedShuffleSplit(n_splits=3, test_size=0.35, random_state=0)\n",
    "cv_splitter.get_n_splits(xtrain, ytrain)"
   ]
  },
  {
   "cell_type": "code",
   "execution_count": 51,
   "metadata": {},
   "outputs": [
    {
     "data": {
      "text/plain": [
       "[2, 5, 10, 20, 50, 100, 150, 200, 250, 300]"
      ]
     },
     "execution_count": 51,
     "metadata": {},
     "output_type": "execute_result"
    }
   ],
   "source": [
    "param_name = \"num_lm\"\n",
    "param_range = [2, 5, 10, 20, 50, 100, 150, 200, 250, 300]\n",
    "param_range"
   ]
  },
  {
   "cell_type": "code",
   "execution_count": 52,
   "metadata": {},
   "outputs": [
    {
     "name": "stderr",
     "output_type": "stream",
     "text": [
      "[Parallel(n_jobs=1)]: Using backend SequentialBackend with 1 concurrent workers.\n"
     ]
    },
    {
     "name": "stdout",
     "output_type": "stream",
     "text": [
      "[CV] num_lm=2 ........................................................\n",
      "[CV] ......................................... num_lm=2, total=   4.4s\n",
      "[CV] num_lm=5 ........................................................\n"
     ]
    },
    {
     "name": "stderr",
     "output_type": "stream",
     "text": [
      "[Parallel(n_jobs=1)]: Done   1 out of   1 | elapsed:    4.4s remaining:    0.0s\n"
     ]
    },
    {
     "name": "stdout",
     "output_type": "stream",
     "text": [
      "[CV] ......................................... num_lm=5, total=   6.5s\n",
      "[CV] num_lm=10 .......................................................\n",
      "[CV] ........................................ num_lm=10, total=   7.4s\n",
      "[CV] num_lm=20 .......................................................\n",
      "[CV] ........................................ num_lm=20, total=   7.2s\n",
      "[CV] num_lm=50 .......................................................\n",
      "[CV] ........................................ num_lm=50, total=   5.4s\n",
      "[CV] num_lm=100 ......................................................\n",
      "[CV] ....................................... num_lm=100, total=   5.3s\n",
      "[CV] num_lm=150 ......................................................\n",
      "[CV] ....................................... num_lm=150, total=   4.5s\n",
      "[CV] num_lm=200 ......................................................\n",
      "[CV] ....................................... num_lm=200, total=   6.1s\n",
      "[CV] num_lm=250 ......................................................\n",
      "[CV] ....................................... num_lm=250, total=   6.3s\n",
      "[CV] num_lm=300 ......................................................\n",
      "[CV] ....................................... num_lm=300, total=   6.4s\n",
      "[CV] num_lm=2 ........................................................\n",
      "[CV] ......................................... num_lm=2, total=   4.4s\n",
      "[CV] num_lm=5 ........................................................\n",
      "[CV] ......................................... num_lm=5, total=   6.7s\n",
      "[CV] num_lm=10 .......................................................\n",
      "[CV] ........................................ num_lm=10, total=   6.8s\n",
      "[CV] num_lm=20 .......................................................\n",
      "[CV] ........................................ num_lm=20, total=   6.9s\n",
      "[CV] num_lm=50 .......................................................\n",
      "[CV] ........................................ num_lm=50, total=   5.6s\n",
      "[CV] num_lm=100 ......................................................\n",
      "[CV] ....................................... num_lm=100, total=   5.9s\n",
      "[CV] num_lm=150 ......................................................\n",
      "[CV] ....................................... num_lm=150, total=   5.6s\n",
      "[CV] num_lm=200 ......................................................\n",
      "[CV] ....................................... num_lm=200, total=   6.0s\n",
      "[CV] num_lm=250 ......................................................\n",
      "[CV] ....................................... num_lm=250, total=   6.3s\n",
      "[CV] num_lm=300 ......................................................\n",
      "[CV] ....................................... num_lm=300, total=   6.2s\n",
      "[CV] num_lm=2 ........................................................\n",
      "[CV] ......................................... num_lm=2, total=   6.2s\n",
      "[CV] num_lm=5 ........................................................\n",
      "[CV] ......................................... num_lm=5, total=   7.9s\n",
      "[CV] num_lm=10 .......................................................\n",
      "[CV] ........................................ num_lm=10, total=   7.2s\n",
      "[CV] num_lm=20 .......................................................\n",
      "[CV] ........................................ num_lm=20, total=   7.4s\n",
      "[CV] num_lm=50 .......................................................\n",
      "[CV] ........................................ num_lm=50, total=   5.4s\n",
      "[CV] num_lm=100 ......................................................\n",
      "[CV] ....................................... num_lm=100, total=   6.4s\n",
      "[CV] num_lm=150 ......................................................\n",
      "[CV] ....................................... num_lm=150, total=   5.7s\n",
      "[CV] num_lm=200 ......................................................\n",
      "[CV] ....................................... num_lm=200, total=   6.8s\n",
      "[CV] num_lm=250 ......................................................\n",
      "[CV] ....................................... num_lm=250, total=   6.3s\n",
      "[CV] num_lm=300 ......................................................\n",
      "[CV] ....................................... num_lm=300, total=   6.0s\n",
      "CPU times: user 3min 51s, sys: 6.31 s, total: 3min 57s\n",
      "Wall time: 3min 5s\n"
     ]
    },
    {
     "name": "stderr",
     "output_type": "stream",
     "text": [
      "[Parallel(n_jobs=1)]: Done  30 out of  30 | elapsed:  3.1min finished\n"
     ]
    }
   ],
   "source": [
    "%%time\n",
    "\n",
    "def f1_scorer_2(estimator, X, y):\n",
    "    pred = estimator.predict(X)\n",
    "    s = f1_score(np.argmax(y, axis=1), pred, average='macro')\n",
    "    return s\n",
    "\n",
    "train_scores, test_scores = validation_curve(\n",
    "    RBFClassifier(\n",
    "        num_lm=2,\n",
    "        lm_select_from_x=True,\n",
    "        random_state=None,\n",
    "        gamma='scale',\n",
    "        epochs=epochs, batch_size=100, verbose=0\n",
    "    ),\n",
    "    xtrain, ytrain,\n",
    "    param_name=param_name, param_range=param_range,\n",
    "    cv=cv_splitter, n_jobs=1, verbose=2, scoring=f1_scorer_2)"
   ]
  },
  {
   "cell_type": "code",
   "execution_count": 53,
   "metadata": {},
   "outputs": [
    {
     "data": {
      "text/plain": [
       "array([[  2.        ,   0.38157391,   0.40350095],\n",
       "       [  5.        ,   0.66786985,   0.65215661],\n",
       "       [ 10.        ,   0.88641193,   0.8612675 ],\n",
       "       [ 20.        ,   0.94447122,   0.91386936],\n",
       "       [ 50.        ,   0.98909898,   0.94093839],\n",
       "       [100.        ,   0.99883975,   0.94910889],\n",
       "       [150.        ,   0.99885458,   0.95876779],\n",
       "       [200.        ,   1.        ,   0.95575746],\n",
       "       [250.        ,   0.99943499,   0.95358355],\n",
       "       [300.        ,   0.99943499,   0.95781439]])"
      ]
     },
     "execution_count": 53,
     "metadata": {},
     "output_type": "execute_result"
    }
   ],
   "source": [
    "train_scores_mean = np.mean(train_scores, axis=1)\n",
    "train_scores_std = np.std(train_scores, axis=1)\n",
    "test_scores_mean = np.mean(test_scores, axis=1)\n",
    "test_scores_std = np.std(test_scores, axis=1)\n",
    "np.c_[param_range, train_scores_mean, test_scores_mean]"
   ]
  },
  {
   "cell_type": "code",
   "execution_count": 54,
   "metadata": {},
   "outputs": [
    {
     "data": {
      "text/plain": [
       "<matplotlib.legend.Legend at 0x7f0205d8b6d8>"
      ]
     },
     "execution_count": 54,
     "metadata": {},
     "output_type": "execute_result"
    },
    {
     "data": {
      "image/png": "[encoded data removed]",
      "text/plain": [
       "<Figure size 432x288 with 1 Axes>"
      ]
     },
     "metadata": {
      "needs_background": "light"
     },
     "output_type": "display_data"
    }
   ],
   "source": [
    "plt.title(\"Validation Curve\")\n",
    "plt.xlabel(\"param\")\n",
    "plt.ylabel(\"Score\")\n",
    "plt.ylim(0.0, 1.1)\n",
    "lw = 2\n",
    "plt.semilogx(param_range, train_scores_mean, label=\"Training score\",\n",
    "             color=\"darkorange\", lw=lw)\n",
    "plt.fill_between(param_range, train_scores_mean - train_scores_std,\n",
    "                 train_scores_mean + train_scores_std, alpha=0.2,\n",
    "                 color=\"darkorange\", lw=lw)\n",
    "plt.semilogx(param_range, test_scores_mean, label=\"Cross-validation score\",\n",
    "             color=\"navy\", lw=lw)\n",
    "plt.fill_between(param_range, test_scores_mean - test_scores_std,\n",
    "                 test_scores_mean + test_scores_std, alpha=0.2,\n",
    "                 color=\"navy\", lw=lw)\n",
    "plt.legend(loc=\"best\")"
   ]
  },
  {
   "cell_type": "code",
   "execution_count": 55,
   "metadata": {},
   "outputs": [
    {
     "name": "stdout",
     "output_type": "stream",
     "text": [
      "CPU times: user 7.63 s, sys: 184 ms, total: 7.82 s\n",
      "Wall time: 6.24 s\n"
     ]
    }
   ],
   "source": [
    "%%time\n",
    "\n",
    "'''test data'''\n",
    "est = RBFClassifier(\n",
    "    num_lm=150,\n",
    "    lm_select_from_x=True,\n",
    "    random_state=None,\n",
    "    gamma='scale',\n",
    "    lr=0.05,\n",
    "    epochs=epochs, batch_size=100, verbose=0\n",
    ")\n",
    "hst = est.fit(xtrain, ytrain)"
   ]
  },
  {
   "cell_type": "code",
   "execution_count": 56,
   "metadata": {},
   "outputs": [
    {
     "data": {
      "text/plain": [
       "<matplotlib.legend.Legend at 0x7f0244fc4cf8>"
      ]
     },
     "execution_count": 56,
     "metadata": {},
     "output_type": "execute_result"
    },
    {
     "data": {
      "image/png": "[encoded data removed]",
      "text/plain": [
       "<Figure size 1440x360 with 3 Axes>"
      ]
     },
     "metadata": {
      "needs_background": "light"
     },
     "output_type": "display_data"
    }
   ],
   "source": [
    "fig, ax = plt.subplots(1, 3, figsize=(20,5))\n",
    "ax[0].set_title('loss')\n",
    "ax[0].plot(list(range(len(hst[\"loss\"]))), hst[\"loss\"], label=\"Train loss\")\n",
    "ax[1].set_title('accuracy')\n",
    "ax[1].plot(list(range(len(hst[\"loss\"]))), hst[\"acc\"], label=\"accuracy\")\n",
    "ax[2].set_title('learning rate')\n",
    "ax[2].plot(list(range(len(hst[\"loss\"]))), hst[\"lr\"], label=\"learning rate\")\n",
    "ax[0].legend()\n",
    "ax[1].legend()\n",
    "ax[2].legend()"
   ]
  },
  {
   "cell_type": "code",
   "execution_count": 57,
   "metadata": {},
   "outputs": [],
   "source": [
    "pred = est.predict(xtrain)"
   ]
  },
  {
   "cell_type": "code",
   "execution_count": 58,
   "metadata": {},
   "outputs": [
    {
     "name": "stdout",
     "output_type": "stream",
     "text": [
      "F1_SCORE : 0.9977705780311726\n",
      "              precision    recall  f1-score   support\n",
      "\n",
      "           0       1.00      1.00      1.00        88\n",
      "           1       1.00      1.00      1.00        89\n",
      "           2       1.00      1.00      1.00        91\n",
      "           3       1.00      1.00      1.00        93\n",
      "           4       1.00      1.00      1.00        88\n",
      "           5       1.00      0.99      0.99        91\n",
      "           6       1.00      1.00      1.00        90\n",
      "           7       1.00      1.00      1.00        91\n",
      "           8       0.99      1.00      0.99        86\n",
      "           9       0.99      0.99      0.99        91\n",
      "\n",
      "    accuracy                           1.00       898\n",
      "   macro avg       1.00      1.00      1.00       898\n",
      "weighted avg       1.00      1.00      1.00       898\n",
      "\n",
      "[[88  0  0  0  0  0  0  0  0  0]\n",
      " [ 0 89  0  0  0  0  0  0  0  0]\n",
      " [ 0  0 91  0  0  0  0  0  0  0]\n",
      " [ 0  0  0 93  0  0  0  0  0  0]\n",
      " [ 0  0  0  0 88  0  0  0  0  0]\n",
      " [ 0  0  0  0  0 90  0  0  0  1]\n",
      " [ 0  0  0  0  0  0 90  0  0  0]\n",
      " [ 0  0  0  0  0  0  0 91  0  0]\n",
      " [ 0  0  0  0  0  0  0  0 86  0]\n",
      " [ 0  0  0  0  0  0  0  0  1 90]]\n"
     ]
    }
   ],
   "source": [
    "print('F1_SCORE :', f1_score(np.argmax(ytrain, axis=1), pred, average='macro'))\n",
    "print(classification_report(np.argmax(ytrain, axis=1), pred))\n",
    "print(confusion_matrix(np.argmax(ytrain, axis=1), pred))"
   ]
  },
  {
   "cell_type": "code",
   "execution_count": 59,
   "metadata": {},
   "outputs": [],
   "source": [
    "pred_test = est.predict(xtest)"
   ]
  },
  {
   "cell_type": "code",
   "execution_count": 60,
   "metadata": {},
   "outputs": [
    {
     "name": "stdout",
     "output_type": "stream",
     "text": [
      "F1_SCORE : 0.9712020658557632\n",
      "              precision    recall  f1-score   support\n",
      "\n",
      "           0       1.00      1.00      1.00        90\n",
      "           1       1.00      0.96      0.98        93\n",
      "           2       0.99      1.00      0.99        86\n",
      "           3       0.95      0.98      0.96        90\n",
      "           4       0.99      0.97      0.98        93\n",
      "           5       0.94      0.96      0.95        91\n",
      "           6       1.00      0.95      0.97        91\n",
      "           7       0.97      0.98      0.97        88\n",
      "           8       0.96      0.99      0.97        88\n",
      "           9       0.93      0.94      0.94        89\n",
      "\n",
      "    accuracy                           0.97       899\n",
      "   macro avg       0.97      0.97      0.97       899\n",
      "weighted avg       0.97      0.97      0.97       899\n",
      "\n",
      "[[90  0  0  0  0  0  0  0  0  0]\n",
      " [ 0 89  1  0  0  1  0  0  1  1]\n",
      " [ 0  0 86  0  0  0  0  0  0  0]\n",
      " [ 0  0  0 88  0  0  0  1  1  0]\n",
      " [ 0  0  0  0 90  0  0  1  0  2]\n",
      " [ 0  0  0  1  1 87  0  0  0  2]\n",
      " [ 0  0  0  0  0  4 86  0  1  0]\n",
      " [ 0  0  0  1  0  0  0 86  0  1]\n",
      " [ 0  0  0  0  0  0  0  1 87  0]\n",
      " [ 0  0  0  3  0  1  0  0  1 84]]\n"
     ]
    }
   ],
   "source": [
    "print('F1_SCORE :', f1_score(np.argmax(yans, axis=1), pred_test, average='macro'))\n",
    "print(classification_report(np.argmax(yans, axis=1), pred_test))\n",
    "print(confusion_matrix(np.argmax(yans, axis=1), pred_test))"
   ]
  },
  {
   "cell_type": "code",
   "execution_count": null,
   "metadata": {
    "collapsed": true,
    "jupyter": {
     "outputs_hidden": true
    }
   },
   "outputs": [],
   "source": []
  },
  {
   "cell_type": "code",
   "execution_count": null,
   "metadata": {
    "collapsed": true,
    "jupyter": {
     "outputs_hidden": true
    }
   },
   "outputs": [],
   "source": []
  },
  {
   "cell_type": "code",
   "execution_count": 61,
   "metadata": {},
   "outputs": [],
   "source": [
    "from sklearn.model_selection import StratifiedShuffleSplit, GridSearchCV, validation_curve\n",
    "from sklearn.feature_selection import RFECV\n",
    "from sklearn.linear_model import LogisticRegression, Lasso\n",
    "import pandas as pd\n",
    "from sklearn.metrics import mean_squared_error, mean_absolute_error, roc_auc_score, r2_score, make_scorer\n",
    "from sklearn.metrics.pairwise import cosine_similarity, euclidean_distances\n",
    "import joblib"
   ]
  },
  {
   "cell_type": "code",
   "execution_count": 62,
   "metadata": {},
   "outputs": [
    {
     "name": "stdout",
     "output_type": "stream",
     "text": [
      "counter  | val_f1    |  val_r2    \n",
      "---------------------------------------------\n",
      "    0    |  0.9488   |  0.8451   1.993003e-01 <-- skipping  \n",
      "    1    |  0.9711   |  0.9346   2.072529e-01 <-- OK  \n",
      "    2    |  0.9555   |  0.8501   2.081666e-01 <-- OK  \n",
      "    3    |  0.9688   |  0.9224   1.977860e-01 <-- OK  \n",
      "    4    |  0.9575   |  0.8734   1.974298e-01 <-- OK  \n",
      "    5    |  0.9461   |  0.8716   1.856885e-01 <-- skipping  \n",
      "    6    |  0.9664   |  0.9021   2.042451e-01 <-- OK  \n",
      "    7    |  0.9590   |  0.8709   1.914193e-01 <-- OK  \n",
      "    8    |  0.9647   |  0.9163   2.142216e-01 <-- OK  \n",
      "    9    |  0.9504   |  0.8847   1.940121e-01 <-- OK  \n",
      "   10    |  0.9710   |  0.9404   1.949324e-01 <-- OK  \n",
      "   11    |  0.9513   |  0.8053   2.025113e-01 <-- OK  \n",
      "   12    |  0.9619   |  0.9148   1.948561e-01 <-- OK  \n",
      "   13    |  0.9382   |  0.7693   1.851822e-01 <-- skipping  \n",
      "   14    |  0.9508   |  0.8530   2.077445e-01 <-- OK  \n",
      "   15    |  0.9528   |  0.8948   1.935377e-01 <-- OK  \n",
      "   16    |  0.9535   |  0.9323   1.976189e-01 <-- OK  \n",
      "   17    |  0.9512   |  0.8600   1.909490e-01 <-- OK  \n",
      "   18    |  0.9639   |  0.9209   2.041688e-01 <-- OK  \n",
      "   19    |  0.9351   |  0.7791   1.887149e-01 <-- skipping  \n",
      "   20    |  0.9506   |  0.8763   1.886414e-01 <-- OK  \n",
      "   21    |  0.9515   |  0.9061   2.006057e-01 <-- OK  \n",
      "   22    |  0.9571   |  0.8805   2.062393e-01 <-- OK  \n",
      "   23    |  0.9554   |  0.9273   1.942411e-01 <-- OK  \n",
      "   24    |  0.9619   |  0.8881   2.018544e-01 <-- OK  \n",
      "   25    |  0.9525   |  0.8336   1.880814e-01 <-- OK  \n",
      "   26    |  0.9687   |  0.8964   2.037711e-01 <-- OK  \n",
      "   27    |  0.9467   |  0.8775   1.990145e-01 <-- skipping  \n",
      "   28    |  0.9622   |  0.8839   1.983817e-01 <-- OK  \n",
      "   29    |  0.9645   |  0.9293   2.041106e-01 <-- OK  \n",
      "   30    |  0.9533   |  0.8894   1.912061e-01 <-- OK  \n",
      "   31    |  0.9527   |  0.8967   2.018081e-01 <-- OK  \n",
      "   32    |  0.9443   |  0.8415   1.880865e-01 <-- skipping  \n",
      "   33    |  0.9440   |  0.8659   1.846540e-01 <-- skipping  \n",
      "   34    |  0.9509   |  0.8829   2.035257e-01 <-- OK  \n",
      "   35    |  0.9464   |  0.8173   1.943175e-01 <-- skipping  \n",
      "   36    |  0.9643   |  0.8790   2.105930e-01 <-- OK  \n",
      "   37    |  0.9669   |  0.9136   2.081982e-01 <-- OK  \n",
      "   38    |  0.9526   |  0.8252   2.029721e-01 <-- OK  \n",
      "   39    |  0.9462   |  0.8646   2.023017e-01 <-- skipping  \n",
      "   40    |  0.9639   |  0.8628   2.053253e-01 <-- OK  \n",
      "   41    |  0.9731   |  0.9305   2.033006e-01 <-- OK  \n",
      "   42    |  0.9687   |  0.9563   2.016699e-01 <-- OK  \n",
      "   43    |  0.9576   |  0.8992   1.989029e-01 <-- OK  \n",
      "   44    |  0.9595   |  0.8572   1.991445e-01 <-- OK  \n",
      "   45    |  0.9643   |  0.9288   1.988152e-01 <-- OK  \n",
      "   46    |  0.9554   |  0.8644   1.936202e-01 <-- OK  \n",
      "   47    |  0.9511   |  0.8666   1.878124e-01 <-- OK  \n",
      "   48    |  0.9593   |  0.9056   1.943047e-01 <-- OK  \n",
      "   49    |  0.9573   |  0.8840   1.969989e-01 <-- OK  \n",
      "CPU times: user 5min 11s, sys: 6.19 s, total: 5min 17s\n",
      "Wall time: 4min 26s\n"
     ]
    }
   ],
   "source": [
    "%%time\n",
    "\n",
    "ins_splitter = StratifiedShuffleSplit(n_splits=50, test_size=0.5, random_state=0)\n",
    "var_idx_all = np.arange(xtrain.shape[1])\n",
    "threshold = 0.95\n",
    "#threshold = 0.30\n",
    "importances = np.zeros((xtrain.shape[1],))\n",
    "predictions = pd.DataFrame()\n",
    "#preds_all = pd.DataFrame()\n",
    "pred_all_list = []\n",
    "pred_train_all_list = []\n",
    "counter = 0\n",
    "np.random.seed(10001)\n",
    "\n",
    "print(\"counter  | val_f1    |  val_r2    \")\n",
    "print(\"---------------------------------------------\")\n",
    "\n",
    "\n",
    "for train_index, val_index in ins_splitter.split(xtrain, ytrain):\n",
    "    x_train_tr, x_train_val = xtrain[train_index], xtrain[val_index]\n",
    "    y_train_tr, y_train_val = ytrain[train_index], ytrain[val_index]\n",
    "    \n",
    "    \n",
    "    #estimator = LGBMRegressor(min_child_samples=50, reg_alpha=100)\n",
    "    estimator = RBFClassifier(\n",
    "        num_lm=250,\n",
    "        lm_select_from_x=True,\n",
    "        random_state=None,\n",
    "        gamma='scale',\n",
    "        epochs=epochs, batch_size=100, verbose=0\n",
    "    )\n",
    "    estimator.fit(x_train_tr, y_train_tr)\n",
    "    \n",
    "    # score our fitted model on validation data\n",
    "    val_y_pred = estimator.predict(x_train_val)\n",
    "    val_mse = mean_squared_error(np.argmax(y_train_val,axis=1), val_y_pred)\n",
    "    val_mae = mean_absolute_error(np.argmax(y_train_val,axis=1), val_y_pred)\n",
    "    val_kappa = 0.0\n",
    "    val_f1 = f1_score(np.argmax(y_train_val,axis=1), val_y_pred, average='macro')\n",
    "    val_cos = cosine_similarity(np.argmax(y_train_val,axis=1).reshape(1, -1), val_y_pred.reshape(1, -1))[0][0]\n",
    "    val_dst = euclidean_distances(np.argmax(y_train_val,axis=1).reshape(1, -1), val_y_pred.reshape(1, -1))[0][0]\n",
    "    val_r2  = r2_score(np.argmax(y_train_val,axis=1), val_y_pred)\n",
    "    gamma = estimator.current_gamma()\n",
    "    \n",
    "    if val_f1 > threshold:\n",
    "        message = '<-- OK'\n",
    "        pred_train_all = estimator.predict_proba(xtrain)\n",
    "        pred_train_all_list.append(pred_train_all)\n",
    "        pred_all = estimator.predict_proba(xtest)\n",
    "        pred_all_list.append(pred_all)\n",
    "        #preds_all = pd.concat([preds_all, pd.DataFrame(pred_all)], axis=1)\n",
    "        #prediction = grid_search.best_estimator_.predict(x_test0)\n",
    "        #predictions = pd.concat([predictions, pd.DataFrame(prediction)], axis=1)\n",
    "        #importances += estimator.feature_importances_\n",
    "        #filename = 'model-{}.sav'.format(counter)\n",
    "        #joblib.dump(estimator, filename)\n",
    "    else:\n",
    "        message = '<-- skipping'\n",
    "\n",
    "    print(\"{0:5}    |  {3:.4f}   |  {4:.4f}   {5:5e} {7}  \".format(\n",
    "        counter,\n",
    "        val_mse,\n",
    "        val_mae,\n",
    "        val_f1,\n",
    "        val_r2,\n",
    "        gamma,\n",
    "        0,\n",
    "        message))\n",
    "    \n",
    "    counter += 1"
   ]
  },
  {
   "cell_type": "code",
   "execution_count": 63,
   "metadata": {},
   "outputs": [
    {
     "name": "stdout",
     "output_type": "stream",
     "text": [
      "F1_SCORE : 0.9855071139809519\n",
      "F1_SCORE : 0.9777808443043989\n",
      "F1_SCORE : 0.9843728241495414\n",
      "F1_SCORE : 0.9788233007977478\n",
      "F1_SCORE : 0.9831264719425652\n",
      "F1_SCORE : 0.9796526100273144\n",
      "F1_SCORE : 0.982211402257078\n",
      "F1_SCORE : 0.9752231886676009\n",
      "F1_SCORE : 0.9844483062617533\n",
      "F1_SCORE : 0.9744577733502441\n",
      "F1_SCORE : 0.9809875472296508\n",
      "F1_SCORE : 0.975417726410781\n",
      "F1_SCORE : 0.9753176244682986\n",
      "F1_SCORE : 0.9767379248904214\n",
      "F1_SCORE : 0.975529820049076\n",
      "F1_SCORE : 0.9820532913288895\n",
      "F1_SCORE : 0.9753652434152948\n",
      "F1_SCORE : 0.9745541523004035\n",
      "F1_SCORE : 0.9786269629519853\n",
      "F1_SCORE : 0.9777136069349982\n",
      "F1_SCORE : 0.979860393022763\n",
      "F1_SCORE : 0.9763549389940804\n",
      "F1_SCORE : 0.9843710789574478\n",
      "F1_SCORE : 0.9809935067080413\n",
      "F1_SCORE : 0.9822157572990486\n",
      "F1_SCORE : 0.9766366090064732\n",
      "F1_SCORE : 0.9753179834499923\n",
      "F1_SCORE : 0.9753991962179637\n",
      "F1_SCORE : 0.9810853147945094\n",
      "F1_SCORE : 0.9833863238459226\n",
      "F1_SCORE : 0.9753178339442348\n",
      "F1_SCORE : 0.9809257733307204\n",
      "F1_SCORE : 0.9865886717657262\n",
      "F1_SCORE : 0.9833060591477526\n",
      "F1_SCORE : 0.9788219589934581\n",
      "F1_SCORE : 0.978678387496443\n",
      "F1_SCORE : 0.9810482488284393\n",
      "F1_SCORE : 0.9777517112610816\n",
      "F1_SCORE : 0.9754801783743288\n",
      "F1_SCORE : 0.9796695520119568\n",
      "F1_SCORE : 0.9786463500529303\n"
     ]
    }
   ],
   "source": [
    "for ee in pred_train_all_list:\n",
    "    print('F1_SCORE :', f1_score(np.argmax(ytrain, axis=1), np.argmax(ee, axis=1), average='macro'))"
   ]
  },
  {
   "cell_type": "code",
   "execution_count": 64,
   "metadata": {},
   "outputs": [
    {
     "name": "stdout",
     "output_type": "stream",
     "text": [
      "F1_SCORE : 0.989946823871709\n",
      "              precision    recall  f1-score   support\n",
      "\n",
      "           0       1.00      1.00      1.00        88\n",
      "           1       0.99      0.99      0.99        89\n",
      "           2       1.00      1.00      1.00        91\n",
      "           3       1.00      0.98      0.99        93\n",
      "           4       1.00      0.99      0.99        88\n",
      "           5       0.98      0.99      0.98        91\n",
      "           6       0.99      1.00      0.99        90\n",
      "           7       1.00      1.00      1.00        91\n",
      "           8       0.96      0.99      0.97        86\n",
      "           9       0.99      0.97      0.98        91\n",
      "\n",
      "    accuracy                           0.99       898\n",
      "   macro avg       0.99      0.99      0.99       898\n",
      "weighted avg       0.99      0.99      0.99       898\n",
      "\n",
      "[[88  0  0  0  0  0  0  0  0  0]\n",
      " [ 0 88  0  0  0  0  1  0  0  0]\n",
      " [ 0  0 91  0  0  0  0  0  0  0]\n",
      " [ 0  0  0 91  0  1  0  0  1  0]\n",
      " [ 0  0  0  0 87  0  0  0  1  0]\n",
      " [ 0  0  0  0  0 90  0  0  0  1]\n",
      " [ 0  0  0  0  0  0 90  0  0  0]\n",
      " [ 0  0  0  0  0  0  0 91  0  0]\n",
      " [ 0  0  0  0  0  1  0  0 85  0]\n",
      " [ 0  1  0  0  0  0  0  0  2 88]]\n"
     ]
    }
   ],
   "source": [
    "print('F1_SCORE :', f1_score(np.argmax(ytrain, axis=1), np.argmax(np.stack(pred_train_all_list).mean(axis=0), axis=1), average='macro'))\n",
    "print(classification_report(np.argmax(ytrain, axis=1), np.argmax(np.stack(pred_train_all_list).mean(axis=0), axis=1)))\n",
    "print(confusion_matrix(np.argmax(ytrain, axis=1), np.argmax(np.stack(pred_train_all_list).mean(axis=0), axis=1)))"
   ]
  },
  {
   "cell_type": "code",
   "execution_count": 65,
   "metadata": {},
   "outputs": [
    {
     "data": {
      "text/plain": [
       "(899, 10)"
      ]
     },
     "execution_count": 65,
     "metadata": {},
     "output_type": "execute_result"
    }
   ],
   "source": [
    "np.stack(pred_all_list).mean(axis=0).shape"
   ]
  },
  {
   "cell_type": "code",
   "execution_count": 66,
   "metadata": {},
   "outputs": [
    {
     "name": "stdout",
     "output_type": "stream",
     "text": [
      "F1_SCORE : 0.9623960884284848\n",
      "F1_SCORE : 0.9568912608107059\n",
      "F1_SCORE : 0.9624050567135299\n",
      "F1_SCORE : 0.9567634141621418\n",
      "F1_SCORE : 0.9533405342780261\n",
      "F1_SCORE : 0.9622507523040982\n",
      "F1_SCORE : 0.9702475163342777\n",
      "F1_SCORE : 0.9633380807446891\n",
      "F1_SCORE : 0.9677203092362021\n",
      "F1_SCORE : 0.951223781653181\n",
      "F1_SCORE : 0.9588459632178123\n",
      "F1_SCORE : 0.9578350761100802\n",
      "F1_SCORE : 0.9589170063659254\n",
      "F1_SCORE : 0.9601425013315475\n",
      "F1_SCORE : 0.9678666864335492\n",
      "F1_SCORE : 0.9721097343068902\n",
      "F1_SCORE : 0.9700823784552984\n",
      "F1_SCORE : 0.966761831301908\n",
      "F1_SCORE : 0.9611333693859067\n",
      "F1_SCORE : 0.9499851509978058\n",
      "F1_SCORE : 0.9612217860242934\n",
      "F1_SCORE : 0.9588028031652043\n",
      "F1_SCORE : 0.9645090725352501\n",
      "F1_SCORE : 0.9722450161821591\n",
      "F1_SCORE : 0.9621141835899655\n",
      "F1_SCORE : 0.9599216056637824\n",
      "F1_SCORE : 0.9665625423890278\n",
      "F1_SCORE : 0.9521581418345783\n",
      "F1_SCORE : 0.9623158021784256\n",
      "F1_SCORE : 0.9666980247243775\n",
      "F1_SCORE : 0.9599984366361989\n",
      "F1_SCORE : 0.9565822679067365\n",
      "F1_SCORE : 0.9634554697735128\n",
      "F1_SCORE : 0.9603423812595834\n",
      "F1_SCORE : 0.9744949143394038\n",
      "F1_SCORE : 0.9689261496880179\n",
      "F1_SCORE : 0.9665507104618041\n",
      "F1_SCORE : 0.9512856360176309\n",
      "F1_SCORE : 0.9700982632775677\n",
      "F1_SCORE : 0.9655341841724843\n",
      "F1_SCORE : 0.957711726262243\n"
     ]
    }
   ],
   "source": [
    "for ee in pred_all_list:\n",
    "    print('F1_SCORE :', f1_score(np.argmax(yans, axis=1), np.argmax(ee, axis=1), average='macro'))"
   ]
  },
  {
   "cell_type": "code",
   "execution_count": 67,
   "metadata": {},
   "outputs": [
    {
     "name": "stdout",
     "output_type": "stream",
     "text": [
      "F1_SCORE : 0.974507306056041\n",
      "              precision    recall  f1-score   support\n",
      "\n",
      "           0       1.00      1.00      1.00        90\n",
      "           1       1.00      0.96      0.98        93\n",
      "           2       0.99      1.00      0.99        86\n",
      "           3       0.99      0.98      0.98        90\n",
      "           4       0.99      0.97      0.98        93\n",
      "           5       0.96      0.96      0.96        91\n",
      "           6       0.99      0.97      0.98        91\n",
      "           7       0.97      0.97      0.97        88\n",
      "           8       0.93      0.99      0.96        88\n",
      "           9       0.95      0.97      0.96        89\n",
      "\n",
      "    accuracy                           0.97       899\n",
      "   macro avg       0.97      0.97      0.97       899\n",
      "weighted avg       0.97      0.97      0.97       899\n",
      "\n",
      "[[90  0  0  0  0  0  0  0  0  0]\n",
      " [ 0 89  1  0  0  1  1  0  0  1]\n",
      " [ 0  0 86  0  0  0  0  0  0  0]\n",
      " [ 0  0  0 88  0  0  0  1  1  0]\n",
      " [ 0  0  0  0 90  0  0  1  1  1]\n",
      " [ 0  0  0  1  1 87  0  0  0  2]\n",
      " [ 0  0  0  0  0  1 88  0  2  0]\n",
      " [ 0  0  0  0  0  0  0 85  2  1]\n",
      " [ 0  0  0  0  0  0  0  1 87  0]\n",
      " [ 0  0  0  0  0  2  0  0  1 86]]\n"
     ]
    }
   ],
   "source": [
    "print('F1_SCORE :', f1_score(np.argmax(yans, axis=1), np.argmax(np.stack(pred_all_list).mean(axis=0), axis=1), average='macro'))\n",
    "print(classification_report(np.argmax(yans, axis=1), np.argmax(np.stack(pred_all_list).mean(axis=0), axis=1)))\n",
    "print(confusion_matrix(np.argmax(yans, axis=1), np.argmax(np.stack(pred_all_list).mean(axis=0), axis=1)))"
   ]
  },
  {
   "cell_type": "code",
   "execution_count": null,
   "metadata": {
    "collapsed": true,
    "jupyter": {
     "outputs_hidden": true
    }
   },
   "outputs": [],
   "source": []
  },
  {
   "cell_type": "markdown",
   "metadata": {},
   "source": [
    "## validation_curve + LogisticRegression\n",
    "* np.hstack(pred_train_all_list)"
   ]
  },
  {
   "cell_type": "code",
   "execution_count": 68,
   "metadata": {},
   "outputs": [
    {
     "data": {
      "text/plain": [
       "3"
      ]
     },
     "execution_count": 68,
     "metadata": {},
     "output_type": "execute_result"
    }
   ],
   "source": [
    "cv_splitter = StratifiedShuffleSplit(n_splits=3, test_size=0.35, random_state=0)\n",
    "cv_splitter.get_n_splits(xtrain, ytrain)"
   ]
  },
  {
   "cell_type": "code",
   "execution_count": 69,
   "metadata": {},
   "outputs": [
    {
     "data": {
      "text/plain": [
       "array([1.e-03, 1.e-02, 1.e-01, 1.e+00, 1.e+01, 1.e+02, 1.e+03, 1.e+04,\n",
       "       1.e+05])"
      ]
     },
     "execution_count": 69,
     "metadata": {},
     "output_type": "execute_result"
    }
   ],
   "source": [
    "param_name = \"C\"\n",
    "param_range = np.logspace(-3, 5, 9)\n",
    "param_range"
   ]
  },
  {
   "cell_type": "code",
   "execution_count": 70,
   "metadata": {},
   "outputs": [],
   "source": [
    "def f1_scorer(estimator, X, y):\n",
    "    pred = estimator.predict(X)\n",
    "    s = f1_score(y, pred, average='macro')\n",
    "    return s"
   ]
  },
  {
   "cell_type": "code",
   "execution_count": 71,
   "metadata": {},
   "outputs": [],
   "source": [
    "import warnings\n",
    "warnings.filterwarnings('ignore')"
   ]
  },
  {
   "cell_type": "code",
   "execution_count": 72,
   "metadata": {},
   "outputs": [
    {
     "name": "stderr",
     "output_type": "stream",
     "text": [
      "[Parallel(n_jobs=1)]: Using backend SequentialBackend with 1 concurrent workers.\n",
      "[Parallel(n_jobs=1)]: Done   1 out of   1 | elapsed:    0.1s remaining:    0.0s\n"
     ]
    },
    {
     "name": "stdout",
     "output_type": "stream",
     "text": [
      "[CV] C=0.001 .........................................................\n",
      "[CV] .......................................... C=0.001, total=   0.0s\n",
      "[CV] C=0.01 ..........................................................\n",
      "[CV] ........................................... C=0.01, total=   0.1s\n",
      "[CV] C=0.1 ...........................................................\n",
      "[CV] ............................................ C=0.1, total=  56.3s\n",
      "[CV] C=1.0 ...........................................................\n",
      "[CV] ............................................ C=1.0, total=  50.1s\n",
      "[CV] C=10.0 ..........................................................\n",
      "[CV] ........................................... C=10.0, total= 1.3min\n",
      "[CV] C=100.0 .........................................................\n",
      "[CV] .......................................... C=100.0, total= 1.3min\n",
      "[CV] C=1000.0 ........................................................\n",
      "[CV] ......................................... C=1000.0, total=  26.1s\n",
      "[CV] C=10000.0 .......................................................\n",
      "[CV] ........................................ C=10000.0, total=  28.3s\n",
      "[CV] C=100000.0 ......................................................\n",
      "[CV] ....................................... C=100000.0, total=  28.5s\n",
      "[CV] C=0.001 .........................................................\n",
      "[CV] .......................................... C=0.001, total=   0.0s\n",
      "[CV] C=0.01 ..........................................................\n",
      "[CV] ........................................... C=0.01, total=   0.1s\n",
      "[CV] C=0.1 ...........................................................\n",
      "[CV] ............................................ C=0.1, total= 1.1min\n",
      "[CV] C=1.0 ...........................................................\n",
      "[CV] ............................................ C=1.0, total=  47.1s\n",
      "[CV] C=10.0 ..........................................................\n",
      "[CV] ........................................... C=10.0, total= 1.0min\n",
      "[CV] C=100.0 .........................................................\n",
      "[CV] .......................................... C=100.0, total= 1.6min\n",
      "[CV] C=1000.0 ........................................................\n",
      "[CV] ......................................... C=1000.0, total=  29.4s\n",
      "[CV] C=10000.0 .......................................................\n",
      "[CV] ........................................ C=10000.0, total=  27.3s\n",
      "[CV] C=100000.0 ......................................................\n",
      "[CV] ....................................... C=100000.0, total=  26.8s\n",
      "[CV] C=0.001 .........................................................\n",
      "[CV] .......................................... C=0.001, total=   0.0s\n",
      "[CV] C=0.01 ..........................................................\n",
      "[CV] ........................................... C=0.01, total=   0.1s\n",
      "[CV] C=0.1 ...........................................................\n",
      "[CV] ............................................ C=0.1, total=  47.7s\n",
      "[CV] C=1.0 ...........................................................\n",
      "[CV] ............................................ C=1.0, total=  58.9s\n",
      "[CV] C=10.0 ..........................................................\n",
      "[CV] ........................................... C=10.0, total= 1.1min\n",
      "[CV] C=100.0 .........................................................\n",
      "[CV] .......................................... C=100.0, total= 1.5min\n",
      "[CV] C=1000.0 ........................................................\n",
      "[CV] ......................................... C=1000.0, total=  35.9s\n",
      "[CV] C=10000.0 .......................................................\n",
      "[CV] ........................................ C=10000.0, total=  28.5s\n",
      "[CV] C=100000.0 ......................................................\n",
      "[CV] ....................................... C=100000.0, total=  29.7s\n",
      "CPU times: user 17min 33s, sys: 1.04 ms, total: 17min 33s\n",
      "Wall time: 17min 32s\n"
     ]
    },
    {
     "name": "stderr",
     "output_type": "stream",
     "text": [
      "[Parallel(n_jobs=1)]: Done  27 out of  27 | elapsed: 17.5min finished\n"
     ]
    }
   ],
   "source": [
    "%%time\n",
    "\n",
    "train_scores, test_scores = validation_curve(\n",
    "    LogisticRegression(penalty='l1', multi_class='multinomial', solver='saga', max_iter=10000),\n",
    "    np.hstack(pred_train_all_list), np.argmax(ytrain, axis=1),\n",
    "    param_name=param_name, param_range=param_range,\n",
    "    cv=cv_splitter, n_jobs=1, verbose=2, scoring=f1_scorer)"
   ]
  },
  {
   "cell_type": "code",
   "execution_count": 73,
   "metadata": {},
   "outputs": [
    {
     "data": {
      "text/plain": [
       "array([[1.00000000e-03, 1.83800623e-02, 1.80939848e-02],\n",
       "       [1.00000000e-02, 1.85683671e-02, 1.87916128e-02],\n",
       "       [1.00000000e-01, 1.00000000e+00, 9.84147643e-01],\n",
       "       [1.00000000e+00, 1.00000000e+00, 9.86319399e-01],\n",
       "       [1.00000000e+01, 1.00000000e+00, 9.85211971e-01],\n",
       "       [1.00000000e+02, 1.00000000e+00, 9.89377544e-01],\n",
       "       [1.00000000e+03, 1.00000000e+00, 9.92589924e-01],\n",
       "       [1.00000000e+04, 1.00000000e+00, 9.93664151e-01],\n",
       "       [1.00000000e+05, 1.00000000e+00, 9.92587401e-01]])"
      ]
     },
     "execution_count": 73,
     "metadata": {},
     "output_type": "execute_result"
    }
   ],
   "source": [
    "train_scores_mean = np.mean(train_scores, axis=1)\n",
    "train_scores_std = np.std(train_scores, axis=1)\n",
    "test_scores_mean = np.mean(test_scores, axis=1)\n",
    "test_scores_std = np.std(test_scores, axis=1)\n",
    "np.c_[param_range, train_scores_mean, test_scores_mean]"
   ]
  },
  {
   "cell_type": "code",
   "execution_count": 74,
   "metadata": {},
   "outputs": [
    {
     "data": {
      "text/plain": [
       "<matplotlib.legend.Legend at 0x7f0205d45f60>"
      ]
     },
     "execution_count": 74,
     "metadata": {},
     "output_type": "execute_result"
    },
    {
     "data": {
      "image/png": "[encoded data removed]",
      "text/plain": [
       "<Figure size 432x288 with 1 Axes>"
      ]
     },
     "metadata": {
      "needs_background": "light"
     },
     "output_type": "display_data"
    }
   ],
   "source": [
    "plt.title(\"Validation Curve\")\n",
    "plt.xlabel(\"param\")\n",
    "plt.ylabel(\"Score\")\n",
    "plt.ylim(0.0, 1.1)\n",
    "lw = 2\n",
    "plt.semilogx(param_range, train_scores_mean, label=\"Training score\",\n",
    "             color=\"darkorange\", lw=lw)\n",
    "plt.fill_between(param_range, train_scores_mean - train_scores_std,\n",
    "                 train_scores_mean + train_scores_std, alpha=0.2,\n",
    "                 color=\"darkorange\", lw=lw)\n",
    "plt.semilogx(param_range, test_scores_mean, label=\"Cross-validation score\",\n",
    "             color=\"navy\", lw=lw)\n",
    "plt.fill_between(param_range, test_scores_mean - test_scores_std,\n",
    "                 test_scores_mean + test_scores_std, alpha=0.2,\n",
    "                 color=\"navy\", lw=lw)\n",
    "plt.legend(loc=\"best\")"
   ]
  },
  {
   "cell_type": "code",
   "execution_count": 75,
   "metadata": {},
   "outputs": [
    {
     "data": {
      "text/plain": [
       "LogisticRegression(C=100000, class_weight=None, dual=False, fit_intercept=True,\n",
       "                   intercept_scaling=1, l1_ratio=None, max_iter=10000,\n",
       "                   multi_class='multinomial', n_jobs=None, penalty='l1',\n",
       "                   random_state=None, solver='saga', tol=0.0001, verbose=0,\n",
       "                   warm_start=False)"
      ]
     },
     "execution_count": 75,
     "metadata": {},
     "output_type": "execute_result"
    }
   ],
   "source": [
    "'''test data'''\n",
    "est = LogisticRegression(penalty='l1', multi_class='multinomial', solver='saga', max_iter=10000, C=100000)\n",
    "est.fit(np.hstack(pred_train_all_list), np.argmax(ytrain, axis=1))"
   ]
  },
  {
   "cell_type": "code",
   "execution_count": 76,
   "metadata": {},
   "outputs": [],
   "source": [
    "pred = est.predict(np.hstack(pred_train_all_list))"
   ]
  },
  {
   "cell_type": "code",
   "execution_count": 77,
   "metadata": {},
   "outputs": [
    {
     "name": "stdout",
     "output_type": "stream",
     "text": [
      "F1_SCORE : 1.0\n",
      "              precision    recall  f1-score   support\n",
      "\n",
      "           0       1.00      1.00      1.00        88\n",
      "           1       1.00      1.00      1.00        89\n",
      "           2       1.00      1.00      1.00        91\n",
      "           3       1.00      1.00      1.00        93\n",
      "           4       1.00      1.00      1.00        88\n",
      "           5       1.00      1.00      1.00        91\n",
      "           6       1.00      1.00      1.00        90\n",
      "           7       1.00      1.00      1.00        91\n",
      "           8       1.00      1.00      1.00        86\n",
      "           9       1.00      1.00      1.00        91\n",
      "\n",
      "    accuracy                           1.00       898\n",
      "   macro avg       1.00      1.00      1.00       898\n",
      "weighted avg       1.00      1.00      1.00       898\n",
      "\n",
      "[[88  0  0  0  0  0  0  0  0  0]\n",
      " [ 0 89  0  0  0  0  0  0  0  0]\n",
      " [ 0  0 91  0  0  0  0  0  0  0]\n",
      " [ 0  0  0 93  0  0  0  0  0  0]\n",
      " [ 0  0  0  0 88  0  0  0  0  0]\n",
      " [ 0  0  0  0  0 91  0  0  0  0]\n",
      " [ 0  0  0  0  0  0 90  0  0  0]\n",
      " [ 0  0  0  0  0  0  0 91  0  0]\n",
      " [ 0  0  0  0  0  0  0  0 86  0]\n",
      " [ 0  0  0  0  0  0  0  0  0 91]]\n"
     ]
    }
   ],
   "source": [
    "print('F1_SCORE :', f1_score(np.argmax(ytrain, axis=1), pred, average='macro'))\n",
    "print(classification_report(np.argmax(ytrain, axis=1), pred))\n",
    "print(confusion_matrix(np.argmax(ytrain, axis=1), pred))"
   ]
  },
  {
   "cell_type": "code",
   "execution_count": 78,
   "metadata": {},
   "outputs": [],
   "source": [
    "pred_test = est.predict(np.hstack(pred_all_list))"
   ]
  },
  {
   "cell_type": "code",
   "execution_count": 79,
   "metadata": {},
   "outputs": [
    {
     "name": "stdout",
     "output_type": "stream",
     "text": [
      "F1_SCORE : 0.9711152249094009\n",
      "              precision    recall  f1-score   support\n",
      "\n",
      "           0       1.00      1.00      1.00        90\n",
      "           1       1.00      0.96      0.98        93\n",
      "           2       0.99      1.00      0.99        86\n",
      "           3       0.95      0.98      0.96        90\n",
      "           4       0.99      0.98      0.98        93\n",
      "           5       0.96      0.96      0.96        91\n",
      "           6       1.00      0.96      0.98        91\n",
      "           7       0.97      0.97      0.97        88\n",
      "           8       0.93      0.99      0.96        88\n",
      "           9       0.94      0.93      0.94        89\n",
      "\n",
      "    accuracy                           0.97       899\n",
      "   macro avg       0.97      0.97      0.97       899\n",
      "weighted avg       0.97      0.97      0.97       899\n",
      "\n",
      "[[90  0  0  0  0  0  0  0  0  0]\n",
      " [ 0 89  1  0  0  1  0  0  1  1]\n",
      " [ 0  0 86  0  0  0  0  0  0  0]\n",
      " [ 0  0  0 88  0  0  0  1  1  0]\n",
      " [ 0  0  0  0 91  0  0  1  0  1]\n",
      " [ 0  0  0  1  1 87  0  0  0  2]\n",
      " [ 0  0  0  0  0  1 87  0  3  0]\n",
      " [ 0  0  0  0  0  0  0 85  2  1]\n",
      " [ 0  0  0  0  0  0  0  1 87  0]\n",
      " [ 0  0  0  4  0  2  0  0  0 83]]\n"
     ]
    }
   ],
   "source": [
    "print('F1_SCORE :', f1_score(np.argmax(yans, axis=1), pred_test, average='macro'))\n",
    "print(classification_report(np.argmax(yans, axis=1), pred_test))\n",
    "print(confusion_matrix(np.argmax(yans, axis=1), pred_test))"
   ]
  },
  {
   "cell_type": "code",
   "execution_count": null,
   "metadata": {
    "collapsed": true,
    "jupyter": {
     "outputs_hidden": true
    }
   },
   "outputs": [],
   "source": []
  },
  {
   "cell_type": "markdown",
   "metadata": {},
   "source": [
    "## validation_curve + LGBMClassifier\n",
    "* np.hstack(pred_train_all_list)"
   ]
  },
  {
   "cell_type": "code",
   "execution_count": 80,
   "metadata": {},
   "outputs": [
    {
     "data": {
      "text/plain": [
       "array([1.e-03, 1.e-02, 1.e-01, 1.e+00, 1.e+01, 1.e+02, 1.e+03])"
      ]
     },
     "execution_count": 80,
     "metadata": {},
     "output_type": "execute_result"
    }
   ],
   "source": [
    "'''LGBMClassifier'''\n",
    "from lightgbm import LGBMClassifier\n",
    "\n",
    "param_name = \"reg_alpha\"\n",
    "param_range = np.logspace(-3, 3, 7)\n",
    "param_range"
   ]
  },
  {
   "cell_type": "code",
   "execution_count": 81,
   "metadata": {},
   "outputs": [
    {
     "name": "stdout",
     "output_type": "stream",
     "text": [
      "[CV] reg_alpha=0.001 .................................................\n"
     ]
    },
    {
     "name": "stderr",
     "output_type": "stream",
     "text": [
      "[Parallel(n_jobs=1)]: Using backend SequentialBackend with 1 concurrent workers.\n"
     ]
    },
    {
     "name": "stdout",
     "output_type": "stream",
     "text": [
      "[CV] .................................. reg_alpha=0.001, total=   3.8s\n",
      "[CV] reg_alpha=0.01 ..................................................\n"
     ]
    },
    {
     "name": "stderr",
     "output_type": "stream",
     "text": [
      "[Parallel(n_jobs=1)]: Done   1 out of   1 | elapsed:    3.8s remaining:    0.0s\n"
     ]
    },
    {
     "name": "stdout",
     "output_type": "stream",
     "text": [
      "[CV] ................................... reg_alpha=0.01, total=   3.4s\n",
      "[CV] reg_alpha=0.1 ...................................................\n",
      "[CV] .................................... reg_alpha=0.1, total=   3.0s\n",
      "[CV] reg_alpha=1.0 ...................................................\n",
      "[CV] .................................... reg_alpha=1.0, total=   2.5s\n",
      "[CV] reg_alpha=10.0 ..................................................\n",
      "[CV] ................................... reg_alpha=10.0, total=   2.0s\n",
      "[CV] reg_alpha=100.0 .................................................\n",
      "[CV] .................................. reg_alpha=100.0, total=   1.6s\n",
      "[CV] reg_alpha=1000.0 ................................................\n",
      "[CV] ................................. reg_alpha=1000.0, total=   1.6s\n",
      "[CV] reg_alpha=0.001 .................................................\n",
      "[CV] .................................. reg_alpha=0.001, total=   3.8s\n",
      "[CV] reg_alpha=0.01 ..................................................\n",
      "[CV] ................................... reg_alpha=0.01, total=   3.4s\n",
      "[CV] reg_alpha=0.1 ...................................................\n",
      "[CV] .................................... reg_alpha=0.1, total=   3.0s\n",
      "[CV] reg_alpha=1.0 ...................................................\n",
      "[CV] .................................... reg_alpha=1.0, total=   2.5s\n",
      "[CV] reg_alpha=10.0 ..................................................\n",
      "[CV] ................................... reg_alpha=10.0, total=   2.0s\n",
      "[CV] reg_alpha=100.0 .................................................\n",
      "[CV] .................................. reg_alpha=100.0, total=   1.6s\n",
      "[CV] reg_alpha=1000.0 ................................................\n",
      "[CV] ................................. reg_alpha=1000.0, total=   1.6s\n",
      "[CV] reg_alpha=0.001 .................................................\n",
      "[CV] .................................. reg_alpha=0.001, total=   3.8s\n",
      "[CV] reg_alpha=0.01 ..................................................\n",
      "[CV] ................................... reg_alpha=0.01, total=   3.4s\n",
      "[CV] reg_alpha=0.1 ...................................................\n",
      "[CV] .................................... reg_alpha=0.1, total=   3.0s\n",
      "[CV] reg_alpha=1.0 ...................................................\n",
      "[CV] .................................... reg_alpha=1.0, total=   2.5s\n",
      "[CV] reg_alpha=10.0 ..................................................\n",
      "[CV] ................................... reg_alpha=10.0, total=   2.0s\n",
      "[CV] reg_alpha=100.0 .................................................\n",
      "[CV] .................................. reg_alpha=100.0, total=   1.6s\n",
      "[CV] reg_alpha=1000.0 ................................................\n",
      "[CV] ................................. reg_alpha=1000.0, total=   1.6s\n",
      "CPU times: user 53.8 s, sys: 0 ns, total: 53.8 s\n",
      "Wall time: 54 s\n"
     ]
    },
    {
     "name": "stderr",
     "output_type": "stream",
     "text": [
      "[Parallel(n_jobs=1)]: Done  21 out of  21 | elapsed:   54.0s finished\n"
     ]
    }
   ],
   "source": [
    "%%time\n",
    "\n",
    "train_scores, test_scores = validation_curve(\n",
    "    LGBMClassifier(\n",
    "        min_child_samples=20,\n",
    "        reg_alpha=0.1\n",
    "    ),\n",
    "    np.hstack(pred_train_all_list), np.argmax(ytrain, axis=1),\n",
    "    param_name=param_name, param_range=param_range,\n",
    "    cv=cv_splitter, n_jobs=1, verbose=2, scoring=f1_scorer)"
   ]
  },
  {
   "cell_type": "code",
   "execution_count": 82,
   "metadata": {},
   "outputs": [
    {
     "data": {
      "text/plain": [
       "array([[1.00000000e-03, 1.00000000e+00, 9.81796389e-01],\n",
       "       [1.00000000e-02, 1.00000000e+00, 9.81796389e-01],\n",
       "       [1.00000000e-01, 1.00000000e+00, 9.80684411e-01],\n",
       "       [1.00000000e+00, 1.00000000e+00, 9.80684411e-01],\n",
       "       [1.00000000e+01, 1.00000000e+00, 9.80668131e-01],\n",
       "       [1.00000000e+02, 1.86625194e-02, 1.89655172e-02],\n",
       "       [1.00000000e+03, 1.86625194e-02, 1.89655172e-02]])"
      ]
     },
     "execution_count": 82,
     "metadata": {},
     "output_type": "execute_result"
    }
   ],
   "source": [
    "train_scores_mean = np.mean(train_scores, axis=1)\n",
    "train_scores_std = np.std(train_scores, axis=1)\n",
    "test_scores_mean = np.mean(test_scores, axis=1)\n",
    "test_scores_std = np.std(test_scores, axis=1)\n",
    "np.c_[param_range, train_scores_mean, test_scores_mean]"
   ]
  },
  {
   "cell_type": "code",
   "execution_count": 83,
   "metadata": {},
   "outputs": [
    {
     "data": {
      "text/plain": [
       "<matplotlib.legend.Legend at 0x7f0224379710>"
      ]
     },
     "execution_count": 83,
     "metadata": {},
     "output_type": "execute_result"
    },
    {
     "data": {
      "image/png": "[encoded data removed]",
      "text/plain": [
       "<Figure size 432x288 with 1 Axes>"
      ]
     },
     "metadata": {
      "needs_background": "light"
     },
     "output_type": "display_data"
    }
   ],
   "source": [
    "plt.title(\"Validation Curve\")\n",
    "plt.xlabel(\"param\")\n",
    "plt.ylabel(\"Score\")\n",
    "plt.ylim(0.0, 1.1)\n",
    "lw = 2\n",
    "plt.semilogx(param_range, train_scores_mean, label=\"Training score\",\n",
    "             color=\"darkorange\", lw=lw)\n",
    "plt.fill_between(param_range, train_scores_mean - train_scores_std,\n",
    "                 train_scores_mean + train_scores_std, alpha=0.2,\n",
    "                 color=\"darkorange\", lw=lw)\n",
    "plt.semilogx(param_range, test_scores_mean, label=\"Cross-validation score\",\n",
    "             color=\"navy\", lw=lw)\n",
    "plt.fill_between(param_range, test_scores_mean - test_scores_std,\n",
    "                 test_scores_mean + test_scores_std, alpha=0.2,\n",
    "                 color=\"navy\", lw=lw)\n",
    "plt.legend(loc=\"best\")"
   ]
  },
  {
   "cell_type": "code",
   "execution_count": 84,
   "metadata": {},
   "outputs": [
    {
     "data": {
      "text/plain": [
       "LGBMClassifier(boosting_type='gbdt', class_weight=None, colsample_bytree=1.0,\n",
       "               importance_type='split', learning_rate=0.1, max_depth=-1,\n",
       "               min_child_samples=50, min_child_weight=0.001, min_split_gain=0.0,\n",
       "               n_estimators=100, n_jobs=-1, num_leaves=31, objective=None,\n",
       "               random_state=None, reg_alpha=0.01, reg_lambda=0.0, silent=True,\n",
       "               subsample=1.0, subsample_for_bin=200000, subsample_freq=0)"
      ]
     },
     "execution_count": 84,
     "metadata": {},
     "output_type": "execute_result"
    }
   ],
   "source": [
    "'''test data'''\n",
    "est = LGBMClassifier(\n",
    "        min_child_samples=50,\n",
    "        reg_alpha=0.01\n",
    "    )\n",
    "est.fit(np.hstack(pred_train_all_list), np.argmax(ytrain, axis=1))"
   ]
  },
  {
   "cell_type": "code",
   "execution_count": 85,
   "metadata": {},
   "outputs": [],
   "source": [
    "pred = est.predict(np.hstack(pred_train_all_list))"
   ]
  },
  {
   "cell_type": "code",
   "execution_count": 86,
   "metadata": {},
   "outputs": [
    {
     "name": "stdout",
     "output_type": "stream",
     "text": [
      "F1_SCORE : 1.0\n",
      "              precision    recall  f1-score   support\n",
      "\n",
      "           0       1.00      1.00      1.00        88\n",
      "           1       1.00      1.00      1.00        89\n",
      "           2       1.00      1.00      1.00        91\n",
      "           3       1.00      1.00      1.00        93\n",
      "           4       1.00      1.00      1.00        88\n",
      "           5       1.00      1.00      1.00        91\n",
      "           6       1.00      1.00      1.00        90\n",
      "           7       1.00      1.00      1.00        91\n",
      "           8       1.00      1.00      1.00        86\n",
      "           9       1.00      1.00      1.00        91\n",
      "\n",
      "    accuracy                           1.00       898\n",
      "   macro avg       1.00      1.00      1.00       898\n",
      "weighted avg       1.00      1.00      1.00       898\n",
      "\n",
      "[[88  0  0  0  0  0  0  0  0  0]\n",
      " [ 0 89  0  0  0  0  0  0  0  0]\n",
      " [ 0  0 91  0  0  0  0  0  0  0]\n",
      " [ 0  0  0 93  0  0  0  0  0  0]\n",
      " [ 0  0  0  0 88  0  0  0  0  0]\n",
      " [ 0  0  0  0  0 91  0  0  0  0]\n",
      " [ 0  0  0  0  0  0 90  0  0  0]\n",
      " [ 0  0  0  0  0  0  0 91  0  0]\n",
      " [ 0  0  0  0  0  0  0  0 86  0]\n",
      " [ 0  0  0  0  0  0  0  0  0 91]]\n"
     ]
    }
   ],
   "source": [
    "print('F1_SCORE :', f1_score(np.argmax(ytrain, axis=1), pred, average='macro'))\n",
    "print(classification_report(np.argmax(ytrain, axis=1), pred))\n",
    "print(confusion_matrix(np.argmax(ytrain, axis=1), pred))"
   ]
  },
  {
   "cell_type": "code",
   "execution_count": 87,
   "metadata": {},
   "outputs": [],
   "source": [
    "pred_test = est.predict(np.hstack(pred_all_list))"
   ]
  },
  {
   "cell_type": "code",
   "execution_count": 88,
   "metadata": {},
   "outputs": [
    {
     "name": "stdout",
     "output_type": "stream",
     "text": [
      "F1_SCORE : 0.9710346763279757\n",
      "              precision    recall  f1-score   support\n",
      "\n",
      "           0       0.98      1.00      0.99        90\n",
      "           1       1.00      0.96      0.98        93\n",
      "           2       0.99      1.00      0.99        86\n",
      "           3       0.94      0.99      0.96        90\n",
      "           4       0.99      0.98      0.98        93\n",
      "           5       0.96      0.97      0.96        91\n",
      "           6       1.00      0.91      0.95        91\n",
      "           7       0.97      0.99      0.98        88\n",
      "           8       0.95      0.99      0.97        88\n",
      "           9       0.95      0.93      0.94        89\n",
      "\n",
      "    accuracy                           0.97       899\n",
      "   macro avg       0.97      0.97      0.97       899\n",
      "weighted avg       0.97      0.97      0.97       899\n",
      "\n",
      "[[90  0  0  0  0  0  0  0  0  0]\n",
      " [ 0 89  1  1  0  1  0  0  0  1]\n",
      " [ 0  0 86  0  0  0  0  0  0  0]\n",
      " [ 0  0  0 89  0  0  0  1  0  0]\n",
      " [ 0  0  0  0 91  0  0  1  0  1]\n",
      " [ 0  0  0  0  1 88  0  0  1  1]\n",
      " [ 2  0  0  0  0  2 83  0  4  0]\n",
      " [ 0  0  0  0  0  0  0 87  0  1]\n",
      " [ 0  0  0  0  0  0  0  1 87  0]\n",
      " [ 0  0  0  5  0  1  0  0  0 83]]\n"
     ]
    }
   ],
   "source": [
    "print('F1_SCORE :', f1_score(np.argmax(yans, axis=1), pred_test, average='macro'))\n",
    "print(classification_report(np.argmax(yans, axis=1), pred_test))\n",
    "print(confusion_matrix(np.argmax(yans, axis=1), pred_test))"
   ]
  },
  {
   "cell_type": "code",
   "execution_count": null,
   "metadata": {
    "collapsed": true,
    "jupyter": {
     "outputs_hidden": true
    }
   },
   "outputs": [],
   "source": []
  },
  {
   "cell_type": "code",
   "execution_count": null,
   "metadata": {
    "collapsed": true,
    "jupyter": {
     "outputs_hidden": true
    }
   },
   "outputs": [],
   "source": []
  },
  {
   "cell_type": "code",
   "execution_count": null,
   "metadata": {
    "collapsed": true,
    "jupyter": {
     "outputs_hidden": true
    }
   },
   "outputs": [],
   "source": []
  },
  {
   "cell_type": "code",
   "execution_count": null,
   "metadata": {
    "collapsed": true,
    "jupyter": {
     "outputs_hidden": true
    }
   },
   "outputs": [],
   "source": []
  },
  {
   "cell_type": "code",
   "execution_count": null,
   "metadata": {
    "collapsed": true,
    "jupyter": {
     "outputs_hidden": true
    }
   },
   "outputs": [],
   "source": []
  }
 ],
 "metadata": {
  "kernelspec": {
   "display_name": "da03",
   "language": "python",
   "name": "da03"
  },
  "language_info": {
   "codemirror_mode": {
    "name": "ipython",
    "version": 3
   },
   "file_extension": ".py",
   "mimetype": "text/x-python",
   "name": "python",
   "nbconvert_exporter": "python",
   "pygments_lexer": "ipython3",
   "version": "3.6.9"
  }
 },
 "nbformat": 4,
 "nbformat_minor": 4
}
