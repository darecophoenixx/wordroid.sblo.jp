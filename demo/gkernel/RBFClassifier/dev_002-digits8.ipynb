{
 "cells": [
  {
   "cell_type": "code",
   "execution_count": 1,
   "metadata": {},
   "outputs": [
    {
     "name": "stderr",
     "output_type": "stream",
     "text": [
      "Using TensorFlow backend.\n"
     ]
    }
   ],
   "source": [
    "%matplotlib inline\n",
    "import os, sys\n",
    "\n",
    "import numpy as np\n",
    "import matplotlib.pyplot as plt\n",
    "from sklearn import datasets, linear_model\n",
    "from sklearn.metrics import f1_score, classification_report, confusion_matrix, make_scorer\n",
    "from sklearn.preprocessing import OneHotEncoder\n",
    "import keras\n",
    "from keras.models import Sequential\n",
    "from keras.layers import Input, Dense\n",
    "from keras.models import Model\n",
    "from keras.optimizers import SGD\n",
    "from keras import regularizers\n",
    "from keras.wrappers.scikit_learn import KerasClassifier, KerasRegressor\n",
    "from keras import backend as K\n",
    "import tensorflow as tf"
   ]
  },
  {
   "cell_type": "code",
   "execution_count": 2,
   "metadata": {
    "collapsed": true
   },
   "outputs": [],
   "source": [
    "sys.path.append('/home/admin/github/wordroid.sblo.jp/lib/keras_ex')\n",
    "#from gkernel import GaussianKernel, GaussianKernel2, GaussianKernel3\n",
    "from gkernel.sklearn import RBFClassifier"
   ]
  },
  {
   "cell_type": "code",
   "execution_count": 3,
   "metadata": {},
   "outputs": [
    {
     "data": {
      "text/plain": [
       "((1797, 64), 0.0, 1.0)"
      ]
     },
     "execution_count": 3,
     "metadata": {},
     "output_type": "execute_result"
    }
   ],
   "source": [
    "from sklearn.datasets import load_digits\n",
    "digits = load_digits()\n",
    "X, y = digits.data, digits.target\n",
    "X = X / 16\n",
    "X.shape, X.min(), X.max()"
   ]
  },
  {
   "cell_type": "code",
   "execution_count": 4,
   "metadata": {},
   "outputs": [
    {
     "data": {
      "text/plain": [
       "(1797,)"
      ]
     },
     "execution_count": 4,
     "metadata": {},
     "output_type": "execute_result"
    }
   ],
   "source": [
    "y.shape"
   ]
  },
  {
   "cell_type": "code",
   "execution_count": 5,
   "metadata": {
    "collapsed": true
   },
   "outputs": [],
   "source": [
    "N = y.shape[0]\n",
    "y2 = keras.utils.to_categorical(y, num_classes=10)\n",
    "y2.shape\n",
    "index = np.arange(N)\n",
    "xtrain = X[index[index % 2 != 0],:]\n",
    "ytrain = y2[index[index % 2 != 0]]\n",
    "xtest = X[index[index % 2 == 0],:]\n",
    "yans = y2[index[index % 2 == 0]]"
   ]
  },
  {
   "cell_type": "code",
   "execution_count": null,
   "metadata": {
    "collapsed": true
   },
   "outputs": [],
   "source": []
  },
  {
   "cell_type": "code",
   "execution_count": 6,
   "metadata": {
    "collapsed": true
   },
   "outputs": [],
   "source": [
    "from sklearn.model_selection import StratifiedShuffleSplit, GridSearchCV, validation_curve\n",
    "from sklearn.feature_selection import RFECV\n",
    "from sklearn.linear_model import LogisticRegression, Lasso\n",
    "import pandas as pd\n",
    "from sklearn.metrics import mean_squared_error, mean_absolute_error, roc_auc_score, r2_score, make_scorer\n",
    "from sklearn.metrics.pairwise import cosine_similarity, euclidean_distances\n",
    "import joblib\n",
    "\n",
    "from lightgbm import LGBMClassifier"
   ]
  },
  {
   "cell_type": "code",
   "execution_count": 7,
   "metadata": {
    "collapsed": true
   },
   "outputs": [],
   "source": [
    "import warnings\n",
    "warnings.filterwarnings('ignore')"
   ]
  },
  {
   "cell_type": "code",
   "execution_count": 8,
   "metadata": {
    "collapsed": true
   },
   "outputs": [],
   "source": [
    "def f1_scorer(estimator, X, y):\n",
    "    pred = estimator.predict(X)\n",
    "    s = f1_score(y, pred, average='macro')\n",
    "    return s"
   ]
  },
  {
   "cell_type": "markdown",
   "metadata": {},
   "source": [
    "## BENCHMARK LogisticRegression"
   ]
  },
  {
   "cell_type": "code",
   "execution_count": 9,
   "metadata": {},
   "outputs": [
    {
     "data": {
      "text/plain": [
       "3"
      ]
     },
     "execution_count": 9,
     "metadata": {},
     "output_type": "execute_result"
    }
   ],
   "source": [
    "cv_splitter = StratifiedShuffleSplit(n_splits=3, test_size=0.35, random_state=0)\n",
    "cv_splitter.get_n_splits(xtrain, ytrain)"
   ]
  },
  {
   "cell_type": "code",
   "execution_count": 10,
   "metadata": {},
   "outputs": [
    {
     "data": {
      "text/plain": [
       "array([1.e-03, 1.e-02, 1.e-01, 1.e+00, 1.e+01, 1.e+02, 1.e+03])"
      ]
     },
     "execution_count": 10,
     "metadata": {},
     "output_type": "execute_result"
    }
   ],
   "source": [
    "param_name = \"C\"\n",
    "param_range = np.logspace(-3, 3, 7)\n",
    "param_range"
   ]
  },
  {
   "cell_type": "code",
   "execution_count": 11,
   "metadata": {},
   "outputs": [
    {
     "name": "stderr",
     "output_type": "stream",
     "text": [
      "[Parallel(n_jobs=1)]: Using backend SequentialBackend with 1 concurrent workers.\n",
      "[Parallel(n_jobs=1)]: Done   1 out of   1 | elapsed:    0.0s remaining:    0.0s\n"
     ]
    },
    {
     "name": "stdout",
     "output_type": "stream",
     "text": [
      "[CV] C=0.001 .........................................................\n",
      "[CV] .......................................... C=0.001, total=   0.0s\n",
      "[CV] C=0.01 ..........................................................\n",
      "[CV] ........................................... C=0.01, total=   0.0s\n",
      "[CV] C=0.1 ...........................................................\n",
      "[CV] ............................................ C=0.1, total=   1.0s\n",
      "[CV] C=1.0 ...........................................................\n",
      "[CV] ............................................ C=1.0, total=   3.6s\n",
      "[CV] C=10.0 ..........................................................\n",
      "[CV] ........................................... C=10.0, total=   9.0s\n",
      "[CV] C=100.0 .........................................................\n",
      "[CV] .......................................... C=100.0, total=   9.8s\n",
      "[CV] C=1000.0 ........................................................\n",
      "[CV] ......................................... C=1000.0, total=  17.8s\n",
      "[CV] C=0.001 .........................................................\n",
      "[CV] .......................................... C=0.001, total=   0.0s\n",
      "[CV] C=0.01 ..........................................................\n",
      "[CV] ........................................... C=0.01, total=   0.0s\n",
      "[CV] C=0.1 ...........................................................\n",
      "[CV] ............................................ C=0.1, total=   1.4s\n",
      "[CV] C=1.0 ...........................................................\n",
      "[CV] ............................................ C=1.0, total=   4.2s\n",
      "[CV] C=10.0 ..........................................................\n",
      "[CV] ........................................... C=10.0, total=  14.7s\n",
      "[CV] C=100.0 .........................................................\n",
      "[CV] .......................................... C=100.0, total=  20.2s\n",
      "[CV] C=1000.0 ........................................................\n",
      "[CV] ......................................... C=1000.0, total=  15.1s\n",
      "[CV] C=0.001 .........................................................\n",
      "[CV] .......................................... C=0.001, total=   0.0s\n",
      "[CV] C=0.01 ..........................................................\n",
      "[CV] ........................................... C=0.01, total=   0.0s\n",
      "[CV] C=0.1 ...........................................................\n",
      "[CV] ............................................ C=0.1, total=   0.2s\n",
      "[CV] C=1.0 ...........................................................\n",
      "[CV] ............................................ C=1.0, total=   3.7s\n",
      "[CV] C=10.0 ..........................................................\n",
      "[CV] ........................................... C=10.0, total=  11.7s\n",
      "[CV] C=100.0 .........................................................\n",
      "[CV] .......................................... C=100.0, total=  14.8s\n",
      "[CV] C=1000.0 ........................................................\n",
      "[CV] ......................................... C=1000.0, total=  13.7s\n",
      "CPU times: user 1min, sys: 256 ms, total: 1min\n",
      "Wall time: 2min 21s\n"
     ]
    },
    {
     "name": "stderr",
     "output_type": "stream",
     "text": [
      "[Parallel(n_jobs=1)]: Done  21 out of  21 | elapsed:  2.4min finished\n"
     ]
    }
   ],
   "source": [
    "%%time\n",
    "\n",
    "train_scores, test_scores = validation_curve(\n",
    "    LogisticRegression(penalty='l1', multi_class='multinomial', solver='saga', max_iter=10000),\n",
    "    xtrain, np.argmax(ytrain, axis=1),\n",
    "    param_name=param_name, param_range=param_range,\n",
    "    cv=cv_splitter, n_jobs=1, verbose=2, scoring=f1_scorer)"
   ]
  },
  {
   "cell_type": "code",
   "execution_count": 12,
   "metadata": {},
   "outputs": [
    {
     "data": {
      "text/plain": [
       "array([[1.00000000e-03, 1.82850272e-02, 1.82678892e-02],\n",
       "       [1.00000000e-02, 1.84742147e-02, 1.86177084e-02],\n",
       "       [1.00000000e-01, 8.83084412e-01, 8.17783004e-01],\n",
       "       [1.00000000e+00, 9.85584329e-01, 9.30447501e-01],\n",
       "       [1.00000000e+01, 1.00000000e+00, 9.42295210e-01],\n",
       "       [1.00000000e+02, 1.00000000e+00, 9.39995320e-01],\n",
       "       [1.00000000e+03, 1.00000000e+00, 9.43524922e-01]])"
      ]
     },
     "execution_count": 12,
     "metadata": {},
     "output_type": "execute_result"
    }
   ],
   "source": [
    "train_scores_mean = np.mean(train_scores, axis=1)\n",
    "train_scores_std = np.std(train_scores, axis=1)\n",
    "test_scores_mean = np.mean(test_scores, axis=1)\n",
    "test_scores_std = np.std(test_scores, axis=1)\n",
    "np.c_[param_range, train_scores_mean, test_scores_mean]"
   ]
  },
  {
   "cell_type": "code",
   "execution_count": 13,
   "metadata": {},
   "outputs": [
    {
     "data": {
      "text/plain": [
       "<matplotlib.legend.Legend at 0x7f2f92262c88>"
      ]
     },
     "execution_count": 13,
     "metadata": {},
     "output_type": "execute_result"
    },
    {
     "data": {
      "image/png": "[encoded data removed]",
      "text/plain": [
       "<matplotlib.figure.Figure at 0x7f2f92262c50>"
      ]
     },
     "metadata": {},
     "output_type": "display_data"
    }
   ],
   "source": [
    "plt.title(\"Validation Curve\")\n",
    "plt.xlabel(\"param\")\n",
    "plt.ylabel(\"Score\")\n",
    "plt.ylim(0.0, 1.1)\n",
    "lw = 2\n",
    "plt.semilogx(param_range, train_scores_mean, label=\"Training score\",\n",
    "             color=\"darkorange\", lw=lw)\n",
    "plt.fill_between(param_range, train_scores_mean - train_scores_std,\n",
    "                 train_scores_mean + train_scores_std, alpha=0.2,\n",
    "                 color=\"darkorange\", lw=lw)\n",
    "plt.semilogx(param_range, test_scores_mean, label=\"Cross-validation score\",\n",
    "             color=\"navy\", lw=lw)\n",
    "plt.fill_between(param_range, test_scores_mean - test_scores_std,\n",
    "                 test_scores_mean + test_scores_std, alpha=0.2,\n",
    "                 color=\"navy\", lw=lw)\n",
    "plt.legend(loc=\"best\")"
   ]
  },
  {
   "cell_type": "code",
   "execution_count": 14,
   "metadata": {},
   "outputs": [
    {
     "data": {
      "text/plain": [
       "LogisticRegression(C=1000, class_weight=None, dual=False, fit_intercept=True,\n",
       "          intercept_scaling=1, max_iter=10000, multi_class='multinomial',\n",
       "          n_jobs=None, penalty='l1', random_state=None, solver='saga',\n",
       "          tol=0.0001, verbose=0, warm_start=False)"
      ]
     },
     "execution_count": 14,
     "metadata": {},
     "output_type": "execute_result"
    }
   ],
   "source": [
    "'''test data'''\n",
    "est = LogisticRegression(penalty='l1', multi_class='multinomial', solver='saga', max_iter=10000, C=1000)\n",
    "est.fit(xtrain, np.argmax(ytrain, axis=1))"
   ]
  },
  {
   "cell_type": "code",
   "execution_count": 15,
   "metadata": {
    "collapsed": true
   },
   "outputs": [],
   "source": [
    "pred = est.predict(xtrain)"
   ]
  },
  {
   "cell_type": "code",
   "execution_count": 16,
   "metadata": {},
   "outputs": [
    {
     "name": "stdout",
     "output_type": "stream",
     "text": [
      "F1_SCORE : 1.0\n",
      "              precision    recall  f1-score   support\n",
      "\n",
      "           0       1.00      1.00      1.00        88\n",
      "           1       1.00      1.00      1.00        89\n",
      "           2       1.00      1.00      1.00        91\n",
      "           3       1.00      1.00      1.00        93\n",
      "           4       1.00      1.00      1.00        88\n",
      "           5       1.00      1.00      1.00        91\n",
      "           6       1.00      1.00      1.00        90\n",
      "           7       1.00      1.00      1.00        91\n",
      "           8       1.00      1.00      1.00        86\n",
      "           9       1.00      1.00      1.00        91\n",
      "\n",
      "   micro avg       1.00      1.00      1.00       898\n",
      "   macro avg       1.00      1.00      1.00       898\n",
      "weighted avg       1.00      1.00      1.00       898\n",
      "\n",
      "[[88  0  0  0  0  0  0  0  0  0]\n",
      " [ 0 89  0  0  0  0  0  0  0  0]\n",
      " [ 0  0 91  0  0  0  0  0  0  0]\n",
      " [ 0  0  0 93  0  0  0  0  0  0]\n",
      " [ 0  0  0  0 88  0  0  0  0  0]\n",
      " [ 0  0  0  0  0 91  0  0  0  0]\n",
      " [ 0  0  0  0  0  0 90  0  0  0]\n",
      " [ 0  0  0  0  0  0  0 91  0  0]\n",
      " [ 0  0  0  0  0  0  0  0 86  0]\n",
      " [ 0  0  0  0  0  0  0  0  0 91]]\n"
     ]
    }
   ],
   "source": [
    "print('F1_SCORE :', f1_score(np.argmax(ytrain, axis=1), pred, average='macro'))\n",
    "print(classification_report(np.argmax(ytrain, axis=1), pred))\n",
    "print(confusion_matrix(np.argmax(ytrain, axis=1), pred))"
   ]
  },
  {
   "cell_type": "code",
   "execution_count": 17,
   "metadata": {
    "collapsed": true
   },
   "outputs": [],
   "source": [
    "pred_test = est.predict(xtest)"
   ]
  },
  {
   "cell_type": "code",
   "execution_count": 18,
   "metadata": {},
   "outputs": [
    {
     "name": "stdout",
     "output_type": "stream",
     "text": [
      "F1_SCORE : 0.9633109064024975\n",
      "              precision    recall  f1-score   support\n",
      "\n",
      "           0       1.00      1.00      1.00        90\n",
      "           1       0.94      0.91      0.93        93\n",
      "           2       0.98      1.00      0.99        86\n",
      "           3       0.97      0.99      0.98        90\n",
      "           4       1.00      0.97      0.98        93\n",
      "           5       0.94      0.98      0.96        91\n",
      "           6       1.00      0.98      0.99        91\n",
      "           7       0.97      0.98      0.97        88\n",
      "           8       0.88      0.91      0.89        88\n",
      "           9       0.96      0.92      0.94        89\n",
      "\n",
      "   micro avg       0.96      0.96      0.96       899\n",
      "   macro avg       0.96      0.96      0.96       899\n",
      "weighted avg       0.96      0.96      0.96       899\n",
      "\n",
      "[[90  0  0  0  0  0  0  0  0  0]\n",
      " [ 0 85  2  1  0  1  0  0  4  0]\n",
      " [ 0  0 86  0  0  0  0  0  0  0]\n",
      " [ 0  0  0 89  0  0  0  0  1  0]\n",
      " [ 0  0  0  0 90  0  0  1  0  2]\n",
      " [ 0  0  0  0  0 89  0  1  0  1]\n",
      " [ 0  0  0  0  0  1 89  0  1  0]\n",
      " [ 0  0  0  0  0  1  0 86  1  0]\n",
      " [ 0  5  0  1  0  1  0  1 80  0]\n",
      " [ 0  0  0  1  0  2  0  0  4 82]]\n"
     ]
    }
   ],
   "source": [
    "print('F1_SCORE :', f1_score(np.argmax(yans, axis=1), pred_test, average='macro'))\n",
    "print(classification_report(np.argmax(yans, axis=1), pred_test))\n",
    "print(confusion_matrix(np.argmax(yans, axis=1), pred_test))"
   ]
  },
  {
   "cell_type": "code",
   "execution_count": null,
   "metadata": {
    "collapsed": true
   },
   "outputs": [],
   "source": []
  },
  {
   "cell_type": "markdown",
   "metadata": {},
   "source": [
    "## Bagging + Logit"
   ]
  },
  {
   "cell_type": "code",
   "execution_count": 19,
   "metadata": {
    "collapsed": true
   },
   "outputs": [],
   "source": [
    "from sklearn.ensemble import BaggingClassifier"
   ]
  },
  {
   "cell_type": "code",
   "execution_count": 20,
   "metadata": {
    "collapsed": true
   },
   "outputs": [],
   "source": [
    "clf = BaggingClassifier(\n",
    "    LogisticRegression(penalty='l1', multi_class='multinomial', solver='saga', max_iter=10000, C=1000),\n",
    "    max_samples=0.5,\n",
    "    verbose=2\n",
    ")"
   ]
  },
  {
   "cell_type": "code",
   "execution_count": 21,
   "metadata": {
    "scrolled": false
   },
   "outputs": [
    {
     "name": "stderr",
     "output_type": "stream",
     "text": [
      "[Parallel(n_jobs=1)]: Using backend SequentialBackend with 1 concurrent workers.\n"
     ]
    },
    {
     "name": "stdout",
     "output_type": "stream",
     "text": [
      "Building estimator 1 of 10 for this parallel run (total 10)...\n",
      "Building estimator 2 of 10 for this parallel run (total 10)...\n",
      "Building estimator 3 of 10 for this parallel run (total 10)...\n",
      "Building estimator 4 of 10 for this parallel run (total 10)...\n",
      "Building estimator 5 of 10 for this parallel run (total 10)...\n",
      "Building estimator 6 of 10 for this parallel run (total 10)...\n",
      "Building estimator 7 of 10 for this parallel run (total 10)...\n",
      "Building estimator 8 of 10 for this parallel run (total 10)...\n",
      "Building estimator 9 of 10 for this parallel run (total 10)...\n",
      "Building estimator 10 of 10 for this parallel run (total 10)...\n"
     ]
    },
    {
     "name": "stderr",
     "output_type": "stream",
     "text": [
      "[Parallel(n_jobs=1)]: Done   1 out of   1 | elapsed:  2.4min remaining:    0.0s\n",
      "[Parallel(n_jobs=1)]: Done   1 out of   1 | elapsed:  2.4min finished\n"
     ]
    },
    {
     "data": {
      "text/plain": [
       "BaggingClassifier(base_estimator=LogisticRegression(C=1000, class_weight=None, dual=False, fit_intercept=True,\n",
       "          intercept_scaling=1, max_iter=10000, multi_class='multinomial',\n",
       "          n_jobs=None, penalty='l1', random_state=None, solver='saga',\n",
       "          tol=0.0001, verbose=0, warm_start=False),\n",
       "         bootstrap=True, bootstrap_features=False, max_features=1.0,\n",
       "         max_samples=0.5, n_estimators=10, n_jobs=None, oob_score=False,\n",
       "         random_state=None, verbose=2, warm_start=False)"
      ]
     },
     "execution_count": 21,
     "metadata": {},
     "output_type": "execute_result"
    }
   ],
   "source": [
    "clf.fit(xtrain, np.argmax(ytrain, axis=1))"
   ]
  },
  {
   "cell_type": "code",
   "execution_count": 22,
   "metadata": {},
   "outputs": [
    {
     "name": "stderr",
     "output_type": "stream",
     "text": [
      "[Parallel(n_jobs=1)]: Using backend SequentialBackend with 1 concurrent workers.\n",
      "[Parallel(n_jobs=1)]: Done   1 out of   1 | elapsed:    0.0s remaining:    0.0s\n",
      "[Parallel(n_jobs=1)]: Done   1 out of   1 | elapsed:    0.0s finished\n"
     ]
    }
   ],
   "source": [
    "pred = clf.predict(xtrain)"
   ]
  },
  {
   "cell_type": "code",
   "execution_count": 23,
   "metadata": {},
   "outputs": [
    {
     "name": "stdout",
     "output_type": "stream",
     "text": [
      "F1_SCORE : 0.9865945405406868\n",
      "              precision    recall  f1-score   support\n",
      "\n",
      "           0       0.99      0.99      0.99        88\n",
      "           1       0.96      1.00      0.98        89\n",
      "           2       0.99      0.99      0.99        91\n",
      "           3       1.00      0.98      0.99        93\n",
      "           4       1.00      0.99      0.99        88\n",
      "           5       0.99      0.98      0.98        91\n",
      "           6       1.00      0.99      0.99        90\n",
      "           7       1.00      1.00      1.00        91\n",
      "           8       0.98      0.97      0.97        86\n",
      "           9       0.97      0.99      0.98        91\n",
      "\n",
      "   micro avg       0.99      0.99      0.99       898\n",
      "   macro avg       0.99      0.99      0.99       898\n",
      "weighted avg       0.99      0.99      0.99       898\n",
      "\n",
      "[[87  0  0  0  0  1  0  0  0  0]\n",
      " [ 0 89  0  0  0  0  0  0  0  0]\n",
      " [ 0  1 90  0  0  0  0  0  0  0]\n",
      " [ 0  0  0 91  0  0  0  0  1  1]\n",
      " [ 0  0  0  0 87  0  0  0  0  1]\n",
      " [ 1  0  0  0  0 89  0  0  0  1]\n",
      " [ 0  1  0  0  0  0 89  0  0  0]\n",
      " [ 0  0  0  0  0  0  0 91  0  0]\n",
      " [ 0  2  1  0  0  0  0  0 83  0]\n",
      " [ 0  0  0  0  0  0  0  0  1 90]]\n"
     ]
    }
   ],
   "source": [
    "print('F1_SCORE :', f1_score(np.argmax(ytrain, axis=1), pred, average='macro'))\n",
    "print(classification_report(np.argmax(ytrain, axis=1), pred))\n",
    "print(confusion_matrix(np.argmax(ytrain, axis=1), pred))"
   ]
  },
  {
   "cell_type": "code",
   "execution_count": 24,
   "metadata": {},
   "outputs": [
    {
     "name": "stderr",
     "output_type": "stream",
     "text": [
      "[Parallel(n_jobs=1)]: Using backend SequentialBackend with 1 concurrent workers.\n",
      "[Parallel(n_jobs=1)]: Done   1 out of   1 | elapsed:    0.0s remaining:    0.0s\n",
      "[Parallel(n_jobs=1)]: Done   1 out of   1 | elapsed:    0.0s finished\n"
     ]
    }
   ],
   "source": [
    "pred_test = clf.predict(xtest)"
   ]
  },
  {
   "cell_type": "code",
   "execution_count": 25,
   "metadata": {},
   "outputs": [
    {
     "name": "stdout",
     "output_type": "stream",
     "text": [
      "F1_SCORE : 0.9666085683794059\n",
      "              precision    recall  f1-score   support\n",
      "\n",
      "           0       1.00      0.99      0.99        90\n",
      "           1       0.95      0.97      0.96        93\n",
      "           2       0.99      1.00      0.99        86\n",
      "           3       0.97      0.96      0.96        90\n",
      "           4       1.00      0.97      0.98        93\n",
      "           5       0.95      0.99      0.97        91\n",
      "           6       0.98      0.97      0.97        91\n",
      "           7       0.97      0.98      0.97        88\n",
      "           8       0.92      0.92      0.92        88\n",
      "           9       0.95      0.93      0.94        89\n",
      "\n",
      "   micro avg       0.97      0.97      0.97       899\n",
      "   macro avg       0.97      0.97      0.97       899\n",
      "weighted avg       0.97      0.97      0.97       899\n",
      "\n",
      "[[89  0  0  0  0  1  0  0  0  0]\n",
      " [ 0 90  1  0  0  0  1  0  1  0]\n",
      " [ 0  0 86  0  0  0  0  0  0  0]\n",
      " [ 0  0  0 86  0  0  0  1  3  0]\n",
      " [ 0  0  0  0 90  0  0  1  0  2]\n",
      " [ 0  0  0  0  0 90  0  0  0  1]\n",
      " [ 0  0  0  0  0  2 88  0  1  0]\n",
      " [ 0  0  0  0  0  0  0 86  1  1]\n",
      " [ 0  5  0  0  0  0  1  1 81  0]\n",
      " [ 0  0  0  3  0  2  0  0  1 83]]\n"
     ]
    }
   ],
   "source": [
    "print('F1_SCORE :', f1_score(np.argmax(yans, axis=1), pred_test, average='macro'))\n",
    "print(classification_report(np.argmax(yans, axis=1), pred_test))\n",
    "print(confusion_matrix(np.argmax(yans, axis=1), pred_test))"
   ]
  },
  {
   "cell_type": "code",
   "execution_count": null,
   "metadata": {
    "collapsed": true
   },
   "outputs": [],
   "source": []
  },
  {
   "cell_type": "markdown",
   "metadata": {},
   "source": [
    "## BENCHMARK LGBMClassifier"
   ]
  },
  {
   "cell_type": "code",
   "execution_count": 26,
   "metadata": {},
   "outputs": [
    {
     "data": {
      "text/plain": [
       "3"
      ]
     },
     "execution_count": 26,
     "metadata": {},
     "output_type": "execute_result"
    }
   ],
   "source": [
    "cv_splitter = StratifiedShuffleSplit(n_splits=3, test_size=0.35, random_state=0)\n",
    "cv_splitter.get_n_splits(xtrain, ytrain)"
   ]
  },
  {
   "cell_type": "code",
   "execution_count": 27,
   "metadata": {},
   "outputs": [
    {
     "data": {
      "text/plain": [
       "array([1.e-03, 1.e-02, 1.e-01, 1.e+00, 1.e+01, 1.e+02, 1.e+03])"
      ]
     },
     "execution_count": 27,
     "metadata": {},
     "output_type": "execute_result"
    }
   ],
   "source": [
    "param_name = \"reg_alpha\"\n",
    "param_range = np.logspace(-3, 3, 7)\n",
    "param_range"
   ]
  },
  {
   "cell_type": "code",
   "execution_count": 28,
   "metadata": {},
   "outputs": [
    {
     "name": "stderr",
     "output_type": "stream",
     "text": [
      "[Parallel(n_jobs=1)]: Using backend SequentialBackend with 1 concurrent workers.\n",
      "[Parallel(n_jobs=1)]: Done   1 out of   1 | elapsed:    0.1s remaining:    0.0s\n"
     ]
    },
    {
     "name": "stdout",
     "output_type": "stream",
     "text": [
      "[CV] reg_alpha=0.001 .................................................\n",
      "[CV] .................................. reg_alpha=0.001, total=   0.1s\n",
      "[CV] reg_alpha=0.01 ..................................................\n",
      "[CV] ................................... reg_alpha=0.01, total=   0.0s\n",
      "[CV] reg_alpha=0.1 ...................................................\n",
      "[CV] .................................... reg_alpha=0.1, total=   0.0s\n",
      "[CV] reg_alpha=1.0 ...................................................\n",
      "[CV] .................................... reg_alpha=1.0, total=   0.0s\n",
      "[CV] reg_alpha=10.0 ..................................................\n",
      "[CV] ................................... reg_alpha=10.0, total=   0.0s\n",
      "[CV] reg_alpha=100.0 .................................................\n",
      "[CV] .................................. reg_alpha=100.0, total=   0.0s\n",
      "[CV] reg_alpha=1000.0 ................................................\n",
      "[CV] ................................. reg_alpha=1000.0, total=   0.0s\n",
      "[CV] reg_alpha=0.001 .................................................\n",
      "[CV] .................................. reg_alpha=0.001, total=   0.0s\n",
      "[CV] reg_alpha=0.01 ..................................................\n",
      "[CV] ................................... reg_alpha=0.01, total=   0.1s\n",
      "[CV] reg_alpha=0.1 ...................................................\n",
      "[CV] .................................... reg_alpha=0.1, total=   0.0s\n",
      "[CV] reg_alpha=1.0 ...................................................\n",
      "[CV] .................................... reg_alpha=1.0, total=   0.0s\n",
      "[CV] reg_alpha=10.0 ..................................................\n",
      "[CV] ................................... reg_alpha=10.0, total=   0.0s\n",
      "[CV] reg_alpha=100.0 .................................................\n",
      "[CV] .................................. reg_alpha=100.0, total=   0.0s\n",
      "[CV] reg_alpha=1000.0 ................................................\n",
      "[CV] ................................. reg_alpha=1000.0, total=   0.0s\n",
      "[CV] reg_alpha=0.001 .................................................\n",
      "[CV] .................................. reg_alpha=0.001, total=   0.0s\n",
      "[CV] reg_alpha=0.01 ..................................................\n",
      "[CV] ................................... reg_alpha=0.01, total=   0.0s\n",
      "[CV] reg_alpha=0.1 ...................................................\n",
      "[CV] .................................... reg_alpha=0.1, total=   0.0s\n",
      "[CV] reg_alpha=1.0 ...................................................\n",
      "[CV] .................................... reg_alpha=1.0, total=   0.0s\n",
      "[CV] reg_alpha=10.0 ..................................................\n",
      "[CV] ................................... reg_alpha=10.0, total=   0.0s\n",
      "[CV] reg_alpha=100.0 .................................................\n",
      "[CV] .................................. reg_alpha=100.0, total=   0.0s\n",
      "[CV] reg_alpha=1000.0 ................................................\n",
      "[CV] ................................. reg_alpha=1000.0, total=   0.0s\n",
      "CPU times: user 1.34 s, sys: 254 ms, total: 1.6 s\n",
      "Wall time: 802 ms\n"
     ]
    },
    {
     "name": "stderr",
     "output_type": "stream",
     "text": [
      "[Parallel(n_jobs=1)]: Done  21 out of  21 | elapsed:    0.8s finished\n"
     ]
    }
   ],
   "source": [
    "%%time\n",
    "\n",
    "train_scores, test_scores = validation_curve(\n",
    "    LGBMClassifier(\n",
    "        min_child_samples=20,\n",
    "        reg_alpha=0.1\n",
    "    ),\n",
    "    xtrain, np.argmax(ytrain, axis=1),\n",
    "    param_name=param_name, param_range=param_range,\n",
    "    cv=cv_splitter, n_jobs=1, verbose=2, scoring=f1_scorer)"
   ]
  },
  {
   "cell_type": "code",
   "execution_count": 29,
   "metadata": {},
   "outputs": [
    {
     "data": {
      "text/plain": [
       "array([[1.00000000e-03, 9.55956073e-01, 8.54552386e-01],\n",
       "       [1.00000000e-02, 9.55982579e-01, 8.53570294e-01],\n",
       "       [1.00000000e-01, 9.54834065e-01, 8.54249974e-01],\n",
       "       [1.00000000e+00, 9.41107282e-01, 8.56470400e-01],\n",
       "       [1.00000000e+01, 9.04822161e-01, 8.25580827e-01],\n",
       "       [1.00000000e+02, 1.78125000e-02, 1.79190751e-02],\n",
       "       [1.00000000e+03, 1.78125000e-02, 1.79190751e-02]])"
      ]
     },
     "execution_count": 29,
     "metadata": {},
     "output_type": "execute_result"
    }
   ],
   "source": [
    "train_scores_mean = np.mean(train_scores, axis=1)\n",
    "train_scores_std = np.std(train_scores, axis=1)\n",
    "test_scores_mean = np.mean(test_scores, axis=1)\n",
    "test_scores_std = np.std(test_scores, axis=1)\n",
    "np.c_[param_range, train_scores_mean, test_scores_mean]"
   ]
  },
  {
   "cell_type": "code",
   "execution_count": 30,
   "metadata": {},
   "outputs": [
    {
     "data": {
      "text/plain": [
       "<matplotlib.legend.Legend at 0x7f2f9008d390>"
      ]
     },
     "execution_count": 30,
     "metadata": {},
     "output_type": "execute_result"
    },
    {
     "data": {
      "image/png": "[encoded data removed]",
      "text/plain": [
       "<matplotlib.figure.Figure at 0x7f2f90165198>"
      ]
     },
     "metadata": {},
     "output_type": "display_data"
    }
   ],
   "source": [
    "plt.title(\"Validation Curve\")\n",
    "plt.xlabel(\"param\")\n",
    "plt.ylabel(\"Score\")\n",
    "plt.ylim(0.0, 1.1)\n",
    "lw = 2\n",
    "plt.semilogx(param_range, train_scores_mean, label=\"Training score\",\n",
    "             color=\"darkorange\", lw=lw)\n",
    "plt.fill_between(param_range, train_scores_mean - train_scores_std,\n",
    "                 train_scores_mean + train_scores_std, alpha=0.2,\n",
    "                 color=\"darkorange\", lw=lw)\n",
    "plt.semilogx(param_range, test_scores_mean, label=\"Cross-validation score\",\n",
    "             color=\"navy\", lw=lw)\n",
    "plt.fill_between(param_range, test_scores_mean - test_scores_std,\n",
    "                 test_scores_mean + test_scores_std, alpha=0.2,\n",
    "                 color=\"navy\", lw=lw)\n",
    "plt.legend(loc=\"best\")"
   ]
  },
  {
   "cell_type": "code",
   "execution_count": 31,
   "metadata": {},
   "outputs": [
    {
     "data": {
      "text/plain": [
       "LGBMClassifier(boosting_type='gbdt', colsample_bytree=1, learning_rate=0.1,\n",
       "        max_bin=255, max_depth=-1, min_child_samples=20,\n",
       "        min_child_weight=5, min_split_gain=0, n_estimators=10, nthread=-1,\n",
       "        num_leaves=31, objective='multiclass', reg_alpha=0.1, reg_lambda=0,\n",
       "        seed=0, silent=True, subsample=1, subsample_for_bin=50000,\n",
       "        subsample_freq=1)"
      ]
     },
     "execution_count": 31,
     "metadata": {},
     "output_type": "execute_result"
    }
   ],
   "source": [
    "'''test data'''\n",
    "est = LGBMClassifier(\n",
    "        min_child_samples=20,\n",
    "        reg_alpha=0.1\n",
    "    )\n",
    "est.fit(xtrain, np.argmax(ytrain, axis=1))"
   ]
  },
  {
   "cell_type": "code",
   "execution_count": 32,
   "metadata": {
    "collapsed": true
   },
   "outputs": [],
   "source": [
    "pred = est.predict(xtrain)"
   ]
  },
  {
   "cell_type": "code",
   "execution_count": 33,
   "metadata": {},
   "outputs": [
    {
     "name": "stdout",
     "output_type": "stream",
     "text": [
      "F1_SCORE : 0.9590311774708322\n",
      "              precision    recall  f1-score   support\n",
      "\n",
      "           0       0.98      1.00      0.99        88\n",
      "           1       0.91      0.96      0.93        89\n",
      "           2       0.98      0.99      0.98        91\n",
      "           3       0.92      0.97      0.94        93\n",
      "           4       0.99      0.97      0.98        88\n",
      "           5       0.98      0.95      0.96        91\n",
      "           6       1.00      0.97      0.98        90\n",
      "           7       0.95      0.96      0.95        91\n",
      "           8       0.98      0.94      0.96        86\n",
      "           9       0.92      0.90      0.91        91\n",
      "\n",
      "   micro avg       0.96      0.96      0.96       898\n",
      "   macro avg       0.96      0.96      0.96       898\n",
      "weighted avg       0.96      0.96      0.96       898\n",
      "\n",
      "[[88  0  0  0  0  0  0  0  0  0]\n",
      " [ 0 85  0  2  0  1  0  0  0  1]\n",
      " [ 0  1 90  0  0  0  0  0  0  0]\n",
      " [ 0  1  1 90  0  0  0  1  0  0]\n",
      " [ 1  0  0  0 85  0  0  0  1  1]\n",
      " [ 0  1  0  0  0 86  0  0  0  4]\n",
      " [ 1  2  0  0  0  0 87  0  0  0]\n",
      " [ 0  0  0  1  1  1  0 87  0  1]\n",
      " [ 0  3  1  1  0  0  0  0 81  0]\n",
      " [ 0  0  0  4  0  0  0  4  1 82]]\n"
     ]
    }
   ],
   "source": [
    "print('F1_SCORE :', f1_score(np.argmax(ytrain, axis=1), pred, average='macro'))\n",
    "print(classification_report(np.argmax(ytrain, axis=1), pred))\n",
    "print(confusion_matrix(np.argmax(ytrain, axis=1), pred))"
   ]
  },
  {
   "cell_type": "code",
   "execution_count": 34,
   "metadata": {
    "collapsed": true
   },
   "outputs": [],
   "source": [
    "pred_test = est.predict(xtest)"
   ]
  },
  {
   "cell_type": "code",
   "execution_count": 35,
   "metadata": {},
   "outputs": [
    {
     "name": "stdout",
     "output_type": "stream",
     "text": [
      "F1_SCORE : 0.9003445134291959\n",
      "              precision    recall  f1-score   support\n",
      "\n",
      "           0       0.99      1.00      0.99        90\n",
      "           1       0.91      0.87      0.89        93\n",
      "           2       0.90      0.93      0.91        86\n",
      "           3       0.84      0.87      0.85        90\n",
      "           4       0.97      0.90      0.93        93\n",
      "           5       0.87      0.85      0.86        91\n",
      "           6       0.97      0.92      0.94        91\n",
      "           7       0.92      0.94      0.93        88\n",
      "           8       0.90      0.83      0.86        88\n",
      "           9       0.77      0.89      0.82        89\n",
      "\n",
      "   micro avg       0.90      0.90      0.90       899\n",
      "   macro avg       0.90      0.90      0.90       899\n",
      "weighted avg       0.90      0.90      0.90       899\n",
      "\n",
      "[[90  0  0  0  0  0  0  0  0  0]\n",
      " [ 0 81  2  6  0  1  0  0  0  3]\n",
      " [ 0  0 80  2  0  0  2  0  2  0]\n",
      " [ 0  1  1 78  0  2  1  0  2  5]\n",
      " [ 1  3  0  0 84  2  0  2  1  0]\n",
      " [ 0  1  0  2  1 77  0  1  0  9]\n",
      " [ 0  0  1  0  1  3 84  0  1  1]\n",
      " [ 0  0  0  0  1  1  0 83  1  2]\n",
      " [ 0  1  5  2  0  0  0  3 73  4]\n",
      " [ 0  2  0  3  0  3  0  1  1 79]]\n"
     ]
    }
   ],
   "source": [
    "print('F1_SCORE :', f1_score(np.argmax(yans, axis=1), pred_test, average='macro'))\n",
    "print(classification_report(np.argmax(yans, axis=1), pred_test))\n",
    "print(confusion_matrix(np.argmax(yans, axis=1), pred_test))"
   ]
  },
  {
   "cell_type": "code",
   "execution_count": null,
   "metadata": {
    "collapsed": true
   },
   "outputs": [],
   "source": []
  },
  {
   "cell_type": "code",
   "execution_count": null,
   "metadata": {
    "collapsed": true
   },
   "outputs": [],
   "source": []
  },
  {
   "cell_type": "code",
   "execution_count": 36,
   "metadata": {},
   "outputs": [
    {
     "data": {
      "text/plain": [
       "<gkernel.sklearn.RBFClassifier at 0x7f4a515aeac8>"
      ]
     },
     "execution_count": 36,
     "metadata": {},
     "output_type": "execute_result"
    }
   ],
   "source": [
    "#clf = RBFClassifier(num_lm=3)\n",
    "# clf = RBFClassifier(\n",
    "#     num_lm=3,\n",
    "#     lm=xtrain[:3]\n",
    "# )\n",
    "# clf = RBFClassifier(\n",
    "#     num_lm=50,\n",
    "#     lm=xtrain[:50],\n",
    "#     make_model_gkernel=make_model_gkernel3\n",
    "# )\n",
    "# early_stopping = EarlyStopping(monitor='loss', patience=5, min_delta=0.000, restore_best_weights=True)\n",
    "# clf = RBFClassifier(\n",
    "#     num_lm=3,\n",
    "#     lm=xtrain[np.random.choice(np.arange(xtrain.shape[0]), 3)],\n",
    "# )\n",
    "# clf = RBFClassifier(\n",
    "#     num_lm=10,\n",
    "#     lm=xtrain[:10],\n",
    "#     callbacks=[early_stopping],\n",
    "#     make_model_gkernel=make_model_gkernel3\n",
    "# )\n",
    "# clf = RBFClassifier(\n",
    "#     num_lm=3,\n",
    "#     lm=xtrain[:3],\n",
    "#     make_model_gkernel=make_model_gkernel3,\n",
    "#     activation='sigmoid',\n",
    "#     loss='binary_crossentropy'\n",
    "# )\n",
    "clf = RBFClassifier(\n",
    "    num_lm=10,\n",
    "    lm=xtrain[np.random.choice(np.arange(xtrain.shape[0]), 10)],\n",
    "    reg_l1=0.00,\n",
    "    lr=0.05,\n",
    "    random_state=101\n",
    ")\n",
    "clf"
   ]
  },
  {
   "cell_type": "code",
   "execution_count": 37,
   "metadata": {},
   "outputs": [
    {
     "name": "stderr",
     "output_type": "stream",
     "text": [
      "WARNING: Logging before flag parsing goes to stderr.\n",
      "W1002 09:06:37.213864 139958546855744 deprecation_wrapper.py:119] From /home/admin/miniconda3/envs/da02/lib/python3.6/site-packages/keras/backend/tensorflow_backend.py:95: The name tf.reset_default_graph is deprecated. Please use tf.compat.v1.reset_default_graph instead.\n",
      "\n",
      "W1002 09:06:37.216625 139958546855744 deprecation_wrapper.py:119] From /home/admin/miniconda3/envs/da02/lib/python3.6/site-packages/keras/backend/tensorflow_backend.py:98: The name tf.placeholder_with_default is deprecated. Please use tf.compat.v1.placeholder_with_default instead.\n",
      "\n",
      "W1002 09:06:37.250113 139958546855744 deprecation_wrapper.py:119] From /home/admin/miniconda3/envs/da02/lib/python3.6/site-packages/keras/backend/tensorflow_backend.py:102: The name tf.get_default_graph is deprecated. Please use tf.compat.v1.get_default_graph instead.\n",
      "\n",
      "W1002 09:06:37.251314 139958546855744 deprecation_wrapper.py:119] From /home/admin/miniconda3/envs/da02/lib/python3.6/site-packages/keras/backend/tensorflow_backend.py:517: The name tf.placeholder is deprecated. Please use tf.compat.v1.placeholder instead.\n",
      "\n",
      "W1002 09:06:37.253430 139958546855744 deprecation_wrapper.py:119] From /home/admin/miniconda3/envs/da02/lib/python3.6/site-packages/keras/backend/tensorflow_backend.py:4138: The name tf.random_uniform is deprecated. Please use tf.random.uniform instead.\n",
      "\n",
      "W1002 09:06:37.348184 139958546855744 deprecation_wrapper.py:119] From /home/admin/miniconda3/envs/da02/lib/python3.6/site-packages/keras/optimizers.py:790: The name tf.train.Optimizer is deprecated. Please use tf.compat.v1.train.Optimizer instead.\n",
      "\n",
      "W1002 09:06:37.424057 139958546855744 deprecation.py:323] From /home/admin/miniconda3/envs/da02/lib/python3.6/site-packages/tensorflow/python/ops/math_grad.py:1250: add_dispatch_support.<locals>.wrapper (from tensorflow.python.ops.array_ops) is deprecated and will be removed in a future version.\n",
      "Instructions for updating:\n",
      "Use tf.where in 2.0, which has the same broadcast rule as np.where\n"
     ]
    },
    {
     "name": "stdout",
     "output_type": "stream",
     "text": [
      "CPU times: user 14.6 s, sys: 596 ms, total: 15.2 s\n",
      "Wall time: 10.5 s\n"
     ]
    }
   ],
   "source": [
    "%%time\n",
    "hst = clf.fit(xtrain, ytrain, epochs=500, batch_size=32, verbose=0)"
   ]
  },
  {
   "cell_type": "code",
   "execution_count": 38,
   "metadata": {},
   "outputs": [
    {
     "data": {
      "text/plain": [
       "<matplotlib.legend.Legend at 0x7f4a38112550>"
      ]
     },
     "execution_count": 38,
     "metadata": {},
     "output_type": "execute_result"
    },
    {
     "data": {
      "image/png": "[encoded data removed]",
      "text/plain": [
       "<matplotlib.figure.Figure at 0x7f4a4a32c128>"
      ]
     },
     "metadata": {},
     "output_type": "display_data"
    }
   ],
   "source": [
    "fig, ax = plt.subplots(1, 3, figsize=(20,5))\n",
    "ax[0].set_title('loss')\n",
    "ax[0].plot(list(range(len(hst[\"loss\"]))), hst[\"loss\"], label=\"Train loss\")\n",
    "ax[1].set_title('accuracy')\n",
    "ax[1].plot(list(range(len(hst[\"loss\"]))), hst[\"acc\"], label=\"accuracy\")\n",
    "ax[2].set_title('learning rate')\n",
    "ax[2].plot(list(range(len(hst[\"loss\"]))), hst[\"lr\"], label=\"learning rate\")\n",
    "ax[0].legend()\n",
    "ax[1].legend()\n",
    "ax[2].legend()"
   ]
  },
  {
   "cell_type": "code",
   "execution_count": 39,
   "metadata": {},
   "outputs": [
    {
     "data": {
      "text/plain": [
       "(10, array([0, 1, 2, 3, 4, 5, 6, 7, 8, 9]))"
      ]
     },
     "execution_count": 39,
     "metadata": {},
     "output_type": "execute_result"
    }
   ],
   "source": [
    "clf.n_classes_, clf.classes_"
   ]
  },
  {
   "cell_type": "code",
   "execution_count": 40,
   "metadata": {},
   "outputs": [
    {
     "data": {
      "text/plain": [
       "{'callbacks': None,\n",
       " 'lm': array([[0.    , 0.    , 0.625 , 0.8125, 0.3125, 0.    , 0.    , 0.    ,\n",
       "         0.    , 0.1875, 1.    , 1.    , 1.    , 0.625 , 0.    , 0.    ,\n",
       "         0.    , 0.5   , 1.    , 0.0625, 0.375 , 1.    , 0.3125, 0.    ,\n",
       "         0.    , 0.5   , 0.6875, 0.    , 0.    , 0.5625, 0.75  , 0.    ,\n",
       "         0.    , 0.625 , 0.5   , 0.    , 0.    , 0.5   , 0.75  , 0.    ,\n",
       "         0.    , 0.5   , 0.6875, 0.    , 0.    , 0.5   , 0.6875, 0.    ,\n",
       "         0.    , 0.1875, 1.    , 0.625 , 0.5   , 0.9375, 0.5625, 0.    ,\n",
       "         0.    , 0.    , 0.5625, 1.    , 1.    , 0.625 , 0.0625, 0.    ],\n",
       "        [0.    , 0.    , 0.    , 0.75  , 0.375 , 0.    , 0.    , 0.    ,\n",
       "         0.    , 0.    , 0.5   , 0.9375, 0.8125, 0.25  , 0.    , 0.    ,\n",
       "         0.    , 0.3125, 1.    , 0.375 , 0.1875, 0.75  , 0.    , 0.    ,\n",
       "         0.    , 0.4375, 0.875 , 0.0625, 0.    , 0.6875, 0.3125, 0.    ,\n",
       "         0.    , 0.1875, 0.875 , 0.    , 0.    , 0.4375, 0.625 , 0.    ,\n",
       "         0.    , 0.0625, 0.875 , 0.125 , 0.    , 0.5625, 0.5625, 0.    ,\n",
       "         0.    , 0.    , 0.5625, 0.6875, 0.375 , 0.9375, 0.3125, 0.    ,\n",
       "         0.    , 0.    , 0.    , 0.625 , 1.    , 0.6875, 0.    , 0.    ],\n",
       "        [0.    , 0.    , 0.    , 0.3125, 0.9375, 0.1875, 0.    , 0.    ,\n",
       "         0.    , 0.    , 0.125 , 1.    , 0.25  , 0.    , 0.    , 0.    ,\n",
       "         0.    , 0.    , 0.5   , 0.75  , 0.    , 0.125 , 0.75  , 0.    ,\n",
       "         0.    , 0.1875, 1.    , 0.0625, 0.    , 0.6875, 0.625 , 0.    ,\n",
       "         0.    , 0.5625, 0.8125, 0.    , 0.1875, 1.    , 0.3125, 0.    ,\n",
       "         0.    , 0.8125, 0.9375, 1.    , 1.    , 0.75  , 0.    , 0.    ,\n",
       "         0.    , 0.3125, 0.75  , 0.875 , 1.    , 0.25  , 0.    , 0.    ,\n",
       "         0.    , 0.    , 0.    , 0.375 , 0.9375, 0.125 , 0.    , 0.    ],\n",
       "        [0.    , 0.0625, 0.875 , 1.    , 0.75  , 0.    , 0.    , 0.    ,\n",
       "         0.    , 0.3125, 1.    , 0.5625, 1.    , 0.375 , 0.    , 0.    ,\n",
       "         0.    , 0.1875, 0.6875, 0.    , 0.875 , 0.5625, 0.    , 0.    ,\n",
       "         0.    , 0.    , 0.    , 0.    , 0.625 , 0.625 , 0.    , 0.    ,\n",
       "         0.    , 0.    , 0.    , 0.    , 0.875 , 0.625 , 0.    , 0.    ,\n",
       "         0.    , 0.    , 0.    , 0.625 , 1.    , 0.3125, 0.    , 0.    ,\n",
       "         0.    , 0.125 , 0.9375, 1.    , 0.875 , 0.5   , 0.75  , 0.125 ,\n",
       "         0.    , 0.    , 0.6875, 1.    , 1.    , 1.    , 0.9375, 0.3125],\n",
       "        [0.    , 0.    , 0.9375, 1.    , 0.75  , 0.3125, 0.    , 0.    ,\n",
       "         0.    , 0.0625, 1.    , 0.9375, 0.6875, 0.4375, 0.    , 0.    ,\n",
       "         0.    , 0.25  , 1.    , 0.5625, 0.    , 0.    , 0.    , 0.    ,\n",
       "         0.    , 0.5   , 1.    , 0.875 , 0.75  , 0.4375, 0.    , 0.    ,\n",
       "         0.    , 0.4375, 1.    , 0.875 , 0.625 , 1.    , 0.1875, 0.    ,\n",
       "         0.    , 0.    , 0.0625, 0.    , 0.625 , 1.    , 0.25  , 0.    ,\n",
       "         0.    , 0.    , 0.0625, 0.625 , 1.    , 0.625 , 0.    , 0.    ,\n",
       "         0.    , 0.    , 0.8125, 0.9375, 0.3125, 0.    , 0.    , 0.    ],\n",
       "        [0.    , 0.    , 0.25  , 0.8125, 0.875 , 0.5   , 0.    , 0.    ,\n",
       "         0.    , 0.1875, 0.875 , 0.1875, 0.0625, 1.    , 0.1875, 0.    ,\n",
       "         0.    , 0.4375, 0.5625, 0.    , 0.    , 0.875 , 0.375 , 0.    ,\n",
       "         0.    , 0.5   , 0.25  , 0.    , 0.    , 1.    , 0.25  , 0.    ,\n",
       "         0.    , 0.5   , 0.375 , 0.    , 0.    , 1.    , 0.    , 0.    ,\n",
       "         0.    , 0.1875, 0.6875, 0.    , 0.0625, 0.875 , 0.    , 0.    ,\n",
       "         0.    , 0.    , 0.75  , 0.25  , 0.375 , 0.6875, 0.    , 0.    ,\n",
       "         0.    , 0.    , 0.3125, 1.    , 0.875 , 0.0625, 0.    , 0.    ],\n",
       "        [0.    , 0.    , 0.3125, 0.9375, 0.8125, 0.75  , 0.25  , 0.    ,\n",
       "         0.    , 0.    , 0.6875, 1.    , 1.    , 0.875 , 0.    , 0.    ,\n",
       "         0.    , 0.    , 1.    , 1.    , 1.    , 0.5   , 0.    , 0.    ,\n",
       "         0.    , 0.25  , 1.    , 1.    , 0.9375, 0.1875, 0.    , 0.    ,\n",
       "         0.    , 0.125 , 1.    , 1.    , 0.5   , 0.    , 0.    , 0.    ,\n",
       "         0.    , 0.    , 1.    , 0.9375, 0.1875, 0.    , 0.    , 0.    ,\n",
       "         0.    , 0.    , 0.625 , 1.    , 0.25  , 0.    , 0.    , 0.    ,\n",
       "         0.    , 0.    , 0.5   , 0.9375, 0.1875, 0.    , 0.    , 0.    ],\n",
       "        [0.    , 0.    , 0.4375, 0.8125, 0.5   , 0.375 , 0.    , 0.    ,\n",
       "         0.    , 0.    , 1.    , 0.9375, 1.    , 0.875 , 0.625 , 0.    ,\n",
       "         0.    , 0.25  , 1.    , 0.8125, 0.0625, 0.    , 0.    , 0.    ,\n",
       "         0.    , 0.0625, 0.625 , 1.    , 0.5625, 0.    , 0.    , 0.    ,\n",
       "         0.    , 0.    , 0.    , 0.3125, 0.8125, 0.    , 0.    , 0.    ,\n",
       "         0.    , 0.    , 0.    , 0.3125, 0.9375, 0.    , 0.    , 0.    ,\n",
       "         0.    , 0.    , 0.5   , 0.6875, 0.5   , 0.    , 0.    , 0.    ,\n",
       "         0.    , 0.    , 0.5625, 1.    , 0.1875, 0.    , 0.    , 0.    ],\n",
       "        [0.    , 0.0625, 0.625 , 1.    , 0.9375, 0.125 , 0.    , 0.    ,\n",
       "         0.    , 0.0625, 0.75  , 0.8125, 1.    , 0.25  , 0.    , 0.    ,\n",
       "         0.    , 0.    , 0.    , 0.    , 1.    , 0.5   , 0.    , 0.    ,\n",
       "         0.    , 0.    , 0.4375, 0.6875, 1.    , 0.8125, 0.5   , 0.    ,\n",
       "         0.    , 0.5   , 1.    , 1.    , 1.    , 1.    , 0.375 , 0.    ,\n",
       "         0.    , 0.125 , 0.625 , 1.    , 0.5625, 0.    , 0.    , 0.    ,\n",
       "         0.    , 0.    , 0.1875, 1.    , 0.25  , 0.    , 0.    , 0.    ,\n",
       "         0.    , 0.    , 0.625 , 0.9375, 0.125 , 0.    , 0.    , 0.    ],\n",
       "        [0.    , 0.4375, 0.75  , 0.875 , 1.    , 0.5   , 0.    , 0.    ,\n",
       "         0.    , 0.5   , 1.    , 0.875 , 0.9375, 0.6875, 0.    , 0.    ,\n",
       "         0.    , 0.125 , 0.6875, 0.125 , 1.    , 0.375 , 0.    , 0.    ,\n",
       "         0.    , 0.    , 0.    , 0.5625, 1.    , 0.5   , 0.3125, 0.    ,\n",
       "         0.    , 0.5   , 0.8125, 1.    , 1.    , 0.75  , 0.3125, 0.    ,\n",
       "         0.    , 0.4375, 1.    , 0.75  , 0.1875, 0.    , 0.    , 0.    ,\n",
       "         0.    , 0.25  , 1.    , 0.25  , 0.    , 0.    , 0.    , 0.    ,\n",
       "         0.    , 0.5625, 0.75  , 0.    , 0.    , 0.    , 0.    , 0.    ]]),\n",
       " 'loss': None,\n",
       " 'lr': 0.02,\n",
       " 'nn': None,\n",
       " 'num_cls': 10,\n",
       " 'num_lm': 10,\n",
       " 'random_state': 101,\n",
       " 'reg_l1': 0.0}"
      ]
     },
     "execution_count": 40,
     "metadata": {},
     "output_type": "execute_result"
    }
   ],
   "source": [
    "clf.sk_params"
   ]
  },
  {
   "cell_type": "code",
   "execution_count": 41,
   "metadata": {},
   "outputs": [
    {
     "data": {
      "text/plain": [
       "{'build_fn': <function gkernel.sklearn.make_model>,\n",
       " 'classes_': array([0, 1, 2, 3, 4, 5, 6, 7, 8, 9]),\n",
       " 'model': <keras.engine.training.Model at 0x7f4a48100208>,\n",
       " 'n_classes_': 10,\n",
       " 'sk_params': {'callbacks': None,\n",
       "  'lm': array([[0.    , 0.    , 0.625 , 0.8125, 0.3125, 0.    , 0.    , 0.    ,\n",
       "          0.    , 0.1875, 1.    , 1.    , 1.    , 0.625 , 0.    , 0.    ,\n",
       "          0.    , 0.5   , 1.    , 0.0625, 0.375 , 1.    , 0.3125, 0.    ,\n",
       "          0.    , 0.5   , 0.6875, 0.    , 0.    , 0.5625, 0.75  , 0.    ,\n",
       "          0.    , 0.625 , 0.5   , 0.    , 0.    , 0.5   , 0.75  , 0.    ,\n",
       "          0.    , 0.5   , 0.6875, 0.    , 0.    , 0.5   , 0.6875, 0.    ,\n",
       "          0.    , 0.1875, 1.    , 0.625 , 0.5   , 0.9375, 0.5625, 0.    ,\n",
       "          0.    , 0.    , 0.5625, 1.    , 1.    , 0.625 , 0.0625, 0.    ],\n",
       "         [0.    , 0.    , 0.    , 0.75  , 0.375 , 0.    , 0.    , 0.    ,\n",
       "          0.    , 0.    , 0.5   , 0.9375, 0.8125, 0.25  , 0.    , 0.    ,\n",
       "          0.    , 0.3125, 1.    , 0.375 , 0.1875, 0.75  , 0.    , 0.    ,\n",
       "          0.    , 0.4375, 0.875 , 0.0625, 0.    , 0.6875, 0.3125, 0.    ,\n",
       "          0.    , 0.1875, 0.875 , 0.    , 0.    , 0.4375, 0.625 , 0.    ,\n",
       "          0.    , 0.0625, 0.875 , 0.125 , 0.    , 0.5625, 0.5625, 0.    ,\n",
       "          0.    , 0.    , 0.5625, 0.6875, 0.375 , 0.9375, 0.3125, 0.    ,\n",
       "          0.    , 0.    , 0.    , 0.625 , 1.    , 0.6875, 0.    , 0.    ],\n",
       "         [0.    , 0.    , 0.    , 0.3125, 0.9375, 0.1875, 0.    , 0.    ,\n",
       "          0.    , 0.    , 0.125 , 1.    , 0.25  , 0.    , 0.    , 0.    ,\n",
       "          0.    , 0.    , 0.5   , 0.75  , 0.    , 0.125 , 0.75  , 0.    ,\n",
       "          0.    , 0.1875, 1.    , 0.0625, 0.    , 0.6875, 0.625 , 0.    ,\n",
       "          0.    , 0.5625, 0.8125, 0.    , 0.1875, 1.    , 0.3125, 0.    ,\n",
       "          0.    , 0.8125, 0.9375, 1.    , 1.    , 0.75  , 0.    , 0.    ,\n",
       "          0.    , 0.3125, 0.75  , 0.875 , 1.    , 0.25  , 0.    , 0.    ,\n",
       "          0.    , 0.    , 0.    , 0.375 , 0.9375, 0.125 , 0.    , 0.    ],\n",
       "         [0.    , 0.0625, 0.875 , 1.    , 0.75  , 0.    , 0.    , 0.    ,\n",
       "          0.    , 0.3125, 1.    , 0.5625, 1.    , 0.375 , 0.    , 0.    ,\n",
       "          0.    , 0.1875, 0.6875, 0.    , 0.875 , 0.5625, 0.    , 0.    ,\n",
       "          0.    , 0.    , 0.    , 0.    , 0.625 , 0.625 , 0.    , 0.    ,\n",
       "          0.    , 0.    , 0.    , 0.    , 0.875 , 0.625 , 0.    , 0.    ,\n",
       "          0.    , 0.    , 0.    , 0.625 , 1.    , 0.3125, 0.    , 0.    ,\n",
       "          0.    , 0.125 , 0.9375, 1.    , 0.875 , 0.5   , 0.75  , 0.125 ,\n",
       "          0.    , 0.    , 0.6875, 1.    , 1.    , 1.    , 0.9375, 0.3125],\n",
       "         [0.    , 0.    , 0.9375, 1.    , 0.75  , 0.3125, 0.    , 0.    ,\n",
       "          0.    , 0.0625, 1.    , 0.9375, 0.6875, 0.4375, 0.    , 0.    ,\n",
       "          0.    , 0.25  , 1.    , 0.5625, 0.    , 0.    , 0.    , 0.    ,\n",
       "          0.    , 0.5   , 1.    , 0.875 , 0.75  , 0.4375, 0.    , 0.    ,\n",
       "          0.    , 0.4375, 1.    , 0.875 , 0.625 , 1.    , 0.1875, 0.    ,\n",
       "          0.    , 0.    , 0.0625, 0.    , 0.625 , 1.    , 0.25  , 0.    ,\n",
       "          0.    , 0.    , 0.0625, 0.625 , 1.    , 0.625 , 0.    , 0.    ,\n",
       "          0.    , 0.    , 0.8125, 0.9375, 0.3125, 0.    , 0.    , 0.    ],\n",
       "         [0.    , 0.    , 0.25  , 0.8125, 0.875 , 0.5   , 0.    , 0.    ,\n",
       "          0.    , 0.1875, 0.875 , 0.1875, 0.0625, 1.    , 0.1875, 0.    ,\n",
       "          0.    , 0.4375, 0.5625, 0.    , 0.    , 0.875 , 0.375 , 0.    ,\n",
       "          0.    , 0.5   , 0.25  , 0.    , 0.    , 1.    , 0.25  , 0.    ,\n",
       "          0.    , 0.5   , 0.375 , 0.    , 0.    , 1.    , 0.    , 0.    ,\n",
       "          0.    , 0.1875, 0.6875, 0.    , 0.0625, 0.875 , 0.    , 0.    ,\n",
       "          0.    , 0.    , 0.75  , 0.25  , 0.375 , 0.6875, 0.    , 0.    ,\n",
       "          0.    , 0.    , 0.3125, 1.    , 0.875 , 0.0625, 0.    , 0.    ],\n",
       "         [0.    , 0.    , 0.3125, 0.9375, 0.8125, 0.75  , 0.25  , 0.    ,\n",
       "          0.    , 0.    , 0.6875, 1.    , 1.    , 0.875 , 0.    , 0.    ,\n",
       "          0.    , 0.    , 1.    , 1.    , 1.    , 0.5   , 0.    , 0.    ,\n",
       "          0.    , 0.25  , 1.    , 1.    , 0.9375, 0.1875, 0.    , 0.    ,\n",
       "          0.    , 0.125 , 1.    , 1.    , 0.5   , 0.    , 0.    , 0.    ,\n",
       "          0.    , 0.    , 1.    , 0.9375, 0.1875, 0.    , 0.    , 0.    ,\n",
       "          0.    , 0.    , 0.625 , 1.    , 0.25  , 0.    , 0.    , 0.    ,\n",
       "          0.    , 0.    , 0.5   , 0.9375, 0.1875, 0.    , 0.    , 0.    ],\n",
       "         [0.    , 0.    , 0.4375, 0.8125, 0.5   , 0.375 , 0.    , 0.    ,\n",
       "          0.    , 0.    , 1.    , 0.9375, 1.    , 0.875 , 0.625 , 0.    ,\n",
       "          0.    , 0.25  , 1.    , 0.8125, 0.0625, 0.    , 0.    , 0.    ,\n",
       "          0.    , 0.0625, 0.625 , 1.    , 0.5625, 0.    , 0.    , 0.    ,\n",
       "          0.    , 0.    , 0.    , 0.3125, 0.8125, 0.    , 0.    , 0.    ,\n",
       "          0.    , 0.    , 0.    , 0.3125, 0.9375, 0.    , 0.    , 0.    ,\n",
       "          0.    , 0.    , 0.5   , 0.6875, 0.5   , 0.    , 0.    , 0.    ,\n",
       "          0.    , 0.    , 0.5625, 1.    , 0.1875, 0.    , 0.    , 0.    ],\n",
       "         [0.    , 0.0625, 0.625 , 1.    , 0.9375, 0.125 , 0.    , 0.    ,\n",
       "          0.    , 0.0625, 0.75  , 0.8125, 1.    , 0.25  , 0.    , 0.    ,\n",
       "          0.    , 0.    , 0.    , 0.    , 1.    , 0.5   , 0.    , 0.    ,\n",
       "          0.    , 0.    , 0.4375, 0.6875, 1.    , 0.8125, 0.5   , 0.    ,\n",
       "          0.    , 0.5   , 1.    , 1.    , 1.    , 1.    , 0.375 , 0.    ,\n",
       "          0.    , 0.125 , 0.625 , 1.    , 0.5625, 0.    , 0.    , 0.    ,\n",
       "          0.    , 0.    , 0.1875, 1.    , 0.25  , 0.    , 0.    , 0.    ,\n",
       "          0.    , 0.    , 0.625 , 0.9375, 0.125 , 0.    , 0.    , 0.    ],\n",
       "         [0.    , 0.4375, 0.75  , 0.875 , 1.    , 0.5   , 0.    , 0.    ,\n",
       "          0.    , 0.5   , 1.    , 0.875 , 0.9375, 0.6875, 0.    , 0.    ,\n",
       "          0.    , 0.125 , 0.6875, 0.125 , 1.    , 0.375 , 0.    , 0.    ,\n",
       "          0.    , 0.    , 0.    , 0.5625, 1.    , 0.5   , 0.3125, 0.    ,\n",
       "          0.    , 0.5   , 0.8125, 1.    , 1.    , 0.75  , 0.3125, 0.    ,\n",
       "          0.    , 0.4375, 1.    , 0.75  , 0.1875, 0.    , 0.    , 0.    ,\n",
       "          0.    , 0.25  , 1.    , 0.25  , 0.    , 0.    , 0.    , 0.    ,\n",
       "          0.    , 0.5625, 0.75  , 0.    , 0.    , 0.    , 0.    , 0.    ]]),\n",
       "  'loss': None,\n",
       "  'lr': 0.02,\n",
       "  'nn': None,\n",
       "  'num_cls': 10,\n",
       "  'num_lm': 10,\n",
       "  'random_state': 101,\n",
       "  'reg_l1': 0.0}}"
      ]
     },
     "execution_count": 41,
     "metadata": {},
     "output_type": "execute_result"
    }
   ],
   "source": [
    "clf.__dict__"
   ]
  },
  {
   "cell_type": "code",
   "execution_count": 42,
   "metadata": {},
   "outputs": [
    {
     "data": {
      "text/plain": [
       "0.12065101"
      ]
     },
     "execution_count": 42,
     "metadata": {},
     "output_type": "execute_result"
    }
   ],
   "source": [
    "clf.current_gamma()"
   ]
  },
  {
   "cell_type": "code",
   "execution_count": 43,
   "metadata": {},
   "outputs": [
    {
     "data": {
      "text/plain": [
       "array([1, 3, 5, 7, 5, 1, 3, 5, 7, 2])"
      ]
     },
     "execution_count": 43,
     "metadata": {},
     "output_type": "execute_result"
    }
   ],
   "source": [
    "clf.predict(xtrain)[:10]"
   ]
  },
  {
   "cell_type": "code",
   "execution_count": 44,
   "metadata": {},
   "outputs": [
    {
     "data": {
      "text/plain": [
       "array([[9.98516977e-01, 1.62135529e-12, 8.19524981e-09, 3.25726319e-07,\n",
       "        6.17335782e-09, 5.29885656e-05, 3.42610792e-06, 1.06006883e-08,\n",
       "        5.83329675e-05, 1.36797654e-03],\n",
       "       [1.49263451e-05, 2.71329105e-01, 5.66939950e-01, 1.11307856e-03,\n",
       "        2.81695905e-03, 6.21630461e-05, 7.09246993e-02, 3.38502345e-03,\n",
       "        7.95925632e-02, 3.82151618e-03],\n",
       "       [4.61344403e-04, 2.72038946e-04, 6.01676948e-06, 1.20478063e-07,\n",
       "        9.79231000e-01, 5.17637488e-07, 1.87275279e-02, 1.25826127e-03,\n",
       "        3.83174047e-05, 4.91938772e-06],\n",
       "       [3.36774113e-03, 1.42264655e-02, 3.48876812e-04, 3.52297116e-06,\n",
       "        3.59677114e-02, 5.23084251e-04, 9.39040363e-01, 5.02487746e-05,\n",
       "        5.64704183e-03, 8.24943243e-04],\n",
       "       [2.92029756e-04, 4.02182341e-03, 5.66123687e-02, 1.44811615e-01,\n",
       "        1.90713836e-04, 3.52357626e-02, 8.59978795e-03, 4.72619943e-03,\n",
       "        4.46097732e-01, 2.99412042e-01]], dtype=float32)"
      ]
     },
     "execution_count": 44,
     "metadata": {},
     "output_type": "execute_result"
    }
   ],
   "source": [
    "clf.predict_proba(xtest)[:5]"
   ]
  },
  {
   "cell_type": "code",
   "execution_count": 45,
   "metadata": {},
   "outputs": [
    {
     "name": "stdout",
     "output_type": "stream",
     "text": [
      "898/898 [==============================] - 0s 162us/step\n"
     ]
    },
    {
     "data": {
      "text/plain": [
       "0.8663697104677061"
      ]
     },
     "execution_count": 45,
     "metadata": {},
     "output_type": "execute_result"
    }
   ],
   "source": [
    "clf.score(xtrain, ytrain)"
   ]
  },
  {
   "cell_type": "code",
   "execution_count": 46,
   "metadata": {},
   "outputs": [
    {
     "name": "stdout",
     "output_type": "stream",
     "text": [
      "899/899 [==============================] - 0s 25us/step\n"
     ]
    },
    {
     "data": {
      "text/plain": [
       "0.8876529477859896"
      ]
     },
     "execution_count": 46,
     "metadata": {},
     "output_type": "execute_result"
    }
   ],
   "source": [
    "clf.score(xtest, yans)"
   ]
  },
  {
   "cell_type": "code",
   "execution_count": 47,
   "metadata": {},
   "outputs": [
    {
     "name": "stdout",
     "output_type": "stream",
     "text": [
      "F1_SCORE : 0.8660166039974986\n",
      "              precision    recall  f1-score   support\n",
      "\n",
      "           0       0.97      0.94      0.95        88\n",
      "           1       0.82      0.90      0.86        89\n",
      "           2       0.89      0.90      0.90        91\n",
      "           3       0.86      0.81      0.83        93\n",
      "           4       0.92      0.94      0.93        88\n",
      "           5       0.89      0.89      0.89        91\n",
      "           6       0.94      0.93      0.94        90\n",
      "           7       0.89      0.93      0.91        91\n",
      "           8       0.81      0.74      0.78        86\n",
      "           9       0.67      0.67      0.67        91\n",
      "\n",
      "   micro avg       0.87      0.87      0.87       898\n",
      "   macro avg       0.87      0.87      0.87       898\n",
      "weighted avg       0.87      0.87      0.87       898\n",
      "\n",
      "[[83  0  0  0  1  0  2  0  1  1]\n",
      " [ 0 80  1  0  0  0  1  0  1  6]\n",
      " [ 0  3 82  1  0  0  0  1  3  1]\n",
      " [ 0  0  5 75  0  3  0  3  2  5]\n",
      " [ 0  2  0  0 83  0  1  2  0  0]\n",
      " [ 0  1  0  0  0 81  0  0  4  5]\n",
      " [ 2  2  0  0  1  0 84  0  0  1]\n",
      " [ 0  0  0  0  1  0  0 85  2  3]\n",
      " [ 0  6  1  3  1  2  0  1 64  8]\n",
      " [ 1  3  3  8  3  5  1  4  2 61]]\n"
     ]
    }
   ],
   "source": [
    "print('F1_SCORE :', f1_score(np.argmax(ytrain,axis=1), clf.predict(xtrain), average='macro'))\n",
    "print(classification_report(np.argmax(ytrain,axis=1), clf.predict(xtrain)))\n",
    "print(confusion_matrix(np.argmax(ytrain,axis=1), clf.predict(xtrain)))"
   ]
  },
  {
   "cell_type": "code",
   "execution_count": 48,
   "metadata": {},
   "outputs": [
    {
     "name": "stdout",
     "output_type": "stream",
     "text": [
      "F1_SCORE : 0.8881329454479395\n",
      "              precision    recall  f1-score   support\n",
      "\n",
      "           0       1.00      0.98      0.99        90\n",
      "           1       0.89      0.90      0.90        93\n",
      "           2       0.95      0.91      0.93        86\n",
      "           3       0.87      0.87      0.87        90\n",
      "           4       0.99      0.95      0.97        93\n",
      "           5       0.85      0.85      0.85        91\n",
      "           6       0.97      0.97      0.97        91\n",
      "           7       0.88      0.90      0.89        88\n",
      "           8       0.80      0.78      0.79        88\n",
      "           9       0.70      0.78      0.74        89\n",
      "\n",
      "   micro avg       0.89      0.89      0.89       899\n",
      "   macro avg       0.89      0.89      0.89       899\n",
      "weighted avg       0.89      0.89      0.89       899\n",
      "\n",
      "[[88  0  0  0  0  0  2  0  0  0]\n",
      " [ 0 84  0  1  0  0  0  0  1  7]\n",
      " [ 0  0 78  5  0  0  0  1  2  0]\n",
      " [ 0  1  1 78  0  2  0  2  3  3]\n",
      " [ 0  0  0  0 88  0  0  3  2  0]\n",
      " [ 0  0  0  0  1 77  0  0  2 11]\n",
      " [ 0  1  0  0  0  1 88  0  1  0]\n",
      " [ 0  0  0  0  0  0  0 79  5  4]\n",
      " [ 0  6  3  1  0  1  1  3 69  4]\n",
      " [ 0  2  0  5  0 10  0  2  1 69]]\n"
     ]
    }
   ],
   "source": [
    "print('F1_SCORE :', f1_score(np.argmax(yans,axis=1), clf.predict(xtest), average='macro'))\n",
    "print(classification_report(np.argmax(yans,axis=1), clf.predict(xtest)))\n",
    "print(confusion_matrix(np.argmax(yans,axis=1), clf.predict(xtest)))"
   ]
  },
  {
   "cell_type": "code",
   "execution_count": null,
   "metadata": {
    "collapsed": true
   },
   "outputs": [],
   "source": []
  },
  {
   "cell_type": "code",
   "execution_count": 49,
   "metadata": {},
   "outputs": [
    {
     "data": {
      "text/plain": [
       "3"
      ]
     },
     "execution_count": 49,
     "metadata": {},
     "output_type": "execute_result"
    }
   ],
   "source": [
    "cv_splitter = StratifiedShuffleSplit(n_splits=3, test_size=0.35, random_state=0)\n",
    "cv_splitter.get_n_splits(xtrain, ytrain)"
   ]
  },
  {
   "cell_type": "code",
   "execution_count": 50,
   "metadata": {},
   "outputs": [
    {
     "data": {
      "text/plain": [
       "[2, 5, 10, 20, 50, 100, 150, 200, 250, 300]"
      ]
     },
     "execution_count": 50,
     "metadata": {},
     "output_type": "execute_result"
    }
   ],
   "source": [
    "param_name = \"num_lm\"\n",
    "param_range = [2, 5, 10, 20, 50, 100, 150, 200, 250, 300]\n",
    "param_range"
   ]
  },
  {
   "cell_type": "code",
   "execution_count": 51,
   "metadata": {},
   "outputs": [
    {
     "name": "stderr",
     "output_type": "stream",
     "text": [
      "[Parallel(n_jobs=1)]: Using backend SequentialBackend with 1 concurrent workers.\n"
     ]
    },
    {
     "name": "stdout",
     "output_type": "stream",
     "text": [
      "[CV] num_lm=2 ........................................................\n",
      "[CV] ......................................... num_lm=2, total=   7.1s\n",
      "[CV] num_lm=5 ........................................................\n"
     ]
    },
    {
     "name": "stderr",
     "output_type": "stream",
     "text": [
      "[Parallel(n_jobs=1)]: Done   1 out of   1 | elapsed:    7.1s remaining:    0.0s\n"
     ]
    },
    {
     "name": "stdout",
     "output_type": "stream",
     "text": [
      "[CV] ......................................... num_lm=5, total=   7.0s\n",
      "[CV] num_lm=10 .......................................................\n",
      "[CV] ........................................ num_lm=10, total=   8.4s\n",
      "[CV] num_lm=20 .......................................................\n",
      "[CV] ........................................ num_lm=20, total=   8.6s\n",
      "[CV] num_lm=50 .......................................................\n",
      "[CV] ........................................ num_lm=50, total=   9.0s\n",
      "[CV] num_lm=100 ......................................................\n",
      "[CV] ....................................... num_lm=100, total=   9.5s\n",
      "[CV] num_lm=150 ......................................................\n",
      "[CV] ....................................... num_lm=150, total=  11.3s\n",
      "[CV] num_lm=200 ......................................................\n",
      "[CV] ....................................... num_lm=200, total=  11.6s\n",
      "[CV] num_lm=250 ......................................................\n",
      "[CV] ....................................... num_lm=250, total=  12.3s\n",
      "[CV] num_lm=300 ......................................................\n",
      "[CV] ....................................... num_lm=300, total=  13.4s\n",
      "[CV] num_lm=2 ........................................................\n",
      "[CV] ......................................... num_lm=2, total=   7.7s\n",
      "[CV] num_lm=5 ........................................................\n",
      "[CV] ......................................... num_lm=5, total=   9.6s\n",
      "[CV] num_lm=10 .......................................................\n",
      "[CV] ........................................ num_lm=10, total=   9.6s\n",
      "[CV] num_lm=20 .......................................................\n",
      "[CV] ........................................ num_lm=20, total=   9.4s\n",
      "[CV] num_lm=50 .......................................................\n",
      "[CV] ........................................ num_lm=50, total=   9.4s\n",
      "[CV] num_lm=100 ......................................................\n",
      "[CV] ....................................... num_lm=100, total=  11.8s\n",
      "[CV] num_lm=150 ......................................................\n",
      "[CV] ....................................... num_lm=150, total=  13.0s\n",
      "[CV] num_lm=200 ......................................................\n",
      "[CV] ....................................... num_lm=200, total=  15.7s\n",
      "[CV] num_lm=250 ......................................................\n",
      "[CV] ....................................... num_lm=250, total=  15.3s\n",
      "[CV] num_lm=300 ......................................................\n",
      "[CV] ....................................... num_lm=300, total=  16.1s\n",
      "[CV] num_lm=2 ........................................................\n",
      "[CV] ......................................... num_lm=2, total=   9.2s\n",
      "[CV] num_lm=5 ........................................................\n",
      "[CV] ......................................... num_lm=5, total=   8.8s\n",
      "[CV] num_lm=10 .......................................................\n",
      "[CV] ........................................ num_lm=10, total=  13.3s\n",
      "[CV] num_lm=20 .......................................................\n",
      "[CV] ........................................ num_lm=20, total=   9.9s\n",
      "[CV] num_lm=50 .......................................................\n",
      "[CV] ........................................ num_lm=50, total=  11.1s\n",
      "[CV] num_lm=100 ......................................................\n",
      "[CV] ....................................... num_lm=100, total=  11.3s\n",
      "[CV] num_lm=150 ......................................................\n",
      "[CV] ....................................... num_lm=150, total=  12.6s\n",
      "[CV] num_lm=200 ......................................................\n",
      "[CV] ....................................... num_lm=200, total=  13.1s\n",
      "[CV] num_lm=250 ......................................................\n",
      "[CV] ....................................... num_lm=250, total=  13.1s\n",
      "[CV] num_lm=300 ......................................................\n",
      "[CV] ....................................... num_lm=300, total=  17.3s\n",
      "CPU times: user 7min 9s, sys: 17.3 s, total: 7min 26s\n",
      "Wall time: 5min 36s\n"
     ]
    },
    {
     "name": "stderr",
     "output_type": "stream",
     "text": [
      "[Parallel(n_jobs=1)]: Done  30 out of  30 | elapsed:  5.6min finished\n"
     ]
    }
   ],
   "source": [
    "%%time\n",
    "\n",
    "def f1_scorer_2(estimator, X, y):\n",
    "    pred = estimator.predict(X)\n",
    "    s = f1_score(np.argmax(y, axis=1), pred, average='macro')\n",
    "    return s\n",
    "\n",
    "train_scores, test_scores = validation_curve(\n",
    "    RBFClassifier(\n",
    "        num_lm=2,\n",
    "        lm_select_from_x=True,\n",
    "        random_state=None,\n",
    "        lr=0.02, gamma='scale',\n",
    "        epochs=500, batch_size=32, verbose=0\n",
    "    ),\n",
    "    xtrain, ytrain,\n",
    "    param_name=param_name, param_range=param_range,\n",
    "    cv=cv_splitter, n_jobs=1, verbose=2, scoring=f1_scorer_2)"
   ]
  },
  {
   "cell_type": "code",
   "execution_count": 52,
   "metadata": {},
   "outputs": [
    {
     "data": {
      "text/plain": [
       "array([[  2.        ,   0.44245788,   0.44017628],\n",
       "       [  5.        ,   0.65526956,   0.65319554],\n",
       "       [ 10.        ,   0.86948348,   0.84931511],\n",
       "       [ 20.        ,   0.93280543,   0.89728265],\n",
       "       [ 50.        ,   0.98394475,   0.94681888],\n",
       "       [100.        ,   0.99712935,   0.95257236],\n",
       "       [150.        ,   1.        ,   0.95884156],\n",
       "       [200.        ,   0.99886998,   0.95546088],\n",
       "       [250.        ,   0.99943499,   0.95791649],\n",
       "       [300.        ,   1.        ,   0.95890007]])"
      ]
     },
     "execution_count": 52,
     "metadata": {},
     "output_type": "execute_result"
    }
   ],
   "source": [
    "train_scores_mean = np.mean(train_scores, axis=1)\n",
    "train_scores_std = np.std(train_scores, axis=1)\n",
    "test_scores_mean = np.mean(test_scores, axis=1)\n",
    "test_scores_std = np.std(test_scores, axis=1)\n",
    "np.c_[param_range, train_scores_mean, test_scores_mean]"
   ]
  },
  {
   "cell_type": "code",
   "execution_count": 53,
   "metadata": {},
   "outputs": [
    {
     "data": {
      "text/plain": [
       "<matplotlib.legend.Legend at 0x7f4a4be879b0>"
      ]
     },
     "execution_count": 53,
     "metadata": {},
     "output_type": "execute_result"
    },
    {
     "data": {
      "image/png": "[encoded data removed]",
      "text/plain": [
       "<matplotlib.figure.Figure at 0x7f4a0c6a49b0>"
      ]
     },
     "metadata": {},
     "output_type": "display_data"
    }
   ],
   "source": [
    "plt.title(\"Validation Curve\")\n",
    "plt.xlabel(\"param\")\n",
    "plt.ylabel(\"Score\")\n",
    "plt.ylim(0.0, 1.1)\n",
    "lw = 2\n",
    "plt.semilogx(param_range, train_scores_mean, label=\"Training score\",\n",
    "             color=\"darkorange\", lw=lw)\n",
    "plt.fill_between(param_range, train_scores_mean - train_scores_std,\n",
    "                 train_scores_mean + train_scores_std, alpha=0.2,\n",
    "                 color=\"darkorange\", lw=lw)\n",
    "plt.semilogx(param_range, test_scores_mean, label=\"Cross-validation score\",\n",
    "             color=\"navy\", lw=lw)\n",
    "plt.fill_between(param_range, test_scores_mean - test_scores_std,\n",
    "                 test_scores_mean + test_scores_std, alpha=0.2,\n",
    "                 color=\"navy\", lw=lw)\n",
    "plt.legend(loc=\"best\")"
   ]
  },
  {
   "cell_type": "code",
   "execution_count": 54,
   "metadata": {},
   "outputs": [
    {
     "name": "stdout",
     "output_type": "stream",
     "text": [
      "CPU times: user 25.4 s, sys: 888 ms, total: 26.2 s\n",
      "Wall time: 20 s\n"
     ]
    }
   ],
   "source": [
    "%%time\n",
    "\n",
    "'''test data'''\n",
    "est = RBFClassifier(\n",
    "    num_lm=200,\n",
    "    lm_select_from_x=True,\n",
    "    random_state=None,\n",
    "    lr=0.02, gamma='scale',\n",
    "    epochs=500, verbose=0\n",
    ")\n",
    "hst = est.fit(xtrain, ytrain)"
   ]
  },
  {
   "cell_type": "code",
   "execution_count": 55,
   "metadata": {},
   "outputs": [
    {
     "data": {
      "text/plain": [
       "<matplotlib.legend.Legend at 0x7f4a0ef90da0>"
      ]
     },
     "execution_count": 55,
     "metadata": {},
     "output_type": "execute_result"
    },
    {
     "data": {
      "image/png": "[encoded data removed]",
      "text/plain": [
       "<matplotlib.figure.Figure at 0x7f4a0eeb22e8>"
      ]
     },
     "metadata": {},
     "output_type": "display_data"
    }
   ],
   "source": [
    "fig, ax = plt.subplots(1, 3, figsize=(20,5))\n",
    "ax[0].set_title('loss')\n",
    "ax[0].plot(list(range(len(hst[\"loss\"]))), hst[\"loss\"], label=\"Train loss\")\n",
    "ax[1].set_title('accuracy')\n",
    "ax[1].plot(list(range(len(hst[\"loss\"]))), hst[\"acc\"], label=\"accuracy\")\n",
    "ax[2].set_title('learning rate')\n",
    "ax[2].plot(list(range(len(hst[\"loss\"]))), hst[\"lr\"], label=\"learning rate\")\n",
    "ax[0].legend()\n",
    "ax[1].legend()\n",
    "ax[2].legend()"
   ]
  },
  {
   "cell_type": "code",
   "execution_count": 56,
   "metadata": {
    "collapsed": true
   },
   "outputs": [],
   "source": [
    "pred = est.predict(xtrain)"
   ]
  },
  {
   "cell_type": "code",
   "execution_count": 57,
   "metadata": {},
   "outputs": [
    {
     "name": "stdout",
     "output_type": "stream",
     "text": [
      "F1_SCORE : 0.9989010657247231\n",
      "              precision    recall  f1-score   support\n",
      "\n",
      "           0       1.00      1.00      1.00        88\n",
      "           1       1.00      1.00      1.00        89\n",
      "           2       1.00      1.00      1.00        91\n",
      "           3       1.00      1.00      1.00        93\n",
      "           4       1.00      1.00      1.00        88\n",
      "           5       1.00      0.99      0.99        91\n",
      "           6       1.00      1.00      1.00        90\n",
      "           7       1.00      1.00      1.00        91\n",
      "           8       1.00      1.00      1.00        86\n",
      "           9       0.99      1.00      0.99        91\n",
      "\n",
      "   micro avg       1.00      1.00      1.00       898\n",
      "   macro avg       1.00      1.00      1.00       898\n",
      "weighted avg       1.00      1.00      1.00       898\n",
      "\n",
      "[[88  0  0  0  0  0  0  0  0  0]\n",
      " [ 0 89  0  0  0  0  0  0  0  0]\n",
      " [ 0  0 91  0  0  0  0  0  0  0]\n",
      " [ 0  0  0 93  0  0  0  0  0  0]\n",
      " [ 0  0  0  0 88  0  0  0  0  0]\n",
      " [ 0  0  0  0  0 90  0  0  0  1]\n",
      " [ 0  0  0  0  0  0 90  0  0  0]\n",
      " [ 0  0  0  0  0  0  0 91  0  0]\n",
      " [ 0  0  0  0  0  0  0  0 86  0]\n",
      " [ 0  0  0  0  0  0  0  0  0 91]]\n"
     ]
    }
   ],
   "source": [
    "print('F1_SCORE :', f1_score(np.argmax(ytrain, axis=1), pred, average='macro'))\n",
    "print(classification_report(np.argmax(ytrain, axis=1), pred))\n",
    "print(confusion_matrix(np.argmax(ytrain, axis=1), pred))"
   ]
  },
  {
   "cell_type": "code",
   "execution_count": 58,
   "metadata": {
    "collapsed": true
   },
   "outputs": [],
   "source": [
    "pred_test = est.predict(xtest)"
   ]
  },
  {
   "cell_type": "code",
   "execution_count": 59,
   "metadata": {},
   "outputs": [
    {
     "name": "stdout",
     "output_type": "stream",
     "text": [
      "F1_SCORE : 0.9777924434469858\n",
      "              precision    recall  f1-score   support\n",
      "\n",
      "           0       1.00      1.00      1.00        90\n",
      "           1       1.00      0.97      0.98        93\n",
      "           2       0.99      1.00      0.99        86\n",
      "           3       0.98      0.99      0.98        90\n",
      "           4       0.99      0.97      0.98        93\n",
      "           5       0.97      0.97      0.97        91\n",
      "           6       1.00      0.97      0.98        91\n",
      "           7       0.97      0.98      0.97        88\n",
      "           8       0.95      0.99      0.97        88\n",
      "           9       0.94      0.96      0.95        89\n",
      "\n",
      "   micro avg       0.98      0.98      0.98       899\n",
      "   macro avg       0.98      0.98      0.98       899\n",
      "weighted avg       0.98      0.98      0.98       899\n",
      "\n",
      "[[90  0  0  0  0  0  0  0  0  0]\n",
      " [ 0 90  1  0  0  1  0  0  0  1]\n",
      " [ 0  0 86  0  0  0  0  0  0  0]\n",
      " [ 0  0  0 89  0  0  0  1  0  0]\n",
      " [ 0  0  0  0 90  0  0  1  0  2]\n",
      " [ 0  0  0  1  1 88  0  0  0  1]\n",
      " [ 0  0  0  0  0  1 88  0  2  0]\n",
      " [ 0  0  0  0  0  0  0 86  1  1]\n",
      " [ 0  0  0  0  0  0  0  1 87  0]\n",
      " [ 0  0  0  1  0  1  0  0  2 85]]\n"
     ]
    }
   ],
   "source": [
    "print('F1_SCORE :', f1_score(np.argmax(yans, axis=1), pred_test, average='macro'))\n",
    "print(classification_report(np.argmax(yans, axis=1), pred_test))\n",
    "print(confusion_matrix(np.argmax(yans, axis=1), pred_test))"
   ]
  },
  {
   "cell_type": "code",
   "execution_count": null,
   "metadata": {
    "collapsed": true
   },
   "outputs": [],
   "source": []
  },
  {
   "cell_type": "code",
   "execution_count": null,
   "metadata": {
    "collapsed": true
   },
   "outputs": [],
   "source": []
  },
  {
   "cell_type": "code",
   "execution_count": 60,
   "metadata": {
    "collapsed": true
   },
   "outputs": [],
   "source": [
    "from sklearn.model_selection import StratifiedShuffleSplit, GridSearchCV, validation_curve\n",
    "from sklearn.feature_selection import RFECV\n",
    "from sklearn.linear_model import LogisticRegression, Lasso\n",
    "import pandas as pd\n",
    "from sklearn.metrics import mean_squared_error, mean_absolute_error, roc_auc_score, r2_score, make_scorer\n",
    "from sklearn.metrics.pairwise import cosine_similarity, euclidean_distances\n",
    "import joblib"
   ]
  },
  {
   "cell_type": "code",
   "execution_count": 61,
   "metadata": {},
   "outputs": [
    {
     "name": "stdout",
     "output_type": "stream",
     "text": [
      "counter  | val_f1    |  val_r2    \n",
      "---------------------------------------------\n",
      "    0    |  0.9376   |  0.8356   1.867677e-01 <-- skipping  \n",
      "    1    |  0.9689   |  0.9213   2.074878e-01 <-- OK  \n",
      "    2    |  0.9510   |  0.8474   2.241011e-01 <-- OK  \n",
      "    3    |  0.9688   |  0.9400   2.092021e-01 <-- OK  \n",
      "    4    |  0.9553   |  0.8615   2.064237e-01 <-- OK  \n",
      "    5    |  0.9394   |  0.8724   1.908378e-01 <-- skipping  \n",
      "    6    |  0.9598   |  0.8891   2.181064e-01 <-- OK  \n",
      "    7    |  0.9612   |  0.8766   2.073309e-01 <-- OK  \n",
      "    8    |  0.9534   |  0.8995   2.167096e-01 <-- OK  \n",
      "    9    |  0.9482   |  0.8662   2.105514e-01 <-- skipping  \n",
      "   10    |  0.9622   |  0.9127   2.275068e-01 <-- OK  \n",
      "   11    |  0.9584   |  0.8553   2.200868e-01 <-- OK  \n",
      "   12    |  0.9687   |  0.9393   2.039606e-01 <-- OK  \n",
      "   13    |  0.9402   |  0.7799   1.870851e-01 <-- skipping  \n",
      "   14    |  0.9598   |  0.8938   2.107517e-01 <-- OK  \n",
      "   15    |  0.9506   |  0.9011   1.940634e-01 <-- OK  \n",
      "   16    |  0.9602   |  0.9551   2.230318e-01 <-- OK  \n",
      "   17    |  0.9556   |  0.8841   1.922390e-01 <-- OK  \n",
      "   18    |  0.9640   |  0.9282   2.049266e-01 <-- OK  \n",
      "   19    |  0.9284   |  0.7622   1.859257e-01 <-- skipping  \n",
      "   20    |  0.9482   |  0.8597   1.899583e-01 <-- skipping  \n",
      "   21    |  0.9558   |  0.9104   2.062973e-01 <-- OK  \n",
      "   22    |  0.9617   |  0.8829   2.000653e-01 <-- OK  \n",
      "   23    |  0.9444   |  0.8863   2.028999e-01 <-- skipping  \n",
      "   24    |  0.9553   |  0.8383   2.004687e-01 <-- OK  \n",
      "   25    |  0.9544   |  0.8571   2.006461e-01 <-- OK  \n",
      "   26    |  0.9643   |  0.8653   2.024670e-01 <-- OK  \n",
      "   27    |  0.9443   |  0.8602   1.888693e-01 <-- skipping  \n",
      "   28    |  0.9601   |  0.8847   1.994012e-01 <-- OK  \n",
      "   29    |  0.9599   |  0.9184   2.053448e-01 <-- OK  \n",
      "   30    |  0.9597   |  0.8954   2.100073e-01 <-- OK  \n",
      "   31    |  0.9510   |  0.8584   2.019740e-01 <-- OK  \n",
      "   32    |  0.9487   |  0.8629   1.955826e-01 <-- skipping  \n",
      "   33    |  0.9504   |  0.8643   1.926767e-01 <-- OK  \n",
      "   34    |  0.9463   |  0.8500   1.931541e-01 <-- skipping  \n",
      "   35    |  0.9466   |  0.8171   1.907002e-01 <-- skipping  \n",
      "   36    |  0.9575   |  0.8456   2.132242e-01 <-- OK  \n",
      "   37    |  0.9602   |  0.8970   2.064803e-01 <-- OK  \n",
      "   38    |  0.9595   |  0.8628   2.101054e-01 <-- OK  \n",
      "   39    |  0.9530   |  0.8684   2.127743e-01 <-- OK  \n",
      "   40    |  0.9566   |  0.8407   2.066057e-01 <-- OK  \n",
      "   41    |  0.9686   |  0.9188   1.979007e-01 <-- OK  \n",
      "   42    |  0.9666   |  0.9424   1.984813e-01 <-- OK  \n",
      "   43    |  0.9554   |  0.9130   1.999703e-01 <-- OK  \n",
      "   44    |  0.9687   |  0.9002   2.048992e-01 <-- OK  \n",
      "   45    |  0.9665   |  0.9367   2.160426e-01 <-- OK  \n",
      "   46    |  0.9600   |  0.8753   2.060110e-01 <-- OK  \n",
      "   47    |  0.9508   |  0.8623   1.977566e-01 <-- OK  \n",
      "   48    |  0.9595   |  0.9040   2.074509e-01 <-- OK  \n",
      "   49    |  0.9573   |  0.8900   1.998064e-01 <-- OK  \n",
      "CPU times: user 11min 53s, sys: 20.7 s, total: 12min 14s\n",
      "Wall time: 9min 38s\n"
     ]
    }
   ],
   "source": [
    "%%time\n",
    "\n",
    "ins_splitter = StratifiedShuffleSplit(n_splits=50, test_size=0.5, random_state=0)\n",
    "var_idx_all = np.arange(xtrain.shape[1])\n",
    "threshold = 0.95\n",
    "#threshold = 0.30\n",
    "importances = np.zeros((xtrain.shape[1],))\n",
    "predictions = pd.DataFrame()\n",
    "#preds_all = pd.DataFrame()\n",
    "pred_all_list = []\n",
    "pred_train_all_list = []\n",
    "counter = 0\n",
    "np.random.seed(10001)\n",
    "\n",
    "print(\"counter  | val_f1    |  val_r2    \")\n",
    "print(\"---------------------------------------------\")\n",
    "\n",
    "\n",
    "for train_index, val_index in ins_splitter.split(xtrain, ytrain):\n",
    "    x_train_tr, x_train_val = xtrain[train_index], xtrain[val_index]\n",
    "    y_train_tr, y_train_val = ytrain[train_index], ytrain[val_index]\n",
    "    \n",
    "    \n",
    "    #estimator = LGBMRegressor(min_child_samples=50, reg_alpha=100)\n",
    "    estimator = RBFClassifier(\n",
    "        num_lm=250,\n",
    "        lm_select_from_x=True,\n",
    "        random_state=None,\n",
    "        lr=0.02, gamma='scale',\n",
    "        epochs=500, batch_size=32, verbose=0\n",
    "    )\n",
    "    estimator.fit(x_train_tr, y_train_tr)\n",
    "    \n",
    "    # score our fitted model on validation data\n",
    "    val_y_pred = estimator.predict(x_train_val)\n",
    "    val_mse = mean_squared_error(np.argmax(y_train_val,axis=1), val_y_pred)\n",
    "    val_mae = mean_absolute_error(np.argmax(y_train_val,axis=1), val_y_pred)\n",
    "    val_kappa = 0.0\n",
    "    val_f1 = f1_score(np.argmax(y_train_val,axis=1), val_y_pred, average='macro')\n",
    "    val_cos = cosine_similarity(np.argmax(y_train_val,axis=1).reshape(1, -1), val_y_pred.reshape(1, -1))[0][0]\n",
    "    val_dst = euclidean_distances(np.argmax(y_train_val,axis=1).reshape(1, -1), val_y_pred.reshape(1, -1))[0][0]\n",
    "    val_r2  = r2_score(np.argmax(y_train_val,axis=1), val_y_pred)\n",
    "    gamma = estimator.current_gamma()\n",
    "    \n",
    "    if val_f1 > threshold:\n",
    "        message = '<-- OK'\n",
    "        pred_train_all = estimator.predict_proba(xtrain)\n",
    "        pred_train_all_list.append(pred_train_all)\n",
    "        pred_all = estimator.predict_proba(xtest)\n",
    "        pred_all_list.append(pred_all)\n",
    "        #preds_all = pd.concat([preds_all, pd.DataFrame(pred_all)], axis=1)\n",
    "        #prediction = grid_search.best_estimator_.predict(x_test0)\n",
    "        #predictions = pd.concat([predictions, pd.DataFrame(prediction)], axis=1)\n",
    "        #importances += estimator.feature_importances_\n",
    "        #filename = 'model-{}.sav'.format(counter)\n",
    "        #joblib.dump(estimator, filename)\n",
    "    else:\n",
    "        message = '<-- skipping'\n",
    "\n",
    "    print(\"{0:5}    |  {3:.4f}   |  {4:.4f}   {5:5e} {7}  \".format(\n",
    "        counter,\n",
    "        val_mse,\n",
    "        val_mae,\n",
    "        val_f1,\n",
    "        val_r2,\n",
    "        gamma,\n",
    "        0,\n",
    "        message))\n",
    "    \n",
    "    counter += 1"
   ]
  },
  {
   "cell_type": "code",
   "execution_count": 62,
   "metadata": {},
   "outputs": [
    {
     "name": "stdout",
     "output_type": "stream",
     "text": [
      "F1_SCORE : 0.9843645466200452\n",
      "F1_SCORE : 0.9755439721182395\n",
      "F1_SCORE : 0.9844150158180615\n",
      "F1_SCORE : 0.9777142613978314\n",
      "F1_SCORE : 0.9787093565430188\n",
      "F1_SCORE : 0.9796660189503404\n",
      "F1_SCORE : 0.9765780018316607\n",
      "F1_SCORE : 0.9810626467940804\n",
      "F1_SCORE : 0.9790656830299185\n",
      "F1_SCORE : 0.9843665862141681\n",
      "F1_SCORE : 0.9787997789480565\n",
      "F1_SCORE : 0.9753214733538835\n",
      "F1_SCORE : 0.9800848019746546\n",
      "F1_SCORE : 0.9777499393968222\n",
      "F1_SCORE : 0.9809780899703162\n",
      "F1_SCORE : 0.976696622828881\n",
      "F1_SCORE : 0.9797684005642647\n",
      "F1_SCORE : 0.9754425171396324\n",
      "F1_SCORE : 0.9773591809678628\n",
      "F1_SCORE : 0.9810431915004013\n",
      "F1_SCORE : 0.9788681676769064\n",
      "F1_SCORE : 0.979918335277729\n",
      "F1_SCORE : 0.979857122271649\n",
      "F1_SCORE : 0.9731967768942008\n",
      "F1_SCORE : 0.9752652925704949\n",
      "F1_SCORE : 0.9787708239434897\n",
      "F1_SCORE : 0.978925079150424\n",
      "F1_SCORE : 0.9787254536616924\n",
      "F1_SCORE : 0.9765273764996852\n",
      "F1_SCORE : 0.977394530887717\n",
      "F1_SCORE : 0.9843756518131729\n",
      "F1_SCORE : 0.9833463406244036\n",
      "F1_SCORE : 0.9777221748401423\n",
      "F1_SCORE : 0.9843217438168409\n",
      "F1_SCORE : 0.9832869229504327\n",
      "F1_SCORE : 0.9800086310697976\n",
      "F1_SCORE : 0.9754223558035504\n",
      "F1_SCORE : 0.9797621087936854\n",
      "F1_SCORE : 0.9786362442526164\n"
     ]
    }
   ],
   "source": [
    "for ee in pred_train_all_list:\n",
    "    print('F1_SCORE :', f1_score(np.argmax(ytrain, axis=1), np.argmax(ee, axis=1), average='macro'))"
   ]
  },
  {
   "cell_type": "code",
   "execution_count": 63,
   "metadata": {},
   "outputs": [
    {
     "name": "stdout",
     "output_type": "stream",
     "text": [
      "F1_SCORE : 0.9921870610316658\n",
      "              precision    recall  f1-score   support\n",
      "\n",
      "           0       1.00      1.00      1.00        88\n",
      "           1       1.00      0.99      0.99        89\n",
      "           2       1.00      1.00      1.00        91\n",
      "           3       1.00      0.98      0.99        93\n",
      "           4       1.00      0.99      0.99        88\n",
      "           5       0.98      0.99      0.98        91\n",
      "           6       0.99      1.00      0.99        90\n",
      "           7       1.00      1.00      1.00        91\n",
      "           8       0.97      0.99      0.98        86\n",
      "           9       0.99      0.99      0.99        91\n",
      "\n",
      "   micro avg       0.99      0.99      0.99       898\n",
      "   macro avg       0.99      0.99      0.99       898\n",
      "weighted avg       0.99      0.99      0.99       898\n",
      "\n",
      "[[88  0  0  0  0  0  0  0  0  0]\n",
      " [ 0 88  0  0  0  0  1  0  0  0]\n",
      " [ 0  0 91  0  0  0  0  0  0  0]\n",
      " [ 0  0  0 91  0  1  0  0  1  0]\n",
      " [ 0  0  0  0 87  0  0  0  1  0]\n",
      " [ 0  0  0  0  0 90  0  0  0  1]\n",
      " [ 0  0  0  0  0  0 90  0  0  0]\n",
      " [ 0  0  0  0  0  0  0 91  0  0]\n",
      " [ 0  0  0  0  0  1  0  0 85  0]\n",
      " [ 0  0  0  0  0  0  0  0  1 90]]\n"
     ]
    }
   ],
   "source": [
    "print('F1_SCORE :', f1_score(np.argmax(ytrain, axis=1), np.argmax(np.stack(pred_train_all_list).mean(axis=0), axis=1), average='macro'))\n",
    "print(classification_report(np.argmax(ytrain, axis=1), np.argmax(np.stack(pred_train_all_list).mean(axis=0), axis=1)))\n",
    "print(confusion_matrix(np.argmax(ytrain, axis=1), np.argmax(np.stack(pred_train_all_list).mean(axis=0), axis=1)))"
   ]
  },
  {
   "cell_type": "code",
   "execution_count": 64,
   "metadata": {},
   "outputs": [
    {
     "data": {
      "text/plain": [
       "(899, 10)"
      ]
     },
     "execution_count": 64,
     "metadata": {},
     "output_type": "execute_result"
    }
   ],
   "source": [
    "np.stack(pred_all_list).mean(axis=0).shape"
   ]
  },
  {
   "cell_type": "code",
   "execution_count": 65,
   "metadata": {},
   "outputs": [
    {
     "name": "stdout",
     "output_type": "stream",
     "text": [
      "F1_SCORE : 0.9679155928550734\n",
      "F1_SCORE : 0.9601984618691202\n",
      "F1_SCORE : 0.9644421316488389\n",
      "F1_SCORE : 0.9635026773912744\n",
      "F1_SCORE : 0.960230204771029\n",
      "F1_SCORE : 0.9622998575634698\n",
      "F1_SCORE : 0.9614498288731269\n",
      "F1_SCORE : 0.9711368407497332\n",
      "F1_SCORE : 0.9599464794907187\n",
      "F1_SCORE : 0.9632200341960772\n",
      "F1_SCORE : 0.9601605973498988\n",
      "F1_SCORE : 0.9520937613875435\n",
      "F1_SCORE : 0.9634358995548519\n",
      "F1_SCORE : 0.9678945675782163\n",
      "F1_SCORE : 0.9698610077029832\n",
      "F1_SCORE : 0.9667941891095012\n",
      "F1_SCORE : 0.9633526808862211\n",
      "F1_SCORE : 0.9610544287559832\n",
      "F1_SCORE : 0.9609771272303597\n",
      "F1_SCORE : 0.9688955200011389\n",
      "F1_SCORE : 0.9678026072667553\n",
      "F1_SCORE : 0.9655858875644396\n",
      "F1_SCORE : 0.9588543282797264\n",
      "F1_SCORE : 0.9598844469534571\n",
      "F1_SCORE : 0.9589344621811666\n",
      "F1_SCORE : 0.9646768634138345\n",
      "F1_SCORE : 0.9656043399468837\n",
      "F1_SCORE : 0.9599725845660491\n",
      "F1_SCORE : 0.9723254420923574\n",
      "F1_SCORE : 0.9577276477672585\n",
      "F1_SCORE : 0.9624271343560228\n",
      "F1_SCORE : 0.9570275080434267\n",
      "F1_SCORE : 0.9700169581579321\n",
      "F1_SCORE : 0.9689256757310453\n",
      "F1_SCORE : 0.965508939676714\n",
      "F1_SCORE : 0.9567157081712121\n",
      "F1_SCORE : 0.9667140343922431\n",
      "F1_SCORE : 0.9643346890339718\n",
      "F1_SCORE : 0.9612410255174128\n"
     ]
    }
   ],
   "source": [
    "for ee in pred_all_list:\n",
    "    print('F1_SCORE :', f1_score(np.argmax(yans, axis=1), np.argmax(ee, axis=1), average='macro'))"
   ]
  },
  {
   "cell_type": "code",
   "execution_count": 66,
   "metadata": {},
   "outputs": [
    {
     "name": "stdout",
     "output_type": "stream",
     "text": [
      "F1_SCORE : 0.9734015993765638\n",
      "              precision    recall  f1-score   support\n",
      "\n",
      "           0       1.00      1.00      1.00        90\n",
      "           1       0.99      0.96      0.97        93\n",
      "           2       0.99      1.00      0.99        86\n",
      "           3       0.99      0.98      0.98        90\n",
      "           4       0.99      0.97      0.98        93\n",
      "           5       0.95      0.96      0.95        91\n",
      "           6       0.99      0.97      0.98        91\n",
      "           7       0.97      0.97      0.97        88\n",
      "           8       0.93      0.98      0.96        88\n",
      "           9       0.95      0.97      0.96        89\n",
      "\n",
      "   micro avg       0.97      0.97      0.97       899\n",
      "   macro avg       0.97      0.97      0.97       899\n",
      "weighted avg       0.97      0.97      0.97       899\n",
      "\n",
      "[[90  0  0  0  0  0  0  0  0  0]\n",
      " [ 0 89  1  0  0  1  1  0  0  1]\n",
      " [ 0  0 86  0  0  0  0  0  0  0]\n",
      " [ 0  0  0 88  0  0  0  1  1  0]\n",
      " [ 0  0  0  0 90  0  0  1  1  1]\n",
      " [ 0  0  0  1  1 87  0  0  0  2]\n",
      " [ 0  0  0  0  0  2 88  0  1  0]\n",
      " [ 0  0  0  0  0  0  0 85  2  1]\n",
      " [ 0  1  0  0  0  0  0  1 86  0]\n",
      " [ 0  0  0  0  0  2  0  0  1 86]]\n"
     ]
    }
   ],
   "source": [
    "print('F1_SCORE :', f1_score(np.argmax(yans, axis=1), np.argmax(np.stack(pred_all_list).mean(axis=0), axis=1), average='macro'))\n",
    "print(classification_report(np.argmax(yans, axis=1), np.argmax(np.stack(pred_all_list).mean(axis=0), axis=1)))\n",
    "print(confusion_matrix(np.argmax(yans, axis=1), np.argmax(np.stack(pred_all_list).mean(axis=0), axis=1)))"
   ]
  },
  {
   "cell_type": "code",
   "execution_count": null,
   "metadata": {
    "collapsed": true
   },
   "outputs": [],
   "source": []
  },
  {
   "cell_type": "markdown",
   "metadata": {},
   "source": [
    "## validation_curve + LogisticRegression"
   ]
  },
  {
   "cell_type": "code",
   "execution_count": 67,
   "metadata": {},
   "outputs": [
    {
     "data": {
      "text/plain": [
       "3"
      ]
     },
     "execution_count": 67,
     "metadata": {},
     "output_type": "execute_result"
    }
   ],
   "source": [
    "cv_splitter = StratifiedShuffleSplit(n_splits=3, test_size=0.35, random_state=0)\n",
    "cv_splitter.get_n_splits(xtrain, ytrain)"
   ]
  },
  {
   "cell_type": "code",
   "execution_count": 68,
   "metadata": {},
   "outputs": [
    {
     "data": {
      "text/plain": [
       "array([1.e-03, 1.e-02, 1.e-01, 1.e+00, 1.e+01, 1.e+02, 1.e+03, 1.e+04,\n",
       "       1.e+05])"
      ]
     },
     "execution_count": 68,
     "metadata": {},
     "output_type": "execute_result"
    }
   ],
   "source": [
    "param_name = \"C\"\n",
    "param_range = np.logspace(-3, 5, 9)\n",
    "param_range"
   ]
  },
  {
   "cell_type": "code",
   "execution_count": 69,
   "metadata": {
    "collapsed": true
   },
   "outputs": [],
   "source": [
    "def f1_scorer(estimator, X, y):\n",
    "    pred = estimator.predict(X)\n",
    "    s = f1_score(y, pred, average='macro')\n",
    "    return s"
   ]
  },
  {
   "cell_type": "code",
   "execution_count": 70,
   "metadata": {
    "collapsed": true
   },
   "outputs": [],
   "source": [
    "import warnings\n",
    "warnings.filterwarnings('ignore')"
   ]
  },
  {
   "cell_type": "code",
   "execution_count": 71,
   "metadata": {},
   "outputs": [
    {
     "name": "stderr",
     "output_type": "stream",
     "text": [
      "[Parallel(n_jobs=1)]: Using backend SequentialBackend with 1 concurrent workers.\n",
      "[Parallel(n_jobs=1)]: Done   1 out of   1 | elapsed:    0.0s remaining:    0.0s\n"
     ]
    },
    {
     "name": "stdout",
     "output_type": "stream",
     "text": [
      "[CV] C=0.001 .........................................................\n",
      "[CV] .......................................... C=0.001, total=   0.0s\n",
      "[CV] C=0.01 ..........................................................\n",
      "[CV] ........................................... C=0.01, total=   0.0s\n",
      "[CV] C=0.1 ...........................................................\n",
      "[CV] ............................................ C=0.1, total=  29.6s\n",
      "[CV] C=1.0 ...........................................................\n",
      "[CV] ............................................ C=1.0, total=  42.9s\n",
      "[CV] C=10.0 ..........................................................\n",
      "[CV] ........................................... C=10.0, total=  50.1s\n",
      "[CV] C=100.0 .........................................................\n",
      "[CV] .......................................... C=100.0, total= 1.0min\n",
      "[CV] C=1000.0 ........................................................\n",
      "[CV] ......................................... C=1000.0, total=  25.0s\n",
      "[CV] C=10000.0 .......................................................\n",
      "[CV] ........................................ C=10000.0, total=  17.7s\n",
      "[CV] C=100000.0 ......................................................\n",
      "[CV] ....................................... C=100000.0, total=  14.3s\n",
      "[CV] C=0.001 .........................................................\n",
      "[CV] .......................................... C=0.001, total=   0.0s\n",
      "[CV] C=0.01 ..........................................................\n",
      "[CV] ........................................... C=0.01, total=   0.1s\n",
      "[CV] C=0.1 ...........................................................\n",
      "[CV] ............................................ C=0.1, total=  41.4s\n",
      "[CV] C=1.0 ...........................................................\n",
      "[CV] ............................................ C=1.0, total=  42.2s\n",
      "[CV] C=10.0 ..........................................................\n",
      "[CV] ........................................... C=10.0, total=  46.9s\n",
      "[CV] C=100.0 .........................................................\n",
      "[CV] .......................................... C=100.0, total=  52.4s\n",
      "[CV] C=1000.0 ........................................................\n",
      "[CV] ......................................... C=1000.0, total=  32.4s\n",
      "[CV] C=10000.0 .......................................................\n",
      "[CV] ........................................ C=10000.0, total=  16.5s\n",
      "[CV] C=100000.0 ......................................................\n",
      "[CV] ....................................... C=100000.0, total=  19.8s\n",
      "[CV] C=0.001 .........................................................\n",
      "[CV] .......................................... C=0.001, total=   0.0s\n",
      "[CV] C=0.01 ..........................................................\n",
      "[CV] ........................................... C=0.01, total=   0.1s\n",
      "[CV] C=0.1 ...........................................................\n",
      "[CV] ............................................ C=0.1, total=  37.1s\n",
      "[CV] C=1.0 ...........................................................\n",
      "[CV] ............................................ C=1.0, total=  57.6s\n",
      "[CV] C=10.0 ..........................................................\n",
      "[CV] ........................................... C=10.0, total=  46.8s\n",
      "[CV] C=100.0 .........................................................\n",
      "[CV] .......................................... C=100.0, total= 1.1min\n",
      "[CV] C=1000.0 ........................................................\n",
      "[CV] ......................................... C=1000.0, total=  26.2s\n",
      "[CV] C=10000.0 .......................................................\n",
      "[CV] ........................................ C=10000.0, total=  22.1s\n",
      "[CV] C=100000.0 ......................................................\n",
      "[CV] ....................................... C=100000.0, total=  18.8s\n",
      "CPU times: user 12min 45s, sys: 0 ns, total: 12min 45s\n",
      "Wall time: 12min 44s\n"
     ]
    },
    {
     "name": "stderr",
     "output_type": "stream",
     "text": [
      "[Parallel(n_jobs=1)]: Done  27 out of  27 | elapsed: 12.7min finished\n"
     ]
    }
   ],
   "source": [
    "%%time\n",
    "\n",
    "train_scores, test_scores = validation_curve(\n",
    "    LogisticRegression(penalty='l1', multi_class='multinomial', solver='saga', max_iter=10000),\n",
    "    np.hstack(pred_train_all_list), np.argmax(ytrain, axis=1),\n",
    "    param_name=param_name, param_range=param_range,\n",
    "    cv=cv_splitter, n_jobs=1, verbose=2, scoring=f1_scorer)"
   ]
  },
  {
   "cell_type": "code",
   "execution_count": 72,
   "metadata": {},
   "outputs": [
    {
     "data": {
      "text/plain": [
       "array([[1.00000000e-03, 1.83800623e-02, 1.82688944e-02],\n",
       "       [1.00000000e-02, 1.84742147e-02, 1.82678892e-02],\n",
       "       [1.00000000e-01, 1.00000000e+00, 9.85115165e-01],\n",
       "       [1.00000000e+00, 1.00000000e+00, 9.86070824e-01],\n",
       "       [1.00000000e+01, 1.00000000e+00, 9.83935314e-01],\n",
       "       [1.00000000e+02, 1.00000000e+00, 9.84044212e-01],\n",
       "       [1.00000000e+03, 1.00000000e+00, 9.90414579e-01],\n",
       "       [1.00000000e+04, 1.00000000e+00, 9.90380671e-01],\n",
       "       [1.00000000e+05, 1.00000000e+00, 9.87222239e-01]])"
      ]
     },
     "execution_count": 72,
     "metadata": {},
     "output_type": "execute_result"
    }
   ],
   "source": [
    "train_scores_mean = np.mean(train_scores, axis=1)\n",
    "train_scores_std = np.std(train_scores, axis=1)\n",
    "test_scores_mean = np.mean(test_scores, axis=1)\n",
    "test_scores_std = np.std(test_scores, axis=1)\n",
    "np.c_[param_range, train_scores_mean, test_scores_mean]"
   ]
  },
  {
   "cell_type": "code",
   "execution_count": 73,
   "metadata": {},
   "outputs": [
    {
     "data": {
      "text/plain": [
       "<matplotlib.legend.Legend at 0x7f4a4bee0550>"
      ]
     },
     "execution_count": 73,
     "metadata": {},
     "output_type": "execute_result"
    },
    {
     "data": {
      "image/png": "[encoded data removed]",
      "text/plain": [
       "<matplotlib.figure.Figure at 0x7f4a0ef23c50>"
      ]
     },
     "metadata": {},
     "output_type": "display_data"
    }
   ],
   "source": [
    "plt.title(\"Validation Curve\")\n",
    "plt.xlabel(\"param\")\n",
    "plt.ylabel(\"Score\")\n",
    "plt.ylim(0.0, 1.1)\n",
    "lw = 2\n",
    "plt.semilogx(param_range, train_scores_mean, label=\"Training score\",\n",
    "             color=\"darkorange\", lw=lw)\n",
    "plt.fill_between(param_range, train_scores_mean - train_scores_std,\n",
    "                 train_scores_mean + train_scores_std, alpha=0.2,\n",
    "                 color=\"darkorange\", lw=lw)\n",
    "plt.semilogx(param_range, test_scores_mean, label=\"Cross-validation score\",\n",
    "             color=\"navy\", lw=lw)\n",
    "plt.fill_between(param_range, test_scores_mean - test_scores_std,\n",
    "                 test_scores_mean + test_scores_std, alpha=0.2,\n",
    "                 color=\"navy\", lw=lw)\n",
    "plt.legend(loc=\"best\")"
   ]
  },
  {
   "cell_type": "code",
   "execution_count": 74,
   "metadata": {},
   "outputs": [
    {
     "data": {
      "text/plain": [
       "LogisticRegression(C=100000, class_weight=None, dual=False,\n",
       "          fit_intercept=True, intercept_scaling=1, max_iter=10000,\n",
       "          multi_class='multinomial', n_jobs=None, penalty='l1',\n",
       "          random_state=None, solver='saga', tol=0.0001, verbose=0,\n",
       "          warm_start=False)"
      ]
     },
     "execution_count": 74,
     "metadata": {},
     "output_type": "execute_result"
    }
   ],
   "source": [
    "'''test data'''\n",
    "est = LogisticRegression(penalty='l1', multi_class='multinomial', solver='saga', max_iter=10000, C=100000)\n",
    "est.fit(np.hstack(pred_train_all_list), np.argmax(ytrain, axis=1))"
   ]
  },
  {
   "cell_type": "code",
   "execution_count": 75,
   "metadata": {
    "collapsed": true
   },
   "outputs": [],
   "source": [
    "pred = est.predict(np.hstack(pred_train_all_list))"
   ]
  },
  {
   "cell_type": "code",
   "execution_count": 76,
   "metadata": {},
   "outputs": [
    {
     "name": "stdout",
     "output_type": "stream",
     "text": [
      "F1_SCORE : 1.0\n",
      "              precision    recall  f1-score   support\n",
      "\n",
      "           0       1.00      1.00      1.00        88\n",
      "           1       1.00      1.00      1.00        89\n",
      "           2       1.00      1.00      1.00        91\n",
      "           3       1.00      1.00      1.00        93\n",
      "           4       1.00      1.00      1.00        88\n",
      "           5       1.00      1.00      1.00        91\n",
      "           6       1.00      1.00      1.00        90\n",
      "           7       1.00      1.00      1.00        91\n",
      "           8       1.00      1.00      1.00        86\n",
      "           9       1.00      1.00      1.00        91\n",
      "\n",
      "   micro avg       1.00      1.00      1.00       898\n",
      "   macro avg       1.00      1.00      1.00       898\n",
      "weighted avg       1.00      1.00      1.00       898\n",
      "\n",
      "[[88  0  0  0  0  0  0  0  0  0]\n",
      " [ 0 89  0  0  0  0  0  0  0  0]\n",
      " [ 0  0 91  0  0  0  0  0  0  0]\n",
      " [ 0  0  0 93  0  0  0  0  0  0]\n",
      " [ 0  0  0  0 88  0  0  0  0  0]\n",
      " [ 0  0  0  0  0 91  0  0  0  0]\n",
      " [ 0  0  0  0  0  0 90  0  0  0]\n",
      " [ 0  0  0  0  0  0  0 91  0  0]\n",
      " [ 0  0  0  0  0  0  0  0 86  0]\n",
      " [ 0  0  0  0  0  0  0  0  0 91]]\n"
     ]
    }
   ],
   "source": [
    "print('F1_SCORE :', f1_score(np.argmax(ytrain, axis=1), pred, average='macro'))\n",
    "print(classification_report(np.argmax(ytrain, axis=1), pred))\n",
    "print(confusion_matrix(np.argmax(ytrain, axis=1), pred))"
   ]
  },
  {
   "cell_type": "code",
   "execution_count": 77,
   "metadata": {
    "collapsed": true
   },
   "outputs": [],
   "source": [
    "pred_test = est.predict(np.hstack(pred_all_list))"
   ]
  },
  {
   "cell_type": "code",
   "execution_count": 78,
   "metadata": {},
   "outputs": [
    {
     "name": "stdout",
     "output_type": "stream",
     "text": [
      "F1_SCORE : 0.9733179782149941\n",
      "              precision    recall  f1-score   support\n",
      "\n",
      "           0       1.00      1.00      1.00        90\n",
      "           1       1.00      0.96      0.98        93\n",
      "           2       0.99      1.00      0.99        86\n",
      "           3       0.95      0.98      0.96        90\n",
      "           4       0.99      0.98      0.98        93\n",
      "           5       0.96      0.97      0.96        91\n",
      "           6       1.00      0.97      0.98        91\n",
      "           7       0.97      0.97      0.97        88\n",
      "           8       0.94      0.99      0.96        88\n",
      "           9       0.95      0.93      0.94        89\n",
      "\n",
      "   micro avg       0.97      0.97      0.97       899\n",
      "   macro avg       0.97      0.97      0.97       899\n",
      "weighted avg       0.97      0.97      0.97       899\n",
      "\n",
      "[[90  0  0  0  0  0  0  0  0  0]\n",
      " [ 0 89  1  0  0  1  0  0  1  1]\n",
      " [ 0  0 86  0  0  0  0  0  0  0]\n",
      " [ 0  0  0 88  0  0  0  1  1  0]\n",
      " [ 0  0  0  0 91  0  0  1  0  1]\n",
      " [ 0  0  0  1  1 88  0  0  0  1]\n",
      " [ 0  0  0  0  0  1 88  0  2  0]\n",
      " [ 0  0  0  0  0  0  0 85  2  1]\n",
      " [ 0  0  0  0  0  0  0  1 87  0]\n",
      " [ 0  0  0  4  0  2  0  0  0 83]]\n"
     ]
    }
   ],
   "source": [
    "print('F1_SCORE :', f1_score(np.argmax(yans, axis=1), pred_test, average='macro'))\n",
    "print(classification_report(np.argmax(yans, axis=1), pred_test))\n",
    "print(confusion_matrix(np.argmax(yans, axis=1), pred_test))"
   ]
  },
  {
   "cell_type": "code",
   "execution_count": null,
   "metadata": {
    "collapsed": true
   },
   "outputs": [],
   "source": []
  },
  {
   "cell_type": "markdown",
   "metadata": {},
   "source": [
    "## validation_curve + LGBMClassifier"
   ]
  },
  {
   "cell_type": "code",
   "execution_count": 79,
   "metadata": {},
   "outputs": [
    {
     "data": {
      "text/plain": [
       "array([1.e-03, 1.e-02, 1.e-01, 1.e+00, 1.e+01, 1.e+02, 1.e+03])"
      ]
     },
     "execution_count": 79,
     "metadata": {},
     "output_type": "execute_result"
    }
   ],
   "source": [
    "'''LGBMClassifier'''\n",
    "from lightgbm import LGBMClassifier\n",
    "\n",
    "param_name = \"reg_alpha\"\n",
    "param_range = np.logspace(-3, 3, 7)\n",
    "param_range"
   ]
  },
  {
   "cell_type": "code",
   "execution_count": 80,
   "metadata": {},
   "outputs": [
    {
     "name": "stdout",
     "output_type": "stream",
     "text": [
      "[CV] reg_alpha=0.001 .................................................\n"
     ]
    },
    {
     "name": "stderr",
     "output_type": "stream",
     "text": [
      "[Parallel(n_jobs=1)]: Using backend SequentialBackend with 1 concurrent workers.\n"
     ]
    },
    {
     "name": "stdout",
     "output_type": "stream",
     "text": [
      "[CV] .................................. reg_alpha=0.001, total=   0.2s\n",
      "[CV] reg_alpha=0.01 ..................................................\n",
      "[CV] ................................... reg_alpha=0.01, total=   0.2s\n",
      "[CV] reg_alpha=0.1 ...................................................\n"
     ]
    },
    {
     "name": "stderr",
     "output_type": "stream",
     "text": [
      "[Parallel(n_jobs=1)]: Done   1 out of   1 | elapsed:    0.2s remaining:    0.0s\n"
     ]
    },
    {
     "name": "stdout",
     "output_type": "stream",
     "text": [
      "[CV] .................................... reg_alpha=0.1, total=   0.1s\n",
      "[CV] reg_alpha=1.0 ...................................................\n",
      "[CV] .................................... reg_alpha=1.0, total=   0.1s\n",
      "[CV] reg_alpha=10.0 ..................................................\n",
      "[CV] ................................... reg_alpha=10.0, total=   0.1s\n",
      "[CV] reg_alpha=100.0 .................................................\n",
      "[CV] .................................. reg_alpha=100.0, total=   0.1s\n",
      "[CV] reg_alpha=1000.0 ................................................\n",
      "[CV] ................................. reg_alpha=1000.0, total=   0.1s\n",
      "[CV] reg_alpha=0.001 .................................................\n",
      "[CV] .................................. reg_alpha=0.001, total=   0.2s\n",
      "[CV] reg_alpha=0.01 ..................................................\n",
      "[CV] ................................... reg_alpha=0.01, total=   0.2s\n",
      "[CV] reg_alpha=0.1 ...................................................\n",
      "[CV] .................................... reg_alpha=0.1, total=   0.1s\n",
      "[CV] reg_alpha=1.0 ...................................................\n",
      "[CV] .................................... reg_alpha=1.0, total=   0.1s\n",
      "[CV] reg_alpha=10.0 ..................................................\n",
      "[CV] ................................... reg_alpha=10.0, total=   0.1s\n",
      "[CV] reg_alpha=100.0 .................................................\n",
      "[CV] .................................. reg_alpha=100.0, total=   0.1s\n",
      "[CV] reg_alpha=1000.0 ................................................\n",
      "[CV] ................................. reg_alpha=1000.0, total=   0.1s\n",
      "[CV] reg_alpha=0.001 .................................................\n",
      "[CV] .................................. reg_alpha=0.001, total=   0.2s\n",
      "[CV] reg_alpha=0.01 ..................................................\n",
      "[CV] ................................... reg_alpha=0.01, total=   0.1s\n",
      "[CV] reg_alpha=0.1 ...................................................\n",
      "[CV] .................................... reg_alpha=0.1, total=   0.1s\n",
      "[CV] reg_alpha=1.0 ...................................................\n",
      "[CV] .................................... reg_alpha=1.0, total=   0.1s\n",
      "[CV] reg_alpha=10.0 ..................................................\n",
      "[CV] ................................... reg_alpha=10.0, total=   0.1s\n",
      "[CV] reg_alpha=100.0 .................................................\n",
      "[CV] .................................. reg_alpha=100.0, total=   0.1s\n",
      "[CV] reg_alpha=1000.0 ................................................\n",
      "[CV] ................................. reg_alpha=1000.0, total=   0.1s\n",
      "CPU times: user 2.8 s, sys: 0 ns, total: 2.8 s\n",
      "Wall time: 2.9 s\n"
     ]
    },
    {
     "name": "stderr",
     "output_type": "stream",
     "text": [
      "[Parallel(n_jobs=1)]: Done  21 out of  21 | elapsed:    2.9s finished\n"
     ]
    }
   ],
   "source": [
    "%%time\n",
    "\n",
    "train_scores, test_scores = validation_curve(\n",
    "    LGBMClassifier(\n",
    "        min_child_samples=20,\n",
    "        reg_alpha=0.1\n",
    "    ),\n",
    "    np.hstack(pred_train_all_list), np.argmax(ytrain, axis=1),\n",
    "    param_name=param_name, param_range=param_range,\n",
    "    cv=cv_splitter, n_jobs=1, verbose=2, scoring=f1_scorer)"
   ]
  },
  {
   "cell_type": "code",
   "execution_count": 81,
   "metadata": {},
   "outputs": [
    {
     "data": {
      "text/plain": [
       "array([[1.00000000e-03, 1.00000000e+00, 9.80708567e-01],\n",
       "       [1.00000000e-02, 1.00000000e+00, 9.80708567e-01],\n",
       "       [1.00000000e-01, 1.00000000e+00, 9.80708567e-01],\n",
       "       [1.00000000e+00, 1.00000000e+00, 9.80708567e-01],\n",
       "       [1.00000000e+01, 1.00000000e+00, 9.80708567e-01],\n",
       "       [1.00000000e+02, 1.78125000e-02, 1.79190751e-02],\n",
       "       [1.00000000e+03, 1.78125000e-02, 1.79190751e-02]])"
      ]
     },
     "execution_count": 81,
     "metadata": {},
     "output_type": "execute_result"
    }
   ],
   "source": [
    "train_scores_mean = np.mean(train_scores, axis=1)\n",
    "train_scores_std = np.std(train_scores, axis=1)\n",
    "test_scores_mean = np.mean(test_scores, axis=1)\n",
    "test_scores_std = np.std(test_scores, axis=1)\n",
    "np.c_[param_range, train_scores_mean, test_scores_mean]"
   ]
  },
  {
   "cell_type": "code",
   "execution_count": 82,
   "metadata": {},
   "outputs": [
    {
     "data": {
      "text/plain": [
       "<matplotlib.legend.Legend at 0x7f4a0c5ac400>"
      ]
     },
     "execution_count": 82,
     "metadata": {},
     "output_type": "execute_result"
    },
    {
     "data": {
      "image/png": "[encoded data removed]",
      "text/plain": [
       "<matplotlib.figure.Figure at 0x7f49f73980b8>"
      ]
     },
     "metadata": {},
     "output_type": "display_data"
    }
   ],
   "source": [
    "plt.title(\"Validation Curve\")\n",
    "plt.xlabel(\"param\")\n",
    "plt.ylabel(\"Score\")\n",
    "plt.ylim(0.0, 1.1)\n",
    "lw = 2\n",
    "plt.semilogx(param_range, train_scores_mean, label=\"Training score\",\n",
    "             color=\"darkorange\", lw=lw)\n",
    "plt.fill_between(param_range, train_scores_mean - train_scores_std,\n",
    "                 train_scores_mean + train_scores_std, alpha=0.2,\n",
    "                 color=\"darkorange\", lw=lw)\n",
    "plt.semilogx(param_range, test_scores_mean, label=\"Cross-validation score\",\n",
    "             color=\"navy\", lw=lw)\n",
    "plt.fill_between(param_range, test_scores_mean - test_scores_std,\n",
    "                 test_scores_mean + test_scores_std, alpha=0.2,\n",
    "                 color=\"navy\", lw=lw)\n",
    "plt.legend(loc=\"best\")"
   ]
  },
  {
   "cell_type": "code",
   "execution_count": 83,
   "metadata": {},
   "outputs": [
    {
     "data": {
      "text/plain": [
       "LGBMClassifier(boosting_type='gbdt', colsample_bytree=1, learning_rate=0.1,\n",
       "        max_bin=255, max_depth=-1, min_child_samples=50,\n",
       "        min_child_weight=5, min_split_gain=0, n_estimators=10, nthread=-1,\n",
       "        num_leaves=31, objective='multiclass', reg_alpha=0.01,\n",
       "        reg_lambda=0, seed=0, silent=True, subsample=1,\n",
       "        subsample_for_bin=50000, subsample_freq=1)"
      ]
     },
     "execution_count": 83,
     "metadata": {},
     "output_type": "execute_result"
    }
   ],
   "source": [
    "'''test data'''\n",
    "est = LGBMClassifier(\n",
    "        min_child_samples=50,\n",
    "        reg_alpha=0.01\n",
    "    )\n",
    "est.fit(np.hstack(pred_train_all_list), np.argmax(ytrain, axis=1))"
   ]
  },
  {
   "cell_type": "code",
   "execution_count": 84,
   "metadata": {
    "collapsed": true
   },
   "outputs": [],
   "source": [
    "pred = est.predict(np.hstack(pred_train_all_list))"
   ]
  },
  {
   "cell_type": "code",
   "execution_count": 85,
   "metadata": {},
   "outputs": [
    {
     "name": "stdout",
     "output_type": "stream",
     "text": [
      "F1_SCORE : 1.0\n",
      "              precision    recall  f1-score   support\n",
      "\n",
      "           0       1.00      1.00      1.00        88\n",
      "           1       1.00      1.00      1.00        89\n",
      "           2       1.00      1.00      1.00        91\n",
      "           3       1.00      1.00      1.00        93\n",
      "           4       1.00      1.00      1.00        88\n",
      "           5       1.00      1.00      1.00        91\n",
      "           6       1.00      1.00      1.00        90\n",
      "           7       1.00      1.00      1.00        91\n",
      "           8       1.00      1.00      1.00        86\n",
      "           9       1.00      1.00      1.00        91\n",
      "\n",
      "   micro avg       1.00      1.00      1.00       898\n",
      "   macro avg       1.00      1.00      1.00       898\n",
      "weighted avg       1.00      1.00      1.00       898\n",
      "\n",
      "[[88  0  0  0  0  0  0  0  0  0]\n",
      " [ 0 89  0  0  0  0  0  0  0  0]\n",
      " [ 0  0 91  0  0  0  0  0  0  0]\n",
      " [ 0  0  0 93  0  0  0  0  0  0]\n",
      " [ 0  0  0  0 88  0  0  0  0  0]\n",
      " [ 0  0  0  0  0 91  0  0  0  0]\n",
      " [ 0  0  0  0  0  0 90  0  0  0]\n",
      " [ 0  0  0  0  0  0  0 91  0  0]\n",
      " [ 0  0  0  0  0  0  0  0 86  0]\n",
      " [ 0  0  0  0  0  0  0  0  0 91]]\n"
     ]
    }
   ],
   "source": [
    "print('F1_SCORE :', f1_score(np.argmax(ytrain, axis=1), pred, average='macro'))\n",
    "print(classification_report(np.argmax(ytrain, axis=1), pred))\n",
    "print(confusion_matrix(np.argmax(ytrain, axis=1), pred))"
   ]
  },
  {
   "cell_type": "code",
   "execution_count": 86,
   "metadata": {
    "collapsed": true
   },
   "outputs": [],
   "source": [
    "pred_test = est.predict(np.hstack(pred_all_list))"
   ]
  },
  {
   "cell_type": "code",
   "execution_count": 87,
   "metadata": {},
   "outputs": [
    {
     "name": "stdout",
     "output_type": "stream",
     "text": [
      "F1_SCORE : 0.96770337726684\n",
      "              precision    recall  f1-score   support\n",
      "\n",
      "           0       1.00      1.00      1.00        90\n",
      "           1       0.98      0.98      0.98        93\n",
      "           2       1.00      1.00      1.00        86\n",
      "           3       0.91      0.99      0.95        90\n",
      "           4       0.99      0.99      0.99        93\n",
      "           5       0.93      0.97      0.95        91\n",
      "           6       1.00      0.93      0.97        91\n",
      "           7       0.97      0.97      0.97        88\n",
      "           8       0.96      0.97      0.96        88\n",
      "           9       0.96      0.89      0.92        89\n",
      "\n",
      "   micro avg       0.97      0.97      0.97       899\n",
      "   macro avg       0.97      0.97      0.97       899\n",
      "weighted avg       0.97      0.97      0.97       899\n",
      "\n",
      "[[90  0  0  0  0  0  0  0  0  0]\n",
      " [ 0 91  0  0  0  1  0  0  0  1]\n",
      " [ 0  0 86  0  0  0  0  0  0  0]\n",
      " [ 0  0  0 89  0  0  0  1  0  0]\n",
      " [ 0  0  0  0 92  0  0  1  0  0]\n",
      " [ 0  0  0  1  1 88  0  0  0  1]\n",
      " [ 0  0  0  0  0  4 85  0  2  0]\n",
      " [ 0  0  0  0  0  0  0 85  2  1]\n",
      " [ 0  2  0  0  0  0  0  1 85  0]\n",
      " [ 0  0  0  8  0  2  0  0  0 79]]\n"
     ]
    }
   ],
   "source": [
    "print('F1_SCORE :', f1_score(np.argmax(yans, axis=1), pred_test, average='macro'))\n",
    "print(classification_report(np.argmax(yans, axis=1), pred_test))\n",
    "print(confusion_matrix(np.argmax(yans, axis=1), pred_test))"
   ]
  },
  {
   "cell_type": "code",
   "execution_count": null,
   "metadata": {
    "collapsed": true
   },
   "outputs": [],
   "source": []
  },
  {
   "cell_type": "code",
   "execution_count": null,
   "metadata": {
    "collapsed": true
   },
   "outputs": [],
   "source": []
  },
  {
   "cell_type": "code",
   "execution_count": null,
   "metadata": {
    "collapsed": true
   },
   "outputs": [],
   "source": []
  },
  {
   "cell_type": "code",
   "execution_count": null,
   "metadata": {
    "collapsed": true
   },
   "outputs": [],
   "source": []
  },
  {
   "cell_type": "code",
   "execution_count": null,
   "metadata": {
    "collapsed": true
   },
   "outputs": [],
   "source": []
  }
 ],
 "metadata": {
  "kernelspec": {
   "display_name": "Python 3",
   "language": "python",
   "name": "python3"
  },
  "language_info": {
   "codemirror_mode": {
    "name": "ipython",
    "version": 3
   },
   "file_extension": ".py",
   "mimetype": "text/x-python",
   "name": "python",
   "nbconvert_exporter": "python",
   "pygments_lexer": "ipython3",
   "version": "3.6.8"
  }
 },
 "nbformat": 4,
 "nbformat_minor": 2
}
