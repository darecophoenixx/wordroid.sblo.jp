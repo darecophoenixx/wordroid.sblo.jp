{
 "cells": [
  {
   "cell_type": "code",
   "execution_count": 1,
   "metadata": {},
   "outputs": [
    {
     "name": "stderr",
     "output_type": "stream",
     "text": [
      "Using TensorFlow backend.\n"
     ]
    }
   ],
   "source": [
    "%matplotlib inline\n",
    "import os, sys\n",
    "\n",
    "import numpy as np\n",
    "import matplotlib.pyplot as plt\n",
    "from sklearn import datasets, linear_model\n",
    "from sklearn.metrics import f1_score, classification_report, confusion_matrix, make_scorer\n",
    "from sklearn.preprocessing import OneHotEncoder\n",
    "import keras\n",
    "from keras.models import Sequential\n",
    "from keras.layers import Input, Dense\n",
    "from keras.models import Model\n",
    "from keras.optimizers import SGD\n",
    "from keras import regularizers\n",
    "from keras.wrappers.scikit_learn import KerasClassifier, KerasRegressor\n",
    "from keras import backend as K\n",
    "import tensorflow as tf"
   ]
  },
  {
   "cell_type": "code",
   "execution_count": 2,
   "metadata": {
    "collapsed": true
   },
   "outputs": [],
   "source": [
    "sys.path.append('/home/admin/github/wordroid.sblo.jp/lib')\n",
    "#from gkernel import GaussianKernel, GaussianKernel2, GaussianKernel3\n",
    "from keras_ex.gkernel.sklearn import RBFClassifier"
   ]
  },
  {
   "cell_type": "code",
   "execution_count": 3,
   "metadata": {},
   "outputs": [
    {
     "data": {
      "text/plain": [
       "((1797, 64), 0.0, 1.0)"
      ]
     },
     "execution_count": 3,
     "metadata": {},
     "output_type": "execute_result"
    }
   ],
   "source": [
    "from sklearn.datasets import load_digits\n",
    "digits = load_digits()\n",
    "X, y = digits.data, digits.target\n",
    "X = X / 16\n",
    "X.shape, X.min(), X.max()"
   ]
  },
  {
   "cell_type": "code",
   "execution_count": 4,
   "metadata": {},
   "outputs": [
    {
     "data": {
      "text/plain": [
       "(1797,)"
      ]
     },
     "execution_count": 4,
     "metadata": {},
     "output_type": "execute_result"
    }
   ],
   "source": [
    "y.shape"
   ]
  },
  {
   "cell_type": "code",
   "execution_count": 5,
   "metadata": {
    "collapsed": true
   },
   "outputs": [],
   "source": [
    "N = y.shape[0]\n",
    "y2 = keras.utils.to_categorical(y, num_classes=10)\n",
    "y2.shape\n",
    "index = np.arange(N)\n",
    "xtrain = X[index[index % 2 != 0],:]\n",
    "ytrain = y2[index[index % 2 != 0]]\n",
    "xtest = X[index[index % 2 == 0],:]\n",
    "yans = y2[index[index % 2 == 0]]"
   ]
  },
  {
   "cell_type": "code",
   "execution_count": null,
   "metadata": {
    "collapsed": true
   },
   "outputs": [],
   "source": []
  },
  {
   "cell_type": "code",
   "execution_count": 6,
   "metadata": {
    "collapsed": true
   },
   "outputs": [],
   "source": [
    "from sklearn.model_selection import StratifiedShuffleSplit, GridSearchCV, validation_curve\n",
    "from sklearn.feature_selection import RFECV\n",
    "from sklearn.linear_model import LogisticRegression, Lasso\n",
    "import pandas as pd\n",
    "from sklearn.metrics import mean_squared_error, mean_absolute_error, roc_auc_score, r2_score, make_scorer\n",
    "from sklearn.metrics.pairwise import cosine_similarity, euclidean_distances\n",
    "import joblib\n",
    "\n",
    "from lightgbm import LGBMClassifier"
   ]
  },
  {
   "cell_type": "code",
   "execution_count": 7,
   "metadata": {
    "collapsed": true
   },
   "outputs": [],
   "source": [
    "import warnings\n",
    "warnings.filterwarnings('ignore')"
   ]
  },
  {
   "cell_type": "code",
   "execution_count": 8,
   "metadata": {
    "collapsed": true
   },
   "outputs": [],
   "source": [
    "def f1_scorer(estimator, X, y):\n",
    "    pred = estimator.predict(X)\n",
    "    s = f1_score(y, pred, average='macro')\n",
    "    return s"
   ]
  },
  {
   "cell_type": "markdown",
   "metadata": {},
   "source": [
    "## BENCHMARK LogisticRegression"
   ]
  },
  {
   "cell_type": "code",
   "execution_count": 9,
   "metadata": {},
   "outputs": [
    {
     "data": {
      "text/plain": [
       "3"
      ]
     },
     "execution_count": 9,
     "metadata": {},
     "output_type": "execute_result"
    }
   ],
   "source": [
    "cv_splitter = StratifiedShuffleSplit(n_splits=3, test_size=0.35, random_state=0)\n",
    "cv_splitter.get_n_splits(xtrain, ytrain)"
   ]
  },
  {
   "cell_type": "code",
   "execution_count": 10,
   "metadata": {},
   "outputs": [
    {
     "data": {
      "text/plain": [
       "array([1.e-03, 1.e-02, 1.e-01, 1.e+00, 1.e+01, 1.e+02, 1.e+03])"
      ]
     },
     "execution_count": 10,
     "metadata": {},
     "output_type": "execute_result"
    }
   ],
   "source": [
    "param_name = \"C\"\n",
    "param_range = np.logspace(-3, 3, 7)\n",
    "param_range"
   ]
  },
  {
   "cell_type": "code",
   "execution_count": 11,
   "metadata": {},
   "outputs": [
    {
     "name": "stderr",
     "output_type": "stream",
     "text": [
      "[Parallel(n_jobs=1)]: Using backend SequentialBackend with 1 concurrent workers.\n",
      "[Parallel(n_jobs=1)]: Done   1 out of   1 | elapsed:    0.0s remaining:    0.0s\n"
     ]
    },
    {
     "name": "stdout",
     "output_type": "stream",
     "text": [
      "[CV] C=0.001 .........................................................\n",
      "[CV] .......................................... C=0.001, total=   0.0s\n",
      "[CV] C=0.01 ..........................................................\n",
      "[CV] ........................................... C=0.01, total=   0.0s\n",
      "[CV] C=0.1 ...........................................................\n",
      "[CV] ............................................ C=0.1, total=   0.3s\n",
      "[CV] C=1.0 ...........................................................\n",
      "[CV] ............................................ C=1.0, total=   0.9s\n",
      "[CV] C=10.0 ..........................................................\n",
      "[CV] ........................................... C=10.0, total=   3.5s\n",
      "[CV] C=100.0 .........................................................\n",
      "[CV] .......................................... C=100.0, total=   3.9s\n",
      "[CV] C=1000.0 ........................................................\n",
      "[CV] ......................................... C=1000.0, total=   4.6s\n",
      "[CV] C=0.001 .........................................................\n",
      "[CV] .......................................... C=0.001, total=   0.0s\n",
      "[CV] C=0.01 ..........................................................\n",
      "[CV] ........................................... C=0.01, total=   0.0s\n",
      "[CV] C=0.1 ...........................................................\n",
      "[CV] ............................................ C=0.1, total=   0.3s\n",
      "[CV] C=1.0 ...........................................................\n",
      "[CV] ............................................ C=1.0, total=   1.0s\n",
      "[CV] C=10.0 ..........................................................\n",
      "[CV] ........................................... C=10.0, total=   4.6s\n",
      "[CV] C=100.0 .........................................................\n",
      "[CV] .......................................... C=100.0, total=   5.8s\n",
      "[CV] C=1000.0 ........................................................\n",
      "[CV] ......................................... C=1000.0, total=   4.9s\n",
      "[CV] C=0.001 .........................................................\n",
      "[CV] .......................................... C=0.001, total=   0.0s\n",
      "[CV] C=0.01 ..........................................................\n",
      "[CV] ........................................... C=0.01, total=   0.0s\n",
      "[CV] C=0.1 ...........................................................\n",
      "[CV] ............................................ C=0.1, total=   0.1s\n",
      "[CV] C=1.0 ...........................................................\n",
      "[CV] ............................................ C=1.0, total=   1.2s\n",
      "[CV] C=10.0 ..........................................................\n",
      "[CV] ........................................... C=10.0, total=   3.4s\n",
      "[CV] C=100.0 .........................................................\n",
      "[CV] .......................................... C=100.0, total=   5.4s\n",
      "[CV] C=1000.0 ........................................................\n",
      "[CV] ......................................... C=1000.0, total=   4.7s\n",
      "CPU times: user 44.8 s, sys: 11.1 ms, total: 44.8 s\n",
      "Wall time: 44.8 s\n"
     ]
    },
    {
     "name": "stderr",
     "output_type": "stream",
     "text": [
      "[Parallel(n_jobs=1)]: Done  21 out of  21 | elapsed:   44.8s finished\n"
     ]
    }
   ],
   "source": [
    "%%time\n",
    "\n",
    "train_scores, test_scores = validation_curve(\n",
    "    LogisticRegression(penalty='l1', multi_class='multinomial', solver='saga', max_iter=10000),\n",
    "    xtrain, np.argmax(ytrain, axis=1),\n",
    "    param_name=param_name, param_range=param_range,\n",
    "    cv=cv_splitter, n_jobs=1, verbose=2, scoring=f1_scorer)"
   ]
  },
  {
   "cell_type": "code",
   "execution_count": 12,
   "metadata": {},
   "outputs": [
    {
     "data": {
      "text/plain": [
       "array([[1.00000000e-03, 1.82850272e-02, 1.84427988e-02],\n",
       "       [1.00000000e-02, 1.85683671e-02, 1.87916128e-02],\n",
       "       [1.00000000e-01, 8.83084412e-01, 8.17783004e-01],\n",
       "       [1.00000000e+00, 9.85584329e-01, 9.30447501e-01],\n",
       "       [1.00000000e+01, 1.00000000e+00, 9.42338391e-01],\n",
       "       [1.00000000e+02, 1.00000000e+00, 9.38957744e-01],\n",
       "       [1.00000000e+03, 1.00000000e+00, 9.42460349e-01]])"
      ]
     },
     "execution_count": 12,
     "metadata": {},
     "output_type": "execute_result"
    }
   ],
   "source": [
    "train_scores_mean = np.mean(train_scores, axis=1)\n",
    "train_scores_std = np.std(train_scores, axis=1)\n",
    "test_scores_mean = np.mean(test_scores, axis=1)\n",
    "test_scores_std = np.std(test_scores, axis=1)\n",
    "np.c_[param_range, train_scores_mean, test_scores_mean]"
   ]
  },
  {
   "cell_type": "code",
   "execution_count": 13,
   "metadata": {},
   "outputs": [
    {
     "data": {
      "text/plain": [
       "<matplotlib.legend.Legend at 0x7f063580c668>"
      ]
     },
     "execution_count": 13,
     "metadata": {},
     "output_type": "execute_result"
    },
    {
     "data": {
      "image/png": "[encoded data removed]",
      "text/plain": [
       "<matplotlib.figure.Figure at 0x7f0635834b38>"
      ]
     },
     "metadata": {},
     "output_type": "display_data"
    }
   ],
   "source": [
    "plt.title(\"Validation Curve\")\n",
    "plt.xlabel(\"param\")\n",
    "plt.ylabel(\"Score\")\n",
    "plt.ylim(0.0, 1.1)\n",
    "lw = 2\n",
    "plt.semilogx(param_range, train_scores_mean, label=\"Training score\",\n",
    "             color=\"darkorange\", lw=lw)\n",
    "plt.fill_between(param_range, train_scores_mean - train_scores_std,\n",
    "                 train_scores_mean + train_scores_std, alpha=0.2,\n",
    "                 color=\"darkorange\", lw=lw)\n",
    "plt.semilogx(param_range, test_scores_mean, label=\"Cross-validation score\",\n",
    "             color=\"navy\", lw=lw)\n",
    "plt.fill_between(param_range, test_scores_mean - test_scores_std,\n",
    "                 test_scores_mean + test_scores_std, alpha=0.2,\n",
    "                 color=\"navy\", lw=lw)\n",
    "plt.legend(loc=\"best\")"
   ]
  },
  {
   "cell_type": "code",
   "execution_count": 14,
   "metadata": {},
   "outputs": [
    {
     "data": {
      "text/plain": [
       "LogisticRegression(C=1000, class_weight=None, dual=False, fit_intercept=True,\n",
       "          intercept_scaling=1, max_iter=10000, multi_class='multinomial',\n",
       "          n_jobs=None, penalty='l1', random_state=None, solver='saga',\n",
       "          tol=0.0001, verbose=0, warm_start=False)"
      ]
     },
     "execution_count": 14,
     "metadata": {},
     "output_type": "execute_result"
    }
   ],
   "source": [
    "'''test data'''\n",
    "est = LogisticRegression(penalty='l1', multi_class='multinomial', solver='saga', max_iter=10000, C=1000)\n",
    "est.fit(xtrain, np.argmax(ytrain, axis=1))"
   ]
  },
  {
   "cell_type": "code",
   "execution_count": 15,
   "metadata": {
    "collapsed": true
   },
   "outputs": [],
   "source": [
    "pred = est.predict(xtrain)"
   ]
  },
  {
   "cell_type": "code",
   "execution_count": 16,
   "metadata": {},
   "outputs": [
    {
     "name": "stdout",
     "output_type": "stream",
     "text": [
      "F1_SCORE : 1.0\n",
      "              precision    recall  f1-score   support\n",
      "\n",
      "           0       1.00      1.00      1.00        88\n",
      "           1       1.00      1.00      1.00        89\n",
      "           2       1.00      1.00      1.00        91\n",
      "           3       1.00      1.00      1.00        93\n",
      "           4       1.00      1.00      1.00        88\n",
      "           5       1.00      1.00      1.00        91\n",
      "           6       1.00      1.00      1.00        90\n",
      "           7       1.00      1.00      1.00        91\n",
      "           8       1.00      1.00      1.00        86\n",
      "           9       1.00      1.00      1.00        91\n",
      "\n",
      "   micro avg       1.00      1.00      1.00       898\n",
      "   macro avg       1.00      1.00      1.00       898\n",
      "weighted avg       1.00      1.00      1.00       898\n",
      "\n",
      "[[88  0  0  0  0  0  0  0  0  0]\n",
      " [ 0 89  0  0  0  0  0  0  0  0]\n",
      " [ 0  0 91  0  0  0  0  0  0  0]\n",
      " [ 0  0  0 93  0  0  0  0  0  0]\n",
      " [ 0  0  0  0 88  0  0  0  0  0]\n",
      " [ 0  0  0  0  0 91  0  0  0  0]\n",
      " [ 0  0  0  0  0  0 90  0  0  0]\n",
      " [ 0  0  0  0  0  0  0 91  0  0]\n",
      " [ 0  0  0  0  0  0  0  0 86  0]\n",
      " [ 0  0  0  0  0  0  0  0  0 91]]\n"
     ]
    }
   ],
   "source": [
    "print('F1_SCORE :', f1_score(np.argmax(ytrain, axis=1), pred, average='macro'))\n",
    "print(classification_report(np.argmax(ytrain, axis=1), pred))\n",
    "print(confusion_matrix(np.argmax(ytrain, axis=1), pred))"
   ]
  },
  {
   "cell_type": "code",
   "execution_count": 17,
   "metadata": {
    "collapsed": true
   },
   "outputs": [],
   "source": [
    "pred_test = est.predict(xtest)"
   ]
  },
  {
   "cell_type": "code",
   "execution_count": 18,
   "metadata": {},
   "outputs": [
    {
     "name": "stdout",
     "output_type": "stream",
     "text": [
      "F1_SCORE : 0.9621878550656187\n",
      "              precision    recall  f1-score   support\n",
      "\n",
      "           0       1.00      1.00      1.00        90\n",
      "           1       0.94      0.90      0.92        93\n",
      "           2       0.98      1.00      0.99        86\n",
      "           3       0.97      0.99      0.98        90\n",
      "           4       0.99      0.97      0.98        93\n",
      "           5       0.94      0.98      0.96        91\n",
      "           6       1.00      0.98      0.99        91\n",
      "           7       0.97      0.98      0.97        88\n",
      "           8       0.88      0.91      0.89        88\n",
      "           9       0.96      0.92      0.94        89\n",
      "\n",
      "   micro avg       0.96      0.96      0.96       899\n",
      "   macro avg       0.96      0.96      0.96       899\n",
      "weighted avg       0.96      0.96      0.96       899\n",
      "\n",
      "[[90  0  0  0  0  0  0  0  0  0]\n",
      " [ 0 84  2  1  1  1  0  0  4  0]\n",
      " [ 0  0 86  0  0  0  0  0  0  0]\n",
      " [ 0  0  0 89  0  0  0  0  1  0]\n",
      " [ 0  0  0  0 90  0  0  1  0  2]\n",
      " [ 0  0  0  0  0 89  0  1  0  1]\n",
      " [ 0  0  0  0  0  1 89  0  1  0]\n",
      " [ 0  0  0  0  0  1  0 86  1  0]\n",
      " [ 0  5  0  1  0  1  0  1 80  0]\n",
      " [ 0  0  0  1  0  2  0  0  4 82]]\n"
     ]
    }
   ],
   "source": [
    "print('F1_SCORE :', f1_score(np.argmax(yans, axis=1), pred_test, average='macro'))\n",
    "print(classification_report(np.argmax(yans, axis=1), pred_test))\n",
    "print(confusion_matrix(np.argmax(yans, axis=1), pred_test))"
   ]
  },
  {
   "cell_type": "code",
   "execution_count": null,
   "metadata": {
    "collapsed": true
   },
   "outputs": [],
   "source": []
  },
  {
   "cell_type": "markdown",
   "metadata": {},
   "source": [
    "## Bagging + Logit"
   ]
  },
  {
   "cell_type": "code",
   "execution_count": 19,
   "metadata": {
    "collapsed": true
   },
   "outputs": [],
   "source": [
    "from sklearn.ensemble import BaggingClassifier"
   ]
  },
  {
   "cell_type": "code",
   "execution_count": 20,
   "metadata": {
    "collapsed": true
   },
   "outputs": [],
   "source": [
    "clf = BaggingClassifier(\n",
    "    LogisticRegression(penalty='l1', multi_class='multinomial', solver='saga', max_iter=10000, C=1000),\n",
    "    max_samples=0.5,\n",
    "    verbose=2\n",
    ")"
   ]
  },
  {
   "cell_type": "code",
   "execution_count": 21,
   "metadata": {
    "scrolled": false
   },
   "outputs": [
    {
     "name": "stderr",
     "output_type": "stream",
     "text": [
      "[Parallel(n_jobs=1)]: Using backend SequentialBackend with 1 concurrent workers.\n"
     ]
    },
    {
     "name": "stdout",
     "output_type": "stream",
     "text": [
      "Building estimator 1 of 10 for this parallel run (total 10)...\n",
      "Building estimator 2 of 10 for this parallel run (total 10)...\n",
      "Building estimator 3 of 10 for this parallel run (total 10)...\n",
      "Building estimator 4 of 10 for this parallel run (total 10)...\n",
      "Building estimator 5 of 10 for this parallel run (total 10)...\n",
      "Building estimator 6 of 10 for this parallel run (total 10)...\n",
      "Building estimator 7 of 10 for this parallel run (total 10)...\n",
      "Building estimator 8 of 10 for this parallel run (total 10)...\n",
      "Building estimator 9 of 10 for this parallel run (total 10)...\n",
      "Building estimator 10 of 10 for this parallel run (total 10)...\n"
     ]
    },
    {
     "name": "stderr",
     "output_type": "stream",
     "text": [
      "[Parallel(n_jobs=1)]: Done   1 out of   1 | elapsed:  1.2min remaining:    0.0s\n",
      "[Parallel(n_jobs=1)]: Done   1 out of   1 | elapsed:  1.2min finished\n"
     ]
    },
    {
     "data": {
      "text/plain": [
       "BaggingClassifier(base_estimator=LogisticRegression(C=1000, class_weight=None, dual=False, fit_intercept=True,\n",
       "          intercept_scaling=1, max_iter=10000, multi_class='multinomial',\n",
       "          n_jobs=None, penalty='l1', random_state=None, solver='saga',\n",
       "          tol=0.0001, verbose=0, warm_start=False),\n",
       "         bootstrap=True, bootstrap_features=False, max_features=1.0,\n",
       "         max_samples=0.5, n_estimators=10, n_jobs=None, oob_score=False,\n",
       "         random_state=None, verbose=2, warm_start=False)"
      ]
     },
     "execution_count": 21,
     "metadata": {},
     "output_type": "execute_result"
    }
   ],
   "source": [
    "clf.fit(xtrain, np.argmax(ytrain, axis=1))"
   ]
  },
  {
   "cell_type": "code",
   "execution_count": 22,
   "metadata": {},
   "outputs": [
    {
     "name": "stderr",
     "output_type": "stream",
     "text": [
      "[Parallel(n_jobs=1)]: Using backend SequentialBackend with 1 concurrent workers.\n",
      "[Parallel(n_jobs=1)]: Done   1 out of   1 | elapsed:    0.0s remaining:    0.0s\n",
      "[Parallel(n_jobs=1)]: Done   1 out of   1 | elapsed:    0.0s finished\n"
     ]
    }
   ],
   "source": [
    "pred = clf.predict(xtrain)"
   ]
  },
  {
   "cell_type": "code",
   "execution_count": 23,
   "metadata": {},
   "outputs": [
    {
     "name": "stdout",
     "output_type": "stream",
     "text": [
      "F1_SCORE : 0.9854419155239723\n",
      "              precision    recall  f1-score   support\n",
      "\n",
      "           0       1.00      1.00      1.00        88\n",
      "           1       0.97      0.98      0.97        89\n",
      "           2       0.99      0.99      0.99        91\n",
      "           3       1.00      0.98      0.99        93\n",
      "           4       0.99      0.99      0.99        88\n",
      "           5       0.99      0.98      0.98        91\n",
      "           6       0.99      1.00      0.99        90\n",
      "           7       0.99      1.00      0.99        91\n",
      "           8       0.97      0.97      0.97        86\n",
      "           9       0.98      0.98      0.98        91\n",
      "\n",
      "   micro avg       0.99      0.99      0.99       898\n",
      "   macro avg       0.99      0.99      0.99       898\n",
      "weighted avg       0.99      0.99      0.99       898\n",
      "\n",
      "[[88  0  0  0  0  0  0  0  0  0]\n",
      " [ 0 87  0  0  1  0  0  0  0  1]\n",
      " [ 0  1 90  0  0  0  0  0  0  0]\n",
      " [ 0  0  0 91  0  0  0  0  2  0]\n",
      " [ 0  0  0  0 87  0  0  1  0  0]\n",
      " [ 0  0  0  0  0 89  1  0  0  1]\n",
      " [ 0  0  0  0  0  0 90  0  0  0]\n",
      " [ 0  0  0  0  0  0  0 91  0  0]\n",
      " [ 0  1  1  0  0  1  0  0 83  0]\n",
      " [ 0  1  0  0  0  0  0  0  1 89]]\n"
     ]
    }
   ],
   "source": [
    "print('F1_SCORE :', f1_score(np.argmax(ytrain, axis=1), pred, average='macro'))\n",
    "print(classification_report(np.argmax(ytrain, axis=1), pred))\n",
    "print(confusion_matrix(np.argmax(ytrain, axis=1), pred))"
   ]
  },
  {
   "cell_type": "code",
   "execution_count": 24,
   "metadata": {},
   "outputs": [
    {
     "name": "stderr",
     "output_type": "stream",
     "text": [
      "[Parallel(n_jobs=1)]: Using backend SequentialBackend with 1 concurrent workers.\n",
      "[Parallel(n_jobs=1)]: Done   1 out of   1 | elapsed:    0.0s remaining:    0.0s\n",
      "[Parallel(n_jobs=1)]: Done   1 out of   1 | elapsed:    0.0s finished\n"
     ]
    }
   ],
   "source": [
    "pred_test = clf.predict(xtest)"
   ]
  },
  {
   "cell_type": "code",
   "execution_count": 25,
   "metadata": {},
   "outputs": [
    {
     "name": "stdout",
     "output_type": "stream",
     "text": [
      "F1_SCORE : 0.9567136421538119\n",
      "              precision    recall  f1-score   support\n",
      "\n",
      "           0       1.00      1.00      1.00        90\n",
      "           1       0.93      0.96      0.94        93\n",
      "           2       0.99      1.00      0.99        86\n",
      "           3       0.97      0.92      0.94        90\n",
      "           4       1.00      0.97      0.98        93\n",
      "           5       0.97      0.96      0.96        91\n",
      "           6       0.99      0.98      0.98        91\n",
      "           7       0.96      0.97      0.96        88\n",
      "           8       0.86      0.90      0.88        88\n",
      "           9       0.92      0.92      0.92        89\n",
      "\n",
      "   micro avg       0.96      0.96      0.96       899\n",
      "   macro avg       0.96      0.96      0.96       899\n",
      "weighted avg       0.96      0.96      0.96       899\n",
      "\n",
      "[[90  0  0  0  0  0  0  0  0  0]\n",
      " [ 0 89  1  1  0  0  0  0  2  0]\n",
      " [ 0  0 86  0  0  0  0  0  0  0]\n",
      " [ 0  0  0 83  0  0  0  1  6  0]\n",
      " [ 0  0  0  0 90  0  0  1  0  2]\n",
      " [ 0  1  0  0  0 87  0  1  0  2]\n",
      " [ 0  0  0  0  0  1 89  0  1  0]\n",
      " [ 0  0  0  0  0  0  0 85  1  2]\n",
      " [ 0  6  0  0  0  0  1  1 79  1]\n",
      " [ 0  0  0  2  0  2  0  0  3 82]]\n"
     ]
    }
   ],
   "source": [
    "print('F1_SCORE :', f1_score(np.argmax(yans, axis=1), pred_test, average='macro'))\n",
    "print(classification_report(np.argmax(yans, axis=1), pred_test))\n",
    "print(confusion_matrix(np.argmax(yans, axis=1), pred_test))"
   ]
  },
  {
   "cell_type": "code",
   "execution_count": null,
   "metadata": {
    "collapsed": true
   },
   "outputs": [],
   "source": []
  },
  {
   "cell_type": "markdown",
   "metadata": {},
   "source": [
    "## BENCHMARK LGBMClassifier"
   ]
  },
  {
   "cell_type": "code",
   "execution_count": 26,
   "metadata": {},
   "outputs": [
    {
     "data": {
      "text/plain": [
       "3"
      ]
     },
     "execution_count": 26,
     "metadata": {},
     "output_type": "execute_result"
    }
   ],
   "source": [
    "cv_splitter = StratifiedShuffleSplit(n_splits=3, test_size=0.35, random_state=0)\n",
    "cv_splitter.get_n_splits(xtrain, ytrain)"
   ]
  },
  {
   "cell_type": "code",
   "execution_count": 27,
   "metadata": {},
   "outputs": [
    {
     "data": {
      "text/plain": [
       "array([1.e-03, 1.e-02, 1.e-01, 1.e+00, 1.e+01, 1.e+02, 1.e+03])"
      ]
     },
     "execution_count": 27,
     "metadata": {},
     "output_type": "execute_result"
    }
   ],
   "source": [
    "param_name = \"reg_alpha\"\n",
    "param_range = np.logspace(-3, 3, 7)\n",
    "param_range"
   ]
  },
  {
   "cell_type": "code",
   "execution_count": 28,
   "metadata": {},
   "outputs": [
    {
     "name": "stderr",
     "output_type": "stream",
     "text": [
      "[Parallel(n_jobs=1)]: Using backend SequentialBackend with 1 concurrent workers.\n",
      "[Parallel(n_jobs=1)]: Done   1 out of   1 | elapsed:    0.1s remaining:    0.0s\n"
     ]
    },
    {
     "name": "stdout",
     "output_type": "stream",
     "text": [
      "[CV] reg_alpha=0.001 .................................................\n",
      "[CV] .................................. reg_alpha=0.001, total=   0.1s\n",
      "[CV] reg_alpha=0.01 ..................................................\n",
      "[CV] ................................... reg_alpha=0.01, total=   0.0s\n",
      "[CV] reg_alpha=0.1 ...................................................\n",
      "[CV] .................................... reg_alpha=0.1, total=   0.0s\n",
      "[CV] reg_alpha=1.0 ...................................................\n",
      "[CV] .................................... reg_alpha=1.0, total=   0.0s\n",
      "[CV] reg_alpha=10.0 ..................................................\n",
      "[CV] ................................... reg_alpha=10.0, total=   0.0s\n",
      "[CV] reg_alpha=100.0 .................................................\n",
      "[CV] .................................. reg_alpha=100.0, total=   0.0s\n",
      "[CV] reg_alpha=1000.0 ................................................\n",
      "[CV] ................................. reg_alpha=1000.0, total=   0.0s\n",
      "[CV] reg_alpha=0.001 .................................................\n",
      "[CV] .................................. reg_alpha=0.001, total=   0.0s\n",
      "[CV] reg_alpha=0.01 ..................................................\n",
      "[CV] ................................... reg_alpha=0.01, total=   0.0s\n",
      "[CV] reg_alpha=0.1 ...................................................\n",
      "[CV] .................................... reg_alpha=0.1, total=   0.0s\n",
      "[CV] reg_alpha=1.0 ...................................................\n",
      "[CV] .................................... reg_alpha=1.0, total=   0.0s\n",
      "[CV] reg_alpha=10.0 ..................................................\n",
      "[CV] ................................... reg_alpha=10.0, total=   0.0s\n",
      "[CV] reg_alpha=100.0 .................................................\n",
      "[CV] .................................. reg_alpha=100.0, total=   0.0s\n",
      "[CV] reg_alpha=1000.0 ................................................\n",
      "[CV] ................................. reg_alpha=1000.0, total=   0.0s\n",
      "[CV] reg_alpha=0.001 .................................................\n",
      "[CV] .................................. reg_alpha=0.001, total=   0.0s\n",
      "[CV] reg_alpha=0.01 ..................................................\n",
      "[CV] ................................... reg_alpha=0.01, total=   0.0s\n",
      "[CV] reg_alpha=0.1 ...................................................\n",
      "[CV] .................................... reg_alpha=0.1, total=   0.0s\n",
      "[CV] reg_alpha=1.0 ...................................................\n",
      "[CV] .................................... reg_alpha=1.0, total=   0.0s\n",
      "[CV] reg_alpha=10.0 ..................................................\n",
      "[CV] ................................... reg_alpha=10.0, total=   0.0s\n",
      "[CV] reg_alpha=100.0 .................................................\n",
      "[CV] .................................. reg_alpha=100.0, total=   0.0s\n",
      "[CV] reg_alpha=1000.0 ................................................\n",
      "[CV] ................................. reg_alpha=1000.0, total=   0.0s\n",
      "CPU times: user 1.28 s, sys: 275 ms, total: 1.56 s\n",
      "Wall time: 771 ms\n"
     ]
    },
    {
     "name": "stderr",
     "output_type": "stream",
     "text": [
      "[Parallel(n_jobs=1)]: Done  21 out of  21 | elapsed:    0.8s finished\n"
     ]
    }
   ],
   "source": [
    "%%time\n",
    "\n",
    "train_scores, test_scores = validation_curve(\n",
    "    LGBMClassifier(\n",
    "        min_child_samples=20,\n",
    "        reg_alpha=0.1\n",
    "    ),\n",
    "    xtrain, np.argmax(ytrain, axis=1),\n",
    "    param_name=param_name, param_range=param_range,\n",
    "    cv=cv_splitter, n_jobs=1, verbose=2, scoring=f1_scorer)"
   ]
  },
  {
   "cell_type": "code",
   "execution_count": 29,
   "metadata": {},
   "outputs": [
    {
     "data": {
      "text/plain": [
       "array([[1.00000000e-03, 9.55956073e-01, 8.54552386e-01],\n",
       "       [1.00000000e-02, 9.55982579e-01, 8.53570294e-01],\n",
       "       [1.00000000e-01, 9.54834065e-01, 8.54249974e-01],\n",
       "       [1.00000000e+00, 9.41107282e-01, 8.56470400e-01],\n",
       "       [1.00000000e+01, 9.04822161e-01, 8.25580827e-01],\n",
       "       [1.00000000e+02, 1.78125000e-02, 1.79190751e-02],\n",
       "       [1.00000000e+03, 1.78125000e-02, 1.79190751e-02]])"
      ]
     },
     "execution_count": 29,
     "metadata": {},
     "output_type": "execute_result"
    }
   ],
   "source": [
    "train_scores_mean = np.mean(train_scores, axis=1)\n",
    "train_scores_std = np.std(train_scores, axis=1)\n",
    "test_scores_mean = np.mean(test_scores, axis=1)\n",
    "test_scores_std = np.std(test_scores, axis=1)\n",
    "np.c_[param_range, train_scores_mean, test_scores_mean]"
   ]
  },
  {
   "cell_type": "code",
   "execution_count": 30,
   "metadata": {},
   "outputs": [
    {
     "data": {
      "text/plain": [
       "<matplotlib.legend.Legend at 0x7f06340a83c8>"
      ]
     },
     "execution_count": 30,
     "metadata": {},
     "output_type": "execute_result"
    },
    {
     "data": {
      "image/png": "[encoded data removed]",
      "text/plain": [
       "<matplotlib.figure.Figure at 0x7f063416fe80>"
      ]
     },
     "metadata": {},
     "output_type": "display_data"
    }
   ],
   "source": [
    "plt.title(\"Validation Curve\")\n",
    "plt.xlabel(\"param\")\n",
    "plt.ylabel(\"Score\")\n",
    "plt.ylim(0.0, 1.1)\n",
    "lw = 2\n",
    "plt.semilogx(param_range, train_scores_mean, label=\"Training score\",\n",
    "             color=\"darkorange\", lw=lw)\n",
    "plt.fill_between(param_range, train_scores_mean - train_scores_std,\n",
    "                 train_scores_mean + train_scores_std, alpha=0.2,\n",
    "                 color=\"darkorange\", lw=lw)\n",
    "plt.semilogx(param_range, test_scores_mean, label=\"Cross-validation score\",\n",
    "             color=\"navy\", lw=lw)\n",
    "plt.fill_between(param_range, test_scores_mean - test_scores_std,\n",
    "                 test_scores_mean + test_scores_std, alpha=0.2,\n",
    "                 color=\"navy\", lw=lw)\n",
    "plt.legend(loc=\"best\")"
   ]
  },
  {
   "cell_type": "code",
   "execution_count": 31,
   "metadata": {},
   "outputs": [
    {
     "data": {
      "text/plain": [
       "LGBMClassifier(boosting_type='gbdt', colsample_bytree=1, learning_rate=0.1,\n",
       "        max_bin=255, max_depth=-1, min_child_samples=20,\n",
       "        min_child_weight=5, min_split_gain=0, n_estimators=10, nthread=-1,\n",
       "        num_leaves=31, objective='multiclass', reg_alpha=0.1, reg_lambda=0,\n",
       "        seed=0, silent=True, subsample=1, subsample_for_bin=50000,\n",
       "        subsample_freq=1)"
      ]
     },
     "execution_count": 31,
     "metadata": {},
     "output_type": "execute_result"
    }
   ],
   "source": [
    "'''test data'''\n",
    "est = LGBMClassifier(\n",
    "        min_child_samples=20,\n",
    "        reg_alpha=0.1\n",
    "    )\n",
    "est.fit(xtrain, np.argmax(ytrain, axis=1))"
   ]
  },
  {
   "cell_type": "code",
   "execution_count": 32,
   "metadata": {
    "collapsed": true
   },
   "outputs": [],
   "source": [
    "pred = est.predict(xtrain)"
   ]
  },
  {
   "cell_type": "code",
   "execution_count": 33,
   "metadata": {},
   "outputs": [
    {
     "name": "stdout",
     "output_type": "stream",
     "text": [
      "F1_SCORE : 0.9590311774708322\n",
      "              precision    recall  f1-score   support\n",
      "\n",
      "           0       0.98      1.00      0.99        88\n",
      "           1       0.91      0.96      0.93        89\n",
      "           2       0.98      0.99      0.98        91\n",
      "           3       0.92      0.97      0.94        93\n",
      "           4       0.99      0.97      0.98        88\n",
      "           5       0.98      0.95      0.96        91\n",
      "           6       1.00      0.97      0.98        90\n",
      "           7       0.95      0.96      0.95        91\n",
      "           8       0.98      0.94      0.96        86\n",
      "           9       0.92      0.90      0.91        91\n",
      "\n",
      "   micro avg       0.96      0.96      0.96       898\n",
      "   macro avg       0.96      0.96      0.96       898\n",
      "weighted avg       0.96      0.96      0.96       898\n",
      "\n",
      "[[88  0  0  0  0  0  0  0  0  0]\n",
      " [ 0 85  0  2  0  1  0  0  0  1]\n",
      " [ 0  1 90  0  0  0  0  0  0  0]\n",
      " [ 0  1  1 90  0  0  0  1  0  0]\n",
      " [ 1  0  0  0 85  0  0  0  1  1]\n",
      " [ 0  1  0  0  0 86  0  0  0  4]\n",
      " [ 1  2  0  0  0  0 87  0  0  0]\n",
      " [ 0  0  0  1  1  1  0 87  0  1]\n",
      " [ 0  3  1  1  0  0  0  0 81  0]\n",
      " [ 0  0  0  4  0  0  0  4  1 82]]\n"
     ]
    }
   ],
   "source": [
    "print('F1_SCORE :', f1_score(np.argmax(ytrain, axis=1), pred, average='macro'))\n",
    "print(classification_report(np.argmax(ytrain, axis=1), pred))\n",
    "print(confusion_matrix(np.argmax(ytrain, axis=1), pred))"
   ]
  },
  {
   "cell_type": "code",
   "execution_count": 34,
   "metadata": {
    "collapsed": true
   },
   "outputs": [],
   "source": [
    "pred_test = est.predict(xtest)"
   ]
  },
  {
   "cell_type": "code",
   "execution_count": 35,
   "metadata": {},
   "outputs": [
    {
     "name": "stdout",
     "output_type": "stream",
     "text": [
      "F1_SCORE : 0.9003445134291959\n",
      "              precision    recall  f1-score   support\n",
      "\n",
      "           0       0.99      1.00      0.99        90\n",
      "           1       0.91      0.87      0.89        93\n",
      "           2       0.90      0.93      0.91        86\n",
      "           3       0.84      0.87      0.85        90\n",
      "           4       0.97      0.90      0.93        93\n",
      "           5       0.87      0.85      0.86        91\n",
      "           6       0.97      0.92      0.94        91\n",
      "           7       0.92      0.94      0.93        88\n",
      "           8       0.90      0.83      0.86        88\n",
      "           9       0.77      0.89      0.82        89\n",
      "\n",
      "   micro avg       0.90      0.90      0.90       899\n",
      "   macro avg       0.90      0.90      0.90       899\n",
      "weighted avg       0.90      0.90      0.90       899\n",
      "\n",
      "[[90  0  0  0  0  0  0  0  0  0]\n",
      " [ 0 81  2  6  0  1  0  0  0  3]\n",
      " [ 0  0 80  2  0  0  2  0  2  0]\n",
      " [ 0  1  1 78  0  2  1  0  2  5]\n",
      " [ 1  3  0  0 84  2  0  2  1  0]\n",
      " [ 0  1  0  2  1 77  0  1  0  9]\n",
      " [ 0  0  1  0  1  3 84  0  1  1]\n",
      " [ 0  0  0  0  1  1  0 83  1  2]\n",
      " [ 0  1  5  2  0  0  0  3 73  4]\n",
      " [ 0  2  0  3  0  3  0  1  1 79]]\n"
     ]
    }
   ],
   "source": [
    "print('F1_SCORE :', f1_score(np.argmax(yans, axis=1), pred_test, average='macro'))\n",
    "print(classification_report(np.argmax(yans, axis=1), pred_test))\n",
    "print(confusion_matrix(np.argmax(yans, axis=1), pred_test))"
   ]
  },
  {
   "cell_type": "code",
   "execution_count": null,
   "metadata": {
    "collapsed": true
   },
   "outputs": [],
   "source": []
  },
  {
   "cell_type": "code",
   "execution_count": null,
   "metadata": {
    "collapsed": true
   },
   "outputs": [],
   "source": []
  },
  {
   "cell_type": "code",
   "execution_count": 36,
   "metadata": {},
   "outputs": [
    {
     "data": {
      "text/plain": [
       "<keras_ex.gkernel.sklearn.RBFClassifier at 0x7f062e2c3a90>"
      ]
     },
     "execution_count": 36,
     "metadata": {},
     "output_type": "execute_result"
    }
   ],
   "source": [
    "#clf = RBFClassifier(num_lm=3)\n",
    "# clf = RBFClassifier(\n",
    "#     num_lm=3,\n",
    "#     lm=xtrain[:3]\n",
    "# )\n",
    "# clf = RBFClassifier(\n",
    "#     num_lm=50,\n",
    "#     lm=xtrain[:50],\n",
    "#     make_model_gkernel=make_model_gkernel3\n",
    "# )\n",
    "# early_stopping = EarlyStopping(monitor='loss', patience=5, min_delta=0.000, restore_best_weights=True)\n",
    "# clf = RBFClassifier(\n",
    "#     num_lm=3,\n",
    "#     lm=xtrain[np.random.choice(np.arange(xtrain.shape[0]), 3)],\n",
    "# )\n",
    "# clf = RBFClassifier(\n",
    "#     num_lm=10,\n",
    "#     lm=xtrain[:10],\n",
    "#     callbacks=[early_stopping],\n",
    "#     make_model_gkernel=make_model_gkernel3\n",
    "# )\n",
    "# clf = RBFClassifier(\n",
    "#     num_lm=3,\n",
    "#     lm=xtrain[:3],\n",
    "#     make_model_gkernel=make_model_gkernel3,\n",
    "#     activation='sigmoid',\n",
    "#     loss='binary_crossentropy'\n",
    "# )\n",
    "clf = RBFClassifier(\n",
    "    num_lm=10,\n",
    "    lm=xtrain[np.random.choice(np.arange(xtrain.shape[0]), 10)],\n",
    "    reg_l1=0.00,\n",
    "    epochs_warmup=0,\n",
    "    random_state=101\n",
    ")\n",
    "clf"
   ]
  },
  {
   "cell_type": "code",
   "execution_count": 37,
   "metadata": {},
   "outputs": [
    {
     "name": "stderr",
     "output_type": "stream",
     "text": [
      "WARNING: Logging before flag parsing goes to stderr.\n",
      "W1007 21:42:56.165635 139666019788608 deprecation_wrapper.py:119] From /home/admin/miniconda3/envs/da02/lib/python3.6/site-packages/keras/backend/tensorflow_backend.py:95: The name tf.reset_default_graph is deprecated. Please use tf.compat.v1.reset_default_graph instead.\n",
      "\n",
      "W1007 21:42:56.168868 139666019788608 deprecation_wrapper.py:119] From /home/admin/miniconda3/envs/da02/lib/python3.6/site-packages/keras/backend/tensorflow_backend.py:98: The name tf.placeholder_with_default is deprecated. Please use tf.compat.v1.placeholder_with_default instead.\n",
      "\n",
      "W1007 21:42:56.201871 139666019788608 deprecation_wrapper.py:119] From /home/admin/miniconda3/envs/da02/lib/python3.6/site-packages/keras/backend/tensorflow_backend.py:102: The name tf.get_default_graph is deprecated. Please use tf.compat.v1.get_default_graph instead.\n",
      "\n",
      "W1007 21:42:56.202932 139666019788608 deprecation_wrapper.py:119] From /home/admin/miniconda3/envs/da02/lib/python3.6/site-packages/keras/backend/tensorflow_backend.py:517: The name tf.placeholder is deprecated. Please use tf.compat.v1.placeholder instead.\n",
      "\n",
      "W1007 21:42:56.204933 139666019788608 deprecation_wrapper.py:119] From /home/admin/miniconda3/envs/da02/lib/python3.6/site-packages/keras/backend/tensorflow_backend.py:4138: The name tf.random_uniform is deprecated. Please use tf.random.uniform instead.\n",
      "\n",
      "W1007 21:42:56.299540 139666019788608 deprecation_wrapper.py:119] From /home/admin/miniconda3/envs/da02/lib/python3.6/site-packages/keras/optimizers.py:790: The name tf.train.Optimizer is deprecated. Please use tf.compat.v1.train.Optimizer instead.\n",
      "\n",
      "W1007 21:42:56.376857 139666019788608 deprecation.py:323] From /home/admin/miniconda3/envs/da02/lib/python3.6/site-packages/tensorflow/python/ops/math_grad.py:1250: add_dispatch_support.<locals>.wrapper (from tensorflow.python.ops.array_ops) is deprecated and will be removed in a future version.\n",
      "Instructions for updating:\n",
      "Use tf.where in 2.0, which has the same broadcast rule as np.where\n"
     ]
    },
    {
     "name": "stdout",
     "output_type": "stream",
     "text": [
      "CPU times: user 19.2 s, sys: 733 ms, total: 19.9 s\n",
      "Wall time: 13.8 s\n"
     ]
    }
   ],
   "source": [
    "%%time\n",
    "hst = clf.fit(xtrain, ytrain, epochs=500, batch_size=32, verbose=0)"
   ]
  },
  {
   "cell_type": "code",
   "execution_count": 38,
   "metadata": {},
   "outputs": [
    {
     "data": {
      "text/plain": [
       "<matplotlib.legend.Legend at 0x7f05f3e83c88>"
      ]
     },
     "execution_count": 38,
     "metadata": {},
     "output_type": "execute_result"
    },
    {
     "data": {
      "image/png": "[encoded data removed]",
      "text/plain": [
       "<matplotlib.figure.Figure at 0x7f061c0c70f0>"
      ]
     },
     "metadata": {},
     "output_type": "display_data"
    }
   ],
   "source": [
    "fig, ax = plt.subplots(1, 3, figsize=(20,5))\n",
    "ax[0].set_title('loss')\n",
    "ax[0].plot(list(range(len(hst[\"loss\"]))), hst[\"loss\"], label=\"Train loss\")\n",
    "ax[1].set_title('accuracy')\n",
    "ax[1].plot(list(range(len(hst[\"loss\"]))), hst[\"acc\"], label=\"accuracy\")\n",
    "ax[2].set_title('learning rate')\n",
    "ax[2].plot(list(range(len(hst[\"loss\"]))), hst[\"lr\"], label=\"learning rate\")\n",
    "ax[0].legend()\n",
    "ax[1].legend()\n",
    "ax[2].legend()"
   ]
  },
  {
   "cell_type": "code",
   "execution_count": 39,
   "metadata": {},
   "outputs": [
    {
     "data": {
      "text/plain": [
       "(10, array([0, 1, 2, 3, 4, 5, 6, 7, 8, 9]))"
      ]
     },
     "execution_count": 39,
     "metadata": {},
     "output_type": "execute_result"
    }
   ],
   "source": [
    "clf.n_classes_, clf.classes_"
   ]
  },
  {
   "cell_type": "code",
   "execution_count": 40,
   "metadata": {},
   "outputs": [
    {
     "data": {
      "text/plain": [
       "{'callbacks': None,\n",
       " 'epochs_warmup': 0,\n",
       " 'lm': array([[0.    , 0.    , 0.0625, 0.5   , 0.625 , 0.5   , 0.1875, 0.    ,\n",
       "         0.    , 0.    , 0.0625, 1.    , 1.    , 1.    , 0.5   , 0.    ,\n",
       "         0.    , 0.    , 0.    , 0.875 , 1.    , 1.    , 0.1875, 0.    ,\n",
       "         0.    , 0.    , 0.0625, 1.    , 1.    , 0.9375, 0.    , 0.    ,\n",
       "         0.    , 0.    , 0.375 , 1.    , 1.    , 0.625 , 0.    , 0.    ,\n",
       "         0.    , 0.    , 0.625 , 1.    , 0.9375, 0.25  , 0.    , 0.    ,\n",
       "         0.    , 0.    , 0.5   , 1.    , 0.875 , 0.    , 0.    , 0.    ,\n",
       "         0.    , 0.    , 0.0625, 0.5   , 0.5   , 0.0625, 0.    , 0.    ],\n",
       "        [0.    , 0.    , 0.0625, 0.6875, 0.75  , 0.8125, 0.875 , 0.3125,\n",
       "         0.    , 0.    , 0.4375, 0.9375, 0.6875, 0.625 , 1.    , 0.375 ,\n",
       "         0.    , 0.    , 0.625 , 0.4375, 0.    , 0.125 , 1.    , 0.125 ,\n",
       "         0.    , 0.0625, 1.    , 0.0625, 0.    , 0.75  , 0.5   , 0.    ,\n",
       "         0.    , 0.125 , 0.6875, 0.    , 0.25  , 0.875 , 0.0625, 0.    ,\n",
       "         0.    , 0.    , 0.    , 0.0625, 0.875 , 0.25  , 0.    , 0.    ,\n",
       "         0.    , 0.    , 0.    , 0.5   , 0.875 , 0.    , 0.    , 0.    ,\n",
       "         0.    , 0.    , 0.    , 0.9375, 0.4375, 0.    , 0.    , 0.    ],\n",
       "        [0.    , 0.    , 0.375 , 0.8125, 0.9375, 1.    , 0.6875, 0.    ,\n",
       "         0.    , 0.    , 0.625 , 0.6875, 0.5   , 0.5   , 0.3125, 0.    ,\n",
       "         0.    , 0.125 , 0.8125, 0.    , 0.    , 0.    , 0.    , 0.    ,\n",
       "         0.    , 0.25  , 0.6875, 0.4375, 0.5   , 0.3125, 0.    , 0.    ,\n",
       "         0.    , 0.4375, 1.    , 0.875 , 0.625 , 0.875 , 0.125 , 0.    ,\n",
       "         0.    , 0.0625, 0.4375, 0.0625, 0.125 , 0.75  , 0.1875, 0.    ,\n",
       "         0.    , 0.    , 0.3125, 0.5   , 0.875 , 0.375 , 0.    , 0.    ,\n",
       "         0.    , 0.    , 0.5   , 0.75  , 0.3125, 0.    , 0.    , 0.    ],\n",
       "        [0.    , 0.    , 0.125 , 0.8125, 0.5   , 0.    , 0.    , 0.    ,\n",
       "         0.    , 0.    , 0.375 , 1.    , 1.    , 0.375 , 0.    , 0.    ,\n",
       "         0.    , 0.    , 0.3125, 0.9375, 0.8125, 0.6875, 0.    , 0.    ,\n",
       "         0.    , 0.    , 0.    , 0.4375, 1.    , 0.9375, 0.    , 0.    ,\n",
       "         0.    , 0.    , 0.    , 0.    , 0.    , 0.875 , 0.1875, 0.    ,\n",
       "         0.    , 0.    , 0.    , 0.    , 0.    , 0.4375, 0.6875, 0.    ,\n",
       "         0.    , 0.    , 0.    , 0.1875, 0.25  , 0.25  , 1.    , 0.125 ,\n",
       "         0.    , 0.    , 0.125 , 0.9375, 0.8125, 0.875 , 0.8125, 0.125 ],\n",
       "        [0.    , 0.    , 0.4375, 0.9375, 1.    , 0.9375, 0.    , 0.    ,\n",
       "         0.    , 0.125 , 0.9375, 0.125 , 0.3125, 1.    , 0.0625, 0.    ,\n",
       "         0.    , 0.    , 0.    , 0.    , 0.625 , 0.8125, 0.    , 0.    ,\n",
       "         0.    , 0.    , 0.    , 0.1875, 0.875 , 0.6875, 0.125 , 0.    ,\n",
       "         0.    , 0.    , 0.375 , 1.    , 1.    , 1.    , 0.5   , 0.    ,\n",
       "         0.    , 0.    , 0.3125, 0.8125, 0.4375, 0.    , 0.    , 0.    ,\n",
       "         0.    , 0.    , 0.1875, 0.9375, 0.0625, 0.    , 0.    , 0.    ,\n",
       "         0.    , 0.    , 0.625 , 0.75  , 0.    , 0.    , 0.    , 0.    ],\n",
       "        [0.    , 0.3125, 1.    , 0.9375, 0.3125, 0.    , 0.    , 0.    ,\n",
       "         0.    , 0.125 , 0.75  , 0.9375, 1.    , 0.    , 0.    , 0.    ,\n",
       "         0.    , 0.    , 0.    , 0.875 , 0.875 , 0.125 , 0.    , 0.    ,\n",
       "         0.    , 0.    , 0.125 , 1.    , 0.5625, 0.    , 0.    , 0.    ,\n",
       "         0.    , 0.    , 0.6875, 1.    , 0.125 , 0.    , 0.    , 0.    ,\n",
       "         0.    , 0.25  , 1.    , 0.5   , 0.    , 0.    , 0.    , 0.    ,\n",
       "         0.    , 0.8125, 1.    , 0.6875, 0.5   , 0.5   , 0.1875, 0.    ,\n",
       "         0.    , 0.375 , 1.    , 1.    , 1.    , 1.    , 0.4375, 0.    ],\n",
       "        [0.    , 0.    , 0.5   , 0.8125, 0.6875, 0.0625, 0.    , 0.    ,\n",
       "         0.    , 0.25  , 0.9375, 0.3125, 0.75  , 0.375 , 0.    , 0.    ,\n",
       "         0.    , 0.    , 0.    , 0.    , 0.625 , 0.25  , 0.    , 0.    ,\n",
       "         0.    , 0.    , 0.    , 0.375 , 1.    , 0.25  , 0.    , 0.    ,\n",
       "         0.    , 0.    , 0.    , 0.3125, 0.8125, 0.9375, 0.1875, 0.    ,\n",
       "         0.    , 0.    , 0.0625, 0.    , 0.    , 0.4375, 0.75  , 0.    ,\n",
       "         0.    , 0.0625, 0.9375, 0.5   , 0.4375, 0.75  , 0.75  , 0.    ,\n",
       "         0.    , 0.    , 0.375 , 0.875 , 1.    , 0.9375, 0.3125, 0.    ],\n",
       "        [0.    , 0.    , 0.4375, 0.75  , 0.9375, 0.375 , 0.    , 0.    ,\n",
       "         0.    , 0.875 , 1.    , 0.9375, 0.375 , 0.    , 0.    , 0.    ,\n",
       "         0.    , 1.    , 1.    , 0.8125, 0.    , 0.    , 0.    , 0.    ,\n",
       "         0.    , 0.625 , 1.    , 0.875 , 0.5   , 0.    , 0.    , 0.    ,\n",
       "         0.    , 0.    , 0.125 , 0.5   , 0.8125, 0.    , 0.    , 0.    ,\n",
       "         0.    , 0.    , 0.    , 0.625 , 0.9375, 0.    , 0.    , 0.    ,\n",
       "         0.    , 0.    , 0.25  , 0.8125, 0.9375, 0.    , 0.    , 0.    ,\n",
       "         0.    , 0.    , 0.4375, 1.    , 0.4375, 0.    , 0.    , 0.    ],\n",
       "        [0.    , 0.    , 0.375 , 0.75  , 0.8125, 0.75  , 0.    , 0.    ,\n",
       "         0.    , 0.    , 0.875 , 0.75  , 0.4375, 1.    , 0.0625, 0.    ,\n",
       "         0.    , 0.    , 0.375 , 0.375 , 0.875 , 0.5625, 0.    , 0.    ,\n",
       "         0.    , 0.    , 0.    , 0.875 , 0.6875, 0.0625, 0.    , 0.    ,\n",
       "         0.    , 0.    , 0.    , 0.3125, 1.    , 0.3125, 0.    , 0.    ,\n",
       "         0.    , 0.    , 0.    , 0.    , 0.375 , 0.875 , 0.0625, 0.    ,\n",
       "         0.    , 0.    , 0.625 , 0.5   , 0.1875, 1.    , 0.0625, 0.    ,\n",
       "         0.    , 0.    , 0.25  , 0.875 , 1.    , 0.75  , 0.    , 0.    ],\n",
       "        [0.    , 0.1875, 0.9375, 1.    , 0.375 , 0.    , 0.    , 0.    ,\n",
       "         0.    , 0.6875, 0.9375, 0.75  , 0.9375, 0.    , 0.    , 0.    ,\n",
       "         0.    , 0.125 , 0.125 , 0.125 , 1.    , 0.25  , 0.    , 0.    ,\n",
       "         0.    , 0.    , 0.    , 0.    , 1.    , 0.25  , 0.    , 0.    ,\n",
       "         0.    , 0.    , 0.    , 0.3125, 1.    , 0.0625, 0.    , 0.    ,\n",
       "         0.    , 0.    , 0.    , 0.6875, 0.9375, 0.25  , 0.0625, 0.    ,\n",
       "         0.    , 0.0625, 0.625 , 1.    , 1.    , 1.    , 0.6875, 0.    ,\n",
       "         0.    , 0.25  , 1.    , 0.875 , 0.75  , 0.5   , 0.1875, 0.    ]]),\n",
       " 'loss': None,\n",
       " 'lr': None,\n",
       " 'nn': None,\n",
       " 'num_cls': 10,\n",
       " 'num_lm': 10,\n",
       " 'random_state': 101,\n",
       " 'reg_l1': 0.0}"
      ]
     },
     "execution_count": 40,
     "metadata": {},
     "output_type": "execute_result"
    }
   ],
   "source": [
    "clf.sk_params"
   ]
  },
  {
   "cell_type": "code",
   "execution_count": 41,
   "metadata": {},
   "outputs": [
    {
     "data": {
      "text/plain": [
       "{'build_fn': <function keras_ex.gkernel.sklearn.make_model>,\n",
       " 'classes_': array([0, 1, 2, 3, 4, 5, 6, 7, 8, 9]),\n",
       " 'model': <keras.engine.training.Model at 0x7f062c1841d0>,\n",
       " 'n_classes_': 10,\n",
       " 'sk_params': {'callbacks': None,\n",
       "  'epochs_warmup': 0,\n",
       "  'lm': array([[0.    , 0.    , 0.0625, 0.5   , 0.625 , 0.5   , 0.1875, 0.    ,\n",
       "          0.    , 0.    , 0.0625, 1.    , 1.    , 1.    , 0.5   , 0.    ,\n",
       "          0.    , 0.    , 0.    , 0.875 , 1.    , 1.    , 0.1875, 0.    ,\n",
       "          0.    , 0.    , 0.0625, 1.    , 1.    , 0.9375, 0.    , 0.    ,\n",
       "          0.    , 0.    , 0.375 , 1.    , 1.    , 0.625 , 0.    , 0.    ,\n",
       "          0.    , 0.    , 0.625 , 1.    , 0.9375, 0.25  , 0.    , 0.    ,\n",
       "          0.    , 0.    , 0.5   , 1.    , 0.875 , 0.    , 0.    , 0.    ,\n",
       "          0.    , 0.    , 0.0625, 0.5   , 0.5   , 0.0625, 0.    , 0.    ],\n",
       "         [0.    , 0.    , 0.0625, 0.6875, 0.75  , 0.8125, 0.875 , 0.3125,\n",
       "          0.    , 0.    , 0.4375, 0.9375, 0.6875, 0.625 , 1.    , 0.375 ,\n",
       "          0.    , 0.    , 0.625 , 0.4375, 0.    , 0.125 , 1.    , 0.125 ,\n",
       "          0.    , 0.0625, 1.    , 0.0625, 0.    , 0.75  , 0.5   , 0.    ,\n",
       "          0.    , 0.125 , 0.6875, 0.    , 0.25  , 0.875 , 0.0625, 0.    ,\n",
       "          0.    , 0.    , 0.    , 0.0625, 0.875 , 0.25  , 0.    , 0.    ,\n",
       "          0.    , 0.    , 0.    , 0.5   , 0.875 , 0.    , 0.    , 0.    ,\n",
       "          0.    , 0.    , 0.    , 0.9375, 0.4375, 0.    , 0.    , 0.    ],\n",
       "         [0.    , 0.    , 0.375 , 0.8125, 0.9375, 1.    , 0.6875, 0.    ,\n",
       "          0.    , 0.    , 0.625 , 0.6875, 0.5   , 0.5   , 0.3125, 0.    ,\n",
       "          0.    , 0.125 , 0.8125, 0.    , 0.    , 0.    , 0.    , 0.    ,\n",
       "          0.    , 0.25  , 0.6875, 0.4375, 0.5   , 0.3125, 0.    , 0.    ,\n",
       "          0.    , 0.4375, 1.    , 0.875 , 0.625 , 0.875 , 0.125 , 0.    ,\n",
       "          0.    , 0.0625, 0.4375, 0.0625, 0.125 , 0.75  , 0.1875, 0.    ,\n",
       "          0.    , 0.    , 0.3125, 0.5   , 0.875 , 0.375 , 0.    , 0.    ,\n",
       "          0.    , 0.    , 0.5   , 0.75  , 0.3125, 0.    , 0.    , 0.    ],\n",
       "         [0.    , 0.    , 0.125 , 0.8125, 0.5   , 0.    , 0.    , 0.    ,\n",
       "          0.    , 0.    , 0.375 , 1.    , 1.    , 0.375 , 0.    , 0.    ,\n",
       "          0.    , 0.    , 0.3125, 0.9375, 0.8125, 0.6875, 0.    , 0.    ,\n",
       "          0.    , 0.    , 0.    , 0.4375, 1.    , 0.9375, 0.    , 0.    ,\n",
       "          0.    , 0.    , 0.    , 0.    , 0.    , 0.875 , 0.1875, 0.    ,\n",
       "          0.    , 0.    , 0.    , 0.    , 0.    , 0.4375, 0.6875, 0.    ,\n",
       "          0.    , 0.    , 0.    , 0.1875, 0.25  , 0.25  , 1.    , 0.125 ,\n",
       "          0.    , 0.    , 0.125 , 0.9375, 0.8125, 0.875 , 0.8125, 0.125 ],\n",
       "         [0.    , 0.    , 0.4375, 0.9375, 1.    , 0.9375, 0.    , 0.    ,\n",
       "          0.    , 0.125 , 0.9375, 0.125 , 0.3125, 1.    , 0.0625, 0.    ,\n",
       "          0.    , 0.    , 0.    , 0.    , 0.625 , 0.8125, 0.    , 0.    ,\n",
       "          0.    , 0.    , 0.    , 0.1875, 0.875 , 0.6875, 0.125 , 0.    ,\n",
       "          0.    , 0.    , 0.375 , 1.    , 1.    , 1.    , 0.5   , 0.    ,\n",
       "          0.    , 0.    , 0.3125, 0.8125, 0.4375, 0.    , 0.    , 0.    ,\n",
       "          0.    , 0.    , 0.1875, 0.9375, 0.0625, 0.    , 0.    , 0.    ,\n",
       "          0.    , 0.    , 0.625 , 0.75  , 0.    , 0.    , 0.    , 0.    ],\n",
       "         [0.    , 0.3125, 1.    , 0.9375, 0.3125, 0.    , 0.    , 0.    ,\n",
       "          0.    , 0.125 , 0.75  , 0.9375, 1.    , 0.    , 0.    , 0.    ,\n",
       "          0.    , 0.    , 0.    , 0.875 , 0.875 , 0.125 , 0.    , 0.    ,\n",
       "          0.    , 0.    , 0.125 , 1.    , 0.5625, 0.    , 0.    , 0.    ,\n",
       "          0.    , 0.    , 0.6875, 1.    , 0.125 , 0.    , 0.    , 0.    ,\n",
       "          0.    , 0.25  , 1.    , 0.5   , 0.    , 0.    , 0.    , 0.    ,\n",
       "          0.    , 0.8125, 1.    , 0.6875, 0.5   , 0.5   , 0.1875, 0.    ,\n",
       "          0.    , 0.375 , 1.    , 1.    , 1.    , 1.    , 0.4375, 0.    ],\n",
       "         [0.    , 0.    , 0.5   , 0.8125, 0.6875, 0.0625, 0.    , 0.    ,\n",
       "          0.    , 0.25  , 0.9375, 0.3125, 0.75  , 0.375 , 0.    , 0.    ,\n",
       "          0.    , 0.    , 0.    , 0.    , 0.625 , 0.25  , 0.    , 0.    ,\n",
       "          0.    , 0.    , 0.    , 0.375 , 1.    , 0.25  , 0.    , 0.    ,\n",
       "          0.    , 0.    , 0.    , 0.3125, 0.8125, 0.9375, 0.1875, 0.    ,\n",
       "          0.    , 0.    , 0.0625, 0.    , 0.    , 0.4375, 0.75  , 0.    ,\n",
       "          0.    , 0.0625, 0.9375, 0.5   , 0.4375, 0.75  , 0.75  , 0.    ,\n",
       "          0.    , 0.    , 0.375 , 0.875 , 1.    , 0.9375, 0.3125, 0.    ],\n",
       "         [0.    , 0.    , 0.4375, 0.75  , 0.9375, 0.375 , 0.    , 0.    ,\n",
       "          0.    , 0.875 , 1.    , 0.9375, 0.375 , 0.    , 0.    , 0.    ,\n",
       "          0.    , 1.    , 1.    , 0.8125, 0.    , 0.    , 0.    , 0.    ,\n",
       "          0.    , 0.625 , 1.    , 0.875 , 0.5   , 0.    , 0.    , 0.    ,\n",
       "          0.    , 0.    , 0.125 , 0.5   , 0.8125, 0.    , 0.    , 0.    ,\n",
       "          0.    , 0.    , 0.    , 0.625 , 0.9375, 0.    , 0.    , 0.    ,\n",
       "          0.    , 0.    , 0.25  , 0.8125, 0.9375, 0.    , 0.    , 0.    ,\n",
       "          0.    , 0.    , 0.4375, 1.    , 0.4375, 0.    , 0.    , 0.    ],\n",
       "         [0.    , 0.    , 0.375 , 0.75  , 0.8125, 0.75  , 0.    , 0.    ,\n",
       "          0.    , 0.    , 0.875 , 0.75  , 0.4375, 1.    , 0.0625, 0.    ,\n",
       "          0.    , 0.    , 0.375 , 0.375 , 0.875 , 0.5625, 0.    , 0.    ,\n",
       "          0.    , 0.    , 0.    , 0.875 , 0.6875, 0.0625, 0.    , 0.    ,\n",
       "          0.    , 0.    , 0.    , 0.3125, 1.    , 0.3125, 0.    , 0.    ,\n",
       "          0.    , 0.    , 0.    , 0.    , 0.375 , 0.875 , 0.0625, 0.    ,\n",
       "          0.    , 0.    , 0.625 , 0.5   , 0.1875, 1.    , 0.0625, 0.    ,\n",
       "          0.    , 0.    , 0.25  , 0.875 , 1.    , 0.75  , 0.    , 0.    ],\n",
       "         [0.    , 0.1875, 0.9375, 1.    , 0.375 , 0.    , 0.    , 0.    ,\n",
       "          0.    , 0.6875, 0.9375, 0.75  , 0.9375, 0.    , 0.    , 0.    ,\n",
       "          0.    , 0.125 , 0.125 , 0.125 , 1.    , 0.25  , 0.    , 0.    ,\n",
       "          0.    , 0.    , 0.    , 0.    , 1.    , 0.25  , 0.    , 0.    ,\n",
       "          0.    , 0.    , 0.    , 0.3125, 1.    , 0.0625, 0.    , 0.    ,\n",
       "          0.    , 0.    , 0.    , 0.6875, 0.9375, 0.25  , 0.0625, 0.    ,\n",
       "          0.    , 0.0625, 0.625 , 1.    , 1.    , 1.    , 0.6875, 0.    ,\n",
       "          0.    , 0.25  , 1.    , 0.875 , 0.75  , 0.5   , 0.1875, 0.    ]]),\n",
       "  'loss': None,\n",
       "  'lr': None,\n",
       "  'nn': None,\n",
       "  'num_cls': 10,\n",
       "  'num_lm': 10,\n",
       "  'random_state': 101,\n",
       "  'reg_l1': 0.0}}"
      ]
     },
     "execution_count": 41,
     "metadata": {},
     "output_type": "execute_result"
    }
   ],
   "source": [
    "clf.__dict__"
   ]
  },
  {
   "cell_type": "code",
   "execution_count": 42,
   "metadata": {},
   "outputs": [
    {
     "data": {
      "text/plain": [
       "0.12742019"
      ]
     },
     "execution_count": 42,
     "metadata": {},
     "output_type": "execute_result"
    }
   ],
   "source": [
    "clf.current_gamma()"
   ]
  },
  {
   "cell_type": "code",
   "execution_count": 43,
   "metadata": {},
   "outputs": [
    {
     "data": {
      "text/plain": [
       "array([1, 3, 9, 7, 9, 1, 3, 5, 7, 9])"
      ]
     },
     "execution_count": 43,
     "metadata": {},
     "output_type": "execute_result"
    }
   ],
   "source": [
    "clf.predict(xtrain)[:10]"
   ]
  },
  {
   "cell_type": "code",
   "execution_count": 44,
   "metadata": {},
   "outputs": [
    {
     "data": {
      "text/plain": [
       "array([[9.1468138e-01, 8.4039311e-06, 4.5567128e-04, 5.3453882e-04,\n",
       "        2.8018944e-04, 1.3812830e-02, 7.8249857e-04, 6.9661706e-04,\n",
       "        1.3504312e-03, 6.7397468e-02],\n",
       "       [5.2176820e-06, 9.2692792e-01, 2.0529335e-02, 4.8422485e-04,\n",
       "        2.9939795e-03, 3.7233619e-08, 1.8616182e-03, 1.5215502e-03,\n",
       "        4.4759486e-02, 9.1653474e-04],\n",
       "       [2.7924698e-02, 7.6123573e-02, 3.4091123e-03, 4.7665995e-05,\n",
       "        7.5403070e-01, 8.1517865e-05, 1.1626248e-01, 8.2886247e-03,\n",
       "        3.6873883e-03, 1.0144264e-02],\n",
       "       [5.6063343e-02, 2.1960810e-01, 4.5373552e-03, 9.9652592e-05,\n",
       "        2.9640762e-02, 3.1068806e-02, 5.6633246e-01, 8.5504587e-05,\n",
       "        8.8009812e-02, 4.5541101e-03],\n",
       "       [2.1709709e-03, 4.8946593e-02, 6.8427406e-02, 3.4107003e-02,\n",
       "        3.3180770e-06, 6.9332928e-05, 6.0126297e-03, 3.3549572e-05,\n",
       "        8.3518708e-01, 5.0421739e-03]], dtype=float32)"
      ]
     },
     "execution_count": 44,
     "metadata": {},
     "output_type": "execute_result"
    }
   ],
   "source": [
    "clf.predict_proba(xtest)[:5]"
   ]
  },
  {
   "cell_type": "code",
   "execution_count": 45,
   "metadata": {},
   "outputs": [
    {
     "name": "stdout",
     "output_type": "stream",
     "text": [
      "898/898 [==============================] - 0s 167us/step\n"
     ]
    },
    {
     "data": {
      "text/plain": [
       "0.8819599109131403"
      ]
     },
     "execution_count": 45,
     "metadata": {},
     "output_type": "execute_result"
    }
   ],
   "source": [
    "clf.score(xtrain, ytrain)"
   ]
  },
  {
   "cell_type": "code",
   "execution_count": 46,
   "metadata": {},
   "outputs": [
    {
     "name": "stdout",
     "output_type": "stream",
     "text": [
      "899/899 [==============================] - 0s 24us/step\n"
     ]
    },
    {
     "data": {
      "text/plain": [
       "0.8654060067403834"
      ]
     },
     "execution_count": 46,
     "metadata": {},
     "output_type": "execute_result"
    }
   ],
   "source": [
    "clf.score(xtest, yans)"
   ]
  },
  {
   "cell_type": "code",
   "execution_count": 47,
   "metadata": {},
   "outputs": [
    {
     "name": "stdout",
     "output_type": "stream",
     "text": [
      "F1_SCORE : 0.8812734028165995\n",
      "              precision    recall  f1-score   support\n",
      "\n",
      "           0       0.90      0.90      0.90        88\n",
      "           1       0.83      0.90      0.86        89\n",
      "           2       0.89      0.88      0.88        91\n",
      "           3       0.87      0.84      0.85        93\n",
      "           4       0.92      0.94      0.93        88\n",
      "           5       0.97      0.93      0.95        91\n",
      "           6       0.88      0.93      0.91        90\n",
      "           7       0.96      0.98      0.97        91\n",
      "           8       0.85      0.74      0.80        86\n",
      "           9       0.75      0.77      0.76        91\n",
      "\n",
      "   micro avg       0.88      0.88      0.88       898\n",
      "   macro avg       0.88      0.88      0.88       898\n",
      "weighted avg       0.88      0.88      0.88       898\n",
      "\n",
      "[[79  0  0  0  3  2  3  0  0  1]\n",
      " [ 0 80  2  0  0  0  1  0  2  4]\n",
      " [ 0  4 80  3  0  0  1  1  2  0]\n",
      " [ 0  0  3 78  0  0  0  1  3  8]\n",
      " [ 1  1  1  0 83  0  2  0  0  0]\n",
      " [ 1  0  0  0  1 85  1  0  0  3]\n",
      " [ 1  3  0  0  0  1 84  0  1  0]\n",
      " [ 0  0  0  0  0  0  1 89  0  1]\n",
      " [ 0  7  4  1  2  0  1  1 64  6]\n",
      " [ 6  1  0  8  1  0  1  1  3 70]]\n"
     ]
    }
   ],
   "source": [
    "print('F1_SCORE :', f1_score(np.argmax(ytrain,axis=1), clf.predict(xtrain), average='macro'))\n",
    "print(classification_report(np.argmax(ytrain,axis=1), clf.predict(xtrain)))\n",
    "print(confusion_matrix(np.argmax(ytrain,axis=1), clf.predict(xtrain)))"
   ]
  },
  {
   "cell_type": "code",
   "execution_count": 48,
   "metadata": {},
   "outputs": [
    {
     "name": "stdout",
     "output_type": "stream",
     "text": [
      "F1_SCORE : 0.8655623578311538\n",
      "              precision    recall  f1-score   support\n",
      "\n",
      "           0       0.91      0.94      0.93        90\n",
      "           1       0.83      0.90      0.87        93\n",
      "           2       0.94      0.84      0.88        86\n",
      "           3       0.86      0.82      0.84        90\n",
      "           4       0.92      0.86      0.89        93\n",
      "           5       0.88      0.89      0.89        91\n",
      "           6       0.94      0.90      0.92        91\n",
      "           7       0.91      0.95      0.93        88\n",
      "           8       0.77      0.78      0.78        88\n",
      "           9       0.71      0.75      0.73        89\n",
      "\n",
      "   micro avg       0.87      0.87      0.87       899\n",
      "   macro avg       0.87      0.86      0.87       899\n",
      "weighted avg       0.87      0.87      0.87       899\n",
      "\n",
      "[[85  0  0  0  3  0  1  0  0  1]\n",
      " [ 0 84  0  0  1  1  1  0  1  5]\n",
      " [ 0  2 72  1  0  0  1  1  4  5]\n",
      " [ 0  0  0 74  0  0  0  2 10  4]\n",
      " [ 1  5  0  0 80  1  1  4  1  0]\n",
      " [ 2  0  0  0  0 81  1  0  2  5]\n",
      " [ 3  2  0  0  1  3 82  0  0  0]\n",
      " [ 0  0  2  0  0  0  0 84  1  1]\n",
      " [ 0  8  3  0  0  1  0  1 69  6]\n",
      " [ 2  0  0 11  2  5  0  0  2 67]]\n"
     ]
    }
   ],
   "source": [
    "print('F1_SCORE :', f1_score(np.argmax(yans,axis=1), clf.predict(xtest), average='macro'))\n",
    "print(classification_report(np.argmax(yans,axis=1), clf.predict(xtest)))\n",
    "print(confusion_matrix(np.argmax(yans,axis=1), clf.predict(xtest)))"
   ]
  },
  {
   "cell_type": "code",
   "execution_count": null,
   "metadata": {
    "collapsed": true
   },
   "outputs": [],
   "source": []
  },
  {
   "cell_type": "code",
   "execution_count": 49,
   "metadata": {},
   "outputs": [
    {
     "data": {
      "text/plain": [
       "3"
      ]
     },
     "execution_count": 49,
     "metadata": {},
     "output_type": "execute_result"
    }
   ],
   "source": [
    "cv_splitter = StratifiedShuffleSplit(n_splits=3, test_size=0.35, random_state=0)\n",
    "cv_splitter.get_n_splits(xtrain, ytrain)"
   ]
  },
  {
   "cell_type": "code",
   "execution_count": 50,
   "metadata": {},
   "outputs": [
    {
     "data": {
      "text/plain": [
       "[2, 5, 10, 20, 50, 100, 150, 200, 250, 300]"
      ]
     },
     "execution_count": 50,
     "metadata": {},
     "output_type": "execute_result"
    }
   ],
   "source": [
    "param_name = \"num_lm\"\n",
    "param_range = [2, 5, 10, 20, 50, 100, 150, 200, 250, 300]\n",
    "param_range"
   ]
  },
  {
   "cell_type": "code",
   "execution_count": 51,
   "metadata": {},
   "outputs": [
    {
     "name": "stderr",
     "output_type": "stream",
     "text": [
      "[Parallel(n_jobs=1)]: Using backend SequentialBackend with 1 concurrent workers.\n"
     ]
    },
    {
     "name": "stdout",
     "output_type": "stream",
     "text": [
      "[CV] num_lm=2 ........................................................\n",
      "[CV] ......................................... num_lm=2, total=   5.1s\n",
      "[CV] num_lm=5 ........................................................\n"
     ]
    },
    {
     "name": "stderr",
     "output_type": "stream",
     "text": [
      "[Parallel(n_jobs=1)]: Done   1 out of   1 | elapsed:    5.2s remaining:    0.0s\n"
     ]
    },
    {
     "name": "stdout",
     "output_type": "stream",
     "text": [
      "[CV] ......................................... num_lm=5, total=   8.0s\n",
      "[CV] num_lm=10 .......................................................\n",
      "[CV] ........................................ num_lm=10, total=  13.4s\n",
      "[CV] num_lm=20 .......................................................\n",
      "[CV] ........................................ num_lm=20, total=  14.4s\n",
      "[CV] num_lm=50 .......................................................\n",
      "[CV] ........................................ num_lm=50, total=   6.3s\n",
      "[CV] num_lm=100 ......................................................\n",
      "[CV] ....................................... num_lm=100, total=   5.9s\n",
      "[CV] num_lm=150 ......................................................\n",
      "[CV] ....................................... num_lm=150, total=   5.8s\n",
      "[CV] num_lm=200 ......................................................\n",
      "[CV] ....................................... num_lm=200, total=   6.3s\n",
      "[CV] num_lm=250 ......................................................\n",
      "[CV] ....................................... num_lm=250, total=   7.4s\n",
      "[CV] num_lm=300 ......................................................\n",
      "[CV] ....................................... num_lm=300, total=   7.9s\n",
      "[CV] num_lm=2 ........................................................\n",
      "[CV] ......................................... num_lm=2, total=   4.3s\n",
      "[CV] num_lm=5 ........................................................\n",
      "[CV] ......................................... num_lm=5, total=   9.5s\n",
      "[CV] num_lm=10 .......................................................\n",
      "[CV] ........................................ num_lm=10, total=  11.4s\n",
      "[CV] num_lm=20 .......................................................\n",
      "[CV] ........................................ num_lm=20, total=  13.4s\n",
      "[CV] num_lm=50 .......................................................\n",
      "[CV] ........................................ num_lm=50, total=   8.1s\n",
      "[CV] num_lm=100 ......................................................\n",
      "[CV] ....................................... num_lm=100, total=   5.6s\n",
      "[CV] num_lm=150 ......................................................\n",
      "[CV] ....................................... num_lm=150, total=   6.3s\n",
      "[CV] num_lm=200 ......................................................\n",
      "[CV] ....................................... num_lm=200, total=   7.1s\n",
      "[CV] num_lm=250 ......................................................\n",
      "[CV] ....................................... num_lm=250, total=   8.2s\n",
      "[CV] num_lm=300 ......................................................\n",
      "[CV] ....................................... num_lm=300, total=   8.9s\n",
      "[CV] num_lm=2 ........................................................\n",
      "[CV] ......................................... num_lm=2, total=   8.6s\n",
      "[CV] num_lm=5 ........................................................\n",
      "[CV] ......................................... num_lm=5, total=  11.8s\n",
      "[CV] num_lm=10 .......................................................\n",
      "[CV] ........................................ num_lm=10, total=  11.2s\n",
      "[CV] num_lm=20 .......................................................\n",
      "[CV] ........................................ num_lm=20, total=  13.8s\n",
      "[CV] num_lm=50 .......................................................\n",
      "[CV] ........................................ num_lm=50, total=  11.2s\n",
      "[CV] num_lm=100 ......................................................\n",
      "[CV] ....................................... num_lm=100, total=   5.7s\n",
      "[CV] num_lm=150 ......................................................\n",
      "[CV] ....................................... num_lm=150, total=   8.5s\n",
      "[CV] num_lm=200 ......................................................\n",
      "[CV] ....................................... num_lm=200, total=   9.0s\n",
      "[CV] num_lm=250 ......................................................\n",
      "[CV] ....................................... num_lm=250, total=   9.6s\n",
      "[CV] num_lm=300 ......................................................\n",
      "[CV] ....................................... num_lm=300, total=   9.1s\n",
      "CPU times: user 5min 35s, sys: 10.1 s, total: 5min 45s\n",
      "Wall time: 4min 22s\n"
     ]
    },
    {
     "name": "stderr",
     "output_type": "stream",
     "text": [
      "[Parallel(n_jobs=1)]: Done  30 out of  30 | elapsed:  4.4min finished\n"
     ]
    }
   ],
   "source": [
    "%%time\n",
    "\n",
    "def f1_scorer_2(estimator, X, y):\n",
    "    pred = estimator.predict(X)\n",
    "    s = f1_score(np.argmax(y, axis=1), pred, average='macro')\n",
    "    return s\n",
    "\n",
    "train_scores, test_scores = validation_curve(\n",
    "    RBFClassifier(\n",
    "        num_lm=2,\n",
    "        lm_select_from_x=True,\n",
    "        random_state=None,\n",
    "        gamma='scale',\n",
    "        epochs=500, batch_size=100, verbose=0\n",
    "    ),\n",
    "    xtrain, ytrain,\n",
    "    param_name=param_name, param_range=param_range,\n",
    "    cv=cv_splitter, n_jobs=1, verbose=2, scoring=f1_scorer_2)"
   ]
  },
  {
   "cell_type": "code",
   "execution_count": 52,
   "metadata": {},
   "outputs": [
    {
     "data": {
      "text/plain": [
       "array([[  2.        ,   0.36847661,   0.38326176],\n",
       "       [  5.        ,   0.69846286,   0.67757362],\n",
       "       [ 10.        ,   0.89081798,   0.85652516],\n",
       "       [ 20.        ,   0.96969917,   0.90810365],\n",
       "       [ 50.        ,   0.99651218,   0.94751892],\n",
       "       [100.        ,   0.99943499,   0.95780381],\n",
       "       [150.        ,   0.99943499,   0.95983336],\n",
       "       [200.        ,   1.        ,   0.95346742],\n",
       "       [250.        ,   1.        ,   0.95571872],\n",
       "       [300.        ,   1.        ,   0.96194792]])"
      ]
     },
     "execution_count": 52,
     "metadata": {},
     "output_type": "execute_result"
    }
   ],
   "source": [
    "train_scores_mean = np.mean(train_scores, axis=1)\n",
    "train_scores_std = np.std(train_scores, axis=1)\n",
    "test_scores_mean = np.mean(test_scores, axis=1)\n",
    "test_scores_std = np.std(test_scores, axis=1)\n",
    "np.c_[param_range, train_scores_mean, test_scores_mean]"
   ]
  },
  {
   "cell_type": "code",
   "execution_count": 53,
   "metadata": {},
   "outputs": [
    {
     "data": {
      "text/plain": [
       "<matplotlib.legend.Legend at 0x7f062fe7f2e8>"
      ]
     },
     "execution_count": 53,
     "metadata": {},
     "output_type": "execute_result"
    },
    {
     "data": {
      "image/png": "[encoded data removed]",
      "text/plain": [
       "<matplotlib.figure.Figure at 0x7f05f065b198>"
      ]
     },
     "metadata": {},
     "output_type": "display_data"
    }
   ],
   "source": [
    "plt.title(\"Validation Curve\")\n",
    "plt.xlabel(\"param\")\n",
    "plt.ylabel(\"Score\")\n",
    "plt.ylim(0.0, 1.1)\n",
    "lw = 2\n",
    "plt.semilogx(param_range, train_scores_mean, label=\"Training score\",\n",
    "             color=\"darkorange\", lw=lw)\n",
    "plt.fill_between(param_range, train_scores_mean - train_scores_std,\n",
    "                 train_scores_mean + train_scores_std, alpha=0.2,\n",
    "                 color=\"darkorange\", lw=lw)\n",
    "plt.semilogx(param_range, test_scores_mean, label=\"Cross-validation score\",\n",
    "             color=\"navy\", lw=lw)\n",
    "plt.fill_between(param_range, test_scores_mean - test_scores_std,\n",
    "                 test_scores_mean + test_scores_std, alpha=0.2,\n",
    "                 color=\"navy\", lw=lw)\n",
    "plt.legend(loc=\"best\")"
   ]
  },
  {
   "cell_type": "code",
   "execution_count": 54,
   "metadata": {},
   "outputs": [
    {
     "name": "stdout",
     "output_type": "stream",
     "text": [
      "CPU times: user 10.6 s, sys: 284 ms, total: 10.9 s\n",
      "Wall time: 8.49 s\n"
     ]
    }
   ],
   "source": [
    "%%time\n",
    "\n",
    "'''test data'''\n",
    "est = RBFClassifier(\n",
    "    num_lm=200,\n",
    "    lm_select_from_x=True,\n",
    "    random_state=None,\n",
    "    gamma='scale',\n",
    "    lr=0.05,\n",
    "    epochs=500, batch_size=100, verbose=0\n",
    ")\n",
    "hst = est.fit(xtrain, ytrain)"
   ]
  },
  {
   "cell_type": "code",
   "execution_count": 55,
   "metadata": {},
   "outputs": [
    {
     "data": {
      "text/plain": [
       "<matplotlib.legend.Legend at 0x7f05f2a1b6d8>"
      ]
     },
     "execution_count": 55,
     "metadata": {},
     "output_type": "execute_result"
    },
    {
     "data": {
      "image/png": "[encoded data removed]",
      "text/plain": [
       "<matplotlib.figure.Figure at 0x7f061dc35278>"
      ]
     },
     "metadata": {},
     "output_type": "display_data"
    }
   ],
   "source": [
    "fig, ax = plt.subplots(1, 3, figsize=(20,5))\n",
    "ax[0].set_title('loss')\n",
    "ax[0].plot(list(range(len(hst[\"loss\"]))), hst[\"loss\"], label=\"Train loss\")\n",
    "ax[1].set_title('accuracy')\n",
    "ax[1].plot(list(range(len(hst[\"loss\"]))), hst[\"acc\"], label=\"accuracy\")\n",
    "ax[2].set_title('learning rate')\n",
    "ax[2].plot(list(range(len(hst[\"loss\"]))), hst[\"lr\"], label=\"learning rate\")\n",
    "ax[0].legend()\n",
    "ax[1].legend()\n",
    "ax[2].legend()"
   ]
  },
  {
   "cell_type": "code",
   "execution_count": 56,
   "metadata": {
    "collapsed": true
   },
   "outputs": [],
   "source": [
    "pred = est.predict(xtrain)"
   ]
  },
  {
   "cell_type": "code",
   "execution_count": 57,
   "metadata": {},
   "outputs": [
    {
     "name": "stdout",
     "output_type": "stream",
     "text": [
      "F1_SCORE : 0.9989010657247231\n",
      "              precision    recall  f1-score   support\n",
      "\n",
      "           0       1.00      1.00      1.00        88\n",
      "           1       1.00      1.00      1.00        89\n",
      "           2       1.00      1.00      1.00        91\n",
      "           3       1.00      1.00      1.00        93\n",
      "           4       1.00      1.00      1.00        88\n",
      "           5       1.00      0.99      0.99        91\n",
      "           6       1.00      1.00      1.00        90\n",
      "           7       1.00      1.00      1.00        91\n",
      "           8       1.00      1.00      1.00        86\n",
      "           9       0.99      1.00      0.99        91\n",
      "\n",
      "   micro avg       1.00      1.00      1.00       898\n",
      "   macro avg       1.00      1.00      1.00       898\n",
      "weighted avg       1.00      1.00      1.00       898\n",
      "\n",
      "[[88  0  0  0  0  0  0  0  0  0]\n",
      " [ 0 89  0  0  0  0  0  0  0  0]\n",
      " [ 0  0 91  0  0  0  0  0  0  0]\n",
      " [ 0  0  0 93  0  0  0  0  0  0]\n",
      " [ 0  0  0  0 88  0  0  0  0  0]\n",
      " [ 0  0  0  0  0 90  0  0  0  1]\n",
      " [ 0  0  0  0  0  0 90  0  0  0]\n",
      " [ 0  0  0  0  0  0  0 91  0  0]\n",
      " [ 0  0  0  0  0  0  0  0 86  0]\n",
      " [ 0  0  0  0  0  0  0  0  0 91]]\n"
     ]
    }
   ],
   "source": [
    "print('F1_SCORE :', f1_score(np.argmax(ytrain, axis=1), pred, average='macro'))\n",
    "print(classification_report(np.argmax(ytrain, axis=1), pred))\n",
    "print(confusion_matrix(np.argmax(ytrain, axis=1), pred))"
   ]
  },
  {
   "cell_type": "code",
   "execution_count": 58,
   "metadata": {
    "collapsed": true
   },
   "outputs": [],
   "source": [
    "pred_test = est.predict(xtest)"
   ]
  },
  {
   "cell_type": "code",
   "execution_count": 59,
   "metadata": {},
   "outputs": [
    {
     "name": "stdout",
     "output_type": "stream",
     "text": [
      "F1_SCORE : 0.9778087814110992\n",
      "              precision    recall  f1-score   support\n",
      "\n",
      "           0       1.00      1.00      1.00        90\n",
      "           1       1.00      0.96      0.98        93\n",
      "           2       0.99      1.00      0.99        86\n",
      "           3       0.96      0.99      0.97        90\n",
      "           4       0.99      0.98      0.98        93\n",
      "           5       0.96      0.97      0.96        91\n",
      "           6       1.00      0.97      0.98        91\n",
      "           7       0.98      0.98      0.98        88\n",
      "           8       0.96      0.99      0.97        88\n",
      "           9       0.96      0.96      0.96        89\n",
      "\n",
      "   micro avg       0.98      0.98      0.98       899\n",
      "   macro avg       0.98      0.98      0.98       899\n",
      "weighted avg       0.98      0.98      0.98       899\n",
      "\n",
      "[[90  0  0  0  0  0  0  0  0  0]\n",
      " [ 0 89  1  0  0  1  0  0  1  1]\n",
      " [ 0  0 86  0  0  0  0  0  0  0]\n",
      " [ 0  0  0 89  0  0  0  0  1  0]\n",
      " [ 0  0  0  0 91  0  0  1  0  1]\n",
      " [ 0  0  0  1  1 88  0  0  0  1]\n",
      " [ 0  0  0  0  0  2 88  0  1  0]\n",
      " [ 0  0  0  0  0  0  0 86  1  1]\n",
      " [ 0  0  0  0  0  0  0  1 87  0]\n",
      " [ 0  0  0  3  0  1  0  0  0 85]]\n"
     ]
    }
   ],
   "source": [
    "print('F1_SCORE :', f1_score(np.argmax(yans, axis=1), pred_test, average='macro'))\n",
    "print(classification_report(np.argmax(yans, axis=1), pred_test))\n",
    "print(confusion_matrix(np.argmax(yans, axis=1), pred_test))"
   ]
  },
  {
   "cell_type": "code",
   "execution_count": null,
   "metadata": {
    "collapsed": true
   },
   "outputs": [],
   "source": []
  },
  {
   "cell_type": "code",
   "execution_count": null,
   "metadata": {
    "collapsed": true
   },
   "outputs": [],
   "source": []
  },
  {
   "cell_type": "code",
   "execution_count": 60,
   "metadata": {
    "collapsed": true
   },
   "outputs": [],
   "source": [
    "from sklearn.model_selection import StratifiedShuffleSplit, GridSearchCV, validation_curve\n",
    "from sklearn.feature_selection import RFECV\n",
    "from sklearn.linear_model import LogisticRegression, Lasso\n",
    "import pandas as pd\n",
    "from sklearn.metrics import mean_squared_error, mean_absolute_error, roc_auc_score, r2_score, make_scorer\n",
    "from sklearn.metrics.pairwise import cosine_similarity, euclidean_distances\n",
    "import joblib"
   ]
  },
  {
   "cell_type": "code",
   "execution_count": 61,
   "metadata": {},
   "outputs": [
    {
     "name": "stdout",
     "output_type": "stream",
     "text": [
      "counter  | val_f1    |  val_r2    \n",
      "---------------------------------------------\n",
      "    0    |  0.9466   |  0.8448   2.042344e-01 <-- skipping  \n",
      "    1    |  0.9689   |  0.9346   2.047463e-01 <-- OK  \n",
      "    2    |  0.9531   |  0.8491   2.096595e-01 <-- OK  \n",
      "    3    |  0.9665   |  0.9333   1.984935e-01 <-- OK  \n",
      "    4    |  0.9598   |  0.8491   1.929194e-01 <-- OK  \n",
      "    5    |  0.9458   |  0.8692   1.881472e-01 <-- skipping  \n",
      "    6    |  0.9576   |  0.8977   2.046767e-01 <-- OK  \n",
      "    7    |  0.9568   |  0.8583   1.886970e-01 <-- OK  \n",
      "    8    |  0.9556   |  0.9201   2.171491e-01 <-- OK  \n",
      "    9    |  0.9479   |  0.8735   1.913393e-01 <-- skipping  \n",
      "   10    |  0.9710   |  0.9453   2.242026e-01 <-- OK  \n",
      "   11    |  0.9625   |  0.8650   2.109069e-01 <-- OK  \n",
      "   12    |  0.9642   |  0.9257   2.016720e-01 <-- OK  \n",
      "   13    |  0.9422   |  0.7837   1.686132e-01 <-- skipping  \n",
      "   14    |  0.9621   |  0.9130   2.080104e-01 <-- OK  \n",
      "   15    |  0.9506   |  0.9011   1.960699e-01 <-- OK  \n",
      "   16    |  0.9559   |  0.9502   2.106371e-01 <-- OK  \n",
      "   17    |  0.9531   |  0.8797   1.936965e-01 <-- OK  \n",
      "   18    |  0.9595   |  0.9247   2.185369e-01 <-- OK  \n",
      "   19    |  0.9464   |  0.8598   2.074978e-01 <-- skipping  \n",
      "   20    |  0.9461   |  0.8695   1.789994e-01 <-- skipping  \n",
      "   21    |  0.9468   |  0.8982   2.066554e-01 <-- skipping  \n",
      "   22    |  0.9616   |  0.8865   2.132473e-01 <-- OK  \n",
      "   23    |  0.9576   |  0.9197   1.939947e-01 <-- OK  \n",
      "   24    |  0.9644   |  0.8851   1.973625e-01 <-- OK  \n",
      "   25    |  0.9615   |  0.8753   1.977421e-01 <-- OK  \n",
      "   26    |  0.9621   |  0.8909   1.991658e-01 <-- OK  \n",
      "   27    |  0.9511   |  0.9000   1.914550e-01 <-- OK  \n",
      "   28    |  0.9689   |  0.9214   1.978235e-01 <-- OK  \n",
      "   29    |  0.9621   |  0.9233   2.008637e-01 <-- OK  \n",
      "   30    |  0.9599   |  0.9005   1.977297e-01 <-- OK  \n",
      "   31    |  0.9551   |  0.8954   2.041251e-01 <-- OK  \n",
      "   32    |  0.9532   |  0.8860   1.849331e-01 <-- OK  \n",
      "   33    |  0.9529   |  0.8841   1.922172e-01 <-- OK  \n",
      "   34    |  0.9442   |  0.8620   1.968873e-01 <-- skipping  \n",
      "   35    |  0.9398   |  0.8081   1.960818e-01 <-- skipping  \n",
      "   36    |  0.9573   |  0.8587   2.088551e-01 <-- OK  \n",
      "   37    |  0.9668   |  0.8973   2.012780e-01 <-- OK  \n",
      "   38    |  0.9572   |  0.8429   1.932448e-01 <-- OK  \n",
      "   39    |  0.9575   |  0.9010   1.961738e-01 <-- OK  \n",
      "   40    |  0.9505   |  0.8325   1.912162e-01 <-- OK  \n",
      "   41    |  0.9709   |  0.9131   1.995066e-01 <-- OK  \n",
      "   42    |  0.9621   |  0.9503   2.045917e-01 <-- OK  \n",
      "   43    |  0.9621   |  0.9138   1.980294e-01 <-- OK  \n",
      "   44    |  0.9686   |  0.8872   2.093005e-01 <-- OK  \n",
      "   45    |  0.9643   |  0.9460   2.070465e-01 <-- OK  \n",
      "   46    |  0.9601   |  0.8821   1.971473e-01 <-- OK  \n",
      "   47    |  0.9622   |  0.9086   2.010293e-01 <-- OK  \n",
      "   48    |  0.9525   |  0.8883   1.935440e-01 <-- OK  \n",
      "   49    |  0.9572   |  0.8948   1.892488e-01 <-- OK  \n",
      "CPU times: user 7min 37s, sys: 12.8 s, total: 7min 50s\n",
      "Wall time: 6min 25s\n"
     ]
    }
   ],
   "source": [
    "%%time\n",
    "\n",
    "ins_splitter = StratifiedShuffleSplit(n_splits=50, test_size=0.5, random_state=0)\n",
    "var_idx_all = np.arange(xtrain.shape[1])\n",
    "threshold = 0.95\n",
    "#threshold = 0.30\n",
    "importances = np.zeros((xtrain.shape[1],))\n",
    "predictions = pd.DataFrame()\n",
    "#preds_all = pd.DataFrame()\n",
    "pred_all_list = []\n",
    "pred_train_all_list = []\n",
    "counter = 0\n",
    "np.random.seed(10001)\n",
    "\n",
    "print(\"counter  | val_f1    |  val_r2    \")\n",
    "print(\"---------------------------------------------\")\n",
    "\n",
    "\n",
    "for train_index, val_index in ins_splitter.split(xtrain, ytrain):\n",
    "    x_train_tr, x_train_val = xtrain[train_index], xtrain[val_index]\n",
    "    y_train_tr, y_train_val = ytrain[train_index], ytrain[val_index]\n",
    "    \n",
    "    \n",
    "    #estimator = LGBMRegressor(min_child_samples=50, reg_alpha=100)\n",
    "    estimator = RBFClassifier(\n",
    "        num_lm=250,\n",
    "        lm_select_from_x=True,\n",
    "        random_state=None,\n",
    "        gamma='scale',\n",
    "        epochs=500, batch_size=100, verbose=0\n",
    "    )\n",
    "    estimator.fit(x_train_tr, y_train_tr)\n",
    "    \n",
    "    # score our fitted model on validation data\n",
    "    val_y_pred = estimator.predict(x_train_val)\n",
    "    val_mse = mean_squared_error(np.argmax(y_train_val,axis=1), val_y_pred)\n",
    "    val_mae = mean_absolute_error(np.argmax(y_train_val,axis=1), val_y_pred)\n",
    "    val_kappa = 0.0\n",
    "    val_f1 = f1_score(np.argmax(y_train_val,axis=1), val_y_pred, average='macro')\n",
    "    val_cos = cosine_similarity(np.argmax(y_train_val,axis=1).reshape(1, -1), val_y_pred.reshape(1, -1))[0][0]\n",
    "    val_dst = euclidean_distances(np.argmax(y_train_val,axis=1).reshape(1, -1), val_y_pred.reshape(1, -1))[0][0]\n",
    "    val_r2  = r2_score(np.argmax(y_train_val,axis=1), val_y_pred)\n",
    "    gamma = estimator.current_gamma()\n",
    "    \n",
    "    if val_f1 > threshold:\n",
    "        message = '<-- OK'\n",
    "        pred_train_all = estimator.predict_proba(xtrain)\n",
    "        pred_train_all_list.append(pred_train_all)\n",
    "        pred_all = estimator.predict_proba(xtest)\n",
    "        pred_all_list.append(pred_all)\n",
    "        #preds_all = pd.concat([preds_all, pd.DataFrame(pred_all)], axis=1)\n",
    "        #prediction = grid_search.best_estimator_.predict(x_test0)\n",
    "        #predictions = pd.concat([predictions, pd.DataFrame(prediction)], axis=1)\n",
    "        #importances += estimator.feature_importances_\n",
    "        #filename = 'model-{}.sav'.format(counter)\n",
    "        #joblib.dump(estimator, filename)\n",
    "    else:\n",
    "        message = '<-- skipping'\n",
    "\n",
    "    print(\"{0:5}    |  {3:.4f}   |  {4:.4f}   {5:5e} {7}  \".format(\n",
    "        counter,\n",
    "        val_mse,\n",
    "        val_mae,\n",
    "        val_f1,\n",
    "        val_r2,\n",
    "        gamma,\n",
    "        0,\n",
    "        message))\n",
    "    \n",
    "    counter += 1"
   ]
  },
  {
   "cell_type": "code",
   "execution_count": 62,
   "metadata": {},
   "outputs": [
    {
     "name": "stdout",
     "output_type": "stream",
     "text": [
      "F1_SCORE : 0.9843814061315218\n",
      "F1_SCORE : 0.9766494995278159\n",
      "F1_SCORE : 0.983245305994598\n",
      "F1_SCORE : 0.9799359173610178\n",
      "F1_SCORE : 0.9787525732258204\n",
      "F1_SCORE : 0.9785188501427335\n",
      "F1_SCORE : 0.9777209135947897\n",
      "F1_SCORE : 0.9854984183870931\n",
      "F1_SCORE : 0.981170329642681\n",
      "F1_SCORE : 0.9821219848161175\n",
      "F1_SCORE : 0.9810373949200019\n",
      "F1_SCORE : 0.9753214733538835\n",
      "F1_SCORE : 0.9778843310677836\n",
      "F1_SCORE : 0.9765544487196532\n",
      "F1_SCORE : 0.9798866106748626\n",
      "F1_SCORE : 0.9808489936543838\n",
      "F1_SCORE : 0.9788266371133307\n",
      "F1_SCORE : 0.9821631185074269\n",
      "F1_SCORE : 0.9808319267476184\n",
      "F1_SCORE : 0.9810536012203064\n",
      "F1_SCORE : 0.9755105586755224\n",
      "F1_SCORE : 0.9843842252950624\n",
      "F1_SCORE : 0.981047724063919\n",
      "F1_SCORE : 0.9799152022708114\n",
      "F1_SCORE : 0.9775434064859361\n",
      "F1_SCORE : 0.976524162263565\n",
      "F1_SCORE : 0.9765024144891511\n",
      "F1_SCORE : 0.9787372513779674\n",
      "F1_SCORE : 0.9833298373083931\n",
      "F1_SCORE : 0.9786434305975205\n",
      "F1_SCORE : 0.9787671323308391\n",
      "F1_SCORE : 0.9753059552583465\n",
      "F1_SCORE : 0.9854569869661983\n",
      "F1_SCORE : 0.9810810629052253\n",
      "F1_SCORE : 0.981081921252081\n",
      "F1_SCORE : 0.9842930549219281\n",
      "F1_SCORE : 0.9821422549714562\n",
      "F1_SCORE : 0.9800510373734553\n",
      "F1_SCORE : 0.9810709970713992\n",
      "F1_SCORE : 0.976291752361983\n",
      "F1_SCORE : 0.9786288201811069\n"
     ]
    }
   ],
   "source": [
    "for ee in pred_train_all_list:\n",
    "    print('F1_SCORE :', f1_score(np.argmax(ytrain, axis=1), np.argmax(ee, axis=1), average='macro'))"
   ]
  },
  {
   "cell_type": "code",
   "execution_count": 63,
   "metadata": {},
   "outputs": [
    {
     "name": "stdout",
     "output_type": "stream",
     "text": [
      "F1_SCORE : 0.9955661646403187\n",
      "              precision    recall  f1-score   support\n",
      "\n",
      "           0       1.00      1.00      1.00        88\n",
      "           1       1.00      0.99      0.99        89\n",
      "           2       1.00      1.00      1.00        91\n",
      "           3       1.00      0.99      0.99        93\n",
      "           4       1.00      1.00      1.00        88\n",
      "           5       0.99      0.99      0.99        91\n",
      "           6       0.99      1.00      0.99        90\n",
      "           7       1.00      1.00      1.00        91\n",
      "           8       0.99      1.00      0.99        86\n",
      "           9       0.99      0.99      0.99        91\n",
      "\n",
      "   micro avg       1.00      1.00      1.00       898\n",
      "   macro avg       1.00      1.00      1.00       898\n",
      "weighted avg       1.00      1.00      1.00       898\n",
      "\n",
      "[[88  0  0  0  0  0  0  0  0  0]\n",
      " [ 0 88  0  0  0  0  1  0  0  0]\n",
      " [ 0  0 91  0  0  0  0  0  0  0]\n",
      " [ 0  0  0 92  0  1  0  0  0  0]\n",
      " [ 0  0  0  0 88  0  0  0  0  0]\n",
      " [ 0  0  0  0  0 90  0  0  0  1]\n",
      " [ 0  0  0  0  0  0 90  0  0  0]\n",
      " [ 0  0  0  0  0  0  0 91  0  0]\n",
      " [ 0  0  0  0  0  0  0  0 86  0]\n",
      " [ 0  0  0  0  0  0  0  0  1 90]]\n"
     ]
    }
   ],
   "source": [
    "print('F1_SCORE :', f1_score(np.argmax(ytrain, axis=1), np.argmax(np.stack(pred_train_all_list).mean(axis=0), axis=1), average='macro'))\n",
    "print(classification_report(np.argmax(ytrain, axis=1), np.argmax(np.stack(pred_train_all_list).mean(axis=0), axis=1)))\n",
    "print(confusion_matrix(np.argmax(ytrain, axis=1), np.argmax(np.stack(pred_train_all_list).mean(axis=0), axis=1)))"
   ]
  },
  {
   "cell_type": "code",
   "execution_count": 64,
   "metadata": {},
   "outputs": [
    {
     "data": {
      "text/plain": [
       "(899, 10)"
      ]
     },
     "execution_count": 64,
     "metadata": {},
     "output_type": "execute_result"
    }
   ],
   "source": [
    "np.stack(pred_all_list).mean(axis=0).shape"
   ]
  },
  {
   "cell_type": "code",
   "execution_count": 65,
   "metadata": {},
   "outputs": [
    {
     "name": "stdout",
     "output_type": "stream",
     "text": [
      "F1_SCORE : 0.966899894243593\n",
      "F1_SCORE : 0.9590422955786078\n",
      "F1_SCORE : 0.9622018226652072\n",
      "F1_SCORE : 0.9545989972751373\n",
      "F1_SCORE : 0.951426501057625\n",
      "F1_SCORE : 0.9621660725273378\n",
      "F1_SCORE : 0.9647924269332039\n",
      "F1_SCORE : 0.9688346312641907\n",
      "F1_SCORE : 0.958899890226434\n",
      "F1_SCORE : 0.9598887292979248\n",
      "F1_SCORE : 0.9611874407717268\n",
      "F1_SCORE : 0.9621980829677869\n",
      "F1_SCORE : 0.9656664416481661\n",
      "F1_SCORE : 0.9690112697005085\n",
      "F1_SCORE : 0.974332276976764\n",
      "F1_SCORE : 0.967714803083565\n",
      "F1_SCORE : 0.9545576868735962\n",
      "F1_SCORE : 0.960075388863508\n",
      "F1_SCORE : 0.963234068931451\n",
      "F1_SCORE : 0.970097837557414\n",
      "F1_SCORE : 0.9700830169072605\n",
      "F1_SCORE : 0.9722294689030555\n",
      "F1_SCORE : 0.9610973551299338\n",
      "F1_SCORE : 0.9577547760552372\n",
      "F1_SCORE : 0.9644094530436812\n",
      "F1_SCORE : 0.9601058254122157\n",
      "F1_SCORE : 0.9621901652377003\n",
      "F1_SCORE : 0.9645692820451025\n",
      "F1_SCORE : 0.9656675113756155\n",
      "F1_SCORE : 0.9588578039401648\n",
      "F1_SCORE : 0.9767014356495402\n",
      "F1_SCORE : 0.9577642880716155\n",
      "F1_SCORE : 0.967829548547469\n",
      "F1_SCORE : 0.9647925244813361\n",
      "F1_SCORE : 0.9733555001779521\n",
      "F1_SCORE : 0.9733522938270941\n",
      "F1_SCORE : 0.9632174822624968\n",
      "F1_SCORE : 0.9580527856876566\n",
      "F1_SCORE : 0.9745793105470473\n",
      "F1_SCORE : 0.9654444341964471\n",
      "F1_SCORE : 0.9533177354411217\n"
     ]
    }
   ],
   "source": [
    "for ee in pred_all_list:\n",
    "    print('F1_SCORE :', f1_score(np.argmax(yans, axis=1), np.argmax(ee, axis=1), average='macro'))"
   ]
  },
  {
   "cell_type": "code",
   "execution_count": 66,
   "metadata": {},
   "outputs": [
    {
     "name": "stdout",
     "output_type": "stream",
     "text": [
      "F1_SCORE : 0.9745130787454475\n",
      "              precision    recall  f1-score   support\n",
      "\n",
      "           0       1.00      1.00      1.00        90\n",
      "           1       1.00      0.96      0.98        93\n",
      "           2       0.99      1.00      0.99        86\n",
      "           3       0.99      0.98      0.98        90\n",
      "           4       0.99      0.97      0.98        93\n",
      "           5       0.95      0.96      0.95        91\n",
      "           6       0.99      0.97      0.98        91\n",
      "           7       0.97      0.97      0.97        88\n",
      "           8       0.94      0.99      0.96        88\n",
      "           9       0.95      0.97      0.96        89\n",
      "\n",
      "   micro avg       0.97      0.97      0.97       899\n",
      "   macro avg       0.97      0.97      0.97       899\n",
      "weighted avg       0.97      0.97      0.97       899\n",
      "\n",
      "[[90  0  0  0  0  0  0  0  0  0]\n",
      " [ 0 89  1  0  0  1  1  0  0  1]\n",
      " [ 0  0 86  0  0  0  0  0  0  0]\n",
      " [ 0  0  0 88  0  0  0  1  1  0]\n",
      " [ 0  0  0  0 90  0  0  1  1  1]\n",
      " [ 0  0  0  1  1 87  0  0  0  2]\n",
      " [ 0  0  0  0  0  2 88  0  1  0]\n",
      " [ 0  0  0  0  0  0  0 85  2  1]\n",
      " [ 0  0  0  0  0  0  0  1 87  0]\n",
      " [ 0  0  0  0  0  2  0  0  1 86]]\n"
     ]
    }
   ],
   "source": [
    "print('F1_SCORE :', f1_score(np.argmax(yans, axis=1), np.argmax(np.stack(pred_all_list).mean(axis=0), axis=1), average='macro'))\n",
    "print(classification_report(np.argmax(yans, axis=1), np.argmax(np.stack(pred_all_list).mean(axis=0), axis=1)))\n",
    "print(confusion_matrix(np.argmax(yans, axis=1), np.argmax(np.stack(pred_all_list).mean(axis=0), axis=1)))"
   ]
  },
  {
   "cell_type": "code",
   "execution_count": null,
   "metadata": {
    "collapsed": true
   },
   "outputs": [],
   "source": []
  },
  {
   "cell_type": "markdown",
   "metadata": {},
   "source": [
    "## validation_curve + LogisticRegression"
   ]
  },
  {
   "cell_type": "code",
   "execution_count": 67,
   "metadata": {},
   "outputs": [
    {
     "data": {
      "text/plain": [
       "3"
      ]
     },
     "execution_count": 67,
     "metadata": {},
     "output_type": "execute_result"
    }
   ],
   "source": [
    "cv_splitter = StratifiedShuffleSplit(n_splits=3, test_size=0.35, random_state=0)\n",
    "cv_splitter.get_n_splits(xtrain, ytrain)"
   ]
  },
  {
   "cell_type": "code",
   "execution_count": 68,
   "metadata": {},
   "outputs": [
    {
     "data": {
      "text/plain": [
       "array([1.e-03, 1.e-02, 1.e-01, 1.e+00, 1.e+01, 1.e+02, 1.e+03, 1.e+04,\n",
       "       1.e+05])"
      ]
     },
     "execution_count": 68,
     "metadata": {},
     "output_type": "execute_result"
    }
   ],
   "source": [
    "param_name = \"C\"\n",
    "param_range = np.logspace(-3, 5, 9)\n",
    "param_range"
   ]
  },
  {
   "cell_type": "code",
   "execution_count": 69,
   "metadata": {
    "collapsed": true
   },
   "outputs": [],
   "source": [
    "def f1_scorer(estimator, X, y):\n",
    "    pred = estimator.predict(X)\n",
    "    s = f1_score(y, pred, average='macro')\n",
    "    return s"
   ]
  },
  {
   "cell_type": "code",
   "execution_count": 70,
   "metadata": {
    "collapsed": true
   },
   "outputs": [],
   "source": [
    "import warnings\n",
    "warnings.filterwarnings('ignore')"
   ]
  },
  {
   "cell_type": "code",
   "execution_count": 71,
   "metadata": {},
   "outputs": [
    {
     "name": "stderr",
     "output_type": "stream",
     "text": [
      "[Parallel(n_jobs=1)]: Using backend SequentialBackend with 1 concurrent workers.\n",
      "[Parallel(n_jobs=1)]: Done   1 out of   1 | elapsed:    0.0s remaining:    0.0s\n"
     ]
    },
    {
     "name": "stdout",
     "output_type": "stream",
     "text": [
      "[CV] C=0.001 .........................................................\n",
      "[CV] .......................................... C=0.001, total=   0.0s\n",
      "[CV] C=0.01 ..........................................................\n",
      "[CV] ........................................... C=0.01, total=   0.1s\n",
      "[CV] C=0.1 ...........................................................\n",
      "[CV] ............................................ C=0.1, total=  40.0s\n",
      "[CV] C=1.0 ...........................................................\n",
      "[CV] ............................................ C=1.0, total=  51.7s\n",
      "[CV] C=10.0 ..........................................................\n",
      "[CV] ........................................... C=10.0, total=  49.0s\n",
      "[CV] C=100.0 .........................................................\n",
      "[CV] .......................................... C=100.0, total= 1.1min\n",
      "[CV] C=1000.0 ........................................................\n",
      "[CV] ......................................... C=1000.0, total=  42.9s\n",
      "[CV] C=10000.0 .......................................................\n",
      "[CV] ........................................ C=10000.0, total=  17.5s\n",
      "[CV] C=100000.0 ......................................................\n",
      "[CV] ....................................... C=100000.0, total=  20.8s\n",
      "[CV] C=0.001 .........................................................\n",
      "[CV] .......................................... C=0.001, total=   0.0s\n",
      "[CV] C=0.01 ..........................................................\n",
      "[CV] ........................................... C=0.01, total=   0.1s\n",
      "[CV] C=0.1 ...........................................................\n",
      "[CV] ............................................ C=0.1, total=  36.5s\n",
      "[CV] C=1.0 ...........................................................\n",
      "[CV] ............................................ C=1.0, total=  47.5s\n",
      "[CV] C=10.0 ..........................................................\n",
      "[CV] ........................................... C=10.0, total= 1.1min\n",
      "[CV] C=100.0 .........................................................\n",
      "[CV] .......................................... C=100.0, total=  47.8s\n",
      "[CV] C=1000.0 ........................................................\n",
      "[CV] ......................................... C=1000.0, total=  44.8s\n",
      "[CV] C=10000.0 .......................................................\n",
      "[CV] ........................................ C=10000.0, total=  13.0s\n",
      "[CV] C=100000.0 ......................................................\n",
      "[CV] ....................................... C=100000.0, total=  20.4s\n",
      "[CV] C=0.001 .........................................................\n",
      "[CV] .......................................... C=0.001, total=   0.0s\n",
      "[CV] C=0.01 ..........................................................\n",
      "[CV] ........................................... C=0.01, total=   0.1s\n",
      "[CV] C=0.1 ...........................................................\n",
      "[CV] ............................................ C=0.1, total=  51.7s\n",
      "[CV] C=1.0 ...........................................................\n",
      "[CV] ............................................ C=1.0, total=  38.1s\n",
      "[CV] C=10.0 ..........................................................\n",
      "[CV] ........................................... C=10.0, total= 1.3min\n",
      "[CV] C=100.0 .........................................................\n",
      "[CV] .......................................... C=100.0, total= 1.1min\n",
      "[CV] C=1000.0 ........................................................\n",
      "[CV] ......................................... C=1000.0, total=  37.0s\n",
      "[CV] C=10000.0 .......................................................\n",
      "[CV] ........................................ C=10000.0, total=  15.6s\n",
      "[CV] C=100000.0 ......................................................\n",
      "[CV] ....................................... C=100000.0, total=  12.5s\n",
      "CPU times: user 14min 22s, sys: 0 ns, total: 14min 22s\n",
      "Wall time: 14min 22s\n"
     ]
    },
    {
     "name": "stderr",
     "output_type": "stream",
     "text": [
      "[Parallel(n_jobs=1)]: Done  27 out of  27 | elapsed: 14.4min finished\n"
     ]
    }
   ],
   "source": [
    "%%time\n",
    "\n",
    "train_scores, test_scores = validation_curve(\n",
    "    LogisticRegression(penalty='l1', multi_class='multinomial', solver='saga', max_iter=10000),\n",
    "    np.hstack(pred_train_all_list), np.argmax(ytrain, axis=1),\n",
    "    param_name=param_name, param_range=param_range,\n",
    "    cv=cv_splitter, n_jobs=1, verbose=2, scoring=f1_scorer)"
   ]
  },
  {
   "cell_type": "code",
   "execution_count": 72,
   "metadata": {},
   "outputs": [
    {
     "data": {
      "text/plain": [
       "array([[1.00000000e-03, 1.83800623e-02, 1.84438040e-02],\n",
       "       [1.00000000e-02, 1.85683671e-02, 1.87916128e-02],\n",
       "       [1.00000000e-01, 1.00000000e+00, 9.82834973e-01],\n",
       "       [1.00000000e+00, 1.00000000e+00, 9.83910521e-01],\n",
       "       [1.00000000e+01, 1.00000000e+00, 9.86108489e-01],\n",
       "       [1.00000000e+02, 1.00000000e+00, 9.92537881e-01],\n",
       "       [1.00000000e+03, 1.00000000e+00, 9.93614498e-01],\n",
       "       [1.00000000e+04, 1.00000000e+00, 9.94673232e-01],\n",
       "       [1.00000000e+05, 1.00000000e+00, 9.93648125e-01]])"
      ]
     },
     "execution_count": 72,
     "metadata": {},
     "output_type": "execute_result"
    }
   ],
   "source": [
    "train_scores_mean = np.mean(train_scores, axis=1)\n",
    "train_scores_std = np.std(train_scores, axis=1)\n",
    "test_scores_mean = np.mean(test_scores, axis=1)\n",
    "test_scores_std = np.std(test_scores, axis=1)\n",
    "np.c_[param_range, train_scores_mean, test_scores_mean]"
   ]
  },
  {
   "cell_type": "code",
   "execution_count": 73,
   "metadata": {},
   "outputs": [
    {
     "data": {
      "text/plain": [
       "<matplotlib.legend.Legend at 0x7f05f26f1ef0>"
      ]
     },
     "execution_count": 73,
     "metadata": {},
     "output_type": "execute_result"
    },
    {
     "data": {
      "image/png": "[encoded data removed]",
      "text/plain": [
       "<matplotlib.figure.Figure at 0x7f05f2d65080>"
      ]
     },
     "metadata": {},
     "output_type": "display_data"
    }
   ],
   "source": [
    "plt.title(\"Validation Curve\")\n",
    "plt.xlabel(\"param\")\n",
    "plt.ylabel(\"Score\")\n",
    "plt.ylim(0.0, 1.1)\n",
    "lw = 2\n",
    "plt.semilogx(param_range, train_scores_mean, label=\"Training score\",\n",
    "             color=\"darkorange\", lw=lw)\n",
    "plt.fill_between(param_range, train_scores_mean - train_scores_std,\n",
    "                 train_scores_mean + train_scores_std, alpha=0.2,\n",
    "                 color=\"darkorange\", lw=lw)\n",
    "plt.semilogx(param_range, test_scores_mean, label=\"Cross-validation score\",\n",
    "             color=\"navy\", lw=lw)\n",
    "plt.fill_between(param_range, test_scores_mean - test_scores_std,\n",
    "                 test_scores_mean + test_scores_std, alpha=0.2,\n",
    "                 color=\"navy\", lw=lw)\n",
    "plt.legend(loc=\"best\")"
   ]
  },
  {
   "cell_type": "code",
   "execution_count": 74,
   "metadata": {},
   "outputs": [
    {
     "data": {
      "text/plain": [
       "LogisticRegression(C=100000, class_weight=None, dual=False,\n",
       "          fit_intercept=True, intercept_scaling=1, max_iter=10000,\n",
       "          multi_class='multinomial', n_jobs=None, penalty='l1',\n",
       "          random_state=None, solver='saga', tol=0.0001, verbose=0,\n",
       "          warm_start=False)"
      ]
     },
     "execution_count": 74,
     "metadata": {},
     "output_type": "execute_result"
    }
   ],
   "source": [
    "'''test data'''\n",
    "est = LogisticRegression(penalty='l1', multi_class='multinomial', solver='saga', max_iter=10000, C=100000)\n",
    "est.fit(np.hstack(pred_train_all_list), np.argmax(ytrain, axis=1))"
   ]
  },
  {
   "cell_type": "code",
   "execution_count": 75,
   "metadata": {
    "collapsed": true
   },
   "outputs": [],
   "source": [
    "pred = est.predict(np.hstack(pred_train_all_list))"
   ]
  },
  {
   "cell_type": "code",
   "execution_count": 76,
   "metadata": {},
   "outputs": [
    {
     "name": "stdout",
     "output_type": "stream",
     "text": [
      "F1_SCORE : 1.0\n",
      "              precision    recall  f1-score   support\n",
      "\n",
      "           0       1.00      1.00      1.00        88\n",
      "           1       1.00      1.00      1.00        89\n",
      "           2       1.00      1.00      1.00        91\n",
      "           3       1.00      1.00      1.00        93\n",
      "           4       1.00      1.00      1.00        88\n",
      "           5       1.00      1.00      1.00        91\n",
      "           6       1.00      1.00      1.00        90\n",
      "           7       1.00      1.00      1.00        91\n",
      "           8       1.00      1.00      1.00        86\n",
      "           9       1.00      1.00      1.00        91\n",
      "\n",
      "   micro avg       1.00      1.00      1.00       898\n",
      "   macro avg       1.00      1.00      1.00       898\n",
      "weighted avg       1.00      1.00      1.00       898\n",
      "\n",
      "[[88  0  0  0  0  0  0  0  0  0]\n",
      " [ 0 89  0  0  0  0  0  0  0  0]\n",
      " [ 0  0 91  0  0  0  0  0  0  0]\n",
      " [ 0  0  0 93  0  0  0  0  0  0]\n",
      " [ 0  0  0  0 88  0  0  0  0  0]\n",
      " [ 0  0  0  0  0 91  0  0  0  0]\n",
      " [ 0  0  0  0  0  0 90  0  0  0]\n",
      " [ 0  0  0  0  0  0  0 91  0  0]\n",
      " [ 0  0  0  0  0  0  0  0 86  0]\n",
      " [ 0  0  0  0  0  0  0  0  0 91]]\n"
     ]
    }
   ],
   "source": [
    "print('F1_SCORE :', f1_score(np.argmax(ytrain, axis=1), pred, average='macro'))\n",
    "print(classification_report(np.argmax(ytrain, axis=1), pred))\n",
    "print(confusion_matrix(np.argmax(ytrain, axis=1), pred))"
   ]
  },
  {
   "cell_type": "code",
   "execution_count": 77,
   "metadata": {
    "collapsed": true
   },
   "outputs": [],
   "source": [
    "pred_test = est.predict(np.hstack(pred_all_list))"
   ]
  },
  {
   "cell_type": "code",
   "execution_count": 78,
   "metadata": {},
   "outputs": [
    {
     "name": "stdout",
     "output_type": "stream",
     "text": [
      "F1_SCORE : 0.9778088040651787\n",
      "              precision    recall  f1-score   support\n",
      "\n",
      "           0       1.00      1.00      1.00        90\n",
      "           1       1.00      0.97      0.98        93\n",
      "           2       0.99      1.00      0.99        86\n",
      "           3       0.98      0.99      0.98        90\n",
      "           4       0.99      0.98      0.98        93\n",
      "           5       0.95      0.96      0.95        91\n",
      "           6       1.00      0.97      0.98        91\n",
      "           7       0.97      0.97      0.97        88\n",
      "           8       0.97      0.99      0.98        88\n",
      "           9       0.95      0.97      0.96        89\n",
      "\n",
      "   micro avg       0.98      0.98      0.98       899\n",
      "   macro avg       0.98      0.98      0.98       899\n",
      "weighted avg       0.98      0.98      0.98       899\n",
      "\n",
      "[[90  0  0  0  0  0  0  0  0  0]\n",
      " [ 0 90  1  0  0  1  0  0  0  1]\n",
      " [ 0  0 86  0  0  0  0  0  0  0]\n",
      " [ 0  0  0 89  0  0  0  1  0  0]\n",
      " [ 0  0  0  0 91  0  0  1  0  1]\n",
      " [ 0  0  0  1  1 87  0  0  0  2]\n",
      " [ 0  0  0  0  0  2 88  0  1  0]\n",
      " [ 0  0  0  0  0  0  0 85  2  1]\n",
      " [ 0  0  0  0  0  0  0  1 87  0]\n",
      " [ 0  0  0  1  0  2  0  0  0 86]]\n"
     ]
    }
   ],
   "source": [
    "print('F1_SCORE :', f1_score(np.argmax(yans, axis=1), pred_test, average='macro'))\n",
    "print(classification_report(np.argmax(yans, axis=1), pred_test))\n",
    "print(confusion_matrix(np.argmax(yans, axis=1), pred_test))"
   ]
  },
  {
   "cell_type": "code",
   "execution_count": null,
   "metadata": {
    "collapsed": true
   },
   "outputs": [],
   "source": []
  },
  {
   "cell_type": "markdown",
   "metadata": {},
   "source": [
    "## validation_curve + LGBMClassifier"
   ]
  },
  {
   "cell_type": "code",
   "execution_count": 79,
   "metadata": {},
   "outputs": [
    {
     "data": {
      "text/plain": [
       "array([1.e-03, 1.e-02, 1.e-01, 1.e+00, 1.e+01, 1.e+02, 1.e+03])"
      ]
     },
     "execution_count": 79,
     "metadata": {},
     "output_type": "execute_result"
    }
   ],
   "source": [
    "'''LGBMClassifier'''\n",
    "from lightgbm import LGBMClassifier\n",
    "\n",
    "param_name = \"reg_alpha\"\n",
    "param_range = np.logspace(-3, 3, 7)\n",
    "param_range"
   ]
  },
  {
   "cell_type": "code",
   "execution_count": 80,
   "metadata": {},
   "outputs": [
    {
     "name": "stdout",
     "output_type": "stream",
     "text": [
      "[CV] reg_alpha=0.001 .................................................\n"
     ]
    },
    {
     "name": "stderr",
     "output_type": "stream",
     "text": [
      "[Parallel(n_jobs=1)]: Using backend SequentialBackend with 1 concurrent workers.\n"
     ]
    },
    {
     "name": "stdout",
     "output_type": "stream",
     "text": [
      "[CV] .................................. reg_alpha=0.001, total=   0.2s\n",
      "[CV] reg_alpha=0.01 ..................................................\n",
      "[CV] ................................... reg_alpha=0.01, total=   0.2s\n",
      "[CV] reg_alpha=0.1 ...................................................\n"
     ]
    },
    {
     "name": "stderr",
     "output_type": "stream",
     "text": [
      "[Parallel(n_jobs=1)]: Done   1 out of   1 | elapsed:    0.2s remaining:    0.0s\n"
     ]
    },
    {
     "name": "stdout",
     "output_type": "stream",
     "text": [
      "[CV] .................................... reg_alpha=0.1, total=   0.1s\n",
      "[CV] reg_alpha=1.0 ...................................................\n",
      "[CV] .................................... reg_alpha=1.0, total=   0.2s\n",
      "[CV] reg_alpha=10.0 ..................................................\n",
      "[CV] ................................... reg_alpha=10.0, total=   0.1s\n",
      "[CV] reg_alpha=100.0 .................................................\n",
      "[CV] .................................. reg_alpha=100.0, total=   0.1s\n",
      "[CV] reg_alpha=1000.0 ................................................\n",
      "[CV] ................................. reg_alpha=1000.0, total=   0.1s\n",
      "[CV] reg_alpha=0.001 .................................................\n",
      "[CV] .................................. reg_alpha=0.001, total=   0.2s\n",
      "[CV] reg_alpha=0.01 ..................................................\n",
      "[CV] ................................... reg_alpha=0.01, total=   0.2s\n",
      "[CV] reg_alpha=0.1 ...................................................\n",
      "[CV] .................................... reg_alpha=0.1, total=   0.2s\n",
      "[CV] reg_alpha=1.0 ...................................................\n",
      "[CV] .................................... reg_alpha=1.0, total=   0.2s\n",
      "[CV] reg_alpha=10.0 ..................................................\n",
      "[CV] ................................... reg_alpha=10.0, total=   0.1s\n",
      "[CV] reg_alpha=100.0 .................................................\n",
      "[CV] .................................. reg_alpha=100.0, total=   0.1s\n",
      "[CV] reg_alpha=1000.0 ................................................\n",
      "[CV] ................................. reg_alpha=1000.0, total=   0.1s\n",
      "[CV] reg_alpha=0.001 .................................................\n",
      "[CV] .................................. reg_alpha=0.001, total=   0.2s\n",
      "[CV] reg_alpha=0.01 ..................................................\n",
      "[CV] ................................... reg_alpha=0.01, total=   0.2s\n",
      "[CV] reg_alpha=0.1 ...................................................\n",
      "[CV] .................................... reg_alpha=0.1, total=   0.2s\n",
      "[CV] reg_alpha=1.0 ...................................................\n",
      "[CV] .................................... reg_alpha=1.0, total=   0.2s\n",
      "[CV] reg_alpha=10.0 ..................................................\n",
      "[CV] ................................... reg_alpha=10.0, total=   0.1s\n",
      "[CV] reg_alpha=100.0 .................................................\n",
      "[CV] .................................. reg_alpha=100.0, total=   0.1s\n",
      "[CV] reg_alpha=1000.0 ................................................\n",
      "[CV] ................................. reg_alpha=1000.0, total=   0.1s\n",
      "CPU times: user 2.88 s, sys: 0 ns, total: 2.88 s\n",
      "Wall time: 2.99 s\n"
     ]
    },
    {
     "name": "stderr",
     "output_type": "stream",
     "text": [
      "[Parallel(n_jobs=1)]: Done  21 out of  21 | elapsed:    3.0s finished\n"
     ]
    }
   ],
   "source": [
    "%%time\n",
    "\n",
    "train_scores, test_scores = validation_curve(\n",
    "    LGBMClassifier(\n",
    "        min_child_samples=20,\n",
    "        reg_alpha=0.1\n",
    "    ),\n",
    "    np.hstack(pred_train_all_list), np.argmax(ytrain, axis=1),\n",
    "    param_name=param_name, param_range=param_range,\n",
    "    cv=cv_splitter, n_jobs=1, verbose=2, scoring=f1_scorer)"
   ]
  },
  {
   "cell_type": "code",
   "execution_count": 81,
   "metadata": {},
   "outputs": [
    {
     "data": {
      "text/plain": [
       "array([[1.00000000e-03, 1.00000000e+00, 9.81762045e-01],\n",
       "       [1.00000000e-02, 1.00000000e+00, 9.81778070e-01],\n",
       "       [1.00000000e-01, 1.00000000e+00, 9.81778070e-01],\n",
       "       [1.00000000e+00, 1.00000000e+00, 9.81726197e-01],\n",
       "       [1.00000000e+01, 1.00000000e+00, 9.81761960e-01],\n",
       "       [1.00000000e+02, 1.78125000e-02, 1.79190751e-02],\n",
       "       [1.00000000e+03, 1.78125000e-02, 1.79190751e-02]])"
      ]
     },
     "execution_count": 81,
     "metadata": {},
     "output_type": "execute_result"
    }
   ],
   "source": [
    "train_scores_mean = np.mean(train_scores, axis=1)\n",
    "train_scores_std = np.std(train_scores, axis=1)\n",
    "test_scores_mean = np.mean(test_scores, axis=1)\n",
    "test_scores_std = np.std(test_scores, axis=1)\n",
    "np.c_[param_range, train_scores_mean, test_scores_mean]"
   ]
  },
  {
   "cell_type": "code",
   "execution_count": 82,
   "metadata": {},
   "outputs": [
    {
     "data": {
      "text/plain": [
       "<matplotlib.legend.Legend at 0x7f05f2c67550>"
      ]
     },
     "execution_count": 82,
     "metadata": {},
     "output_type": "execute_result"
    },
    {
     "data": {
      "image/png": "[encoded data removed]",
      "text/plain": [
       "<matplotlib.figure.Figure at 0x7f05f05f60b8>"
      ]
     },
     "metadata": {},
     "output_type": "display_data"
    }
   ],
   "source": [
    "plt.title(\"Validation Curve\")\n",
    "plt.xlabel(\"param\")\n",
    "plt.ylabel(\"Score\")\n",
    "plt.ylim(0.0, 1.1)\n",
    "lw = 2\n",
    "plt.semilogx(param_range, train_scores_mean, label=\"Training score\",\n",
    "             color=\"darkorange\", lw=lw)\n",
    "plt.fill_between(param_range, train_scores_mean - train_scores_std,\n",
    "                 train_scores_mean + train_scores_std, alpha=0.2,\n",
    "                 color=\"darkorange\", lw=lw)\n",
    "plt.semilogx(param_range, test_scores_mean, label=\"Cross-validation score\",\n",
    "             color=\"navy\", lw=lw)\n",
    "plt.fill_between(param_range, test_scores_mean - test_scores_std,\n",
    "                 test_scores_mean + test_scores_std, alpha=0.2,\n",
    "                 color=\"navy\", lw=lw)\n",
    "plt.legend(loc=\"best\")"
   ]
  },
  {
   "cell_type": "code",
   "execution_count": 83,
   "metadata": {},
   "outputs": [
    {
     "data": {
      "text/plain": [
       "LGBMClassifier(boosting_type='gbdt', colsample_bytree=1, learning_rate=0.1,\n",
       "        max_bin=255, max_depth=-1, min_child_samples=50,\n",
       "        min_child_weight=5, min_split_gain=0, n_estimators=10, nthread=-1,\n",
       "        num_leaves=31, objective='multiclass', reg_alpha=0.01,\n",
       "        reg_lambda=0, seed=0, silent=True, subsample=1,\n",
       "        subsample_for_bin=50000, subsample_freq=1)"
      ]
     },
     "execution_count": 83,
     "metadata": {},
     "output_type": "execute_result"
    }
   ],
   "source": [
    "'''test data'''\n",
    "est = LGBMClassifier(\n",
    "        min_child_samples=50,\n",
    "        reg_alpha=0.01\n",
    "    )\n",
    "est.fit(np.hstack(pred_train_all_list), np.argmax(ytrain, axis=1))"
   ]
  },
  {
   "cell_type": "code",
   "execution_count": 84,
   "metadata": {
    "collapsed": true
   },
   "outputs": [],
   "source": [
    "pred = est.predict(np.hstack(pred_train_all_list))"
   ]
  },
  {
   "cell_type": "code",
   "execution_count": 85,
   "metadata": {},
   "outputs": [
    {
     "name": "stdout",
     "output_type": "stream",
     "text": [
      "F1_SCORE : 1.0\n",
      "              precision    recall  f1-score   support\n",
      "\n",
      "           0       1.00      1.00      1.00        88\n",
      "           1       1.00      1.00      1.00        89\n",
      "           2       1.00      1.00      1.00        91\n",
      "           3       1.00      1.00      1.00        93\n",
      "           4       1.00      1.00      1.00        88\n",
      "           5       1.00      1.00      1.00        91\n",
      "           6       1.00      1.00      1.00        90\n",
      "           7       1.00      1.00      1.00        91\n",
      "           8       1.00      1.00      1.00        86\n",
      "           9       1.00      1.00      1.00        91\n",
      "\n",
      "   micro avg       1.00      1.00      1.00       898\n",
      "   macro avg       1.00      1.00      1.00       898\n",
      "weighted avg       1.00      1.00      1.00       898\n",
      "\n",
      "[[88  0  0  0  0  0  0  0  0  0]\n",
      " [ 0 89  0  0  0  0  0  0  0  0]\n",
      " [ 0  0 91  0  0  0  0  0  0  0]\n",
      " [ 0  0  0 93  0  0  0  0  0  0]\n",
      " [ 0  0  0  0 88  0  0  0  0  0]\n",
      " [ 0  0  0  0  0 91  0  0  0  0]\n",
      " [ 0  0  0  0  0  0 90  0  0  0]\n",
      " [ 0  0  0  0  0  0  0 91  0  0]\n",
      " [ 0  0  0  0  0  0  0  0 86  0]\n",
      " [ 0  0  0  0  0  0  0  0  0 91]]\n"
     ]
    }
   ],
   "source": [
    "print('F1_SCORE :', f1_score(np.argmax(ytrain, axis=1), pred, average='macro'))\n",
    "print(classification_report(np.argmax(ytrain, axis=1), pred))\n",
    "print(confusion_matrix(np.argmax(ytrain, axis=1), pred))"
   ]
  },
  {
   "cell_type": "code",
   "execution_count": 86,
   "metadata": {
    "collapsed": true
   },
   "outputs": [],
   "source": [
    "pred_test = est.predict(np.hstack(pred_all_list))"
   ]
  },
  {
   "cell_type": "code",
   "execution_count": 87,
   "metadata": {},
   "outputs": [
    {
     "name": "stdout",
     "output_type": "stream",
     "text": [
      "F1_SCORE : 0.967707297322106\n",
      "              precision    recall  f1-score   support\n",
      "\n",
      "           0       0.97      1.00      0.98        90\n",
      "           1       1.00      0.95      0.97        93\n",
      "           2       0.98      1.00      0.99        86\n",
      "           3       0.96      0.98      0.97        90\n",
      "           4       0.99      0.98      0.98        93\n",
      "           5       0.94      0.97      0.95        91\n",
      "           6       1.00      0.92      0.96        91\n",
      "           7       0.97      0.97      0.97        88\n",
      "           8       0.94      0.99      0.96        88\n",
      "           9       0.95      0.93      0.94        89\n",
      "\n",
      "   micro avg       0.97      0.97      0.97       899\n",
      "   macro avg       0.97      0.97      0.97       899\n",
      "weighted avg       0.97      0.97      0.97       899\n",
      "\n",
      "[[90  0  0  0  0  0  0  0  0  0]\n",
      " [ 0 88  1  0  0  1  0  0  2  1]\n",
      " [ 0  0 86  0  0  0  0  0  0  0]\n",
      " [ 0  0  1 88  0  0  0  1  0  0]\n",
      " [ 0  0  0  0 91  0  0  1  0  1]\n",
      " [ 0  0  0  1  1 88  0  0  0  1]\n",
      " [ 2  0  0  0  0  3 84  0  2  0]\n",
      " [ 0  0  0  0  0  0  0 85  2  1]\n",
      " [ 0  0  0  0  0  0  0  1 87  0]\n",
      " [ 1  0  0  3  0  2  0  0  0 83]]\n"
     ]
    }
   ],
   "source": [
    "print('F1_SCORE :', f1_score(np.argmax(yans, axis=1), pred_test, average='macro'))\n",
    "print(classification_report(np.argmax(yans, axis=1), pred_test))\n",
    "print(confusion_matrix(np.argmax(yans, axis=1), pred_test))"
   ]
  },
  {
   "cell_type": "code",
   "execution_count": null,
   "metadata": {
    "collapsed": true
   },
   "outputs": [],
   "source": []
  },
  {
   "cell_type": "code",
   "execution_count": null,
   "metadata": {
    "collapsed": true
   },
   "outputs": [],
   "source": []
  },
  {
   "cell_type": "code",
   "execution_count": null,
   "metadata": {
    "collapsed": true
   },
   "outputs": [],
   "source": []
  },
  {
   "cell_type": "code",
   "execution_count": null,
   "metadata": {
    "collapsed": true
   },
   "outputs": [],
   "source": []
  },
  {
   "cell_type": "code",
   "execution_count": null,
   "metadata": {
    "collapsed": true
   },
   "outputs": [],
   "source": []
  }
 ],
 "metadata": {
  "kernelspec": {
   "display_name": "Python 3",
   "language": "python",
   "name": "python3"
  },
  "language_info": {
   "codemirror_mode": {
    "name": "ipython",
    "version": 3
   },
   "file_extension": ".py",
   "mimetype": "text/x-python",
   "name": "python",
   "nbconvert_exporter": "python",
   "pygments_lexer": "ipython3",
   "version": "3.6.8"
  }
 },
 "nbformat": 4,
 "nbformat_minor": 2
}
