{
 "cells": [
  {
   "cell_type": "markdown",
   "metadata": {},
   "source": [
    "# som with scikit-learn manner\n",
    "sksom is scikit-learn api for SimpleSOM. This class has method below  \n",
    "* fit\n",
    "* predict\n",
    "* predict_proba\n",
    "\n",
    "and attributes labels\\_ too."
   ]
  },
  {
   "cell_type": "code",
   "execution_count": null,
   "metadata": {},
   "outputs": [
    {
     "name": "stderr",
     "output_type": "stream",
     "text": [
      "Using TensorFlow backend.\n",
      "/home/admin/miniconda3/envs/da02/lib/python3.6/site-packages/h5py/__init__.py:34: FutureWarning: Conversion of the second argument of issubdtype from `float` to `np.floating` is deprecated. In future, it will be treated as `np.float64 == np.dtype(float).type`.\n",
      "  from ._conv import register_converters as _register_converters\n"
     ]
    }
   ],
   "source": [
    "%matplotlib inline\n",
    "from IPython.display import SVG\n",
    "from keras.utils.vis_utils import model_to_dot"
   ]
  },
  {
   "cell_type": "code",
   "execution_count": null,
   "metadata": {
    "collapsed": true
   },
   "outputs": [],
   "source": [
    "#/home/admin/github/wordroid.sblo.jp/lib\n",
    "import os, sys\n",
    "sys.path.append('/home/admin/github/wordroid.sblo.jp/lib')\n",
    "from som import som"
   ]
  },
  {
   "cell_type": "code",
   "execution_count": null,
   "metadata": {
    "collapsed": true
   },
   "outputs": [],
   "source": [
    "import random\n",
    "\n",
    "import numpy as np\n",
    "import pandas as pd\n",
    "from sklearn import datasets\n",
    "from sklearn import preprocessing\n",
    "from sklearn.decomposition import PCA\n",
    "\n",
    "import matplotlib.pyplot as plt\n",
    "import seaborn as sns"
   ]
  },
  {
   "cell_type": "code",
   "execution_count": null,
   "metadata": {},
   "outputs": [],
   "source": [
    "iris = datasets.load_iris()\n",
    "print(dir(iris))\n",
    "X = iris.data\n",
    "print(iris.target_names)\n",
    "X_sc = preprocessing.scale(X)"
   ]
  },
  {
   "cell_type": "code",
   "execution_count": null,
   "metadata": {},
   "outputs": [],
   "source": [
    "X_sc[:3]"
   ]
  },
  {
   "cell_type": "code",
   "execution_count": null,
   "metadata": {},
   "outputs": [],
   "source": [
    "iris.target"
   ]
  },
  {
   "cell_type": "markdown",
   "metadata": {
    "collapsed": true
   },
   "source": [
    "### prepare initial landmarks\n",
    "You can obtain initial landmarks using SimpleSOM."
   ]
  },
  {
   "cell_type": "code",
   "execution_count": null,
   "metadata": {},
   "outputs": [],
   "source": [
    "sobj_makeK = som.SimpleSOM((20, 30), initialization_func='linear')\n",
    "#sobj_makeK = som.SimpleSOM((20, 30))\n",
    "sobj_makeK"
   ]
  },
  {
   "cell_type": "code",
   "execution_count": null,
   "metadata": {},
   "outputs": [],
   "source": [
    "sobj_makeK._initialize(X_sc)\n",
    "sobj_makeK.K.shape"
   ]
  },
  {
   "cell_type": "code",
   "execution_count": null,
   "metadata": {},
   "outputs": [],
   "source": [
    "img = som.conv2img(sobj_makeK.K, (20, 30))\n",
    "plt.figure(figsize=(10, 10))\n",
    "plt.imshow(img)"
   ]
  },
  {
   "cell_type": "markdown",
   "metadata": {},
   "source": [
    "### sksom"
   ]
  },
  {
   "cell_type": "code",
   "execution_count": null,
   "metadata": {},
   "outputs": [],
   "source": [
    "'''\n",
    "argument init_K must be needed\n",
    "'''\n",
    "sobj = som.sksom((20, 30), init_K=sobj_makeK.K, it=50, verbose=2, early_stopping=False)\n",
    "#sobj = som.sksom((20, 30), init_K=sobj_makeK.K, r=1.5, it=1500, verbose=2)\n",
    "sobj"
   ]
  },
  {
   "cell_type": "code",
   "execution_count": null,
   "metadata": {},
   "outputs": [],
   "source": [
    "img = som.conv2img(sobj.landmarks_, (20, 30))\n",
    "plt.figure(figsize=(10, 10))\n",
    "plt.imshow(img)"
   ]
  },
  {
   "cell_type": "markdown",
   "metadata": {},
   "source": [
    "## fit\n",
    "r decreases linearly to one during training, if r=None"
   ]
  },
  {
   "cell_type": "code",
   "execution_count": null,
   "metadata": {},
   "outputs": [],
   "source": [
    "sobj.fit(X_sc)"
   ]
  },
  {
   "cell_type": "code",
   "execution_count": null,
   "metadata": {},
   "outputs": [],
   "source": [
    "img = som.conv2img(sobj.landmarks_, (20, 30))\n",
    "plt.figure(figsize=(10, 10))\n",
    "plt.imshow(img)"
   ]
  },
  {
   "cell_type": "code",
   "execution_count": null,
   "metadata": {},
   "outputs": [],
   "source": [
    "img = som.conv2img(sobj.landmarks_, (20, 30))\n",
    "plt.figure(figsize=(10, 10))\n",
    "plt.imshow(img)\n",
    "\n",
    "for i, m in enumerate(sobj.predict(X_sc)):\n",
    "    b, a = divmod(m, sobj.kshape[1])\n",
    "    if iris.target_names[iris.target[i]] == 'versicolor':\n",
    "        plt.text(a, b, 'versicolor', ha='center', va='center',\n",
    "               bbox=dict(facecolor='lightblue', alpha=0.5, lw=0))\n",
    "    elif iris.target_names[iris.target[i]] == 'virginica':\n",
    "        plt.text(a, b, 'virginica', ha='center', va='center',\n",
    "               bbox=dict(facecolor='pink', alpha=0.5, lw=0))\n",
    "    else:\n",
    "        plt.text(a, b, 'setosa', ha='center', va='center',\n",
    "               bbox=dict(facecolor='white', alpha=0.5, lw=0))"
   ]
  },
  {
   "cell_type": "code",
   "execution_count": null,
   "metadata": {},
   "outputs": [],
   "source": [
    "df = pd.DataFrame(sobj.landmarks_)\n",
    "sns.pairplot(df, markers='.')"
   ]
  },
  {
   "cell_type": "code",
   "execution_count": null,
   "metadata": {},
   "outputs": [],
   "source": [
    "df = pd.DataFrame(X_sc)\n",
    "sns.pairplot(df, markers='.')"
   ]
  },
  {
   "cell_type": "code",
   "execution_count": null,
   "metadata": {},
   "outputs": [],
   "source": [
    "df1= pd.DataFrame(sobj.landmarks_)\n",
    "df1['cls'] = 'K'\n",
    "df1.head()\n",
    "df2 = pd.DataFrame(X_sc)\n",
    "df2['cls'] = 'X'\n",
    "df2.head()\n",
    "df = pd.concat([df1, df2], axis=0)\n",
    "df.head()\n",
    "df.shape\n",
    "sns.pairplot(df, markers=['.', 's'], hue='cls', plot_kws={'alpha': 0.5})"
   ]
  },
  {
   "cell_type": "markdown",
   "metadata": {},
   "source": [
    "### further train"
   ]
  },
  {
   "cell_type": "code",
   "execution_count": null,
   "metadata": {},
   "outputs": [],
   "source": [
    "'''\n",
    "r: 1.5 -> 1.0\n",
    "'''\n",
    "sobj.it = 500\n",
    "sobj.r = (1.5, 1.2)\n",
    "sobj.verbose = 2\n",
    "sobj.fit(X_sc)"
   ]
  },
  {
   "cell_type": "code",
   "execution_count": null,
   "metadata": {},
   "outputs": [],
   "source": [
    "lw = 2\n",
    "plt.plot(np.arange(len(sobj.meanDist)), sobj.meanDist, label=\"mean distance to closest landmark\",\n",
    "         color=\"darkorange\", lw=lw)\n",
    "plt.legend(loc=\"best\")"
   ]
  },
  {
   "cell_type": "code",
   "execution_count": null,
   "metadata": {},
   "outputs": [],
   "source": [
    "img = som.conv2img(sobj.landmarks_, (20, 30))\n",
    "plt.figure(figsize=(10, 10))\n",
    "plt.imshow(img)"
   ]
  },
  {
   "cell_type": "code",
   "execution_count": null,
   "metadata": {},
   "outputs": [],
   "source": [
    "img = som.conv2img(sobj.landmarks_, (20, 30))\n",
    "plt.figure(figsize=(10, 10))\n",
    "plt.imshow(img)\n",
    "\n",
    "for i, m in enumerate(sobj.predict(X_sc)):\n",
    "    b, a = divmod(m, sobj.kshape[1])\n",
    "    if iris.target_names[iris.target[i]] == 'versicolor':\n",
    "        plt.text(a, b, 'versicolor', ha='center', va='center',\n",
    "               bbox=dict(facecolor='lightblue', alpha=0.5, lw=0))\n",
    "    elif iris.target_names[iris.target[i]] == 'virginica':\n",
    "        plt.text(a, b, 'virginica', ha='center', va='center',\n",
    "               bbox=dict(facecolor='pink', alpha=0.5, lw=0))\n",
    "    else:\n",
    "        plt.text(a, b, 'setosa', ha='center', va='center',\n",
    "               bbox=dict(facecolor='white', alpha=0.5, lw=0))"
   ]
  },
  {
   "cell_type": "code",
   "execution_count": null,
   "metadata": {},
   "outputs": [],
   "source": [
    "df = pd.DataFrame(sobj.landmarks_)\n",
    "sns.pairplot(df, markers='.')"
   ]
  },
  {
   "cell_type": "code",
   "execution_count": null,
   "metadata": {},
   "outputs": [],
   "source": [
    "df = pd.DataFrame(X_sc)\n",
    "sns.pairplot(df, markers='.')"
   ]
  },
  {
   "cell_type": "code",
   "execution_count": null,
   "metadata": {},
   "outputs": [],
   "source": [
    "df1= pd.DataFrame(sobj.landmarks_)\n",
    "df1['cls'] = 'K'\n",
    "df1.head()\n",
    "df2 = pd.DataFrame(X_sc)\n",
    "df2['cls'] = 'X'\n",
    "df2.head()\n",
    "df = pd.concat([df1, df2], axis=0)\n",
    "df.head()\n",
    "df.shape\n",
    "sns.pairplot(df, markers=['.', 's'], hue='cls', plot_kws={'alpha': 0.5})"
   ]
  },
  {
   "cell_type": "code",
   "execution_count": null,
   "metadata": {
    "collapsed": true
   },
   "outputs": [],
   "source": []
  },
  {
   "cell_type": "markdown",
   "metadata": {},
   "source": [
    "## labels_"
   ]
  },
  {
   "cell_type": "code",
   "execution_count": null,
   "metadata": {},
   "outputs": [],
   "source": [
    "sobj.labels_"
   ]
  },
  {
   "cell_type": "markdown",
   "metadata": {},
   "source": [
    "## predict\n",
    "predict returns the nearest labels of input"
   ]
  },
  {
   "cell_type": "code",
   "execution_count": null,
   "metadata": {},
   "outputs": [],
   "source": [
    "sobj.predict(sobj.landmarks_[:30])"
   ]
  },
  {
   "cell_type": "code",
   "execution_count": null,
   "metadata": {},
   "outputs": [],
   "source": [
    "sobj.predict(X_sc)"
   ]
  },
  {
   "cell_type": "markdown",
   "metadata": {},
   "source": [
    "## predict_proba\n",
    "predict_proba returns probability array of shape = [n_query, n_landmarks]"
   ]
  },
  {
   "cell_type": "code",
   "execution_count": null,
   "metadata": {},
   "outputs": [],
   "source": [
    "'''\n",
    "evaluate by gaussian kernel with gamma\n",
    "'''\n",
    "print(sobj.som.gamma)\n",
    "sobj.predict_proba(X_sc)[:10,:5]"
   ]
  },
  {
   "cell_type": "code",
   "execution_count": null,
   "metadata": {},
   "outputs": [],
   "source": [
    "sobj.predict_proba(sobj.landmarks_[:15])[:,:5]"
   ]
  },
  {
   "cell_type": "code",
   "execution_count": null,
   "metadata": {
    "collapsed": true
   },
   "outputs": [],
   "source": []
  },
  {
   "cell_type": "code",
   "execution_count": null,
   "metadata": {
    "collapsed": true
   },
   "outputs": [],
   "source": []
  }
 ],
 "metadata": {
  "kernelspec": {
   "display_name": "Python 3",
   "language": "python",
   "name": "python3"
  },
  "language_info": {
   "codemirror_mode": {
    "name": "ipython",
    "version": 3
   },
   "file_extension": ".py",
   "mimetype": "text/x-python",
   "name": "python",
   "nbconvert_exporter": "python",
   "pygments_lexer": "ipython3",
   "version": "3.6.8"
  }
 },
 "nbformat": 4,
 "nbformat_minor": 2
}
