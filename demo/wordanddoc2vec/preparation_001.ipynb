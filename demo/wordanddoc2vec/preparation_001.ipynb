{
 "cells": [
  {
   "cell_type": "markdown",
   "metadata": {
    "collapsed": true
   },
   "source": [
    "preparation sample program using Reuters newswire topics."
   ]
  },
  {
   "cell_type": "code",
   "execution_count": 1,
   "metadata": {},
   "outputs": [
    {
     "name": "stderr",
     "output_type": "stream",
     "text": [
      "Using TensorFlow backend.\n"
     ]
    }
   ],
   "source": [
    "import os.path\n",
    "import sys\n",
    "import re\n",
    "import itertools\n",
    "import csv\n",
    "import datetime\n",
    "import pickle\n",
    "import random\n",
    "from collections import defaultdict, Counter\n",
    "\n",
    "import matplotlib.pyplot as plt\n",
    "from matplotlib.ticker import NullFormatter\n",
    "import seaborn as sns\n",
    "import pandas as pd\n",
    "import numpy as np\n",
    "import scipy\n",
    "import gensim\n",
    "from sklearn.metrics import f1_score, classification_report, confusion_matrix, log_loss\n",
    "from sklearn.model_selection import train_test_split"
   ]
  },
  {
   "cell_type": "markdown",
   "metadata": {},
   "source": [
    "### load dataset Reuters newswire topics"
   ]
  },
  {
   "cell_type": "code",
   "execution_count": 2,
   "metadata": {
    "collapsed": true
   },
   "outputs": [],
   "source": [
    "from keras.datasets import reuters"
   ]
  },
  {
   "cell_type": "markdown",
   "metadata": {},
   "source": [
    "### create word_dic"
   ]
  },
  {
   "cell_type": "code",
   "execution_count": 3,
   "metadata": {
    "collapsed": true
   },
   "outputs": [],
   "source": [
    "word_index = reuters.get_word_index()"
   ]
  },
  {
   "cell_type": "markdown",
   "metadata": {},
   "source": [
    "Reuters' corpus is coded from 4."
   ]
  },
  {
   "cell_type": "code",
   "execution_count": 4,
   "metadata": {
    "collapsed": true
   },
   "outputs": [],
   "source": [
    "word_index2 = dict([(k, v+3) for k, v in word_index.items()])\n",
    "word_dic = gensim.corpora.Dictionary([['<padding>', '<start_char>', '<oov_char>'],], prune_at=None)\n",
    "word_dic.token2id.update(word_index2)"
   ]
  },
  {
   "cell_type": "code",
   "execution_count": 5,
   "metadata": {},
   "outputs": [
    {
     "data": {
      "text/plain": [
       "'mcgrath'"
      ]
     },
     "execution_count": 5,
     "metadata": {},
     "output_type": "execute_result"
    }
   ],
   "source": [
    "word_dic[27595]"
   ]
  },
  {
   "cell_type": "code",
   "execution_count": 6,
   "metadata": {},
   "outputs": [
    {
     "data": {
      "text/plain": [
       "'the'"
      ]
     },
     "execution_count": 6,
     "metadata": {},
     "output_type": "execute_result"
    }
   ],
   "source": [
    "word_dic[4]"
   ]
  },
  {
   "cell_type": "code",
   "execution_count": 7,
   "metadata": {},
   "outputs": [
    {
     "data": {
      "text/plain": [
       "'<padding>'"
      ]
     },
     "execution_count": 7,
     "metadata": {},
     "output_type": "execute_result"
    }
   ],
   "source": [
    "word_dic[0]"
   ]
  },
  {
   "cell_type": "code",
   "execution_count": 8,
   "metadata": {},
   "outputs": [
    {
     "ename": "KeyError",
     "evalue": "3",
     "output_type": "error",
     "traceback": [
      "\u001b[0;31m---------------------------------------------------------------------------\u001b[0m",
      "\u001b[0;31mKeyError\u001b[0m                                  Traceback (most recent call last)",
      "\u001b[0;32m<ipython-input-8-2ee77b2bed3a>\u001b[0m in \u001b[0;36m<module>\u001b[0;34m()\u001b[0m\n\u001b[1;32m      2\u001b[0m \u001b[0man\u001b[0m \u001b[0merror\u001b[0m \u001b[0mwill\u001b[0m \u001b[0moccur\u001b[0m\u001b[0;34m\u001b[0m\u001b[0m\n\u001b[1;32m      3\u001b[0m '''\n\u001b[0;32m----> 4\u001b[0;31m \u001b[0mword_dic\u001b[0m\u001b[0;34m[\u001b[0m\u001b[0;36m3\u001b[0m\u001b[0;34m]\u001b[0m\u001b[0;34m\u001b[0m\u001b[0m\n\u001b[0m",
      "\u001b[0;32m~/miniconda3/envs/da02/lib/python3.6/site-packages/gensim/corpora/dictionary.py\u001b[0m in \u001b[0;36m__getitem__\u001b[0;34m(self, tokenid)\u001b[0m\n\u001b[1;32m     63\u001b[0m             \u001b[0;31m# recompute id->word accordingly\u001b[0m\u001b[0;34m\u001b[0m\u001b[0;34m\u001b[0m\u001b[0m\n\u001b[1;32m     64\u001b[0m             \u001b[0mself\u001b[0m\u001b[0;34m.\u001b[0m\u001b[0mid2token\u001b[0m \u001b[0;34m=\u001b[0m \u001b[0mdict\u001b[0m\u001b[0;34m(\u001b[0m\u001b[0;34m(\u001b[0m\u001b[0mv\u001b[0m\u001b[0;34m,\u001b[0m \u001b[0mk\u001b[0m\u001b[0;34m)\u001b[0m \u001b[0;32mfor\u001b[0m \u001b[0mk\u001b[0m\u001b[0;34m,\u001b[0m \u001b[0mv\u001b[0m \u001b[0;32min\u001b[0m \u001b[0miteritems\u001b[0m\u001b[0;34m(\u001b[0m\u001b[0mself\u001b[0m\u001b[0;34m.\u001b[0m\u001b[0mtoken2id\u001b[0m\u001b[0;34m)\u001b[0m\u001b[0;34m)\u001b[0m\u001b[0;34m\u001b[0m\u001b[0m\n\u001b[0;32m---> 65\u001b[0;31m         \u001b[0;32mreturn\u001b[0m \u001b[0mself\u001b[0m\u001b[0;34m.\u001b[0m\u001b[0mid2token\u001b[0m\u001b[0;34m[\u001b[0m\u001b[0mtokenid\u001b[0m\u001b[0;34m]\u001b[0m  \u001b[0;31m# will throw for non-existent ids\u001b[0m\u001b[0;34m\u001b[0m\u001b[0m\n\u001b[0m\u001b[1;32m     66\u001b[0m \u001b[0;34m\u001b[0m\u001b[0m\n\u001b[1;32m     67\u001b[0m     \u001b[0;32mdef\u001b[0m \u001b[0m__iter__\u001b[0m\u001b[0;34m(\u001b[0m\u001b[0mself\u001b[0m\u001b[0;34m)\u001b[0m\u001b[0;34m:\u001b[0m\u001b[0;34m\u001b[0m\u001b[0m\n",
      "\u001b[0;31mKeyError\u001b[0m: 3"
     ]
    }
   ],
   "source": [
    "'''\n",
    "an error will occur\n",
    "'''\n",
    "word_dic[3]"
   ]
  },
  {
   "cell_type": "markdown",
   "metadata": {},
   "source": [
    "### load corpus"
   ]
  },
  {
   "cell_type": "code",
   "execution_count": 9,
   "metadata": {
    "collapsed": true
   },
   "outputs": [],
   "source": [
    "(doc, cat), (doc_test, cat_test) = reuters.load_data(test_split=0.0, start_char=None)"
   ]
  },
  {
   "cell_type": "code",
   "execution_count": 10,
   "metadata": {},
   "outputs": [
    {
     "data": {
      "text/plain": [
       "'mcgrath rentcorp said as a result of its december acquisition of space co it expects earnings per share in 1987 of 1 15 to 1 30 dlrs per share up from 70 cts in 1986 the company said pretax net should rise to nine to 10 mln dlrs from six mln dlrs in 1986 and rental operation revenues to 19 to 22 mln dlrs from 12 5 mln dlrs it said cash flow per share this year should be 2 50 to three dlrs reuter 3'"
      ]
     },
     "execution_count": 10,
     "metadata": {},
     "output_type": "execute_result"
    }
   ],
   "source": [
    "' '.join([word_dic[ee] for ee in doc[0]])"
   ]
  },
  {
   "cell_type": "markdown",
   "metadata": {},
   "source": [
    "### create doc_seq\n",
    "doc_seq is just a sequence that returns a list of word."
   ]
  },
  {
   "cell_type": "code",
   "execution_count": 12,
   "metadata": {
    "collapsed": true
   },
   "outputs": [],
   "source": [
    "doc_seq = [[word_dic[ee] for ee in doc[ii]] for ii in range(len(doc))]"
   ]
  },
  {
   "cell_type": "code",
   "execution_count": 13,
   "metadata": {},
   "outputs": [
    {
     "data": {
      "text/plain": [
       "11228"
      ]
     },
     "execution_count": 13,
     "metadata": {},
     "output_type": "execute_result"
    }
   ],
   "source": [
    "len(doc_seq)"
   ]
  },
  {
   "cell_type": "code",
   "execution_count": 14,
   "metadata": {
    "scrolled": false
   },
   "outputs": [
    {
     "data": {
      "text/plain": [
       "['mcgrath',\n",
       " 'rentcorp',\n",
       " 'said',\n",
       " 'as',\n",
       " 'a',\n",
       " 'result',\n",
       " 'of',\n",
       " 'its',\n",
       " 'december',\n",
       " 'acquisition',\n",
       " 'of',\n",
       " 'space',\n",
       " 'co',\n",
       " 'it',\n",
       " 'expects',\n",
       " 'earnings',\n",
       " 'per',\n",
       " 'share',\n",
       " 'in',\n",
       " '1987',\n",
       " 'of',\n",
       " '1',\n",
       " '15',\n",
       " 'to',\n",
       " '1',\n",
       " '30',\n",
       " 'dlrs',\n",
       " 'per',\n",
       " 'share',\n",
       " 'up',\n",
       " 'from',\n",
       " '70',\n",
       " 'cts',\n",
       " 'in',\n",
       " '1986',\n",
       " 'the',\n",
       " 'company',\n",
       " 'said',\n",
       " 'pretax',\n",
       " 'net',\n",
       " 'should',\n",
       " 'rise',\n",
       " 'to',\n",
       " 'nine',\n",
       " 'to',\n",
       " '10',\n",
       " 'mln',\n",
       " 'dlrs',\n",
       " 'from',\n",
       " 'six',\n",
       " 'mln',\n",
       " 'dlrs',\n",
       " 'in',\n",
       " '1986',\n",
       " 'and',\n",
       " 'rental',\n",
       " 'operation',\n",
       " 'revenues',\n",
       " 'to',\n",
       " '19',\n",
       " 'to',\n",
       " '22',\n",
       " 'mln',\n",
       " 'dlrs',\n",
       " 'from',\n",
       " '12',\n",
       " '5',\n",
       " 'mln',\n",
       " 'dlrs',\n",
       " 'it',\n",
       " 'said',\n",
       " 'cash',\n",
       " 'flow',\n",
       " 'per',\n",
       " 'share',\n",
       " 'this',\n",
       " 'year',\n",
       " 'should',\n",
       " 'be',\n",
       " '2',\n",
       " '50',\n",
       " 'to',\n",
       " 'three',\n",
       " 'dlrs',\n",
       " 'reuter',\n",
       " '3']"
      ]
     },
     "execution_count": 14,
     "metadata": {},
     "output_type": "execute_result"
    }
   ],
   "source": [
    "doc_seq[0]"
   ]
  },
  {
   "cell_type": "markdown",
   "metadata": {},
   "source": [
    "### create doc_dic"
   ]
  },
  {
   "cell_type": "code",
   "execution_count": 15,
   "metadata": {
    "collapsed": true
   },
   "outputs": [],
   "source": [
    "doc_dic = gensim.corpora.Dictionary(prune_at=None)\n",
    "doc_dic.token2id.update(dict([('d'+str(ee+1), ee) for ee in range(len(doc))]))"
   ]
  },
  {
   "cell_type": "code",
   "execution_count": 16,
   "metadata": {},
   "outputs": [
    {
     "data": {
      "text/plain": [
       "['d1', 'd2', 'd3', 'd4', 'd5']"
      ]
     },
     "execution_count": 16,
     "metadata": {},
     "output_type": "execute_result"
    }
   ],
   "source": [
    "list(doc_dic.token2id.keys())[:5]"
   ]
  },
  {
   "cell_type": "markdown",
   "metadata": {},
   "source": [
    "doc_seq is referenced as follows."
   ]
  },
  {
   "cell_type": "code",
   "execution_count": 17,
   "metadata": {},
   "outputs": [
    {
     "data": {
      "text/plain": [
       "['mcgrath',\n",
       " 'rentcorp',\n",
       " 'said',\n",
       " 'as',\n",
       " 'a',\n",
       " 'result',\n",
       " 'of',\n",
       " 'its',\n",
       " 'december',\n",
       " 'acquisition',\n",
       " 'of',\n",
       " 'space',\n",
       " 'co',\n",
       " 'it',\n",
       " 'expects',\n",
       " 'earnings',\n",
       " 'per',\n",
       " 'share',\n",
       " 'in',\n",
       " '1987',\n",
       " 'of',\n",
       " '1',\n",
       " '15',\n",
       " 'to',\n",
       " '1',\n",
       " '30',\n",
       " 'dlrs',\n",
       " 'per',\n",
       " 'share',\n",
       " 'up',\n",
       " 'from',\n",
       " '70',\n",
       " 'cts',\n",
       " 'in',\n",
       " '1986',\n",
       " 'the',\n",
       " 'company',\n",
       " 'said',\n",
       " 'pretax',\n",
       " 'net',\n",
       " 'should',\n",
       " 'rise',\n",
       " 'to',\n",
       " 'nine',\n",
       " 'to',\n",
       " '10',\n",
       " 'mln',\n",
       " 'dlrs',\n",
       " 'from',\n",
       " 'six',\n",
       " 'mln',\n",
       " 'dlrs',\n",
       " 'in',\n",
       " '1986',\n",
       " 'and',\n",
       " 'rental',\n",
       " 'operation',\n",
       " 'revenues',\n",
       " 'to',\n",
       " '19',\n",
       " 'to',\n",
       " '22',\n",
       " 'mln',\n",
       " 'dlrs',\n",
       " 'from',\n",
       " '12',\n",
       " '5',\n",
       " 'mln',\n",
       " 'dlrs',\n",
       " 'it',\n",
       " 'said',\n",
       " 'cash',\n",
       " 'flow',\n",
       " 'per',\n",
       " 'share',\n",
       " 'this',\n",
       " 'year',\n",
       " 'should',\n",
       " 'be',\n",
       " '2',\n",
       " '50',\n",
       " 'to',\n",
       " 'three',\n",
       " 'dlrs',\n",
       " 'reuter',\n",
       " '3']"
      ]
     },
     "execution_count": 17,
     "metadata": {},
     "output_type": "execute_result"
    }
   ],
   "source": [
    "doc_seq[doc_dic.token2id['d1']]"
   ]
  },
  {
   "cell_type": "markdown",
   "metadata": {},
   "source": [
    "Create an instance of WordAndDoc2vec using doc_seq, word_dic and doc_dic."
   ]
  },
  {
   "cell_type": "markdown",
   "metadata": {},
   "source": [
    "```python\n",
    "wd2v = WordAndDoc2vec(doc_seq, word_dic, doc_dic, logging=False)\n",
    "wd2v\n",
    "```"
   ]
  }
 ],
 "metadata": {
  "kernelspec": {
   "display_name": "Python 3",
   "language": "python",
   "name": "python3"
  },
  "language_info": {
   "codemirror_mode": {
    "name": "ipython",
    "version": 3
   },
   "file_extension": ".py",
   "mimetype": "text/x-python",
   "name": "python",
   "nbconvert_exporter": "python",
   "pygments_lexer": "ipython3",
   "version": "3.6.2"
  }
 },
 "nbformat": 4,
 "nbformat_minor": 2
}
