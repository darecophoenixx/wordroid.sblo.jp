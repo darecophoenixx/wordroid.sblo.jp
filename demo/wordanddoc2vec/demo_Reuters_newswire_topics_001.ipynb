{
 "cells": [
  {
   "cell_type": "markdown",
   "metadata": {},
   "source": [
    "demo : Reuters newswire topics (Keras dataset)"
   ]
  },
  {
   "cell_type": "code",
   "execution_count": 1,
   "metadata": {},
   "outputs": [
    {
     "name": "stderr",
     "output_type": "stream",
     "text": [
      "Using TensorFlow backend.\n"
     ]
    }
   ],
   "source": [
    "%matplotlib inline\n",
    "from IPython.display import SVG\n",
    "from keras.utils.vis_utils import model_to_dot"
   ]
  },
  {
   "cell_type": "code",
   "execution_count": 2,
   "metadata": {
    "collapsed": true
   },
   "outputs": [],
   "source": [
    "import sys\n",
    "sys.path.append('/home/admin/github/wordroid.sblo.jp/lib')\n",
    "from feature_eng import WordAndDoc2vec"
   ]
  },
  {
   "cell_type": "code",
   "execution_count": 3,
   "metadata": {
    "collapsed": true
   },
   "outputs": [],
   "source": [
    "import os.path\n",
    "import sys\n",
    "import re\n",
    "import itertools\n",
    "import csv\n",
    "import datetime\n",
    "import pickle\n",
    "import random\n",
    "from collections import defaultdict, Counter\n",
    "import gc\n",
    "\n",
    "import matplotlib.pyplot as plt\n",
    "from matplotlib.ticker import NullFormatter\n",
    "import seaborn as sns\n",
    "import pandas as pd\n",
    "import numpy as np\n",
    "import scipy\n",
    "import gensim\n",
    "from sklearn.metrics import f1_score, classification_report, confusion_matrix, log_loss\n",
    "from sklearn.model_selection import train_test_split\n",
    "import gensim\n",
    "from keras.preprocessing.sequence import skipgrams\n",
    "import tensorflow as tf"
   ]
  },
  {
   "cell_type": "code",
   "execution_count": 4,
   "metadata": {
    "collapsed": true
   },
   "outputs": [],
   "source": [
    "def hexbin(x, y, color, **kwargs):\n",
    "    cmap = sns.light_palette(color, as_cmap=True)\n",
    "    plt.hexbin(x, y, cmap=cmap, **kwargs)\n",
    "def scatter(x, y, color, **kwargs):\n",
    "    plt.scatter(x, y, marker='.')"
   ]
  },
  {
   "cell_type": "markdown",
   "metadata": {},
   "source": [
    "### load data"
   ]
  },
  {
   "cell_type": "code",
   "execution_count": 5,
   "metadata": {
    "collapsed": true
   },
   "outputs": [],
   "source": [
    "from keras.datasets import reuters"
   ]
  },
  {
   "cell_type": "code",
   "execution_count": 6,
   "metadata": {
    "collapsed": true
   },
   "outputs": [],
   "source": [
    "word_index = reuters.get_word_index()\n",
    "word_index2 = dict([(k, v+3) for k, v in word_index.items()])\n",
    "word_dic = gensim.corpora.Dictionary([['<padding>', '<start_char>', '<oov_char>'],], prune_at=None)\n",
    "word_dic.token2id.update(word_index2)"
   ]
  },
  {
   "cell_type": "code",
   "execution_count": 7,
   "metadata": {},
   "outputs": [
    {
     "data": {
      "text/plain": [
       "'mcgrath'"
      ]
     },
     "execution_count": 7,
     "metadata": {},
     "output_type": "execute_result"
    }
   ],
   "source": [
    "word_dic[27595]"
   ]
  },
  {
   "cell_type": "code",
   "execution_count": 8,
   "metadata": {},
   "outputs": [
    {
     "data": {
      "text/plain": [
       "'the'"
      ]
     },
     "execution_count": 8,
     "metadata": {},
     "output_type": "execute_result"
    }
   ],
   "source": [
    "word_dic[4]"
   ]
  },
  {
   "cell_type": "code",
   "execution_count": 9,
   "metadata": {
    "collapsed": true
   },
   "outputs": [],
   "source": [
    "(doc, cat), (doc_test, cat_test) = reuters.load_data(test_split=0.0, start_char=None)"
   ]
  },
  {
   "cell_type": "code",
   "execution_count": 10,
   "metadata": {},
   "outputs": [
    {
     "data": {
      "text/plain": [
       "'mcgrath rentcorp said as a result of its december acquisition of space co it expects earnings per share in 1987 of 1 15 to 1 30 dlrs per share up from 70 cts in 1986 the company said pretax net should rise to nine to 10 mln dlrs from six mln dlrs in 1986 and rental operation revenues to 19 to 22 mln dlrs from 12 5 mln dlrs it said cash flow per share this year should be 2 50 to three dlrs reuter 3'"
      ]
     },
     "execution_count": 10,
     "metadata": {},
     "output_type": "execute_result"
    }
   ],
   "source": [
    "' '.join([word_dic[ee] for ee in doc[0]])"
   ]
  },
  {
   "cell_type": "code",
   "execution_count": 11,
   "metadata": {
    "collapsed": true
   },
   "outputs": [],
   "source": [
    "doc_dic = gensim.corpora.Dictionary(prune_at=None)\n",
    "doc_dic.token2id.update(dict([('d'+str(ee+1), ee) for ee in range(len(doc))]))"
   ]
  },
  {
   "cell_type": "code",
   "execution_count": 12,
   "metadata": {
    "collapsed": true
   },
   "outputs": [],
   "source": [
    "doc_seq = [[word_dic[ee] for ee in doc[ii]] for ii in range(len(doc))]"
   ]
  },
  {
   "cell_type": "code",
   "execution_count": 13,
   "metadata": {
    "collapsed": true
   },
   "outputs": [],
   "source": [
    "cat\n",
    "cls = pd.Series(['c'+str(c) for c in cat])"
   ]
  },
  {
   "cell_type": "markdown",
   "metadata": {},
   "source": [
    "### create WordAndDoc2vec instance"
   ]
  },
  {
   "cell_type": "code",
   "execution_count": 14,
   "metadata": {},
   "outputs": [
    {
     "name": "stdout",
     "output_type": "stream",
     "text": [
      "len(doc_seq) >>> 11228\n",
      "max(doc_dic.keys()) + 1 >>> 11228\n",
      "num_features >>> 30983\n",
      "corpus_csr.shape >>> (11228, 30983)\n",
      "creating tfidf...\n",
      "<feature_eng.neg_smpl.MySparseMatrixSimilarity object at 0x7fa3c40c4f98>\n",
      "<feature_eng.neg_smpl.Dic4seq object at 0x7fa3c40c4fd0>\n"
     ]
    },
    {
     "data": {
      "text/plain": [
       "<feature_eng.neg_smpl.WordAndDoc2vec at 0x7fa3d2d309e8>"
      ]
     },
     "execution_count": 14,
     "metadata": {},
     "output_type": "execute_result"
    }
   ],
   "source": [
    "wd2v = WordAndDoc2vec(doc_seq, word_dic, doc_dic, logging=False)\n",
    "wd2v"
   ]
  },
  {
   "cell_type": "markdown",
   "metadata": {},
   "source": [
    "### create model"
   ]
  },
  {
   "cell_type": "code",
   "execution_count": 15,
   "metadata": {},
   "outputs": [
    {
     "data": {
      "text/plain": [
       "{'model': <keras.engine.training.Model at 0x7fa3c516e828>,\n",
       " 'model_neg': <keras.engine.training.Model at 0x7fa3c414f518>,\n",
       " 'model_prob': <keras.engine.training.Model at 0x7fa3c4824390>,\n",
       " 'model_prob2': <keras.engine.training.Model at 0x7fa3c4c59be0>,\n",
       " 'model_prob2_cnfm': <keras.engine.training.Model at 0x7fa3c4821a20>,\n",
       " 'model_prob_cnfm': <keras.engine.training.Model at 0x7fa3c44b2898>,\n",
       " 'model_prod': <keras.engine.training.Model at 0x7fa3c40b2710>,\n",
       " 'model_user': <keras.engine.training.Model at 0x7fa3c40b26d8>}"
      ]
     },
     "execution_count": 15,
     "metadata": {},
     "output_type": "execute_result"
    }
   ],
   "source": [
    "num_features = 96\n",
    "wd2v.make_model(max_num_prod=5, num_neg=3, num_features=num_features,\n",
    "                embeddings_val=0.5, gamma=0.0)"
   ]
  },
  {
   "cell_type": "markdown",
   "metadata": {},
   "source": [
    "### start train\n",
    "note : it will take a long time..."
   ]
  },
  {
   "cell_type": "code",
   "execution_count": 16,
   "metadata": {},
   "outputs": [
    {
     "name": "stdout",
     "output_type": "stream",
     "text": [
      "len(seq) >>> 351\n",
      "Epoch 1/128\n",
      "Learning rate:  0.02\n",
      "351/351 [==============================] - 49s 139ms/step - loss: 0.4030 - acc: 0.8130\n",
      "Epoch 2/128\n",
      "Learning rate:  0.01\n",
      "351/351 [==============================] - 48s 138ms/step - loss: 0.2914 - acc: 0.8905\n",
      "Epoch 3/128\n",
      "Learning rate:  0.005\n",
      "351/351 [==============================] - 49s 138ms/step - loss: 0.2598 - acc: 0.9042\n",
      "Epoch 4/128\n",
      "Learning rate:  0.0025\n",
      "351/351 [==============================] - 48s 138ms/step - loss: 0.2526 - acc: 0.9075\n",
      "Epoch 5/128\n",
      "Learning rate:  0.02\n",
      "351/351 [==============================] - 50s 141ms/step - loss: 0.2653 - acc: 0.9085\n",
      "Epoch 6/128\n",
      "Learning rate:  0.01\n",
      "351/351 [==============================] - 51s 144ms/step - loss: 0.2526 - acc: 0.9124\n",
      "Epoch 7/128\n",
      "Learning rate:  0.005\n",
      "351/351 [==============================] - 51s 145ms/step - loss: 0.2412 - acc: 0.9151\n",
      "Epoch 8/128\n",
      "Learning rate:  0.0025\n",
      "351/351 [==============================] - 49s 140ms/step - loss: 0.2317 - acc: 0.9190\n",
      "Epoch 9/128\n",
      "Learning rate:  0.02\n",
      "351/351 [==============================] - 49s 140ms/step - loss: 0.2454 - acc: 0.9160\n",
      "Epoch 10/128\n",
      "Learning rate:  0.01\n",
      "351/351 [==============================] - 49s 140ms/step - loss: 0.2453 - acc: 0.9080\n",
      "Epoch 11/128\n",
      "Learning rate:  0.005\n",
      "351/351 [==============================] - 51s 146ms/step - loss: 0.2385 - acc: 0.9122\n",
      "Epoch 12/128\n",
      "Learning rate:  0.0025\n",
      "351/351 [==============================] - 50s 141ms/step - loss: 0.2237 - acc: 0.9188\n",
      "Epoch 13/128\n",
      "Learning rate:  0.02\n",
      "351/351 [==============================] - 53s 152ms/step - loss: 0.2379 - acc: 0.9154\n",
      "Epoch 14/128\n",
      "Learning rate:  0.01\n",
      "351/351 [==============================] - 54s 152ms/step - loss: 0.2421 - acc: 0.9068\n",
      "Epoch 15/128\n",
      "Learning rate:  0.005\n",
      "351/351 [==============================] - 51s 145ms/step - loss: 0.2357 - acc: 0.9115\n",
      "Epoch 16/128\n",
      "Learning rate:  0.0025\n",
      "351/351 [==============================] - 49s 139ms/step - loss: 0.2194 - acc: 0.9185\n",
      "Epoch 17/128\n",
      "Learning rate:  0.02\n",
      "351/351 [==============================] - 50s 141ms/step - loss: 0.2337 - acc: 0.9149\n",
      "Epoch 18/128\n",
      "Learning rate:  0.01\n",
      "351/351 [==============================] - 49s 139ms/step - loss: 0.2385 - acc: 0.9066\n",
      "Epoch 19/128\n",
      "Learning rate:  0.005\n",
      "351/351 [==============================] - 58s 166ms/step - loss: 0.2324 - acc: 0.9114\n",
      "Epoch 20/128\n",
      "Learning rate:  0.0025\n",
      "351/351 [==============================] - 53s 150ms/step - loss: 0.2165 - acc: 0.9183\n",
      "Epoch 21/128\n",
      "Learning rate:  0.02\n",
      "351/351 [==============================] - 55s 156ms/step - loss: 0.2308 - acc: 0.9144\n",
      "Epoch 22/128\n",
      "Learning rate:  0.01\n",
      "351/351 [==============================] - 62s 177ms/step - loss: 0.2363 - acc: 0.9066\n",
      "Epoch 23/128\n",
      "Learning rate:  0.005\n",
      "351/351 [==============================] - 59s 167ms/step - loss: 0.2302 - acc: 0.9113\n",
      "Epoch 24/128\n",
      "Learning rate:  0.0025\n",
      "351/351 [==============================] - 51s 145ms/step - loss: 0.2148 - acc: 0.9182\n",
      "Epoch 25/128\n",
      "Learning rate:  0.02\n",
      "351/351 [==============================] - 56s 159ms/step - loss: 0.2289 - acc: 0.9142\n",
      "Epoch 26/128\n",
      "Learning rate:  0.01\n",
      "351/351 [==============================] - 62s 177ms/step - loss: 0.2348 - acc: 0.9062\n",
      "Epoch 27/128\n",
      "Learning rate:  0.005\n",
      "351/351 [==============================] - 55s 158ms/step - loss: 0.2292 - acc: 0.9107\n",
      "Epoch 28/128\n",
      "Learning rate:  0.0025\n",
      "351/351 [==============================] - 49s 139ms/step - loss: 0.2135 - acc: 0.9181\n",
      "Epoch 29/128\n",
      "Learning rate:  0.02\n",
      "351/351 [==============================] - 58s 167ms/step - loss: 0.2275 - acc: 0.9138\n",
      "Epoch 30/128\n",
      "Learning rate:  0.01\n",
      "351/351 [==============================] - 52s 149ms/step - loss: 0.2338 - acc: 0.9063\n",
      "Epoch 31/128\n",
      "Learning rate:  0.005\n",
      "351/351 [==============================] - 58s 166ms/step - loss: 0.2284 - acc: 0.9109\n",
      "Epoch 32/128\n",
      "Learning rate:  0.0025\n",
      "351/351 [==============================] - 50s 141ms/step - loss: 0.2129 - acc: 0.9180\n",
      "Epoch 33/128\n",
      "Learning rate:  0.01\n",
      "351/351 [==============================] - 49s 139ms/step - loss: 0.2183 - acc: 0.9163\n",
      "Epoch 34/128\n",
      "Learning rate:  0.005\n",
      "351/351 [==============================] - 49s 139ms/step - loss: 0.2154 - acc: 0.9163\n",
      "Epoch 35/128\n",
      "Learning rate:  0.0025\n",
      "351/351 [==============================] - 49s 139ms/step - loss: 0.2123 - acc: 0.9180\n",
      "Epoch 36/128\n",
      "Learning rate:  0.00125\n",
      "351/351 [==============================] - 50s 143ms/step - loss: 0.2103 - acc: 0.9189\n",
      "Epoch 37/128\n",
      "Learning rate:  0.01\n",
      "351/351 [==============================] - 58s 165ms/step - loss: 0.2179 - acc: 0.9163\n",
      "Epoch 38/128\n",
      "Learning rate:  0.005\n",
      "351/351 [==============================] - 52s 147ms/step - loss: 0.2163 - acc: 0.9153\n",
      "Epoch 39/128\n",
      "Learning rate:  0.0025\n",
      "351/351 [==============================] - 51s 146ms/step - loss: 0.2137 - acc: 0.9175\n",
      "Epoch 40/128\n",
      "Learning rate:  0.00125\n",
      "351/351 [==============================] - 51s 144ms/step - loss: 0.2100 - acc: 0.9189\n",
      "Epoch 41/128\n",
      "Learning rate:  0.01\n",
      "351/351 [==============================] - 49s 140ms/step - loss: 0.2178 - acc: 0.9163\n",
      "Epoch 42/128\n",
      "Learning rate:  0.005\n",
      "351/351 [==============================] - 53s 150ms/step - loss: 0.2176 - acc: 0.9142\n",
      "Epoch 43/128\n",
      "Learning rate:  0.0025\n",
      "351/351 [==============================] - 55s 157ms/step - loss: 0.2144 - acc: 0.9171\n",
      "Epoch 44/128\n",
      "Learning rate:  0.00125\n",
      "351/351 [==============================] - 51s 145ms/step - loss: 0.2099 - acc: 0.9187\n",
      "Epoch 45/128\n",
      "Learning rate:  0.01\n",
      "351/351 [==============================] - 58s 165ms/step - loss: 0.2175 - acc: 0.9161\n",
      "Epoch 46/128\n",
      "Learning rate:  0.005\n",
      "351/351 [==============================] - 56s 160ms/step - loss: 0.2172 - acc: 0.9144\n",
      "Epoch 47/128\n",
      "Learning rate:  0.0025\n",
      "351/351 [==============================] - 61s 174ms/step - loss: 0.2139 - acc: 0.9172\n",
      "Epoch 48/128\n",
      "Learning rate:  0.00125\n",
      "351/351 [==============================] - 52s 147ms/step - loss: 0.2097 - acc: 0.9189\n",
      "Epoch 49/128\n",
      "Learning rate:  0.01\n",
      "351/351 [==============================] - 60s 171ms/step - loss: 0.2174 - acc: 0.9162\n",
      "Epoch 50/128\n",
      "Learning rate:  0.005\n",
      "351/351 [==============================] - 61s 174ms/step - loss: 0.2171 - acc: 0.9144\n",
      "Epoch 51/128\n",
      "Learning rate:  0.0025\n",
      "351/351 [==============================] - 53s 150ms/step - loss: 0.2137 - acc: 0.9172\n",
      "Epoch 52/128\n",
      "Learning rate:  0.00125\n",
      "351/351 [==============================] - 51s 144ms/step - loss: 0.2095 - acc: 0.9189\n",
      "Epoch 53/128\n",
      "Learning rate:  0.01\n",
      "351/351 [==============================] - 62s 175ms/step - loss: 0.2171 - acc: 0.9164\n",
      "Epoch 54/128\n",
      "Learning rate:  0.005\n",
      "351/351 [==============================] - 62s 175ms/step - loss: 0.2168 - acc: 0.9145\n",
      "Epoch 55/128\n",
      "Learning rate:  0.0025\n",
      "351/351 [==============================] - 63s 179ms/step - loss: 0.2136 - acc: 0.9172\n",
      "Epoch 56/128\n",
      "Learning rate:  0.00125\n",
      "351/351 [==============================] - 56s 158ms/step - loss: 0.2093 - acc: 0.9190\n",
      "Epoch 57/128\n",
      "Learning rate:  0.01\n",
      "351/351 [==============================] - 49s 139ms/step - loss: 0.2170 - acc: 0.9162\n",
      "Epoch 58/128\n",
      "Learning rate:  0.005\n",
      "351/351 [==============================] - 49s 139ms/step - loss: 0.2167 - acc: 0.9143\n",
      "Epoch 59/128\n",
      "Learning rate:  0.0025\n",
      "351/351 [==============================] - 62s 178ms/step - loss: 0.2135 - acc: 0.9173\n",
      "Epoch 60/128\n",
      "Learning rate:  0.00125\n",
      "351/351 [==============================] - 62s 176ms/step - loss: 0.2092 - acc: 0.9190\n",
      "Epoch 61/128\n",
      "Learning rate:  0.01\n",
      "351/351 [==============================] - 63s 180ms/step - loss: 0.2168 - acc: 0.9163\n",
      "Epoch 62/128\n",
      "Learning rate:  0.005\n",
      "351/351 [==============================] - 55s 157ms/step - loss: 0.2168 - acc: 0.9144\n",
      "Epoch 63/128\n",
      "Learning rate:  0.0025\n",
      "351/351 [==============================] - 63s 179ms/step - loss: 0.2132 - acc: 0.9174\n",
      "Epoch 64/128\n",
      "Learning rate:  0.00125\n",
      "351/351 [==============================] - 50s 143ms/step - loss: 0.2092 - acc: 0.9188\n",
      "Epoch 65/128\n",
      "Learning rate:  0.005\n",
      "351/351 [==============================] - 50s 143ms/step - loss: 0.2123 - acc: 0.9176\n",
      "Epoch 66/128\n",
      "Learning rate:  0.0025\n",
      "351/351 [==============================] - 59s 167ms/step - loss: 0.2105 - acc: 0.9179\n",
      "Epoch 67/128\n",
      "Learning rate:  0.00125\n",
      "351/351 [==============================] - 65s 184ms/step - loss: 0.2089 - acc: 0.9189\n"
     ]
    },
    {
     "name": "stdout",
     "output_type": "stream",
     "text": [
      "Epoch 68/128\n",
      "Learning rate:  0.000625\n",
      "351/351 [==============================] - 68s 194ms/step - loss: 0.2082 - acc: 0.9193\n",
      "Epoch 69/128\n",
      "Learning rate:  0.005\n",
      "351/351 [==============================] - 66s 188ms/step - loss: 0.2123 - acc: 0.9176\n",
      "Epoch 70/128\n",
      "Learning rate:  0.0025\n",
      "351/351 [==============================] - 62s 178ms/step - loss: 0.2107 - acc: 0.9177\n",
      "Epoch 71/128\n",
      "Learning rate:  0.00125\n",
      "351/351 [==============================] - 52s 149ms/step - loss: 0.2091 - acc: 0.9189\n",
      "Epoch 72/128\n",
      "Learning rate:  0.000625\n",
      "351/351 [==============================] - 61s 175ms/step - loss: 0.2081 - acc: 0.9193\n",
      "Epoch 73/128\n",
      "Learning rate:  0.005\n",
      "351/351 [==============================] - 49s 140ms/step - loss: 0.2122 - acc: 0.9175\n",
      "Epoch 74/128\n",
      "Learning rate:  0.0025\n",
      "351/351 [==============================] - 52s 148ms/step - loss: 0.2111 - acc: 0.9174\n",
      "Epoch 75/128\n",
      "Learning rate:  0.00125\n",
      "351/351 [==============================] - 57s 163ms/step - loss: 0.2094 - acc: 0.9189\n",
      "Epoch 76/128\n",
      "Learning rate:  0.000625\n",
      "351/351 [==============================] - 54s 153ms/step - loss: 0.2081 - acc: 0.9193\n",
      "Epoch 77/128\n",
      "Learning rate:  0.005\n",
      "351/351 [==============================] - 58s 164ms/step - loss: 0.2121 - acc: 0.9177\n",
      "Epoch 78/128\n",
      "Learning rate:  0.0025\n",
      "351/351 [==============================] - 63s 180ms/step - loss: 0.2109 - acc: 0.9174\n",
      "Epoch 79/128\n",
      "Learning rate:  0.00125\n",
      "351/351 [==============================] - 53s 150ms/step - loss: 0.2092 - acc: 0.9189\n",
      "Epoch 80/128\n",
      "Learning rate:  0.000625\n",
      "351/351 [==============================] - 60s 170ms/step - loss: 0.2081 - acc: 0.9192\n",
      "Epoch 81/128\n",
      "Learning rate:  0.005\n",
      "351/351 [==============================] - 62s 175ms/step - loss: 0.2120 - acc: 0.9176\n",
      "Epoch 82/128\n",
      "Learning rate:  0.0025\n",
      "351/351 [==============================] - 63s 179ms/step - loss: 0.2109 - acc: 0.9174\n",
      "Epoch 83/128\n",
      "Learning rate:  0.00125\n",
      "351/351 [==============================] - 53s 150ms/step - loss: 0.2092 - acc: 0.9188\n",
      "Epoch 84/128\n",
      "Learning rate:  0.000625\n",
      "351/351 [==============================] - 49s 140ms/step - loss: 0.2081 - acc: 0.9192\n",
      "Epoch 85/128\n",
      "Learning rate:  0.005\n",
      "351/351 [==============================] - 60s 170ms/step - loss: 0.2120 - acc: 0.9178\n",
      "Epoch 86/128\n",
      "Learning rate:  0.0025\n",
      "351/351 [==============================] - 65s 185ms/step - loss: 0.2109 - acc: 0.9175\n",
      "Epoch 87/128\n",
      "Learning rate:  0.00125\n",
      "351/351 [==============================] - 64s 183ms/step - loss: 0.2092 - acc: 0.9188\n",
      "Epoch 88/128\n",
      "Learning rate:  0.000625\n",
      "351/351 [==============================] - 49s 140ms/step - loss: 0.2080 - acc: 0.9193\n",
      "Epoch 89/128\n",
      "Learning rate:  0.005\n",
      "350/351 [============================>.] - ETA: 0s - loss: 0.2120 - acc: 0.9176Epoch 89/128\n",
      "351/351 [==============================] - 50s 143ms/step - loss: 0.2120 - acc: 0.9176\n",
      "Epoch 90/128\n",
      "Learning rate:  0.0025\n",
      "351/351 [==============================] - 51s 146ms/step - loss: 0.2109 - acc: 0.9174\n",
      "Epoch 91/128\n",
      "Learning rate:  0.00125\n",
      "351/351 [==============================] - 51s 146ms/step - loss: 0.2092 - acc: 0.9188\n",
      "Epoch 92/128\n",
      "Learning rate:  0.000625\n",
      "351/351 [==============================] - 49s 139ms/step - loss: 0.2079 - acc: 0.9193\n",
      "Epoch 93/128\n",
      "Learning rate:  0.005\n",
      "351/351 [==============================] - 49s 138ms/step - loss: 0.2120 - acc: 0.9177\n",
      "Epoch 94/128\n",
      "Learning rate:  0.0025\n",
      "351/351 [==============================] - 49s 139ms/step - loss: 0.2108 - acc: 0.9175\n",
      "Epoch 95/128\n",
      "Learning rate:  0.00125\n",
      "351/351 [==============================] - 49s 139ms/step - loss: 0.2091 - acc: 0.9189\n",
      "Epoch 96/128\n",
      "Learning rate:  0.000625\n",
      "351/351 [==============================] - 49s 139ms/step - loss: 0.2079 - acc: 0.9193\n",
      "Epoch 97/128\n",
      "Learning rate:  0.0025\n",
      "351/351 [==============================] - 49s 139ms/step - loss: 0.2096 - acc: 0.9185\n",
      "Epoch 98/128\n",
      "Learning rate:  0.00125\n",
      "351/351 [==============================] - 49s 139ms/step - loss: 0.2086 - acc: 0.9188\n",
      "Epoch 99/128\n",
      "Learning rate:  0.000625\n",
      "351/351 [==============================] - 49s 139ms/step - loss: 0.2078 - acc: 0.9194\n",
      "Epoch 100/128\n",
      "Learning rate:  0.0003125\n",
      "351/351 [==============================] - 49s 139ms/step - loss: 0.2075 - acc: 0.9195\n",
      "Epoch 101/128\n",
      "Learning rate:  0.0025\n",
      "351/351 [==============================] - 49s 139ms/step - loss: 0.2096 - acc: 0.9185\n",
      "Epoch 102/128\n",
      "Learning rate:  0.00125\n",
      "351/351 [==============================] - 49s 138ms/step - loss: 0.2086 - acc: 0.9186\n",
      "Epoch 103/128\n",
      "Learning rate:  0.000625\n",
      "351/351 [==============================] - 49s 139ms/step - loss: 0.2079 - acc: 0.9193\n",
      "Epoch 104/128\n",
      "Learning rate:  0.0003125\n",
      "351/351 [==============================] - 49s 140ms/step - loss: 0.2075 - acc: 0.9194\n",
      "Epoch 105/128\n",
      "Learning rate:  0.0025\n",
      "351/351 [==============================] - 49s 139ms/step - loss: 0.2095 - acc: 0.9185\n",
      "Epoch 106/128\n",
      "Learning rate:  0.00125\n",
      "351/351 [==============================] - 49s 138ms/step - loss: 0.2086 - acc: 0.9186\n",
      "Epoch 107/128\n",
      "Learning rate:  0.000625\n",
      "351/351 [==============================] - 50s 142ms/step - loss: 0.2079 - acc: 0.9194\n",
      "Epoch 108/128\n",
      "Learning rate:  0.0003125\n",
      "351/351 [==============================] - 49s 139ms/step - loss: 0.2075 - acc: 0.9195\n",
      "Epoch 109/128\n",
      "Learning rate:  0.0025\n",
      "351/351 [==============================] - 51s 146ms/step - loss: 0.2096 - acc: 0.91842s - loss: 0\n",
      "Epoch 110/128\n",
      "Learning rate:  0.00125\n",
      "351/351 [==============================] - 68s 193ms/step - loss: 0.2087 - acc: 0.9186\n",
      "Epoch 111/128\n",
      "Learning rate:  0.000625\n",
      "351/351 [==============================] - 72s 205ms/step - loss: 0.2079 - acc: 0.9194\n",
      "Epoch 112/128\n",
      "Learning rate:  0.0003125\n",
      "351/351 [==============================] - 54s 155ms/step - loss: 0.2074 - acc: 0.9195\n",
      "Epoch 113/128\n",
      "Learning rate:  0.0025\n",
      "351/351 [==============================] - 49s 140ms/step - loss: 0.2094 - acc: 0.9185\n",
      "Epoch 114/128\n",
      "Learning rate:  0.00125\n",
      "351/351 [==============================] - 59s 167ms/step - loss: 0.2086 - acc: 0.9187\n",
      "Epoch 115/128\n",
      "Learning rate:  0.000625\n",
      "351/351 [==============================] - 62s 177ms/step - loss: 0.2078 - acc: 0.9194\n",
      "Epoch 116/128\n",
      "Learning rate:  0.0003125\n",
      "351/351 [==============================] - 56s 160ms/step - loss: 0.2074 - acc: 0.9195\n",
      "Epoch 117/128\n",
      "Learning rate:  0.0025\n",
      "351/351 [==============================] - 49s 140ms/step - loss: 0.2094 - acc: 0.9185\n",
      "Epoch 118/128\n",
      "Learning rate:  0.00125\n",
      "351/351 [==============================] - 49s 139ms/step - loss: 0.2086 - acc: 0.9186\n",
      "Epoch 119/128\n",
      "Learning rate:  0.000625\n",
      "351/351 [==============================] - 49s 140ms/step - loss: 0.2078 - acc: 0.9193\n",
      "Epoch 120/128\n",
      "Learning rate:  0.0003125\n",
      "351/351 [==============================] - 49s 140ms/step - loss: 0.2074 - acc: 0.9194\n",
      "Epoch 121/128\n",
      "Learning rate:  0.0025\n",
      "351/351 [==============================] - 54s 154ms/step - loss: 0.2096 - acc: 0.9183\n",
      "Epoch 122/128\n",
      "Learning rate:  0.00125\n",
      "351/351 [==============================] - 73s 208ms/step - loss: 0.2086 - acc: 0.9186\n",
      "Epoch 123/128\n",
      "Learning rate:  0.000625\n",
      "351/351 [==============================] - 73s 208ms/step - loss: 0.2079 - acc: 0.9194\n",
      "Epoch 124/128\n",
      "Learning rate:  0.0003125\n",
      "351/351 [==============================] - 73s 208ms/step - loss: 0.2073 - acc: 0.9195\n",
      "Epoch 125/128\n",
      "Learning rate:  0.0025\n",
      "351/351 [==============================] - 59s 167ms/step - loss: 0.2096 - acc: 0.9185\n",
      "Epoch 126/128\n",
      "Learning rate:  0.00125\n",
      "351/351 [==============================] - 60s 170ms/step - loss: 0.2085 - acc: 0.9186\n",
      "Epoch 127/128\n",
      "Learning rate:  0.000625\n",
      "351/351 [==============================] - 63s 179ms/step - loss: 0.2078 - acc: 0.9194\n",
      "Epoch 128/128\n",
      "Learning rate:  0.0003125\n",
      "351/351 [==============================] - 58s 164ms/step - loss: 0.2073 - acc: 0.9195\n"
     ]
    },
    {
     "data": {
      "text/plain": [
       "<keras.callbacks.History at 0x7fa3c4dd1d30>"
      ]
     },
     "execution_count": 16,
     "metadata": {},
     "output_type": "execute_result"
    }
   ],
   "source": [
    "from keras.callbacks import ModelCheckpoint, LearningRateScheduler, ReduceLROnPlateau\n",
    "\n",
    "def lr_schedule(epoch):\n",
    "    lr0 = 0.02\n",
    "    epoch1 = 32\n",
    "    epoch2 = 32\n",
    "    epoch3 = 32\n",
    "    epoch4 = 32\n",
    "    \n",
    "    if epoch<epoch1:\n",
    "        lr = lr0\n",
    "    elif epoch<epoch1+epoch2:\n",
    "        lr = lr0/2\n",
    "    elif epoch<epoch1+epoch2+epoch3:\n",
    "        lr = lr0/4\n",
    "    elif epoch<epoch1+epoch2+epoch3+epoch4:\n",
    "        lr = lr0/8\n",
    "    else:\n",
    "        lr = lr0/16\n",
    "    \n",
    "    if divmod(epoch,4)[1] == 3:\n",
    "        lr *= (1/8)\n",
    "    elif divmod(epoch,4)[1] == 2:\n",
    "        lr *= (1/4)\n",
    "    elif divmod(epoch,4)[1] == 1:\n",
    "        lr *= (1/2)\n",
    "    elif divmod(epoch,4)[1] == 0:\n",
    "        pass\n",
    "    print('Learning rate: ', lr)\n",
    "    return lr\n",
    "\n",
    "lr_scheduler = LearningRateScheduler(lr_schedule)\n",
    "\n",
    "callbacks = [lr_scheduler]\n",
    "\n",
    "wd2v.train(epochs=128, verbose=1,\n",
    "           use_multiprocessing=True, workers=4,\n",
    "           callbacks=callbacks)"
   ]
  },
  {
   "cell_type": "code",
   "execution_count": 17,
   "metadata": {
    "collapsed": true
   },
   "outputs": [],
   "source": [
    "hst_history = wd2v.hst.history"
   ]
  },
  {
   "cell_type": "code",
   "execution_count": 18,
   "metadata": {},
   "outputs": [
    {
     "data": {
      "text/plain": [
       "<matplotlib.legend.Legend at 0x7fa3c4743ef0>"
      ]
     },
     "execution_count": 18,
     "metadata": {},
     "output_type": "execute_result"
    },
    {
     "data": {
      "image/png": "[encoded data removed]",
      "text/plain": [
       "<matplotlib.figure.Figure at 0x7fa3c4db69e8>"
      ]
     },
     "metadata": {},
     "output_type": "display_data"
    }
   ],
   "source": [
    "fig, ax = plt.subplots(1, 2, figsize=(20,5))\n",
    "ax[0].set_title('loss')\n",
    "ax[0].plot(list(range(len(hst_history[\"loss\"]))), hst_history[\"loss\"], label=\"Train loss\")\n",
    "ax[1].set_title('acc')\n",
    "ax[1].plot(list(range(len(hst_history[\"loss\"]))), hst_history[\"acc\"], label=\"accuracy\")\n",
    "ax[0].legend()\n",
    "ax[1].legend()"
   ]
  },
  {
   "cell_type": "code",
   "execution_count": null,
   "metadata": {
    "collapsed": true
   },
   "outputs": [],
   "source": []
  },
  {
   "cell_type": "markdown",
   "metadata": {},
   "source": [
    "## similarity"
   ]
  },
  {
   "cell_type": "code",
   "execution_count": 19,
   "metadata": {},
   "outputs": [
    {
     "name": "stdout",
     "output_type": "stream",
     "text": [
      "96\n",
      "MatrixSimilarity<11228 docs, 96 features>\n"
     ]
    },
    {
     "data": {
      "text/plain": [
       "<feature_eng.neg_smpl.WordAndDocSimilarity at 0x7fa3c4f5da20>"
      ]
     },
     "execution_count": 19,
     "metadata": {},
     "output_type": "execute_result"
    }
   ],
   "source": [
    "sim = wd2v.sim\n",
    "print(sim.num_features)\n",
    "print(sim.sim_row)\n",
    "sim"
   ]
  },
  {
   "cell_type": "markdown",
   "metadata": {},
   "source": [
    "### get feature vector of document 'd1'"
   ]
  },
  {
   "cell_type": "code",
   "execution_count": 20,
   "metadata": {},
   "outputs": [
    {
     "data": {
      "text/plain": [
       "'mcgrath rentcorp said as a result of its december acquisition of space co it expects earnings per share in 1987 of 1 15 to 1 30 dlrs per share up from 70 cts in 1986 the company said pretax net should rise to nine to 10 mln dlrs from six mln dlrs in 1986 and rental operation revenues to 19 to 22 mln dlrs from 12 5 mln dlrs it said cash flow per share this year should be 2 50 to three dlrs reuter 3'"
      ]
     },
     "execution_count": 20,
     "metadata": {},
     "output_type": "execute_result"
    }
   ],
   "source": [
    "'''d1'''\n",
    "' '.join([word_dic[ee] for ee in doc[sim.row_dic.token2id['d1']]])"
   ]
  },
  {
   "cell_type": "code",
   "execution_count": 21,
   "metadata": {},
   "outputs": [
    {
     "data": {
      "text/plain": [
       "array([ 0.06481325,  0.07561683,  0.0378519 , -0.09593973, -0.09787884,\n",
       "        0.01657041,  0.06306773, -0.12624882, -0.04784502,  0.05218988,\n",
       "       -0.10721242, -0.08244835,  0.09771683, -0.0167034 ,  0.10503918,\n",
       "       -0.00993334,  0.05555801,  0.04102578,  0.04263349, -0.07629326,\n",
       "       -0.18176542,  0.03681876, -0.04209733,  0.1753832 , -0.02086856,\n",
       "        0.12769277,  0.1482184 , -0.05393349, -0.04500808,  0.02233168,\n",
       "        0.00648106, -0.1512627 ,  0.01925148,  0.02171577, -0.02184385,\n",
       "       -0.15356156, -0.11568483, -0.15206496,  0.04263704, -0.08721355,\n",
       "       -0.10432593,  0.04907624, -0.16370516, -0.05633108,  0.10886008,\n",
       "        0.03522442, -0.1159585 ,  0.08291825, -0.08024043,  0.10669979,\n",
       "        0.11265266,  0.07647306,  0.17273654,  0.10329752, -0.04103703,\n",
       "       -0.088397  ,  0.23779622, -0.03230673,  0.06152629, -0.03760127,\n",
       "        0.12876207, -0.02909412,  0.06829944,  0.16518427, -0.00031117,\n",
       "       -0.03900497,  0.04262207,  0.00587525, -0.08581351, -0.1167085 ,\n",
       "       -0.01698181, -0.150606  ,  0.19239026, -0.09885392,  0.03613823,\n",
       "       -0.07743072,  0.10967457,  0.08519006,  0.17058173, -0.06675299,\n",
       "       -0.04908024, -0.20285562, -0.14050207, -0.1627979 , -0.00176794,\n",
       "        0.07632914,  0.11092546, -0.17472677, -0.06500866, -0.27369985,\n",
       "        0.10857807,  0.06497651, -0.09046754, -0.03523036,  0.1246081 ,\n",
       "        0.01186817], dtype=float32)"
      ]
     },
     "execution_count": 21,
     "metadata": {},
     "output_type": "execute_result"
    }
   ],
   "source": [
    "query = sim.sim_row.index[sim.row_dic.token2id['d1']]\n",
    "query"
   ]
  },
  {
   "cell_type": "code",
   "execution_count": 22,
   "metadata": {},
   "outputs": [
    {
     "data": {
      "text/plain": [
       "[('rentcorp', 0.9434304237365723),\n",
       " ('mcgrath', 0.9374205470085144),\n",
       " ('earnings', 0.7684857249259949),\n",
       " ('revenues', 0.760128378868103),\n",
       " ('disposition', 0.7422889471054077),\n",
       " ('operating', 0.7323190569877625),\n",
       " ('rental', 0.7253258228302002),\n",
       " ('income', 0.7225023508071899),\n",
       " ('assets', 0.7071471214294434),\n",
       " ('results', 0.7044969797134399),\n",
       " ('operations', 0.6968739628791809),\n",
       " ('quarter', 0.6886741518974304),\n",
       " ('dlrs', 0.6864203214645386),\n",
       " ('name', 0.6818659901618958),\n",
       " ('sale', 0.6800055503845215),\n",
       " ('craft', 0.6763091087341309),\n",
       " ('cellular', 0.6737446188926697),\n",
       " ('properties', 0.6692708730697632),\n",
       " ('expects', 0.6618582010269165),\n",
       " ('leasehold', 0.6588402390480042)]"
      ]
     },
     "execution_count": 22,
     "metadata": {},
     "output_type": "execute_result"
    }
   ],
   "source": [
    "'''get words that are highly correlated with this document ('d1')'''\n",
    "sim.get_sim_bycol(query, num_best=20)"
   ]
  },
  {
   "cell_type": "code",
   "execution_count": 23,
   "metadata": {},
   "outputs": [
    {
     "data": {
      "text/plain": [
       "[('d1', 1.0),\n",
       " ('d7985', 0.8184352517127991),\n",
       " ('d4589', 0.7503834366798401),\n",
       " ('d8439', 0.7502797245979309),\n",
       " ('d2608', 0.7401958703994751),\n",
       " ('d3041', 0.7397599220275879),\n",
       " ('d9302', 0.7357385158538818),\n",
       " ('d7958', 0.7331284880638123),\n",
       " ('d2179', 0.7311809062957764),\n",
       " ('d9165', 0.7300987243652344)]"
      ]
     },
     "execution_count": 23,
     "metadata": {},
     "output_type": "execute_result"
    }
   ],
   "source": [
    "'''get documents that are highly correlated with this document ('d1')'''\n",
    "sim.get_sim_byrow(query, num_best=10)"
   ]
  },
  {
   "cell_type": "code",
   "execution_count": 24,
   "metadata": {},
   "outputs": [
    {
     "data": {
      "text/plain": [
       "'cardinal industries inc said it restated earnings for the first nine months of 1986 to 235 000 dlrs or nine cts per share from 485 000 dlrs or 18 cts reported previously due to the failure of an automated accounting system installed in mid year and replaced in the fourth quarter the company said its reliance segment sustained a significant operating loss for the full year 1986 due to the accounting problems and increased promotional and advertising expenses for the full year it said it earned 284 000 dlrs or 10 cts a share up from 271 000 dlrs or 10 cts in 1985 cardinal industries said revenues for the year were 30 7 mln dlrs up from 23 0 mln dlrs in 1985 the company said for the first quarter of 1987 earnings were about 48 000 dlrs up from 13 000 dlrs or nil per share in the year ago period the year ago first quarter earnings however have been restated from 101 000 dlrs or four cts per share it said sales for the first quarter were about 8 363 000 dlrs up from 6 636 000 dlrs for the first half of 1986 the company said it restated earnings to 141 000 dlrs or five cts per share from 340 000 dlrs or 12 cts per share reported previously reuter 3'"
      ]
     },
     "execution_count": 24,
     "metadata": {},
     "output_type": "execute_result"
    }
   ],
   "source": [
    "' '.join([word_dic[ee] for ee in doc[sim.row_dic.token2id['d9302']]])"
   ]
  },
  {
   "cell_type": "code",
   "execution_count": null,
   "metadata": {
    "collapsed": true
   },
   "outputs": [],
   "source": []
  }
 ],
 "metadata": {
  "kernelspec": {
   "display_name": "Python 3",
   "language": "python",
   "name": "python3"
  },
  "language_info": {
   "codemirror_mode": {
    "name": "ipython",
    "version": 3
   },
   "file_extension": ".py",
   "mimetype": "text/x-python",
   "name": "python",
   "nbconvert_exporter": "python",
   "pygments_lexer": "ipython3",
   "version": "3.6.8"
  }
 },
 "nbformat": 4,
 "nbformat_minor": 2
}
