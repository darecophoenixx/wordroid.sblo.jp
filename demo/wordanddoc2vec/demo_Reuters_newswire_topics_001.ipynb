{
 "cells": [
  {
   "cell_type": "markdown",
   "metadata": {},
   "source": [
    "demo : Reuters newswire topics (Keras dataset)"
   ]
  },
  {
   "cell_type": "code",
   "execution_count": 1,
   "metadata": {},
   "outputs": [
    {
     "name": "stderr",
     "output_type": "stream",
     "text": [
      "Using TensorFlow backend.\n"
     ]
    }
   ],
   "source": [
    "%matplotlib inline\n",
    "from IPython.display import SVG\n",
    "from keras.utils.vis_utils import model_to_dot"
   ]
  },
  {
   "cell_type": "code",
   "execution_count": 2,
   "metadata": {
    "collapsed": true
   },
   "outputs": [],
   "source": [
    "import sys\n",
    "sys.path.append('/home/admin/github/wordroid.sblo.jp/lib')\n",
    "from feature_eng import WordAndDoc2vec"
   ]
  },
  {
   "cell_type": "code",
   "execution_count": 3,
   "metadata": {
    "collapsed": true
   },
   "outputs": [],
   "source": [
    "import os.path\n",
    "import sys\n",
    "import re\n",
    "import itertools\n",
    "import csv\n",
    "import datetime\n",
    "import pickle\n",
    "import random\n",
    "from collections import defaultdict, Counter\n",
    "import gc\n",
    "\n",
    "import matplotlib.pyplot as plt\n",
    "from matplotlib.ticker import NullFormatter\n",
    "import seaborn as sns\n",
    "import pandas as pd\n",
    "import numpy as np\n",
    "import scipy\n",
    "import gensim\n",
    "from sklearn.metrics import f1_score, classification_report, confusion_matrix, log_loss\n",
    "from sklearn.model_selection import train_test_split\n",
    "import gensim\n",
    "from keras.preprocessing.sequence import skipgrams\n",
    "import tensorflow as tf"
   ]
  },
  {
   "cell_type": "code",
   "execution_count": 4,
   "metadata": {
    "collapsed": true
   },
   "outputs": [],
   "source": [
    "def hexbin(x, y, color, **kwargs):\n",
    "    cmap = sns.light_palette(color, as_cmap=True)\n",
    "    plt.hexbin(x, y, cmap=cmap, **kwargs)\n",
    "def scatter(x, y, color, **kwargs):\n",
    "    plt.scatter(x, y, marker='.')"
   ]
  },
  {
   "cell_type": "markdown",
   "metadata": {},
   "source": [
    "### load data"
   ]
  },
  {
   "cell_type": "code",
   "execution_count": 5,
   "metadata": {
    "collapsed": true
   },
   "outputs": [],
   "source": [
    "from keras.datasets import reuters"
   ]
  },
  {
   "cell_type": "code",
   "execution_count": 6,
   "metadata": {
    "collapsed": true
   },
   "outputs": [],
   "source": [
    "word_index = reuters.get_word_index()\n",
    "word_index2 = dict([(k, v+3) for k, v in word_index.items()])\n",
    "word_dic = gensim.corpora.Dictionary([['<padding>', '<start_char>', '<oov_char>'],], prune_at=None)\n",
    "word_dic.token2id.update(word_index2)"
   ]
  },
  {
   "cell_type": "code",
   "execution_count": 7,
   "metadata": {},
   "outputs": [
    {
     "data": {
      "text/plain": [
       "'mcgrath'"
      ]
     },
     "execution_count": 7,
     "metadata": {},
     "output_type": "execute_result"
    }
   ],
   "source": [
    "word_dic[27595]"
   ]
  },
  {
   "cell_type": "code",
   "execution_count": 8,
   "metadata": {},
   "outputs": [
    {
     "data": {
      "text/plain": [
       "'the'"
      ]
     },
     "execution_count": 8,
     "metadata": {},
     "output_type": "execute_result"
    }
   ],
   "source": [
    "word_dic[4]"
   ]
  },
  {
   "cell_type": "code",
   "execution_count": 9,
   "metadata": {
    "collapsed": true
   },
   "outputs": [],
   "source": [
    "(doc, cat), (doc_test, cat_test) = reuters.load_data(test_split=0.0, start_char=None)"
   ]
  },
  {
   "cell_type": "code",
   "execution_count": 10,
   "metadata": {},
   "outputs": [
    {
     "data": {
      "text/plain": [
       "'mcgrath rentcorp said as a result of its december acquisition of space co it expects earnings per share in 1987 of 1 15 to 1 30 dlrs per share up from 70 cts in 1986 the company said pretax net should rise to nine to 10 mln dlrs from six mln dlrs in 1986 and rental operation revenues to 19 to 22 mln dlrs from 12 5 mln dlrs it said cash flow per share this year should be 2 50 to three dlrs reuter 3'"
      ]
     },
     "execution_count": 10,
     "metadata": {},
     "output_type": "execute_result"
    }
   ],
   "source": [
    "' '.join([word_dic[ee] for ee in doc[0]])"
   ]
  },
  {
   "cell_type": "code",
   "execution_count": 11,
   "metadata": {
    "collapsed": true
   },
   "outputs": [],
   "source": [
    "doc_dic = gensim.corpora.Dictionary(prune_at=None)\n",
    "doc_dic.token2id.update(dict([('d'+str(ee+1), ee) for ee in range(len(doc))]))"
   ]
  },
  {
   "cell_type": "code",
   "execution_count": 12,
   "metadata": {
    "collapsed": true
   },
   "outputs": [],
   "source": [
    "doc_seq = [[word_dic[ee] for ee in doc[ii]] for ii in range(len(doc))]"
   ]
  },
  {
   "cell_type": "code",
   "execution_count": 13,
   "metadata": {
    "collapsed": true
   },
   "outputs": [],
   "source": [
    "cat\n",
    "cls = pd.Series(['c'+str(c) for c in cat])"
   ]
  },
  {
   "cell_type": "markdown",
   "metadata": {},
   "source": [
    "### create WordAndDoc2vec instance"
   ]
  },
  {
   "cell_type": "code",
   "execution_count": 14,
   "metadata": {},
   "outputs": [
    {
     "name": "stdout",
     "output_type": "stream",
     "text": [
      "len(doc_seq) >>> 11228\n",
      "max(doc_dic.keys()) + 1 >>> 11228\n",
      "num_features >>> 30983\n",
      "corpus_csr.shape >>> (11228, 30983)\n",
      "creating tfidf...\n",
      "<feature_eng.neg_smpl.MySparseMatrixSimilarity object at 0x7fc1980b0048>\n",
      "<feature_eng.neg_smpl.Dic4seq object at 0x7fc17a1e8f98>\n"
     ]
    },
    {
     "data": {
      "text/plain": [
       "<feature_eng.neg_smpl.WordAndDoc2vec at 0x7fc188238a90>"
      ]
     },
     "execution_count": 14,
     "metadata": {},
     "output_type": "execute_result"
    }
   ],
   "source": [
    "wd2v = WordAndDoc2vec(doc_seq, word_dic, doc_dic, logging=False)\n",
    "wd2v"
   ]
  },
  {
   "cell_type": "markdown",
   "metadata": {},
   "source": [
    "### create model"
   ]
  },
  {
   "cell_type": "code",
   "execution_count": 15,
   "metadata": {},
   "outputs": [
    {
     "data": {
      "text/plain": [
       "{'model': <keras.engine.training.Model at 0x7fc17a7477b8>,\n",
       " 'model_neg': <keras.engine.training.Model at 0x7fc17965ae10>,\n",
       " 'model_prob': <keras.engine.training.Model at 0x7fc179cfb320>,\n",
       " 'model_prob2': <keras.engine.training.Model at 0x7fc179a2bb70>,\n",
       " 'model_prob2_cnfm': <keras.engine.training.Model at 0x7fc179cfa9b0>,\n",
       " 'model_prob_cnfm': <keras.engine.training.Model at 0x7fc179eb0828>,\n",
       " 'model_prod': <keras.engine.training.Model at 0x7fc1796c2ac8>,\n",
       " 'model_user': <keras.engine.training.Model at 0x7fc1796c2588>}"
      ]
     },
     "execution_count": 15,
     "metadata": {},
     "output_type": "execute_result"
    }
   ],
   "source": [
    "num_features = 96\n",
    "wd2v.make_model(max_num_prod=5, num_neg=3, num_features=num_features,\n",
    "                embeddings_val=0.5, gamma=0.0)"
   ]
  },
  {
   "cell_type": "markdown",
   "metadata": {},
   "source": [
    "### start train\n",
    "note : it will take a long time..."
   ]
  },
  {
   "cell_type": "code",
   "execution_count": 16,
   "metadata": {
    "collapsed": true
   },
   "outputs": [],
   "source": [
    "# from keras.callbacks import ModelCheckpoint, LearningRateScheduler, ReduceLROnPlateau\n",
    "\n",
    "# def lr_schedule(epoch):\n",
    "#     lr0 = 0.02\n",
    "#     epoch1 = 32\n",
    "#     epoch2 = 32\n",
    "#     epoch3 = 32\n",
    "#     epoch4 = 32\n",
    "    \n",
    "#     if epoch<epoch1:\n",
    "#         lr = lr0\n",
    "#     elif epoch<epoch1+epoch2:\n",
    "#         lr = lr0/2\n",
    "#     elif epoch<epoch1+epoch2+epoch3:\n",
    "#         lr = lr0/4\n",
    "#     elif epoch<epoch1+epoch2+epoch3+epoch4:\n",
    "#         lr = lr0/8\n",
    "#     else:\n",
    "#         lr = lr0/16\n",
    "    \n",
    "#     if divmod(epoch,4)[1] == 3:\n",
    "#         lr *= (1/8)\n",
    "#     elif divmod(epoch,4)[1] == 2:\n",
    "#         lr *= (1/4)\n",
    "#     elif divmod(epoch,4)[1] == 1:\n",
    "#         lr *= (1/2)\n",
    "#     elif divmod(epoch,4)[1] == 0:\n",
    "#         pass\n",
    "#     print('Learning rate: ', lr)\n",
    "#     return lr\n",
    "\n",
    "# lr_scheduler = LearningRateScheduler(lr_schedule)\n",
    "# callbacks = [lr_scheduler]\n",
    "\n",
    "# wd2v.train(epochs=128, verbose=1,\n",
    "#            use_multiprocessing=True, workers=4,\n",
    "#            callbacks=callbacks)"
   ]
  },
  {
   "cell_type": "code",
   "execution_count": 17,
   "metadata": {},
   "outputs": [
    {
     "name": "stdout",
     "output_type": "stream",
     "text": [
      "len(seq) >>> 351\n",
      "Epoch 1/96\n",
      "Learning rate:  0.02\n",
      "351/351 [==============================] - 48s 138ms/step - loss: 0.4037 - acc: 0.8126\n",
      "Epoch 2/96\n",
      "Learning rate:  0.01\n",
      "351/351 [==============================] - 48s 137ms/step - loss: 0.2913 - acc: 0.8903\n",
      "Epoch 3/96\n",
      "Learning rate:  0.005\n",
      "351/351 [==============================] - 48s 138ms/step - loss: 0.2598 - acc: 0.9042\n",
      "Epoch 4/96\n",
      "Learning rate:  0.0025\n",
      "351/351 [==============================] - 49s 139ms/step - loss: 0.2525 - acc: 0.9075\n",
      "Epoch 5/96\n",
      "Learning rate:  0.02\n",
      "351/351 [==============================] - 48s 138ms/step - loss: 0.2652 - acc: 0.9086\n",
      "Epoch 6/96\n",
      "Learning rate:  0.01\n",
      "351/351 [==============================] - 49s 139ms/step - loss: 0.2521 - acc: 0.9127\n",
      "Epoch 7/96\n",
      "Learning rate:  0.005\n",
      "351/351 [==============================] - 48s 138ms/step - loss: 0.2411 - acc: 0.9151\n",
      "Epoch 8/96\n",
      "Learning rate:  0.0025\n",
      "351/351 [==============================] - 49s 138ms/step - loss: 0.2316 - acc: 0.9188\n",
      "Epoch 9/96\n",
      "Learning rate:  0.02\n",
      "351/351 [==============================] - 48s 138ms/step - loss: 0.2453 - acc: 0.9160\n",
      "Epoch 10/96\n",
      "Learning rate:  0.01\n",
      "351/351 [==============================] - 49s 139ms/step - loss: 0.2453 - acc: 0.9083\n",
      "Epoch 11/96\n",
      "Learning rate:  0.005\n",
      "351/351 [==============================] - 49s 138ms/step - loss: 0.2386 - acc: 0.9123\n",
      "Epoch 12/96\n",
      "Learning rate:  0.0025\n",
      "351/351 [==============================] - 48s 138ms/step - loss: 0.2238 - acc: 0.9187\n",
      "Epoch 13/96\n",
      "Learning rate:  0.02\n",
      "351/351 [==============================] - 49s 139ms/step - loss: 0.2380 - acc: 0.9153\n",
      "Epoch 14/96\n",
      "Learning rate:  0.01\n",
      "351/351 [==============================] - 49s 138ms/step - loss: 0.2415 - acc: 0.9068\n",
      "Epoch 15/96\n",
      "Learning rate:  0.005\n",
      "351/351 [==============================] - 48s 138ms/step - loss: 0.2358 - acc: 0.9114\n",
      "Epoch 16/96\n",
      "Learning rate:  0.0025\n",
      "351/351 [==============================] - 49s 138ms/step - loss: 0.2194 - acc: 0.9186\n",
      "Epoch 17/96\n",
      "Learning rate:  0.01\n",
      "351/351 [==============================] - 49s 138ms/step - loss: 0.2249 - acc: 0.9171\n",
      "Epoch 18/96\n",
      "Learning rate:  0.005\n",
      "351/351 [==============================] - 49s 138ms/step - loss: 0.2213 - acc: 0.9169\n",
      "Epoch 19/96\n",
      "Learning rate:  0.0025\n",
      "351/351 [==============================] - 49s 138ms/step - loss: 0.2176 - acc: 0.9185\n",
      "Epoch 20/96\n",
      "Learning rate:  0.00125\n",
      "351/351 [==============================] - 49s 139ms/step - loss: 0.2155 - acc: 0.9192\n",
      "Epoch 21/96\n",
      "Learning rate:  0.01\n",
      "351/351 [==============================] - 49s 138ms/step - loss: 0.2234 - acc: 0.9169\n",
      "Epoch 22/96\n",
      "Learning rate:  0.005\n",
      "351/351 [==============================] - 49s 139ms/step - loss: 0.2210 - acc: 0.9158\n",
      "Epoch 23/96\n",
      "Learning rate:  0.0025\n",
      "351/351 [==============================] - 49s 138ms/step - loss: 0.2181 - acc: 0.9180\n",
      "Epoch 24/96\n",
      "Learning rate:  0.00125\n",
      "351/351 [==============================] - 49s 138ms/step - loss: 0.2143 - acc: 0.9192\n",
      "Epoch 25/96\n",
      "Learning rate:  0.01\n",
      "351/351 [==============================] - 48s 138ms/step - loss: 0.2223 - acc: 0.9166\n",
      "Epoch 26/96\n",
      "Learning rate:  0.005\n",
      "351/351 [==============================] - 49s 139ms/step - loss: 0.2215 - acc: 0.9146\n",
      "Epoch 27/96\n",
      "Learning rate:  0.0025\n",
      "351/351 [==============================] - 48s 138ms/step - loss: 0.2179 - acc: 0.9174\n",
      "Epoch 28/96\n",
      "Learning rate:  0.00125\n",
      "351/351 [==============================] - 48s 138ms/step - loss: 0.2134 - acc: 0.9189\n",
      "Epoch 29/96\n",
      "Learning rate:  0.01\n",
      "351/351 [==============================] - 49s 139ms/step - loss: 0.2212 - acc: 0.9166\n",
      "Epoch 30/96\n",
      "Learning rate:  0.005\n",
      "351/351 [==============================] - 49s 138ms/step - loss: 0.2204 - acc: 0.9147\n",
      "Epoch 31/96\n",
      "Learning rate:  0.0025\n",
      "351/351 [==============================] - 49s 139ms/step - loss: 0.2169 - acc: 0.9174\n",
      "Epoch 32/96\n",
      "Learning rate:  0.00125\n",
      "351/351 [==============================] - 48s 138ms/step - loss: 0.2125 - acc: 0.9189\n",
      "Epoch 33/96\n",
      "Learning rate:  0.005\n",
      "351/351 [==============================] - 49s 138ms/step - loss: 0.2159 - acc: 0.9177\n",
      "Epoch 34/96\n",
      "Learning rate:  0.0025\n",
      "351/351 [==============================] - 49s 139ms/step - loss: 0.2136 - acc: 0.9182\n",
      "Epoch 35/96\n",
      "Learning rate:  0.00125\n",
      "351/351 [==============================] - 49s 138ms/step - loss: 0.2122 - acc: 0.9189\n",
      "Epoch 36/96\n",
      "Learning rate:  0.000625\n",
      "351/351 [==============================] - 49s 139ms/step - loss: 0.2114 - acc: 0.9191\n",
      "Epoch 37/96\n",
      "Learning rate:  0.005\n",
      "351/351 [==============================] - 49s 139ms/step - loss: 0.2154 - acc: 0.9177\n",
      "Epoch 38/96\n",
      "Learning rate:  0.0025\n",
      "351/351 [==============================] - 49s 138ms/step - loss: 0.2137 - acc: 0.9179\n",
      "Epoch 39/96\n",
      "Learning rate:  0.00125\n",
      "351/351 [==============================] - 49s 138ms/step - loss: 0.2123 - acc: 0.9188\n",
      "Epoch 40/96\n",
      "Learning rate:  0.000625\n",
      "351/351 [==============================] - 48s 138ms/step - loss: 0.2109 - acc: 0.9193\n",
      "Epoch 41/96\n",
      "Learning rate:  0.005\n",
      "351/351 [==============================] - 48s 138ms/step - loss: 0.2150 - acc: 0.9177\n",
      "Epoch 42/96\n",
      "Learning rate:  0.0025\n",
      "351/351 [==============================] - 49s 139ms/step - loss: 0.2139 - acc: 0.9173\n",
      "Epoch 43/96\n",
      "Learning rate:  0.00125\n",
      "351/351 [==============================] - 48s 138ms/step - loss: 0.2120 - acc: 0.9188\n",
      "Epoch 44/96\n",
      "Learning rate:  0.000625\n",
      "351/351 [==============================] - 48s 138ms/step - loss: 0.2107 - acc: 0.9191\n",
      "Epoch 45/96\n",
      "Learning rate:  0.005\n",
      "351/351 [==============================] - 49s 138ms/step - loss: 0.2148 - acc: 0.9177\n",
      "Epoch 46/96\n",
      "Learning rate:  0.0025\n",
      "351/351 [==============================] - 49s 139ms/step - loss: 0.2135 - acc: 0.9175\n",
      "Epoch 47/96\n",
      "Learning rate:  0.00125\n",
      "351/351 [==============================] - 49s 139ms/step - loss: 0.2117 - acc: 0.9188\n",
      "Epoch 48/96\n",
      "Learning rate:  0.000625\n",
      "351/351 [==============================] - 49s 139ms/step - loss: 0.2104 - acc: 0.9192\n",
      "Epoch 49/96\n",
      "Learning rate:  0.005\n",
      "351/351 [==============================] - 48s 138ms/step - loss: 0.2146 - acc: 0.9176\n",
      "Epoch 50/96\n",
      "Learning rate:  0.0025\n",
      "351/351 [==============================] - 49s 139ms/step - loss: 0.2132 - acc: 0.9173\n",
      "Epoch 51/96\n",
      "Learning rate:  0.00125\n",
      "351/351 [==============================] - 49s 138ms/step - loss: 0.2115 - acc: 0.9188\n",
      "Epoch 52/96\n",
      "Learning rate:  0.000625\n",
      "351/351 [==============================] - 48s 138ms/step - loss: 0.2102 - acc: 0.9191\n",
      "Epoch 53/96\n",
      "Learning rate:  0.005\n",
      "351/351 [==============================] - 49s 139ms/step - loss: 0.2143 - acc: 0.9176\n",
      "Epoch 54/96\n",
      "Learning rate:  0.0025\n",
      "351/351 [==============================] - 49s 138ms/step - loss: 0.2129 - acc: 0.9173\n",
      "Epoch 55/96\n",
      "Learning rate:  0.00125\n",
      "351/351 [==============================] - 49s 139ms/step - loss: 0.2113 - acc: 0.9188\n",
      "Epoch 56/96\n",
      "Learning rate:  0.000625\n",
      "351/351 [==============================] - 49s 139ms/step - loss: 0.2100 - acc: 0.9192\n",
      "Epoch 57/96\n",
      "Learning rate:  0.005\n",
      "351/351 [==============================] - 49s 139ms/step - loss: 0.2141 - acc: 0.9176\n",
      "Epoch 58/96\n",
      "Learning rate:  0.0025\n",
      "351/351 [==============================] - 49s 139ms/step - loss: 0.2128 - acc: 0.9174\n",
      "Epoch 59/96\n",
      "Learning rate:  0.00125\n",
      "351/351 [==============================] - 49s 139ms/step - loss: 0.2110 - acc: 0.9188\n",
      "Epoch 60/96\n",
      "Learning rate:  0.000625\n",
      "351/351 [==============================] - 49s 138ms/step - loss: 0.2099 - acc: 0.9192\n",
      "Epoch 61/96\n",
      "Learning rate:  0.005\n",
      "351/351 [==============================] - 49s 139ms/step - loss: 0.2139 - acc: 0.9176\n",
      "Epoch 62/96\n",
      "Learning rate:  0.0025\n",
      "351/351 [==============================] - 49s 139ms/step - loss: 0.2126 - acc: 0.9173\n",
      "Epoch 63/96\n",
      "Learning rate:  0.00125\n",
      "351/351 [==============================] - 48s 138ms/step - loss: 0.2109 - acc: 0.9187\n",
      "Epoch 64/96\n",
      "Learning rate:  0.000625\n",
      "351/351 [==============================] - 49s 139ms/step - loss: 0.2096 - acc: 0.9192\n",
      "Epoch 65/96\n",
      "Learning rate:  0.0025\n",
      "351/351 [==============================] - 48s 138ms/step - loss: 0.2114 - acc: 0.9184\n",
      "Epoch 66/96\n",
      "Learning rate:  0.00125\n",
      "351/351 [==============================] - 49s 139ms/step - loss: 0.2103 - acc: 0.9187\n",
      "Epoch 67/96\n",
      "Learning rate:  0.000625\n",
      "351/351 [==============================] - 49s 139ms/step - loss: 0.2095 - acc: 0.9192\n",
      "Epoch 68/96\n",
      "Learning rate:  0.0003125\n"
     ]
    },
    {
     "name": "stdout",
     "output_type": "stream",
     "text": [
      "351/351 [==============================] - 49s 138ms/step - loss: 0.2091 - acc: 0.9194\n",
      "Epoch 69/96\n",
      "Learning rate:  0.0025\n",
      "351/351 [==============================] - 48s 138ms/step - loss: 0.2113 - acc: 0.9184\n",
      "Epoch 70/96\n",
      "Learning rate:  0.00125\n",
      "351/351 [==============================] - 48s 138ms/step - loss: 0.2102 - acc: 0.9185\n",
      "Epoch 71/96\n",
      "Learning rate:  0.000625\n",
      "351/351 [==============================] - 48s 138ms/step - loss: 0.2094 - acc: 0.9193\n",
      "Epoch 72/96\n",
      "Learning rate:  0.0003125\n",
      "351/351 [==============================] - 49s 138ms/step - loss: 0.2089 - acc: 0.9194\n",
      "Epoch 73/96\n",
      "Learning rate:  0.0025\n",
      "351/351 [==============================] - 48s 138ms/step - loss: 0.2111 - acc: 0.9184\n",
      "Epoch 74/96\n",
      "Learning rate:  0.00125\n",
      "351/351 [==============================] - 49s 139ms/step - loss: 0.2103 - acc: 0.9184\n",
      "Epoch 75/96\n",
      "Learning rate:  0.000625\n",
      "351/351 [==============================] - 48s 137ms/step - loss: 0.2093 - acc: 0.9194\n",
      "Epoch 76/96\n",
      "Learning rate:  0.0003125\n",
      "351/351 [==============================] - 48s 138ms/step - loss: 0.2090 - acc: 0.9194\n",
      "Epoch 77/96\n",
      "Learning rate:  0.0025\n",
      "351/351 [==============================] - 48s 138ms/step - loss: 0.2111 - acc: 0.9185\n",
      "Epoch 78/96\n",
      "Learning rate:  0.00125\n",
      "351/351 [==============================] - 48s 138ms/step - loss: 0.2101 - acc: 0.9185\n",
      "Epoch 79/96\n",
      "Learning rate:  0.000625\n",
      "351/351 [==============================] - 49s 139ms/step - loss: 0.2093 - acc: 0.9193\n",
      "Epoch 80/96\n",
      "Learning rate:  0.0003125\n",
      "351/351 [==============================] - 48s 138ms/step - loss: 0.2088 - acc: 0.9194\n",
      "Epoch 81/96\n",
      "Learning rate:  0.0025\n",
      "351/351 [==============================] - 48s 138ms/step - loss: 0.2111 - acc: 0.9184\n",
      "Epoch 82/96\n",
      "Learning rate:  0.00125\n",
      "351/351 [==============================] - 48s 138ms/step - loss: 0.2101 - acc: 0.9184\n",
      "Epoch 83/96\n",
      "Learning rate:  0.000625\n",
      "351/351 [==============================] - 49s 138ms/step - loss: 0.2093 - acc: 0.9192\n",
      "Epoch 84/96\n",
      "Learning rate:  0.0003125\n",
      "351/351 [==============================] - 49s 138ms/step - loss: 0.2087 - acc: 0.9193\n",
      "Epoch 85/96\n",
      "Learning rate:  0.0025\n",
      "351/351 [==============================] - 48s 138ms/step - loss: 0.2110 - acc: 0.9184\n",
      "Epoch 86/96\n",
      "Learning rate:  0.00125\n",
      "351/351 [==============================] - 49s 139ms/step - loss: 0.2099 - acc: 0.9186\n",
      "Epoch 87/96\n",
      "Learning rate:  0.000625\n",
      "351/351 [==============================] - 48s 138ms/step - loss: 0.2092 - acc: 0.9192\n",
      "Epoch 88/96\n",
      "Learning rate:  0.0003125\n",
      "351/351 [==============================] - 48s 138ms/step - loss: 0.2087 - acc: 0.9194\n",
      "Epoch 89/96\n",
      "Learning rate:  0.0025\n",
      "351/351 [==============================] - 48s 138ms/step - loss: 0.2109 - acc: 0.9184\n",
      "Epoch 90/96\n",
      "Learning rate:  0.00125\n",
      "351/351 [==============================] - 48s 138ms/step - loss: 0.2099 - acc: 0.9185\n",
      "Epoch 91/96\n",
      "Learning rate:  0.000625\n",
      "351/351 [==============================] - 49s 138ms/step - loss: 0.2091 - acc: 0.9193\n",
      "Epoch 92/96\n",
      "Learning rate:  0.0003125\n",
      "351/351 [==============================] - 48s 138ms/step - loss: 0.2086 - acc: 0.9195\n",
      "Epoch 93/96\n",
      "Learning rate:  0.0025\n",
      "351/351 [==============================] - 48s 138ms/step - loss: 0.2110 - acc: 0.9184\n",
      "Epoch 94/96\n",
      "Learning rate:  0.00125\n",
      "351/351 [==============================] - 48s 138ms/step - loss: 0.2099 - acc: 0.9185\n",
      "Epoch 95/96\n",
      "Learning rate:  0.000625\n",
      "351/351 [==============================] - 48s 138ms/step - loss: 0.2090 - acc: 0.9193\n",
      "Epoch 96/96\n",
      "Learning rate:  0.0003125\n",
      "351/351 [==============================] - 49s 139ms/step - loss: 0.2086 - acc: 0.9195\n"
     ]
    },
    {
     "data": {
      "text/plain": [
       "<keras.callbacks.History at 0x7fc179a37da0>"
      ]
     },
     "execution_count": 17,
     "metadata": {},
     "output_type": "execute_result"
    }
   ],
   "source": [
    "from keras.callbacks import ModelCheckpoint, LearningRateScheduler, ReduceLROnPlateau\n",
    "\n",
    "def lr_schedule(epoch):\n",
    "    lr0 = 0.02\n",
    "    epoch1 = 16\n",
    "    epoch2 = 16\n",
    "    epoch3 = 32\n",
    "    epoch4 = 32\n",
    "    \n",
    "    if epoch<epoch1:\n",
    "        lr = lr0\n",
    "    elif epoch<epoch1+epoch2:\n",
    "        lr = lr0/2\n",
    "    elif epoch<epoch1+epoch2+epoch3:\n",
    "        lr = lr0/4\n",
    "    elif epoch<epoch1+epoch2+epoch3+epoch4:\n",
    "        lr = lr0/8\n",
    "    else:\n",
    "        lr = lr0/16\n",
    "    \n",
    "    if divmod(epoch,4)[1] == 3:\n",
    "        lr *= (1/8)\n",
    "    elif divmod(epoch,4)[1] == 2:\n",
    "        lr *= (1/4)\n",
    "    elif divmod(epoch,4)[1] == 1:\n",
    "        lr *= (1/2)\n",
    "    elif divmod(epoch,4)[1] == 0:\n",
    "        pass\n",
    "    print('Learning rate: ', lr)\n",
    "    return lr\n",
    "\n",
    "lr_scheduler = LearningRateScheduler(lr_schedule)\n",
    "callbacks = [lr_scheduler]\n",
    "\n",
    "wd2v.train(epochs=96, verbose=1,\n",
    "           use_multiprocessing=True, workers=4,\n",
    "           callbacks=callbacks)"
   ]
  },
  {
   "cell_type": "code",
   "execution_count": 18,
   "metadata": {
    "collapsed": true
   },
   "outputs": [],
   "source": [
    "# wd2v.train(epochs=128, verbose=1,\n",
    "#            use_multiprocessing=True, workers=4)"
   ]
  },
  {
   "cell_type": "code",
   "execution_count": 19,
   "metadata": {
    "collapsed": true
   },
   "outputs": [],
   "source": [
    "hst_history = wd2v.hst.history"
   ]
  },
  {
   "cell_type": "code",
   "execution_count": 20,
   "metadata": {},
   "outputs": [
    {
     "data": {
      "text/plain": [
       "<matplotlib.legend.Legend at 0x7fc17a387320>"
      ]
     },
     "execution_count": 20,
     "metadata": {},
     "output_type": "execute_result"
    },
    {
     "data": {
      "image/png": "[encoded data removed]",
      "text/plain": [
       "<matplotlib.figure.Figure at 0x7fc179a37550>"
      ]
     },
     "metadata": {},
     "output_type": "display_data"
    }
   ],
   "source": [
    "fig, ax = plt.subplots(1, 3, figsize=(20,5))\n",
    "ax[0].set_title('Learning rate')\n",
    "ax[0].plot(list(range(len(hst_history[\"loss\"]))), hst_history[\"lr\"], label=\"Learning rate\")\n",
    "ax[1].set_title('loss')\n",
    "ax[1].plot(list(range(len(hst_history[\"loss\"]))), hst_history[\"loss\"], label=\"Train loss\")\n",
    "ax[2].set_title('acc')\n",
    "ax[2].plot(list(range(len(hst_history[\"loss\"]))), hst_history[\"acc\"], label=\"accuracy\")\n",
    "ax[0].legend()\n",
    "ax[1].legend()\n",
    "ax[2].legend()"
   ]
  },
  {
   "cell_type": "code",
   "execution_count": null,
   "metadata": {
    "collapsed": true
   },
   "outputs": [],
   "source": []
  },
  {
   "cell_type": "markdown",
   "metadata": {},
   "source": [
    "## similarity"
   ]
  },
  {
   "cell_type": "code",
   "execution_count": 21,
   "metadata": {},
   "outputs": [
    {
     "name": "stdout",
     "output_type": "stream",
     "text": [
      "96\n",
      "MatrixSimilarity<11228 docs, 96 features>\n"
     ]
    },
    {
     "data": {
      "text/plain": [
       "<feature_eng.neg_smpl.WordAndDocSimilarity at 0x7fc19a9b2128>"
      ]
     },
     "execution_count": 21,
     "metadata": {},
     "output_type": "execute_result"
    }
   ],
   "source": [
    "sim = wd2v.sim\n",
    "print(sim.num_features)\n",
    "print(sim.sim_row)\n",
    "sim"
   ]
  },
  {
   "cell_type": "markdown",
   "metadata": {},
   "source": [
    "### get feature vector of document 'd1'"
   ]
  },
  {
   "cell_type": "code",
   "execution_count": 22,
   "metadata": {},
   "outputs": [
    {
     "data": {
      "text/plain": [
       "'mcgrath rentcorp said as a result of its december acquisition of space co it expects earnings per share in 1987 of 1 15 to 1 30 dlrs per share up from 70 cts in 1986 the company said pretax net should rise to nine to 10 mln dlrs from six mln dlrs in 1986 and rental operation revenues to 19 to 22 mln dlrs from 12 5 mln dlrs it said cash flow per share this year should be 2 50 to three dlrs reuter 3'"
      ]
     },
     "execution_count": 22,
     "metadata": {},
     "output_type": "execute_result"
    }
   ],
   "source": [
    "'''d1'''\n",
    "' '.join([word_dic[ee] for ee in doc[sim.row_dic.token2id['d1']]])"
   ]
  },
  {
   "cell_type": "code",
   "execution_count": 23,
   "metadata": {},
   "outputs": [
    {
     "data": {
      "text/plain": [
       "array([ 0.06228603,  0.05158763,  0.00664956, -0.05650318, -0.18714224,\n",
       "       -0.00716177,  0.04472899, -0.10828004,  0.04243895,  0.07932907,\n",
       "       -0.10246289, -0.0332674 ,  0.05400928,  0.00356039,  0.06437802,\n",
       "        0.02885331,  0.02254186,  0.06604897,  0.05781975, -0.07120652,\n",
       "       -0.0797819 ,  0.04507874, -0.05632826,  0.2285238 , -0.07826292,\n",
       "        0.10968618,  0.10216944, -0.05665606,  0.09489058,  0.02616886,\n",
       "       -0.0216578 , -0.02844724,  0.04613934, -0.01100189,  0.05063932,\n",
       "       -0.06763296, -0.1224438 , -0.20663062,  0.09991012, -0.04893929,\n",
       "       -0.06854167,  0.03148542, -0.16262795, -0.01838077,  0.1895411 ,\n",
       "        0.06191308, -0.00135209,  0.09069049, -0.10705483,  0.11275216,\n",
       "        0.03316931,  0.04621187,  0.19327582,  0.13569863, -0.12715822,\n",
       "       -0.15870251,  0.20665948,  0.00777973,  0.0855034 , -0.0459038 ,\n",
       "        0.09979372, -0.10017154, -0.03636088,  0.11194109,  0.00591287,\n",
       "       -0.01594717, -0.06311199,  0.02029563, -0.00961358, -0.12323183,\n",
       "       -0.0613135 , -0.1432529 ,  0.1686791 , -0.04416469, -0.08226272,\n",
       "       -0.09556545,  0.09120437,  0.1554223 ,  0.18121846, -0.17777298,\n",
       "        0.01092801, -0.23646921, -0.08371146, -0.1470994 , -0.03437572,\n",
       "       -0.02340578,  0.15437612,  0.01716186,  0.02396393, -0.30048376,\n",
       "        0.10041962,  0.04755918, -0.12666777, -0.01029774,  0.07793222,\n",
       "       -0.00687918], dtype=float32)"
      ]
     },
     "execution_count": 23,
     "metadata": {},
     "output_type": "execute_result"
    }
   ],
   "source": [
    "query = sim.sim_row.index[sim.row_dic.token2id['d1']]\n",
    "query"
   ]
  },
  {
   "cell_type": "code",
   "execution_count": 24,
   "metadata": {},
   "outputs": [
    {
     "data": {
      "text/plain": [
       "[('rentcorp', 0.8928057551383972),\n",
       " ('mcgrath', 0.8893688917160034),\n",
       " ('earnings', 0.7683308720588684),\n",
       " ('revenues', 0.7408555746078491),\n",
       " ('income', 0.7344933748245239),\n",
       " ('operating', 0.7294939756393433),\n",
       " ('results', 0.7208102345466614),\n",
       " ('quarter', 0.7159154415130615),\n",
       " ('dlrs', 0.7128227353096008),\n",
       " ('assets', 0.7122488021850586),\n",
       " ('operations', 0.7047723531723022),\n",
       " ('name', 0.7017831802368164),\n",
       " ('gain', 0.6947132349014282),\n",
       " ('share', 0.6878364086151123),\n",
       " ('881', 0.6855150461196899),\n",
       " ('corrects', 0.6823650598526001),\n",
       " ('711', 0.6786967515945435),\n",
       " ('disposition', 0.67866051197052),\n",
       " ('restated', 0.6755490899085999),\n",
       " ('pension', 0.6744226813316345)]"
      ]
     },
     "execution_count": 24,
     "metadata": {},
     "output_type": "execute_result"
    }
   ],
   "source": [
    "'''get words that are highly correlated with this document ('d1')'''\n",
    "sim.get_sim_bycol(query, num_best=20)"
   ]
  },
  {
   "cell_type": "code",
   "execution_count": 25,
   "metadata": {},
   "outputs": [
    {
     "data": {
      "text/plain": [
       "[('d1', 1.0),\n",
       " ('d7985', 0.7932754755020142),\n",
       " ('d4589', 0.7613985538482666),\n",
       " ('d3041', 0.7525920271873474),\n",
       " ('d9302', 0.7411332130432129),\n",
       " ('d8439', 0.7407225966453552),\n",
       " ('d9165', 0.7361444234848022),\n",
       " ('d7958', 0.7343065142631531),\n",
       " ('d3083', 0.7322971224784851),\n",
       " ('d1468', 0.7306778430938721)]"
      ]
     },
     "execution_count": 25,
     "metadata": {},
     "output_type": "execute_result"
    }
   ],
   "source": [
    "'''get documents that are highly correlated with this document ('d1')'''\n",
    "sim.get_sim_byrow(query, num_best=10)"
   ]
  },
  {
   "cell_type": "code",
   "execution_count": 26,
   "metadata": {},
   "outputs": [
    {
     "data": {
      "text/plain": [
       "'cardinal industries inc said it restated earnings for the first nine months of 1986 to 235 000 dlrs or nine cts per share from 485 000 dlrs or 18 cts reported previously due to the failure of an automated accounting system installed in mid year and replaced in the fourth quarter the company said its reliance segment sustained a significant operating loss for the full year 1986 due to the accounting problems and increased promotional and advertising expenses for the full year it said it earned 284 000 dlrs or 10 cts a share up from 271 000 dlrs or 10 cts in 1985 cardinal industries said revenues for the year were 30 7 mln dlrs up from 23 0 mln dlrs in 1985 the company said for the first quarter of 1987 earnings were about 48 000 dlrs up from 13 000 dlrs or nil per share in the year ago period the year ago first quarter earnings however have been restated from 101 000 dlrs or four cts per share it said sales for the first quarter were about 8 363 000 dlrs up from 6 636 000 dlrs for the first half of 1986 the company said it restated earnings to 141 000 dlrs or five cts per share from 340 000 dlrs or 12 cts per share reported previously reuter 3'"
      ]
     },
     "execution_count": 26,
     "metadata": {},
     "output_type": "execute_result"
    }
   ],
   "source": [
    "' '.join([word_dic[ee] for ee in doc[sim.row_dic.token2id['d9302']]])"
   ]
  },
  {
   "cell_type": "markdown",
   "metadata": {
    "collapsed": true
   },
   "source": [
    "### get feature vector of word 'rentcorp'"
   ]
  },
  {
   "cell_type": "code",
   "execution_count": 27,
   "metadata": {},
   "outputs": [
    {
     "data": {
      "text/plain": [
       "array([ 0.17086738,  0.03759941, -0.01304786, -0.06919666, -0.21887484,\n",
       "       -0.0096137 ,  0.02827225, -0.0865787 , -0.01537649,  0.01420501,\n",
       "       -0.16476819, -0.01941013,  0.04932489,  0.08095137,  0.01892592,\n",
       "        0.00511158,  0.02716275,  0.14271638,  0.00557088, -0.03131888,\n",
       "       -0.10774492,  0.12366302, -0.05623223,  0.19262749, -0.06987598,\n",
       "        0.09509359,  0.13814567, -0.01086013,  0.04182896,  0.0082962 ,\n",
       "       -0.03785971, -0.06209907,  0.06649698, -0.00042017,  0.03431448,\n",
       "       -0.05458183, -0.10652865, -0.18913437,  0.09851792, -0.0580809 ,\n",
       "       -0.08292577,  0.06255888, -0.14774664, -0.05277245,  0.21855237,\n",
       "        0.03879043,  0.09211227,  0.08797927, -0.17859216,  0.06374631,\n",
       "       -0.10833167,  0.08485562,  0.13679244,  0.16630876, -0.05551298,\n",
       "       -0.11881838,  0.16715692,  0.05256989,  0.07476132, -0.04299609,\n",
       "        0.10117051, -0.05171636, -0.03296462,  0.09228414, -0.00605166,\n",
       "       -0.02265247, -0.06951281,  0.13278826,  0.04037347, -0.14084989,\n",
       "        0.03699751, -0.08541701,  0.16655116, -0.09420759, -0.08531742,\n",
       "       -0.0531747 ,  0.07820058,  0.13926663,  0.17187782, -0.139007  ,\n",
       "       -0.05159141, -0.20567496, -0.06274731, -0.11672238, -0.00839684,\n",
       "        0.01883531,  0.15641828,  0.17215176,  0.04768449, -0.2444971 ,\n",
       "        0.06949845,  0.06588104, -0.08335623,  0.10055266,  0.09197572,\n",
       "        0.06666423], dtype=float32)"
      ]
     },
     "execution_count": 27,
     "metadata": {},
     "output_type": "execute_result"
    }
   ],
   "source": [
    "query = sim.sim_col.index[sim.col_dic.token2id['rentcorp']]\n",
    "query"
   ]
  },
  {
   "cell_type": "code",
   "execution_count": 28,
   "metadata": {},
   "outputs": [
    {
     "data": {
      "text/plain": [
       "[('rentcorp', 1.0),\n",
       " ('mcgrath', 0.9662940502166748),\n",
       " ('expects', 0.5681359767913818),\n",
       " ('rental', 0.5544235706329346),\n",
       " ('revenues', 0.5496445894241333),\n",
       " ('first', 0.5230189561843872),\n",
       " ('earnings', 0.5208085775375366),\n",
       " ('earned', 0.4955066442489624),\n",
       " ('mortgage', 0.48578131198883057),\n",
       " ('originations', 0.47744935750961304),\n",
       " ('paced', 0.4740075469017029),\n",
       " ('yearend', 0.46817755699157715),\n",
       " ('cellular', 0.4674549698829651),\n",
       " ('taxable', 0.46056079864501953),\n",
       " ('initial', 0.4581555724143982),\n",
       " ('income', 0.4555862545967102),\n",
       " ('partnerhsip', 0.45512843132019043),\n",
       " ('cash', 0.45424699783325195),\n",
       " ('vms', 0.45226186513900757),\n",
       " ('operating', 0.4492446780204773)]"
      ]
     },
     "execution_count": 28,
     "metadata": {},
     "output_type": "execute_result"
    }
   ],
   "source": [
    "'''get words that are highly correlated with this word ('rentcorp')'''\n",
    "sim.get_sim_bycol(query, num_best=20)"
   ]
  },
  {
   "cell_type": "code",
   "execution_count": 29,
   "metadata": {},
   "outputs": [
    {
     "data": {
      "text/plain": [
       "[('d1', 0.8928057551383972),\n",
       " ('d7608', 0.5413070917129517),\n",
       " ('d10757', 0.5342426300048828),\n",
       " ('d6333', 0.5276925563812256),\n",
       " ('d6115', 0.5246855616569519),\n",
       " ('d6523', 0.515679121017456),\n",
       " ('d98', 0.5148770809173584),\n",
       " ('d2872', 0.5088819265365601),\n",
       " ('d7934', 0.5077808499336243),\n",
       " ('d133', 0.5001176595687866)]"
      ]
     },
     "execution_count": 29,
     "metadata": {},
     "output_type": "execute_result"
    }
   ],
   "source": [
    "'''get documents that are highly correlated with this word ('rentcorp')'''\n",
    "sim.get_sim_byrow(query, num_best=10)"
   ]
  },
  {
   "cell_type": "code",
   "execution_count": null,
   "metadata": {
    "collapsed": true
   },
   "outputs": [],
   "source": []
  }
 ],
 "metadata": {
  "kernelspec": {
   "display_name": "Python 3",
   "language": "python",
   "name": "python3"
  },
  "language_info": {
   "codemirror_mode": {
    "name": "ipython",
    "version": 3
   },
   "file_extension": ".py",
   "mimetype": "text/x-python",
   "name": "python",
   "nbconvert_exporter": "python",
   "pygments_lexer": "ipython3",
   "version": "3.6.8"
  }
 },
 "nbformat": 4,
 "nbformat_minor": 2
}
