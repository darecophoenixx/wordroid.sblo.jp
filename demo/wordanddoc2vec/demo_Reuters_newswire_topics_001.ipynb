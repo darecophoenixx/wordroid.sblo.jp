{
 "cells": [
  {
   "cell_type": "markdown",
   "metadata": {},
   "source": [
    "demo : Reuters newswire topics (Keras dataset)"
   ]
  },
  {
   "cell_type": "code",
   "execution_count": 1,
   "metadata": {},
   "outputs": [
    {
     "name": "stderr",
     "output_type": "stream",
     "text": [
      "Using TensorFlow backend.\n"
     ]
    }
   ],
   "source": [
    "%matplotlib inline\n",
    "from IPython.display import SVG\n",
    "from keras.utils.vis_utils import model_to_dot"
   ]
  },
  {
   "cell_type": "code",
   "execution_count": 2,
   "metadata": {
    "collapsed": true
   },
   "outputs": [],
   "source": [
    "import sys\n",
    "sys.path.append('/home/admin/github/wordroid.sblo.jp/lib')\n",
    "from feature_eng import WordAndDoc2vec"
   ]
  },
  {
   "cell_type": "code",
   "execution_count": 3,
   "metadata": {
    "collapsed": true
   },
   "outputs": [],
   "source": [
    "import os.path\n",
    "import sys\n",
    "import re\n",
    "import itertools\n",
    "import csv\n",
    "import datetime\n",
    "import pickle\n",
    "import random\n",
    "from collections import defaultdict, Counter\n",
    "import gc\n",
    "\n",
    "import matplotlib.pyplot as plt\n",
    "from matplotlib.ticker import NullFormatter\n",
    "import seaborn as sns\n",
    "import pandas as pd\n",
    "import numpy as np\n",
    "import scipy\n",
    "import gensim\n",
    "from sklearn.metrics import f1_score, classification_report, confusion_matrix, log_loss\n",
    "from sklearn.model_selection import train_test_split\n",
    "import gensim\n",
    "from keras.preprocessing.sequence import skipgrams\n",
    "import tensorflow as tf"
   ]
  },
  {
   "cell_type": "code",
   "execution_count": 4,
   "metadata": {
    "collapsed": true
   },
   "outputs": [],
   "source": [
    "def hexbin(x, y, color, **kwargs):\n",
    "    cmap = sns.light_palette(color, as_cmap=True)\n",
    "    plt.hexbin(x, y, cmap=cmap, **kwargs)\n",
    "def scatter(x, y, color, **kwargs):\n",
    "    plt.scatter(x, y, marker='.')"
   ]
  },
  {
   "cell_type": "markdown",
   "metadata": {},
   "source": [
    "### load data"
   ]
  },
  {
   "cell_type": "code",
   "execution_count": 5,
   "metadata": {
    "collapsed": true
   },
   "outputs": [],
   "source": [
    "from keras.datasets import reuters"
   ]
  },
  {
   "cell_type": "code",
   "execution_count": 6,
   "metadata": {
    "collapsed": true
   },
   "outputs": [],
   "source": [
    "word_index = reuters.get_word_index()\n",
    "word_index2 = dict([(k, v+3) for k, v in word_index.items()])\n",
    "word_dic = gensim.corpora.Dictionary([['<padding>', '<start_char>', '<oov_char>'],], prune_at=None)\n",
    "word_dic.token2id.update(word_index2)"
   ]
  },
  {
   "cell_type": "code",
   "execution_count": 7,
   "metadata": {},
   "outputs": [
    {
     "data": {
      "text/plain": [
       "'mcgrath'"
      ]
     },
     "execution_count": 7,
     "metadata": {},
     "output_type": "execute_result"
    }
   ],
   "source": [
    "word_dic[27595]"
   ]
  },
  {
   "cell_type": "code",
   "execution_count": 8,
   "metadata": {},
   "outputs": [
    {
     "data": {
      "text/plain": [
       "'the'"
      ]
     },
     "execution_count": 8,
     "metadata": {},
     "output_type": "execute_result"
    }
   ],
   "source": [
    "word_dic[4]"
   ]
  },
  {
   "cell_type": "code",
   "execution_count": 9,
   "metadata": {
    "collapsed": true
   },
   "outputs": [],
   "source": [
    "(doc, cat), (doc_test, cat_test) = reuters.load_data(test_split=0.0, start_char=None)"
   ]
  },
  {
   "cell_type": "code",
   "execution_count": 10,
   "metadata": {},
   "outputs": [
    {
     "data": {
      "text/plain": [
       "'mcgrath rentcorp said as a result of its december acquisition of space co it expects earnings per share in 1987 of 1 15 to 1 30 dlrs per share up from 70 cts in 1986 the company said pretax net should rise to nine to 10 mln dlrs from six mln dlrs in 1986 and rental operation revenues to 19 to 22 mln dlrs from 12 5 mln dlrs it said cash flow per share this year should be 2 50 to three dlrs reuter 3'"
      ]
     },
     "execution_count": 10,
     "metadata": {},
     "output_type": "execute_result"
    }
   ],
   "source": [
    "' '.join([word_dic[ee] for ee in doc[0]])"
   ]
  },
  {
   "cell_type": "code",
   "execution_count": 11,
   "metadata": {
    "collapsed": true
   },
   "outputs": [],
   "source": [
    "doc_dic = gensim.corpora.Dictionary(prune_at=None)\n",
    "doc_dic.token2id.update(dict([('d'+str(ee+1), ee) for ee in range(len(doc))]))"
   ]
  },
  {
   "cell_type": "code",
   "execution_count": 12,
   "metadata": {
    "collapsed": true
   },
   "outputs": [],
   "source": [
    "doc_seq = [[word_dic[ee] for ee in doc[ii]] for ii in range(len(doc))]"
   ]
  },
  {
   "cell_type": "code",
   "execution_count": 13,
   "metadata": {
    "collapsed": true
   },
   "outputs": [],
   "source": [
    "cat\n",
    "cls = pd.Series(['c'+str(c) for c in cat])"
   ]
  },
  {
   "cell_type": "markdown",
   "metadata": {},
   "source": [
    "### create WordAndDoc2vec instance"
   ]
  },
  {
   "cell_type": "code",
   "execution_count": 14,
   "metadata": {},
   "outputs": [
    {
     "name": "stdout",
     "output_type": "stream",
     "text": [
      "len(doc_seq) >>> 11228\n",
      "max(doc_dic.keys()) + 1 >>> 11228\n",
      "num_features >>> 30983\n",
      "corpus_csr.shape >>> (11228, 30983)\n",
      "creating tfidf...\n",
      "<feature_eng.neg_smpl.MySparseMatrixSimilarity object at 0x7f169bf49f98>\n",
      "<feature_eng.neg_smpl.Dic4seq object at 0x7f169b412080>\n"
     ]
    },
    {
     "data": {
      "text/plain": [
       "<feature_eng.neg_smpl.WordAndDoc2vec at 0x7f169d801eb8>"
      ]
     },
     "execution_count": 14,
     "metadata": {},
     "output_type": "execute_result"
    }
   ],
   "source": [
    "wd2v = WordAndDoc2vec(doc_seq, word_dic, doc_dic, logging=False)\n",
    "wd2v"
   ]
  },
  {
   "cell_type": "markdown",
   "metadata": {},
   "source": [
    "### create model"
   ]
  },
  {
   "cell_type": "code",
   "execution_count": 15,
   "metadata": {},
   "outputs": [
    {
     "data": {
      "text/plain": [
       "{'model': <keras.engine.training.Model at 0x7f169bb4d7f0>,\n",
       " 'model_neg': <keras.engine.training.Model at 0x7f169b39dfd0>,\n",
       " 'model_prob': <keras.engine.training.Model at 0x7f169ba4d358>,\n",
       " 'model_prob2': <keras.engine.training.Model at 0x7f169bea4ba8>,\n",
       " 'model_prob2_cnfm': <keras.engine.training.Model at 0x7f169ba8c9e8>,\n",
       " 'model_prob_cnfm': <keras.engine.training.Model at 0x7f169b712860>,\n",
       " 'model_prod': <keras.engine.training.Model at 0x7f169b412e48>,\n",
       " 'model_user': <keras.engine.training.Model at 0x7f169b4126a0>}"
      ]
     },
     "execution_count": 15,
     "metadata": {},
     "output_type": "execute_result"
    }
   ],
   "source": [
    "num_features = 96\n",
    "wd2v.make_model(max_num_prod=5, num_neg=3, num_features=num_features,\n",
    "                embeddings_val=0.5, gamma=0.0)"
   ]
  },
  {
   "cell_type": "markdown",
   "metadata": {},
   "source": [
    "### start train\n",
    "note : it will take a long time..."
   ]
  },
  {
   "cell_type": "code",
   "execution_count": 16,
   "metadata": {
    "collapsed": true
   },
   "outputs": [],
   "source": [
    "# from keras.callbacks import ModelCheckpoint, LearningRateScheduler, ReduceLROnPlateau\n",
    "\n",
    "# def lr_schedule(epoch):\n",
    "#     lr0 = 0.02\n",
    "#     epoch1 = 32\n",
    "#     epoch2 = 32\n",
    "#     epoch3 = 32\n",
    "#     epoch4 = 32\n",
    "    \n",
    "#     if epoch<epoch1:\n",
    "#         lr = lr0\n",
    "#     elif epoch<epoch1+epoch2:\n",
    "#         lr = lr0/2\n",
    "#     elif epoch<epoch1+epoch2+epoch3:\n",
    "#         lr = lr0/4\n",
    "#     elif epoch<epoch1+epoch2+epoch3+epoch4:\n",
    "#         lr = lr0/8\n",
    "#     else:\n",
    "#         lr = lr0/16\n",
    "    \n",
    "#     if divmod(epoch,4)[1] == 3:\n",
    "#         lr *= (1/8)\n",
    "#     elif divmod(epoch,4)[1] == 2:\n",
    "#         lr *= (1/4)\n",
    "#     elif divmod(epoch,4)[1] == 1:\n",
    "#         lr *= (1/2)\n",
    "#     elif divmod(epoch,4)[1] == 0:\n",
    "#         pass\n",
    "#     print('Learning rate: ', lr)\n",
    "#     return lr\n",
    "\n",
    "# lr_scheduler = LearningRateScheduler(lr_schedule)\n",
    "# callbacks = [lr_scheduler]\n",
    "\n",
    "# wd2v.train(epochs=128, verbose=1,\n",
    "#            use_multiprocessing=True, workers=4,\n",
    "#            callbacks=callbacks)"
   ]
  },
  {
   "cell_type": "code",
   "execution_count": 17,
   "metadata": {},
   "outputs": [
    {
     "name": "stdout",
     "output_type": "stream",
     "text": [
      "len(seq) >>> 351\n",
      "Epoch 1/96\n",
      "Learning rate:  0.02\n",
      "351/351 [==============================] - 49s 139ms/step - loss: 0.4029 - acc: 0.8130\n",
      "Epoch 2/96\n",
      "Learning rate:  0.01\n",
      "351/351 [==============================] - 49s 139ms/step - loss: 0.2915 - acc: 0.8904\n",
      "Epoch 3/96\n",
      "Learning rate:  0.005\n",
      "351/351 [==============================] - 49s 139ms/step - loss: 0.2598 - acc: 0.9042\n",
      "Epoch 4/96\n",
      "Learning rate:  0.0025\n",
      "351/351 [==============================] - 49s 139ms/step - loss: 0.2524 - acc: 0.9077\n",
      "Epoch 5/96\n",
      "Learning rate:  0.02\n",
      "351/351 [==============================] - 49s 139ms/step - loss: 0.2649 - acc: 0.9086\n",
      "Epoch 6/96\n",
      "Learning rate:  0.01\n",
      "351/351 [==============================] - 49s 138ms/step - loss: 0.2520 - acc: 0.9127\n",
      "Epoch 7/96\n",
      "Learning rate:  0.005\n",
      "351/351 [==============================] - 49s 140ms/step - loss: 0.2411 - acc: 0.9151\n",
      "Epoch 8/96\n",
      "Learning rate:  0.0025\n",
      "351/351 [==============================] - 49s 140ms/step - loss: 0.2317 - acc: 0.9188\n",
      "Epoch 9/96\n",
      "Learning rate:  0.02\n",
      "351/351 [==============================] - 49s 140ms/step - loss: 0.2452 - acc: 0.9160\n",
      "Epoch 10/96\n",
      "Learning rate:  0.01\n",
      "351/351 [==============================] - 49s 139ms/step - loss: 0.2454 - acc: 0.9082\n",
      "Epoch 11/96\n",
      "Learning rate:  0.005\n",
      "351/351 [==============================] - 49s 139ms/step - loss: 0.2385 - acc: 0.9122\n",
      "Epoch 12/96\n",
      "Learning rate:  0.0025\n",
      "351/351 [==============================] - 49s 139ms/step - loss: 0.2238 - acc: 0.9187\n",
      "Epoch 13/96\n",
      "Learning rate:  0.02\n",
      "351/351 [==============================] - 49s 139ms/step - loss: 0.2379 - acc: 0.9153\n",
      "Epoch 14/96\n",
      "Learning rate:  0.01\n",
      "351/351 [==============================] - 49s 140ms/step - loss: 0.2416 - acc: 0.9071\n",
      "Epoch 15/96\n",
      "Learning rate:  0.005\n",
      "351/351 [==============================] - 49s 139ms/step - loss: 0.2357 - acc: 0.9114\n",
      "Epoch 16/96\n",
      "Learning rate:  0.0025\n",
      "351/351 [==============================] - 49s 139ms/step - loss: 0.2193 - acc: 0.9185\n",
      "Epoch 17/96\n",
      "Learning rate:  0.01\n",
      "351/351 [==============================] - 49s 140ms/step - loss: 0.2249 - acc: 0.9169\n",
      "Epoch 18/96\n",
      "Learning rate:  0.005\n",
      "351/351 [==============================] - 49s 139ms/step - loss: 0.2213 - acc: 0.9169\n",
      "Epoch 19/96\n",
      "Learning rate:  0.0025\n",
      "351/351 [==============================] - 49s 139ms/step - loss: 0.2177 - acc: 0.9186\n",
      "Epoch 20/96\n",
      "Learning rate:  0.00125\n",
      "351/351 [==============================] - 49s 139ms/step - loss: 0.2154 - acc: 0.9193\n",
      "Epoch 21/96\n",
      "Learning rate:  0.01\n",
      "351/351 [==============================] - 49s 140ms/step - loss: 0.2233 - acc: 0.9169\n",
      "Epoch 22/96\n",
      "Learning rate:  0.005\n",
      "351/351 [==============================] - 49s 139ms/step - loss: 0.2209 - acc: 0.9160\n",
      "Epoch 23/96\n",
      "Learning rate:  0.0025\n",
      "351/351 [==============================] - 49s 139ms/step - loss: 0.2181 - acc: 0.9179\n",
      "Epoch 24/96\n",
      "Learning rate:  0.00125\n",
      "351/351 [==============================] - 49s 139ms/step - loss: 0.2144 - acc: 0.9191\n",
      "Epoch 25/96\n",
      "Learning rate:  0.01\n",
      "351/351 [==============================] - 49s 139ms/step - loss: 0.2222 - acc: 0.9168\n",
      "Epoch 26/96\n",
      "Learning rate:  0.005\n",
      "351/351 [==============================] - 49s 139ms/step - loss: 0.2215 - acc: 0.9148\n",
      "Epoch 27/96\n",
      "Learning rate:  0.0025\n",
      "351/351 [==============================] - 49s 139ms/step - loss: 0.2180 - acc: 0.9172\n",
      "Epoch 28/96\n",
      "Learning rate:  0.00125\n",
      "351/351 [==============================] - 49s 139ms/step - loss: 0.2134 - acc: 0.9190\n",
      "Epoch 29/96\n",
      "Learning rate:  0.01\n",
      "351/351 [==============================] - 49s 140ms/step - loss: 0.2213 - acc: 0.9165\n",
      "Epoch 30/96\n",
      "Learning rate:  0.005\n",
      "351/351 [==============================] - 49s 139ms/step - loss: 0.2206 - acc: 0.9147\n",
      "Epoch 31/96\n",
      "Learning rate:  0.0025\n",
      "351/351 [==============================] - 49s 139ms/step - loss: 0.2168 - acc: 0.9174\n",
      "Epoch 32/96\n",
      "Learning rate:  0.00125\n",
      "351/351 [==============================] - 49s 140ms/step - loss: 0.2125 - acc: 0.9190\n",
      "Epoch 33/96\n",
      "Learning rate:  0.005\n",
      "351/351 [==============================] - 49s 139ms/step - loss: 0.2158 - acc: 0.9180\n",
      "Epoch 34/96\n",
      "Learning rate:  0.0025\n",
      "351/351 [==============================] - 49s 139ms/step - loss: 0.2136 - acc: 0.9180\n",
      "Epoch 35/96\n",
      "Learning rate:  0.00125\n",
      "351/351 [==============================] - 49s 139ms/step - loss: 0.2121 - acc: 0.9190\n",
      "Epoch 36/96\n",
      "Learning rate:  0.000625\n",
      "351/351 [==============================] - 49s 139ms/step - loss: 0.2112 - acc: 0.9192\n",
      "Epoch 37/96\n",
      "Learning rate:  0.005\n",
      "351/351 [==============================] - 49s 140ms/step - loss: 0.2155 - acc: 0.9177\n",
      "Epoch 38/96\n",
      "Learning rate:  0.0025\n",
      "351/351 [==============================] - 49s 139ms/step - loss: 0.2136 - acc: 0.9178\n",
      "Epoch 39/96\n",
      "Learning rate:  0.00125\n",
      "351/351 [==============================] - 49s 139ms/step - loss: 0.2122 - acc: 0.9190\n",
      "Epoch 40/96\n",
      "Learning rate:  0.000625\n",
      "351/351 [==============================] - 49s 139ms/step - loss: 0.2110 - acc: 0.9192\n",
      "Epoch 41/96\n",
      "Learning rate:  0.005\n",
      "351/351 [==============================] - 49s 139ms/step - loss: 0.2151 - acc: 0.9176\n",
      "Epoch 42/96\n",
      "Learning rate:  0.0025\n",
      "351/351 [==============================] - 49s 140ms/step - loss: 0.2137 - acc: 0.9174\n",
      "Epoch 43/96\n",
      "Learning rate:  0.00125\n",
      "351/351 [==============================] - 49s 139ms/step - loss: 0.2121 - acc: 0.9188\n",
      "Epoch 44/96\n",
      "Learning rate:  0.000625\n",
      "351/351 [==============================] - 49s 140ms/step - loss: 0.2107 - acc: 0.9191\n",
      "Epoch 45/96\n",
      "Learning rate:  0.005\n",
      "351/351 [==============================] - 49s 139ms/step - loss: 0.2148 - acc: 0.9177\n",
      "Epoch 46/96\n",
      "Learning rate:  0.0025\n",
      "351/351 [==============================] - 49s 139ms/step - loss: 0.2134 - acc: 0.9174\n",
      "Epoch 47/96\n",
      "Learning rate:  0.00125\n",
      "351/351 [==============================] - 49s 140ms/step - loss: 0.2117 - acc: 0.9189\n",
      "Epoch 48/96\n",
      "Learning rate:  0.000625\n",
      "351/351 [==============================] - 49s 140ms/step - loss: 0.2103 - acc: 0.9193\n",
      "Epoch 49/96\n",
      "Learning rate:  0.005\n",
      "351/351 [==============================] - 49s 139ms/step - loss: 0.2146 - acc: 0.9176\n",
      "Epoch 50/96\n",
      "Learning rate:  0.0025\n",
      "351/351 [==============================] - 49s 139ms/step - loss: 0.2133 - acc: 0.9174\n",
      "Epoch 51/96\n",
      "Learning rate:  0.00125\n",
      "351/351 [==============================] - 49s 139ms/step - loss: 0.2115 - acc: 0.9189\n",
      "Epoch 52/96\n",
      "Learning rate:  0.000625\n",
      "351/351 [==============================] - 49s 140ms/step - loss: 0.2101 - acc: 0.9193\n",
      "Epoch 53/96\n",
      "Learning rate:  0.005\n",
      "351/351 [==============================] - 49s 140ms/step - loss: 0.2143 - acc: 0.9176\n",
      "Epoch 54/96\n",
      "Learning rate:  0.0025\n",
      "351/351 [==============================] - 49s 139ms/step - loss: 0.2130 - acc: 0.9173\n",
      "Epoch 55/96\n",
      "Learning rate:  0.00125\n",
      "351/351 [==============================] - 49s 139ms/step - loss: 0.2112 - acc: 0.9188\n",
      "Epoch 56/96\n",
      "Learning rate:  0.000625\n",
      "351/351 [==============================] - 49s 139ms/step - loss: 0.2100 - acc: 0.9193\n",
      "Epoch 57/96\n",
      "Learning rate:  0.005\n",
      "351/351 [==============================] - 49s 139ms/step - loss: 0.2141 - acc: 0.9176\n",
      "Epoch 58/96\n",
      "Learning rate:  0.0025\n",
      "351/351 [==============================] - 49s 140ms/step - loss: 0.2128 - acc: 0.9174\n",
      "Epoch 59/96\n",
      "Learning rate:  0.00125\n",
      "351/351 [==============================] - 49s 139ms/step - loss: 0.2111 - acc: 0.9190\n",
      "Epoch 60/96\n",
      "Learning rate:  0.000625\n",
      "351/351 [==============================] - 49s 139ms/step - loss: 0.2098 - acc: 0.9193\n",
      "Epoch 61/96\n",
      "Learning rate:  0.005\n",
      "351/351 [==============================] - 49s 139ms/step - loss: 0.2139 - acc: 0.9178\n",
      "Epoch 62/96\n",
      "Learning rate:  0.0025\n",
      "351/351 [==============================] - 49s 139ms/step - loss: 0.2127 - acc: 0.9173\n",
      "Epoch 63/96\n",
      "Learning rate:  0.00125\n",
      "351/351 [==============================] - 49s 139ms/step - loss: 0.2109 - acc: 0.9188\n",
      "Epoch 64/96\n",
      "Learning rate:  0.000625\n",
      "351/351 [==============================] - 49s 139ms/step - loss: 0.2096 - acc: 0.9192\n",
      "Epoch 65/96\n",
      "Learning rate:  0.0025\n",
      "351/351 [==============================] - 49s 139ms/step - loss: 0.2114 - acc: 0.9183\n",
      "Epoch 66/96\n",
      "Learning rate:  0.00125\n",
      "351/351 [==============================] - 49s 140ms/step - loss: 0.2102 - acc: 0.9188\n",
      "Epoch 67/96\n",
      "Learning rate:  0.000625\n",
      "351/351 [==============================] - 49s 139ms/step - loss: 0.2095 - acc: 0.9192\n",
      "Epoch 68/96\n",
      "Learning rate:  0.0003125\n"
     ]
    },
    {
     "name": "stdout",
     "output_type": "stream",
     "text": [
      "351/351 [==============================] - 49s 139ms/step - loss: 0.2090 - acc: 0.9194\n",
      "Epoch 69/96\n",
      "Learning rate:  0.0025\n",
      "351/351 [==============================] - 49s 139ms/step - loss: 0.2113 - acc: 0.9184\n",
      "Epoch 70/96\n",
      "Learning rate:  0.00125\n",
      "351/351 [==============================] - 49s 139ms/step - loss: 0.2101 - acc: 0.9186\n",
      "Epoch 71/96\n",
      "Learning rate:  0.000625\n",
      "351/351 [==============================] - 49s 139ms/step - loss: 0.2095 - acc: 0.9194\n",
      "Epoch 72/96\n",
      "Learning rate:  0.0003125\n",
      "351/351 [==============================] - 49s 140ms/step - loss: 0.2090 - acc: 0.9195\n",
      "Epoch 73/96\n",
      "Learning rate:  0.0025\n",
      "351/351 [==============================] - 49s 139ms/step - loss: 0.2112 - acc: 0.9184\n",
      "Epoch 74/96\n",
      "Learning rate:  0.00125\n",
      "351/351 [==============================] - 49s 139ms/step - loss: 0.2103 - acc: 0.9185\n",
      "Epoch 75/96\n",
      "Learning rate:  0.000625\n",
      "351/351 [==============================] - 49s 139ms/step - loss: 0.2095 - acc: 0.9194\n",
      "Epoch 76/96\n",
      "Learning rate:  0.0003125\n",
      "351/351 [==============================] - 49s 140ms/step - loss: 0.2089 - acc: 0.9194\n",
      "Epoch 77/96\n",
      "Learning rate:  0.0025\n",
      "351/351 [==============================] - 49s 139ms/step - loss: 0.2110 - acc: 0.9185\n",
      "Epoch 78/96\n",
      "Learning rate:  0.00125\n",
      "351/351 [==============================] - 49s 139ms/step - loss: 0.2102 - acc: 0.9184\n",
      "Epoch 79/96\n",
      "Learning rate:  0.000625\n",
      "351/351 [==============================] - 49s 139ms/step - loss: 0.2093 - acc: 0.9192\n",
      "Epoch 80/96\n",
      "Learning rate:  0.0003125\n",
      "351/351 [==============================] - 49s 139ms/step - loss: 0.2088 - acc: 0.9194\n",
      "Epoch 81/96\n",
      "Learning rate:  0.0025\n",
      "351/351 [==============================] - 49s 139ms/step - loss: 0.2110 - acc: 0.9184\n",
      "Epoch 82/96\n",
      "Learning rate:  0.00125\n",
      "351/351 [==============================] - 49s 139ms/step - loss: 0.2101 - acc: 0.9185\n",
      "Epoch 83/96\n",
      "Learning rate:  0.000625\n",
      "351/351 [==============================] - 49s 139ms/step - loss: 0.2091 - acc: 0.9194\n",
      "Epoch 84/96\n",
      "Learning rate:  0.0003125\n",
      "351/351 [==============================] - 49s 139ms/step - loss: 0.2088 - acc: 0.9194\n",
      "Epoch 85/96\n",
      "Learning rate:  0.0025\n",
      "351/351 [==============================] - 49s 139ms/step - loss: 0.2110 - acc: 0.9183\n",
      "Epoch 86/96\n",
      "Learning rate:  0.00125\n",
      "351/351 [==============================] - 49s 139ms/step - loss: 0.2099 - acc: 0.9185\n",
      "Epoch 87/96\n",
      "Learning rate:  0.000625\n",
      "351/351 [==============================] - 49s 139ms/step - loss: 0.2091 - acc: 0.9192\n",
      "Epoch 88/96\n",
      "Learning rate:  0.0003125\n",
      "351/351 [==============================] - 49s 139ms/step - loss: 0.2087 - acc: 0.9194\n",
      "Epoch 89/96\n",
      "Learning rate:  0.0025\n",
      "351/351 [==============================] - 49s 139ms/step - loss: 0.2109 - acc: 0.9184\n",
      "Epoch 90/96\n",
      "Learning rate:  0.00125\n",
      "351/351 [==============================] - 49s 140ms/step - loss: 0.2099 - acc: 0.9186\n",
      "Epoch 91/96\n",
      "Learning rate:  0.000625\n",
      "351/351 [==============================] - 49s 140ms/step - loss: 0.2092 - acc: 0.9193\n",
      "Epoch 92/96\n",
      "Learning rate:  0.0003125\n",
      "351/351 [==============================] - 49s 139ms/step - loss: 0.2087 - acc: 0.9194\n",
      "Epoch 93/96\n",
      "Learning rate:  0.0025\n",
      "351/351 [==============================] - 49s 139ms/step - loss: 0.2109 - acc: 0.9184\n",
      "Epoch 94/96\n",
      "Learning rate:  0.00125\n",
      "351/351 [==============================] - 49s 139ms/step - loss: 0.2098 - acc: 0.9186\n",
      "Epoch 95/96\n",
      "Learning rate:  0.000625\n",
      "351/351 [==============================] - 49s 139ms/step - loss: 0.2090 - acc: 0.9192\n",
      "Epoch 96/96\n",
      "Learning rate:  0.0003125\n",
      "351/351 [==============================] - 49s 139ms/step - loss: 0.2085 - acc: 0.9193\n"
     ]
    },
    {
     "data": {
      "text/plain": [
       "<keras.callbacks.History at 0x7f169b7abdd8>"
      ]
     },
     "execution_count": 17,
     "metadata": {},
     "output_type": "execute_result"
    }
   ],
   "source": [
    "from keras.callbacks import ModelCheckpoint, LearningRateScheduler, ReduceLROnPlateau\n",
    "\n",
    "def lr_schedule(epoch):\n",
    "    lr0 = 0.02\n",
    "    epoch1 = 16\n",
    "    epoch2 = 16\n",
    "    epoch3 = 32\n",
    "    epoch4 = 32\n",
    "    \n",
    "    if epoch<epoch1:\n",
    "        lr = lr0\n",
    "    elif epoch<epoch1+epoch2:\n",
    "        lr = lr0/2\n",
    "    elif epoch<epoch1+epoch2+epoch3:\n",
    "        lr = lr0/4\n",
    "    elif epoch<epoch1+epoch2+epoch3+epoch4:\n",
    "        lr = lr0/8\n",
    "    else:\n",
    "        lr = lr0/16\n",
    "    \n",
    "    if divmod(epoch,4)[1] == 3:\n",
    "        lr *= (1/8)\n",
    "    elif divmod(epoch,4)[1] == 2:\n",
    "        lr *= (1/4)\n",
    "    elif divmod(epoch,4)[1] == 1:\n",
    "        lr *= (1/2)\n",
    "    elif divmod(epoch,4)[1] == 0:\n",
    "        pass\n",
    "    print('Learning rate: ', lr)\n",
    "    return lr\n",
    "\n",
    "lr_scheduler = LearningRateScheduler(lr_schedule)\n",
    "callbacks = [lr_scheduler]\n",
    "\n",
    "wd2v.train(epochs=96, verbose=1,\n",
    "           use_multiprocessing=True, workers=4,\n",
    "           callbacks=callbacks)"
   ]
  },
  {
   "cell_type": "code",
   "execution_count": 18,
   "metadata": {},
   "outputs": [],
   "source": [
    "# wd2v.train(epochs=128, verbose=1,\n",
    "#            use_multiprocessing=True, workers=4)"
   ]
  },
  {
   "cell_type": "code",
   "execution_count": 19,
   "metadata": {
    "collapsed": true
   },
   "outputs": [],
   "source": [
    "hst_history = wd2v.hst.history"
   ]
  },
  {
   "cell_type": "code",
   "execution_count": 20,
   "metadata": {},
   "outputs": [
    {
     "data": {
      "text/plain": [
       "<matplotlib.legend.Legend at 0x7f169bbadef0>"
      ]
     },
     "execution_count": 20,
     "metadata": {},
     "output_type": "execute_result"
    },
    {
     "data": {
      "image/png": "[encoded data removed]",
      "text/plain": [
       "<matplotlib.figure.Figure at 0x7f169b7a1978>"
      ]
     },
     "metadata": {},
     "output_type": "display_data"
    }
   ],
   "source": [
    "fig, ax = plt.subplots(1, 2, figsize=(20,5))\n",
    "ax[0].set_title('loss')\n",
    "ax[0].plot(list(range(len(hst_history[\"loss\"]))), hst_history[\"loss\"], label=\"Train loss\")\n",
    "ax[1].set_title('acc')\n",
    "ax[1].plot(list(range(len(hst_history[\"loss\"]))), hst_history[\"acc\"], label=\"accuracy\")\n",
    "ax[0].legend()\n",
    "ax[1].legend()"
   ]
  },
  {
   "cell_type": "code",
   "execution_count": null,
   "metadata": {
    "collapsed": true
   },
   "outputs": [],
   "source": []
  },
  {
   "cell_type": "markdown",
   "metadata": {},
   "source": [
    "## similarity"
   ]
  },
  {
   "cell_type": "code",
   "execution_count": 21,
   "metadata": {},
   "outputs": [
    {
     "name": "stdout",
     "output_type": "stream",
     "text": [
      "96\n",
      "MatrixSimilarity<11228 docs, 96 features>\n"
     ]
    },
    {
     "data": {
      "text/plain": [
       "<feature_eng.neg_smpl.WordAndDocSimilarity at 0x7f169c1acfd0>"
      ]
     },
     "execution_count": 21,
     "metadata": {},
     "output_type": "execute_result"
    }
   ],
   "source": [
    "sim = wd2v.sim\n",
    "print(sim.num_features)\n",
    "print(sim.sim_row)\n",
    "sim"
   ]
  },
  {
   "cell_type": "markdown",
   "metadata": {},
   "source": [
    "### get feature vector of document 'd1'"
   ]
  },
  {
   "cell_type": "code",
   "execution_count": 22,
   "metadata": {},
   "outputs": [
    {
     "data": {
      "text/plain": [
       "'mcgrath rentcorp said as a result of its december acquisition of space co it expects earnings per share in 1987 of 1 15 to 1 30 dlrs per share up from 70 cts in 1986 the company said pretax net should rise to nine to 10 mln dlrs from six mln dlrs in 1986 and rental operation revenues to 19 to 22 mln dlrs from 12 5 mln dlrs it said cash flow per share this year should be 2 50 to three dlrs reuter 3'"
      ]
     },
     "execution_count": 22,
     "metadata": {},
     "output_type": "execute_result"
    }
   ],
   "source": [
    "'''d1'''\n",
    "' '.join([word_dic[ee] for ee in doc[sim.row_dic.token2id['d1']]])"
   ]
  },
  {
   "cell_type": "code",
   "execution_count": 23,
   "metadata": {},
   "outputs": [
    {
     "data": {
      "text/plain": [
       "array([ 0.04953795,  0.09779952,  0.02991736, -0.0824597 , -0.11490261,\n",
       "        0.04240257,  0.04140015, -0.13066047,  0.0137052 ,  0.0822317 ,\n",
       "       -0.13764028, -0.02017038,  0.09443422,  0.01405507,  0.08238728,\n",
       "       -0.01725909,  0.03521468,  0.02052623,  0.07153013, -0.03767006,\n",
       "       -0.15103996,  0.03980536, -0.06288578,  0.24582623, -0.05753605,\n",
       "        0.1080571 ,  0.1243905 , -0.07431678,  0.03531686,  0.00964819,\n",
       "        0.0295229 , -0.09510512,  0.05343136,  0.0786027 ,  0.00193327,\n",
       "       -0.07161225, -0.11391889, -0.17396602,  0.06655008, -0.03114389,\n",
       "       -0.10004482,  0.06427718, -0.11440732, -0.0368393 ,  0.12284756,\n",
       "        0.03382453,  0.03514974,  0.09553713, -0.10260361,  0.09717236,\n",
       "        0.12339882,  0.08343758,  0.19161224,  0.14940439, -0.09049399,\n",
       "       -0.18215601,  0.21042347, -0.00090432,  0.0545822 , -0.05325332,\n",
       "        0.07544312, -0.0649778 , -0.06881188,  0.14188825, -0.04380903,\n",
       "       -0.04760855, -0.11325315,  0.05843481, -0.02645697, -0.1199396 ,\n",
       "       -0.01435031, -0.16456282,  0.17920412, -0.08404046, -0.02591394,\n",
       "       -0.12237747,  0.10081629,  0.09870722,  0.1415852 , -0.09506187,\n",
       "       -0.00353112, -0.20087197, -0.1455895 , -0.1766069 , -0.06107342,\n",
       "        0.01680121,  0.11389741, -0.04878607,  0.05667138, -0.32019114,\n",
       "        0.02785111,  0.01553527, -0.1381777 , -0.00275301,  0.07821297,\n",
       "        0.06041338], dtype=float32)"
      ]
     },
     "execution_count": 23,
     "metadata": {},
     "output_type": "execute_result"
    }
   ],
   "source": [
    "query = sim.sim_row.index[sim.row_dic.token2id['d1']]\n",
    "query"
   ]
  },
  {
   "cell_type": "code",
   "execution_count": 24,
   "metadata": {},
   "outputs": [
    {
     "data": {
      "text/plain": [
       "[('rentcorp', 0.881993293762207),\n",
       " ('mcgrath', 0.8800176978111267),\n",
       " ('earnings', 0.7683566808700562),\n",
       " ('dlrs', 0.7246045470237732),\n",
       " ('revenues', 0.7229360342025757),\n",
       " ('operating', 0.7197266817092896),\n",
       " ('operations', 0.7153149843215942),\n",
       " ('assets', 0.7137821912765503),\n",
       " ('income', 0.7122267484664917),\n",
       " ('results', 0.7095717787742615),\n",
       " ('name', 0.7078500986099243),\n",
       " ('quarter', 0.7044647336006165),\n",
       " ('share', 0.6997177004814148),\n",
       " ('sale', 0.6955611109733582),\n",
       " ('corrects', 0.6952757239341736),\n",
       " ('gain', 0.6940920948982239),\n",
       " ('881', 0.6934512853622437),\n",
       " ('dividends', 0.6899479627609253),\n",
       " ('restated', 0.6888561248779297),\n",
       " ('reversion', 0.687865674495697)]"
      ]
     },
     "execution_count": 24,
     "metadata": {},
     "output_type": "execute_result"
    }
   ],
   "source": [
    "'''get words that are highly correlated with this document ('d1')'''\n",
    "sim.get_sim_bycol(query, num_best=20)"
   ]
  },
  {
   "cell_type": "code",
   "execution_count": 25,
   "metadata": {},
   "outputs": [
    {
     "data": {
      "text/plain": [
       "[('d1', 1.0),\n",
       " ('d7985', 0.8006864786148071),\n",
       " ('d9165', 0.7511889934539795),\n",
       " ('d4589', 0.7490085959434509),\n",
       " ('d8160', 0.7417320013046265),\n",
       " ('d3041', 0.7381963729858398),\n",
       " ('d3857', 0.7381172776222229),\n",
       " ('d7958', 0.7315175533294678),\n",
       " ('d3083', 0.7309119701385498),\n",
       " ('d9302', 0.7308659553527832)]"
      ]
     },
     "execution_count": 25,
     "metadata": {},
     "output_type": "execute_result"
    }
   ],
   "source": [
    "'''get documents that are highly correlated with this document ('d1')'''\n",
    "sim.get_sim_byrow(query, num_best=10)"
   ]
  },
  {
   "cell_type": "code",
   "execution_count": 26,
   "metadata": {},
   "outputs": [
    {
     "data": {
      "text/plain": [
       "'cardinal industries inc said it restated earnings for the first nine months of 1986 to 235 000 dlrs or nine cts per share from 485 000 dlrs or 18 cts reported previously due to the failure of an automated accounting system installed in mid year and replaced in the fourth quarter the company said its reliance segment sustained a significant operating loss for the full year 1986 due to the accounting problems and increased promotional and advertising expenses for the full year it said it earned 284 000 dlrs or 10 cts a share up from 271 000 dlrs or 10 cts in 1985 cardinal industries said revenues for the year were 30 7 mln dlrs up from 23 0 mln dlrs in 1985 the company said for the first quarter of 1987 earnings were about 48 000 dlrs up from 13 000 dlrs or nil per share in the year ago period the year ago first quarter earnings however have been restated from 101 000 dlrs or four cts per share it said sales for the first quarter were about 8 363 000 dlrs up from 6 636 000 dlrs for the first half of 1986 the company said it restated earnings to 141 000 dlrs or five cts per share from 340 000 dlrs or 12 cts per share reported previously reuter 3'"
      ]
     },
     "execution_count": 26,
     "metadata": {},
     "output_type": "execute_result"
    }
   ],
   "source": [
    "' '.join([word_dic[ee] for ee in doc[sim.row_dic.token2id['d9302']]])"
   ]
  },
  {
   "cell_type": "markdown",
   "metadata": {
    "collapsed": true
   },
   "source": [
    "### get feature vector of word 'rentcorp'"
   ]
  },
  {
   "cell_type": "code",
   "execution_count": 27,
   "metadata": {},
   "outputs": [
    {
     "data": {
      "text/plain": [
       "array([ 0.14695527,  0.07788703,  0.03571338, -0.0997583 , -0.13192277,\n",
       "        0.05863317,  0.04816515, -0.08420668, -0.05881651,  0.02031794,\n",
       "       -0.1704299 , -0.02298628,  0.09784427,  0.09564326,  0.03649498,\n",
       "       -0.03342361,  0.04478186,  0.0716325 ,  0.00959602,  0.03302816,\n",
       "       -0.14971164,  0.12099151, -0.06483851,  0.2020433 , -0.05085221,\n",
       "        0.09251625,  0.15104076, -0.02247498, -0.04267238, -0.01084986,\n",
       "        0.02007341, -0.10362314,  0.05876356,  0.09597515,  0.0018457 ,\n",
       "       -0.05787843, -0.09376051, -0.15518159,  0.0789693 , -0.05129159,\n",
       "       -0.11261822,  0.08310385, -0.12675577, -0.06198974,  0.17007631,\n",
       "        0.03110785,  0.11347974,  0.07857743, -0.17076384,  0.03582275,\n",
       "        0.07560284,  0.15014918,  0.12815732,  0.16021225, -0.02730003,\n",
       "       -0.11554819,  0.17324877,  0.0560018 ,  0.06658019, -0.07521041,\n",
       "        0.08101576,  0.02576939, -0.04342875,  0.09702627, -0.01735571,\n",
       "       -0.04796585, -0.13135219,  0.20223711,  0.03127514, -0.11097731,\n",
       "        0.07543746, -0.11101517,  0.17332937, -0.11878423, -0.05519072,\n",
       "       -0.07475658,  0.08763399,  0.08798341,  0.1426444 , -0.08455756,\n",
       "       -0.08401907, -0.16553237, -0.10846575, -0.14342165, -0.03281371,\n",
       "        0.04268287,  0.14270705,  0.08428905,  0.07948478, -0.25417766,\n",
       "       -0.1226652 ,  0.05170593, -0.07882006,  0.08798581,  0.09633957,\n",
       "        0.13647138], dtype=float32)"
      ]
     },
     "execution_count": 27,
     "metadata": {},
     "output_type": "execute_result"
    }
   ],
   "source": [
    "query = sim.sim_col.index[sim.col_dic.token2id['rentcorp']]\n",
    "query"
   ]
  },
  {
   "cell_type": "code",
   "execution_count": 28,
   "metadata": {},
   "outputs": [
    {
     "data": {
      "text/plain": [
       "[('rentcorp', 1.0),\n",
       " ('mcgrath', 0.9499125480651855),\n",
       " ('expects', 0.537687361240387),\n",
       " ('rental', 0.5341197848320007),\n",
       " ('cellular', 0.5183255672454834),\n",
       " ('revenues', 0.5104328393936157),\n",
       " ('earned', 0.5077186226844788),\n",
       " ('earnings', 0.4965617060661316),\n",
       " ('reseller', 0.4695873558521271),\n",
       " ('yearend', 0.46462297439575195),\n",
       " ('mortgage', 0.46441081166267395),\n",
       " (\"hudson's\", 0.459075391292572),\n",
       " ('first', 0.4567191004753113),\n",
       " ('master', 0.4556480348110199),\n",
       " ('trustco', 0.4521712064743042),\n",
       " (\"budget's\", 0.4453589618206024),\n",
       " ('unit', 0.4425507187843323),\n",
       " ('cash', 0.4393976330757141),\n",
       " ('acquisitions', 0.43618276715278625),\n",
       " ('accrued', 0.435133695602417)]"
      ]
     },
     "execution_count": 28,
     "metadata": {},
     "output_type": "execute_result"
    }
   ],
   "source": [
    "'''get words that are highly correlated with this word ('rentcorp')'''\n",
    "sim.get_sim_bycol(query, num_best=20)"
   ]
  },
  {
   "cell_type": "code",
   "execution_count": 29,
   "metadata": {},
   "outputs": [
    {
     "data": {
      "text/plain": [
       "[('d1', 0.881993293762207),\n",
       " ('d98', 0.5440433025360107),\n",
       " ('d10757', 0.5279454588890076),\n",
       " ('d7608', 0.519077718257904),\n",
       " ('d6333', 0.511250376701355),\n",
       " ('d3857', 0.5038752555847168),\n",
       " ('d3825', 0.5020995140075684),\n",
       " ('d7934', 0.4991131126880646),\n",
       " ('d8160', 0.4928939938545227),\n",
       " ('d7985', 0.4878692030906677)]"
      ]
     },
     "execution_count": 29,
     "metadata": {},
     "output_type": "execute_result"
    }
   ],
   "source": [
    "'''get documents that are highly correlated with this word ('rentcorp')'''\n",
    "sim.get_sim_byrow(query, num_best=10)"
   ]
  },
  {
   "cell_type": "code",
   "execution_count": null,
   "metadata": {
    "collapsed": true
   },
   "outputs": [],
   "source": []
  }
 ],
 "metadata": {
  "kernelspec": {
   "display_name": "Python 3",
   "language": "python",
   "name": "python3"
  },
  "language_info": {
   "codemirror_mode": {
    "name": "ipython",
    "version": 3
   },
   "file_extension": ".py",
   "mimetype": "text/x-python",
   "name": "python",
   "nbconvert_exporter": "python",
   "pygments_lexer": "ipython3",
   "version": "3.6.8"
  }
 },
 "nbformat": 4,
 "nbformat_minor": 2
}
