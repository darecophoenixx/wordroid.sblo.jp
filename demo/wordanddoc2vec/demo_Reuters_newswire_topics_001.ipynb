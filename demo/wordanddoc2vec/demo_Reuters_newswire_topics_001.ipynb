{
 "cells": [
  {
   "cell_type": "markdown",
   "metadata": {},
   "source": [
    "demo : Reuters newswire topics (Keras dataset)"
   ]
  },
  {
   "cell_type": "code",
   "execution_count": 1,
   "metadata": {},
   "outputs": [
    {
     "name": "stderr",
     "output_type": "stream",
     "text": [
      "Using TensorFlow backend.\n"
     ]
    }
   ],
   "source": [
    "%matplotlib inline\n",
    "from IPython.display import SVG\n",
    "from keras.utils.vis_utils import model_to_dot"
   ]
  },
  {
   "cell_type": "code",
   "execution_count": 2,
   "metadata": {
    "collapsed": true
   },
   "outputs": [],
   "source": [
    "import sys\n",
    "sys.path.append('/home/admin/github/wordroid.sblo.jp/lib')\n",
    "from feature_eng import WordAndDoc2vec"
   ]
  },
  {
   "cell_type": "code",
   "execution_count": 3,
   "metadata": {
    "collapsed": true
   },
   "outputs": [],
   "source": [
    "import os.path\n",
    "import sys\n",
    "import re\n",
    "import itertools\n",
    "import csv\n",
    "import datetime\n",
    "import pickle\n",
    "import random\n",
    "from collections import defaultdict, Counter\n",
    "import gc\n",
    "\n",
    "import matplotlib.pyplot as plt\n",
    "from matplotlib.ticker import NullFormatter\n",
    "import seaborn as sns\n",
    "import pandas as pd\n",
    "import numpy as np\n",
    "import scipy\n",
    "import gensim\n",
    "from sklearn.metrics import f1_score, classification_report, confusion_matrix, log_loss\n",
    "from sklearn.model_selection import train_test_split\n",
    "import gensim\n",
    "from keras.preprocessing.sequence import skipgrams\n",
    "import tensorflow as tf"
   ]
  },
  {
   "cell_type": "code",
   "execution_count": 4,
   "metadata": {
    "collapsed": true
   },
   "outputs": [],
   "source": [
    "def hexbin(x, y, color, **kwargs):\n",
    "    cmap = sns.light_palette(color, as_cmap=True)\n",
    "    plt.hexbin(x, y, cmap=cmap, **kwargs)\n",
    "def scatter(x, y, color, **kwargs):\n",
    "    plt.scatter(x, y, marker='.')"
   ]
  },
  {
   "cell_type": "markdown",
   "metadata": {},
   "source": [
    "### load data"
   ]
  },
  {
   "cell_type": "code",
   "execution_count": 5,
   "metadata": {
    "collapsed": true
   },
   "outputs": [],
   "source": [
    "from keras.datasets import reuters"
   ]
  },
  {
   "cell_type": "code",
   "execution_count": 6,
   "metadata": {
    "collapsed": true
   },
   "outputs": [],
   "source": [
    "word_index = reuters.get_word_index()\n",
    "word_index2 = dict([(k, v+3) for k, v in word_index.items()])\n",
    "word_dic = gensim.corpora.Dictionary([['<padding>', '<start_char>', '<oov_char>'],], prune_at=None)\n",
    "word_dic.token2id.update(word_index2)"
   ]
  },
  {
   "cell_type": "code",
   "execution_count": 7,
   "metadata": {},
   "outputs": [
    {
     "data": {
      "text/plain": [
       "'mcgrath'"
      ]
     },
     "execution_count": 7,
     "metadata": {},
     "output_type": "execute_result"
    }
   ],
   "source": [
    "word_dic[27595]"
   ]
  },
  {
   "cell_type": "code",
   "execution_count": 8,
   "metadata": {},
   "outputs": [
    {
     "data": {
      "text/plain": [
       "'the'"
      ]
     },
     "execution_count": 8,
     "metadata": {},
     "output_type": "execute_result"
    }
   ],
   "source": [
    "word_dic[4]"
   ]
  },
  {
   "cell_type": "code",
   "execution_count": 9,
   "metadata": {
    "collapsed": true
   },
   "outputs": [],
   "source": [
    "(doc, cat), (doc_test, cat_test) = reuters.load_data(test_split=0.0, start_char=None)"
   ]
  },
  {
   "cell_type": "code",
   "execution_count": 10,
   "metadata": {},
   "outputs": [
    {
     "data": {
      "text/plain": [
       "'mcgrath rentcorp said as a result of its december acquisition of space co it expects earnings per share in 1987 of 1 15 to 1 30 dlrs per share up from 70 cts in 1986 the company said pretax net should rise to nine to 10 mln dlrs from six mln dlrs in 1986 and rental operation revenues to 19 to 22 mln dlrs from 12 5 mln dlrs it said cash flow per share this year should be 2 50 to three dlrs reuter 3'"
      ]
     },
     "execution_count": 10,
     "metadata": {},
     "output_type": "execute_result"
    }
   ],
   "source": [
    "' '.join([word_dic[ee] for ee in doc[0]])"
   ]
  },
  {
   "cell_type": "code",
   "execution_count": 11,
   "metadata": {
    "collapsed": true
   },
   "outputs": [],
   "source": [
    "doc_dic = gensim.corpora.Dictionary(prune_at=None)\n",
    "doc_dic.token2id.update(dict([('d'+str(ee+1), ee) for ee in range(len(doc))]))"
   ]
  },
  {
   "cell_type": "code",
   "execution_count": 12,
   "metadata": {
    "collapsed": true
   },
   "outputs": [],
   "source": [
    "doc_seq = [[word_dic[ee] for ee in doc[ii]] for ii in range(len(doc))]"
   ]
  },
  {
   "cell_type": "code",
   "execution_count": 13,
   "metadata": {
    "collapsed": true
   },
   "outputs": [],
   "source": [
    "cat\n",
    "cls = pd.Series(['c'+str(c) for c in cat])"
   ]
  },
  {
   "cell_type": "markdown",
   "metadata": {},
   "source": [
    "### create WordAndDoc2vec instance"
   ]
  },
  {
   "cell_type": "code",
   "execution_count": 14,
   "metadata": {},
   "outputs": [
    {
     "name": "stdout",
     "output_type": "stream",
     "text": [
      "len(doc_seq) >>> 11228\n",
      "max(doc_dic.keys()) + 1 >>> 11228\n",
      "num_features >>> 30983\n",
      "corpus_csr.shape >>> (11228, 30983)\n",
      "creating tfidf...\n",
      "<feature_eng.neg_smpl.MySparseMatrixSimilarity object at 0x7fd91a3fa9b0>\n",
      "<feature_eng.neg_smpl.Dic4seq object at 0x7fd900a1c4a8>\n"
     ]
    },
    {
     "data": {
      "text/plain": [
       "<feature_eng.neg_smpl.WordAndDoc2vec at 0x7fd901972d30>"
      ]
     },
     "execution_count": 14,
     "metadata": {},
     "output_type": "execute_result"
    }
   ],
   "source": [
    "wd2v = WordAndDoc2vec(doc_seq, word_dic, doc_dic, logging=False)\n",
    "wd2v"
   ]
  },
  {
   "cell_type": "markdown",
   "metadata": {},
   "source": [
    "### create model"
   ]
  },
  {
   "cell_type": "code",
   "execution_count": 15,
   "metadata": {},
   "outputs": [
    {
     "data": {
      "text/plain": [
       "{'model': <keras.engine.training.Model at 0x7fd90062ce80>,\n",
       " 'model_neg': <keras.engine.training.Model at 0x7fd900a1c978>,\n",
       " 'model_prob0': <keras.engine.training.Model at 0x7fd900e22dd8>,\n",
       " 'model_prob2': <keras.engine.training.Model at 0x7fd900eb85c0>,\n",
       " 'model_prod': <keras.engine.training.Model at 0x7fd9001fa748>,\n",
       " 'model_user': <keras.engine.training.Model at 0x7fd9001fa1d0>}"
      ]
     },
     "execution_count": 15,
     "metadata": {},
     "output_type": "execute_result"
    }
   ],
   "source": [
    "num_features = 96\n",
    "wd2v.make_model(max_num_prod=5, num_neg=3, num_features=num_features,\n",
    "                embeddings_val=0.5, gamma=0.0)"
   ]
  },
  {
   "cell_type": "markdown",
   "metadata": {},
   "source": [
    "### start train\n",
    "note : it will take a long time..."
   ]
  },
  {
   "cell_type": "code",
   "execution_count": 16,
   "metadata": {
    "scrolled": true
   },
   "outputs": [
    {
     "name": "stdout",
     "output_type": "stream",
     "text": [
      "len(seq) >>> 351\n"
     ]
    },
    {
     "name": "stderr",
     "output_type": "stream",
     "text": [
      "/home/admin/miniconda3/envs/da02/lib/python3.6/site-packages/tensorflow/python/ops/gradients_impl.py:95: UserWarning: Converting sparse IndexedSlices to a dense Tensor of unknown shape. This may consume a large amount of memory.\n",
      "  \"Converting sparse IndexedSlices to a dense Tensor of unknown shape. \"\n"
     ]
    }
   ],
   "source": [
    "wd2v.train(epochs=250, verbose=0)"
   ]
  },
  {
   "cell_type": "markdown",
   "metadata": {},
   "source": [
    "## similarity"
   ]
  },
  {
   "cell_type": "code",
   "execution_count": 17,
   "metadata": {},
   "outputs": [
    {
     "name": "stdout",
     "output_type": "stream",
     "text": [
      "96\n",
      "MatrixSimilarity<11228 docs, 96 features>\n"
     ]
    },
    {
     "data": {
      "text/plain": [
       "<feature_eng.neg_smpl.WordAndDocSimilarity at 0x7fd901972240>"
      ]
     },
     "execution_count": 17,
     "metadata": {},
     "output_type": "execute_result"
    }
   ],
   "source": [
    "sim = wd2v.sim\n",
    "print(sim.num_features)\n",
    "print(sim.sim_row)\n",
    "sim"
   ]
  },
  {
   "cell_type": "markdown",
   "metadata": {},
   "source": [
    "### get feature vector of document 'd1'"
   ]
  },
  {
   "cell_type": "code",
   "execution_count": 18,
   "metadata": {},
   "outputs": [
    {
     "data": {
      "text/plain": [
       "'mcgrath rentcorp said as a result of its december acquisition of space co it expects earnings per share in 1987 of 1 15 to 1 30 dlrs per share up from 70 cts in 1986 the company said pretax net should rise to nine to 10 mln dlrs from six mln dlrs in 1986 and rental operation revenues to 19 to 22 mln dlrs from 12 5 mln dlrs it said cash flow per share this year should be 2 50 to three dlrs reuter 3'"
      ]
     },
     "execution_count": 18,
     "metadata": {},
     "output_type": "execute_result"
    }
   ],
   "source": [
    "'''d1'''\n",
    "' '.join([word_dic[ee] for ee in doc[sim.row_dic.token2id['d1']]])"
   ]
  },
  {
   "cell_type": "code",
   "execution_count": 19,
   "metadata": {},
   "outputs": [
    {
     "data": {
      "text/plain": [
       "array([ 0.02623753,  0.06126883,  0.02948295, -0.07886726, -0.15339448,\n",
       "        0.01453855,  0.14083195, -0.14484602,  0.04234595,  0.08980165,\n",
       "       -0.07618539, -0.15400571,  0.08003283, -0.05088439,  0.14224713,\n",
       "        0.02182725, -0.02481675,  0.01386344,  0.11355495, -0.07590767,\n",
       "       -0.06137546,  0.03473181, -0.09672217,  0.23404151, -0.05790887,\n",
       "        0.05824998,  0.1189626 , -0.02155845,  0.08150762,  0.02354086,\n",
       "       -0.01287421, -0.06634675, -0.01771472,  0.04614136,  0.04264734,\n",
       "       -0.05899847, -0.14474605, -0.20472328,  0.11174335, -0.04687106,\n",
       "       -0.09690262, -0.00388353, -0.13795663, -0.04058416,  0.17039439,\n",
       "        0.0058929 , -0.0484461 ,  0.05597944, -0.11512263,  0.12882479,\n",
       "        0.11971793,  0.02144642,  0.17163752,  0.1011178 , -0.07126617,\n",
       "       -0.14121448,  0.21938412, -0.02309684, -0.01467476, -0.06499987,\n",
       "        0.08942185, -0.0448062 , -0.14776629,  0.05837059, -0.08372281,\n",
       "        0.03908674, -0.122391  , -0.02419479, -0.04998899, -0.13911268,\n",
       "       -0.04827363, -0.16159326,  0.12909681, -0.04725539, -0.10320845,\n",
       "       -0.07911935,  0.06201271,  0.10933259,  0.14306732, -0.15825489,\n",
       "        0.01699943, -0.19227549, -0.13425121, -0.14473848, -0.05891748,\n",
       "       -0.02890493,  0.15770809, -0.04616411, -0.10315277, -0.25714958,\n",
       "        0.10688338,  0.01807458, -0.09786326, -0.08777217,  0.02116768,\n",
       "        0.01436913], dtype=float32)"
      ]
     },
     "execution_count": 19,
     "metadata": {},
     "output_type": "execute_result"
    }
   ],
   "source": [
    "query = sim.sim_row.index[sim.row_dic.token2id['d1']]\n",
    "query"
   ]
  },
  {
   "cell_type": "markdown",
   "metadata": {},
   "source": [
    "get words that are highly correlated with this document ('d1')"
   ]
  },
  {
   "cell_type": "code",
   "execution_count": 20,
   "metadata": {},
   "outputs": [
    {
     "data": {
      "text/plain": [
       "[('rentcorp', 0.862424373626709),\n",
       " ('mcgrath', 0.8584254384040833),\n",
       " ('earnings', 0.788344144821167),\n",
       " ('operating', 0.7494820356369019),\n",
       " ('operations', 0.746200442314148),\n",
       " ('results', 0.7455936074256897),\n",
       " ('assets', 0.742405891418457),\n",
       " ('dlrs', 0.739633321762085),\n",
       " ('name', 0.7382524013519287),\n",
       " ('income', 0.7381472587585449)]"
      ]
     },
     "execution_count": 20,
     "metadata": {},
     "output_type": "execute_result"
    }
   ],
   "source": [
    "'''get words that are highly correlated with this document ('d1')'''\n",
    "sim.get_sim_bycol(query, num_best=10)"
   ]
  },
  {
   "cell_type": "markdown",
   "metadata": {},
   "source": [
    "get documents that are highly correlated with this document ('d1')"
   ]
  },
  {
   "cell_type": "code",
   "execution_count": 21,
   "metadata": {},
   "outputs": [
    {
     "data": {
      "text/plain": [
       "[('d1', 1.0),\n",
       " ('d7985', 0.7893538475036621),\n",
       " ('d9302', 0.7659999132156372),\n",
       " ('d7576', 0.7637244462966919),\n",
       " ('d4589', 0.7578975558280945),\n",
       " ('d2588', 0.7577046155929565),\n",
       " ('d8368', 0.757683515548706),\n",
       " ('d3341', 0.7568655014038086),\n",
       " ('d9165', 0.754281759262085),\n",
       " ('d7600', 0.753485381603241)]"
      ]
     },
     "execution_count": 21,
     "metadata": {},
     "output_type": "execute_result"
    }
   ],
   "source": [
    "'''get documents that are highly correlated with this document ('d1')'''\n",
    "sim.get_sim_byrow(query, num_best=10)"
   ]
  },
  {
   "cell_type": "code",
   "execution_count": 22,
   "metadata": {},
   "outputs": [
    {
     "data": {
      "text/plain": [
       "'cardinal industries inc said it restated earnings for the first nine months of 1986 to 235 000 dlrs or nine cts per share from 485 000 dlrs or 18 cts reported previously due to the failure of an automated accounting system installed in mid year and replaced in the fourth quarter the company said its reliance segment sustained a significant operating loss for the full year 1986 due to the accounting problems and increased promotional and advertising expenses for the full year it said it earned 284 000 dlrs or 10 cts a share up from 271 000 dlrs or 10 cts in 1985 cardinal industries said revenues for the year were 30 7 mln dlrs up from 23 0 mln dlrs in 1985 the company said for the first quarter of 1987 earnings were about 48 000 dlrs up from 13 000 dlrs or nil per share in the year ago period the year ago first quarter earnings however have been restated from 101 000 dlrs or four cts per share it said sales for the first quarter were about 8 363 000 dlrs up from 6 636 000 dlrs for the first half of 1986 the company said it restated earnings to 141 000 dlrs or five cts per share from 340 000 dlrs or 12 cts per share reported previously reuter 3'"
      ]
     },
     "execution_count": 22,
     "metadata": {},
     "output_type": "execute_result"
    }
   ],
   "source": [
    "' '.join([word_dic[ee] for ee in doc[sim.row_dic.token2id['d9302']]])"
   ]
  }
 ],
 "metadata": {
  "kernelspec": {
   "display_name": "Python 3",
   "language": "python",
   "name": "python3"
  },
  "language_info": {
   "codemirror_mode": {
    "name": "ipython",
    "version": 3
   },
   "file_extension": ".py",
   "mimetype": "text/x-python",
   "name": "python",
   "nbconvert_exporter": "python",
   "pygments_lexer": "ipython3",
   "version": "3.6.2"
  }
 },
 "nbformat": 4,
 "nbformat_minor": 2
}
