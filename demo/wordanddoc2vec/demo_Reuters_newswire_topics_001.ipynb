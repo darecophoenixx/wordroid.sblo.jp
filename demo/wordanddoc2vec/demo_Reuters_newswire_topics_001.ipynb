{
 "cells": [
  {
   "cell_type": "markdown",
   "metadata": {},
   "source": [
    "demo : Reuters newswire topics (Keras dataset)"
   ]
  },
  {
   "cell_type": "code",
   "execution_count": 1,
   "metadata": {},
   "outputs": [
    {
     "name": "stderr",
     "output_type": "stream",
     "text": [
      "Using TensorFlow backend.\n"
     ]
    }
   ],
   "source": [
    "%matplotlib inline\n",
    "from IPython.display import SVG\n",
    "from keras.utils.vis_utils import model_to_dot"
   ]
  },
  {
   "cell_type": "code",
   "execution_count": 2,
   "metadata": {
    "collapsed": true
   },
   "outputs": [],
   "source": [
    "import sys\n",
    "sys.path.append('/home/admin/github/wordroid.sblo.jp/lib')\n",
    "from feature_eng import WordAndDoc2vec"
   ]
  },
  {
   "cell_type": "code",
   "execution_count": 3,
   "metadata": {
    "collapsed": true
   },
   "outputs": [],
   "source": [
    "import os.path\n",
    "import sys\n",
    "import re\n",
    "import itertools\n",
    "import csv\n",
    "import datetime\n",
    "import pickle\n",
    "import random\n",
    "from collections import defaultdict, Counter\n",
    "import gc\n",
    "\n",
    "import matplotlib.pyplot as plt\n",
    "from matplotlib.ticker import NullFormatter\n",
    "import seaborn as sns\n",
    "import pandas as pd\n",
    "import numpy as np\n",
    "import scipy\n",
    "import gensim\n",
    "from sklearn.metrics import f1_score, classification_report, confusion_matrix, log_loss\n",
    "from sklearn.model_selection import train_test_split\n",
    "import gensim\n",
    "from keras.preprocessing.sequence import skipgrams\n",
    "import tensorflow as tf"
   ]
  },
  {
   "cell_type": "code",
   "execution_count": 4,
   "metadata": {
    "collapsed": true
   },
   "outputs": [],
   "source": [
    "def hexbin(x, y, color, **kwargs):\n",
    "    cmap = sns.light_palette(color, as_cmap=True)\n",
    "    plt.hexbin(x, y, cmap=cmap, **kwargs)\n",
    "def scatter(x, y, color, **kwargs):\n",
    "    plt.scatter(x, y, marker='.')"
   ]
  },
  {
   "cell_type": "markdown",
   "metadata": {},
   "source": [
    "### load data"
   ]
  },
  {
   "cell_type": "code",
   "execution_count": 5,
   "metadata": {
    "collapsed": true
   },
   "outputs": [],
   "source": [
    "from keras.datasets import reuters"
   ]
  },
  {
   "cell_type": "code",
   "execution_count": 6,
   "metadata": {
    "collapsed": true
   },
   "outputs": [],
   "source": [
    "word_index = reuters.get_word_index()\n",
    "word_index2 = dict([(k, v+3) for k, v in word_index.items()])\n",
    "word_dic = gensim.corpora.Dictionary([['<padding>', '<start_char>', '<oov_char>'],], prune_at=None)\n",
    "word_dic.token2id.update(word_index2)"
   ]
  },
  {
   "cell_type": "code",
   "execution_count": 7,
   "metadata": {},
   "outputs": [
    {
     "data": {
      "text/plain": [
       "'mcgrath'"
      ]
     },
     "execution_count": 7,
     "metadata": {},
     "output_type": "execute_result"
    }
   ],
   "source": [
    "word_dic[27595]"
   ]
  },
  {
   "cell_type": "code",
   "execution_count": 8,
   "metadata": {},
   "outputs": [
    {
     "data": {
      "text/plain": [
       "'the'"
      ]
     },
     "execution_count": 8,
     "metadata": {},
     "output_type": "execute_result"
    }
   ],
   "source": [
    "word_dic[4]"
   ]
  },
  {
   "cell_type": "code",
   "execution_count": 9,
   "metadata": {
    "collapsed": true
   },
   "outputs": [],
   "source": [
    "(doc, cat), (doc_test, cat_test) = reuters.load_data(test_split=0.0, start_char=None)"
   ]
  },
  {
   "cell_type": "code",
   "execution_count": 10,
   "metadata": {},
   "outputs": [
    {
     "data": {
      "text/plain": [
       "'mcgrath rentcorp said as a result of its december acquisition of space co it expects earnings per share in 1987 of 1 15 to 1 30 dlrs per share up from 70 cts in 1986 the company said pretax net should rise to nine to 10 mln dlrs from six mln dlrs in 1986 and rental operation revenues to 19 to 22 mln dlrs from 12 5 mln dlrs it said cash flow per share this year should be 2 50 to three dlrs reuter 3'"
      ]
     },
     "execution_count": 10,
     "metadata": {},
     "output_type": "execute_result"
    }
   ],
   "source": [
    "' '.join([word_dic[ee] for ee in doc[0]])"
   ]
  },
  {
   "cell_type": "code",
   "execution_count": 11,
   "metadata": {
    "collapsed": true
   },
   "outputs": [],
   "source": [
    "doc_dic = gensim.corpora.Dictionary(prune_at=None)\n",
    "doc_dic.token2id.update(dict([('d'+str(ee+1), ee) for ee in range(len(doc))]))"
   ]
  },
  {
   "cell_type": "code",
   "execution_count": 12,
   "metadata": {
    "collapsed": true
   },
   "outputs": [],
   "source": [
    "doc_seq = [[word_dic[ee] for ee in doc[ii]] for ii in range(len(doc))]"
   ]
  },
  {
   "cell_type": "code",
   "execution_count": 13,
   "metadata": {
    "collapsed": true
   },
   "outputs": [],
   "source": [
    "cat\n",
    "cls = pd.Series(['c'+str(c) for c in cat])"
   ]
  },
  {
   "cell_type": "markdown",
   "metadata": {},
   "source": [
    "### create WordAndDoc2vec instance"
   ]
  },
  {
   "cell_type": "code",
   "execution_count": 14,
   "metadata": {},
   "outputs": [
    {
     "name": "stdout",
     "output_type": "stream",
     "text": [
      "len(doc_seq) >>> 11228\n",
      "max(doc_dic.keys()) + 1 >>> 11228\n",
      "num_features >>> 30983\n",
      "corpus_csr.shape >>> (11228, 30983)\n",
      "creating tfidf...\n",
      "<feature_eng.neg_smpl.MySparseMatrixSimilarity object at 0x7f13125b5d30>\n",
      "<feature_eng.neg_smpl.Dic4seq object at 0x7f13100c2128>\n"
     ]
    },
    {
     "data": {
      "text/plain": [
       "<feature_eng.neg_smpl.WordAndDoc2vec at 0x7f131ed48c18>"
      ]
     },
     "execution_count": 14,
     "metadata": {},
     "output_type": "execute_result"
    }
   ],
   "source": [
    "wd2v = WordAndDoc2vec(doc_seq, word_dic, doc_dic, logging=False)\n",
    "wd2v"
   ]
  },
  {
   "cell_type": "markdown",
   "metadata": {},
   "source": [
    "### create model"
   ]
  },
  {
   "cell_type": "code",
   "execution_count": 15,
   "metadata": {},
   "outputs": [
    {
     "data": {
      "text/plain": [
       "{'model': <keras.engine.training.Model at 0x7f131127f7f0>,\n",
       " 'model_neg': <keras.engine.training.Model at 0x7f131081cfd0>,\n",
       " 'model_prob': <keras.engine.training.Model at 0x7f131098d358>,\n",
       " 'model_prob2': <keras.engine.training.Model at 0x7f1310099ba8>,\n",
       " 'model_prob2_cnfm': <keras.engine.training.Model at 0x7f13109979e8>,\n",
       " 'model_prob_cnfm': <keras.engine.training.Model at 0x7f1310b1c860>,\n",
       " 'model_prod': <keras.engine.training.Model at 0x7f13100c2cc0>,\n",
       " 'model_user': <keras.engine.training.Model at 0x7f13100c2780>}"
      ]
     },
     "execution_count": 15,
     "metadata": {},
     "output_type": "execute_result"
    }
   ],
   "source": [
    "num_features = 96\n",
    "wd2v.make_model(max_num_prod=5, num_neg=3, num_features=num_features,\n",
    "                embeddings_val=0.5, gamma=0.0)"
   ]
  },
  {
   "cell_type": "markdown",
   "metadata": {},
   "source": [
    "### start train\n",
    "note : it will take a long time..."
   ]
  },
  {
   "cell_type": "code",
   "execution_count": 16,
   "metadata": {},
   "outputs": [
    {
     "name": "stdout",
     "output_type": "stream",
     "text": [
      "len(seq) >>> 351\n",
      "Epoch 1/128\n",
      "Learning rate:  0.02\n",
      "350/351 [============================>.] - ETA: 0s - loss: 0.4035 - acc: 0.8125Epoch 1/128\n",
      "351/351 [==============================] - 49s 139ms/step - loss: 0.4035 - acc: 0.8126\n",
      "Epoch 2/128\n",
      "Learning rate:  0.01\n",
      "351/351 [==============================] - 49s 139ms/step - loss: 0.2913 - acc: 0.8906\n",
      "Epoch 3/128\n",
      "Learning rate:  0.005\n",
      "351/351 [==============================] - 49s 140ms/step - loss: 0.2597 - acc: 0.9043\n",
      "Epoch 4/128\n",
      "Learning rate:  0.0025\n",
      "351/351 [==============================] - 49s 139ms/step - loss: 0.2525 - acc: 0.9077\n",
      "Epoch 5/128\n",
      "Learning rate:  0.02\n",
      "351/351 [==============================] - 49s 139ms/step - loss: 0.2651 - acc: 0.9084\n",
      "Epoch 6/128\n",
      "Learning rate:  0.01\n",
      "351/351 [==============================] - 49s 139ms/step - loss: 0.2523 - acc: 0.9125\n",
      "Epoch 7/128\n",
      "Learning rate:  0.005\n",
      "351/351 [==============================] - 49s 139ms/step - loss: 0.2410 - acc: 0.9152\n",
      "Epoch 8/128\n",
      "Learning rate:  0.0025\n",
      "351/351 [==============================] - 49s 139ms/step - loss: 0.2317 - acc: 0.9190\n",
      "Epoch 9/128\n",
      "Learning rate:  0.02\n",
      "351/351 [==============================] - 49s 139ms/step - loss: 0.2454 - acc: 0.9160\n",
      "Epoch 10/128\n",
      "Learning rate:  0.01\n",
      "351/351 [==============================] - 49s 139ms/step - loss: 0.2451 - acc: 0.9082\n",
      "Epoch 11/128\n",
      "Learning rate:  0.005\n",
      "351/351 [==============================] - 49s 139ms/step - loss: 0.2384 - acc: 0.9122\n",
      "Epoch 12/128\n",
      "Learning rate:  0.0025\n",
      "351/351 [==============================] - 49s 139ms/step - loss: 0.2237 - acc: 0.9188\n",
      "Epoch 13/128\n",
      "Learning rate:  0.02\n",
      "351/351 [==============================] - 49s 140ms/step - loss: 0.2379 - acc: 0.9154\n",
      "Epoch 14/128\n",
      "Learning rate:  0.01\n",
      "351/351 [==============================] - 49s 139ms/step - loss: 0.2420 - acc: 0.9065\n",
      "Epoch 15/128\n",
      "Learning rate:  0.005\n",
      "351/351 [==============================] - 49s 139ms/step - loss: 0.2357 - acc: 0.9117\n",
      "Epoch 16/128\n",
      "Learning rate:  0.0025\n",
      "351/351 [==============================] - 49s 139ms/step - loss: 0.2194 - acc: 0.9184\n",
      "Epoch 17/128\n",
      "Learning rate:  0.02\n",
      "351/351 [==============================] - 49s 139ms/step - loss: 0.2335 - acc: 0.9148\n",
      "Epoch 18/128\n",
      "Learning rate:  0.01\n",
      "351/351 [==============================] - 49s 139ms/step - loss: 0.2388 - acc: 0.9062\n",
      "Epoch 19/128\n",
      "Learning rate:  0.005\n",
      "351/351 [==============================] - 49s 139ms/step - loss: 0.2323 - acc: 0.9115\n",
      "Epoch 20/128\n",
      "Learning rate:  0.0025\n",
      "351/351 [==============================] - 49s 140ms/step - loss: 0.2167 - acc: 0.9183\n",
      "Epoch 21/128\n",
      "Learning rate:  0.02\n",
      "351/351 [==============================] - 49s 139ms/step - loss: 0.2307 - acc: 0.9144\n",
      "Epoch 22/128\n",
      "Learning rate:  0.01\n",
      "351/351 [==============================] - 49s 139ms/step - loss: 0.2364 - acc: 0.9064\n",
      "Epoch 23/128\n",
      "Learning rate:  0.005\n",
      "351/351 [==============================] - 49s 139ms/step - loss: 0.2303 - acc: 0.9111\n",
      "Epoch 24/128\n",
      "Learning rate:  0.0025\n",
      "351/351 [==============================] - 49s 139ms/step - loss: 0.2149 - acc: 0.9181\n",
      "Epoch 25/128\n",
      "Learning rate:  0.02\n",
      "351/351 [==============================] - 49s 139ms/step - loss: 0.2288 - acc: 0.9142\n",
      "Epoch 26/128\n",
      "Learning rate:  0.01\n",
      "351/351 [==============================] - 49s 139ms/step - loss: 0.2347 - acc: 0.9065\n",
      "Epoch 27/128\n",
      "Learning rate:  0.005\n",
      "351/351 [==============================] - 49s 139ms/step - loss: 0.2293 - acc: 0.9109\n",
      "Epoch 28/128\n",
      "Learning rate:  0.0025\n",
      "351/351 [==============================] - 49s 139ms/step - loss: 0.2136 - acc: 0.9180\n",
      "Epoch 29/128\n",
      "Learning rate:  0.02\n",
      "351/351 [==============================] - 49s 139ms/step - loss: 0.2276 - acc: 0.9137\n",
      "Epoch 30/128\n",
      "Learning rate:  0.01\n",
      "351/351 [==============================] - 49s 139ms/step - loss: 0.2343 - acc: 0.9060\n",
      "Epoch 31/128\n",
      "Learning rate:  0.005\n",
      "351/351 [==============================] - 49s 139ms/step - loss: 0.2283 - acc: 0.9109\n",
      "Epoch 32/128\n",
      "Learning rate:  0.0025\n",
      "351/351 [==============================] - 49s 140ms/step - loss: 0.2128 - acc: 0.9180\n",
      "Epoch 33/128\n",
      "Learning rate:  0.01\n",
      "351/351 [==============================] - 49s 139ms/step - loss: 0.2183 - acc: 0.9162\n",
      "Epoch 34/128\n",
      "Learning rate:  0.005\n",
      "351/351 [==============================] - 49s 139ms/step - loss: 0.2153 - acc: 0.9165\n",
      "Epoch 35/128\n",
      "Learning rate:  0.0025\n",
      "351/351 [==============================] - 49s 139ms/step - loss: 0.2122 - acc: 0.9180\n",
      "Epoch 36/128\n",
      "Learning rate:  0.00125\n",
      "351/351 [==============================] - 49s 139ms/step - loss: 0.2102 - acc: 0.9189\n",
      "Epoch 37/128\n",
      "Learning rate:  0.01\n",
      "351/351 [==============================] - 49s 139ms/step - loss: 0.2181 - acc: 0.9162\n",
      "Epoch 38/128\n",
      "Learning rate:  0.005\n",
      "351/351 [==============================] - 49s 139ms/step - loss: 0.2163 - acc: 0.9154\n",
      "Epoch 39/128\n",
      "Learning rate:  0.0025\n",
      "351/351 [==============================] - 49s 140ms/step - loss: 0.2137 - acc: 0.9175\n",
      "Epoch 40/128\n",
      "Learning rate:  0.00125\n",
      "351/351 [==============================] - 49s 139ms/step - loss: 0.2102 - acc: 0.9187\n",
      "Epoch 41/128\n",
      "Learning rate:  0.01\n",
      "351/351 [==============================] - 49s 139ms/step - loss: 0.2178 - acc: 0.9163\n",
      "Epoch 42/128\n",
      "Learning rate:  0.005\n",
      "351/351 [==============================] - 49s 139ms/step - loss: 0.2176 - acc: 0.9143\n",
      "Epoch 43/128\n",
      "Learning rate:  0.0025\n",
      "351/351 [==============================] - 49s 139ms/step - loss: 0.2144 - acc: 0.9169\n",
      "Epoch 44/128\n",
      "Learning rate:  0.00125\n",
      "351/351 [==============================] - 49s 139ms/step - loss: 0.2099 - acc: 0.9188\n",
      "Epoch 45/128\n",
      "Learning rate:  0.01\n",
      "351/351 [==============================] - 49s 139ms/step - loss: 0.2175 - acc: 0.9163\n",
      "Epoch 46/128\n",
      "Learning rate:  0.005\n",
      "351/351 [==============================] - 49s 139ms/step - loss: 0.2173 - acc: 0.9143\n",
      "Epoch 47/128\n",
      "Learning rate:  0.0025\n",
      "351/351 [==============================] - 49s 139ms/step - loss: 0.2138 - acc: 0.9173\n",
      "Epoch 48/128\n",
      "Learning rate:  0.00125\n",
      "351/351 [==============================] - 49s 139ms/step - loss: 0.2097 - acc: 0.9187\n",
      "Epoch 49/128\n",
      "Learning rate:  0.01\n",
      "351/351 [==============================] - 49s 139ms/step - loss: 0.2173 - acc: 0.9162\n",
      "Epoch 50/128\n",
      "Learning rate:  0.005\n",
      "351/351 [==============================] - 49s 139ms/step - loss: 0.2170 - acc: 0.9145\n",
      "Epoch 51/128\n",
      "Learning rate:  0.0025\n",
      "351/351 [==============================] - 49s 139ms/step - loss: 0.2135 - acc: 0.9174\n",
      "Epoch 52/128\n",
      "Learning rate:  0.00125\n",
      "351/351 [==============================] - 49s 139ms/step - loss: 0.2096 - acc: 0.9189\n",
      "Epoch 53/128\n",
      "Learning rate:  0.01\n",
      "351/351 [==============================] - 49s 139ms/step - loss: 0.2171 - acc: 0.9162\n",
      "Epoch 54/128\n",
      "Learning rate:  0.005\n",
      "351/351 [==============================] - 49s 139ms/step - loss: 0.2169 - acc: 0.9145\n",
      "Epoch 55/128\n",
      "Learning rate:  0.0025\n",
      "351/351 [==============================] - 49s 139ms/step - loss: 0.2135 - acc: 0.9175\n",
      "Epoch 56/128\n",
      "Learning rate:  0.00125\n",
      "351/351 [==============================] - 49s 139ms/step - loss: 0.2093 - acc: 0.9190\n",
      "Epoch 57/128\n",
      "Learning rate:  0.01\n",
      "351/351 [==============================] - 49s 140ms/step - loss: 0.2169 - acc: 0.9163\n",
      "Epoch 58/128\n",
      "Learning rate:  0.005\n",
      "351/351 [==============================] - 49s 139ms/step - loss: 0.2167 - acc: 0.9144\n",
      "Epoch 59/128\n",
      "Learning rate:  0.0025\n",
      "351/351 [==============================] - 49s 139ms/step - loss: 0.2134 - acc: 0.9173\n",
      "Epoch 60/128\n",
      "Learning rate:  0.00125\n",
      "351/351 [==============================] - 49s 139ms/step - loss: 0.2092 - acc: 0.9189\n",
      "Epoch 61/128\n",
      "Learning rate:  0.01\n",
      "351/351 [==============================] - 49s 139ms/step - loss: 0.2168 - acc: 0.9163\n",
      "Epoch 62/128\n",
      "Learning rate:  0.005\n",
      "351/351 [==============================] - 49s 139ms/step - loss: 0.2166 - acc: 0.9144\n",
      "Epoch 63/128\n",
      "Learning rate:  0.0025\n",
      "351/351 [==============================] - 49s 139ms/step - loss: 0.2134 - acc: 0.9173\n",
      "Epoch 64/128\n",
      "Learning rate:  0.00125\n",
      "351/351 [==============================] - 49s 139ms/step - loss: 0.2092 - acc: 0.9189\n",
      "Epoch 65/128\n",
      "Learning rate:  0.005\n",
      "351/351 [==============================] - 49s 139ms/step - loss: 0.2122 - acc: 0.9177\n",
      "Epoch 66/128\n",
      "Learning rate:  0.0025\n",
      "351/351 [==============================] - 49s 139ms/step - loss: 0.2104 - acc: 0.9179\n",
      "Epoch 67/128\n",
      "Learning rate:  0.00125\n"
     ]
    },
    {
     "name": "stdout",
     "output_type": "stream",
     "text": [
      "351/351 [==============================] - 49s 139ms/step - loss: 0.2090 - acc: 0.9189\n",
      "Epoch 68/128\n",
      "Learning rate:  0.000625\n",
      "351/351 [==============================] - 49s 139ms/step - loss: 0.2082 - acc: 0.9192\n",
      "Epoch 69/128\n",
      "Learning rate:  0.005\n",
      "351/351 [==============================] - 49s 139ms/step - loss: 0.2123 - acc: 0.9175\n",
      "Epoch 70/128\n",
      "Learning rate:  0.0025\n",
      "351/351 [==============================] - 49s 139ms/step - loss: 0.2106 - acc: 0.9176\n",
      "Epoch 71/128\n",
      "Learning rate:  0.00125\n",
      "351/351 [==============================] - 49s 139ms/step - loss: 0.2092 - acc: 0.9189\n",
      "Epoch 72/128\n",
      "Learning rate:  0.000625\n",
      "351/351 [==============================] - 49s 140ms/step - loss: 0.2081 - acc: 0.9193\n",
      "Epoch 73/128\n",
      "Learning rate:  0.005\n",
      "351/351 [==============================] - 49s 139ms/step - loss: 0.2122 - acc: 0.9176\n",
      "Epoch 74/128\n",
      "Learning rate:  0.0025\n",
      "351/351 [==============================] - 49s 139ms/step - loss: 0.2111 - acc: 0.9173\n",
      "Epoch 75/128\n",
      "Learning rate:  0.00125\n",
      "351/351 [==============================] - 49s 139ms/step - loss: 0.2094 - acc: 0.9189\n",
      "Epoch 76/128\n",
      "Learning rate:  0.000625\n",
      "351/351 [==============================] - 49s 139ms/step - loss: 0.2080 - acc: 0.9193\n",
      "Epoch 77/128\n",
      "Learning rate:  0.005\n",
      "351/351 [==============================] - 49s 139ms/step - loss: 0.2122 - acc: 0.9175\n",
      "Epoch 78/128\n",
      "Learning rate:  0.0025\n",
      "351/351 [==============================] - 49s 140ms/step - loss: 0.2110 - acc: 0.9173\n",
      "Epoch 79/128\n",
      "Learning rate:  0.00125\n",
      "351/351 [==============================] - 49s 139ms/step - loss: 0.2093 - acc: 0.9188\n",
      "Epoch 80/128\n",
      "Learning rate:  0.000625\n",
      "351/351 [==============================] - 49s 139ms/step - loss: 0.2082 - acc: 0.9192\n",
      "Epoch 81/128\n",
      "Learning rate:  0.005\n",
      "351/351 [==============================] - 49s 140ms/step - loss: 0.2121 - acc: 0.9176\n",
      "Epoch 82/128\n",
      "Learning rate:  0.0025\n",
      "351/351 [==============================] - 49s 139ms/step - loss: 0.2109 - acc: 0.9175\n",
      "Epoch 83/128\n",
      "Learning rate:  0.00125\n",
      "351/351 [==============================] - 49s 139ms/step - loss: 0.2093 - acc: 0.9189\n",
      "Epoch 84/128\n",
      "Learning rate:  0.000625\n",
      "351/351 [==============================] - 49s 139ms/step - loss: 0.2079 - acc: 0.9193\n",
      "Epoch 85/128\n",
      "Learning rate:  0.005\n",
      "351/351 [==============================] - 49s 139ms/step - loss: 0.2121 - acc: 0.9177\n",
      "Epoch 86/128\n",
      "Learning rate:  0.0025\n",
      "351/351 [==============================] - 49s 139ms/step - loss: 0.2108 - acc: 0.9176\n",
      "Epoch 87/128\n",
      "Learning rate:  0.00125\n",
      "351/351 [==============================] - 49s 139ms/step - loss: 0.2092 - acc: 0.9188\n",
      "Epoch 88/128\n",
      "Learning rate:  0.000625\n",
      "351/351 [==============================] - 49s 139ms/step - loss: 0.2080 - acc: 0.9192\n",
      "Epoch 89/128\n",
      "Learning rate:  0.005\n",
      "351/351 [==============================] - 49s 139ms/step - loss: 0.2120 - acc: 0.9177\n",
      "Epoch 90/128\n",
      "Learning rate:  0.0025\n",
      "351/351 [==============================] - 49s 139ms/step - loss: 0.2108 - acc: 0.9175\n",
      "Epoch 91/128\n",
      "Learning rate:  0.00125\n",
      "351/351 [==============================] - 49s 139ms/step - loss: 0.2091 - acc: 0.9189\n",
      "Epoch 92/128\n",
      "Learning rate:  0.000625\n",
      "351/351 [==============================] - 49s 139ms/step - loss: 0.2079 - acc: 0.9193\n",
      "Epoch 93/128\n",
      "Learning rate:  0.005\n",
      "351/351 [==============================] - 49s 139ms/step - loss: 0.2119 - acc: 0.9177\n",
      "Epoch 94/128\n",
      "Learning rate:  0.0025\n",
      "351/351 [==============================] - 49s 139ms/step - loss: 0.2109 - acc: 0.9174\n",
      "Epoch 95/128\n",
      "Learning rate:  0.00125\n",
      "351/351 [==============================] - 49s 139ms/step - loss: 0.2092 - acc: 0.9190\n",
      "Epoch 96/128\n",
      "Learning rate:  0.000625\n",
      "351/351 [==============================] - 49s 139ms/step - loss: 0.2079 - acc: 0.9193\n",
      "Epoch 97/128\n",
      "Learning rate:  0.0025\n",
      "351/351 [==============================] - 49s 139ms/step - loss: 0.2096 - acc: 0.9185\n",
      "Epoch 98/128\n",
      "Learning rate:  0.00125\n",
      "351/351 [==============================] - 49s 139ms/step - loss: 0.2086 - acc: 0.9189\n",
      "Epoch 99/128\n",
      "Learning rate:  0.000625\n",
      "351/351 [==============================] - 49s 139ms/step - loss: 0.2079 - acc: 0.9193\n",
      "Epoch 100/128\n",
      "Learning rate:  0.0003125\n",
      "351/351 [==============================] - 49s 139ms/step - loss: 0.2075 - acc: 0.9195\n",
      "Epoch 101/128\n",
      "Learning rate:  0.0025\n",
      "351/351 [==============================] - 49s 139ms/step - loss: 0.2095 - acc: 0.9185\n",
      "Epoch 102/128\n",
      "Learning rate:  0.00125\n",
      "351/351 [==============================] - 49s 139ms/step - loss: 0.2087 - acc: 0.9187\n",
      "Epoch 103/128\n",
      "Learning rate:  0.000625\n",
      "351/351 [==============================] - 49s 139ms/step - loss: 0.2079 - acc: 0.9193\n",
      "Epoch 104/128\n",
      "Learning rate:  0.0003125\n",
      "351/351 [==============================] - 49s 139ms/step - loss: 0.2075 - acc: 0.9195\n",
      "Epoch 105/128\n",
      "Learning rate:  0.0025\n",
      "351/351 [==============================] - 49s 139ms/step - loss: 0.2096 - acc: 0.9185\n",
      "Epoch 106/128\n",
      "Learning rate:  0.00125\n",
      "351/351 [==============================] - 49s 139ms/step - loss: 0.2086 - acc: 0.9187\n",
      "Epoch 107/128\n",
      "Learning rate:  0.000625\n",
      "351/351 [==============================] - 49s 139ms/step - loss: 0.2080 - acc: 0.9193\n",
      "Epoch 108/128\n",
      "Learning rate:  0.0003125\n",
      "351/351 [==============================] - 49s 139ms/step - loss: 0.2075 - acc: 0.9195\n",
      "Epoch 109/128\n",
      "Learning rate:  0.0025\n",
      "351/351 [==============================] - 49s 140ms/step - loss: 0.2095 - acc: 0.9186\n",
      "Epoch 110/128\n",
      "Learning rate:  0.00125\n",
      "351/351 [==============================] - 49s 140ms/step - loss: 0.2087 - acc: 0.9186\n",
      "Epoch 111/128\n",
      "Learning rate:  0.000625\n",
      "351/351 [==============================] - 49s 139ms/step - loss: 0.2079 - acc: 0.9193\n",
      "Epoch 112/128\n",
      "Learning rate:  0.0003125\n",
      "351/351 [==============================] - 49s 139ms/step - loss: 0.2074 - acc: 0.9195\n",
      "Epoch 113/128\n",
      "Learning rate:  0.0025\n",
      "351/351 [==============================] - 49s 139ms/step - loss: 0.2095 - acc: 0.9186\n",
      "Epoch 114/128\n",
      "Learning rate:  0.00125\n",
      "350/351 [============================>.] - ETA: 0s - loss: 0.2086 - acc: 0.9188Learning rate:  0.00125\n",
      "351/351 [==============================] - 49s 139ms/step - loss: 0.2087 - acc: 0.9187\n",
      "Epoch 115/128\n",
      "Learning rate:  0.000625\n",
      "351/351 [==============================] - 49s 138ms/step - loss: 0.2079 - acc: 0.9193\n",
      "Epoch 116/128\n",
      "Learning rate:  0.0003125\n",
      "351/351 [==============================] - 49s 139ms/step - loss: 0.2074 - acc: 0.9194\n",
      "Epoch 117/128\n",
      "Learning rate:  0.0025\n",
      "351/351 [==============================] - 49s 139ms/step - loss: 0.2095 - acc: 0.9186\n",
      "Epoch 118/128\n",
      "Learning rate:  0.00125\n",
      "351/351 [==============================] - 49s 139ms/step - loss: 0.2085 - acc: 0.9186\n",
      "Epoch 119/128\n",
      "Learning rate:  0.000625\n",
      "351/351 [==============================] - 49s 139ms/step - loss: 0.2079 - acc: 0.9194\n",
      "Epoch 120/128\n",
      "Learning rate:  0.0003125\n",
      "351/351 [==============================] - 49s 139ms/step - loss: 0.2074 - acc: 0.9195\n",
      "Epoch 121/128\n",
      "Learning rate:  0.0025\n",
      "351/351 [==============================] - 49s 139ms/step - loss: 0.2095 - acc: 0.9185\n",
      "Epoch 122/128\n",
      "Learning rate:  0.00125\n",
      "351/351 [==============================] - 49s 140ms/step - loss: 0.2087 - acc: 0.9185\n",
      "Epoch 123/128\n",
      "Learning rate:  0.000625\n",
      "351/351 [==============================] - 49s 139ms/step - loss: 0.2077 - acc: 0.9195\n",
      "Epoch 124/128\n",
      "Learning rate:  0.0003125\n",
      "351/351 [==============================] - 49s 139ms/step - loss: 0.2075 - acc: 0.9195\n",
      "Epoch 125/128\n",
      "Learning rate:  0.0025\n",
      "351/351 [==============================] - 49s 139ms/step - loss: 0.2095 - acc: 0.9185\n",
      "Epoch 126/128\n",
      "Learning rate:  0.00125\n",
      "351/351 [==============================] - 49s 139ms/step - loss: 0.2085 - acc: 0.9188\n",
      "Epoch 127/128\n",
      "Learning rate:  0.000625\n",
      "351/351 [==============================] - 49s 139ms/step - loss: 0.2079 - acc: 0.9194\n",
      "Epoch 128/128\n",
      "Learning rate:  0.0003125\n",
      "351/351 [==============================] - 49s 139ms/step - loss: 0.2073 - acc: 0.9196\n"
     ]
    },
    {
     "data": {
      "text/plain": [
       "<keras.callbacks.History at 0x7f1310bf8a20>"
      ]
     },
     "execution_count": 16,
     "metadata": {},
     "output_type": "execute_result"
    }
   ],
   "source": [
    "from keras.callbacks import ModelCheckpoint, LearningRateScheduler, ReduceLROnPlateau\n",
    "\n",
    "def lr_schedule(epoch):\n",
    "    lr0 = 0.02\n",
    "    epoch1 = 32\n",
    "    epoch2 = 32\n",
    "    epoch3 = 32\n",
    "    epoch4 = 32\n",
    "    \n",
    "    if epoch<epoch1:\n",
    "        lr = lr0\n",
    "    elif epoch<epoch1+epoch2:\n",
    "        lr = lr0/2\n",
    "    elif epoch<epoch1+epoch2+epoch3:\n",
    "        lr = lr0/4\n",
    "    elif epoch<epoch1+epoch2+epoch3+epoch4:\n",
    "        lr = lr0/8\n",
    "    else:\n",
    "        lr = lr0/16\n",
    "    \n",
    "    if divmod(epoch,4)[1] == 3:\n",
    "        lr *= (1/8)\n",
    "    elif divmod(epoch,4)[1] == 2:\n",
    "        lr *= (1/4)\n",
    "    elif divmod(epoch,4)[1] == 1:\n",
    "        lr *= (1/2)\n",
    "    elif divmod(epoch,4)[1] == 0:\n",
    "        pass\n",
    "    print('Learning rate: ', lr)\n",
    "    return lr\n",
    "\n",
    "lr_scheduler = LearningRateScheduler(lr_schedule)\n",
    "\n",
    "callbacks = [lr_scheduler]\n",
    "\n",
    "wd2v.train(epochs=128, verbose=1,\n",
    "           use_multiprocessing=True, workers=4,\n",
    "           callbacks=callbacks)"
   ]
  },
  {
   "cell_type": "code",
   "execution_count": 17,
   "metadata": {
    "collapsed": true
   },
   "outputs": [],
   "source": [
    "hst_history = wd2v.hst.history"
   ]
  },
  {
   "cell_type": "code",
   "execution_count": 18,
   "metadata": {},
   "outputs": [
    {
     "data": {
      "text/plain": [
       "<matplotlib.legend.Legend at 0x7f13105a1f60>"
      ]
     },
     "execution_count": 18,
     "metadata": {},
     "output_type": "execute_result"
    },
    {
     "data": {
      "image/png": "[encoded data removed]",
      "text/plain": [
       "<matplotlib.figure.Figure at 0x7f13104fa748>"
      ]
     },
     "metadata": {},
     "output_type": "display_data"
    }
   ],
   "source": [
    "fig, ax = plt.subplots(1, 2, figsize=(20,5))\n",
    "ax[0].set_title('loss')\n",
    "ax[0].plot(list(range(len(hst_history[\"loss\"]))), hst_history[\"loss\"], label=\"Train loss\")\n",
    "ax[1].set_title('acc')\n",
    "ax[1].plot(list(range(len(hst_history[\"loss\"]))), hst_history[\"acc\"], label=\"accuracy\")\n",
    "ax[0].legend()\n",
    "ax[1].legend()"
   ]
  },
  {
   "cell_type": "code",
   "execution_count": null,
   "metadata": {
    "collapsed": true
   },
   "outputs": [],
   "source": []
  },
  {
   "cell_type": "markdown",
   "metadata": {},
   "source": [
    "## similarity"
   ]
  },
  {
   "cell_type": "code",
   "execution_count": 19,
   "metadata": {},
   "outputs": [
    {
     "name": "stdout",
     "output_type": "stream",
     "text": [
      "96\n",
      "MatrixSimilarity<11228 docs, 96 features>\n"
     ]
    },
    {
     "data": {
      "text/plain": [
       "<feature_eng.neg_smpl.WordAndDocSimilarity at 0x7f1310f6f438>"
      ]
     },
     "execution_count": 19,
     "metadata": {},
     "output_type": "execute_result"
    }
   ],
   "source": [
    "sim = wd2v.sim\n",
    "print(sim.num_features)\n",
    "print(sim.sim_row)\n",
    "sim"
   ]
  },
  {
   "cell_type": "markdown",
   "metadata": {},
   "source": [
    "### get feature vector of document 'd1'"
   ]
  },
  {
   "cell_type": "code",
   "execution_count": 20,
   "metadata": {},
   "outputs": [
    {
     "data": {
      "text/plain": [
       "'mcgrath rentcorp said as a result of its december acquisition of space co it expects earnings per share in 1987 of 1 15 to 1 30 dlrs per share up from 70 cts in 1986 the company said pretax net should rise to nine to 10 mln dlrs from six mln dlrs in 1986 and rental operation revenues to 19 to 22 mln dlrs from 12 5 mln dlrs it said cash flow per share this year should be 2 50 to three dlrs reuter 3'"
      ]
     },
     "execution_count": 20,
     "metadata": {},
     "output_type": "execute_result"
    }
   ],
   "source": [
    "'''d1'''\n",
    "' '.join([word_dic[ee] for ee in doc[sim.row_dic.token2id['d1']]])"
   ]
  },
  {
   "cell_type": "code",
   "execution_count": 21,
   "metadata": {},
   "outputs": [
    {
     "data": {
      "text/plain": [
       "array([ 0.03805262,  0.02609929,  0.04124539, -0.03285771, -0.13658096,\n",
       "       -0.01339213,  0.02134358, -0.09987075, -0.08236456,  0.08607917,\n",
       "       -0.12911615, -0.05494818,  0.08340104, -0.05799291,  0.06491455,\n",
       "       -0.06480952,  0.09014954,  0.02613751,  0.03537148,  0.02223225,\n",
       "       -0.16110109, -0.08269613, -0.0891121 ,  0.19197471, -0.09032283,\n",
       "        0.07575314,  0.13339515,  0.01201914,  0.06050327,  0.083785  ,\n",
       "        0.02651128, -0.0891436 ,  0.14076598, -0.01662449,  0.03677434,\n",
       "       -0.02692513, -0.07892682, -0.1585898 ,  0.00581494, -0.12319589,\n",
       "       -0.04603411,  0.04506733, -0.2076869 ,  0.01021805,  0.07055344,\n",
       "        0.04997053, -0.08048692,  0.12291382, -0.05457938,  0.11059189,\n",
       "        0.0766983 , -0.0495966 ,  0.18964021,  0.1277745 ,  0.0036514 ,\n",
       "       -0.07962944,  0.20311153, -0.00409394,  0.07867979, -0.06630513,\n",
       "        0.10302669, -0.04893995, -0.05661818,  0.13889706, -0.00079622,\n",
       "       -0.08919208,  0.01794379, -0.00974744, -0.06141527, -0.13966247,\n",
       "        0.06449103, -0.15777807,  0.2324866 , -0.05989856, -0.05901222,\n",
       "       -0.12118824,  0.11013659,  0.03553455,  0.1949292 , -0.05392108,\n",
       "       -0.06085658, -0.15648982, -0.10087901, -0.09802861,  0.0189529 ,\n",
       "        0.06741188,  0.20456737, -0.17913947, -0.09372473, -0.258159  ,\n",
       "        0.11935472,  0.07946958, -0.10296199, -0.10622969,  0.15257324,\n",
       "        0.01859503], dtype=float32)"
      ]
     },
     "execution_count": 21,
     "metadata": {},
     "output_type": "execute_result"
    }
   ],
   "source": [
    "query = sim.sim_row.index[sim.row_dic.token2id['d1']]\n",
    "query"
   ]
  },
  {
   "cell_type": "code",
   "execution_count": 22,
   "metadata": {},
   "outputs": [
    {
     "data": {
      "text/plain": [
       "[('rentcorp', 0.9353146553039551),\n",
       " ('mcgrath', 0.9307076930999756),\n",
       " ('earnings', 0.7528895735740662),\n",
       " ('disposition', 0.7511921525001526),\n",
       " ('revenues', 0.7500145435333252),\n",
       " ('operating', 0.7151027917861938),\n",
       " ('rental', 0.7025598883628845),\n",
       " ('operations', 0.6960875391960144),\n",
       " ('income', 0.6925578117370605),\n",
       " ('cellular', 0.6917389035224915),\n",
       " ('results', 0.686392068862915),\n",
       " ('properties', 0.684035062789917),\n",
       " ('sale', 0.6788508296012878),\n",
       " ('dlrs', 0.6778127551078796),\n",
       " ('expects', 0.677201509475708),\n",
       " ('name', 0.673888087272644),\n",
       " ('assets', 0.6708537340164185),\n",
       " ('quarter', 0.6649215817451477),\n",
       " ('leasehold', 0.6635368466377258),\n",
       " ('estate', 0.6551438570022583)]"
      ]
     },
     "execution_count": 22,
     "metadata": {},
     "output_type": "execute_result"
    }
   ],
   "source": [
    "'''get words that are highly correlated with this document ('d1')'''\n",
    "sim.get_sim_bycol(query, num_best=20)"
   ]
  },
  {
   "cell_type": "code",
   "execution_count": 23,
   "metadata": {},
   "outputs": [
    {
     "data": {
      "text/plain": [
       "[('d1', 1.0),\n",
       " ('d7985', 0.8081947565078735),\n",
       " ('d3041', 0.7555095553398132),\n",
       " ('d9302', 0.7446058392524719),\n",
       " ('d2608', 0.7400944232940674),\n",
       " ('d8439', 0.7379601001739502),\n",
       " ('d4589', 0.7303379774093628),\n",
       " ('d9165', 0.7299707531929016),\n",
       " ('d2179', 0.7249703407287598),\n",
       " ('d1468', 0.7222375869750977)]"
      ]
     },
     "execution_count": 23,
     "metadata": {},
     "output_type": "execute_result"
    }
   ],
   "source": [
    "'''get documents that are highly correlated with this document ('d1')'''\n",
    "sim.get_sim_byrow(query, num_best=10)"
   ]
  },
  {
   "cell_type": "code",
   "execution_count": 24,
   "metadata": {},
   "outputs": [
    {
     "data": {
      "text/plain": [
       "'cardinal industries inc said it restated earnings for the first nine months of 1986 to 235 000 dlrs or nine cts per share from 485 000 dlrs or 18 cts reported previously due to the failure of an automated accounting system installed in mid year and replaced in the fourth quarter the company said its reliance segment sustained a significant operating loss for the full year 1986 due to the accounting problems and increased promotional and advertising expenses for the full year it said it earned 284 000 dlrs or 10 cts a share up from 271 000 dlrs or 10 cts in 1985 cardinal industries said revenues for the year were 30 7 mln dlrs up from 23 0 mln dlrs in 1985 the company said for the first quarter of 1987 earnings were about 48 000 dlrs up from 13 000 dlrs or nil per share in the year ago period the year ago first quarter earnings however have been restated from 101 000 dlrs or four cts per share it said sales for the first quarter were about 8 363 000 dlrs up from 6 636 000 dlrs for the first half of 1986 the company said it restated earnings to 141 000 dlrs or five cts per share from 340 000 dlrs or 12 cts per share reported previously reuter 3'"
      ]
     },
     "execution_count": 24,
     "metadata": {},
     "output_type": "execute_result"
    }
   ],
   "source": [
    "' '.join([word_dic[ee] for ee in doc[sim.row_dic.token2id['d9302']]])"
   ]
  },
  {
   "cell_type": "markdown",
   "metadata": {
    "collapsed": true
   },
   "source": [
    "### get feature vector of word 'rentcorp'"
   ]
  },
  {
   "cell_type": "code",
   "execution_count": 25,
   "metadata": {},
   "outputs": [
    {
     "data": {
      "text/plain": [
       "array([ 0.09642329, -0.00207932,  0.02320143, -0.01478928, -0.1447414 ,\n",
       "       -0.02047732,  0.01299911, -0.08455285, -0.1714489 , -0.00262293,\n",
       "       -0.16533528, -0.04567915,  0.10661627, -0.03354112,  0.01872426,\n",
       "       -0.10291282,  0.08135273,  0.00932335, -0.0148339 ,  0.0888083 ,\n",
       "       -0.14207742, -0.02707089, -0.07530368,  0.2085278 , -0.08068088,\n",
       "        0.03432389,  0.18861528,  0.07435703,  0.01817468,  0.07457851,\n",
       "       -0.00215874, -0.08884423,  0.13937569,  0.01641178,  0.09855955,\n",
       "       -0.00811845, -0.10005385, -0.14306268,  0.00088256, -0.13393983,\n",
       "       -0.07960201,  0.02749436, -0.2432553 , -0.00823481,  0.10999288,\n",
       "        0.03020385, -0.06822401,  0.15259701, -0.0156019 ,  0.08128157,\n",
       "        0.01720149, -0.05042838,  0.12394645,  0.12016542,  0.06552362,\n",
       "       -0.05896979,  0.19355519,  0.06579642,  0.07472493, -0.09163822,\n",
       "        0.06644432, -0.00141623, -0.0724972 ,  0.08753435, -0.00070526,\n",
       "       -0.10162999,  0.01682598,  0.00898947, -0.03314014, -0.16114071,\n",
       "        0.14995964, -0.10167547,  0.23762897, -0.10869033, -0.08870482,\n",
       "       -0.10237031,  0.07661393,  0.01482523,  0.20224468, -0.01240472,\n",
       "       -0.12563333, -0.13964395, -0.06510139, -0.07393412,  0.00493665,\n",
       "        0.04905748,  0.24189061, -0.093074  , -0.07872362, -0.2246465 ,\n",
       "        0.07885656,  0.10207254, -0.07949562, -0.06392097,  0.15119025,\n",
       "        0.0214944 ], dtype=float32)"
      ]
     },
     "execution_count": 25,
     "metadata": {},
     "output_type": "execute_result"
    }
   ],
   "source": [
    "query = sim.sim_col.index[sim.col_dic.token2id['rentcorp']]\n",
    "query"
   ]
  },
  {
   "cell_type": "code",
   "execution_count": 26,
   "metadata": {},
   "outputs": [
    {
     "data": {
      "text/plain": [
       "[('rentcorp', 1.0),\n",
       " ('mcgrath', 0.9853311777114868),\n",
       " ('rental', 0.6303868293762207),\n",
       " ('revenues', 0.6006075739860535),\n",
       " ('expects', 0.5936647653579712),\n",
       " ('earnings', 0.5622631311416626),\n",
       " ('disposition', 0.5474622845649719),\n",
       " ('cellular', 0.547041654586792),\n",
       " ('properties', 0.535812497138977),\n",
       " ('respresenting', 0.5310181975364685),\n",
       " ('earned', 0.5298367738723755),\n",
       " ('cardinal', 0.5210561752319336),\n",
       " ('wavehill', 0.5185894966125488),\n",
       " ('trustco', 0.5111348628997803),\n",
       " ('yearend', 0.5109483003616333),\n",
       " ('ampex', 0.5045353174209595),\n",
       " ('perconal', 0.5045244097709656),\n",
       " ('bionomic', 0.4999670684337616),\n",
       " ('1646', 0.499858558177948),\n",
       " ('company', 0.4993707537651062)]"
      ]
     },
     "execution_count": 26,
     "metadata": {},
     "output_type": "execute_result"
    }
   ],
   "source": [
    "'''get words that are highly correlated with this word ('rentcorp')'''\n",
    "sim.get_sim_bycol(query, num_best=20)"
   ]
  },
  {
   "cell_type": "code",
   "execution_count": 27,
   "metadata": {},
   "outputs": [
    {
     "data": {
      "text/plain": [
       "[('d1', 0.9353146553039551),\n",
       " ('d7608', 0.6093324422836304),\n",
       " ('d7985', 0.6011539101600647),\n",
       " ('d3857', 0.5777490139007568),\n",
       " ('d3041', 0.5639583468437195),\n",
       " ('d133', 0.5588093996047974),\n",
       " ('d2581', 0.5537438988685608),\n",
       " ('d3825', 0.5476906895637512),\n",
       " ('d9110', 0.5455771684646606),\n",
       " ('d10273', 0.5443942546844482)]"
      ]
     },
     "execution_count": 27,
     "metadata": {},
     "output_type": "execute_result"
    }
   ],
   "source": [
    "'''get documents that are highly correlated with this word ('rentcorp')'''\n",
    "sim.get_sim_byrow(query, num_best=10)"
   ]
  },
  {
   "cell_type": "code",
   "execution_count": null,
   "metadata": {
    "collapsed": true
   },
   "outputs": [],
   "source": []
  }
 ],
 "metadata": {
  "kernelspec": {
   "display_name": "Python 3",
   "language": "python",
   "name": "python3"
  },
  "language_info": {
   "codemirror_mode": {
    "name": "ipython",
    "version": 3
   },
   "file_extension": ".py",
   "mimetype": "text/x-python",
   "name": "python",
   "nbconvert_exporter": "python",
   "pygments_lexer": "ipython3",
   "version": "3.6.8"
  }
 },
 "nbformat": 4,
 "nbformat_minor": 2
}
