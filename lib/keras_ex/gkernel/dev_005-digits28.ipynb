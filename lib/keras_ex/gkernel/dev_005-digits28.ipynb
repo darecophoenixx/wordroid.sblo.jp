{
 "cells": [
  {
   "cell_type": "code",
   "execution_count": 1,
   "metadata": {},
   "outputs": [
    {
     "name": "stderr",
     "output_type": "stream",
     "text": [
      "Using TensorFlow backend.\n"
     ]
    }
   ],
   "source": [
    "%matplotlib inline\n",
    "import os, sys\n",
    "\n",
    "import numpy as np\n",
    "import matplotlib.pyplot as plt\n",
    "from sklearn import datasets, linear_model\n",
    "from sklearn.metrics import f1_score, classification_report, confusion_matrix, make_scorer\n",
    "from sklearn.preprocessing import OneHotEncoder\n",
    "from sklearn.model_selection import train_test_split\n",
    "\n",
    "import keras\n",
    "from keras.models import Sequential\n",
    "from keras.utils import to_categorical\n",
    "from keras.layers import Input, Dense\n",
    "from keras.models import Model\n",
    "from keras.optimizers import SGD\n",
    "from keras import regularizers\n",
    "from keras.wrappers.scikit_learn import KerasClassifier, KerasRegressor\n",
    "from keras import backend as K\n",
    "import tensorflow as tf"
   ]
  },
  {
   "cell_type": "code",
   "execution_count": 2,
   "metadata": {},
   "outputs": [],
   "source": [
    "sys.path.append('/home/admin/github/wordroid.sblo.jp/lib/keras_ex')\n",
    "#from gkernel import GaussianKernel, GaussianKernel2, GaussianKernel3\n",
    "from gkernel import GaussianKernel, GaussianKernel2, GaussianKernel3\n",
    "from gkernel.sklearn import (\n",
    "    RBFRegressor, RBFClassifier,\n",
    "    make_model_gkernel1,\n",
    "    make_model_gkernel2,\n",
    "    make_model_gkernel3,\n",
    "    make_model_out,\n",
    "    make_model\n",
    ")"
   ]
  },
  {
   "cell_type": "code",
   "execution_count": 3,
   "metadata": {},
   "outputs": [],
   "source": [
    "# from sklearn.datasets import load_digits\n",
    "# digits = load_digits()\n",
    "# X, y = digits.data, digits.target\n",
    "# X = X / 16\n",
    "# X.shape, X.min(), X.max()"
   ]
  },
  {
   "cell_type": "code",
   "execution_count": 4,
   "metadata": {},
   "outputs": [
    {
     "name": "stderr",
     "output_type": "stream",
     "text": [
      "/home/admin/miniconda3/envs/da02/lib/python3.6/site-packages/sklearn/utils/deprecation.py:77: DeprecationWarning: Function fetch_mldata is deprecated; fetch_mldata was deprecated in version 0.20 and will be removed in version 0.22\n",
      "  warnings.warn(msg, category=DeprecationWarning)\n",
      "/home/admin/miniconda3/envs/da02/lib/python3.6/site-packages/sklearn/utils/deprecation.py:77: DeprecationWarning: Function mldata_filename is deprecated; mldata_filename was deprecated in version 0.20 and will be removed in version 0.22\n",
      "  warnings.warn(msg, category=DeprecationWarning)\n"
     ]
    },
    {
     "data": {
      "text/plain": [
       "{'COL_NAMES': ['label', 'data'],\n",
       " 'DESCR': 'mldata.org dataset: mnist-original',\n",
       " 'data': array([[0, 0, 0, ..., 0, 0, 0],\n",
       "        [0, 0, 0, ..., 0, 0, 0],\n",
       "        [0, 0, 0, ..., 0, 0, 0],\n",
       "        ...,\n",
       "        [0, 0, 0, ..., 0, 0, 0],\n",
       "        [0, 0, 0, ..., 0, 0, 0],\n",
       "        [0, 0, 0, ..., 0, 0, 0]], dtype=uint8),\n",
       " 'target': array([0., 0., 0., ..., 9., 9., 9.])}"
      ]
     },
     "execution_count": 4,
     "metadata": {},
     "output_type": "execute_result"
    }
   ],
   "source": [
    "from sklearn.datasets import fetch_mldata\n",
    "mnist = fetch_mldata('MNIST original')\n",
    "mnist"
   ]
  },
  {
   "cell_type": "code",
   "execution_count": 5,
   "metadata": {},
   "outputs": [
    {
     "data": {
      "text/plain": [
       "((70000, 784), 0.0, 1.0)"
      ]
     },
     "execution_count": 5,
     "metadata": {},
     "output_type": "execute_result"
    }
   ],
   "source": [
    "X, y = mnist.data, mnist.target\n",
    "X = X / 255\n",
    "X.shape, X.min(), X.max()"
   ]
  },
  {
   "cell_type": "code",
   "execution_count": 6,
   "metadata": {},
   "outputs": [
    {
     "data": {
      "text/plain": [
       "(70000,)"
      ]
     },
     "execution_count": 6,
     "metadata": {},
     "output_type": "execute_result"
    }
   ],
   "source": [
    "y.shape"
   ]
  },
  {
   "cell_type": "code",
   "execution_count": 7,
   "metadata": {},
   "outputs": [
    {
     "data": {
      "text/plain": [
       "(70000, 10)"
      ]
     },
     "execution_count": 7,
     "metadata": {},
     "output_type": "execute_result"
    }
   ],
   "source": [
    "y_cat = to_categorical(y, num_classes=10)\n",
    "y_cat.shape"
   ]
  },
  {
   "cell_type": "code",
   "execution_count": 8,
   "metadata": {},
   "outputs": [
    {
     "data": {
      "text/plain": [
       "((42000, 784), (28000, 784), (42000, 10), (28000, 10), (42000,), (28000,))"
      ]
     },
     "execution_count": 8,
     "metadata": {},
     "output_type": "execute_result"
    }
   ],
   "source": [
    "(\n",
    "    x_train, x_test,\n",
    "    y_cat_train, y_cat_test,\n",
    "    y_train, y_test\n",
    ") = train_test_split(X, y_cat, y,\n",
    "                     test_size=0.4,\n",
    "                     stratify=y, random_state=10002)\n",
    "\n",
    "(\n",
    "    x_train.shape, x_test.shape,\n",
    "    y_cat_train.shape, y_cat_test.shape,\n",
    "    y_train.shape, y_test.shape\n",
    ")"
   ]
  },
  {
   "cell_type": "code",
   "execution_count": null,
   "metadata": {
    "collapsed": true
   },
   "outputs": [],
   "source": []
  },
  {
   "cell_type": "code",
   "execution_count": null,
   "metadata": {
    "collapsed": true
   },
   "outputs": [],
   "source": []
  },
  {
   "cell_type": "code",
   "execution_count": 9,
   "metadata": {
    "collapsed": true
   },
   "outputs": [],
   "source": [
    "from sklearn.model_selection import StratifiedShuffleSplit, GridSearchCV, validation_curve\n",
    "from sklearn.feature_selection import RFECV\n",
    "from sklearn.linear_model import LogisticRegression, Lasso\n",
    "import pandas as pd\n",
    "from sklearn.metrics import mean_squared_error, mean_absolute_error, roc_auc_score, r2_score, make_scorer\n",
    "from sklearn.metrics.pairwise import cosine_similarity, euclidean_distances\n",
    "import joblib\n",
    "\n",
    "from lightgbm import LGBMClassifier"
   ]
  },
  {
   "cell_type": "code",
   "execution_count": 10,
   "metadata": {
    "collapsed": true
   },
   "outputs": [],
   "source": [
    "import warnings\n",
    "warnings.filterwarnings('ignore')"
   ]
  },
  {
   "cell_type": "code",
   "execution_count": 11,
   "metadata": {
    "collapsed": true
   },
   "outputs": [],
   "source": [
    "def f1_scorer(estimator, X, y):\n",
    "    pred = estimator.predict(X)\n",
    "    s = f1_score(y, pred, average='macro')\n",
    "    return s"
   ]
  },
  {
   "cell_type": "markdown",
   "metadata": {},
   "source": [
    "## clf1"
   ]
  },
  {
   "cell_type": "code",
   "execution_count": 12,
   "metadata": {
    "collapsed": true
   },
   "outputs": [],
   "source": [
    "clf1 = RBFClassifier(\n",
    "    num_lm=150,\n",
    "    lm_select_from_x=True,\n",
    "    random_state=10001,\n",
    "    #make_model_gkernel=make_model_gkernel3,\n",
    "    #tol=float(np.sqrt(np.finfo(np.float32).eps)/2),\n",
    "    lr=0.05, gamma='scale',\n",
    "    epochs=50, batch_size=500, verbose=0,\n",
    "    session_clear=False\n",
    ")\n",
    "# clf1 = LGBMClassifier(min_child_samples=50, reg_alpha=0.1)"
   ]
  },
  {
   "cell_type": "code",
   "execution_count": 13,
   "metadata": {},
   "outputs": [
    {
     "name": "stderr",
     "output_type": "stream",
     "text": [
      "WARNING: Logging before flag parsing goes to stderr.\n",
      "W1002 23:13:02.071916 140116843501376 deprecation_wrapper.py:119] From /home/admin/miniconda3/envs/da02/lib/python3.6/site-packages/keras/backend/tensorflow_backend.py:517: The name tf.placeholder is deprecated. Please use tf.compat.v1.placeholder instead.\n",
      "\n",
      "W1002 23:13:02.086675 140116843501376 deprecation_wrapper.py:119] From /home/admin/miniconda3/envs/da02/lib/python3.6/site-packages/keras/backend/tensorflow_backend.py:4138: The name tf.random_uniform is deprecated. Please use tf.random.uniform instead.\n",
      "\n",
      "W1002 23:13:02.094478 140116843501376 deprecation_wrapper.py:119] From /home/admin/miniconda3/envs/da02/lib/python3.6/site-packages/keras/backend/tensorflow_backend.py:174: The name tf.get_default_session is deprecated. Please use tf.compat.v1.get_default_session instead.\n",
      "\n",
      "W1002 23:13:02.095262 140116843501376 deprecation_wrapper.py:119] From /home/admin/miniconda3/envs/da02/lib/python3.6/site-packages/keras/backend/tensorflow_backend.py:181: The name tf.ConfigProto is deprecated. Please use tf.compat.v1.ConfigProto instead.\n",
      "\n",
      "W1002 23:13:02.096181 140116843501376 deprecation_wrapper.py:119] From /home/admin/miniconda3/envs/da02/lib/python3.6/site-packages/keras/backend/tensorflow_backend.py:186: The name tf.Session is deprecated. Please use tf.compat.v1.Session instead.\n",
      "\n",
      "W1002 23:13:02.191366 140116843501376 deprecation_wrapper.py:119] From /home/admin/miniconda3/envs/da02/lib/python3.6/site-packages/keras/optimizers.py:790: The name tf.train.Optimizer is deprecated. Please use tf.compat.v1.train.Optimizer instead.\n",
      "\n",
      "W1002 23:13:02.256643 140116843501376 deprecation.py:323] From /home/admin/miniconda3/envs/da02/lib/python3.6/site-packages/tensorflow/python/ops/math_grad.py:1250: add_dispatch_support.<locals>.wrapper (from tensorflow.python.ops.array_ops) is deprecated and will be removed in a future version.\n",
      "Instructions for updating:\n",
      "Use tf.where in 2.0, which has the same broadcast rule as np.where\n"
     ]
    },
    {
     "name": "stdout",
     "output_type": "stream",
     "text": [
      "CPU times: user 2min 31s, sys: 3.06 s, total: 2min 34s\n",
      "Wall time: 1min 26s\n"
     ]
    }
   ],
   "source": [
    "%%time\n",
    "#hst = clf1.fit(x_train, y_cat_train)\n",
    "hst = clf1.fit(x_train, y_train)"
   ]
  },
  {
   "cell_type": "code",
   "execution_count": 14,
   "metadata": {},
   "outputs": [
    {
     "data": {
      "text/plain": [
       "<matplotlib.legend.Legend at 0x7f6eec526b38>"
      ]
     },
     "execution_count": 14,
     "metadata": {},
     "output_type": "execute_result"
    },
    {
     "data": {
      "image/png": "[encoded data removed]",
      "text/plain": [
       "<matplotlib.figure.Figure at 0x7f6eec652c18>"
      ]
     },
     "metadata": {},
     "output_type": "display_data"
    }
   ],
   "source": [
    "fig, ax = plt.subplots(1, 3, figsize=(20,5))\n",
    "ax[0].set_title('loss')\n",
    "ax[0].plot(list(range(len(hst[\"loss\"]))), hst[\"loss\"], label=\"Train loss\")\n",
    "ax[1].set_title('accuracy')\n",
    "ax[1].plot(list(range(len(hst[\"loss\"]))), hst[\"acc\"], label=\"accuracy\")\n",
    "ax[2].set_title('learning rate')\n",
    "ax[2].plot(list(range(len(hst[\"loss\"]))), hst[\"lr\"], label=\"learning rate\")\n",
    "ax[0].legend()\n",
    "ax[1].legend()\n",
    "ax[2].legend()"
   ]
  },
  {
   "cell_type": "code",
   "execution_count": 15,
   "metadata": {},
   "outputs": [
    {
     "data": {
      "text/plain": [
       "(42000,)"
      ]
     },
     "execution_count": 15,
     "metadata": {},
     "output_type": "execute_result"
    }
   ],
   "source": [
    "pred = clf1.predict(x_train)\n",
    "pred.shape"
   ]
  },
  {
   "cell_type": "code",
   "execution_count": 16,
   "metadata": {},
   "outputs": [
    {
     "data": {
      "text/plain": [
       "array([2., 9., 9., ..., 8., 4., 1.])"
      ]
     },
     "execution_count": 16,
     "metadata": {},
     "output_type": "execute_result"
    }
   ],
   "source": [
    "pred"
   ]
  },
  {
   "cell_type": "code",
   "execution_count": 17,
   "metadata": {},
   "outputs": [
    {
     "name": "stdout",
     "output_type": "stream",
     "text": [
      "F1_SCORE : 0.9366277813701945\n",
      "              precision    recall  f1-score   support\n",
      "\n",
      "         0.0       0.96      0.98      0.97      4142\n",
      "         1.0       0.97      0.97      0.97      4726\n",
      "         2.0       0.93      0.93      0.93      4194\n",
      "         3.0       0.93      0.91      0.92      4285\n",
      "         4.0       0.92      0.94      0.93      4094\n",
      "         5.0       0.92      0.91      0.92      3788\n",
      "         6.0       0.96      0.96      0.96      4125\n",
      "         7.0       0.94      0.94      0.94      4376\n",
      "         8.0       0.92      0.91      0.91      4095\n",
      "         9.0       0.91      0.90      0.91      4175\n",
      "\n",
      "   micro avg       0.94      0.94      0.94     42000\n",
      "   macro avg       0.94      0.94      0.94     42000\n",
      "weighted avg       0.94      0.94      0.94     42000\n",
      "\n",
      "[[4045    0   10    3    8   26   21    8   17    4]\n",
      " [   1 4607   23   12    8   12    6   13   38    6]\n",
      " [  19   21 3888   45   54   15   26   55   61   10]\n",
      " [   7   15   85 3918    5  107    9   38   67   34]\n",
      " [  12    7   23    4 3858    1   38   10   21  120]\n",
      " [  25   10   24   91   30 3466   47   10   57   28]\n",
      " [  33    9   14    2   24   48 3971    1   22    1]\n",
      " [  10   21   57    8   40    6    1 4112   11  110]\n",
      " [  13   37   43   94   18   70   35    9 3731   45]\n",
      " [  28   15    7   58  131   24    2  102   36 3772]]\n"
     ]
    }
   ],
   "source": [
    "print('F1_SCORE :', f1_score(y_train, pred, average='macro'))\n",
    "print(classification_report(y_train, pred))\n",
    "print(confusion_matrix(y_train, pred))"
   ]
  },
  {
   "cell_type": "code",
   "execution_count": 18,
   "metadata": {},
   "outputs": [
    {
     "data": {
      "text/plain": [
       "(28000,)"
      ]
     },
     "execution_count": 18,
     "metadata": {},
     "output_type": "execute_result"
    }
   ],
   "source": [
    "pred_test = clf1.predict(x_test)\n",
    "pred_test.shape"
   ]
  },
  {
   "cell_type": "code",
   "execution_count": 19,
   "metadata": {},
   "outputs": [
    {
     "name": "stdout",
     "output_type": "stream",
     "text": [
      "F1_SCORE : 0.9334458897793754\n",
      "              precision    recall  f1-score   support\n",
      "\n",
      "         0.0       0.96      0.98      0.97      2761\n",
      "         1.0       0.97      0.98      0.97      3151\n",
      "         2.0       0.93      0.92      0.92      2796\n",
      "         3.0       0.92      0.91      0.92      2856\n",
      "         4.0       0.91      0.94      0.93      2730\n",
      "         5.0       0.91      0.91      0.91      2525\n",
      "         6.0       0.95      0.96      0.96      2751\n",
      "         7.0       0.95      0.94      0.94      2917\n",
      "         8.0       0.92      0.91      0.91      2730\n",
      "         9.0       0.91      0.90      0.91      2783\n",
      "\n",
      "   micro avg       0.93      0.93      0.93     28000\n",
      "   macro avg       0.93      0.93      0.93     28000\n",
      "weighted avg       0.93      0.93      0.93     28000\n",
      "\n",
      "[[2693    0    9    2    0   18   17    2   15    5]\n",
      " [   1 3076   11   13    2   12    4    5   18    9]\n",
      " [  16   15 2569   30   48    7   21   22   62    6]\n",
      " [   2    3   51 2605    1   92    7   29   44   22]\n",
      " [  11    9   18    4 2561    3   21    8   10   85]\n",
      " [  18    5   14   65   19 2306   36    4   38   20]\n",
      " [  27    5   21    1   28   23 2637    1    6    2]\n",
      " [  10   12   48    6   34    7    1 2736    5   58]\n",
      " [  12   27   21   74   17   51   19    8 2471   30]\n",
      " [  12   12   11   27   95   15    3   75   28 2505]]\n"
     ]
    }
   ],
   "source": [
    "print('F1_SCORE :', f1_score(y_test, pred_test, average='macro'))\n",
    "print(classification_report(y_test, pred_test))\n",
    "print(confusion_matrix(y_test, pred_test))"
   ]
  },
  {
   "cell_type": "code",
   "execution_count": null,
   "metadata": {
    "collapsed": true
   },
   "outputs": [],
   "source": []
  },
  {
   "cell_type": "markdown",
   "metadata": {},
   "source": [
    "## clf2"
   ]
  },
  {
   "cell_type": "code",
   "execution_count": 20,
   "metadata": {
    "collapsed": true
   },
   "outputs": [],
   "source": [
    "clf2 = RBFClassifier(\n",
    "    num_lm=150,\n",
    "    lm_select_from_x=True,\n",
    "    random_state=10002,\n",
    "    #make_model_gkernel=make_model_gkernel3,\n",
    "    #tol=float(np.sqrt(np.finfo(np.float32).eps)/2),\n",
    "    lr=0.05, gamma='scale',\n",
    "    epochs=50, batch_size=500, verbose=0,\n",
    "    session_clear=False\n",
    ")\n",
    "# clf2 = LGBMClassifier(min_child_samples=50, reg_alpha=0.1)"
   ]
  },
  {
   "cell_type": "code",
   "execution_count": 21,
   "metadata": {},
   "outputs": [
    {
     "name": "stdout",
     "output_type": "stream",
     "text": [
      "CPU times: user 2min 29s, sys: 2.67 s, total: 2min 31s\n",
      "Wall time: 1min 24s\n"
     ]
    }
   ],
   "source": [
    "%%time\n",
    "#hst = clf2.fit(x_train, y_cat_train)\n",
    "hst = clf2.fit(x_train, y_train)"
   ]
  },
  {
   "cell_type": "code",
   "execution_count": 22,
   "metadata": {},
   "outputs": [
    {
     "data": {
      "text/plain": [
       "<matplotlib.legend.Legend at 0x7f6ebeac66d8>"
      ]
     },
     "execution_count": 22,
     "metadata": {},
     "output_type": "execute_result"
    },
    {
     "data": {
      "image/png": "[encoded data removed]",
      "text/plain": [
       "<matplotlib.figure.Figure at 0x7f6ee4eed198>"
      ]
     },
     "metadata": {},
     "output_type": "display_data"
    }
   ],
   "source": [
    "fig, ax = plt.subplots(1, 3, figsize=(20,5))\n",
    "ax[0].set_title('loss')\n",
    "ax[0].plot(list(range(len(hst[\"loss\"]))), hst[\"loss\"], label=\"Train loss\")\n",
    "ax[1].set_title('accuracy')\n",
    "ax[1].plot(list(range(len(hst[\"loss\"]))), hst[\"acc\"], label=\"accuracy\")\n",
    "ax[2].set_title('learning rate')\n",
    "ax[2].plot(list(range(len(hst[\"loss\"]))), hst[\"lr\"], label=\"learning rate\")\n",
    "ax[0].legend()\n",
    "ax[1].legend()\n",
    "ax[2].legend()"
   ]
  },
  {
   "cell_type": "code",
   "execution_count": 23,
   "metadata": {},
   "outputs": [
    {
     "data": {
      "text/plain": [
       "(42000,)"
      ]
     },
     "execution_count": 23,
     "metadata": {},
     "output_type": "execute_result"
    }
   ],
   "source": [
    "pred = clf2.predict(x_train)\n",
    "pred.shape"
   ]
  },
  {
   "cell_type": "code",
   "execution_count": 24,
   "metadata": {},
   "outputs": [
    {
     "data": {
      "text/plain": [
       "array([2., 9., 9., ..., 8., 4., 1.])"
      ]
     },
     "execution_count": 24,
     "metadata": {},
     "output_type": "execute_result"
    }
   ],
   "source": [
    "pred"
   ]
  },
  {
   "cell_type": "code",
   "execution_count": 25,
   "metadata": {},
   "outputs": [
    {
     "name": "stdout",
     "output_type": "stream",
     "text": [
      "F1_SCORE : 0.9362934672411674\n",
      "              precision    recall  f1-score   support\n",
      "\n",
      "         0.0       0.97      0.98      0.97      4142\n",
      "         1.0       0.97      0.98      0.97      4726\n",
      "         2.0       0.93      0.92      0.93      4194\n",
      "         3.0       0.92      0.91      0.92      4285\n",
      "         4.0       0.92      0.94      0.93      4094\n",
      "         5.0       0.92      0.92      0.92      3788\n",
      "         6.0       0.95      0.97      0.96      4125\n",
      "         7.0       0.94      0.94      0.94      4376\n",
      "         8.0       0.93      0.91      0.92      4095\n",
      "         9.0       0.92      0.90      0.91      4175\n",
      "\n",
      "   micro avg       0.94      0.94      0.94     42000\n",
      "   macro avg       0.94      0.94      0.94     42000\n",
      "weighted avg       0.94      0.94      0.94     42000\n",
      "\n",
      "[[4040    0   13    6    8   18   22   11   22    2]\n",
      " [   0 4616   24   12    9   10    4   14   32    5]\n",
      " [  21   22 3879   51   54   20   35   50   50   12]\n",
      " [   5   17   83 3902    2  130    8   38   69   31]\n",
      " [  10    7   29    2 3838    2   43   12   21  130]\n",
      " [  25   12   19  104   27 3473   51    9   48   20]\n",
      " [  24    3   20    2   22   45 3988    1   20    0]\n",
      " [  14   21   47   14   43    8    1 4115   11  102]\n",
      " [  22   43   52   99   14   61   24    8 3732   40]\n",
      " [  22   16   14   50  141   20    3  111   27 3771]]\n"
     ]
    }
   ],
   "source": [
    "print('F1_SCORE :', f1_score(y_train, pred, average='macro'))\n",
    "print(classification_report(y_train, pred))\n",
    "print(confusion_matrix(y_train, pred))"
   ]
  },
  {
   "cell_type": "code",
   "execution_count": 26,
   "metadata": {},
   "outputs": [
    {
     "data": {
      "text/plain": [
       "(28000,)"
      ]
     },
     "execution_count": 26,
     "metadata": {},
     "output_type": "execute_result"
    }
   ],
   "source": [
    "pred_test = clf2.predict(x_test)\n",
    "pred_test.shape"
   ]
  },
  {
   "cell_type": "code",
   "execution_count": 27,
   "metadata": {},
   "outputs": [
    {
     "name": "stdout",
     "output_type": "stream",
     "text": [
      "F1_SCORE : 0.9330728939918842\n",
      "              precision    recall  f1-score   support\n",
      "\n",
      "         0.0       0.97      0.98      0.97      2761\n",
      "         1.0       0.97      0.98      0.98      3151\n",
      "         2.0       0.92      0.92      0.92      2796\n",
      "         3.0       0.92      0.91      0.92      2856\n",
      "         4.0       0.92      0.93      0.92      2730\n",
      "         5.0       0.92      0.92      0.92      2525\n",
      "         6.0       0.95      0.96      0.96      2751\n",
      "         7.0       0.94      0.93      0.94      2917\n",
      "         8.0       0.91      0.91      0.91      2730\n",
      "         9.0       0.91      0.90      0.90      2783\n",
      "\n",
      "   micro avg       0.93      0.93      0.93     28000\n",
      "   macro avg       0.93      0.93      0.93     28000\n",
      "weighted avg       0.93      0.93      0.93     28000\n",
      "\n",
      "[[2703    0   12    1    1   10   14    5   14    1]\n",
      " [   1 3081   15   11    1    7    2    5   19    9]\n",
      " [   9   12 2577   33   47    6   28   21   60    3]\n",
      " [   7    4   44 2598    0   93    9   27   51   23]\n",
      " [   7   12   30    3 2540    0   22    3   17   96]\n",
      " [  11    6   16   75   12 2315   36    6   39    9]\n",
      " [  20    4   19    2   22   23 2647    3   10    1]\n",
      " [   9   18   48   10   33    4    2 2712    7   74]\n",
      " [  12   22   29   69   19   53   18    4 2476   28]\n",
      " [  16    6   19   20   95   15    2   92   20 2498]]\n"
     ]
    }
   ],
   "source": [
    "print('F1_SCORE :', f1_score(y_test, pred_test, average='macro'))\n",
    "print(classification_report(y_test, pred_test))\n",
    "print(confusion_matrix(y_test, pred_test))"
   ]
  },
  {
   "cell_type": "code",
   "execution_count": null,
   "metadata": {
    "collapsed": true
   },
   "outputs": [],
   "source": []
  },
  {
   "cell_type": "markdown",
   "metadata": {},
   "source": [
    "## clf3"
   ]
  },
  {
   "cell_type": "code",
   "execution_count": 28,
   "metadata": {
    "collapsed": true
   },
   "outputs": [],
   "source": [
    "clf3 = RBFClassifier(\n",
    "    num_lm=150,\n",
    "    lm_select_from_x=True,\n",
    "    random_state=10003,\n",
    "    #make_model_gkernel=make_model_gkernel3,\n",
    "    #tol=float(np.sqrt(np.finfo(np.float32).eps)/2),\n",
    "    lr=0.05, gamma='scale',\n",
    "    epochs=50, batch_size=500, verbose=0,\n",
    "    session_clear=False\n",
    ")\n",
    "# clf3 = LGBMClassifier(min_child_samples=50, reg_alpha=0.1)"
   ]
  },
  {
   "cell_type": "code",
   "execution_count": 29,
   "metadata": {},
   "outputs": [
    {
     "name": "stdout",
     "output_type": "stream",
     "text": [
      "CPU times: user 2min 43s, sys: 2.43 s, total: 2min 45s\n",
      "Wall time: 1min 28s\n"
     ]
    }
   ],
   "source": [
    "%%time\n",
    "#hst = clf3.fit(x_train, y_cat_train)\n",
    "hst = clf3.fit(x_train, y_train)"
   ]
  },
  {
   "cell_type": "code",
   "execution_count": 30,
   "metadata": {},
   "outputs": [
    {
     "data": {
      "text/plain": [
       "<matplotlib.legend.Legend at 0x7f6ebd8a94e0>"
      ]
     },
     "execution_count": 30,
     "metadata": {},
     "output_type": "execute_result"
    },
    {
     "data": {
      "image/png": "[encoded data removed]",
      "text/plain": [
       "<matplotlib.figure.Figure at 0x7f6eec2b7a58>"
      ]
     },
     "metadata": {},
     "output_type": "display_data"
    }
   ],
   "source": [
    "fig, ax = plt.subplots(1, 3, figsize=(20,5))\n",
    "ax[0].set_title('loss')\n",
    "ax[0].plot(list(range(len(hst[\"loss\"]))), hst[\"loss\"], label=\"Train loss\")\n",
    "ax[1].set_title('accuracy')\n",
    "ax[1].plot(list(range(len(hst[\"loss\"]))), hst[\"acc\"], label=\"accuracy\")\n",
    "ax[2].set_title('learning rate')\n",
    "ax[2].plot(list(range(len(hst[\"loss\"]))), hst[\"lr\"], label=\"learning rate\")\n",
    "ax[0].legend()\n",
    "ax[1].legend()\n",
    "ax[2].legend()"
   ]
  },
  {
   "cell_type": "code",
   "execution_count": 31,
   "metadata": {},
   "outputs": [
    {
     "data": {
      "text/plain": [
       "(42000,)"
      ]
     },
     "execution_count": 31,
     "metadata": {},
     "output_type": "execute_result"
    }
   ],
   "source": [
    "pred = clf3.predict(x_train)\n",
    "pred.shape"
   ]
  },
  {
   "cell_type": "code",
   "execution_count": 32,
   "metadata": {},
   "outputs": [
    {
     "data": {
      "text/plain": [
       "array([2., 9., 9., ..., 8., 4., 1.])"
      ]
     },
     "execution_count": 32,
     "metadata": {},
     "output_type": "execute_result"
    }
   ],
   "source": [
    "pred"
   ]
  },
  {
   "cell_type": "code",
   "execution_count": 33,
   "metadata": {},
   "outputs": [
    {
     "name": "stdout",
     "output_type": "stream",
     "text": [
      "F1_SCORE : 0.9312458482868446\n",
      "              precision    recall  f1-score   support\n",
      "\n",
      "         0.0       0.97      0.97      0.97      4142\n",
      "         1.0       0.96      0.98      0.97      4726\n",
      "         2.0       0.93      0.91      0.92      4194\n",
      "         3.0       0.92      0.92      0.92      4285\n",
      "         4.0       0.92      0.94      0.93      4094\n",
      "         5.0       0.90      0.91      0.91      3788\n",
      "         6.0       0.95      0.96      0.95      4125\n",
      "         7.0       0.94      0.93      0.93      4376\n",
      "         8.0       0.91      0.90      0.91      4095\n",
      "         9.0       0.91      0.90      0.90      4175\n",
      "\n",
      "   micro avg       0.93      0.93      0.93     42000\n",
      "   macro avg       0.93      0.93      0.93     42000\n",
      "weighted avg       0.93      0.93      0.93     42000\n",
      "\n",
      "[[4031    1    8    7    5   28   25    7   19   11]\n",
      " [   0 4610   22   12    8   20    3   15   31    5]\n",
      " [  21   26 3830   52   55   15   47   59   76   13]\n",
      " [   8   22   75 3922    4  112    8   32   75   27]\n",
      " [  11   10   23    0 3848    4   39   12   18  129]\n",
      " [  21   16   24   92   25 3454   59   19   59   19]\n",
      " [  30    9   16    5   35   58 3950    2   20    0]\n",
      " [  17   25   65    8   33   17    0 4072   18  121]\n",
      " [  17   45   53  109   17   86   29   14 3679   46]\n",
      " [  21   19   17   50  132   31    3  115   38 3749]]\n"
     ]
    }
   ],
   "source": [
    "print('F1_SCORE :', f1_score(y_train, pred, average='macro'))\n",
    "print(classification_report(y_train, pred))\n",
    "print(confusion_matrix(y_train, pred))"
   ]
  },
  {
   "cell_type": "code",
   "execution_count": 34,
   "metadata": {},
   "outputs": [
    {
     "data": {
      "text/plain": [
       "(28000,)"
      ]
     },
     "execution_count": 34,
     "metadata": {},
     "output_type": "execute_result"
    }
   ],
   "source": [
    "pred_test = clf3.predict(x_test)\n",
    "pred_test.shape"
   ]
  },
  {
   "cell_type": "code",
   "execution_count": 35,
   "metadata": {},
   "outputs": [
    {
     "name": "stdout",
     "output_type": "stream",
     "text": [
      "F1_SCORE : 0.9305701140303784\n",
      "              precision    recall  f1-score   support\n",
      "\n",
      "         0.0       0.96      0.98      0.97      2761\n",
      "         1.0       0.97      0.98      0.97      3151\n",
      "         2.0       0.92      0.91      0.92      2796\n",
      "         3.0       0.93      0.91      0.92      2856\n",
      "         4.0       0.92      0.93      0.93      2730\n",
      "         5.0       0.91      0.91      0.91      2525\n",
      "         6.0       0.95      0.96      0.95      2751\n",
      "         7.0       0.93      0.93      0.93      2917\n",
      "         8.0       0.90      0.90      0.90      2730\n",
      "         9.0       0.91      0.90      0.90      2783\n",
      "\n",
      "   micro avg       0.93      0.93      0.93     28000\n",
      "   macro avg       0.93      0.93      0.93     28000\n",
      "weighted avg       0.93      0.93      0.93     28000\n",
      "\n",
      "[[2692    0    7    2    1   20   14    3   13    9]\n",
      " [   1 3079   10   13    3   13    4    5   17    6]\n",
      " [   7   14 2556   31   37   11   38   30   68    4]\n",
      " [   6    7   49 2595    0   76    8   30   60   25]\n",
      " [   7   11   20    0 2547    3   23    9   13   97]\n",
      " [  18   10   18   58   17 2288   29   14   57   16]\n",
      " [  20    7   18    2   26   27 2639    1    9    2]\n",
      " [  15   15   50    8   25    2    1 2725    8   68]\n",
      " [  13   27   32   72   15   51   24   12 2460   24]\n",
      " [  11   12   16   22   83   22    2   94   23 2498]]\n"
     ]
    }
   ],
   "source": [
    "print('F1_SCORE :', f1_score(y_test, pred_test, average='macro'))\n",
    "print(classification_report(y_test, pred_test))\n",
    "print(confusion_matrix(y_test, pred_test))"
   ]
  },
  {
   "cell_type": "code",
   "execution_count": null,
   "metadata": {
    "collapsed": true
   },
   "outputs": [],
   "source": []
  },
  {
   "cell_type": "code",
   "execution_count": null,
   "metadata": {
    "collapsed": true
   },
   "outputs": [],
   "source": []
  },
  {
   "cell_type": "code",
   "execution_count": 36,
   "metadata": {
    "collapsed": true
   },
   "outputs": [],
   "source": [
    "clfs = [clf1, clf2, clf3]"
   ]
  },
  {
   "cell_type": "code",
   "execution_count": 37,
   "metadata": {},
   "outputs": [],
   "source": [
    "pred_proba = [clf.predict_proba(x_train) for clf in clfs]"
   ]
  },
  {
   "cell_type": "code",
   "execution_count": 38,
   "metadata": {},
   "outputs": [
    {
     "data": {
      "text/plain": [
       "(42000, 10)"
      ]
     },
     "execution_count": 38,
     "metadata": {},
     "output_type": "execute_result"
    }
   ],
   "source": [
    "np.stack(pred_proba).mean(axis=0).shape"
   ]
  },
  {
   "cell_type": "code",
   "execution_count": 39,
   "metadata": {},
   "outputs": [
    {
     "name": "stdout",
     "output_type": "stream",
     "text": [
      "F1_SCORE : 0.9404567783192732\n",
      "              precision    recall  f1-score   support\n",
      "\n",
      "         0.0       0.97      0.98      0.97      4142\n",
      "         1.0       0.97      0.98      0.97      4726\n",
      "         2.0       0.93      0.93      0.93      4194\n",
      "         3.0       0.93      0.92      0.92      4285\n",
      "         4.0       0.93      0.95      0.94      4094\n",
      "         5.0       0.92      0.93      0.92      3788\n",
      "         6.0       0.95      0.97      0.96      4125\n",
      "         7.0       0.95      0.94      0.94      4376\n",
      "         8.0       0.93      0.91      0.92      4095\n",
      "         9.0       0.92      0.91      0.92      4175\n",
      "\n",
      "   micro avg       0.94      0.94      0.94     42000\n",
      "   macro avg       0.94      0.94      0.94     42000\n",
      "weighted avg       0.94      0.94      0.94     42000\n",
      "\n",
      "[[4054    0   12    7    6   15   20    8   17    3]\n",
      " [   0 4619   20   11    8   15    6   14   28    5]\n",
      " [  22   22 3887   41   50   17   34   53   57   11]\n",
      " [   7   18   76 3935    5  106    9   34   68   27]\n",
      " [   8    9   23    2 3872    2   38   10   17  113]\n",
      " [  20   11   22   82   30 3506   50    9   38   20]\n",
      " [  28    6   12    2   25   49 3983    1   18    1]\n",
      " [  13   24   53    9   34    8    1 4127   10   97]\n",
      " [  16   38   46   90   18   64   27    9 3746   41]\n",
      " [  25   17   12   50  119   25    3  101   26 3797]]\n"
     ]
    }
   ],
   "source": [
    "print('F1_SCORE :', f1_score(y_train, np.argmax(np.stack(pred_proba).mean(axis=0), axis=1), average='macro'))\n",
    "print(classification_report(y_train, np.argmax(np.stack(pred_proba).mean(axis=0), axis=1)))\n",
    "print(confusion_matrix(y_train, np.argmax(np.stack(pred_proba).mean(axis=0), axis=1)))"
   ]
  },
  {
   "cell_type": "code",
   "execution_count": 40,
   "metadata": {
    "collapsed": true
   },
   "outputs": [],
   "source": [
    "pred_proba_test = [clf.predict_proba(x_test) for clf in clfs]"
   ]
  },
  {
   "cell_type": "code",
   "execution_count": 41,
   "metadata": {},
   "outputs": [
    {
     "data": {
      "text/plain": [
       "(28000, 10)"
      ]
     },
     "execution_count": 41,
     "metadata": {},
     "output_type": "execute_result"
    }
   ],
   "source": [
    "np.stack(pred_proba_test).mean(axis=0).shape"
   ]
  },
  {
   "cell_type": "code",
   "execution_count": 42,
   "metadata": {},
   "outputs": [
    {
     "name": "stdout",
     "output_type": "stream",
     "text": [
      "F1_SCORE : 0.9388324018699794\n",
      "              precision    recall  f1-score   support\n",
      "\n",
      "         0.0       0.97      0.98      0.97      2761\n",
      "         1.0       0.97      0.98      0.97      3151\n",
      "         2.0       0.93      0.92      0.93      2796\n",
      "         3.0       0.93      0.92      0.93      2856\n",
      "         4.0       0.92      0.94      0.93      2730\n",
      "         5.0       0.92      0.93      0.92      2525\n",
      "         6.0       0.95      0.96      0.96      2751\n",
      "         7.0       0.95      0.94      0.94      2917\n",
      "         8.0       0.92      0.91      0.92      2730\n",
      "         9.0       0.92      0.91      0.91      2783\n",
      "\n",
      "   micro avg       0.94      0.94      0.94     28000\n",
      "   macro avg       0.94      0.94      0.94     28000\n",
      "weighted avg       0.94      0.94      0.94     28000\n",
      "\n",
      "[[2706    1    6    1    0   15   15    3   11    3]\n",
      " [   1 3081    9   13    2   11    3    5   18    8]\n",
      " [   9   12 2584   27   44    7   25   23   60    5]\n",
      " [   4    5   40 2623    1   83    7   27   45   21]\n",
      " [   5   12   23    1 2557    2   26    5   13   86]\n",
      " [  10    6   14   54   14 2340   32    6   36   13]\n",
      " [  23    5   17    0   23   24 2651    1    5    2]\n",
      " [  10   14   49    6   33    1    1 2741    5   57]\n",
      " [  11   24   23   63   18   45   18    9 2494   25]\n",
      " [  12   10   15   24   79   15    2   77   20 2529]]\n"
     ]
    }
   ],
   "source": [
    "print('F1_SCORE :', f1_score(y_test, np.argmax(np.stack(pred_proba_test).mean(axis=0), axis=1), average='macro'))\n",
    "print(classification_report(y_test, np.argmax(np.stack(pred_proba_test).mean(axis=0), axis=1)))\n",
    "print(confusion_matrix(y_test, np.argmax(np.stack(pred_proba_test).mean(axis=0), axis=1)))"
   ]
  },
  {
   "cell_type": "code",
   "execution_count": null,
   "metadata": {
    "collapsed": true
   },
   "outputs": [],
   "source": []
  },
  {
   "cell_type": "code",
   "execution_count": null,
   "metadata": {
    "collapsed": true
   },
   "outputs": [],
   "source": []
  },
  {
   "cell_type": "code",
   "execution_count": null,
   "metadata": {
    "collapsed": true
   },
   "outputs": [],
   "source": []
  },
  {
   "cell_type": "code",
   "execution_count": null,
   "metadata": {
    "collapsed": true
   },
   "outputs": [],
   "source": []
  }
 ],
 "metadata": {
  "kernelspec": {
   "display_name": "Python 3",
   "language": "python",
   "name": "python3"
  },
  "language_info": {
   "codemirror_mode": {
    "name": "ipython",
    "version": 3
   },
   "file_extension": ".py",
   "mimetype": "text/x-python",
   "name": "python",
   "nbconvert_exporter": "python",
   "pygments_lexer": "ipython3",
   "version": "3.6.8"
  }
 },
 "nbformat": 4,
 "nbformat_minor": 2
}
