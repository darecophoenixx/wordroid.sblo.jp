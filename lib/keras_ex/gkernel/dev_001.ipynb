{
 "cells": [
  {
   "cell_type": "code",
   "execution_count": 1,
   "metadata": {},
   "outputs": [
    {
     "name": "stderr",
     "output_type": "stream",
     "text": [
      "Using TensorFlow backend.\n"
     ]
    }
   ],
   "source": [
    "%matplotlib inline\n",
    "import os, sys\n",
    "\n",
    "import numpy as np\n",
    "import matplotlib.pyplot as plt\n",
    "from sklearn import datasets, linear_model\n",
    "from sklearn.metrics import f1_score, classification_report, confusion_matrix, make_scorer\n",
    "from sklearn.preprocessing import OneHotEncoder\n",
    "import keras\n",
    "from keras.models import Sequential\n",
    "from keras.layers import Input, Dense\n",
    "from keras.models import Model\n",
    "from keras.optimizers import SGD\n",
    "from keras import regularizers\n",
    "from keras.wrappers.scikit_learn import KerasClassifier, KerasRegressor\n",
    "from keras import backend as K\n",
    "import tensorflow as tf"
   ]
  },
  {
   "cell_type": "code",
   "execution_count": 2,
   "metadata": {},
   "outputs": [],
   "source": [
    "sys.path.append('/home/admin/github/wordroid.sblo.jp/lib/keras_ex')\n",
    "from gkernel import GaussianKernel, GaussianKernel2, GaussianKernel3\n",
    "#from make_model import MyKerasClassifier"
   ]
  },
  {
   "cell_type": "code",
   "execution_count": 3,
   "metadata": {
    "collapsed": true
   },
   "outputs": [],
   "source": [
    "iris = datasets.load_iris()\n",
    "X = iris.data.astype(np.float32)\n",
    "Y = iris.target\n",
    "N = Y.size\n",
    "Y2 = keras.utils.to_categorical(Y, num_classes=3)\n",
    "\n",
    "index = np.arange(N)\n",
    "xtrain = X[index[index % 2 != 0],:]\n",
    "ytrain = Y2[index[index % 2 != 0]]\n",
    "xtest = X[index[index % 2 == 0],:]\n",
    "yans = Y2[index[index % 2 == 0]]"
   ]
  },
  {
   "cell_type": "code",
   "execution_count": 139,
   "metadata": {},
   "outputs": [],
   "source": [
    "# def RBFClassifier(\n",
    "    \n",
    "# ):\n",
    "#     return RBFClassifier0(make_model)\n",
    "from keras.callbacks import EarlyStopping\n",
    "from keras.optimizers import RMSprop, Adam\n",
    "\n",
    "\n",
    "class RBFClassifier(KerasClassifier):\n",
    "    \n",
    "    def __init__(self, **sk_params):\n",
    "        super().__init__(make_model, **sk_params)\n",
    "    \n",
    "    def fit(self, x, y, sample_weight=None, **kwargs):\n",
    "        nn = x.shape[1]\n",
    "        ### gamma\n",
    "        if self.sk_params.get('gamma', 'scale') == 'scale':\n",
    "            gamma = 1 / (nn * x.var())\n",
    "        else:\n",
    "            gamma = self.sk_params['gamma']\n",
    "        ### activation\n",
    "        if self.sk_params.get('activation', 'softmax') == 'softmax':\n",
    "            activation = 'softmax'\n",
    "        else:\n",
    "            activation = self.sk_params['activation']\n",
    "        ### callbacks\n",
    "        if self.sk_params.get('callbacks', None) is None:\n",
    "            early_stopping = EarlyStopping(monitor='loss', patience=5, min_delta=0.000, restore_best_weights=True)\n",
    "            callbacks = [early_stopping]\n",
    "        else:\n",
    "            callbacks = self.sk_params['callbacks']\n",
    "        \n",
    "        num_cls = y.shape[1]\n",
    "        self.set_params(\n",
    "            nn=nn,\n",
    "            num_cls=num_cls,\n",
    "            gamma=gamma,\n",
    "            activation=activation,\n",
    "            callbacks=callbacks\n",
    "        )\n",
    "        return super().fit(x, y, **kwargs)\n",
    "    \n",
    "#     def predict(self, x, **kwargs):\n",
    "#         pred = self.model.predict(x)\n",
    "#         y2_pred = np.argmax(pred, 1)\n",
    "#         return self.classes_[y2_pred]\n",
    "    \n",
    "#     def predict_proba(self, x, **kwargs):\n",
    "#         probs = self.model.predict(x)\n",
    "        \n",
    "#         # check if binary classification\n",
    "#         if probs.shape[1] == 1:\n",
    "#             # first column is probability of class 0 and second is of class 1\n",
    "#             probs = np.hstack([1 - probs, probs])\n",
    "#         return probs\n",
    "\n",
    "class RBFRegressor(KerasRegressor):\n",
    "    \n",
    "    def __init__(self, **sk_params):\n",
    "        super().__init__(make_model, **sk_params)\n",
    "    \n",
    "    def fit(self, x, y, sample_weight=None, **kwargs):\n",
    "        nn = x.shape[1]\n",
    "        ### gamma\n",
    "        if self.sk_params.get('gamma', 'scale') == 'scale':\n",
    "            gamma = 1 / (nn * x.var())\n",
    "        else:\n",
    "            gamma = self.sk_params['gamma']\n",
    "        ### activation\n",
    "        if self.sk_params.get('activation', 'linear') == 'linear':\n",
    "            activation = 'linear'\n",
    "        else:\n",
    "            activation = self.sk_params['activation']\n",
    "        ### loss\n",
    "        if self.sk_params.get('loss', 'mse') == 'mse':\n",
    "            loss = 'mse'\n",
    "        else:\n",
    "            loss = self.sk_params['loss']\n",
    "        ### callbacks\n",
    "        if self.sk_params.get('callbacks', None) is None:\n",
    "            early_stopping = EarlyStopping(monitor='loss', patience=5, min_delta=0.000, restore_best_weights=True)\n",
    "            callbacks = [early_stopping]\n",
    "        else:\n",
    "            callbacks = self.sk_params['callbacks']\n",
    "        \n",
    "        num_cls = 1\n",
    "        self.set_params(\n",
    "            nn=nn,\n",
    "            num_cls=num_cls,\n",
    "            gamma=gamma,\n",
    "            activation=activation,\n",
    "            loss=loss,\n",
    "            callbacks=callbacks\n",
    "        )\n",
    "        return super().fit(x, y, **kwargs)\n",
    "\n",
    "\n",
    "def make_model_gkernel1(nn=3, num_lm=2, random_state=0, init_wgt=None):\n",
    "    inp = Input(shape=(nn,), name='inp')\n",
    "    oup = inp\n",
    "    \n",
    "    if init_wgt is None:\n",
    "        np.random.seed(random_state)\n",
    "        init_wgt = np.random.random_sample((num_lm, nn)) * 2 - 1\n",
    "    #weights2 = [np.log(np.array([1/(2*nn*0.1)]))]\n",
    "    weights2 = [np.log(np.array([1/(2*np.sqrt(nn/6)*2)]))]\n",
    "    oup = GaussianKernel2(init_wgt, weights=weights2, name='gkernel')(oup)\n",
    "#     oup = Dense(NUM_LM, activation='elu')(oup)\n",
    "    \n",
    "    model = Model(inp, oup, name='model_gkernel')\n",
    "    return init_wgt, model\n",
    "\n",
    "def make_model_gkernel2(\n",
    "    nn=4, num_lm=2,\n",
    "    random_state=0, lm=None, gamma=None):\n",
    "    \n",
    "    inp = Input(shape=(nn,), name='inp')\n",
    "    oup = inp\n",
    "    \n",
    "    if lm is None:\n",
    "        rs = np.random.RandomState(random_state)\n",
    "        lm = rs.random_sample((num_lm, nn))\n",
    "    if gamma is None:\n",
    "        gamma = 1/(2*np.sqrt(nn/6)*2)\n",
    "    weights = [np.log(np.array([gamma]))]\n",
    "    oup = GaussianKernel2(lm, weights=weights, name='gkernel')(oup)\n",
    "    \n",
    "    model = Model(inp, oup, name='model_gkernel')\n",
    "    return lm, model\n",
    "\n",
    "def make_model_gkernel3(\n",
    "    nn=4, num_lm=2,\n",
    "    random_state=0, lm=None, gamma=None):\n",
    "\n",
    "    inp = Input(shape=(nn,), name='inp')\n",
    "    oup = inp\n",
    "    \n",
    "    if lm is None:\n",
    "        rs = np.random.RandomState(random_state)\n",
    "        lm = rs.random_sample((num_lm, nn))\n",
    "    if gamma is None:\n",
    "        gamma = 1/(2*np.sqrt(nn/6)*2)\n",
    "    weights = [lm, np.log(np.array([gamma]))]\n",
    "    oup = GaussianKernel3(num_landmark=num_lm, num_feature=nn, weights=weights, name='gkernel')(oup)\n",
    "    \n",
    "    model = Model(inp, oup, name='model_gkernel')\n",
    "    return lm, model\n",
    "\n",
    "def make_model_out(\n",
    "    num_lm=2, num_cls=3,\n",
    "    activation='softmax',\n",
    "    reg_l1=0.0, reg_l2=0.0\n",
    "):\n",
    "    inp = Input(shape=(num_lm,), name='inp')\n",
    "    oup = Dense(num_cls,\n",
    "                activation=activation,\n",
    "                kernel_regularizer=regularizers.l1_l2(reg_l1, reg_l2),\n",
    "                bias_regularizer=regularizers.l1_l2(reg_l1, reg_l2)\n",
    "               )(inp)\n",
    "    \n",
    "    model = Model(inp, oup, name='model_out')\n",
    "    return model\n",
    "\n",
    "def make_model(\n",
    "    make_model_gkernel=make_model_gkernel2,\n",
    "    make_model_out=make_model_out,\n",
    "    reg_l1=0.0, reg_l2=0.0,\n",
    "    nn=2,\n",
    "    num_lm=2, lm=None, gamma=None,\n",
    "    random_state=0,\n",
    "    num_cls=2, activation='softmax',\n",
    "    opt=0.05,\n",
    "    loss='categorical_crossentropy'\n",
    "):\n",
    "    K.clear_session()\n",
    "    \n",
    "    lm, model_gkernel = make_model_gkernel(\n",
    "        nn=nn, num_lm=num_lm,\n",
    "        random_state=random_state, lm=lm, gamma=gamma\n",
    "    )\n",
    "    model_out = make_model_out(\n",
    "        num_lm=num_lm, num_cls=num_cls,\n",
    "        activation=activation,\n",
    "        reg_l1=reg_l1, reg_l2=reg_l2\n",
    "    )\n",
    "    model_gkernel.summary()\n",
    "    model_out.summary()\n",
    "    \n",
    "    inp = model_gkernel.inputs[0]\n",
    "    oup = model_gkernel(inp)\n",
    "    oup = model_out(oup)\n",
    "    \n",
    "    model = Model(inp, oup)\n",
    "    model.summary()\n",
    "    if isinstance(opt, float):\n",
    "        opt = Adam(opt)\n",
    "    model.compile(optimizer=opt, loss=loss, metrics=['accuracy'])\n",
    "    return model"
   ]
  },
  {
   "cell_type": "code",
   "execution_count": 140,
   "metadata": {},
   "outputs": [
    {
     "name": "stdout",
     "output_type": "stream",
     "text": [
      "Tensor(\"inp_2:0\", shape=(?, 4), dtype=float32)\n",
      "_________________________________________________________________\n",
      "Layer (type)                 Output Shape              Param #   \n",
      "=================================================================\n",
      "inp (InputLayer)             (None, 4)                 0         \n",
      "_________________________________________________________________\n",
      "gkernel (GaussianKernel2)    (None, 2)                 1         \n",
      "=================================================================\n",
      "Total params: 1\n",
      "Trainable params: 1\n",
      "Non-trainable params: 0\n",
      "_________________________________________________________________\n"
     ]
    }
   ],
   "source": [
    "lm, model_gkernel = make_model_gkernel2()\n",
    "print(model_gkernel.inputs[0])\n",
    "model_gkernel.summary()"
   ]
  },
  {
   "cell_type": "code",
   "execution_count": 141,
   "metadata": {},
   "outputs": [
    {
     "name": "stdout",
     "output_type": "stream",
     "text": [
      "_________________________________________________________________\n",
      "Layer (type)                 Output Shape              Param #   \n",
      "=================================================================\n",
      "inp (InputLayer)             (None, 2)                 0         \n",
      "_________________________________________________________________\n",
      "dense_2 (Dense)              (None, 3)                 9         \n",
      "=================================================================\n",
      "Total params: 9\n",
      "Trainable params: 9\n",
      "Non-trainable params: 0\n",
      "_________________________________________________________________\n"
     ]
    }
   ],
   "source": [
    "model_out = make_model_out()\n",
    "model_out.summary()"
   ]
  },
  {
   "cell_type": "code",
   "execution_count": 142,
   "metadata": {},
   "outputs": [
    {
     "name": "stdout",
     "output_type": "stream",
     "text": [
      "_________________________________________________________________\n",
      "Layer (type)                 Output Shape              Param #   \n",
      "=================================================================\n",
      "inp (InputLayer)             (None, 4)                 0         \n",
      "_________________________________________________________________\n",
      "gkernel (GaussianKernel2)    (None, 2)                 1         \n",
      "=================================================================\n",
      "Total params: 1\n",
      "Trainable params: 1\n",
      "Non-trainable params: 0\n",
      "_________________________________________________________________\n",
      "_________________________________________________________________\n",
      "Layer (type)                 Output Shape              Param #   \n",
      "=================================================================\n",
      "inp (InputLayer)             (None, 2)                 0         \n",
      "_________________________________________________________________\n",
      "dense_1 (Dense)              (None, 3)                 9         \n",
      "=================================================================\n",
      "Total params: 9\n",
      "Trainable params: 9\n",
      "Non-trainable params: 0\n",
      "_________________________________________________________________\n",
      "_________________________________________________________________\n",
      "Layer (type)                 Output Shape              Param #   \n",
      "=================================================================\n",
      "inp (InputLayer)             (None, 4)                 0         \n",
      "_________________________________________________________________\n",
      "model_gkernel (Model)        (None, 2)                 1         \n",
      "_________________________________________________________________\n",
      "model_out (Model)            (None, 3)                 9         \n",
      "=================================================================\n",
      "Total params: 10\n",
      "Trainable params: 10\n",
      "Non-trainable params: 0\n",
      "_________________________________________________________________\n",
      "_________________________________________________________________\n",
      "Layer (type)                 Output Shape              Param #   \n",
      "=================================================================\n",
      "inp (InputLayer)             (None, 4)                 0         \n",
      "_________________________________________________________________\n",
      "model_gkernel (Model)        (None, 2)                 1         \n",
      "_________________________________________________________________\n",
      "model_out (Model)            (None, 3)                 9         \n",
      "=================================================================\n",
      "Total params: 10\n",
      "Trainable params: 10\n",
      "Non-trainable params: 0\n",
      "_________________________________________________________________\n"
     ]
    }
   ],
   "source": [
    "model = make_model(nn=4, num_cls=3)\n",
    "model.summary()"
   ]
  },
  {
   "cell_type": "code",
   "execution_count": 143,
   "metadata": {},
   "outputs": [
    {
     "name": "stdout",
     "output_type": "stream",
     "text": [
      "Epoch 1/5\n",
      " - 0s - loss: 1.1020 - acc: 0.1867\n",
      "Epoch 2/5\n",
      " - 0s - loss: 1.0989 - acc: 0.3333\n",
      "Epoch 3/5\n",
      " - 0s - loss: 1.1007 - acc: 0.3333\n",
      "Epoch 4/5\n",
      " - 0s - loss: 1.0992 - acc: 0.3333\n",
      "Epoch 5/5\n",
      " - 0s - loss: 1.0971 - acc: 0.3333\n"
     ]
    },
    {
     "data": {
      "text/plain": [
       "<keras.callbacks.History at 0x7f048f720358>"
      ]
     },
     "execution_count": 143,
     "metadata": {},
     "output_type": "execute_result"
    }
   ],
   "source": [
    "model.fit(xtrain, ytrain, epochs=5, verbose=2)"
   ]
  },
  {
   "cell_type": "code",
   "execution_count": 144,
   "metadata": {},
   "outputs": [
    {
     "data": {
      "text/plain": [
       "array([[0.3179267 , 0.3625287 , 0.31954452],\n",
       "       [0.32236826, 0.3587636 , 0.3188681 ],\n",
       "       [0.30777726, 0.37123024, 0.3209926 ],\n",
       "       [0.3130137 , 0.36672813, 0.32025814],\n",
       "       [0.31645915, 0.36378855, 0.31975234]], dtype=float32)"
      ]
     },
     "execution_count": 144,
     "metadata": {},
     "output_type": "execute_result"
    }
   ],
   "source": [
    "pred = model.predict(xtrain)\n",
    "pred[:5]"
   ]
  },
  {
   "cell_type": "code",
   "execution_count": 145,
   "metadata": {},
   "outputs": [
    {
     "data": {
      "text/plain": [
       "array([35, 20, 21])"
      ]
     },
     "execution_count": 145,
     "metadata": {},
     "output_type": "execute_result"
    }
   ],
   "source": [
    "np.random.choice(np.arange(xtrain.shape[0]), 3)"
   ]
  },
  {
   "cell_type": "code",
   "execution_count": 174,
   "metadata": {},
   "outputs": [
    {
     "data": {
      "text/plain": [
       "<__main__.RBFClassifier at 0x7f04784f4278>"
      ]
     },
     "execution_count": 174,
     "metadata": {},
     "output_type": "execute_result"
    }
   ],
   "source": [
    "# clf = RBFClassifier(num_lm=3)\n",
    "# clf = RBFClassifier(\n",
    "#     num_lm=3,\n",
    "#     lm=xtrain[:3]\n",
    "# )\n",
    "# clf = RBFClassifier(\n",
    "#     num_lm=50,\n",
    "#     lm=xtrain[:50],\n",
    "#     make_model_gkernel=make_model_gkernel3\n",
    "# )\n",
    "# early_stopping = EarlyStopping(monitor='loss', patience=5, min_delta=0.000, restore_best_weights=True)\n",
    "# clf = RBFClassifier(\n",
    "#     num_lm=3,\n",
    "#     lm=xtrain[np.random.choice(np.arange(xtrain.shape[0]), 3)],\n",
    "# )\n",
    "# clf = RBFClassifier(\n",
    "#     num_lm=10,\n",
    "#     lm=xtrain[:10],\n",
    "#     callbacks=[early_stopping],\n",
    "#     make_model_gkernel=make_model_gkernel3\n",
    "# )\n",
    "# clf = RBFClassifier(\n",
    "#     num_lm=3,\n",
    "#     lm=xtrain[:3],\n",
    "#     make_model_gkernel=make_model_gkernel3,\n",
    "#     activation='sigmoid',\n",
    "#     loss='binary_crossentropy'\n",
    "# )\n",
    "clf = RBFClassifier(\n",
    "    num_lm=3,\n",
    "    lm=xtrain[np.random.choice(np.arange(xtrain.shape[0]), 3)],\n",
    "    reg_l1=0.08\n",
    ")\n",
    "clf"
   ]
  },
  {
   "cell_type": "code",
   "execution_count": 175,
   "metadata": {},
   "outputs": [
    {
     "name": "stdout",
     "output_type": "stream",
     "text": [
      "_________________________________________________________________\n",
      "Layer (type)                 Output Shape              Param #   \n",
      "=================================================================\n",
      "inp (InputLayer)             (None, 4)                 0         \n",
      "_________________________________________________________________\n",
      "gkernel (GaussianKernel2)    (None, 3)                 1         \n",
      "=================================================================\n",
      "Total params: 1\n",
      "Trainable params: 1\n",
      "Non-trainable params: 0\n",
      "_________________________________________________________________\n",
      "_________________________________________________________________\n",
      "Layer (type)                 Output Shape              Param #   \n",
      "=================================================================\n",
      "inp (InputLayer)             (None, 3)                 0         \n",
      "_________________________________________________________________\n",
      "dense_1 (Dense)              (None, 3)                 12        \n",
      "=================================================================\n",
      "Total params: 12\n",
      "Trainable params: 12\n",
      "Non-trainable params: 0\n",
      "_________________________________________________________________\n",
      "_________________________________________________________________\n",
      "Layer (type)                 Output Shape              Param #   \n",
      "=================================================================\n",
      "inp (InputLayer)             (None, 4)                 0         \n",
      "_________________________________________________________________\n",
      "model_gkernel (Model)        (None, 3)                 1         \n",
      "_________________________________________________________________\n",
      "model_out (Model)            (None, 3)                 12        \n",
      "=================================================================\n",
      "Total params: 13\n",
      "Trainable params: 13\n",
      "Non-trainable params: 0\n",
      "_________________________________________________________________\n",
      "Epoch 1/5000\n",
      " - 1s - loss: 1.5916 - acc: 0.3333\n",
      "Epoch 2/5000\n",
      " - 0s - loss: 1.5270 - acc: 0.3333\n",
      "Epoch 3/5000\n",
      " - 0s - loss: 1.4713 - acc: 0.5600\n",
      "Epoch 4/5000\n",
      " - 0s - loss: 1.4232 - acc: 0.6667\n",
      "Epoch 5/5000\n",
      " - 0s - loss: 1.3816 - acc: 0.6667\n",
      "Epoch 6/5000\n",
      " - 0s - loss: 1.3457 - acc: 0.6667\n",
      "Epoch 7/5000\n",
      " - 0s - loss: 1.3116 - acc: 0.6267\n",
      "Epoch 8/5000\n",
      " - 0s - loss: 1.2771 - acc: 0.5867\n",
      "Epoch 9/5000\n",
      " - 0s - loss: 1.2411 - acc: 0.4800\n",
      "Epoch 10/5000\n",
      " - 0s - loss: 1.2050 - acc: 0.5600\n",
      "Epoch 11/5000\n",
      " - 0s - loss: 1.1749 - acc: 0.7067\n",
      "Epoch 12/5000\n",
      " - 0s - loss: 1.1430 - acc: 0.7867\n",
      "Epoch 13/5000\n",
      " - 0s - loss: 1.1171 - acc: 0.7733\n",
      "Epoch 14/5000\n",
      " - 0s - loss: 1.0940 - acc: 0.7733\n",
      "Epoch 15/5000\n",
      " - 0s - loss: 1.0806 - acc: 0.7467\n",
      "Epoch 16/5000\n",
      " - 0s - loss: 1.0652 - acc: 0.7467\n",
      "Epoch 17/5000\n",
      " - 0s - loss: 1.0522 - acc: 0.7467\n",
      "Epoch 18/5000\n",
      " - 0s - loss: 1.0439 - acc: 0.7467\n",
      "Epoch 19/5000\n",
      " - 0s - loss: 1.0360 - acc: 0.7733\n",
      "Epoch 20/5000\n",
      " - 0s - loss: 1.0322 - acc: 0.8000\n",
      "Epoch 21/5000\n",
      " - 0s - loss: 1.0331 - acc: 0.8133\n",
      "Epoch 22/5000\n",
      " - 0s - loss: 1.0337 - acc: 0.8400\n",
      "Epoch 23/5000\n",
      " - 0s - loss: 1.0369 - acc: 0.8933\n",
      "Epoch 24/5000\n",
      " - 0s - loss: 1.0386 - acc: 0.8933\n",
      "Epoch 25/5000\n",
      " - 0s - loss: 1.0398 - acc: 0.8933\n",
      "CPU times: user 896 ms, sys: 13.8 ms, total: 910 ms\n",
      "Wall time: 906 ms\n"
     ]
    },
    {
     "data": {
      "text/plain": [
       "<keras.callbacks.History at 0x7f047741a7b8>"
      ]
     },
     "execution_count": 175,
     "metadata": {},
     "output_type": "execute_result"
    }
   ],
   "source": [
    "%%time\n",
    "clf.fit(xtrain, ytrain, epochs=5000, batch_size=256, verbose=2)"
   ]
  },
  {
   "cell_type": "code",
   "execution_count": 173,
   "metadata": {},
   "outputs": [
    {
     "data": {
      "text/plain": [
       "{'activation': 'softmax',\n",
       " 'callbacks': [<keras.callbacks.EarlyStopping at 0x7f0481576f28>],\n",
       " 'gamma': 0.06392857199469391,\n",
       " 'lm': array([[5.8, 2.7, 4.1, 1. ],\n",
       "        [7.2, 3. , 5.8, 1.6],\n",
       "        [5.4, 3.4, 1.5, 0.4]], dtype=float32),\n",
       " 'nn': 4,\n",
       " 'num_cls': 3,\n",
       " 'num_lm': 3,\n",
       " 'reg_l1': 0.05}"
      ]
     },
     "execution_count": 173,
     "metadata": {},
     "output_type": "execute_result"
    }
   ],
   "source": [
    "clf.sk_params"
   ]
  },
  {
   "cell_type": "code",
   "execution_count": 149,
   "metadata": {},
   "outputs": [
    {
     "data": {
      "text/plain": [
       "{'activation': 'softmax',\n",
       " 'gamma': 0.06392857199469391,\n",
       " 'lm': array([[5.1, 3.7, 1.5, 0.4],\n",
       "        [7.2, 3.6, 6.1, 2.5],\n",
       "        [5. , 3.3, 1.4, 0.2]], dtype=float32),\n",
       " 'nn': 4,\n",
       " 'num_cls': 3,\n",
       " 'num_lm': 3}"
      ]
     },
     "execution_count": 149,
     "metadata": {},
     "output_type": "execute_result"
    }
   ],
   "source": [
    "clf.filter_sk_params(make_model)"
   ]
  },
  {
   "cell_type": "code",
   "execution_count": 150,
   "metadata": {},
   "outputs": [
    {
     "data": {
      "text/plain": [
       "{'build_fn': <function __main__.make_model>,\n",
       " 'classes_': array([0, 1, 2]),\n",
       " 'model': <keras.engine.training.Model at 0x7f048956cb00>,\n",
       " 'n_classes_': 3,\n",
       " 'sk_params': {'activation': 'softmax',\n",
       "  'callbacks': [<keras.callbacks.EarlyStopping at 0x7f048a607198>],\n",
       "  'gamma': 0.06392857199469391,\n",
       "  'lm': array([[5.1, 3.7, 1.5, 0.4],\n",
       "         [7.2, 3.6, 6.1, 2.5],\n",
       "         [5. , 3.3, 1.4, 0.2]], dtype=float32),\n",
       "  'nn': 4,\n",
       "  'num_cls': 3,\n",
       "  'num_lm': 3}}"
      ]
     },
     "execution_count": 150,
     "metadata": {},
     "output_type": "execute_result"
    }
   ],
   "source": [
    "clf.__dict__"
   ]
  },
  {
   "cell_type": "code",
   "execution_count": 151,
   "metadata": {},
   "outputs": [
    {
     "data": {
      "text/plain": [
       "array([0, 0, 0, 0, 0, 0, 0, 0, 0, 0, 0, 0, 0, 0, 0, 0, 0, 0, 0, 0, 0, 0,\n",
       "       0, 0, 0, 1, 1, 1, 1, 1, 1, 1, 1, 1, 1, 1, 1, 1, 2, 1, 1, 2, 1, 1,\n",
       "       1, 1, 1, 1, 1, 1, 2, 2, 2, 2, 2, 2, 2, 2, 2, 2, 2, 2, 2, 2, 2, 2,\n",
       "       2, 2, 2, 2, 2, 2, 2, 2, 2])"
      ]
     },
     "execution_count": 151,
     "metadata": {},
     "output_type": "execute_result"
    }
   ],
   "source": [
    "clf.predict(xtrain)"
   ]
  },
  {
   "cell_type": "code",
   "execution_count": 152,
   "metadata": {},
   "outputs": [
    {
     "data": {
      "text/plain": [
       "array([[9.9748862e-01, 2.5113549e-03, 1.5167067e-15],\n",
       "       [9.9699736e-01, 3.0027183e-03, 4.2168548e-15],\n",
       "       [9.9743623e-01, 2.5637774e-03, 1.5508172e-15],\n",
       "       [9.9684578e-01, 3.1541726e-03, 3.7681895e-15],\n",
       "       [9.9330914e-01, 6.6908351e-03, 5.7260328e-14]], dtype=float32)"
      ]
     },
     "execution_count": 152,
     "metadata": {},
     "output_type": "execute_result"
    }
   ],
   "source": [
    "clf.predict_proba(xtest)[:5]"
   ]
  },
  {
   "cell_type": "code",
   "execution_count": 153,
   "metadata": {},
   "outputs": [
    {
     "name": "stdout",
     "output_type": "stream",
     "text": [
      "75/75 [==============================] - 0s 1ms/step\n"
     ]
    },
    {
     "data": {
      "text/plain": [
       "0.9733333333333334"
      ]
     },
     "execution_count": 153,
     "metadata": {},
     "output_type": "execute_result"
    }
   ],
   "source": [
    "clf.score(xtrain, ytrain)"
   ]
  },
  {
   "cell_type": "code",
   "execution_count": 154,
   "metadata": {},
   "outputs": [
    {
     "name": "stdout",
     "output_type": "stream",
     "text": [
      "75/75 [==============================] - 0s 43us/step\n"
     ]
    },
    {
     "data": {
      "text/plain": [
       "0.9066666706403097"
      ]
     },
     "execution_count": 154,
     "metadata": {},
     "output_type": "execute_result"
    }
   ],
   "source": [
    "clf.score(xtest, yans)"
   ]
  },
  {
   "cell_type": "code",
   "execution_count": null,
   "metadata": {
    "collapsed": true
   },
   "outputs": [],
   "source": []
  },
  {
   "cell_type": "code",
   "execution_count": 155,
   "metadata": {
    "collapsed": true
   },
   "outputs": [],
   "source": [
    "est = RBFRegressor(\n",
    "    num_lm=3,\n",
    "    lm=xtrain[np.random.choice(np.arange(xtrain.shape[0]), 3)],\n",
    "    make_model_gkernel=make_model_gkernel3\n",
    ")\n",
    "# est = RBFRegressor(\n",
    "#     num_lm=10,\n",
    "#     lm=xtrain[:10],\n",
    "#     make_model_gkernel=make_model_gkernel3,\n",
    "#     loss='mae'\n",
    "# )"
   ]
  },
  {
   "cell_type": "code",
   "execution_count": 156,
   "metadata": {},
   "outputs": [
    {
     "name": "stdout",
     "output_type": "stream",
     "text": [
      "_________________________________________________________________\n",
      "Layer (type)                 Output Shape              Param #   \n",
      "=================================================================\n",
      "inp (InputLayer)             (None, 4)                 0         \n",
      "_________________________________________________________________\n",
      "gkernel (GaussianKernel3)    (None, 3)                 13        \n",
      "=================================================================\n",
      "Total params: 13\n",
      "Trainable params: 13\n",
      "Non-trainable params: 0\n",
      "_________________________________________________________________\n",
      "_________________________________________________________________\n",
      "Layer (type)                 Output Shape              Param #   \n",
      "=================================================================\n",
      "inp (InputLayer)             (None, 3)                 0         \n",
      "_________________________________________________________________\n",
      "dense_1 (Dense)              (None, 1)                 4         \n",
      "=================================================================\n",
      "Total params: 4\n",
      "Trainable params: 4\n",
      "Non-trainable params: 0\n",
      "_________________________________________________________________\n",
      "_________________________________________________________________\n",
      "Layer (type)                 Output Shape              Param #   \n",
      "=================================================================\n",
      "inp (InputLayer)             (None, 4)                 0         \n",
      "_________________________________________________________________\n",
      "model_gkernel (Model)        (None, 3)                 13        \n",
      "_________________________________________________________________\n",
      "model_out (Model)            (None, 1)                 4         \n",
      "=================================================================\n",
      "Total params: 17\n",
      "Trainable params: 17\n",
      "Non-trainable params: 0\n",
      "_________________________________________________________________\n",
      "CPU times: user 6.31 s, sys: 205 ms, total: 6.52 s\n",
      "Wall time: 5.48 s\n"
     ]
    },
    {
     "data": {
      "text/plain": [
       "<keras.callbacks.History at 0x7f048818dd68>"
      ]
     },
     "execution_count": 156,
     "metadata": {},
     "output_type": "execute_result"
    }
   ],
   "source": [
    "%%time\n",
    "est.fit(xtrain, np.argmax(ytrain, axis=1), epochs=5000, batch_size=256, verbose=0)"
   ]
  },
  {
   "cell_type": "code",
   "execution_count": 157,
   "metadata": {},
   "outputs": [
    {
     "name": "stdout",
     "output_type": "stream",
     "text": [
      "_________________________________________________________________\n",
      "Layer (type)                 Output Shape              Param #   \n",
      "=================================================================\n",
      "inp (InputLayer)             (None, 4)                 0         \n",
      "_________________________________________________________________\n",
      "model_gkernel (Model)        (None, 3)                 13        \n",
      "_________________________________________________________________\n",
      "model_out (Model)            (None, 1)                 4         \n",
      "=================================================================\n",
      "Total params: 17\n",
      "Trainable params: 17\n",
      "Non-trainable params: 0\n",
      "_________________________________________________________________\n"
     ]
    }
   ],
   "source": [
    "est.model.summary()"
   ]
  },
  {
   "cell_type": "code",
   "execution_count": 158,
   "metadata": {},
   "outputs": [
    {
     "data": {
      "text/plain": [
       "array([ 4.1015789e-02,  4.5636371e-02, -6.1730340e-02, -1.5157416e-02,\n",
       "        6.3845068e-03, -7.8132600e-03,  6.3599020e-02, -6.8096444e-02,\n",
       "       -7.6221079e-03, -3.8145751e-02, -1.4981389e-02,  4.3793812e-02,\n",
       "        2.8158829e-02, -3.6716923e-02,  2.2999361e-02, -3.2580644e-03,\n",
       "       -7.2024509e-02,  2.0808533e-02, -3.3044130e-02, -2.1510810e-02,\n",
       "        1.7615731e-01,  4.6843663e-02,  6.6694632e-02,  3.6528692e-02,\n",
       "        9.7051263e-04,  1.0942169e+00,  1.2627946e+00,  1.1669037e+00,\n",
       "        8.2217121e-01,  1.1424670e+00,  1.0976777e+00,  1.2633791e+00,\n",
       "        9.6326977e-01,  7.8316903e-01,  9.3389297e-01,  9.1438729e-01,\n",
       "        1.1224124e+00,  1.0122391e+00,  1.5418468e+00,  6.6225457e-01,\n",
       "        8.4935009e-01,  1.6902976e+00,  1.1091480e+00,  1.2275176e+00,\n",
       "        1.1631700e+00,  1.1753547e+00,  8.5892248e-01,  8.6697018e-01,\n",
       "        9.8284751e-01,  1.0164098e+00,  1.9240260e+00,  1.9707254e+00,\n",
       "        2.1137049e+00,  2.0558376e+00,  2.1426411e+00,  1.9520097e+00,\n",
       "        2.0383248e+00,  1.9986374e+00,  2.0014009e+00,  1.7140772e+00,\n",
       "        1.8765769e+00,  1.7230122e+00,  1.9750686e+00,  1.6350895e+00,\n",
       "        1.7905176e+00,  1.8121600e+00,  1.5527468e+00,  2.0045643e+00,\n",
       "        1.8738954e+00,  1.9231331e+00,  1.8306270e+00,  2.2224197e+00,\n",
       "        1.9653461e+00,  1.8701963e+00,  1.7303773e+00], dtype=float32)"
      ]
     },
     "execution_count": 158,
     "metadata": {},
     "output_type": "execute_result"
    }
   ],
   "source": [
    "est.predict(xtrain)"
   ]
  },
  {
   "cell_type": "code",
   "execution_count": 159,
   "metadata": {},
   "outputs": [
    {
     "data": {
      "text/plain": [
       "{'build_fn': <function __main__.make_model>,\n",
       " 'model': <keras.engine.training.Model at 0x7f0488175cc0>,\n",
       " 'sk_params': {'activation': 'linear',\n",
       "  'callbacks': [<keras.callbacks.EarlyStopping at 0x7f048f72bd68>],\n",
       "  'gamma': 0.06392857199469391,\n",
       "  'lm': array([[4.5, 2.3, 1.3, 0.3],\n",
       "         [5.7, 3. , 4.2, 1.2],\n",
       "         [6.1, 3. , 4.9, 1.8]], dtype=float32),\n",
       "  'loss': 'mse',\n",
       "  'make_model_gkernel': <function __main__.make_model_gkernel3>,\n",
       "  'nn': 4,\n",
       "  'num_cls': 1,\n",
       "  'num_lm': 3}}"
      ]
     },
     "execution_count": 159,
     "metadata": {},
     "output_type": "execute_result"
    }
   ],
   "source": [
    "est.__dict__"
   ]
  },
  {
   "cell_type": "code",
   "execution_count": 160,
   "metadata": {},
   "outputs": [
    {
     "name": "stdout",
     "output_type": "stream",
     "text": [
      "75/75 [==============================] - 0s 1ms/step\n"
     ]
    },
    {
     "data": {
      "text/plain": [
       "-0.03028330460190773"
      ]
     },
     "execution_count": 160,
     "metadata": {},
     "output_type": "execute_result"
    }
   ],
   "source": [
    "est.score(xtrain, np.argmax(ytrain, axis=1))"
   ]
  },
  {
   "cell_type": "code",
   "execution_count": 161,
   "metadata": {},
   "outputs": [
    {
     "name": "stdout",
     "output_type": "stream",
     "text": [
      "75/75 [==============================] - 0s 40us/step\n"
     ]
    },
    {
     "data": {
      "text/plain": [
       "-0.03228535955150922"
      ]
     },
     "execution_count": 161,
     "metadata": {},
     "output_type": "execute_result"
    }
   ],
   "source": [
    "est.score(xtest, np.argmax(yans, axis=1))"
   ]
  },
  {
   "cell_type": "code",
   "execution_count": null,
   "metadata": {
    "collapsed": true
   },
   "outputs": [],
   "source": []
  }
 ],
 "metadata": {
  "kernelspec": {
   "display_name": "Python 3",
   "language": "python",
   "name": "python3"
  },
  "language_info": {
   "codemirror_mode": {
    "name": "ipython",
    "version": 3
   },
   "file_extension": ".py",
   "mimetype": "text/x-python",
   "name": "python",
   "nbconvert_exporter": "python",
   "pygments_lexer": "ipython3",
   "version": "3.6.8"
  }
 },
 "nbformat": 4,
 "nbformat_minor": 2
}
