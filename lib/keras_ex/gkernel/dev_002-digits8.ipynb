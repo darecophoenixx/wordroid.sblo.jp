{
 "cells": [
  {
   "cell_type": "code",
   "execution_count": 1,
   "metadata": {},
   "outputs": [
    {
     "name": "stderr",
     "output_type": "stream",
     "text": [
      "Using TensorFlow backend.\n"
     ]
    }
   ],
   "source": [
    "%matplotlib inline\n",
    "import os, sys\n",
    "\n",
    "import numpy as np\n",
    "import matplotlib.pyplot as plt\n",
    "from sklearn import datasets, linear_model\n",
    "from sklearn.metrics import f1_score, classification_report, confusion_matrix, make_scorer\n",
    "from sklearn.preprocessing import OneHotEncoder\n",
    "import keras\n",
    "from keras.models import Sequential\n",
    "from keras.layers import Input, Dense\n",
    "from keras.models import Model\n",
    "from keras.optimizers import SGD\n",
    "from keras import regularizers\n",
    "from keras.wrappers.scikit_learn import KerasClassifier, KerasRegressor\n",
    "from keras import backend as K\n",
    "import tensorflow as tf"
   ]
  },
  {
   "cell_type": "code",
   "execution_count": 2,
   "metadata": {
    "collapsed": true
   },
   "outputs": [],
   "source": [
    "sys.path.append('/home/admin/github/wordroid.sblo.jp/lib/keras_ex')\n",
    "#from gkernel import GaussianKernel, GaussianKernel2, GaussianKernel3\n",
    "from gkernel.sklearn import RBFClassifier"
   ]
  },
  {
   "cell_type": "code",
   "execution_count": 3,
   "metadata": {},
   "outputs": [
    {
     "data": {
      "text/plain": [
       "((1797, 64), 0.0, 1.0)"
      ]
     },
     "execution_count": 3,
     "metadata": {},
     "output_type": "execute_result"
    }
   ],
   "source": [
    "from sklearn.datasets import load_digits\n",
    "digits = load_digits()\n",
    "X, y = digits.data, digits.target\n",
    "X = X / 16\n",
    "X.shape, X.min(), X.max()"
   ]
  },
  {
   "cell_type": "code",
   "execution_count": 4,
   "metadata": {},
   "outputs": [
    {
     "data": {
      "text/plain": [
       "(1797,)"
      ]
     },
     "execution_count": 4,
     "metadata": {},
     "output_type": "execute_result"
    }
   ],
   "source": [
    "y.shape"
   ]
  },
  {
   "cell_type": "code",
   "execution_count": 5,
   "metadata": {
    "collapsed": true
   },
   "outputs": [],
   "source": [
    "N = y.shape[0]\n",
    "y2 = keras.utils.to_categorical(y, num_classes=10)\n",
    "y2.shape\n",
    "index = np.arange(N)\n",
    "xtrain = X[index[index % 2 != 0],:]\n",
    "ytrain = y2[index[index % 2 != 0]]\n",
    "xtest = X[index[index % 2 == 0],:]\n",
    "yans = y2[index[index % 2 == 0]]"
   ]
  },
  {
   "cell_type": "code",
   "execution_count": null,
   "metadata": {
    "collapsed": true
   },
   "outputs": [],
   "source": []
  },
  {
   "cell_type": "code",
   "execution_count": 53,
   "metadata": {
    "collapsed": true
   },
   "outputs": [],
   "source": [
    "from sklearn.model_selection import StratifiedShuffleSplit, GridSearchCV, validation_curve\n",
    "from sklearn.feature_selection import RFECV\n",
    "from sklearn.linear_model import LogisticRegression, Lasso\n",
    "import pandas as pd\n",
    "from sklearn.metrics import mean_squared_error, mean_absolute_error, roc_auc_score, r2_score, make_scorer\n",
    "from sklearn.metrics.pairwise import cosine_similarity, euclidean_distances\n",
    "import joblib\n",
    "\n",
    "from lightgbm import LGBMClassifier"
   ]
  },
  {
   "cell_type": "code",
   "execution_count": 51,
   "metadata": {
    "collapsed": true
   },
   "outputs": [],
   "source": [
    "import warnings\n",
    "warnings.filterwarnings('ignore')"
   ]
  },
  {
   "cell_type": "code",
   "execution_count": 50,
   "metadata": {
    "collapsed": true
   },
   "outputs": [],
   "source": [
    "def f1_scorer(estimator, X, y):\n",
    "    pred = estimator.predict(X)\n",
    "    s = f1_score(y, pred, average='macro')\n",
    "    return s"
   ]
  },
  {
   "cell_type": "markdown",
   "metadata": {},
   "source": [
    "## ベンチマーク LogisticRegression"
   ]
  },
  {
   "cell_type": "code",
   "execution_count": 48,
   "metadata": {},
   "outputs": [
    {
     "data": {
      "text/plain": [
       "3"
      ]
     },
     "execution_count": 48,
     "metadata": {},
     "output_type": "execute_result"
    }
   ],
   "source": [
    "cv_splitter = StratifiedShuffleSplit(n_splits=3, test_size=0.35, random_state=0)\n",
    "cv_splitter.get_n_splits(xtrain, ytrain)"
   ]
  },
  {
   "cell_type": "code",
   "execution_count": 49,
   "metadata": {},
   "outputs": [
    {
     "data": {
      "text/plain": [
       "array([1.e-03, 1.e-02, 1.e-01, 1.e+00, 1.e+01, 1.e+02, 1.e+03])"
      ]
     },
     "execution_count": 49,
     "metadata": {},
     "output_type": "execute_result"
    }
   ],
   "source": [
    "param_name = \"C\"\n",
    "param_range = np.logspace(-3, 3, 7)\n",
    "param_range"
   ]
  },
  {
   "cell_type": "code",
   "execution_count": 52,
   "metadata": {},
   "outputs": [
    {
     "name": "stderr",
     "output_type": "stream",
     "text": [
      "[Parallel(n_jobs=1)]: Using backend SequentialBackend with 1 concurrent workers.\n",
      "[Parallel(n_jobs=1)]: Done   1 out of   1 | elapsed:    0.0s remaining:    0.0s\n"
     ]
    },
    {
     "name": "stdout",
     "output_type": "stream",
     "text": [
      "[CV] C=0.001 .........................................................\n",
      "[CV] .......................................... C=0.001, total=   0.0s\n",
      "[CV] C=0.01 ..........................................................\n",
      "[CV] ........................................... C=0.01, total=   0.0s\n",
      "[CV] C=0.1 ...........................................................\n",
      "[CV] ............................................ C=0.1, total=   0.3s\n",
      "[CV] C=1.0 ...........................................................\n",
      "[CV] ............................................ C=1.0, total=   0.9s\n",
      "[CV] C=10.0 ..........................................................\n",
      "[CV] ........................................... C=10.0, total=   3.5s\n",
      "[CV] C=100.0 .........................................................\n",
      "[CV] .......................................... C=100.0, total=   4.0s\n",
      "[CV] C=1000.0 ........................................................\n",
      "[CV] ......................................... C=1000.0, total=   4.4s\n",
      "[CV] C=0.001 .........................................................\n",
      "[CV] .......................................... C=0.001, total=   0.0s\n",
      "[CV] C=0.01 ..........................................................\n",
      "[CV] ........................................... C=0.01, total=   0.0s\n",
      "[CV] C=0.1 ...........................................................\n",
      "[CV] ............................................ C=0.1, total=   0.3s\n",
      "[CV] C=1.0 ...........................................................\n",
      "[CV] ............................................ C=1.0, total=   1.0s\n",
      "[CV] C=10.0 ..........................................................\n",
      "[CV] ........................................... C=10.0, total=   4.6s\n",
      "[CV] C=100.0 .........................................................\n",
      "[CV] .......................................... C=100.0, total=   6.0s\n",
      "[CV] C=1000.0 ........................................................\n",
      "[CV] ......................................... C=1000.0, total=   4.7s\n",
      "[CV] C=0.001 .........................................................\n",
      "[CV] .......................................... C=0.001, total=   0.0s\n",
      "[CV] C=0.01 ..........................................................\n",
      "[CV] ........................................... C=0.01, total=   0.0s\n",
      "[CV] C=0.1 ...........................................................\n",
      "[CV] ............................................ C=0.1, total=   0.1s\n",
      "[CV] C=1.0 ...........................................................\n",
      "[CV] ............................................ C=1.0, total=   1.2s\n",
      "[CV] C=10.0 ..........................................................\n",
      "[CV] ........................................... C=10.0, total=   3.3s\n",
      "[CV] C=100.0 .........................................................\n",
      "[CV] .......................................... C=100.0, total=   5.2s\n",
      "[CV] C=1000.0 ........................................................\n",
      "[CV] ......................................... C=1000.0, total=   4.5s\n",
      "CPU times: user 44.4 s, sys: 0 ns, total: 44.4 s\n",
      "Wall time: 44.3 s\n"
     ]
    },
    {
     "name": "stderr",
     "output_type": "stream",
     "text": [
      "[Parallel(n_jobs=1)]: Done  21 out of  21 | elapsed:   44.3s finished\n"
     ]
    }
   ],
   "source": [
    "%%time\n",
    "\n",
    "train_scores, test_scores = validation_curve(\n",
    "    LogisticRegression(penalty='l1', multi_class='multinomial', solver='saga', max_iter=10000),\n",
    "    xtrain, np.argmax(ytrain, axis=1),\n",
    "    param_name=param_name, param_range=param_range,\n",
    "    cv=cv_splitter, n_jobs=1, verbose=2, scoring=f1_scorer)"
   ]
  },
  {
   "cell_type": "code",
   "execution_count": 54,
   "metadata": {},
   "outputs": [
    {
     "data": {
      "text/plain": [
       "array([[1.00000000e-03, 1.84742147e-02, 1.86177084e-02],\n",
       "       [1.00000000e-02, 1.82850272e-02, 1.84427988e-02],\n",
       "       [1.00000000e-01, 8.83084412e-01, 8.17783004e-01],\n",
       "       [1.00000000e+00, 9.85584329e-01, 9.30447501e-01],\n",
       "       [1.00000000e+01, 1.00000000e+00, 9.42338391e-01],\n",
       "       [1.00000000e+02, 1.00000000e+00, 9.40013455e-01],\n",
       "       [1.00000000e+03, 1.00000000e+00, 9.42379012e-01]])"
      ]
     },
     "execution_count": 54,
     "metadata": {},
     "output_type": "execute_result"
    }
   ],
   "source": [
    "train_scores_mean = np.mean(train_scores, axis=1)\n",
    "train_scores_std = np.std(train_scores, axis=1)\n",
    "test_scores_mean = np.mean(test_scores, axis=1)\n",
    "test_scores_std = np.std(test_scores, axis=1)\n",
    "np.c_[param_range, train_scores_mean, test_scores_mean]"
   ]
  },
  {
   "cell_type": "code",
   "execution_count": 55,
   "metadata": {},
   "outputs": [
    {
     "data": {
      "text/plain": [
       "<matplotlib.legend.Legend at 0x7ff4a46d9d68>"
      ]
     },
     "execution_count": 55,
     "metadata": {},
     "output_type": "execute_result"
    },
    {
     "data": {
      "image/png": "[encoded data removed]",
      "text/plain": [
       "<matplotlib.figure.Figure at 0x7ff48036ee80>"
      ]
     },
     "metadata": {},
     "output_type": "display_data"
    }
   ],
   "source": [
    "plt.title(\"Validation Curve\")\n",
    "plt.xlabel(\"param\")\n",
    "plt.ylabel(\"Score\")\n",
    "plt.ylim(0.0, 1.1)\n",
    "lw = 2\n",
    "plt.semilogx(param_range, train_scores_mean, label=\"Training score\",\n",
    "             color=\"darkorange\", lw=lw)\n",
    "plt.fill_between(param_range, train_scores_mean - train_scores_std,\n",
    "                 train_scores_mean + train_scores_std, alpha=0.2,\n",
    "                 color=\"darkorange\", lw=lw)\n",
    "plt.semilogx(param_range, test_scores_mean, label=\"Cross-validation score\",\n",
    "             color=\"navy\", lw=lw)\n",
    "plt.fill_between(param_range, test_scores_mean - test_scores_std,\n",
    "                 test_scores_mean + test_scores_std, alpha=0.2,\n",
    "                 color=\"navy\", lw=lw)\n",
    "plt.legend(loc=\"best\")"
   ]
  },
  {
   "cell_type": "code",
   "execution_count": 57,
   "metadata": {},
   "outputs": [
    {
     "data": {
      "text/plain": [
       "LogisticRegression(C=1000, class_weight=None, dual=False, fit_intercept=True,\n",
       "          intercept_scaling=1, max_iter=10000, multi_class='multinomial',\n",
       "          n_jobs=None, penalty='l1', random_state=None, solver='saga',\n",
       "          tol=0.0001, verbose=0, warm_start=False)"
      ]
     },
     "execution_count": 57,
     "metadata": {},
     "output_type": "execute_result"
    }
   ],
   "source": [
    "'''test data'''\n",
    "est = LogisticRegression(penalty='l1', multi_class='multinomial', solver='saga', max_iter=10000, C=1000)\n",
    "est.fit(xtrain, np.argmax(ytrain, axis=1))"
   ]
  },
  {
   "cell_type": "code",
   "execution_count": 59,
   "metadata": {},
   "outputs": [],
   "source": [
    "pred = est.predict(xtrain)"
   ]
  },
  {
   "cell_type": "code",
   "execution_count": 60,
   "metadata": {},
   "outputs": [
    {
     "name": "stdout",
     "output_type": "stream",
     "text": [
      "F1_SCORE : 1.0\n",
      "              precision    recall  f1-score   support\n",
      "\n",
      "           0       1.00      1.00      1.00        88\n",
      "           1       1.00      1.00      1.00        89\n",
      "           2       1.00      1.00      1.00        91\n",
      "           3       1.00      1.00      1.00        93\n",
      "           4       1.00      1.00      1.00        88\n",
      "           5       1.00      1.00      1.00        91\n",
      "           6       1.00      1.00      1.00        90\n",
      "           7       1.00      1.00      1.00        91\n",
      "           8       1.00      1.00      1.00        86\n",
      "           9       1.00      1.00      1.00        91\n",
      "\n",
      "   micro avg       1.00      1.00      1.00       898\n",
      "   macro avg       1.00      1.00      1.00       898\n",
      "weighted avg       1.00      1.00      1.00       898\n",
      "\n",
      "[[88  0  0  0  0  0  0  0  0  0]\n",
      " [ 0 89  0  0  0  0  0  0  0  0]\n",
      " [ 0  0 91  0  0  0  0  0  0  0]\n",
      " [ 0  0  0 93  0  0  0  0  0  0]\n",
      " [ 0  0  0  0 88  0  0  0  0  0]\n",
      " [ 0  0  0  0  0 91  0  0  0  0]\n",
      " [ 0  0  0  0  0  0 90  0  0  0]\n",
      " [ 0  0  0  0  0  0  0 91  0  0]\n",
      " [ 0  0  0  0  0  0  0  0 86  0]\n",
      " [ 0  0  0  0  0  0  0  0  0 91]]\n"
     ]
    }
   ],
   "source": [
    "print('F1_SCORE :', f1_score(np.argmax(ytrain, axis=1), pred, average='macro'))\n",
    "print(classification_report(np.argmax(ytrain, axis=1), pred))\n",
    "print(confusion_matrix(np.argmax(ytrain, axis=1), pred))"
   ]
  },
  {
   "cell_type": "code",
   "execution_count": 61,
   "metadata": {
    "collapsed": true
   },
   "outputs": [],
   "source": [
    "pred_test = est.predict(xtest)"
   ]
  },
  {
   "cell_type": "code",
   "execution_count": 62,
   "metadata": {},
   "outputs": [
    {
     "name": "stdout",
     "output_type": "stream",
     "text": [
      "F1_SCORE : 0.9633109064024975\n",
      "              precision    recall  f1-score   support\n",
      "\n",
      "           0       1.00      1.00      1.00        90\n",
      "           1       0.94      0.91      0.93        93\n",
      "           2       0.98      1.00      0.99        86\n",
      "           3       0.97      0.99      0.98        90\n",
      "           4       1.00      0.97      0.98        93\n",
      "           5       0.94      0.98      0.96        91\n",
      "           6       1.00      0.98      0.99        91\n",
      "           7       0.97      0.98      0.97        88\n",
      "           8       0.88      0.91      0.89        88\n",
      "           9       0.96      0.92      0.94        89\n",
      "\n",
      "   micro avg       0.96      0.96      0.96       899\n",
      "   macro avg       0.96      0.96      0.96       899\n",
      "weighted avg       0.96      0.96      0.96       899\n",
      "\n",
      "[[90  0  0  0  0  0  0  0  0  0]\n",
      " [ 0 85  2  1  0  1  0  0  4  0]\n",
      " [ 0  0 86  0  0  0  0  0  0  0]\n",
      " [ 0  0  0 89  0  0  0  0  1  0]\n",
      " [ 0  0  0  0 90  0  0  1  0  2]\n",
      " [ 0  0  0  0  0 89  0  1  0  1]\n",
      " [ 0  0  0  0  0  1 89  0  1  0]\n",
      " [ 0  0  0  0  0  1  0 86  1  0]\n",
      " [ 0  5  0  1  0  1  0  1 80  0]\n",
      " [ 0  0  0  1  0  2  0  0  4 82]]\n"
     ]
    }
   ],
   "source": [
    "print('F1_SCORE :', f1_score(np.argmax(yans, axis=1), pred_test, average='macro'))\n",
    "print(classification_report(np.argmax(yans, axis=1), pred_test))\n",
    "print(confusion_matrix(np.argmax(yans, axis=1), pred_test))"
   ]
  },
  {
   "cell_type": "code",
   "execution_count": null,
   "metadata": {
    "collapsed": true
   },
   "outputs": [],
   "source": []
  },
  {
   "cell_type": "markdown",
   "metadata": {},
   "source": [
    "## ベンチマーク LGBMClassifier"
   ]
  },
  {
   "cell_type": "code",
   "execution_count": 63,
   "metadata": {},
   "outputs": [
    {
     "data": {
      "text/plain": [
       "3"
      ]
     },
     "execution_count": 63,
     "metadata": {},
     "output_type": "execute_result"
    }
   ],
   "source": [
    "cv_splitter = StratifiedShuffleSplit(n_splits=3, test_size=0.35, random_state=0)\n",
    "cv_splitter.get_n_splits(xtrain, ytrain)"
   ]
  },
  {
   "cell_type": "code",
   "execution_count": 64,
   "metadata": {},
   "outputs": [
    {
     "data": {
      "text/plain": [
       "array([1.e-03, 1.e-02, 1.e-01, 1.e+00, 1.e+01, 1.e+02, 1.e+03])"
      ]
     },
     "execution_count": 64,
     "metadata": {},
     "output_type": "execute_result"
    }
   ],
   "source": [
    "param_name = \"reg_alpha\"\n",
    "param_range = np.logspace(-3, 3, 7)\n",
    "param_range"
   ]
  },
  {
   "cell_type": "code",
   "execution_count": 73,
   "metadata": {},
   "outputs": [
    {
     "name": "stderr",
     "output_type": "stream",
     "text": [
      "[Parallel(n_jobs=1)]: Using backend SequentialBackend with 1 concurrent workers.\n",
      "[Parallel(n_jobs=1)]: Done   1 out of   1 | elapsed:    0.0s remaining:    0.0s\n"
     ]
    },
    {
     "name": "stdout",
     "output_type": "stream",
     "text": [
      "[CV] reg_alpha=0.001 .................................................\n",
      "[CV] .................................. reg_alpha=0.001, total=   0.0s\n",
      "[CV] reg_alpha=0.01 ..................................................\n",
      "[CV] ................................... reg_alpha=0.01, total=   0.0s\n",
      "[CV] reg_alpha=0.1 ...................................................\n",
      "[CV] .................................... reg_alpha=0.1, total=   0.0s\n",
      "[CV] reg_alpha=1.0 ...................................................\n",
      "[CV] .................................... reg_alpha=1.0, total=   0.0s\n",
      "[CV] reg_alpha=10.0 ..................................................\n",
      "[CV] ................................... reg_alpha=10.0, total=   0.0s\n",
      "[CV] reg_alpha=100.0 .................................................\n",
      "[CV] .................................. reg_alpha=100.0, total=   0.0s\n",
      "[CV] reg_alpha=1000.0 ................................................\n",
      "[CV] ................................. reg_alpha=1000.0, total=   0.0s\n",
      "[CV] reg_alpha=0.001 .................................................\n",
      "[CV] .................................. reg_alpha=0.001, total=   0.0s\n",
      "[CV] reg_alpha=0.01 ..................................................\n",
      "[CV] ................................... reg_alpha=0.01, total=   0.0s\n",
      "[CV] reg_alpha=0.1 ...................................................\n",
      "[CV] .................................... reg_alpha=0.1, total=   0.0s\n",
      "[CV] reg_alpha=1.0 ...................................................\n",
      "[CV] .................................... reg_alpha=1.0, total=   0.0s\n",
      "[CV] reg_alpha=10.0 ..................................................\n",
      "[CV] ................................... reg_alpha=10.0, total=   0.0s\n",
      "[CV] reg_alpha=100.0 .................................................\n",
      "[CV] .................................. reg_alpha=100.0, total=   0.0s\n",
      "[CV] reg_alpha=1000.0 ................................................\n",
      "[CV] ................................. reg_alpha=1000.0, total=   0.0s\n",
      "[CV] reg_alpha=0.001 .................................................\n",
      "[CV] .................................. reg_alpha=0.001, total=   0.0s\n",
      "[CV] reg_alpha=0.01 ..................................................\n",
      "[CV] ................................... reg_alpha=0.01, total=   0.0s\n",
      "[CV] reg_alpha=0.1 ...................................................\n",
      "[CV] .................................... reg_alpha=0.1, total=   0.0s\n",
      "[CV] reg_alpha=1.0 ...................................................\n",
      "[CV] .................................... reg_alpha=1.0, total=   0.0s\n",
      "[CV] reg_alpha=10.0 ..................................................\n",
      "[CV] ................................... reg_alpha=10.0, total=   0.0s\n",
      "[CV] reg_alpha=100.0 .................................................\n",
      "[CV] .................................. reg_alpha=100.0, total=   0.0s\n",
      "[CV] reg_alpha=1000.0 ................................................\n",
      "[CV] ................................. reg_alpha=1000.0, total=   0.0s\n",
      "CPU times: user 510 ms, sys: 0 ns, total: 510 ms\n",
      "Wall time: 509 ms\n"
     ]
    },
    {
     "name": "stderr",
     "output_type": "stream",
     "text": [
      "[Parallel(n_jobs=1)]: Done  21 out of  21 | elapsed:    0.5s finished\n"
     ]
    }
   ],
   "source": [
    "%%time\n",
    "\n",
    "train_scores, test_scores = validation_curve(\n",
    "    LGBMClassifier(\n",
    "        min_child_samples=20,\n",
    "        reg_alpha=0.1\n",
    "    ),\n",
    "    xtrain, np.argmax(ytrain, axis=1),\n",
    "    param_name=param_name, param_range=param_range,\n",
    "    cv=cv_splitter, n_jobs=1, verbose=2, scoring=f1_scorer)"
   ]
  },
  {
   "cell_type": "code",
   "execution_count": 74,
   "metadata": {},
   "outputs": [
    {
     "data": {
      "text/plain": [
       "array([[1.00000000e-03, 9.55956073e-01, 8.54552386e-01],\n",
       "       [1.00000000e-02, 9.55982579e-01, 8.53570294e-01],\n",
       "       [1.00000000e-01, 9.54834065e-01, 8.54249974e-01],\n",
       "       [1.00000000e+00, 9.41107282e-01, 8.56470400e-01],\n",
       "       [1.00000000e+01, 9.04822161e-01, 8.25580827e-01],\n",
       "       [1.00000000e+02, 1.78125000e-02, 1.79190751e-02],\n",
       "       [1.00000000e+03, 1.78125000e-02, 1.79190751e-02]])"
      ]
     },
     "execution_count": 74,
     "metadata": {},
     "output_type": "execute_result"
    }
   ],
   "source": [
    "train_scores_mean = np.mean(train_scores, axis=1)\n",
    "train_scores_std = np.std(train_scores, axis=1)\n",
    "test_scores_mean = np.mean(test_scores, axis=1)\n",
    "test_scores_std = np.std(test_scores, axis=1)\n",
    "np.c_[param_range, train_scores_mean, test_scores_mean]"
   ]
  },
  {
   "cell_type": "code",
   "execution_count": 75,
   "metadata": {},
   "outputs": [
    {
     "data": {
      "text/plain": [
       "<matplotlib.legend.Legend at 0x7ff4801bb4a8>"
      ]
     },
     "execution_count": 75,
     "metadata": {},
     "output_type": "execute_result"
    },
    {
     "data": {
      "image/png": "[encoded data removed]",
      "text/plain": [
       "<matplotlib.figure.Figure at 0x7ff48026f390>"
      ]
     },
     "metadata": {},
     "output_type": "display_data"
    }
   ],
   "source": [
    "plt.title(\"Validation Curve\")\n",
    "plt.xlabel(\"param\")\n",
    "plt.ylabel(\"Score\")\n",
    "plt.ylim(0.0, 1.1)\n",
    "lw = 2\n",
    "plt.semilogx(param_range, train_scores_mean, label=\"Training score\",\n",
    "             color=\"darkorange\", lw=lw)\n",
    "plt.fill_between(param_range, train_scores_mean - train_scores_std,\n",
    "                 train_scores_mean + train_scores_std, alpha=0.2,\n",
    "                 color=\"darkorange\", lw=lw)\n",
    "plt.semilogx(param_range, test_scores_mean, label=\"Cross-validation score\",\n",
    "             color=\"navy\", lw=lw)\n",
    "plt.fill_between(param_range, test_scores_mean - test_scores_std,\n",
    "                 test_scores_mean + test_scores_std, alpha=0.2,\n",
    "                 color=\"navy\", lw=lw)\n",
    "plt.legend(loc=\"best\")"
   ]
  },
  {
   "cell_type": "code",
   "execution_count": 91,
   "metadata": {},
   "outputs": [
    {
     "data": {
      "text/plain": [
       "LGBMClassifier(boosting_type='gbdt', colsample_bytree=1, learning_rate=0.1,\n",
       "        max_bin=255, max_depth=-1, min_child_samples=20,\n",
       "        min_child_weight=5, min_split_gain=0, n_estimators=10, nthread=-1,\n",
       "        num_leaves=31, objective='multiclass', reg_alpha=0.1, reg_lambda=0,\n",
       "        seed=0, silent=True, subsample=1, subsample_for_bin=50000,\n",
       "        subsample_freq=1)"
      ]
     },
     "execution_count": 91,
     "metadata": {},
     "output_type": "execute_result"
    }
   ],
   "source": [
    "'''test data'''\n",
    "est = LGBMClassifier(\n",
    "        min_child_samples=20,\n",
    "        reg_alpha=0.1\n",
    "    )\n",
    "est.fit(xtrain, np.argmax(ytrain, axis=1))"
   ]
  },
  {
   "cell_type": "code",
   "execution_count": 92,
   "metadata": {
    "collapsed": true
   },
   "outputs": [],
   "source": [
    "pred = est.predict(xtrain)"
   ]
  },
  {
   "cell_type": "code",
   "execution_count": 93,
   "metadata": {},
   "outputs": [
    {
     "name": "stdout",
     "output_type": "stream",
     "text": [
      "F1_SCORE : 0.9590311774708322\n",
      "              precision    recall  f1-score   support\n",
      "\n",
      "           0       0.98      1.00      0.99        88\n",
      "           1       0.91      0.96      0.93        89\n",
      "           2       0.98      0.99      0.98        91\n",
      "           3       0.92      0.97      0.94        93\n",
      "           4       0.99      0.97      0.98        88\n",
      "           5       0.98      0.95      0.96        91\n",
      "           6       1.00      0.97      0.98        90\n",
      "           7       0.95      0.96      0.95        91\n",
      "           8       0.98      0.94      0.96        86\n",
      "           9       0.92      0.90      0.91        91\n",
      "\n",
      "   micro avg       0.96      0.96      0.96       898\n",
      "   macro avg       0.96      0.96      0.96       898\n",
      "weighted avg       0.96      0.96      0.96       898\n",
      "\n",
      "[[88  0  0  0  0  0  0  0  0  0]\n",
      " [ 0 85  0  2  0  1  0  0  0  1]\n",
      " [ 0  1 90  0  0  0  0  0  0  0]\n",
      " [ 0  1  1 90  0  0  0  1  0  0]\n",
      " [ 1  0  0  0 85  0  0  0  1  1]\n",
      " [ 0  1  0  0  0 86  0  0  0  4]\n",
      " [ 1  2  0  0  0  0 87  0  0  0]\n",
      " [ 0  0  0  1  1  1  0 87  0  1]\n",
      " [ 0  3  1  1  0  0  0  0 81  0]\n",
      " [ 0  0  0  4  0  0  0  4  1 82]]\n"
     ]
    }
   ],
   "source": [
    "print('F1_SCORE :', f1_score(np.argmax(ytrain, axis=1), pred, average='macro'))\n",
    "print(classification_report(np.argmax(ytrain, axis=1), pred))\n",
    "print(confusion_matrix(np.argmax(ytrain, axis=1), pred))"
   ]
  },
  {
   "cell_type": "code",
   "execution_count": 94,
   "metadata": {
    "collapsed": true
   },
   "outputs": [],
   "source": [
    "pred_test = est.predict(xtest)"
   ]
  },
  {
   "cell_type": "code",
   "execution_count": 95,
   "metadata": {},
   "outputs": [
    {
     "name": "stdout",
     "output_type": "stream",
     "text": [
      "F1_SCORE : 0.9003445134291959\n",
      "              precision    recall  f1-score   support\n",
      "\n",
      "           0       0.99      1.00      0.99        90\n",
      "           1       0.91      0.87      0.89        93\n",
      "           2       0.90      0.93      0.91        86\n",
      "           3       0.84      0.87      0.85        90\n",
      "           4       0.97      0.90      0.93        93\n",
      "           5       0.87      0.85      0.86        91\n",
      "           6       0.97      0.92      0.94        91\n",
      "           7       0.92      0.94      0.93        88\n",
      "           8       0.90      0.83      0.86        88\n",
      "           9       0.77      0.89      0.82        89\n",
      "\n",
      "   micro avg       0.90      0.90      0.90       899\n",
      "   macro avg       0.90      0.90      0.90       899\n",
      "weighted avg       0.90      0.90      0.90       899\n",
      "\n",
      "[[90  0  0  0  0  0  0  0  0  0]\n",
      " [ 0 81  2  6  0  1  0  0  0  3]\n",
      " [ 0  0 80  2  0  0  2  0  2  0]\n",
      " [ 0  1  1 78  0  2  1  0  2  5]\n",
      " [ 1  3  0  0 84  2  0  2  1  0]\n",
      " [ 0  1  0  2  1 77  0  1  0  9]\n",
      " [ 0  0  1  0  1  3 84  0  1  1]\n",
      " [ 0  0  0  0  1  1  0 83  1  2]\n",
      " [ 0  1  5  2  0  0  0  3 73  4]\n",
      " [ 0  2  0  3  0  3  0  1  1 79]]\n"
     ]
    }
   ],
   "source": [
    "print('F1_SCORE :', f1_score(np.argmax(yans, axis=1), pred_test, average='macro'))\n",
    "print(classification_report(np.argmax(yans, axis=1), pred_test))\n",
    "print(confusion_matrix(np.argmax(yans, axis=1), pred_test))"
   ]
  },
  {
   "cell_type": "code",
   "execution_count": null,
   "metadata": {
    "collapsed": true
   },
   "outputs": [],
   "source": []
  },
  {
   "cell_type": "code",
   "execution_count": null,
   "metadata": {
    "collapsed": true
   },
   "outputs": [],
   "source": []
  },
  {
   "cell_type": "code",
   "execution_count": 6,
   "metadata": {
    "collapsed": true
   },
   "outputs": [],
   "source": [
    "# import copy\n",
    "\n",
    "# from keras.wrappers.scikit_learn import KerasClassifier, KerasRegressor\n",
    "# from keras.callbacks import EarlyStopping, ReduceLROnPlateau, LearningRateScheduler\n",
    "# from keras.optimizers import RMSprop, Adam\n",
    "# from keras.initializers import glorot_uniform\n",
    "# from keras.models import Sequential\n",
    "\n",
    "\n",
    "\n",
    "# def make_model_gkernel1(\n",
    "#     nn=4, num_lm=2,\n",
    "#     random_state=None, lm=None, gamma=None):\n",
    "#     '''\n",
    "#     just activation\n",
    "#     '''\n",
    "#     inp = Input(shape=(nn,), name='inp')\n",
    "#     oup = inp\n",
    "    \n",
    "#     if lm is None:\n",
    "#         rs = np.random.RandomState(random_state)\n",
    "#         lm = rs.random_sample((num_lm, nn))\n",
    "#     if gamma is None:\n",
    "#         gamma = 1/(2*np.sqrt(nn/6)*2)\n",
    "#     weights = [np.log(np.array([gamma]))]\n",
    "#     oup = GaussianKernel2(lm, weights=weights, name='gkernel', trainable=False)(oup)\n",
    "    \n",
    "#     model = Model(inp, oup, name='model_gkernel')\n",
    "#     return lm, model\n",
    "\n",
    "# def make_model_gkernel2(\n",
    "#     nn=4, num_lm=2,\n",
    "#     random_state=None, lm=None, gamma=None):\n",
    "    \n",
    "#     inp = Input(shape=(nn,), name='inp')\n",
    "#     oup = inp\n",
    "    \n",
    "#     if lm is None:\n",
    "#         rs = np.random.RandomState(random_state)\n",
    "#         lm = rs.random_sample((num_lm, nn))\n",
    "#     if gamma is None:\n",
    "#         gamma = 1/(2*np.sqrt(nn/6)*2)\n",
    "#     weights = [np.log(np.array([gamma]))]\n",
    "#     #weights = [np.array([gamma])]\n",
    "#     oup = GaussianKernel2(lm, weights=weights, name='gkernel')(oup)\n",
    "    \n",
    "#     model = Model(inp, oup, name='model_gkernel')\n",
    "#     return lm, model\n",
    "\n",
    "# def make_model_gkernel3(\n",
    "#     nn=4, num_lm=2,\n",
    "#     random_state=None, lm=None, gamma=None):\n",
    "\n",
    "#     inp = Input(shape=(nn,), name='inp')\n",
    "#     oup = inp\n",
    "    \n",
    "#     if lm is None:\n",
    "#         rs = np.random.RandomState(random_state)\n",
    "#         lm = rs.random_sample((num_lm, nn))\n",
    "#     if gamma is None:\n",
    "#         gamma = 1/(2*np.sqrt(nn/6)*2)\n",
    "#     weights = [lm, np.log(np.array([gamma]))]\n",
    "#     oup = GaussianKernel3(num_landmark=num_lm, num_feature=nn, weights=weights, name='gkernel')(oup)\n",
    "    \n",
    "#     model = Model(inp, oup, name='model_gkernel')\n",
    "#     return lm, model\n",
    "\n",
    "# def make_model_out(\n",
    "#     num_lm=2, num_cls=3,\n",
    "#     activation='softmax',\n",
    "#     reg_l1=0.0, reg_l2=0.0,\n",
    "#     random_state=None\n",
    "# ):\n",
    "#     inp = Input(shape=(num_lm,), name='inp')\n",
    "#     oup = Dense(num_cls,\n",
    "#                 activation=activation,\n",
    "#                 kernel_initializer=glorot_uniform(random_state),\n",
    "#                 kernel_regularizer=regularizers.l1_l2(reg_l1, reg_l2),\n",
    "#                 bias_regularizer=regularizers.l1_l2(reg_l1, reg_l2)\n",
    "#                )(inp)\n",
    "    \n",
    "#     model = Model(inp, oup, name='model_out')\n",
    "#     return model\n",
    "\n",
    "# def make_model(\n",
    "#     make_model_gkernel=make_model_gkernel2,\n",
    "#     make_model_out=make_model_out,\n",
    "#     reg_l1=0.0, reg_l2=0.0,\n",
    "#     nn=2,\n",
    "#     num_lm=2, lm=None, gamma=None,\n",
    "#     random_state=None,\n",
    "#     num_cls=2, activation='softmax',\n",
    "#     opt=0.02, lr=0.02,\n",
    "#     loss='categorical_crossentropy',\n",
    "#     session_clear=True,\n",
    "#     #gkernel_multipliers=1.0,\n",
    "#     lm_select_from_x=None,\n",
    "#     tol=None\n",
    "# ):\n",
    "#     if session_clear:\n",
    "#         K.clear_session()\n",
    "    \n",
    "#     lm, model_gkernel = make_model_gkernel(\n",
    "#         nn=nn, num_lm=num_lm,\n",
    "#         random_state=random_state, lm=lm, gamma=gamma\n",
    "#     )\n",
    "#     model_out = make_model_out(\n",
    "#         num_lm=num_lm, num_cls=num_cls,\n",
    "#         activation=activation,\n",
    "#         reg_l1=reg_l1, reg_l2=reg_l2,\n",
    "#         random_state=random_state\n",
    "#     )\n",
    "#     #model_gkernel.summary()\n",
    "#     #model_out.summary()\n",
    "    \n",
    "#     inp = model_gkernel.inputs[0]\n",
    "#     oup = model_gkernel(inp)\n",
    "#     oup = model_out(oup)\n",
    "    \n",
    "#     model = Model(inp, oup)\n",
    "#     #model.summary()\n",
    "# #     if isinstance(opt, float):\n",
    "# #         opt = Adam(opt)\n",
    "# #     learning_rate_multipliers = {\n",
    "# #         'gkernel': gkernel_multipliers,\n",
    "# #     }\n",
    "# #     print(learning_rate_multipliers)\n",
    "# #     opt = Adam_lr_mult(\n",
    "# #         lr,\n",
    "# #         multipliers=learning_rate_multipliers,\n",
    "# #         debug_verbose=False)\n",
    "#     opt = Adam(lr)\n",
    "#     model.compile(optimizer=opt, loss=loss, metrics=['accuracy'])\n",
    "#     return model\n",
    "\n",
    "\n",
    "# class RBFBase(object):\n",
    "    \n",
    "#     def _fit(self, x, y, sample_weight=None, **kwargs):\n",
    "#         sk_params_org = copy.deepcopy(self.sk_params)\n",
    "        \n",
    "#         ### nn\n",
    "#         nn = x.shape[1]\n",
    "#         sk_params_org.update({'nn': self.sk_params.get('nn')})\n",
    "#         self.set_params(nn=nn)\n",
    "        \n",
    "#         ### learning_rate\n",
    "#         if self.sk_params.get('lr') is None:\n",
    "#             lr = 0.02 # default lr\n",
    "#             sk_params_org.update({'lr': None})\n",
    "#             self.set_params(lr=lr)\n",
    "#         else:\n",
    "#             lr = self.sk_params['lr'] # for later using\n",
    "        \n",
    "#         ### gamma\n",
    "#         if self.sk_params.get('gamma') == 'scale':\n",
    "#             sk_params_org.update({'gamma': 'scale'})\n",
    "#             self.set_params(gamma=1 / (nn * x.var()))\n",
    "#             #print('scale gamma >', self.sk_params['gamma'])\n",
    "        \n",
    "#         ### tol\n",
    "#         tol = self.sk_params.get('tol', np.finfo(np.float32).eps)\n",
    "        \n",
    "#         ### callbacks\n",
    "#         if self.sk_params.get('callbacks', None) is None:\n",
    "#             lr_reducer = ReduceLROnPlateau(monitor='loss', \n",
    "#                                factor=1/2,\n",
    "#                                verbose=0,\n",
    "#                                cooldown=7,\n",
    "#                                patience=5,\n",
    "#                                min_lr=lr/64/2)\n",
    "#             #tol = np.sqrt(np.finfo(np.float32).eps)\n",
    "#             #tol = np.finfo(np.float32).eps\n",
    "#             #tol = 0.0\n",
    "#             early_stopping = EarlyStopping(monitor='loss', patience=5, min_delta=tol, restore_best_weights=True)\n",
    "#             callbacks0 = [lr_reducer, early_stopping]\n",
    "#             callbacks = [lr_reducer, early_stopping]\n",
    "#             sk_params_org.update({'callbacks': None})\n",
    "#             self.set_params(callbacks=callbacks)\n",
    "#         else:\n",
    "#             callbacks0 = self.sk_params['callbacks']\n",
    "#             callbacks = self.sk_params['callbacks']\n",
    "        \n",
    "#         ### lm_select_from_x\n",
    "#         #print('''self.sk_params.get('lm_select_from_x') >''', self.sk_params.get('lm_select_from_x'))\n",
    "#         if self.sk_params.get('lm_select_from_x'):\n",
    "#             random_state = self.sk_params.get('random_state')\n",
    "#             rs = np.random.RandomState(random_state)\n",
    "#             lm = x[rs.choice(np.arange(x.shape[0]), self.sk_params['num_lm'], replace=False)]\n",
    "#             sk_params_org.update({'lm': self.sk_params.get('lm')})\n",
    "#             self.set_params(lm=lm)\n",
    "        \n",
    "#         hst = super().fit(x, y, **kwargs)\n",
    "        \n",
    "#         fit_args = copy.deepcopy(self.filter_sk_params(Sequential.fit))\n",
    "#         fit_args.update(kwargs)\n",
    "        \n",
    "#         def lr_schedule2(epoch):\n",
    "#             lr1 = lr / 2\n",
    "#             #print('lr >', lr1)\n",
    "#             return lr1\n",
    "#         def lr_schedule4(epoch):\n",
    "#             lr1 = lr / 4\n",
    "#             #print('lr >', lr1)\n",
    "#             return lr1\n",
    "#         def lr_schedule8(epoch):\n",
    "#             lr1 = lr / 8\n",
    "#             #print('lr >', lr1)\n",
    "#             return lr1\n",
    "        \n",
    "#         # 2\n",
    "#         lr_scheduler = LearningRateScheduler(lr_schedule2)\n",
    "#         callbacks = callbacks0 + [lr_scheduler]\n",
    "#         fit_args['callbacks'] = callbacks\n",
    "#         hst = self.model.fit(x, y, **fit_args)\n",
    "#         # 3\n",
    "#         lr_scheduler = LearningRateScheduler(lr_schedule4)\n",
    "#         callbacks = callbacks0 + [lr_scheduler]\n",
    "#         fit_args['callbacks'] = callbacks\n",
    "#         hst = self.model.fit(x, y, **fit_args)\n",
    "#         # 4\n",
    "#         lr_scheduler = LearningRateScheduler(lr_schedule8)\n",
    "#         callbacks = callbacks0 + [lr_scheduler]\n",
    "#         fit_args['callbacks'] = callbacks\n",
    "#         hst = self.model.fit(x, y, **fit_args)\n",
    "        \n",
    "#         # 2\n",
    "#         lr_scheduler = LearningRateScheduler(lr_schedule2)\n",
    "#         callbacks = callbacks0 + [lr_scheduler]\n",
    "#         fit_args['callbacks'] = callbacks\n",
    "#         hst = self.model.fit(x, y, **fit_args)\n",
    "#         # 3\n",
    "#         lr_scheduler = LearningRateScheduler(lr_schedule4)\n",
    "#         callbacks = callbacks0 + [lr_scheduler]\n",
    "#         fit_args['callbacks'] = callbacks\n",
    "#         hst = self.model.fit(x, y, **fit_args)\n",
    "#         # 4\n",
    "#         lr_scheduler = LearningRateScheduler(lr_schedule8)\n",
    "#         callbacks = callbacks0 + [lr_scheduler]\n",
    "#         fit_args['callbacks'] = callbacks\n",
    "#         hst = self.model.fit(x, y, **fit_args)\n",
    "        \n",
    "#         #print(self.sk_params)\n",
    "#         #print(sk_params_org)\n",
    "#         self.set_params(**sk_params_org)\n",
    "#         #print(self.sk_params)\n",
    "#         return hst\n",
    "    \n",
    "#     def current_gamma(self):\n",
    "#         for ew in self.model.layers[1].layers[1].get_weights():\n",
    "#             if len(ew.shape)==1:\n",
    "#                 c_gamma = ew[0]\n",
    "#         return np.exp(c_gamma)\n",
    "\n",
    "\n",
    "# class RBFClassifier(RBFBase, KerasClassifier):\n",
    "    \n",
    "#     def __init__(self, build_fn=make_model, **sk_params):\n",
    "#         super().__init__(build_fn, **sk_params)\n",
    "    \n",
    "#     def fit(self, x, y, sample_weight=None, **kwargs):\n",
    "#         ### num_cls\n",
    "#         self.set_params(num_cls=self.sk_params.get('num_cls', y.shape[1]))\n",
    "#         hst = super()._fit(x, y, sample_weight=None, **kwargs)\n",
    "#         return hst\n",
    "\n",
    "# class RBFRegressor(RBFBase, KerasRegressor):\n",
    "    \n",
    "#     def __init__(self, build_fn=make_model, **sk_params):\n",
    "#         super().__init__(build_fn, **sk_params)\n",
    "    \n",
    "#     def fit(self, x, y, sample_weight=None, **kwargs):\n",
    "#         ### num_cls\n",
    "#         self.set_params(num_cls=self.sk_params.get('num_cls', 1))\n",
    "        \n",
    "#         ### activation\n",
    "#         self.set_params(activation=self.sk_params.get('activation', 'linear'))\n",
    "        \n",
    "#         ### loss\n",
    "#         self.set_params(loss=self.sk_params.get('loss', 'mse'))\n",
    "        \n",
    "#         hst = super()._fit(x, y, sample_weight=None, **kwargs)\n",
    "#         return hst"
   ]
  },
  {
   "cell_type": "code",
   "execution_count": 7,
   "metadata": {},
   "outputs": [
    {
     "data": {
      "text/plain": [
       "<gkernel.sklearn.RBFClassifier at 0x7ff4aecbf2b0>"
      ]
     },
     "execution_count": 7,
     "metadata": {},
     "output_type": "execute_result"
    }
   ],
   "source": [
    "#clf = RBFClassifier(num_lm=3)\n",
    "# clf = RBFClassifier(\n",
    "#     num_lm=3,\n",
    "#     lm=xtrain[:3]\n",
    "# )\n",
    "# clf = RBFClassifier(\n",
    "#     num_lm=50,\n",
    "#     lm=xtrain[:50],\n",
    "#     make_model_gkernel=make_model_gkernel3\n",
    "# )\n",
    "# early_stopping = EarlyStopping(monitor='loss', patience=5, min_delta=0.000, restore_best_weights=True)\n",
    "# clf = RBFClassifier(\n",
    "#     num_lm=3,\n",
    "#     lm=xtrain[np.random.choice(np.arange(xtrain.shape[0]), 3)],\n",
    "# )\n",
    "# clf = RBFClassifier(\n",
    "#     num_lm=10,\n",
    "#     lm=xtrain[:10],\n",
    "#     callbacks=[early_stopping],\n",
    "#     make_model_gkernel=make_model_gkernel3\n",
    "# )\n",
    "# clf = RBFClassifier(\n",
    "#     num_lm=3,\n",
    "#     lm=xtrain[:3],\n",
    "#     make_model_gkernel=make_model_gkernel3,\n",
    "#     activation='sigmoid',\n",
    "#     loss='binary_crossentropy'\n",
    "# )\n",
    "clf = RBFClassifier(\n",
    "    num_lm=10,\n",
    "    lm=xtrain[np.random.choice(np.arange(xtrain.shape[0]), 10)],\n",
    "    reg_l1=0.00,\n",
    "    lr=0.02,\n",
    "    random_state=101\n",
    ")\n",
    "clf"
   ]
  },
  {
   "cell_type": "code",
   "execution_count": 8,
   "metadata": {},
   "outputs": [
    {
     "name": "stderr",
     "output_type": "stream",
     "text": [
      "WARNING: Logging before flag parsing goes to stderr.\n",
      "W0923 23:44:19.782620 140690256598848 deprecation_wrapper.py:119] From /home/admin/miniconda3/envs/da02/lib/python3.6/site-packages/keras/backend/tensorflow_backend.py:95: The name tf.reset_default_graph is deprecated. Please use tf.compat.v1.reset_default_graph instead.\n",
      "\n",
      "W0923 23:44:19.785177 140690256598848 deprecation_wrapper.py:119] From /home/admin/miniconda3/envs/da02/lib/python3.6/site-packages/keras/backend/tensorflow_backend.py:98: The name tf.placeholder_with_default is deprecated. Please use tf.compat.v1.placeholder_with_default instead.\n",
      "\n",
      "W0923 23:44:19.796476 140690256598848 deprecation_wrapper.py:119] From /home/admin/miniconda3/envs/da02/lib/python3.6/site-packages/keras/backend/tensorflow_backend.py:102: The name tf.get_default_graph is deprecated. Please use tf.compat.v1.get_default_graph instead.\n",
      "\n",
      "W0923 23:44:19.797162 140690256598848 deprecation_wrapper.py:119] From /home/admin/miniconda3/envs/da02/lib/python3.6/site-packages/keras/backend/tensorflow_backend.py:517: The name tf.placeholder is deprecated. Please use tf.compat.v1.placeholder instead.\n",
      "\n",
      "W0923 23:44:19.798604 140690256598848 deprecation_wrapper.py:119] From /home/admin/miniconda3/envs/da02/lib/python3.6/site-packages/keras/backend/tensorflow_backend.py:4138: The name tf.random_uniform is deprecated. Please use tf.random.uniform instead.\n",
      "\n",
      "W0923 23:44:19.889058 140690256598848 deprecation_wrapper.py:119] From /home/admin/miniconda3/envs/da02/lib/python3.6/site-packages/keras/optimizers.py:790: The name tf.train.Optimizer is deprecated. Please use tf.compat.v1.train.Optimizer instead.\n",
      "\n",
      "W0923 23:44:19.961726 140690256598848 deprecation.py:323] From /home/admin/miniconda3/envs/da02/lib/python3.6/site-packages/tensorflow/python/ops/math_grad.py:1250: add_dispatch_support.<locals>.wrapper (from tensorflow.python.ops.array_ops) is deprecated and will be removed in a future version.\n",
      "Instructions for updating:\n",
      "Use tf.where in 2.0, which has the same broadcast rule as np.where\n"
     ]
    },
    {
     "name": "stdout",
     "output_type": "stream",
     "text": [
      "CPU times: user 17.5 s, sys: 590 ms, total: 18.1 s\n",
      "Wall time: 12.6 s\n"
     ]
    },
    {
     "data": {
      "text/plain": [
       "<keras.callbacks.History at 0x7ff4aeca5eb8>"
      ]
     },
     "execution_count": 8,
     "metadata": {},
     "output_type": "execute_result"
    }
   ],
   "source": [
    "%%time\n",
    "clf.fit(xtrain, ytrain, epochs=500, batch_size=1024, verbose=0)"
   ]
  },
  {
   "cell_type": "code",
   "execution_count": 9,
   "metadata": {},
   "outputs": [
    {
     "data": {
      "text/plain": [
       "{'callbacks': None,\n",
       " 'lm': array([[0.    , 0.    , 0.1875, 0.75  , 0.9375, 0.6875, 0.125 , 0.    ,\n",
       "         0.    , 0.    , 0.6875, 0.8125, 0.4375, 0.8125, 0.5   , 0.    ,\n",
       "         0.    , 0.4375, 0.9375, 0.0625, 0.3125, 0.9375, 0.1875, 0.    ,\n",
       "         0.    , 0.0625, 0.75  , 1.    , 1.    , 0.3125, 0.    , 0.    ,\n",
       "         0.    , 0.    , 0.    , 0.8125, 0.9375, 0.9375, 0.125 , 0.    ,\n",
       "         0.    , 0.    , 0.125 , 0.8125, 0.    , 0.625 , 0.3125, 0.    ,\n",
       "         0.    , 0.    , 0.25  , 0.6875, 0.25  , 0.6875, 0.375 , 0.    ,\n",
       "         0.    , 0.    , 0.125 , 0.8125, 1.    , 0.75  , 0.    , 0.    ],\n",
       "        [0.    , 0.    , 0.3125, 0.9375, 0.4375, 0.    , 0.    , 0.    ,\n",
       "         0.    , 0.    , 0.875 , 1.    , 1.    , 0.3125, 0.    , 0.    ,\n",
       "         0.    , 0.    , 0.8125, 0.875 , 0.875 , 0.9375, 0.    , 0.    ,\n",
       "         0.    , 0.    , 0.1875, 0.6875, 0.875 , 1.    , 0.1875, 0.    ,\n",
       "         0.    , 0.    , 0.    , 0.    , 0.375 , 1.    , 0.125 , 0.    ,\n",
       "         0.    , 0.    , 0.    , 0.    , 0.25  , 1.    , 0.4375, 0.    ,\n",
       "         0.    , 0.    , 0.    , 0.0625, 0.6875, 1.    , 0.375 , 0.    ,\n",
       "         0.    , 0.    , 0.25  , 0.9375, 1.    , 0.625 , 0.    , 0.    ],\n",
       "        [0.    , 0.    , 0.5625, 1.    , 0.6875, 0.0625, 0.    , 0.    ,\n",
       "         0.    , 0.3125, 1.    , 0.625 , 1.    , 0.5625, 0.    , 0.    ,\n",
       "         0.    , 0.375 , 0.875 , 0.0625, 0.5625, 0.9375, 0.    , 0.    ,\n",
       "         0.    , 0.0625, 0.9375, 0.375 , 0.6875, 1.    , 0.125 , 0.    ,\n",
       "         0.    , 0.    , 0.4375, 1.    , 0.9375, 1.    , 0.4375, 0.    ,\n",
       "         0.    , 0.    , 0.    , 0.1875, 0.0625, 0.6875, 0.5625, 0.    ,\n",
       "         0.    , 0.1875, 0.875 , 0.5625, 0.5625, 0.875 , 0.75  , 0.    ,\n",
       "         0.    , 0.    , 0.75  , 1.    , 1.    , 0.8125, 0.1875, 0.    ],\n",
       "        [0.    , 0.    , 0.6875, 0.75  , 0.    , 0.    , 0.    , 0.    ,\n",
       "         0.    , 0.125 , 1.    , 1.    , 1.    , 0.8125, 0.    , 0.    ,\n",
       "         0.    , 0.1875, 1.    , 0.75  , 0.625 , 0.875 , 0.    , 0.    ,\n",
       "         0.    , 0.0625, 1.    , 0.0625, 0.75  , 0.9375, 0.    , 0.    ,\n",
       "         0.    , 0.    , 0.8125, 1.    , 0.5625, 0.9375, 0.125 , 0.    ,\n",
       "         0.    , 0.    , 0.    , 0.1875, 0.    , 0.5625, 0.6875, 0.    ,\n",
       "         0.    , 0.    , 0.    , 0.    , 0.5625, 0.9375, 0.25  , 0.    ,\n",
       "         0.    , 0.    , 0.5625, 0.75  , 0.8125, 0.1875, 0.    , 0.    ],\n",
       "        [0.    , 0.    , 0.375 , 1.    , 0.8125, 0.75  , 0.875 , 0.0625,\n",
       "         0.    , 0.    , 0.875 , 0.25  , 0.25  , 0.9375, 0.25  , 0.    ,\n",
       "         0.    , 0.0625, 0.4375, 0.    , 0.625 , 0.4375, 0.    , 0.    ,\n",
       "         0.    , 0.    , 0.    , 0.125 , 0.8125, 0.0625, 0.    , 0.    ,\n",
       "         0.    , 0.125 , 0.5625, 0.875 , 1.    , 0.75  , 0.    , 0.    ,\n",
       "         0.    , 0.25  , 0.375 , 0.9375, 0.125 , 0.25  , 0.0625, 0.    ,\n",
       "         0.    , 0.    , 0.375 , 0.4375, 0.    , 0.    , 0.    , 0.    ,\n",
       "         0.    , 0.    , 0.625 , 0.25  , 0.    , 0.    , 0.    , 0.    ],\n",
       "        [0.    , 0.    , 0.0625, 0.75  , 0.75  , 0.25  , 0.0625, 0.    ,\n",
       "         0.    , 0.    , 0.8125, 0.8125, 0.8125, 0.875 , 0.5   , 0.    ,\n",
       "         0.    , 0.375 , 0.9375, 0.    , 0.    , 0.75  , 0.4375, 0.    ,\n",
       "         0.    , 0.125 , 1.    , 0.8125, 0.75  , 0.8125, 0.0625, 0.    ,\n",
       "         0.    , 0.    , 0.    , 0.875 , 1.    , 0.5625, 0.    , 0.    ,\n",
       "         0.    , 0.    , 0.375 , 0.625 , 0.125 , 1.    , 0.    , 0.    ,\n",
       "         0.    , 0.    , 0.6875, 0.5   , 0.3125, 1.    , 0.    , 0.    ,\n",
       "         0.    , 0.    , 0.1875, 0.75  , 1.    , 0.4375, 0.    , 0.    ],\n",
       "        [0.    , 0.    , 0.6875, 1.    , 0.4375, 0.    , 0.    , 0.    ,\n",
       "         0.    , 0.0625, 1.    , 0.6875, 0.9375, 0.    , 0.    , 0.    ,\n",
       "         0.    , 0.125 , 1.    , 0.3125, 1.    , 0.25  , 0.    , 0.    ,\n",
       "         0.    , 0.    , 0.125 , 0.125 , 1.    , 0.1875, 0.    , 0.    ,\n",
       "         0.    , 0.    , 0.    , 0.3125, 1.    , 0.    , 0.    , 0.    ,\n",
       "         0.    , 0.    , 0.    , 0.5625, 0.875 , 0.    , 0.    , 0.    ,\n",
       "         0.    , 0.    , 0.5625, 1.    , 0.875 , 0.4375, 0.375 , 0.    ,\n",
       "         0.    , 0.    , 0.8125, 0.875 , 0.875 , 1.    , 1.    , 0.375 ],\n",
       "        [0.    , 0.    , 0.4375, 1.    , 1.    , 0.875 , 0.    , 0.    ,\n",
       "         0.    , 0.    , 1.    , 0.75  , 0.625 , 0.9375, 0.0625, 0.    ,\n",
       "         0.    , 0.    , 0.625 , 0.25  , 1.    , 0.625 , 0.    , 0.    ,\n",
       "         0.    , 0.    , 0.    , 0.5625, 1.    , 0.6875, 0.0625, 0.    ,\n",
       "         0.    , 0.    , 0.    , 0.    , 0.4375, 1.    , 0.5   , 0.    ,\n",
       "         0.    , 0.    , 0.    , 0.    , 0.    , 1.    , 0.4375, 0.    ,\n",
       "         0.    , 0.    , 0.5   , 0.25  , 0.625 , 0.9375, 0.125 , 0.    ,\n",
       "         0.    , 0.    , 0.75  , 1.    , 1.    , 0.375 , 0.    , 0.    ],\n",
       "        [0.    , 0.    , 0.625 , 1.    , 1.    , 0.5   , 0.    , 0.    ,\n",
       "         0.    , 0.    , 0.3125, 0.5   , 0.8125, 0.8125, 0.    , 0.    ,\n",
       "         0.    , 0.    , 0.    , 0.    , 0.5625, 0.8125, 0.    , 0.    ,\n",
       "         0.    , 0.    , 0.    , 0.125 , 0.8125, 0.75  , 0.    , 0.    ,\n",
       "         0.    , 0.    , 0.125 , 0.9375, 1.    , 1.    , 0.4375, 0.    ,\n",
       "         0.    , 0.    , 0.    , 0.8125, 0.8125, 0.3125, 0.0625, 0.    ,\n",
       "         0.    , 0.    , 0.0625, 0.875 , 0.3125, 0.    , 0.    , 0.    ,\n",
       "         0.    , 0.    , 0.5625, 0.8125, 0.0625, 0.    , 0.    , 0.    ],\n",
       "        [0.    , 0.    , 0.125 , 0.9375, 0.9375, 0.1875, 0.    , 0.    ,\n",
       "         0.    , 0.    , 0.5   , 0.875 , 1.    , 0.6875, 0.    , 0.    ,\n",
       "         0.    , 0.    , 0.    , 0.    , 0.6875, 0.875 , 0.    , 0.    ,\n",
       "         0.    , 0.    , 0.    , 0.    , 0.6875, 0.875 , 0.1875, 0.    ,\n",
       "         0.    , 0.    , 0.25  , 0.75  , 1.    , 1.    , 0.4375, 0.    ,\n",
       "         0.    , 0.    , 0.6875, 1.    , 0.75  , 0.0625, 0.    , 0.    ,\n",
       "         0.    , 0.    , 0.0625, 0.875 , 0.375 , 0.    , 0.    , 0.    ,\n",
       "         0.    , 0.    , 0.25  , 0.75  , 0.0625, 0.    , 0.    , 0.    ]]),\n",
       " 'lr': 0.02,\n",
       " 'nn': None,\n",
       " 'num_cls': 10,\n",
       " 'num_lm': 10,\n",
       " 'random_state': 101,\n",
       " 'reg_l1': 0.0}"
      ]
     },
     "execution_count": 9,
     "metadata": {},
     "output_type": "execute_result"
    }
   ],
   "source": [
    "clf.sk_params"
   ]
  },
  {
   "cell_type": "code",
   "execution_count": 10,
   "metadata": {},
   "outputs": [
    {
     "data": {
      "text/plain": [
       "{'build_fn': <function gkernel.sklearn.make_model>,\n",
       " 'classes_': array([0, 1, 2, 3, 4, 5, 6, 7, 8, 9]),\n",
       " 'model': <keras.engine.training.Model at 0x7ff4ae9cb898>,\n",
       " 'n_classes_': 10,\n",
       " 'sk_params': {'callbacks': None,\n",
       "  'lm': array([[0.    , 0.    , 0.1875, 0.75  , 0.9375, 0.6875, 0.125 , 0.    ,\n",
       "          0.    , 0.    , 0.6875, 0.8125, 0.4375, 0.8125, 0.5   , 0.    ,\n",
       "          0.    , 0.4375, 0.9375, 0.0625, 0.3125, 0.9375, 0.1875, 0.    ,\n",
       "          0.    , 0.0625, 0.75  , 1.    , 1.    , 0.3125, 0.    , 0.    ,\n",
       "          0.    , 0.    , 0.    , 0.8125, 0.9375, 0.9375, 0.125 , 0.    ,\n",
       "          0.    , 0.    , 0.125 , 0.8125, 0.    , 0.625 , 0.3125, 0.    ,\n",
       "          0.    , 0.    , 0.25  , 0.6875, 0.25  , 0.6875, 0.375 , 0.    ,\n",
       "          0.    , 0.    , 0.125 , 0.8125, 1.    , 0.75  , 0.    , 0.    ],\n",
       "         [0.    , 0.    , 0.3125, 0.9375, 0.4375, 0.    , 0.    , 0.    ,\n",
       "          0.    , 0.    , 0.875 , 1.    , 1.    , 0.3125, 0.    , 0.    ,\n",
       "          0.    , 0.    , 0.8125, 0.875 , 0.875 , 0.9375, 0.    , 0.    ,\n",
       "          0.    , 0.    , 0.1875, 0.6875, 0.875 , 1.    , 0.1875, 0.    ,\n",
       "          0.    , 0.    , 0.    , 0.    , 0.375 , 1.    , 0.125 , 0.    ,\n",
       "          0.    , 0.    , 0.    , 0.    , 0.25  , 1.    , 0.4375, 0.    ,\n",
       "          0.    , 0.    , 0.    , 0.0625, 0.6875, 1.    , 0.375 , 0.    ,\n",
       "          0.    , 0.    , 0.25  , 0.9375, 1.    , 0.625 , 0.    , 0.    ],\n",
       "         [0.    , 0.    , 0.5625, 1.    , 0.6875, 0.0625, 0.    , 0.    ,\n",
       "          0.    , 0.3125, 1.    , 0.625 , 1.    , 0.5625, 0.    , 0.    ,\n",
       "          0.    , 0.375 , 0.875 , 0.0625, 0.5625, 0.9375, 0.    , 0.    ,\n",
       "          0.    , 0.0625, 0.9375, 0.375 , 0.6875, 1.    , 0.125 , 0.    ,\n",
       "          0.    , 0.    , 0.4375, 1.    , 0.9375, 1.    , 0.4375, 0.    ,\n",
       "          0.    , 0.    , 0.    , 0.1875, 0.0625, 0.6875, 0.5625, 0.    ,\n",
       "          0.    , 0.1875, 0.875 , 0.5625, 0.5625, 0.875 , 0.75  , 0.    ,\n",
       "          0.    , 0.    , 0.75  , 1.    , 1.    , 0.8125, 0.1875, 0.    ],\n",
       "         [0.    , 0.    , 0.6875, 0.75  , 0.    , 0.    , 0.    , 0.    ,\n",
       "          0.    , 0.125 , 1.    , 1.    , 1.    , 0.8125, 0.    , 0.    ,\n",
       "          0.    , 0.1875, 1.    , 0.75  , 0.625 , 0.875 , 0.    , 0.    ,\n",
       "          0.    , 0.0625, 1.    , 0.0625, 0.75  , 0.9375, 0.    , 0.    ,\n",
       "          0.    , 0.    , 0.8125, 1.    , 0.5625, 0.9375, 0.125 , 0.    ,\n",
       "          0.    , 0.    , 0.    , 0.1875, 0.    , 0.5625, 0.6875, 0.    ,\n",
       "          0.    , 0.    , 0.    , 0.    , 0.5625, 0.9375, 0.25  , 0.    ,\n",
       "          0.    , 0.    , 0.5625, 0.75  , 0.8125, 0.1875, 0.    , 0.    ],\n",
       "         [0.    , 0.    , 0.375 , 1.    , 0.8125, 0.75  , 0.875 , 0.0625,\n",
       "          0.    , 0.    , 0.875 , 0.25  , 0.25  , 0.9375, 0.25  , 0.    ,\n",
       "          0.    , 0.0625, 0.4375, 0.    , 0.625 , 0.4375, 0.    , 0.    ,\n",
       "          0.    , 0.    , 0.    , 0.125 , 0.8125, 0.0625, 0.    , 0.    ,\n",
       "          0.    , 0.125 , 0.5625, 0.875 , 1.    , 0.75  , 0.    , 0.    ,\n",
       "          0.    , 0.25  , 0.375 , 0.9375, 0.125 , 0.25  , 0.0625, 0.    ,\n",
       "          0.    , 0.    , 0.375 , 0.4375, 0.    , 0.    , 0.    , 0.    ,\n",
       "          0.    , 0.    , 0.625 , 0.25  , 0.    , 0.    , 0.    , 0.    ],\n",
       "         [0.    , 0.    , 0.0625, 0.75  , 0.75  , 0.25  , 0.0625, 0.    ,\n",
       "          0.    , 0.    , 0.8125, 0.8125, 0.8125, 0.875 , 0.5   , 0.    ,\n",
       "          0.    , 0.375 , 0.9375, 0.    , 0.    , 0.75  , 0.4375, 0.    ,\n",
       "          0.    , 0.125 , 1.    , 0.8125, 0.75  , 0.8125, 0.0625, 0.    ,\n",
       "          0.    , 0.    , 0.    , 0.875 , 1.    , 0.5625, 0.    , 0.    ,\n",
       "          0.    , 0.    , 0.375 , 0.625 , 0.125 , 1.    , 0.    , 0.    ,\n",
       "          0.    , 0.    , 0.6875, 0.5   , 0.3125, 1.    , 0.    , 0.    ,\n",
       "          0.    , 0.    , 0.1875, 0.75  , 1.    , 0.4375, 0.    , 0.    ],\n",
       "         [0.    , 0.    , 0.6875, 1.    , 0.4375, 0.    , 0.    , 0.    ,\n",
       "          0.    , 0.0625, 1.    , 0.6875, 0.9375, 0.    , 0.    , 0.    ,\n",
       "          0.    , 0.125 , 1.    , 0.3125, 1.    , 0.25  , 0.    , 0.    ,\n",
       "          0.    , 0.    , 0.125 , 0.125 , 1.    , 0.1875, 0.    , 0.    ,\n",
       "          0.    , 0.    , 0.    , 0.3125, 1.    , 0.    , 0.    , 0.    ,\n",
       "          0.    , 0.    , 0.    , 0.5625, 0.875 , 0.    , 0.    , 0.    ,\n",
       "          0.    , 0.    , 0.5625, 1.    , 0.875 , 0.4375, 0.375 , 0.    ,\n",
       "          0.    , 0.    , 0.8125, 0.875 , 0.875 , 1.    , 1.    , 0.375 ],\n",
       "         [0.    , 0.    , 0.4375, 1.    , 1.    , 0.875 , 0.    , 0.    ,\n",
       "          0.    , 0.    , 1.    , 0.75  , 0.625 , 0.9375, 0.0625, 0.    ,\n",
       "          0.    , 0.    , 0.625 , 0.25  , 1.    , 0.625 , 0.    , 0.    ,\n",
       "          0.    , 0.    , 0.    , 0.5625, 1.    , 0.6875, 0.0625, 0.    ,\n",
       "          0.    , 0.    , 0.    , 0.    , 0.4375, 1.    , 0.5   , 0.    ,\n",
       "          0.    , 0.    , 0.    , 0.    , 0.    , 1.    , 0.4375, 0.    ,\n",
       "          0.    , 0.    , 0.5   , 0.25  , 0.625 , 0.9375, 0.125 , 0.    ,\n",
       "          0.    , 0.    , 0.75  , 1.    , 1.    , 0.375 , 0.    , 0.    ],\n",
       "         [0.    , 0.    , 0.625 , 1.    , 1.    , 0.5   , 0.    , 0.    ,\n",
       "          0.    , 0.    , 0.3125, 0.5   , 0.8125, 0.8125, 0.    , 0.    ,\n",
       "          0.    , 0.    , 0.    , 0.    , 0.5625, 0.8125, 0.    , 0.    ,\n",
       "          0.    , 0.    , 0.    , 0.125 , 0.8125, 0.75  , 0.    , 0.    ,\n",
       "          0.    , 0.    , 0.125 , 0.9375, 1.    , 1.    , 0.4375, 0.    ,\n",
       "          0.    , 0.    , 0.    , 0.8125, 0.8125, 0.3125, 0.0625, 0.    ,\n",
       "          0.    , 0.    , 0.0625, 0.875 , 0.3125, 0.    , 0.    , 0.    ,\n",
       "          0.    , 0.    , 0.5625, 0.8125, 0.0625, 0.    , 0.    , 0.    ],\n",
       "         [0.    , 0.    , 0.125 , 0.9375, 0.9375, 0.1875, 0.    , 0.    ,\n",
       "          0.    , 0.    , 0.5   , 0.875 , 1.    , 0.6875, 0.    , 0.    ,\n",
       "          0.    , 0.    , 0.    , 0.    , 0.6875, 0.875 , 0.    , 0.    ,\n",
       "          0.    , 0.    , 0.    , 0.    , 0.6875, 0.875 , 0.1875, 0.    ,\n",
       "          0.    , 0.    , 0.25  , 0.75  , 1.    , 1.    , 0.4375, 0.    ,\n",
       "          0.    , 0.    , 0.6875, 1.    , 0.75  , 0.0625, 0.    , 0.    ,\n",
       "          0.    , 0.    , 0.0625, 0.875 , 0.375 , 0.    , 0.    , 0.    ,\n",
       "          0.    , 0.    , 0.25  , 0.75  , 0.0625, 0.    , 0.    , 0.    ]]),\n",
       "  'lr': 0.02,\n",
       "  'nn': None,\n",
       "  'num_cls': 10,\n",
       "  'num_lm': 10,\n",
       "  'random_state': 101,\n",
       "  'reg_l1': 0.0}}"
      ]
     },
     "execution_count": 10,
     "metadata": {},
     "output_type": "execute_result"
    }
   ],
   "source": [
    "clf.__dict__"
   ]
  },
  {
   "cell_type": "code",
   "execution_count": 11,
   "metadata": {},
   "outputs": [
    {
     "data": {
      "text/plain": [
       "0.11427088"
      ]
     },
     "execution_count": 11,
     "metadata": {},
     "output_type": "execute_result"
    }
   ],
   "source": [
    "clf.current_gamma()"
   ]
  },
  {
   "cell_type": "code",
   "execution_count": 12,
   "metadata": {},
   "outputs": [
    {
     "data": {
      "text/plain": [
       "array([1, 3, 9, 7, 9, 1, 3, 5, 7, 1])"
      ]
     },
     "execution_count": 12,
     "metadata": {},
     "output_type": "execute_result"
    }
   ],
   "source": [
    "clf.predict(xtrain)[:10]"
   ]
  },
  {
   "cell_type": "code",
   "execution_count": 13,
   "metadata": {},
   "outputs": [
    {
     "data": {
      "text/plain": [
       "array([[9.24190164e-01, 1.42645047e-04, 5.75913989e-04, 1.50571548e-04,\n",
       "        1.44329737e-03, 2.99103837e-02, 1.16840657e-03, 3.04540823e-04,\n",
       "        2.29085907e-02, 1.92053895e-02],\n",
       "       [8.69081449e-03, 4.71826971e-01, 2.45093137e-01, 4.95541748e-03,\n",
       "        4.26684767e-02, 2.19757911e-02, 6.00259006e-02, 1.60581637e-02,\n",
       "        1.22767545e-01, 5.93775697e-03],\n",
       "       [2.63670292e-02, 1.08059786e-01, 9.55783413e-04, 2.99776566e-05,\n",
       "        8.40935111e-01, 1.59446197e-03, 9.59259830e-03, 9.84997302e-03,\n",
       "        5.24596893e-04, 2.09072116e-03],\n",
       "       [2.58982200e-02, 1.87338889e-01, 1.46568129e-02, 2.60843808e-04,\n",
       "        5.11527285e-02, 2.96568405e-02, 6.30047977e-01, 4.53077839e-04,\n",
       "        5.39223216e-02, 6.61234511e-03],\n",
       "       [1.61991298e-01, 1.46336318e-03, 6.00928580e-03, 2.72217859e-03,\n",
       "        5.05853619e-04, 1.20629249e-02, 2.60793362e-02, 9.98455798e-05,\n",
       "        6.71686947e-01, 1.17379002e-01]], dtype=float32)"
      ]
     },
     "execution_count": 13,
     "metadata": {},
     "output_type": "execute_result"
    }
   ],
   "source": [
    "clf.predict_proba(xtest)[:5]"
   ]
  },
  {
   "cell_type": "code",
   "execution_count": 14,
   "metadata": {},
   "outputs": [
    {
     "name": "stdout",
     "output_type": "stream",
     "text": [
      "898/898 [==============================] - 0s 144us/step\n"
     ]
    },
    {
     "data": {
      "text/plain": [
       "0.8262806236080178"
      ]
     },
     "execution_count": 14,
     "metadata": {},
     "output_type": "execute_result"
    }
   ],
   "source": [
    "clf.score(xtrain, ytrain)"
   ]
  },
  {
   "cell_type": "code",
   "execution_count": 15,
   "metadata": {},
   "outputs": [
    {
     "name": "stdout",
     "output_type": "stream",
     "text": [
      "899/899 [==============================] - 0s 25us/step\n"
     ]
    },
    {
     "data": {
      "text/plain": [
       "0.8453837597993378"
      ]
     },
     "execution_count": 15,
     "metadata": {},
     "output_type": "execute_result"
    }
   ],
   "source": [
    "clf.score(xtest, yans)"
   ]
  },
  {
   "cell_type": "code",
   "execution_count": 16,
   "metadata": {},
   "outputs": [
    {
     "name": "stdout",
     "output_type": "stream",
     "text": [
      "F1_SCORE : 0.8248791607415862\n",
      "              precision    recall  f1-score   support\n",
      "\n",
      "           0       0.95      0.90      0.92        88\n",
      "           1       0.76      0.73      0.75        89\n",
      "           2       0.87      0.79      0.83        91\n",
      "           3       0.86      0.87      0.87        93\n",
      "           4       0.85      0.95      0.90        88\n",
      "           5       0.76      0.84      0.80        91\n",
      "           6       0.87      0.91      0.89        90\n",
      "           7       0.88      0.89      0.89        91\n",
      "           8       0.70      0.66      0.68        86\n",
      "           9       0.76      0.71      0.73        91\n",
      "\n",
      "   micro avg       0.83      0.83      0.83       898\n",
      "   macro avg       0.83      0.83      0.82       898\n",
      "weighted avg       0.83      0.83      0.83       898\n",
      "\n",
      "[[79  1  0  0  2  5  1  0  0  0]\n",
      " [ 0 65  6  0  4  1  2  3  1  7]\n",
      " [ 0  4 72  3  1  2  2  2  5  0]\n",
      " [ 1  0  1 81  0  1  0  3  3  3]\n",
      " [ 0  1  0  0 84  0  0  2  1  0]\n",
      " [ 1  3  1  0  0 76  2  0  4  4]\n",
      " [ 0  4  0  0  0  1 82  0  1  2]\n",
      " [ 0  1  0  0  7  0  0 81  1  1]\n",
      " [ 2  4  2  2  0 12  2  1 57  4]\n",
      " [ 0  2  1  8  1  2  3  0  9 65]]\n"
     ]
    }
   ],
   "source": [
    "print('F1_SCORE :', f1_score(np.argmax(ytrain,axis=1), clf.predict(xtrain), average='macro'))\n",
    "print(classification_report(np.argmax(ytrain,axis=1), clf.predict(xtrain)))\n",
    "print(confusion_matrix(np.argmax(ytrain,axis=1), clf.predict(xtrain)))"
   ]
  },
  {
   "cell_type": "code",
   "execution_count": 17,
   "metadata": {},
   "outputs": [
    {
     "name": "stdout",
     "output_type": "stream",
     "text": [
      "F1_SCORE : 0.8450998576273658\n",
      "              precision    recall  f1-score   support\n",
      "\n",
      "           0       0.97      0.94      0.96        90\n",
      "           1       0.77      0.80      0.78        93\n",
      "           2       0.93      0.90      0.91        86\n",
      "           3       0.81      0.88      0.84        90\n",
      "           4       0.90      0.91      0.91        93\n",
      "           5       0.80      0.78      0.79        91\n",
      "           6       0.90      0.91      0.91        91\n",
      "           7       0.89      0.91      0.90        88\n",
      "           8       0.76      0.72      0.74        88\n",
      "           9       0.72      0.71      0.72        89\n",
      "\n",
      "   micro avg       0.85      0.85      0.85       899\n",
      "   macro avg       0.85      0.85      0.85       899\n",
      "weighted avg       0.85      0.85      0.85       899\n",
      "\n",
      "[[85  0  0  0  0  2  2  0  1  0]\n",
      " [ 1 74  4  0  4  1  4  0  3  2]\n",
      " [ 0  3 77  1  0  0  0  1  4  0]\n",
      " [ 0  0  1 79  0  1  0  3  1  5]\n",
      " [ 0  2  0  0 85  1  0  4  1  0]\n",
      " [ 1  2  0  1  1 71  1  0  3 11]\n",
      " [ 1  4  0  0  0  0 83  0  3  0]\n",
      " [ 0  1  0  1  3  0  0 80  3  0]\n",
      " [ 0  5  1  1  1  7  2  2 63  6]\n",
      " [ 0  5  0 14  0  6  0  0  1 63]]\n"
     ]
    }
   ],
   "source": [
    "print('F1_SCORE :', f1_score(np.argmax(yans,axis=1), clf.predict(xtest), average='macro'))\n",
    "print(classification_report(np.argmax(yans,axis=1), clf.predict(xtest)))\n",
    "print(confusion_matrix(np.argmax(yans,axis=1), clf.predict(xtest)))"
   ]
  },
  {
   "cell_type": "code",
   "execution_count": null,
   "metadata": {
    "collapsed": true
   },
   "outputs": [],
   "source": []
  },
  {
   "cell_type": "code",
   "execution_count": 18,
   "metadata": {
    "collapsed": true
   },
   "outputs": [],
   "source": [
    "from sklearn.model_selection import StratifiedShuffleSplit, GridSearchCV, validation_curve\n",
    "from sklearn.feature_selection import RFECV\n",
    "from sklearn.linear_model import LogisticRegression, Lasso\n",
    "import pandas as pd\n",
    "from sklearn.metrics import mean_squared_error, mean_absolute_error, roc_auc_score, r2_score, make_scorer\n",
    "from sklearn.metrics.pairwise import cosine_similarity, euclidean_distances\n",
    "import joblib"
   ]
  },
  {
   "cell_type": "code",
   "execution_count": 19,
   "metadata": {},
   "outputs": [
    {
     "name": "stdout",
     "output_type": "stream",
     "text": [
      "counter  | val_f1    |  val_r2    \n",
      "---------------------------------------------\n",
      "    0    |  0.4204   |  -0.6106   1.235459e-01 <-- OK  \n",
      "    1    |  0.4088   |  -0.4615   1.182230e-01 <-- OK  \n",
      "    2    |  0.4203   |  -0.6536   1.144033e-01 <-- OK  \n"
     ]
    },
    {
     "name": "stderr",
     "output_type": "stream",
     "text": [
      "/home/admin/miniconda3/envs/da02/lib/python3.6/site-packages/sklearn/metrics/classification.py:1143: UndefinedMetricWarning: F-score is ill-defined and being set to 0.0 in labels with no predicted samples.\n",
      "  'precision', 'predicted', average, warn_for)\n"
     ]
    },
    {
     "name": "stdout",
     "output_type": "stream",
     "text": [
      "    3    |  0.4060   |  -0.1983   1.103966e-01 <-- OK  \n",
      "    4    |  0.3204   |  -0.1793   1.206005e-01 <-- OK  \n",
      "    5    |  0.3872   |  -0.3883   1.433272e-01 <-- OK  \n",
      "    6    |  0.4030   |  -0.1596   1.009572e-01 <-- OK  \n",
      "    7    |  0.3930   |  -0.3983   1.222785e-01 <-- OK  \n",
      "    8    |  0.4056   |  -0.3601   1.385151e-01 <-- OK  \n",
      "    9    |  0.3152   |  -0.6620   1.058504e-01 <-- OK  \n",
      "   10    |  0.3768   |  -0.2431   1.353818e-01 <-- OK  \n",
      "   11    |  0.3448   |  -0.5477   1.331684e-01 <-- OK  \n",
      "   12    |  0.4403   |  -0.3226   1.129881e-01 <-- OK  \n",
      "   13    |  0.3788   |  -0.2013   1.025722e-01 <-- OK  \n",
      "   14    |  0.4283   |  -0.5616   1.377715e-01 <-- OK  \n",
      "   15    |  0.3029   |  -0.5757   8.906122e-02 <-- OK  \n",
      "   16    |  0.3731   |  -0.1813   1.065135e-01 <-- OK  \n",
      "   17    |  0.3541   |  -0.6318   1.498295e-01 <-- OK  \n",
      "   18    |  0.4011   |  -0.3450   1.099304e-01 <-- OK  \n",
      "   19    |  0.4713   |  -0.1160   1.080779e-01 <-- OK  \n",
      "   20    |  0.4403   |  -0.3110   1.219129e-01 <-- OK  \n",
      "   21    |  0.4642   |  -0.3354   1.146874e-01 <-- OK  \n",
      "   22    |  0.4130   |  -0.2446   1.113633e-01 <-- OK  \n",
      "   23    |  0.3636   |  -0.1160   1.259237e-01 <-- OK  \n",
      "   24    |  0.4100   |  -0.1518   1.305409e-01 <-- OK  \n",
      "   25    |  0.4030   |  -0.1442   1.273957e-01 <-- OK  \n"
     ]
    },
    {
     "name": "stderr",
     "output_type": "stream",
     "text": [
      "/home/admin/miniconda3/envs/da02/lib/python3.6/site-packages/sklearn/metrics/classification.py:1143: UndefinedMetricWarning: F-score is ill-defined and being set to 0.0 in labels with no predicted samples.\n",
      "  'precision', 'predicted', average, warn_for)\n"
     ]
    },
    {
     "name": "stdout",
     "output_type": "stream",
     "text": [
      "   26    |  0.2669   |  -0.6829   1.491105e-01 <-- skipping  \n",
      "   27    |  0.3932   |  -0.3414   1.126856e-01 <-- OK  \n",
      "   28    |  0.4488   |  -0.0592   1.300201e-01 <-- OK  \n",
      "   29    |  0.4271   |  -0.0990   1.296547e-01 <-- OK  \n",
      "   30    |  0.5106   |  0.1255   1.257863e-01 <-- OK  \n",
      "   31    |  0.3827   |  -0.4586   1.447242e-01 <-- OK  \n",
      "   32    |  0.4013   |  -0.0531   9.644230e-02 <-- OK  \n",
      "   33    |  0.3848   |  -0.4468   1.133118e-01 <-- OK  \n",
      "   34    |  0.4135   |  -0.6089   1.059621e-01 <-- OK  \n",
      "   35    |  0.4821   |  0.0972   1.196165e-01 <-- OK  \n",
      "   36    |  0.3906   |  -0.3569   1.422569e-01 <-- OK  \n",
      "   37    |  0.3753   |  -0.3227   1.238176e-01 <-- OK  \n",
      "   38    |  0.3598   |  -0.3098   9.428260e-02 <-- OK  \n",
      "   39    |  0.3225   |  -0.6177   9.484406e-02 <-- OK  \n",
      "   40    |  0.4030   |  -0.2968   1.222501e-01 <-- OK  \n",
      "   41    |  0.3359   |  -0.5366   1.240893e-01 <-- OK  \n",
      "   42    |  0.3869   |  -0.4119   1.177511e-01 <-- OK  \n",
      "   43    |  0.3588   |  -0.6153   1.233508e-01 <-- OK  \n",
      "   44    |  0.3979   |  -0.4453   1.070839e-01 <-- OK  \n"
     ]
    },
    {
     "name": "stderr",
     "output_type": "stream",
     "text": [
      "/home/admin/miniconda3/envs/da02/lib/python3.6/site-packages/sklearn/metrics/classification.py:1143: UndefinedMetricWarning: F-score is ill-defined and being set to 0.0 in labels with no predicted samples.\n",
      "  'precision', 'predicted', average, warn_for)\n"
     ]
    },
    {
     "name": "stdout",
     "output_type": "stream",
     "text": [
      "   45    |  0.3813   |  -0.2248   1.231836e-01 <-- OK  \n",
      "   46    |  0.3647   |  -0.3749   1.284760e-01 <-- OK  \n",
      "   47    |  0.3845   |  -0.7125   1.313143e-01 <-- OK  \n",
      "   48    |  0.3871   |  -0.5191   1.506562e-01 <-- OK  \n",
      "   49    |  0.4854   |  0.0609   1.263022e-01 <-- OK  \n",
      "CPU times: user 12min 5s, sys: 22.9 s, total: 12min 27s\n",
      "Wall time: 8min 46s\n"
     ]
    }
   ],
   "source": [
    "%%time\n",
    "\n",
    "ins_splitter = StratifiedShuffleSplit(n_splits=50, test_size=0.5, random_state=0)\n",
    "var_idx_all = np.arange(xtrain.shape[1])\n",
    "#threshold = 0.85\n",
    "threshold = 0.30\n",
    "importances = np.zeros((xtrain.shape[1],))\n",
    "predictions = pd.DataFrame()\n",
    "#preds_all = pd.DataFrame()\n",
    "pred_all_list = []\n",
    "pred_train_all_list = []\n",
    "counter = 0\n",
    "np.random.seed(10001)\n",
    "\n",
    "print(\"counter  | val_f1    |  val_r2    \")\n",
    "print(\"---------------------------------------------\")\n",
    "\n",
    "\n",
    "for train_index, val_index in ins_splitter.split(xtrain, ytrain):\n",
    "    x_train_tr, x_train_val = xtrain[train_index], xtrain[val_index]\n",
    "    y_train_tr, y_train_val = ytrain[train_index], ytrain[val_index]\n",
    "    \n",
    "    \n",
    "    #estimator = LGBMRegressor(min_child_samples=50, reg_alpha=100)\n",
    "    estimator = RBFClassifier(\n",
    "        num_lm=2,\n",
    "        lm_select_from_x=True,\n",
    "        random_state=None,\n",
    "        lr=0.02, gamma='scale',\n",
    "        epochs=500, batch_size=1024, verbose=0\n",
    "    )\n",
    "    estimator.fit(x_train_tr, y_train_tr)\n",
    "    \n",
    "    # score our fitted model on validation data\n",
    "    val_y_pred = estimator.predict(x_train_val)\n",
    "    val_mse = mean_squared_error(np.argmax(y_train_val,axis=1), val_y_pred)\n",
    "    val_mae = mean_absolute_error(np.argmax(y_train_val,axis=1), val_y_pred)\n",
    "    val_kappa = 0.0\n",
    "    val_f1 = f1_score(np.argmax(y_train_val,axis=1), val_y_pred, average='macro')\n",
    "    val_cos = cosine_similarity(np.argmax(y_train_val,axis=1).reshape(1, -1), val_y_pred.reshape(1, -1))[0][0]\n",
    "    val_dst = euclidean_distances(np.argmax(y_train_val,axis=1).reshape(1, -1), val_y_pred.reshape(1, -1))[0][0]\n",
    "    val_r2  = r2_score(np.argmax(y_train_val,axis=1), val_y_pred)\n",
    "    gamma = estimator.current_gamma()\n",
    "    \n",
    "    if val_f1 > threshold:\n",
    "        message = '<-- OK'\n",
    "        pred_train_all = estimator.predict_proba(xtrain)\n",
    "        pred_train_all_list.append(pred_train_all)\n",
    "        pred_all = estimator.predict_proba(xtest)\n",
    "        pred_all_list.append(pred_all)\n",
    "        #preds_all = pd.concat([preds_all, pd.DataFrame(pred_all)], axis=1)\n",
    "        #prediction = grid_search.best_estimator_.predict(x_test0)\n",
    "        #predictions = pd.concat([predictions, pd.DataFrame(prediction)], axis=1)\n",
    "        #importances += estimator.feature_importances_\n",
    "        #filename = 'model-{}.sav'.format(counter)\n",
    "        #joblib.dump(estimator, filename)\n",
    "    else:\n",
    "        message = '<-- skipping'\n",
    "\n",
    "    print(\"{0:5}    |  {3:.4f}   |  {4:.4f}   {5:5e} {7}  \".format(\n",
    "        counter,\n",
    "        val_mse,\n",
    "        val_mae,\n",
    "        val_f1,\n",
    "        val_r2,\n",
    "        gamma,\n",
    "        0,\n",
    "        message))\n",
    "    \n",
    "    counter += 1"
   ]
  },
  {
   "cell_type": "code",
   "execution_count": 20,
   "metadata": {},
   "outputs": [
    {
     "name": "stdout",
     "output_type": "stream",
     "text": [
      "F1_SCORE : 0.4406541654186345\n",
      "F1_SCORE : 0.40382556210984094\n",
      "F1_SCORE : 0.4289029587954074\n",
      "F1_SCORE : 0.37143901258116674\n",
      "F1_SCORE : 0.3451013460337898\n",
      "F1_SCORE : 0.3781137288610215\n",
      "F1_SCORE : 0.41809227501234536\n",
      "F1_SCORE : 0.4109717799143865\n",
      "F1_SCORE : 0.4156301865411013\n",
      "F1_SCORE : 0.31348167485810374\n",
      "F1_SCORE : 0.4035436519207666\n",
      "F1_SCORE : 0.36313971959248087\n",
      "F1_SCORE : 0.44060550260464987\n",
      "F1_SCORE : 0.3757763654354628\n",
      "F1_SCORE : 0.4300674638790711\n",
      "F1_SCORE : 0.3157810695123784\n",
      "F1_SCORE : 0.3897017805204272\n",
      "F1_SCORE : 0.36422907916676855\n",
      "F1_SCORE : 0.39088406487111904\n",
      "F1_SCORE : 0.4727710350961768\n",
      "F1_SCORE : 0.4369394420024625\n",
      "F1_SCORE : 0.46231307745810446\n",
      "F1_SCORE : 0.40456716817038085\n",
      "F1_SCORE : 0.3463540985484071\n",
      "F1_SCORE : 0.42277340326467006\n",
      "F1_SCORE : 0.42101145251645294\n",
      "F1_SCORE : 0.3987467168035996\n",
      "F1_SCORE : 0.46502425312257606\n",
      "F1_SCORE : 0.4268926394578427\n",
      "F1_SCORE : 0.5129131457314077\n",
      "F1_SCORE : 0.3759248399832348\n",
      "F1_SCORE : 0.4259226081912919\n",
      "F1_SCORE : 0.3768133480026104\n",
      "F1_SCORE : 0.4236857816529761\n",
      "F1_SCORE : 0.48539453629989404\n",
      "F1_SCORE : 0.3701344957681376\n",
      "F1_SCORE : 0.4071136802176\n",
      "F1_SCORE : 0.3635434827239208\n",
      "F1_SCORE : 0.33435759782617047\n",
      "F1_SCORE : 0.4041953453943088\n",
      "F1_SCORE : 0.3191984982414846\n",
      "F1_SCORE : 0.426621230202979\n",
      "F1_SCORE : 0.34239196658034304\n",
      "F1_SCORE : 0.4112678207141232\n",
      "F1_SCORE : 0.3840823784542882\n",
      "F1_SCORE : 0.359732248530105\n",
      "F1_SCORE : 0.4123678602469079\n",
      "F1_SCORE : 0.3788326434871625\n",
      "F1_SCORE : 0.49675668104322523\n"
     ]
    },
    {
     "name": "stderr",
     "output_type": "stream",
     "text": [
      "/home/admin/miniconda3/envs/da02/lib/python3.6/site-packages/sklearn/metrics/classification.py:1143: UndefinedMetricWarning: F-score is ill-defined and being set to 0.0 in labels with no predicted samples.\n",
      "  'precision', 'predicted', average, warn_for)\n"
     ]
    }
   ],
   "source": [
    "for ee in pred_train_all_list:\n",
    "    print('F1_SCORE :', f1_score(np.argmax(ytrain, axis=1), np.argmax(ee, axis=1), average='macro'))"
   ]
  },
  {
   "cell_type": "code",
   "execution_count": 21,
   "metadata": {},
   "outputs": [
    {
     "name": "stdout",
     "output_type": "stream",
     "text": [
      "F1_SCORE : 0.8645262684606015\n",
      "              precision    recall  f1-score   support\n",
      "\n",
      "           0       0.98      0.95      0.97        88\n",
      "           1       0.89      0.85      0.87        89\n",
      "           2       0.87      0.82      0.85        91\n",
      "           3       0.81      0.87      0.84        93\n",
      "           4       0.83      0.97      0.89        88\n",
      "           5       0.92      0.76      0.83        91\n",
      "           6       0.97      0.99      0.98        90\n",
      "           7       0.82      0.98      0.89        91\n",
      "           8       0.91      0.71      0.80        86\n",
      "           9       0.70      0.75      0.72        91\n",
      "\n",
      "   micro avg       0.87      0.87      0.87       898\n",
      "   macro avg       0.87      0.87      0.86       898\n",
      "weighted avg       0.87      0.87      0.86       898\n",
      "\n",
      "[[84  0  0  0  2  0  2  0  0  0]\n",
      " [ 0 76  5  0  1  0  1  0  0  6]\n",
      " [ 1  1 75  6  3  0  0  2  3  0]\n",
      " [ 0  0  2 81  0  1  0  4  0  5]\n",
      " [ 0  0  0  0 85  0  0  3  0  0]\n",
      " [ 1  0  0  3  2 69  0  3  2 11]\n",
      " [ 0  1  0  0  0  0 89  0  0  0]\n",
      " [ 0  0  0  0  2  0  0 89  0  0]\n",
      " [ 0  6  4  3  1  4  0  0 61  7]\n",
      " [ 0  1  0  7  6  1  0  7  1 68]]\n"
     ]
    }
   ],
   "source": [
    "print('F1_SCORE :', f1_score(np.argmax(ytrain, axis=1), np.argmax(np.stack(pred_train_all_list).mean(axis=0), axis=1), average='macro'))\n",
    "print(classification_report(np.argmax(ytrain, axis=1), np.argmax(np.stack(pred_train_all_list).mean(axis=0), axis=1)))\n",
    "print(confusion_matrix(np.argmax(ytrain, axis=1), np.argmax(np.stack(pred_train_all_list).mean(axis=0), axis=1)))"
   ]
  },
  {
   "cell_type": "code",
   "execution_count": 22,
   "metadata": {},
   "outputs": [
    {
     "data": {
      "text/plain": [
       "(899, 10)"
      ]
     },
     "execution_count": 22,
     "metadata": {},
     "output_type": "execute_result"
    }
   ],
   "source": [
    "np.stack(pred_all_list).mean(axis=0).shape"
   ]
  },
  {
   "cell_type": "code",
   "execution_count": 23,
   "metadata": {},
   "outputs": [
    {
     "name": "stdout",
     "output_type": "stream",
     "text": [
      "F1_SCORE : 0.44997031015879624\n",
      "F1_SCORE : 0.4243263455121663\n",
      "F1_SCORE : 0.41583134051168774\n",
      "F1_SCORE : 0.3692130605959628\n",
      "F1_SCORE : 0.3314889111615035\n",
      "F1_SCORE : 0.3933025556137534\n",
      "F1_SCORE : 0.3886387882885815\n",
      "F1_SCORE : 0.40810043902014803\n",
      "F1_SCORE : 0.43286137595582935\n",
      "F1_SCORE : 0.32195295574428734\n",
      "F1_SCORE : 0.4044382641315557\n",
      "F1_SCORE : 0.3707030017908365\n",
      "F1_SCORE : 0.4522835489079161\n",
      "F1_SCORE : 0.37072128318755276\n",
      "F1_SCORE : 0.46361398312893504\n",
      "F1_SCORE : 0.35038227452794773\n",
      "F1_SCORE : 0.42130516306406296\n",
      "F1_SCORE : 0.3744701164078785\n",
      "F1_SCORE : 0.40153766865750595\n",
      "F1_SCORE : 0.49975508481551423\n",
      "F1_SCORE : 0.3882238773082986\n",
      "F1_SCORE : 0.455455067162578\n",
      "F1_SCORE : 0.3795611399600135\n",
      "F1_SCORE : 0.39961149526832884\n",
      "F1_SCORE : 0.35834112910698396\n",
      "F1_SCORE : 0.4212040734016905\n",
      "F1_SCORE : 0.3976923810296032\n",
      "F1_SCORE : 0.45604738390351585\n",
      "F1_SCORE : 0.43695179831241837\n",
      "F1_SCORE : 0.5111000756557869\n",
      "F1_SCORE : 0.3572610929181027\n",
      "F1_SCORE : 0.41396458024183946\n",
      "F1_SCORE : 0.3505172316438331\n",
      "F1_SCORE : 0.418681979337856\n",
      "F1_SCORE : 0.4697210293356752\n",
      "F1_SCORE : 0.3762922982002646\n",
      "F1_SCORE : 0.41701919775202245\n",
      "F1_SCORE : 0.3637203168987553\n",
      "F1_SCORE : 0.3300536546336377\n",
      "F1_SCORE : 0.4191360793836302\n",
      "F1_SCORE : 0.33865759165987713\n",
      "F1_SCORE : 0.4236600726441188\n",
      "F1_SCORE : 0.3169418919196004\n",
      "F1_SCORE : 0.4138111526936578\n",
      "F1_SCORE : 0.36285317710285464\n",
      "F1_SCORE : 0.37649363609886377\n",
      "F1_SCORE : 0.3984922659373541\n",
      "F1_SCORE : 0.3130994956980756\n",
      "F1_SCORE : 0.48671629793792687\n"
     ]
    },
    {
     "name": "stderr",
     "output_type": "stream",
     "text": [
      "/home/admin/miniconda3/envs/da02/lib/python3.6/site-packages/sklearn/metrics/classification.py:1143: UndefinedMetricWarning: F-score is ill-defined and being set to 0.0 in labels with no predicted samples.\n",
      "  'precision', 'predicted', average, warn_for)\n"
     ]
    }
   ],
   "source": [
    "for ee in pred_all_list:\n",
    "    print('F1_SCORE :', f1_score(np.argmax(yans, axis=1), np.argmax(ee, axis=1), average='macro'))"
   ]
  },
  {
   "cell_type": "code",
   "execution_count": 24,
   "metadata": {},
   "outputs": [
    {
     "name": "stdout",
     "output_type": "stream",
     "text": [
      "F1_SCORE : 0.8826660371568613\n",
      "              precision    recall  f1-score   support\n",
      "\n",
      "           0       1.00      1.00      1.00        90\n",
      "           1       0.88      0.78      0.83        93\n",
      "           2       0.87      0.88      0.88        86\n",
      "           3       0.87      0.86      0.86        90\n",
      "           4       0.91      0.92      0.92        93\n",
      "           5       0.95      0.76      0.84        91\n",
      "           6       0.95      0.99      0.97        91\n",
      "           7       0.82      0.98      0.89        88\n",
      "           8       0.89      0.84      0.87        88\n",
      "           9       0.73      0.82      0.77        89\n",
      "\n",
      "   micro avg       0.88      0.88      0.88       899\n",
      "   macro avg       0.89      0.88      0.88       899\n",
      "weighted avg       0.89      0.88      0.88       899\n",
      "\n",
      "[[90  0  0  0  0  0  0  0  0  0]\n",
      " [ 0 73  7  0  3  0  5  0  0  5]\n",
      " [ 0  2 76  2  1  0  0  0  3  2]\n",
      " [ 0  0  1 77  0  0  0  4  5  3]\n",
      " [ 0  1  0  0 86  0  0  6  0  0]\n",
      " [ 0  0  0  3  2 69  0  2  1 14]\n",
      " [ 0  0  0  0  1  0 90  0  0  0]\n",
      " [ 0  0  1  0  0  0  0 86  0  1]\n",
      " [ 0  7  2  1  0  1  0  1 74  2]\n",
      " [ 0  0  0  6  1  3  0  6  0 73]]\n"
     ]
    }
   ],
   "source": [
    "print('F1_SCORE :', f1_score(np.argmax(yans, axis=1), np.argmax(np.stack(pred_all_list).mean(axis=0), axis=1), average='macro'))\n",
    "print(classification_report(np.argmax(yans, axis=1), np.argmax(np.stack(pred_all_list).mean(axis=0), axis=1)))\n",
    "print(confusion_matrix(np.argmax(yans, axis=1), np.argmax(np.stack(pred_all_list).mean(axis=0), axis=1)))"
   ]
  },
  {
   "cell_type": "code",
   "execution_count": null,
   "metadata": {
    "collapsed": true
   },
   "outputs": [],
   "source": []
  },
  {
   "cell_type": "markdown",
   "metadata": {},
   "source": [
    "## validation_curve + LogisticRegression"
   ]
  },
  {
   "cell_type": "code",
   "execution_count": 25,
   "metadata": {},
   "outputs": [
    {
     "data": {
      "text/plain": [
       "3"
      ]
     },
     "execution_count": 25,
     "metadata": {},
     "output_type": "execute_result"
    }
   ],
   "source": [
    "cv_splitter = StratifiedShuffleSplit(n_splits=3, test_size=0.35, random_state=0)\n",
    "cv_splitter.get_n_splits(xtrain, ytrain)"
   ]
  },
  {
   "cell_type": "code",
   "execution_count": 26,
   "metadata": {},
   "outputs": [
    {
     "data": {
      "text/plain": [
       "array([1.e-03, 1.e-02, 1.e-01, 1.e+00, 1.e+01, 1.e+02, 1.e+03])"
      ]
     },
     "execution_count": 26,
     "metadata": {},
     "output_type": "execute_result"
    }
   ],
   "source": [
    "param_name = \"C\"\n",
    "param_range = np.logspace(-3, 3, 7)\n",
    "param_range"
   ]
  },
  {
   "cell_type": "code",
   "execution_count": 27,
   "metadata": {
    "collapsed": true
   },
   "outputs": [],
   "source": [
    "def f1_scorer(estimator, X, y):\n",
    "    pred = estimator.predict(X)\n",
    "    s = f1_score(y, pred, average='macro')\n",
    "    return s"
   ]
  },
  {
   "cell_type": "code",
   "execution_count": 28,
   "metadata": {
    "collapsed": true
   },
   "outputs": [],
   "source": [
    "import warnings\n",
    "warnings.filterwarnings('ignore')"
   ]
  },
  {
   "cell_type": "code",
   "execution_count": 29,
   "metadata": {},
   "outputs": [
    {
     "name": "stderr",
     "output_type": "stream",
     "text": [
      "[Parallel(n_jobs=1)]: Using backend SequentialBackend with 1 concurrent workers.\n",
      "[Parallel(n_jobs=1)]: Done   1 out of   1 | elapsed:    0.0s remaining:    0.0s\n"
     ]
    },
    {
     "name": "stdout",
     "output_type": "stream",
     "text": [
      "[CV] C=0.001 .........................................................\n",
      "[CV] .......................................... C=0.001, total=   0.0s\n",
      "[CV] C=0.01 ..........................................................\n",
      "[CV] ........................................... C=0.01, total=   0.1s\n",
      "[CV] C=0.1 ...........................................................\n",
      "[CV] ............................................ C=0.1, total=   3.2s\n",
      "[CV] C=1.0 ...........................................................\n",
      "[CV] ............................................ C=1.0, total=   9.4s\n",
      "[CV] C=10.0 ..........................................................\n",
      "[CV] ........................................... C=10.0, total=  41.6s\n",
      "[CV] C=100.0 .........................................................\n",
      "[CV] .......................................... C=100.0, total= 1.2min\n",
      "[CV] C=1000.0 ........................................................\n",
      "[CV] ......................................... C=1000.0, total= 1.1min\n",
      "[CV] C=0.001 .........................................................\n",
      "[CV] .......................................... C=0.001, total=   0.0s\n",
      "[CV] C=0.01 ..........................................................\n",
      "[CV] ........................................... C=0.01, total=   0.1s\n",
      "[CV] C=0.1 ...........................................................\n",
      "[CV] ............................................ C=0.1, total=   1.8s\n",
      "[CV] C=1.0 ...........................................................\n",
      "[CV] ............................................ C=1.0, total=   9.1s\n",
      "[CV] C=10.0 ..........................................................\n",
      "[CV] ........................................... C=10.0, total=  34.4s\n",
      "[CV] C=100.0 .........................................................\n",
      "[CV] .......................................... C=100.0, total= 1.2min\n",
      "[CV] C=1000.0 ........................................................\n",
      "[CV] ......................................... C=1000.0, total= 1.1min\n",
      "[CV] C=0.001 .........................................................\n",
      "[CV] .......................................... C=0.001, total=   0.0s\n",
      "[CV] C=0.01 ..........................................................\n",
      "[CV] ........................................... C=0.01, total=   0.1s\n",
      "[CV] C=0.1 ...........................................................\n",
      "[CV] ............................................ C=0.1, total=   3.3s\n",
      "[CV] C=1.0 ...........................................................\n",
      "[CV] ............................................ C=1.0, total=   8.8s\n",
      "[CV] C=10.0 ..........................................................\n",
      "[CV] ........................................... C=10.0, total=  42.8s\n",
      "[CV] C=100.0 .........................................................\n",
      "[CV] .......................................... C=100.0, total= 1.3min\n",
      "[CV] C=1000.0 ........................................................\n",
      "[CV] ......................................... C=1000.0, total= 1.2min\n",
      "CPU times: user 9min 42s, sys: 0 ns, total: 9min 42s\n",
      "Wall time: 9min 41s\n"
     ]
    },
    {
     "name": "stderr",
     "output_type": "stream",
     "text": [
      "[Parallel(n_jobs=1)]: Done  21 out of  21 | elapsed:  9.7min finished\n"
     ]
    }
   ],
   "source": [
    "%%time\n",
    "\n",
    "train_scores, test_scores = validation_curve(\n",
    "    LogisticRegression(penalty='l1', multi_class='multinomial', solver='saga', max_iter=10000),\n",
    "    np.hstack(pred_train_all_list), np.argmax(ytrain, axis=1),\n",
    "    param_name=param_name, param_range=param_range,\n",
    "    cv=cv_splitter, n_jobs=1, verbose=2, scoring=f1_scorer)"
   ]
  },
  {
   "cell_type": "code",
   "execution_count": 30,
   "metadata": {},
   "outputs": [
    {
     "data": {
      "text/plain": [
       "array([[1.00000000e-03, 1.83800623e-02, 1.82688944e-02],\n",
       "       [1.00000000e-02, 1.81908749e-02, 1.82688944e-02],\n",
       "       [1.00000000e-01, 8.82685922e-01, 8.51054622e-01],\n",
       "       [1.00000000e+00, 9.65075150e-01, 9.00063108e-01],\n",
       "       [1.00000000e+01, 1.00000000e+00, 9.36120626e-01],\n",
       "       [1.00000000e+02, 1.00000000e+00, 9.47683157e-01],\n",
       "       [1.00000000e+03, 1.00000000e+00, 9.49787209e-01]])"
      ]
     },
     "execution_count": 30,
     "metadata": {},
     "output_type": "execute_result"
    }
   ],
   "source": [
    "train_scores_mean = np.mean(train_scores, axis=1)\n",
    "train_scores_std = np.std(train_scores, axis=1)\n",
    "test_scores_mean = np.mean(test_scores, axis=1)\n",
    "test_scores_std = np.std(test_scores, axis=1)\n",
    "np.c_[param_range, train_scores_mean, test_scores_mean]"
   ]
  },
  {
   "cell_type": "code",
   "execution_count": 31,
   "metadata": {},
   "outputs": [
    {
     "data": {
      "text/plain": [
       "<matplotlib.legend.Legend at 0x7ff4804ca4a8>"
      ]
     },
     "execution_count": 31,
     "metadata": {},
     "output_type": "execute_result"
    },
    {
     "data": {
      "image/png": "[encoded data removed]",
      "text/plain": [
       "<matplotlib.figure.Figure at 0x7ff4805dba90>"
      ]
     },
     "metadata": {},
     "output_type": "display_data"
    }
   ],
   "source": [
    "plt.title(\"Validation Curve\")\n",
    "plt.xlabel(\"param\")\n",
    "plt.ylabel(\"Score\")\n",
    "plt.ylim(0.0, 1.1)\n",
    "lw = 2\n",
    "plt.semilogx(param_range, train_scores_mean, label=\"Training score\",\n",
    "             color=\"darkorange\", lw=lw)\n",
    "plt.fill_between(param_range, train_scores_mean - train_scores_std,\n",
    "                 train_scores_mean + train_scores_std, alpha=0.2,\n",
    "                 color=\"darkorange\", lw=lw)\n",
    "plt.semilogx(param_range, test_scores_mean, label=\"Cross-validation score\",\n",
    "             color=\"navy\", lw=lw)\n",
    "plt.fill_between(param_range, test_scores_mean - test_scores_std,\n",
    "                 test_scores_mean + test_scores_std, alpha=0.2,\n",
    "                 color=\"navy\", lw=lw)\n",
    "plt.legend(loc=\"best\")"
   ]
  },
  {
   "cell_type": "code",
   "execution_count": 32,
   "metadata": {},
   "outputs": [
    {
     "data": {
      "text/plain": [
       "LogisticRegression(C=1000, class_weight=None, dual=False, fit_intercept=True,\n",
       "          intercept_scaling=1, max_iter=10000, multi_class='multinomial',\n",
       "          n_jobs=None, penalty='l1', random_state=None, solver='saga',\n",
       "          tol=0.0001, verbose=0, warm_start=False)"
      ]
     },
     "execution_count": 32,
     "metadata": {},
     "output_type": "execute_result"
    }
   ],
   "source": [
    "'''test data'''\n",
    "est = LogisticRegression(penalty='l1', multi_class='multinomial', solver='saga', max_iter=10000, C=1000)\n",
    "est.fit(np.hstack(pred_train_all_list), np.argmax(ytrain, axis=1))"
   ]
  },
  {
   "cell_type": "code",
   "execution_count": 33,
   "metadata": {
    "collapsed": true
   },
   "outputs": [],
   "source": [
    "pred = est.predict(np.hstack(pred_train_all_list))"
   ]
  },
  {
   "cell_type": "code",
   "execution_count": 34,
   "metadata": {},
   "outputs": [
    {
     "name": "stdout",
     "output_type": "stream",
     "text": [
      "F1_SCORE : 1.0\n",
      "              precision    recall  f1-score   support\n",
      "\n",
      "           0       1.00      1.00      1.00        88\n",
      "           1       1.00      1.00      1.00        89\n",
      "           2       1.00      1.00      1.00        91\n",
      "           3       1.00      1.00      1.00        93\n",
      "           4       1.00      1.00      1.00        88\n",
      "           5       1.00      1.00      1.00        91\n",
      "           6       1.00      1.00      1.00        90\n",
      "           7       1.00      1.00      1.00        91\n",
      "           8       1.00      1.00      1.00        86\n",
      "           9       1.00      1.00      1.00        91\n",
      "\n",
      "   micro avg       1.00      1.00      1.00       898\n",
      "   macro avg       1.00      1.00      1.00       898\n",
      "weighted avg       1.00      1.00      1.00       898\n",
      "\n",
      "[[88  0  0  0  0  0  0  0  0  0]\n",
      " [ 0 89  0  0  0  0  0  0  0  0]\n",
      " [ 0  0 91  0  0  0  0  0  0  0]\n",
      " [ 0  0  0 93  0  0  0  0  0  0]\n",
      " [ 0  0  0  0 88  0  0  0  0  0]\n",
      " [ 0  0  0  0  0 91  0  0  0  0]\n",
      " [ 0  0  0  0  0  0 90  0  0  0]\n",
      " [ 0  0  0  0  0  0  0 91  0  0]\n",
      " [ 0  0  0  0  0  0  0  0 86  0]\n",
      " [ 0  0  0  0  0  0  0  0  0 91]]\n"
     ]
    }
   ],
   "source": [
    "print('F1_SCORE :', f1_score(np.argmax(ytrain, axis=1), pred, average='macro'))\n",
    "print(classification_report(np.argmax(ytrain, axis=1), pred))\n",
    "print(confusion_matrix(np.argmax(ytrain, axis=1), pred))"
   ]
  },
  {
   "cell_type": "code",
   "execution_count": 35,
   "metadata": {
    "collapsed": true
   },
   "outputs": [],
   "source": [
    "pred_test = est.predict(np.hstack(pred_all_list))"
   ]
  },
  {
   "cell_type": "code",
   "execution_count": 36,
   "metadata": {},
   "outputs": [
    {
     "name": "stdout",
     "output_type": "stream",
     "text": [
      "F1_SCORE : 0.9699530110220188\n",
      "              precision    recall  f1-score   support\n",
      "\n",
      "           0       0.99      0.99      0.99        90\n",
      "           1       0.97      0.96      0.96        93\n",
      "           2       0.99      1.00      0.99        86\n",
      "           3       0.95      0.98      0.96        90\n",
      "           4       0.99      0.99      0.99        93\n",
      "           5       0.98      0.95      0.96        91\n",
      "           6       1.00      0.98      0.99        91\n",
      "           7       0.97      0.98      0.97        88\n",
      "           8       0.94      0.94      0.94        88\n",
      "           9       0.93      0.94      0.94        89\n",
      "\n",
      "   micro avg       0.97      0.97      0.97       899\n",
      "   macro avg       0.97      0.97      0.97       899\n",
      "weighted avg       0.97      0.97      0.97       899\n",
      "\n",
      "[[89  0  1  0  0  0  0  0  0  0]\n",
      " [ 0 89  0  0  0  1  0  0  2  1]\n",
      " [ 0  0 86  0  0  0  0  0  0  0]\n",
      " [ 0  0  0 88  0  0  0  1  1  0]\n",
      " [ 0  0  0  0 92  0  0  1  0  0]\n",
      " [ 0  0  0  1  1 86  0  0  1  2]\n",
      " [ 1  0  0  0  0  0 89  0  1  0]\n",
      " [ 0  0  0  1  0  0  0 86  0  1]\n",
      " [ 0  2  0  0  0  0  0  1 83  2]\n",
      " [ 0  1  0  3  0  1  0  0  0 84]]\n"
     ]
    }
   ],
   "source": [
    "print('F1_SCORE :', f1_score(np.argmax(yans, axis=1), pred_test, average='macro'))\n",
    "print(classification_report(np.argmax(yans, axis=1), pred_test))\n",
    "print(confusion_matrix(np.argmax(yans, axis=1), pred_test))"
   ]
  },
  {
   "cell_type": "code",
   "execution_count": null,
   "metadata": {
    "collapsed": true
   },
   "outputs": [],
   "source": []
  },
  {
   "cell_type": "markdown",
   "metadata": {},
   "source": [
    "## validation_curve + LGBMClassifier"
   ]
  },
  {
   "cell_type": "code",
   "execution_count": 37,
   "metadata": {},
   "outputs": [
    {
     "data": {
      "text/plain": [
       "array([1.e-03, 1.e-02, 1.e-01, 1.e+00, 1.e+01, 1.e+02, 1.e+03])"
      ]
     },
     "execution_count": 37,
     "metadata": {},
     "output_type": "execute_result"
    }
   ],
   "source": [
    "'''LGBMClassifier'''\n",
    "from lightgbm import LGBMClassifier\n",
    "\n",
    "param_name = \"reg_alpha\"\n",
    "param_range = np.logspace(-3, 3, 7)\n",
    "param_range"
   ]
  },
  {
   "cell_type": "code",
   "execution_count": 38,
   "metadata": {},
   "outputs": [
    {
     "name": "stderr",
     "output_type": "stream",
     "text": [
      "[Parallel(n_jobs=1)]: Using backend SequentialBackend with 1 concurrent workers.\n"
     ]
    },
    {
     "name": "stdout",
     "output_type": "stream",
     "text": [
      "[CV] reg_alpha=0.001 .................................................\n",
      "[CV] .................................. reg_alpha=0.001, total=   0.3s\n",
      "[CV] reg_alpha=0.01 ..................................................\n"
     ]
    },
    {
     "name": "stderr",
     "output_type": "stream",
     "text": [
      "[Parallel(n_jobs=1)]: Done   1 out of   1 | elapsed:    0.3s remaining:    0.0s\n"
     ]
    },
    {
     "name": "stdout",
     "output_type": "stream",
     "text": [
      "[CV] ................................... reg_alpha=0.01, total=   0.3s\n",
      "[CV] reg_alpha=0.1 ...................................................\n",
      "[CV] .................................... reg_alpha=0.1, total=   0.3s\n",
      "[CV] reg_alpha=1.0 ...................................................\n",
      "[CV] .................................... reg_alpha=1.0, total=   0.2s\n",
      "[CV] reg_alpha=10.0 ..................................................\n",
      "[CV] ................................... reg_alpha=10.0, total=   0.2s\n",
      "[CV] reg_alpha=100.0 .................................................\n",
      "[CV] .................................. reg_alpha=100.0, total=   0.1s\n",
      "[CV] reg_alpha=1000.0 ................................................\n",
      "[CV] ................................. reg_alpha=1000.0, total=   0.1s\n",
      "[CV] reg_alpha=0.001 .................................................\n",
      "[CV] .................................. reg_alpha=0.001, total=   0.3s\n",
      "[CV] reg_alpha=0.01 ..................................................\n",
      "[CV] ................................... reg_alpha=0.01, total=   0.3s\n",
      "[CV] reg_alpha=0.1 ...................................................\n",
      "[CV] .................................... reg_alpha=0.1, total=   0.2s\n",
      "[CV] reg_alpha=1.0 ...................................................\n",
      "[CV] .................................... reg_alpha=1.0, total=   0.2s\n",
      "[CV] reg_alpha=10.0 ..................................................\n",
      "[CV] ................................... reg_alpha=10.0, total=   0.2s\n",
      "[CV] reg_alpha=100.0 .................................................\n",
      "[CV] .................................. reg_alpha=100.0, total=   0.1s\n",
      "[CV] reg_alpha=1000.0 ................................................\n",
      "[CV] ................................. reg_alpha=1000.0, total=   0.1s\n",
      "[CV] reg_alpha=0.001 .................................................\n",
      "[CV] .................................. reg_alpha=0.001, total=   0.3s\n",
      "[CV] reg_alpha=0.01 ..................................................\n",
      "[CV] ................................... reg_alpha=0.01, total=   0.3s\n",
      "[CV] reg_alpha=0.1 ...................................................\n",
      "[CV] .................................... reg_alpha=0.1, total=   0.3s\n",
      "[CV] reg_alpha=1.0 ...................................................\n",
      "[CV] .................................... reg_alpha=1.0, total=   0.2s\n",
      "[CV] reg_alpha=10.0 ..................................................\n",
      "[CV] ................................... reg_alpha=10.0, total=   0.2s\n",
      "[CV] reg_alpha=100.0 .................................................\n",
      "[CV] .................................. reg_alpha=100.0, total=   0.1s\n",
      "[CV] reg_alpha=1000.0 ................................................\n",
      "[CV] ................................. reg_alpha=1000.0, total=   0.1s\n",
      "CPU times: user 4.09 s, sys: 0 ns, total: 4.09 s\n",
      "Wall time: 4.42 s\n"
     ]
    },
    {
     "name": "stderr",
     "output_type": "stream",
     "text": [
      "[Parallel(n_jobs=1)]: Done  21 out of  21 | elapsed:    4.4s finished\n"
     ]
    }
   ],
   "source": [
    "%%time\n",
    "\n",
    "train_scores, test_scores = validation_curve(\n",
    "    LGBMClassifier(\n",
    "        min_child_samples=50,\n",
    "        reg_alpha=0.1\n",
    "    ),\n",
    "    np.hstack(pred_train_all_list), np.argmax(ytrain, axis=1),\n",
    "    param_name=param_name, param_range=param_range,\n",
    "    cv=cv_splitter, n_jobs=1, verbose=2, scoring=f1_scorer)"
   ]
  },
  {
   "cell_type": "code",
   "execution_count": 39,
   "metadata": {},
   "outputs": [
    {
     "data": {
      "text/plain": [
       "array([[1.00000000e-03, 9.50422580e-01, 8.66096647e-01],\n",
       "       [1.00000000e-02, 9.51001885e-01, 8.65083273e-01],\n",
       "       [1.00000000e-01, 9.50409128e-01, 8.65083273e-01],\n",
       "       [1.00000000e+00, 9.52720781e-01, 8.58514058e-01],\n",
       "       [1.00000000e+01, 9.32318695e-01, 8.53500481e-01],\n",
       "       [1.00000000e+02, 1.78125000e-02, 1.79190751e-02],\n",
       "       [1.00000000e+03, 1.78125000e-02, 1.79190751e-02]])"
      ]
     },
     "execution_count": 39,
     "metadata": {},
     "output_type": "execute_result"
    }
   ],
   "source": [
    "train_scores_mean = np.mean(train_scores, axis=1)\n",
    "train_scores_std = np.std(train_scores, axis=1)\n",
    "test_scores_mean = np.mean(test_scores, axis=1)\n",
    "test_scores_std = np.std(test_scores, axis=1)\n",
    "np.c_[param_range, train_scores_mean, test_scores_mean]"
   ]
  },
  {
   "cell_type": "code",
   "execution_count": 40,
   "metadata": {},
   "outputs": [
    {
     "data": {
      "text/plain": [
       "<matplotlib.legend.Legend at 0x7ff4ac0ad160>"
      ]
     },
     "execution_count": 40,
     "metadata": {},
     "output_type": "execute_result"
    },
    {
     "data": {
      "image/png": "[encoded data removed]",
      "text/plain": [
       "<matplotlib.figure.Figure at 0x7ff4a42a6710>"
      ]
     },
     "metadata": {},
     "output_type": "display_data"
    }
   ],
   "source": [
    "plt.title(\"Validation Curve\")\n",
    "plt.xlabel(\"param\")\n",
    "plt.ylabel(\"Score\")\n",
    "plt.ylim(0.0, 1.1)\n",
    "lw = 2\n",
    "plt.semilogx(param_range, train_scores_mean, label=\"Training score\",\n",
    "             color=\"darkorange\", lw=lw)\n",
    "plt.fill_between(param_range, train_scores_mean - train_scores_std,\n",
    "                 train_scores_mean + train_scores_std, alpha=0.2,\n",
    "                 color=\"darkorange\", lw=lw)\n",
    "plt.semilogx(param_range, test_scores_mean, label=\"Cross-validation score\",\n",
    "             color=\"navy\", lw=lw)\n",
    "plt.fill_between(param_range, test_scores_mean - test_scores_std,\n",
    "                 test_scores_mean + test_scores_std, alpha=0.2,\n",
    "                 color=\"navy\", lw=lw)\n",
    "plt.legend(loc=\"best\")"
   ]
  },
  {
   "cell_type": "code",
   "execution_count": 41,
   "metadata": {},
   "outputs": [
    {
     "data": {
      "text/plain": [
       "LGBMClassifier(boosting_type='gbdt', colsample_bytree=1, learning_rate=0.1,\n",
       "        max_bin=255, max_depth=-1, min_child_samples=50,\n",
       "        min_child_weight=5, min_split_gain=0, n_estimators=10, nthread=-1,\n",
       "        num_leaves=31, objective='multiclass', reg_alpha=0.01,\n",
       "        reg_lambda=0, seed=0, silent=True, subsample=1,\n",
       "        subsample_for_bin=50000, subsample_freq=1)"
      ]
     },
     "execution_count": 41,
     "metadata": {},
     "output_type": "execute_result"
    }
   ],
   "source": [
    "'''test data'''\n",
    "est = LGBMClassifier(\n",
    "        min_child_samples=50,\n",
    "        reg_alpha=0.01\n",
    "    )\n",
    "est.fit(np.hstack(pred_train_all_list), np.argmax(ytrain, axis=1))"
   ]
  },
  {
   "cell_type": "code",
   "execution_count": 42,
   "metadata": {
    "collapsed": true
   },
   "outputs": [],
   "source": [
    "pred = est.predict(np.hstack(pred_train_all_list))"
   ]
  },
  {
   "cell_type": "code",
   "execution_count": 43,
   "metadata": {},
   "outputs": [
    {
     "name": "stdout",
     "output_type": "stream",
     "text": [
      "F1_SCORE : 0.9587593096847016\n",
      "              precision    recall  f1-score   support\n",
      "\n",
      "           0       1.00      0.97      0.98        88\n",
      "           1       0.94      0.98      0.96        89\n",
      "           2       0.97      0.97      0.97        91\n",
      "           3       0.99      0.92      0.96        93\n",
      "           4       0.99      0.98      0.98        88\n",
      "           5       0.95      0.96      0.95        91\n",
      "           6       0.94      0.99      0.96        90\n",
      "           7       0.93      0.99      0.96        91\n",
      "           8       0.95      0.91      0.93        86\n",
      "           9       0.96      0.93      0.94        91\n",
      "\n",
      "   micro avg       0.96      0.96      0.96       898\n",
      "   macro avg       0.96      0.96      0.96       898\n",
      "weighted avg       0.96      0.96      0.96       898\n",
      "\n",
      "[[85  0  0  0  1  0  2  0  0  0]\n",
      " [ 0 87  0  0  0  0  2  0  0  0]\n",
      " [ 0  0 88  1  0  0  0  1  1  0]\n",
      " [ 0  0  1 86  0  2  0  1  1  2]\n",
      " [ 0  0  0  0 86  0  0  2  0  0]\n",
      " [ 0  0  1  0  0 87  1  0  0  2]\n",
      " [ 0  1  0  0  0  0 89  0  0  0]\n",
      " [ 0  1  0  0  0  0  0 90  0  0]\n",
      " [ 0  3  1  0  0  3  1  0 78  0]\n",
      " [ 0  1  0  0  0  0  0  3  2 85]]\n"
     ]
    }
   ],
   "source": [
    "print('F1_SCORE :', f1_score(np.argmax(ytrain, axis=1), pred, average='macro'))\n",
    "print(classification_report(np.argmax(ytrain, axis=1), pred))\n",
    "print(confusion_matrix(np.argmax(ytrain, axis=1), pred))"
   ]
  },
  {
   "cell_type": "code",
   "execution_count": 44,
   "metadata": {
    "collapsed": true
   },
   "outputs": [],
   "source": [
    "pred_test = est.predict(np.hstack(pred_all_list))"
   ]
  },
  {
   "cell_type": "code",
   "execution_count": 45,
   "metadata": {},
   "outputs": [
    {
     "name": "stdout",
     "output_type": "stream",
     "text": [
      "F1_SCORE : 0.9206284167301575\n",
      "              precision    recall  f1-score   support\n",
      "\n",
      "           0       0.99      0.99      0.99        90\n",
      "           1       0.92      0.83      0.87        93\n",
      "           2       0.89      0.94      0.92        86\n",
      "           3       0.92      0.88      0.90        90\n",
      "           4       0.98      0.95      0.96        93\n",
      "           5       0.93      0.92      0.93        91\n",
      "           6       0.92      0.98      0.95        91\n",
      "           7       0.91      0.95      0.93        88\n",
      "           8       0.90      0.91      0.90        88\n",
      "           9       0.86      0.87      0.86        89\n",
      "\n",
      "   micro avg       0.92      0.92      0.92       899\n",
      "   macro avg       0.92      0.92      0.92       899\n",
      "weighted avg       0.92      0.92      0.92       899\n",
      "\n",
      "[[89  0  1  0  0  0  0  0  0  0]\n",
      " [ 0 77  5  2  0  0  7  0  1  1]\n",
      " [ 0  1 81  0  0  0  0  1  3  0]\n",
      " [ 0  0  2 79  0  1  0  2  2  4]\n",
      " [ 0  0  0  0 88  0  0  3  2  0]\n",
      " [ 0  1  1  0  1 84  0  0  0  4]\n",
      " [ 1  0  0  0  1  0 89  0  0  0]\n",
      " [ 0  2  0  0  0  0  0 84  0  2]\n",
      " [ 0  3  1  0  0  0  1  1 80  2]\n",
      " [ 0  0  0  5  0  5  0  1  1 77]]\n"
     ]
    }
   ],
   "source": [
    "print('F1_SCORE :', f1_score(np.argmax(yans, axis=1), pred_test, average='macro'))\n",
    "print(classification_report(np.argmax(yans, axis=1), pred_test))\n",
    "print(confusion_matrix(np.argmax(yans, axis=1), pred_test))"
   ]
  },
  {
   "cell_type": "code",
   "execution_count": null,
   "metadata": {
    "collapsed": true
   },
   "outputs": [],
   "source": []
  },
  {
   "cell_type": "code",
   "execution_count": null,
   "metadata": {
    "collapsed": true
   },
   "outputs": [],
   "source": []
  },
  {
   "cell_type": "code",
   "execution_count": 109,
   "metadata": {
    "collapsed": true
   },
   "outputs": [],
   "source": [
    "class RFECV_wr(RFECV):\n",
    "    \n",
    "    def __init__(self, C=1.0,\n",
    "                       step=1, min_features_to_select=1, cv='warn',\n",
    "                       scoring=None, verbose=0, n_jobs=None):\n",
    "        estimator = LogisticRegression(\n",
    "            penalty='l1',\n",
    "            C=100,\n",
    "            multi_class='multinomial',\n",
    "            solver='saga',\n",
    "            max_iter=10000)\n",
    "        super().__init__(estimator, step=step,\n",
    "                         min_features_to_select=min_features_to_select,\n",
    "                         cv=cv, scoring=scoring, verbose=verbose, n_jobs=n_jobs)\n",
    "    \n",
    "    def set_params(self, **params):\n",
    "        if 'C' in params:\n",
    "            self.estimator.set_params(C=params['C'])\n",
    "        return self\n",
    "\n",
    "feature_selector = RFECV_wr(min_features_to_select=5,\n",
    "                             scoring=f1_scorer,\n",
    "                             step=15,\n",
    "                             verbose=0,\n",
    "                             cv=20,\n",
    "                             n_jobs=1)"
   ]
  },
  {
   "cell_type": "code",
   "execution_count": 110,
   "metadata": {},
   "outputs": [
    {
     "name": "stderr",
     "output_type": "stream",
     "text": [
      "[Parallel(n_jobs=-1)]: Using backend SequentialBackend with 1 concurrent workers.\n"
     ]
    },
    {
     "name": "stdout",
     "output_type": "stream",
     "text": [
      "[CV] C=0.001 .........................................................\n",
      "[CV] .......................................... C=0.001, total=   0.2s\n",
      "[CV] C=0.01 ..........................................................\n"
     ]
    },
    {
     "name": "stderr",
     "output_type": "stream",
     "text": [
      "[Parallel(n_jobs=-1)]: Done   1 out of   1 | elapsed:    0.2s remaining:    0.0s\n"
     ]
    },
    {
     "name": "stdout",
     "output_type": "stream",
     "text": [
      "[CV] ........................................... C=0.01, total=   0.3s\n",
      "[CV] C=0.1 ...........................................................\n",
      "[CV] ............................................ C=0.1, total=   2.3s\n",
      "[CV] C=1.0 ...........................................................\n",
      "[CV] ............................................ C=1.0, total=  12.8s\n",
      "[CV] C=10.0 ..........................................................\n",
      "[CV] ........................................... C=10.0, total= 2.1min\n",
      "[CV] C=100.0 .........................................................\n",
      "[CV] .......................................... C=100.0, total= 4.6min\n",
      "[CV] C=1000.0 ........................................................\n",
      "[CV] ......................................... C=1000.0, total= 7.0min\n",
      "[CV] C=0.001 .........................................................\n",
      "[CV] .......................................... C=0.001, total=   0.2s\n",
      "[CV] C=0.01 ..........................................................\n",
      "[CV] ........................................... C=0.01, total=   0.4s\n",
      "[CV] C=0.1 ...........................................................\n",
      "[CV] ............................................ C=0.1, total=   2.3s\n",
      "[CV] C=1.0 ...........................................................\n",
      "[CV] ............................................ C=1.0, total=  14.2s\n",
      "[CV] C=10.0 ..........................................................\n",
      "[CV] ........................................... C=10.0, total= 1.8min\n",
      "[CV] C=100.0 .........................................................\n",
      "[CV] .......................................... C=100.0, total= 3.9min\n",
      "[CV] C=1000.0 ........................................................\n",
      "[CV] ......................................... C=1000.0, total= 5.2min\n",
      "[CV] C=0.001 .........................................................\n",
      "[CV] .......................................... C=0.001, total=   0.2s\n",
      "[CV] C=0.01 ..........................................................\n",
      "[CV] ........................................... C=0.01, total=   0.3s\n",
      "[CV] C=0.1 ...........................................................\n",
      "[CV] ............................................ C=0.1, total=   2.3s\n",
      "[CV] C=1.0 ...........................................................\n",
      "[CV] ............................................ C=1.0, total=  13.8s\n",
      "[CV] C=10.0 ..........................................................\n",
      "[CV] ........................................... C=10.0, total= 2.3min\n",
      "[CV] C=100.0 .........................................................\n",
      "[CV] .......................................... C=100.0, total= 5.5min\n",
      "[CV] C=1000.0 ........................................................\n",
      "[CV] ......................................... C=1000.0, total= 6.0min\n",
      "CPU times: user 39min 18s, sys: 0 ns, total: 39min 18s\n",
      "Wall time: 39min 16s\n"
     ]
    },
    {
     "name": "stderr",
     "output_type": "stream",
     "text": [
      "[Parallel(n_jobs=-1)]: Done  21 out of  21 | elapsed: 39.3min finished\n"
     ]
    }
   ],
   "source": [
    "%%time\n",
    "\n",
    "train_scores, test_scores = validation_curve(\n",
    "    feature_selector,\n",
    "    np.hstack(pred_train_all_list), np.argmax(ytrain, axis=1),\n",
    "    param_name=param_name, param_range=param_range,\n",
    "    cv=cv_splitter, n_jobs=-1, verbose=2, scoring=f1_scorer)"
   ]
  },
  {
   "cell_type": "code",
   "execution_count": 111,
   "metadata": {},
   "outputs": [
    {
     "data": {
      "text/plain": [
       "array([[1.00000000e-03, 1.80008020e-02, 1.80919656e-02],\n",
       "       [1.00000000e-02, 1.81908749e-02, 1.82688944e-02],\n",
       "       [1.00000000e-01, 5.43982236e-01, 5.14956913e-01],\n",
       "       [1.00000000e+00, 8.31884603e-01, 7.80136116e-01],\n",
       "       [1.00000000e+01, 9.66674265e-01, 8.75295491e-01],\n",
       "       [1.00000000e+02, 9.98288982e-01, 8.78200716e-01],\n",
       "       [1.00000000e+03, 1.00000000e+00, 8.77806123e-01]])"
      ]
     },
     "execution_count": 111,
     "metadata": {},
     "output_type": "execute_result"
    }
   ],
   "source": [
    "train_scores_mean = np.mean(train_scores, axis=1)\n",
    "train_scores_std = np.std(train_scores, axis=1)\n",
    "test_scores_mean = np.mean(test_scores, axis=1)\n",
    "test_scores_std = np.std(test_scores, axis=1)\n",
    "np.c_[param_range, train_scores_mean, test_scores_mean]"
   ]
  },
  {
   "cell_type": "code",
   "execution_count": 112,
   "metadata": {},
   "outputs": [
    {
     "data": {
      "text/plain": [
       "<matplotlib.legend.Legend at 0x7fd6302415f8>"
      ]
     },
     "execution_count": 112,
     "metadata": {},
     "output_type": "execute_result"
    },
    {
     "data": {
      "image/png": "[encoded data removed]",
      "text/plain": [
       "<matplotlib.figure.Figure at 0x7fd65c30b320>"
      ]
     },
     "metadata": {},
     "output_type": "display_data"
    }
   ],
   "source": [
    "plt.title(\"Validation Curve\")\n",
    "plt.xlabel(\"param\")\n",
    "plt.ylabel(\"Score\")\n",
    "plt.ylim(0.0, 1.1)\n",
    "lw = 2\n",
    "plt.semilogx(param_range, train_scores_mean, label=\"Training score\",\n",
    "             color=\"darkorange\", lw=lw)\n",
    "plt.fill_between(param_range, train_scores_mean - train_scores_std,\n",
    "                 train_scores_mean + train_scores_std, alpha=0.2,\n",
    "                 color=\"darkorange\", lw=lw)\n",
    "plt.semilogx(param_range, test_scores_mean, label=\"Cross-validation score\",\n",
    "             color=\"navy\", lw=lw)\n",
    "plt.fill_between(param_range, test_scores_mean - test_scores_std,\n",
    "                 test_scores_mean + test_scores_std, alpha=0.2,\n",
    "                 color=\"navy\", lw=lw)\n",
    "plt.legend(loc=\"best\")"
   ]
  },
  {
   "cell_type": "code",
   "execution_count": null,
   "metadata": {
    "collapsed": true
   },
   "outputs": [],
   "source": []
  },
  {
   "cell_type": "code",
   "execution_count": null,
   "metadata": {
    "collapsed": true
   },
   "outputs": [],
   "source": []
  },
  {
   "cell_type": "code",
   "execution_count": null,
   "metadata": {
    "collapsed": true
   },
   "outputs": [],
   "source": [
    "%%time\n",
    "'''RFE'''\n",
    "\n",
    "param_grid = {\n",
    "            'C' : param_range,\n",
    "        }\n",
    "\n",
    "ins_splitter = StratifiedShuffleSplit(n_splits=100, test_size=0.5, random_state=0)\n",
    "var_idx_all = np.arange(xtrain.shape[1])\n",
    "#threshold = 0.85\n",
    "threshold = 0.30\n",
    "importances = np.zeros((xtrain.shape[1],))\n",
    "predictions = pd.DataFrame()\n",
    "#preds_all = pd.DataFrame()\n",
    "pred_all_list = []\n",
    "pred_train_all_list = []\n",
    "counter = 0\n",
    "np.random.seed(10001)\n",
    "\n",
    "feature_selector = RFECV()\n",
    "\n",
    "\n",
    "print(\"counter  | val_f1    |  val_r2    \")\n",
    "print(\"---------------------------------------------\")\n",
    "\n",
    "for train_index, val_index in ins_splitter.split(xtrain, ytrain):\n",
    "    x_train_tr, x_train_val = xtrain[train_index], xtrain[val_index]\n",
    "    y_train_tr, y_train_val = ytrain[train_index], ytrain[val_index]\n",
    "    \n",
    "    \n",
    "    #estimator = LGBMRegressor(min_child_samples=50, reg_alpha=100)\n",
    "    estimator = RBFClassifier(\n",
    "        num_lm=2,\n",
    "        lm_select_from_x=True,\n",
    "        random_state=None,\n",
    "        lr=0.02, gamma='scale',\n",
    "        epochs=500, batch_size=1024, verbose=0\n",
    "    )\n",
    "    estimator.fit(x_train_tr, y_train_tr)\n",
    "    \n",
    "    # score our fitted model on validation data\n",
    "    val_y_pred = estimator.predict(x_train_val)\n",
    "    val_mse = mean_squared_error(np.argmax(y_train_val,axis=1), val_y_pred)\n",
    "    val_mae = mean_absolute_error(np.argmax(y_train_val,axis=1), val_y_pred)\n",
    "    val_kappa = 0.0\n",
    "    val_f1 = f1_score(np.argmax(y_train_val,axis=1), val_y_pred, average='macro')\n",
    "    val_cos = cosine_similarity(np.argmax(y_train_val,axis=1).reshape(1, -1), val_y_pred.reshape(1, -1))[0][0]\n",
    "    val_dst = euclidean_distances(np.argmax(y_train_val,axis=1).reshape(1, -1), val_y_pred.reshape(1, -1))[0][0]\n",
    "    val_r2  = r2_score(np.argmax(y_train_val,axis=1), val_y_pred)\n",
    "    gamma = estimator.current_gamma()\n",
    "    \n",
    "    if val_f1 > threshold:\n",
    "        message = '<-- OK'\n",
    "        pred_train_all = estimator.predict_proba(xtrain)\n",
    "        pred_train_all_list.append(pred_train_all)\n",
    "        pred_all = estimator.predict_proba(xtest)\n",
    "        pred_all_list.append(pred_all)\n",
    "        #preds_all = pd.concat([preds_all, pd.DataFrame(pred_all)], axis=1)\n",
    "        #prediction = grid_search.best_estimator_.predict(x_test0)\n",
    "        #predictions = pd.concat([predictions, pd.DataFrame(prediction)], axis=1)\n",
    "        #importances += estimator.feature_importances_\n",
    "        #filename = 'model-{}.sav'.format(counter)\n",
    "        #joblib.dump(estimator, filename)\n",
    "    else:\n",
    "        message = '<-- skipping'\n",
    "\n",
    "    print(\"{0:5}    |  {3:.4f}   |  {4:.4f}   {5:5e} {7}  \".format(\n",
    "        counter,\n",
    "        val_mse,\n",
    "        val_mae,\n",
    "        val_f1,\n",
    "        val_r2,\n",
    "        gamma,\n",
    "        0,\n",
    "        message))\n",
    "    \n",
    "    counter += 1"
   ]
  },
  {
   "cell_type": "code",
   "execution_count": null,
   "metadata": {
    "collapsed": true
   },
   "outputs": [],
   "source": []
  },
  {
   "cell_type": "code",
   "execution_count": null,
   "metadata": {
    "collapsed": true
   },
   "outputs": [],
   "source": []
  },
  {
   "cell_type": "code",
   "execution_count": null,
   "metadata": {
    "collapsed": true
   },
   "outputs": [],
   "source": []
  },
  {
   "cell_type": "code",
   "execution_count": null,
   "metadata": {
    "collapsed": true
   },
   "outputs": [],
   "source": []
  },
  {
   "cell_type": "code",
   "execution_count": null,
   "metadata": {
    "collapsed": true
   },
   "outputs": [],
   "source": []
  },
  {
   "cell_type": "code",
   "execution_count": null,
   "metadata": {
    "collapsed": true
   },
   "outputs": [],
   "source": []
  },
  {
   "cell_type": "code",
   "execution_count": null,
   "metadata": {
    "collapsed": true
   },
   "outputs": [],
   "source": []
  },
  {
   "cell_type": "code",
   "execution_count": null,
   "metadata": {
    "collapsed": true
   },
   "outputs": [],
   "source": []
  },
  {
   "cell_type": "code",
   "execution_count": null,
   "metadata": {
    "collapsed": true
   },
   "outputs": [],
   "source": []
  },
  {
   "cell_type": "code",
   "execution_count": null,
   "metadata": {
    "collapsed": true
   },
   "outputs": [],
   "source": []
  },
  {
   "cell_type": "code",
   "execution_count": null,
   "metadata": {
    "collapsed": true
   },
   "outputs": [],
   "source": []
  },
  {
   "cell_type": "code",
   "execution_count": null,
   "metadata": {
    "collapsed": true
   },
   "outputs": [],
   "source": []
  },
  {
   "cell_type": "code",
   "execution_count": null,
   "metadata": {
    "collapsed": true
   },
   "outputs": [],
   "source": []
  }
 ],
 "metadata": {
  "kernelspec": {
   "display_name": "Python 3",
   "language": "python",
   "name": "python3"
  },
  "language_info": {
   "codemirror_mode": {
    "name": "ipython",
    "version": 3
   },
   "file_extension": ".py",
   "mimetype": "text/x-python",
   "name": "python",
   "nbconvert_exporter": "python",
   "pygments_lexer": "ipython3",
   "version": "3.6.8"
  }
 },
 "nbformat": 4,
 "nbformat_minor": 2
}
