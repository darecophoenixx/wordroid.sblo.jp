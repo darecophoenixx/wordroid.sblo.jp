{
 "cells": [
  {
   "cell_type": "code",
   "execution_count": 1,
   "metadata": {},
   "outputs": [
    {
     "name": "stderr",
     "output_type": "stream",
     "text": [
      "Using TensorFlow backend.\n"
     ]
    }
   ],
   "source": [
    "%matplotlib inline\n",
    "import os, sys\n",
    "\n",
    "import numpy as np\n",
    "import matplotlib.pyplot as plt\n",
    "from sklearn import datasets, linear_model\n",
    "from sklearn.metrics import f1_score, classification_report, confusion_matrix, make_scorer\n",
    "from sklearn.preprocessing import OneHotEncoder\n",
    "import keras\n",
    "from keras.models import Sequential\n",
    "from keras.layers import Input, Dense\n",
    "from keras.models import Model\n",
    "from keras.optimizers import SGD\n",
    "from keras import regularizers\n",
    "from keras.wrappers.scikit_learn import KerasClassifier, KerasRegressor\n",
    "from keras import backend as K\n",
    "import tensorflow as tf"
   ]
  },
  {
   "cell_type": "code",
   "execution_count": 2,
   "metadata": {
    "collapsed": true
   },
   "outputs": [],
   "source": [
    "sys.path.append('/home/admin/github/wordroid.sblo.jp/lib/keras_ex')\n",
    "#from gkernel import GaussianKernel, GaussianKernel2, GaussianKernel3\n",
    "from gkernel.sklearn import RBFClassifier"
   ]
  },
  {
   "cell_type": "code",
   "execution_count": 3,
   "metadata": {},
   "outputs": [
    {
     "data": {
      "text/plain": [
       "((1797, 64), 0.0, 1.0)"
      ]
     },
     "execution_count": 3,
     "metadata": {},
     "output_type": "execute_result"
    }
   ],
   "source": [
    "from sklearn.datasets import load_digits\n",
    "digits = load_digits()\n",
    "X, y = digits.data, digits.target\n",
    "X = X / 16\n",
    "X.shape, X.min(), X.max()"
   ]
  },
  {
   "cell_type": "code",
   "execution_count": 4,
   "metadata": {},
   "outputs": [
    {
     "data": {
      "text/plain": [
       "(1797,)"
      ]
     },
     "execution_count": 4,
     "metadata": {},
     "output_type": "execute_result"
    }
   ],
   "source": [
    "y.shape"
   ]
  },
  {
   "cell_type": "code",
   "execution_count": 5,
   "metadata": {
    "collapsed": true
   },
   "outputs": [],
   "source": [
    "N = y.shape[0]\n",
    "y2 = keras.utils.to_categorical(y, num_classes=10)\n",
    "y2.shape\n",
    "index = np.arange(N)\n",
    "xtrain = X[index[index % 2 != 0],:]\n",
    "ytrain = y2[index[index % 2 != 0]]\n",
    "xtest = X[index[index % 2 == 0],:]\n",
    "yans = y2[index[index % 2 == 0]]"
   ]
  },
  {
   "cell_type": "code",
   "execution_count": null,
   "metadata": {
    "collapsed": true
   },
   "outputs": [],
   "source": []
  },
  {
   "cell_type": "code",
   "execution_count": 6,
   "metadata": {
    "collapsed": true
   },
   "outputs": [],
   "source": [
    "from sklearn.model_selection import StratifiedShuffleSplit, GridSearchCV, validation_curve\n",
    "from sklearn.feature_selection import RFECV\n",
    "from sklearn.linear_model import LogisticRegression, Lasso\n",
    "import pandas as pd\n",
    "from sklearn.metrics import mean_squared_error, mean_absolute_error, roc_auc_score, r2_score, make_scorer\n",
    "from sklearn.metrics.pairwise import cosine_similarity, euclidean_distances\n",
    "import joblib\n",
    "\n",
    "from lightgbm import LGBMClassifier"
   ]
  },
  {
   "cell_type": "code",
   "execution_count": 7,
   "metadata": {
    "collapsed": true
   },
   "outputs": [],
   "source": [
    "import warnings\n",
    "warnings.filterwarnings('ignore')"
   ]
  },
  {
   "cell_type": "code",
   "execution_count": 8,
   "metadata": {
    "collapsed": true
   },
   "outputs": [],
   "source": [
    "def f1_scorer(estimator, X, y):\n",
    "    pred = estimator.predict(X)\n",
    "    s = f1_score(y, pred, average='macro')\n",
    "    return s"
   ]
  },
  {
   "cell_type": "markdown",
   "metadata": {},
   "source": [
    "## BENCHMARK LogisticRegression"
   ]
  },
  {
   "cell_type": "code",
   "execution_count": 9,
   "metadata": {},
   "outputs": [
    {
     "data": {
      "text/plain": [
       "3"
      ]
     },
     "execution_count": 9,
     "metadata": {},
     "output_type": "execute_result"
    }
   ],
   "source": [
    "cv_splitter = StratifiedShuffleSplit(n_splits=3, test_size=0.35, random_state=0)\n",
    "cv_splitter.get_n_splits(xtrain, ytrain)"
   ]
  },
  {
   "cell_type": "code",
   "execution_count": 10,
   "metadata": {},
   "outputs": [
    {
     "data": {
      "text/plain": [
       "array([1.e-03, 1.e-02, 1.e-01, 1.e+00, 1.e+01, 1.e+02, 1.e+03])"
      ]
     },
     "execution_count": 10,
     "metadata": {},
     "output_type": "execute_result"
    }
   ],
   "source": [
    "param_name = \"C\"\n",
    "param_range = np.logspace(-3, 3, 7)\n",
    "param_range"
   ]
  },
  {
   "cell_type": "code",
   "execution_count": 11,
   "metadata": {},
   "outputs": [
    {
     "name": "stderr",
     "output_type": "stream",
     "text": [
      "[Parallel(n_jobs=1)]: Using backend SequentialBackend with 1 concurrent workers.\n",
      "[Parallel(n_jobs=1)]: Done   1 out of   1 | elapsed:    0.0s remaining:    0.0s\n"
     ]
    },
    {
     "name": "stdout",
     "output_type": "stream",
     "text": [
      "[CV] C=0.001 .........................................................\n",
      "[CV] .......................................... C=0.001, total=   0.0s\n",
      "[CV] C=0.01 ..........................................................\n",
      "[CV] ........................................... C=0.01, total=   0.0s\n",
      "[CV] C=0.1 ...........................................................\n",
      "[CV] ............................................ C=0.1, total=   0.3s\n",
      "[CV] C=1.0 ...........................................................\n",
      "[CV] ............................................ C=1.0, total=   0.9s\n",
      "[CV] C=10.0 ..........................................................\n",
      "[CV] ........................................... C=10.0, total=   3.6s\n",
      "[CV] C=100.0 .........................................................\n",
      "[CV] .......................................... C=100.0, total=   4.3s\n",
      "[CV] C=1000.0 ........................................................\n",
      "[CV] ......................................... C=1000.0, total=   4.5s\n",
      "[CV] C=0.001 .........................................................\n",
      "[CV] .......................................... C=0.001, total=   0.0s\n",
      "[CV] C=0.01 ..........................................................\n",
      "[CV] ........................................... C=0.01, total=   0.0s\n",
      "[CV] C=0.1 ...........................................................\n",
      "[CV] ............................................ C=0.1, total=   0.3s\n",
      "[CV] C=1.0 ...........................................................\n",
      "[CV] ............................................ C=1.0, total=   1.0s\n",
      "[CV] C=10.0 ..........................................................\n",
      "[CV] ........................................... C=10.0, total=   4.6s\n",
      "[CV] C=100.0 .........................................................\n",
      "[CV] .......................................... C=100.0, total=   6.0s\n",
      "[CV] C=1000.0 ........................................................\n",
      "[CV] ......................................... C=1000.0, total=   4.7s\n",
      "[CV] C=0.001 .........................................................\n",
      "[CV] .......................................... C=0.001, total=   0.0s\n",
      "[CV] C=0.01 ..........................................................\n",
      "[CV] ........................................... C=0.01, total=   0.0s\n",
      "[CV] C=0.1 ...........................................................\n",
      "[CV] ............................................ C=0.1, total=   0.1s\n",
      "[CV] C=1.0 ...........................................................\n",
      "[CV] ............................................ C=1.0, total=   1.2s\n",
      "[CV] C=10.0 ..........................................................\n",
      "[CV] ........................................... C=10.0, total=   3.3s\n",
      "[CV] C=100.0 .........................................................\n",
      "[CV] .......................................... C=100.0, total=   5.5s\n",
      "[CV] C=1000.0 ........................................................\n",
      "[CV] ......................................... C=1000.0, total=   4.7s\n",
      "CPU times: user 45.1 s, sys: 8.2 ms, total: 45.2 s\n",
      "Wall time: 45.1 s\n"
     ]
    },
    {
     "name": "stderr",
     "output_type": "stream",
     "text": [
      "[Parallel(n_jobs=1)]: Done  21 out of  21 | elapsed:   45.1s finished\n"
     ]
    }
   ],
   "source": [
    "%%time\n",
    "\n",
    "train_scores, test_scores = validation_curve(\n",
    "    LogisticRegression(penalty='l1', multi_class='multinomial', solver='saga', max_iter=10000),\n",
    "    xtrain, np.argmax(ytrain, axis=1),\n",
    "    param_name=param_name, param_range=param_range,\n",
    "    cv=cv_splitter, n_jobs=1, verbose=2, scoring=f1_scorer)"
   ]
  },
  {
   "cell_type": "code",
   "execution_count": 12,
   "metadata": {},
   "outputs": [
    {
     "data": {
      "text/plain": [
       "array([[1.00000000e-03, 1.83797685e-02, 1.84427988e-02],\n",
       "       [1.00000000e-02, 1.83800623e-02, 1.84438040e-02],\n",
       "       [1.00000000e-01, 8.83084412e-01, 8.17783004e-01],\n",
       "       [1.00000000e+00, 9.85584329e-01, 9.30447501e-01],\n",
       "       [1.00000000e+01, 1.00000000e+00, 9.42295210e-01],\n",
       "       [1.00000000e+02, 1.00000000e+00, 9.41158977e-01],\n",
       "       [1.00000000e+03, 1.00000000e+00, 9.41425054e-01]])"
      ]
     },
     "execution_count": 12,
     "metadata": {},
     "output_type": "execute_result"
    }
   ],
   "source": [
    "train_scores_mean = np.mean(train_scores, axis=1)\n",
    "train_scores_std = np.std(train_scores, axis=1)\n",
    "test_scores_mean = np.mean(test_scores, axis=1)\n",
    "test_scores_std = np.std(test_scores, axis=1)\n",
    "np.c_[param_range, train_scores_mean, test_scores_mean]"
   ]
  },
  {
   "cell_type": "code",
   "execution_count": 13,
   "metadata": {},
   "outputs": [
    {
     "data": {
      "text/plain": [
       "<matplotlib.legend.Legend at 0x7f8ced588630>"
      ]
     },
     "execution_count": 13,
     "metadata": {},
     "output_type": "execute_result"
    },
    {
     "data": {
      "image/png": "[encoded data removed]",
      "text/plain": [
       "<matplotlib.figure.Figure at 0x7f8ced5ec908>"
      ]
     },
     "metadata": {},
     "output_type": "display_data"
    }
   ],
   "source": [
    "plt.title(\"Validation Curve\")\n",
    "plt.xlabel(\"param\")\n",
    "plt.ylabel(\"Score\")\n",
    "plt.ylim(0.0, 1.1)\n",
    "lw = 2\n",
    "plt.semilogx(param_range, train_scores_mean, label=\"Training score\",\n",
    "             color=\"darkorange\", lw=lw)\n",
    "plt.fill_between(param_range, train_scores_mean - train_scores_std,\n",
    "                 train_scores_mean + train_scores_std, alpha=0.2,\n",
    "                 color=\"darkorange\", lw=lw)\n",
    "plt.semilogx(param_range, test_scores_mean, label=\"Cross-validation score\",\n",
    "             color=\"navy\", lw=lw)\n",
    "plt.fill_between(param_range, test_scores_mean - test_scores_std,\n",
    "                 test_scores_mean + test_scores_std, alpha=0.2,\n",
    "                 color=\"navy\", lw=lw)\n",
    "plt.legend(loc=\"best\")"
   ]
  },
  {
   "cell_type": "code",
   "execution_count": 14,
   "metadata": {},
   "outputs": [
    {
     "data": {
      "text/plain": [
       "LogisticRegression(C=1000, class_weight=None, dual=False, fit_intercept=True,\n",
       "          intercept_scaling=1, max_iter=10000, multi_class='multinomial',\n",
       "          n_jobs=None, penalty='l1', random_state=None, solver='saga',\n",
       "          tol=0.0001, verbose=0, warm_start=False)"
      ]
     },
     "execution_count": 14,
     "metadata": {},
     "output_type": "execute_result"
    }
   ],
   "source": [
    "'''test data'''\n",
    "est = LogisticRegression(penalty='l1', multi_class='multinomial', solver='saga', max_iter=10000, C=1000)\n",
    "est.fit(xtrain, np.argmax(ytrain, axis=1))"
   ]
  },
  {
   "cell_type": "code",
   "execution_count": 15,
   "metadata": {
    "collapsed": true
   },
   "outputs": [],
   "source": [
    "pred = est.predict(xtrain)"
   ]
  },
  {
   "cell_type": "code",
   "execution_count": 16,
   "metadata": {},
   "outputs": [
    {
     "name": "stdout",
     "output_type": "stream",
     "text": [
      "F1_SCORE : 1.0\n",
      "              precision    recall  f1-score   support\n",
      "\n",
      "           0       1.00      1.00      1.00        88\n",
      "           1       1.00      1.00      1.00        89\n",
      "           2       1.00      1.00      1.00        91\n",
      "           3       1.00      1.00      1.00        93\n",
      "           4       1.00      1.00      1.00        88\n",
      "           5       1.00      1.00      1.00        91\n",
      "           6       1.00      1.00      1.00        90\n",
      "           7       1.00      1.00      1.00        91\n",
      "           8       1.00      1.00      1.00        86\n",
      "           9       1.00      1.00      1.00        91\n",
      "\n",
      "   micro avg       1.00      1.00      1.00       898\n",
      "   macro avg       1.00      1.00      1.00       898\n",
      "weighted avg       1.00      1.00      1.00       898\n",
      "\n",
      "[[88  0  0  0  0  0  0  0  0  0]\n",
      " [ 0 89  0  0  0  0  0  0  0  0]\n",
      " [ 0  0 91  0  0  0  0  0  0  0]\n",
      " [ 0  0  0 93  0  0  0  0  0  0]\n",
      " [ 0  0  0  0 88  0  0  0  0  0]\n",
      " [ 0  0  0  0  0 91  0  0  0  0]\n",
      " [ 0  0  0  0  0  0 90  0  0  0]\n",
      " [ 0  0  0  0  0  0  0 91  0  0]\n",
      " [ 0  0  0  0  0  0  0  0 86  0]\n",
      " [ 0  0  0  0  0  0  0  0  0 91]]\n"
     ]
    }
   ],
   "source": [
    "print('F1_SCORE :', f1_score(np.argmax(ytrain, axis=1), pred, average='macro'))\n",
    "print(classification_report(np.argmax(ytrain, axis=1), pred))\n",
    "print(confusion_matrix(np.argmax(ytrain, axis=1), pred))"
   ]
  },
  {
   "cell_type": "code",
   "execution_count": 17,
   "metadata": {
    "collapsed": true
   },
   "outputs": [],
   "source": [
    "pred_test = est.predict(xtest)"
   ]
  },
  {
   "cell_type": "code",
   "execution_count": 18,
   "metadata": {},
   "outputs": [
    {
     "name": "stdout",
     "output_type": "stream",
     "text": [
      "F1_SCORE : 0.9621550382466262\n",
      "              precision    recall  f1-score   support\n",
      "\n",
      "           0       1.00      1.00      1.00        90\n",
      "           1       0.94      0.91      0.93        93\n",
      "           2       0.98      1.00      0.99        86\n",
      "           3       0.96      0.99      0.97        90\n",
      "           4       1.00      0.97      0.98        93\n",
      "           5       0.94      0.98      0.96        91\n",
      "           6       1.00      0.98      0.99        91\n",
      "           7       0.97      0.98      0.97        88\n",
      "           8       0.88      0.90      0.89        88\n",
      "           9       0.96      0.92      0.94        89\n",
      "\n",
      "   micro avg       0.96      0.96      0.96       899\n",
      "   macro avg       0.96      0.96      0.96       899\n",
      "weighted avg       0.96      0.96      0.96       899\n",
      "\n",
      "[[90  0  0  0  0  0  0  0  0  0]\n",
      " [ 0 85  2  1  0  1  0  0  4  0]\n",
      " [ 0  0 86  0  0  0  0  0  0  0]\n",
      " [ 0  0  0 89  0  0  0  0  1  0]\n",
      " [ 0  0  0  0 90  0  0  1  0  2]\n",
      " [ 0  0  0  0  0 89  0  1  0  1]\n",
      " [ 0  0  0  0  0  1 89  0  1  0]\n",
      " [ 0  0  0  0  0  1  0 86  1  0]\n",
      " [ 0  5  0  2  0  1  0  1 79  0]\n",
      " [ 0  0  0  1  0  2  0  0  4 82]]\n"
     ]
    }
   ],
   "source": [
    "print('F1_SCORE :', f1_score(np.argmax(yans, axis=1), pred_test, average='macro'))\n",
    "print(classification_report(np.argmax(yans, axis=1), pred_test))\n",
    "print(confusion_matrix(np.argmax(yans, axis=1), pred_test))"
   ]
  },
  {
   "cell_type": "code",
   "execution_count": null,
   "metadata": {
    "collapsed": true
   },
   "outputs": [],
   "source": []
  },
  {
   "cell_type": "markdown",
   "metadata": {},
   "source": [
    "## Bagging + Logit"
   ]
  },
  {
   "cell_type": "code",
   "execution_count": 19,
   "metadata": {
    "collapsed": true
   },
   "outputs": [],
   "source": [
    "from sklearn.ensemble import BaggingClassifier"
   ]
  },
  {
   "cell_type": "code",
   "execution_count": 20,
   "metadata": {
    "collapsed": true
   },
   "outputs": [],
   "source": [
    "clf = BaggingClassifier(\n",
    "    LogisticRegression(penalty='l1', multi_class='multinomial', solver='saga', max_iter=10000, C=1000),\n",
    "    max_samples=0.5,\n",
    "    verbose=2\n",
    ")"
   ]
  },
  {
   "cell_type": "code",
   "execution_count": 21,
   "metadata": {
    "scrolled": false
   },
   "outputs": [
    {
     "name": "stderr",
     "output_type": "stream",
     "text": [
      "[Parallel(n_jobs=1)]: Using backend SequentialBackend with 1 concurrent workers.\n"
     ]
    },
    {
     "name": "stdout",
     "output_type": "stream",
     "text": [
      "Building estimator 1 of 10 for this parallel run (total 10)...\n",
      "Building estimator 2 of 10 for this parallel run (total 10)...\n",
      "Building estimator 3 of 10 for this parallel run (total 10)...\n",
      "Building estimator 4 of 10 for this parallel run (total 10)...\n",
      "Building estimator 5 of 10 for this parallel run (total 10)...\n",
      "Building estimator 6 of 10 for this parallel run (total 10)...\n",
      "Building estimator 7 of 10 for this parallel run (total 10)...\n",
      "Building estimator 8 of 10 for this parallel run (total 10)...\n",
      "Building estimator 9 of 10 for this parallel run (total 10)...\n",
      "Building estimator 10 of 10 for this parallel run (total 10)...\n"
     ]
    },
    {
     "name": "stderr",
     "output_type": "stream",
     "text": [
      "[Parallel(n_jobs=1)]: Done   1 out of   1 | elapsed:  1.1min remaining:    0.0s\n",
      "[Parallel(n_jobs=1)]: Done   1 out of   1 | elapsed:  1.1min finished\n"
     ]
    },
    {
     "data": {
      "text/plain": [
       "BaggingClassifier(base_estimator=LogisticRegression(C=1000, class_weight=None, dual=False, fit_intercept=True,\n",
       "          intercept_scaling=1, max_iter=10000, multi_class='multinomial',\n",
       "          n_jobs=None, penalty='l1', random_state=None, solver='saga',\n",
       "          tol=0.0001, verbose=0, warm_start=False),\n",
       "         bootstrap=True, bootstrap_features=False, max_features=1.0,\n",
       "         max_samples=0.5, n_estimators=10, n_jobs=None, oob_score=False,\n",
       "         random_state=None, verbose=2, warm_start=False)"
      ]
     },
     "execution_count": 21,
     "metadata": {},
     "output_type": "execute_result"
    }
   ],
   "source": [
    "clf.fit(xtrain, np.argmax(ytrain, axis=1))"
   ]
  },
  {
   "cell_type": "code",
   "execution_count": 22,
   "metadata": {},
   "outputs": [
    {
     "name": "stderr",
     "output_type": "stream",
     "text": [
      "[Parallel(n_jobs=1)]: Using backend SequentialBackend with 1 concurrent workers.\n",
      "[Parallel(n_jobs=1)]: Done   1 out of   1 | elapsed:    0.0s remaining:    0.0s\n",
      "[Parallel(n_jobs=1)]: Done   1 out of   1 | elapsed:    0.0s finished\n"
     ]
    }
   ],
   "source": [
    "pred = clf.predict(xtrain)"
   ]
  },
  {
   "cell_type": "code",
   "execution_count": 23,
   "metadata": {},
   "outputs": [
    {
     "name": "stdout",
     "output_type": "stream",
     "text": [
      "F1_SCORE : 0.985406943664057\n",
      "              precision    recall  f1-score   support\n",
      "\n",
      "           0       1.00      1.00      1.00        88\n",
      "           1       0.95      0.99      0.97        89\n",
      "           2       0.99      0.99      0.99        91\n",
      "           3       1.00      0.99      0.99        93\n",
      "           4       1.00      0.98      0.99        88\n",
      "           5       0.99      0.99      0.99        91\n",
      "           6       0.99      0.99      0.99        90\n",
      "           7       0.99      1.00      0.99        91\n",
      "           8       0.96      0.95      0.96        86\n",
      "           9       0.99      0.98      0.98        91\n",
      "\n",
      "   micro avg       0.99      0.99      0.99       898\n",
      "   macro avg       0.99      0.99      0.99       898\n",
      "weighted avg       0.99      0.99      0.99       898\n",
      "\n",
      "[[88  0  0  0  0  0  0  0  0  0]\n",
      " [ 0 88  0  0  0  0  0  0  1  0]\n",
      " [ 0  1 90  0  0  0  0  0  0  0]\n",
      " [ 0  0  0 92  0  0  0  0  0  1]\n",
      " [ 0  0  0  0 86  0  0  1  1  0]\n",
      " [ 0  0  0  0  0 90  1  0  0  0]\n",
      " [ 0  1  0  0  0  0 89  0  0  0]\n",
      " [ 0  0  0  0  0  0  0 91  0  0]\n",
      " [ 0  2  1  0  0  1  0  0 82  0]\n",
      " [ 0  1  0  0  0  0  0  0  1 89]]\n"
     ]
    }
   ],
   "source": [
    "print('F1_SCORE :', f1_score(np.argmax(ytrain, axis=1), pred, average='macro'))\n",
    "print(classification_report(np.argmax(ytrain, axis=1), pred))\n",
    "print(confusion_matrix(np.argmax(ytrain, axis=1), pred))"
   ]
  },
  {
   "cell_type": "code",
   "execution_count": 24,
   "metadata": {},
   "outputs": [
    {
     "name": "stderr",
     "output_type": "stream",
     "text": [
      "[Parallel(n_jobs=1)]: Using backend SequentialBackend with 1 concurrent workers.\n",
      "[Parallel(n_jobs=1)]: Done   1 out of   1 | elapsed:    0.0s remaining:    0.0s\n",
      "[Parallel(n_jobs=1)]: Done   1 out of   1 | elapsed:    0.0s finished\n"
     ]
    }
   ],
   "source": [
    "pred_test = clf.predict(xtest)"
   ]
  },
  {
   "cell_type": "code",
   "execution_count": 25,
   "metadata": {},
   "outputs": [
    {
     "name": "stdout",
     "output_type": "stream",
     "text": [
      "F1_SCORE : 0.9632499893838901\n",
      "              precision    recall  f1-score   support\n",
      "\n",
      "           0       1.00      1.00      1.00        90\n",
      "           1       0.95      0.95      0.95        93\n",
      "           2       0.99      1.00      0.99        86\n",
      "           3       0.97      0.99      0.98        90\n",
      "           4       0.99      0.96      0.97        93\n",
      "           5       0.97      0.97      0.97        91\n",
      "           6       0.98      0.98      0.98        91\n",
      "           7       0.96      0.97      0.96        88\n",
      "           8       0.89      0.90      0.89        88\n",
      "           9       0.95      0.93      0.94        89\n",
      "\n",
      "   micro avg       0.96      0.96      0.96       899\n",
      "   macro avg       0.96      0.96      0.96       899\n",
      "weighted avg       0.96      0.96      0.96       899\n",
      "\n",
      "[[90  0  0  0  0  0  0  0  0  0]\n",
      " [ 0 88  1  1  0  0  0  0  3  0]\n",
      " [ 0  0 86  0  0  0  0  0  0  0]\n",
      " [ 0  0  0 89  0  0  0  1  0  0]\n",
      " [ 0  0  0  0 89  0  0  2  2  0]\n",
      " [ 0  0  0  0  1 88  0  0  0  2]\n",
      " [ 0  0  0  0  0  1 89  0  1  0]\n",
      " [ 0  0  0  0  0  0  0 85  2  1]\n",
      " [ 0  5  0  0  0  0  2  1 79  1]\n",
      " [ 0  0  0  2  0  2  0  0  2 83]]\n"
     ]
    }
   ],
   "source": [
    "print('F1_SCORE :', f1_score(np.argmax(yans, axis=1), pred_test, average='macro'))\n",
    "print(classification_report(np.argmax(yans, axis=1), pred_test))\n",
    "print(confusion_matrix(np.argmax(yans, axis=1), pred_test))"
   ]
  },
  {
   "cell_type": "code",
   "execution_count": null,
   "metadata": {
    "collapsed": true
   },
   "outputs": [],
   "source": []
  },
  {
   "cell_type": "markdown",
   "metadata": {},
   "source": [
    "## BENCHMARK LGBMClassifier"
   ]
  },
  {
   "cell_type": "code",
   "execution_count": 26,
   "metadata": {},
   "outputs": [
    {
     "data": {
      "text/plain": [
       "3"
      ]
     },
     "execution_count": 26,
     "metadata": {},
     "output_type": "execute_result"
    }
   ],
   "source": [
    "cv_splitter = StratifiedShuffleSplit(n_splits=3, test_size=0.35, random_state=0)\n",
    "cv_splitter.get_n_splits(xtrain, ytrain)"
   ]
  },
  {
   "cell_type": "code",
   "execution_count": 27,
   "metadata": {},
   "outputs": [
    {
     "data": {
      "text/plain": [
       "array([1.e-03, 1.e-02, 1.e-01, 1.e+00, 1.e+01, 1.e+02, 1.e+03])"
      ]
     },
     "execution_count": 27,
     "metadata": {},
     "output_type": "execute_result"
    }
   ],
   "source": [
    "param_name = \"reg_alpha\"\n",
    "param_range = np.logspace(-3, 3, 7)\n",
    "param_range"
   ]
  },
  {
   "cell_type": "code",
   "execution_count": 28,
   "metadata": {},
   "outputs": [
    {
     "name": "stderr",
     "output_type": "stream",
     "text": [
      "[Parallel(n_jobs=1)]: Using backend SequentialBackend with 1 concurrent workers.\n",
      "[Parallel(n_jobs=1)]: Done   1 out of   1 | elapsed:    0.1s remaining:    0.0s\n"
     ]
    },
    {
     "name": "stdout",
     "output_type": "stream",
     "text": [
      "[CV] reg_alpha=0.001 .................................................\n",
      "[CV] .................................. reg_alpha=0.001, total=   0.1s\n",
      "[CV] reg_alpha=0.01 ..................................................\n",
      "[CV] ................................... reg_alpha=0.01, total=   0.0s\n",
      "[CV] reg_alpha=0.1 ...................................................\n",
      "[CV] .................................... reg_alpha=0.1, total=   0.0s\n",
      "[CV] reg_alpha=1.0 ...................................................\n",
      "[CV] .................................... reg_alpha=1.0, total=   0.1s\n",
      "[CV] reg_alpha=10.0 ..................................................\n",
      "[CV] ................................... reg_alpha=10.0, total=   0.0s\n",
      "[CV] reg_alpha=100.0 .................................................\n",
      "[CV] .................................. reg_alpha=100.0, total=   0.0s\n",
      "[CV] reg_alpha=1000.0 ................................................\n",
      "[CV] ................................. reg_alpha=1000.0, total=   0.0s\n",
      "[CV] reg_alpha=0.001 .................................................\n",
      "[CV] .................................. reg_alpha=0.001, total=   0.0s\n",
      "[CV] reg_alpha=0.01 ..................................................\n",
      "[CV] ................................... reg_alpha=0.01, total=   0.0s\n",
      "[CV] reg_alpha=0.1 ...................................................\n",
      "[CV] .................................... reg_alpha=0.1, total=   0.0s\n",
      "[CV] reg_alpha=1.0 ...................................................\n",
      "[CV] .................................... reg_alpha=1.0, total=   0.0s\n",
      "[CV] reg_alpha=10.0 ..................................................\n",
      "[CV] ................................... reg_alpha=10.0, total=   0.0s\n",
      "[CV] reg_alpha=100.0 .................................................\n",
      "[CV] .................................. reg_alpha=100.0, total=   0.0s\n",
      "[CV] reg_alpha=1000.0 ................................................\n",
      "[CV] ................................. reg_alpha=1000.0, total=   0.0s\n",
      "[CV] reg_alpha=0.001 .................................................\n",
      "[CV] .................................. reg_alpha=0.001, total=   0.0s\n",
      "[CV] reg_alpha=0.01 ..................................................\n",
      "[CV] ................................... reg_alpha=0.01, total=   0.0s\n",
      "[CV] reg_alpha=0.1 ...................................................\n",
      "[CV] .................................... reg_alpha=0.1, total=   0.0s\n",
      "[CV] reg_alpha=1.0 ...................................................\n",
      "[CV] .................................... reg_alpha=1.0, total=   0.0s\n",
      "[CV] reg_alpha=10.0 ..................................................\n",
      "[CV] ................................... reg_alpha=10.0, total=   0.0s\n",
      "[CV] reg_alpha=100.0 .................................................\n",
      "[CV] .................................. reg_alpha=100.0, total=   0.0s\n",
      "[CV] reg_alpha=1000.0 ................................................\n",
      "[CV] ................................. reg_alpha=1000.0, total=   0.0s\n",
      "CPU times: user 1.34 s, sys: 234 ms, total: 1.57 s\n",
      "Wall time: 802 ms\n"
     ]
    },
    {
     "name": "stderr",
     "output_type": "stream",
     "text": [
      "[Parallel(n_jobs=1)]: Done  21 out of  21 | elapsed:    0.8s finished\n"
     ]
    }
   ],
   "source": [
    "%%time\n",
    "\n",
    "train_scores, test_scores = validation_curve(\n",
    "    LGBMClassifier(\n",
    "        min_child_samples=20,\n",
    "        reg_alpha=0.1\n",
    "    ),\n",
    "    xtrain, np.argmax(ytrain, axis=1),\n",
    "    param_name=param_name, param_range=param_range,\n",
    "    cv=cv_splitter, n_jobs=1, verbose=2, scoring=f1_scorer)"
   ]
  },
  {
   "cell_type": "code",
   "execution_count": 29,
   "metadata": {},
   "outputs": [
    {
     "data": {
      "text/plain": [
       "array([[1.00000000e-03, 9.55956073e-01, 8.54552386e-01],\n",
       "       [1.00000000e-02, 9.55982579e-01, 8.53570294e-01],\n",
       "       [1.00000000e-01, 9.54834065e-01, 8.54249974e-01],\n",
       "       [1.00000000e+00, 9.41107282e-01, 8.56470400e-01],\n",
       "       [1.00000000e+01, 9.04822161e-01, 8.25580827e-01],\n",
       "       [1.00000000e+02, 1.78125000e-02, 1.79190751e-02],\n",
       "       [1.00000000e+03, 1.78125000e-02, 1.79190751e-02]])"
      ]
     },
     "execution_count": 29,
     "metadata": {},
     "output_type": "execute_result"
    }
   ],
   "source": [
    "train_scores_mean = np.mean(train_scores, axis=1)\n",
    "train_scores_std = np.std(train_scores, axis=1)\n",
    "test_scores_mean = np.mean(test_scores, axis=1)\n",
    "test_scores_std = np.std(test_scores, axis=1)\n",
    "np.c_[param_range, train_scores_mean, test_scores_mean]"
   ]
  },
  {
   "cell_type": "code",
   "execution_count": 30,
   "metadata": {},
   "outputs": [
    {
     "data": {
      "text/plain": [
       "<matplotlib.legend.Legend at 0x7f8cec0b21d0>"
      ]
     },
     "execution_count": 30,
     "metadata": {},
     "output_type": "execute_result"
    },
    {
     "data": {
      "image/png": "[encoded data removed]",
      "text/plain": [
       "<matplotlib.figure.Figure at 0x7f8cec18cc18>"
      ]
     },
     "metadata": {},
     "output_type": "display_data"
    }
   ],
   "source": [
    "plt.title(\"Validation Curve\")\n",
    "plt.xlabel(\"param\")\n",
    "plt.ylabel(\"Score\")\n",
    "plt.ylim(0.0, 1.1)\n",
    "lw = 2\n",
    "plt.semilogx(param_range, train_scores_mean, label=\"Training score\",\n",
    "             color=\"darkorange\", lw=lw)\n",
    "plt.fill_between(param_range, train_scores_mean - train_scores_std,\n",
    "                 train_scores_mean + train_scores_std, alpha=0.2,\n",
    "                 color=\"darkorange\", lw=lw)\n",
    "plt.semilogx(param_range, test_scores_mean, label=\"Cross-validation score\",\n",
    "             color=\"navy\", lw=lw)\n",
    "plt.fill_between(param_range, test_scores_mean - test_scores_std,\n",
    "                 test_scores_mean + test_scores_std, alpha=0.2,\n",
    "                 color=\"navy\", lw=lw)\n",
    "plt.legend(loc=\"best\")"
   ]
  },
  {
   "cell_type": "code",
   "execution_count": 31,
   "metadata": {},
   "outputs": [
    {
     "data": {
      "text/plain": [
       "LGBMClassifier(boosting_type='gbdt', colsample_bytree=1, learning_rate=0.1,\n",
       "        max_bin=255, max_depth=-1, min_child_samples=20,\n",
       "        min_child_weight=5, min_split_gain=0, n_estimators=10, nthread=-1,\n",
       "        num_leaves=31, objective='multiclass', reg_alpha=0.1, reg_lambda=0,\n",
       "        seed=0, silent=True, subsample=1, subsample_for_bin=50000,\n",
       "        subsample_freq=1)"
      ]
     },
     "execution_count": 31,
     "metadata": {},
     "output_type": "execute_result"
    }
   ],
   "source": [
    "'''test data'''\n",
    "est = LGBMClassifier(\n",
    "        min_child_samples=20,\n",
    "        reg_alpha=0.1\n",
    "    )\n",
    "est.fit(xtrain, np.argmax(ytrain, axis=1))"
   ]
  },
  {
   "cell_type": "code",
   "execution_count": 32,
   "metadata": {
    "collapsed": true
   },
   "outputs": [],
   "source": [
    "pred = est.predict(xtrain)"
   ]
  },
  {
   "cell_type": "code",
   "execution_count": 33,
   "metadata": {},
   "outputs": [
    {
     "name": "stdout",
     "output_type": "stream",
     "text": [
      "F1_SCORE : 0.9590311774708322\n",
      "              precision    recall  f1-score   support\n",
      "\n",
      "           0       0.98      1.00      0.99        88\n",
      "           1       0.91      0.96      0.93        89\n",
      "           2       0.98      0.99      0.98        91\n",
      "           3       0.92      0.97      0.94        93\n",
      "           4       0.99      0.97      0.98        88\n",
      "           5       0.98      0.95      0.96        91\n",
      "           6       1.00      0.97      0.98        90\n",
      "           7       0.95      0.96      0.95        91\n",
      "           8       0.98      0.94      0.96        86\n",
      "           9       0.92      0.90      0.91        91\n",
      "\n",
      "   micro avg       0.96      0.96      0.96       898\n",
      "   macro avg       0.96      0.96      0.96       898\n",
      "weighted avg       0.96      0.96      0.96       898\n",
      "\n",
      "[[88  0  0  0  0  0  0  0  0  0]\n",
      " [ 0 85  0  2  0  1  0  0  0  1]\n",
      " [ 0  1 90  0  0  0  0  0  0  0]\n",
      " [ 0  1  1 90  0  0  0  1  0  0]\n",
      " [ 1  0  0  0 85  0  0  0  1  1]\n",
      " [ 0  1  0  0  0 86  0  0  0  4]\n",
      " [ 1  2  0  0  0  0 87  0  0  0]\n",
      " [ 0  0  0  1  1  1  0 87  0  1]\n",
      " [ 0  3  1  1  0  0  0  0 81  0]\n",
      " [ 0  0  0  4  0  0  0  4  1 82]]\n"
     ]
    }
   ],
   "source": [
    "print('F1_SCORE :', f1_score(np.argmax(ytrain, axis=1), pred, average='macro'))\n",
    "print(classification_report(np.argmax(ytrain, axis=1), pred))\n",
    "print(confusion_matrix(np.argmax(ytrain, axis=1), pred))"
   ]
  },
  {
   "cell_type": "code",
   "execution_count": 34,
   "metadata": {
    "collapsed": true
   },
   "outputs": [],
   "source": [
    "pred_test = est.predict(xtest)"
   ]
  },
  {
   "cell_type": "code",
   "execution_count": 35,
   "metadata": {},
   "outputs": [
    {
     "name": "stdout",
     "output_type": "stream",
     "text": [
      "F1_SCORE : 0.9003445134291959\n",
      "              precision    recall  f1-score   support\n",
      "\n",
      "           0       0.99      1.00      0.99        90\n",
      "           1       0.91      0.87      0.89        93\n",
      "           2       0.90      0.93      0.91        86\n",
      "           3       0.84      0.87      0.85        90\n",
      "           4       0.97      0.90      0.93        93\n",
      "           5       0.87      0.85      0.86        91\n",
      "           6       0.97      0.92      0.94        91\n",
      "           7       0.92      0.94      0.93        88\n",
      "           8       0.90      0.83      0.86        88\n",
      "           9       0.77      0.89      0.82        89\n",
      "\n",
      "   micro avg       0.90      0.90      0.90       899\n",
      "   macro avg       0.90      0.90      0.90       899\n",
      "weighted avg       0.90      0.90      0.90       899\n",
      "\n",
      "[[90  0  0  0  0  0  0  0  0  0]\n",
      " [ 0 81  2  6  0  1  0  0  0  3]\n",
      " [ 0  0 80  2  0  0  2  0  2  0]\n",
      " [ 0  1  1 78  0  2  1  0  2  5]\n",
      " [ 1  3  0  0 84  2  0  2  1  0]\n",
      " [ 0  1  0  2  1 77  0  1  0  9]\n",
      " [ 0  0  1  0  1  3 84  0  1  1]\n",
      " [ 0  0  0  0  1  1  0 83  1  2]\n",
      " [ 0  1  5  2  0  0  0  3 73  4]\n",
      " [ 0  2  0  3  0  3  0  1  1 79]]\n"
     ]
    }
   ],
   "source": [
    "print('F1_SCORE :', f1_score(np.argmax(yans, axis=1), pred_test, average='macro'))\n",
    "print(classification_report(np.argmax(yans, axis=1), pred_test))\n",
    "print(confusion_matrix(np.argmax(yans, axis=1), pred_test))"
   ]
  },
  {
   "cell_type": "code",
   "execution_count": null,
   "metadata": {
    "collapsed": true
   },
   "outputs": [],
   "source": []
  },
  {
   "cell_type": "code",
   "execution_count": null,
   "metadata": {
    "collapsed": true
   },
   "outputs": [],
   "source": []
  },
  {
   "cell_type": "code",
   "execution_count": 36,
   "metadata": {},
   "outputs": [
    {
     "data": {
      "text/plain": [
       "<gkernel.sklearn.RBFClassifier at 0x7f8ce62d0c88>"
      ]
     },
     "execution_count": 36,
     "metadata": {},
     "output_type": "execute_result"
    }
   ],
   "source": [
    "#clf = RBFClassifier(num_lm=3)\n",
    "# clf = RBFClassifier(\n",
    "#     num_lm=3,\n",
    "#     lm=xtrain[:3]\n",
    "# )\n",
    "# clf = RBFClassifier(\n",
    "#     num_lm=50,\n",
    "#     lm=xtrain[:50],\n",
    "#     make_model_gkernel=make_model_gkernel3\n",
    "# )\n",
    "# early_stopping = EarlyStopping(monitor='loss', patience=5, min_delta=0.000, restore_best_weights=True)\n",
    "# clf = RBFClassifier(\n",
    "#     num_lm=3,\n",
    "#     lm=xtrain[np.random.choice(np.arange(xtrain.shape[0]), 3)],\n",
    "# )\n",
    "# clf = RBFClassifier(\n",
    "#     num_lm=10,\n",
    "#     lm=xtrain[:10],\n",
    "#     callbacks=[early_stopping],\n",
    "#     make_model_gkernel=make_model_gkernel3\n",
    "# )\n",
    "# clf = RBFClassifier(\n",
    "#     num_lm=3,\n",
    "#     lm=xtrain[:3],\n",
    "#     make_model_gkernel=make_model_gkernel3,\n",
    "#     activation='sigmoid',\n",
    "#     loss='binary_crossentropy'\n",
    "# )\n",
    "clf = RBFClassifier(\n",
    "    num_lm=10,\n",
    "    lm=xtrain[np.random.choice(np.arange(xtrain.shape[0]), 10)],\n",
    "    reg_l1=0.00,\n",
    "    lr=0.02,\n",
    "    random_state=101\n",
    ")\n",
    "clf"
   ]
  },
  {
   "cell_type": "code",
   "execution_count": 37,
   "metadata": {},
   "outputs": [
    {
     "name": "stderr",
     "output_type": "stream",
     "text": [
      "WARNING: Logging before flag parsing goes to stderr.\n",
      "W1001 00:05:07.648570 140244632471360 deprecation_wrapper.py:119] From /home/admin/miniconda3/envs/da02/lib/python3.6/site-packages/keras/backend/tensorflow_backend.py:95: The name tf.reset_default_graph is deprecated. Please use tf.compat.v1.reset_default_graph instead.\n",
      "\n",
      "W1001 00:05:07.651405 140244632471360 deprecation_wrapper.py:119] From /home/admin/miniconda3/envs/da02/lib/python3.6/site-packages/keras/backend/tensorflow_backend.py:98: The name tf.placeholder_with_default is deprecated. Please use tf.compat.v1.placeholder_with_default instead.\n",
      "\n",
      "W1001 00:05:07.684628 140244632471360 deprecation_wrapper.py:119] From /home/admin/miniconda3/envs/da02/lib/python3.6/site-packages/keras/backend/tensorflow_backend.py:102: The name tf.get_default_graph is deprecated. Please use tf.compat.v1.get_default_graph instead.\n",
      "\n",
      "W1001 00:05:07.685850 140244632471360 deprecation_wrapper.py:119] From /home/admin/miniconda3/envs/da02/lib/python3.6/site-packages/keras/backend/tensorflow_backend.py:517: The name tf.placeholder is deprecated. Please use tf.compat.v1.placeholder instead.\n",
      "\n",
      "W1001 00:05:07.688033 140244632471360 deprecation_wrapper.py:119] From /home/admin/miniconda3/envs/da02/lib/python3.6/site-packages/keras/backend/tensorflow_backend.py:4138: The name tf.random_uniform is deprecated. Please use tf.random.uniform instead.\n",
      "\n",
      "W1001 00:05:07.783932 140244632471360 deprecation_wrapper.py:119] From /home/admin/miniconda3/envs/da02/lib/python3.6/site-packages/keras/optimizers.py:790: The name tf.train.Optimizer is deprecated. Please use tf.compat.v1.train.Optimizer instead.\n",
      "\n",
      "W1001 00:05:07.861223 140244632471360 deprecation.py:323] From /home/admin/miniconda3/envs/da02/lib/python3.6/site-packages/tensorflow/python/ops/math_grad.py:1250: add_dispatch_support.<locals>.wrapper (from tensorflow.python.ops.array_ops) is deprecated and will be removed in a future version.\n",
      "Instructions for updating:\n",
      "Use tf.where in 2.0, which has the same broadcast rule as np.where\n"
     ]
    },
    {
     "name": "stdout",
     "output_type": "stream",
     "text": [
      "CPU times: user 22.1 s, sys: 844 ms, total: 23 s\n",
      "Wall time: 16.6 s\n"
     ]
    }
   ],
   "source": [
    "%%time\n",
    "hst = clf.fit(xtrain, ytrain, epochs=500, batch_size=32, verbose=0)"
   ]
  },
  {
   "cell_type": "code",
   "execution_count": 38,
   "metadata": {},
   "outputs": [
    {
     "data": {
      "text/plain": [
       "<matplotlib.legend.Legend at 0x7f8cd41b8c18>"
      ]
     },
     "execution_count": 38,
     "metadata": {},
     "output_type": "execute_result"
    },
    {
     "data": {
      "image/png": "[encoded data removed]",
      "text/plain": [
       "<matplotlib.figure.Figure at 0x7f8cec06ea20>"
      ]
     },
     "metadata": {},
     "output_type": "display_data"
    }
   ],
   "source": [
    "fig, ax = plt.subplots(1, 3, figsize=(20,5))\n",
    "ax[0].set_title('loss')\n",
    "ax[0].plot(list(range(len(hst[\"loss\"]))), hst[\"loss\"], label=\"Train loss\")\n",
    "ax[1].set_title('accuracy')\n",
    "ax[1].plot(list(range(len(hst[\"loss\"]))), hst[\"acc\"], label=\"accuracy\")\n",
    "ax[2].set_title('learning rate')\n",
    "ax[2].plot(list(range(len(hst[\"loss\"]))), hst[\"lr\"], label=\"learning rate\")\n",
    "ax[0].legend()\n",
    "ax[1].legend()\n",
    "ax[2].legend()"
   ]
  },
  {
   "cell_type": "code",
   "execution_count": 39,
   "metadata": {},
   "outputs": [
    {
     "data": {
      "text/plain": [
       "(10, array([0, 1, 2, 3, 4, 5, 6, 7, 8, 9]))"
      ]
     },
     "execution_count": 39,
     "metadata": {},
     "output_type": "execute_result"
    }
   ],
   "source": [
    "clf.n_classes_, clf.classes_"
   ]
  },
  {
   "cell_type": "code",
   "execution_count": 40,
   "metadata": {},
   "outputs": [
    {
     "data": {
      "text/plain": [
       "{'callbacks': None,\n",
       " 'lm': array([[0.    , 0.    , 0.1875, 0.625 , 1.    , 0.25  , 0.    , 0.    ,\n",
       "         0.    , 0.0625, 0.9375, 1.    , 1.    , 0.625 , 0.    , 0.    ,\n",
       "         0.    , 0.375 , 0.625 , 0.125 , 0.1875, 0.875 , 0.0625, 0.    ,\n",
       "         0.    , 0.5   , 0.375 , 0.    , 0.    , 0.625 , 0.25  , 0.    ,\n",
       "         0.    , 0.25  , 0.5   , 0.    , 0.    , 0.3125, 0.5   , 0.    ,\n",
       "         0.    , 0.    , 0.9375, 0.    , 0.    , 0.5625, 0.5   , 0.    ,\n",
       "         0.    , 0.    , 0.75  , 0.875 , 0.625 , 1.    , 0.1875, 0.    ,\n",
       "         0.    , 0.    , 0.25  , 0.875 , 0.8125, 0.3125, 0.    , 0.    ],\n",
       "        [0.    , 0.    , 0.    , 0.    , 0.5   , 0.9375, 0.5625, 0.    ,\n",
       "         0.    , 0.    , 0.0625, 0.75  , 0.5   , 0.125 , 0.6875, 0.    ,\n",
       "         0.    , 0.    , 0.625 , 0.6875, 0.    , 0.6875, 0.5   , 0.    ,\n",
       "         0.    , 0.3125, 1.    , 0.875 , 0.9375, 0.9375, 0.1875, 0.    ,\n",
       "         0.    , 0.125 , 0.75  , 0.625 , 0.25  , 0.875 , 0.    , 0.    ,\n",
       "         0.    , 0.    , 0.    , 0.    , 0.375 , 0.5625, 0.    , 0.    ,\n",
       "         0.    , 0.    , 0.    , 0.    , 0.5625, 0.375 , 0.    , 0.    ,\n",
       "         0.    , 0.    , 0.    , 0.    , 0.5625, 0.375 , 0.    , 0.    ],\n",
       "        [0.    , 0.    , 0.1875, 0.9375, 0.4375, 0.    , 0.    , 0.    ,\n",
       "         0.    , 0.1875, 0.9375, 0.6875, 0.0625, 0.0625, 0.4375, 0.    ,\n",
       "         0.    , 0.5   , 1.    , 0.125 , 0.    , 0.8125, 0.9375, 0.    ,\n",
       "         0.    , 0.5   , 1.    , 0.8125, 0.875 , 1.    , 0.3125, 0.    ,\n",
       "         0.    , 0.    , 0.5   , 0.5625, 0.9375, 0.8125, 0.    , 0.    ,\n",
       "         0.    , 0.    , 0.    , 0.5   , 1.    , 0.125 , 0.    , 0.    ,\n",
       "         0.    , 0.    , 0.    , 0.75  , 0.75  , 0.    , 0.    , 0.    ,\n",
       "         0.    , 0.    , 0.1875, 1.    , 0.25  , 0.    , 0.    , 0.    ],\n",
       "        [0.    , 0.    , 0.    , 0.875 , 0.75  , 0.0625, 0.    , 0.    ,\n",
       "         0.    , 0.    , 0.25  , 0.9375, 0.4375, 0.625 , 0.    , 0.    ,\n",
       "         0.    , 0.125 , 1.    , 0.9375, 0.3125, 0.75  , 0.125 , 0.    ,\n",
       "         0.    , 0.4375, 1.    , 0.    , 0.    , 0.6875, 0.3125, 0.    ,\n",
       "         0.    , 0.3125, 0.75  , 0.    , 0.    , 0.75  , 0.25  , 0.    ,\n",
       "         0.    , 0.0625, 0.9375, 0.    , 0.    , 0.875 , 0.125 , 0.    ,\n",
       "         0.    , 0.    , 0.5625, 0.375 , 0.4375, 0.9375, 0.    , 0.    ,\n",
       "         0.    , 0.    , 0.0625, 0.8125, 1.    , 0.5   , 0.    , 0.    ],\n",
       "        [0.    , 0.    , 0.    , 0.0625, 1.    , 0.1875, 0.    , 0.    ,\n",
       "         0.    , 0.    , 0.    , 0.625 , 0.6875, 0.    , 0.    , 0.    ,\n",
       "         0.    , 0.    , 0.0625, 0.875 , 0.1875, 0.    , 0.    , 0.    ,\n",
       "         0.    , 0.    , 0.4375, 0.75  , 0.    , 0.1875, 0.5625, 0.    ,\n",
       "         0.    , 0.    , 0.875 , 0.125 , 0.    , 0.625 , 0.4375, 0.    ,\n",
       "         0.    , 0.375 , 0.8125, 0.3125, 0.6875, 0.875 , 0.0625, 0.    ,\n",
       "         0.    , 0.6875, 1.    , 1.    , 1.    , 0.5625, 0.    , 0.    ,\n",
       "         0.    , 0.0625, 0.125 , 0.0625, 0.875 , 0.0625, 0.    , 0.    ],\n",
       "        [0.    , 0.    , 0.375 , 0.8125, 1.    , 0.375 , 0.    , 0.    ,\n",
       "         0.    , 0.1875, 1.    , 0.875 , 0.9375, 1.    , 0.0625, 0.    ,\n",
       "         0.    , 0.    , 0.3125, 0.    , 0.5   , 1.    , 0.125 , 0.    ,\n",
       "         0.    , 0.    , 0.    , 0.    , 0.5   , 1.    , 0.1875, 0.    ,\n",
       "         0.    , 0.1875, 0.9375, 1.    , 1.    , 1.    , 0.5625, 0.    ,\n",
       "         0.    , 0.3125, 0.8125, 0.875 , 1.    , 0.6875, 0.1875, 0.    ,\n",
       "         0.    , 0.    , 0.    , 0.75  , 0.9375, 0.0625, 0.    , 0.    ,\n",
       "         0.    , 0.    , 0.25  , 1.    , 0.4375, 0.    , 0.    , 0.    ],\n",
       "        [0.    , 0.    , 0.    , 0.0625, 0.5625, 1.    , 0.5625, 0.    ,\n",
       "         0.    , 0.    , 0.0625, 0.6875, 0.8125, 0.875 , 0.75  , 0.0625,\n",
       "         0.    , 0.0625, 0.9375, 0.8125, 0.25  , 1.    , 1.    , 0.1875,\n",
       "         0.    , 0.125 , 1.    , 1.    , 1.    , 0.9375, 0.75  , 0.    ,\n",
       "         0.    , 0.    , 0.4375, 0.5   , 0.25  , 0.875 , 0.3125, 0.    ,\n",
       "         0.    , 0.    , 0.    , 0.    , 0.3125, 0.875 , 0.    , 0.    ,\n",
       "         0.    , 0.    , 0.    , 0.    , 0.5   , 0.5625, 0.    , 0.    ,\n",
       "         0.    , 0.    , 0.    , 0.    , 0.75  , 0.375 , 0.    , 0.    ],\n",
       "        [0.    , 0.    , 0.0625, 0.8125, 0.    , 0.    , 0.    , 0.    ,\n",
       "         0.    , 0.    , 0.4375, 0.625 , 0.    , 0.    , 0.    , 0.    ,\n",
       "         0.    , 0.0625, 1.    , 0.125 , 0.    , 0.    , 0.    , 0.    ,\n",
       "         0.    , 0.25  , 0.8125, 0.    , 0.    , 0.    , 0.    , 0.    ,\n",
       "         0.    , 0.4375, 0.75  , 0.25  , 0.6875, 0.5625, 0.0625, 0.    ,\n",
       "         0.    , 0.25  , 1.    , 0.9375, 0.5   , 0.75  , 0.4375, 0.    ,\n",
       "         0.    , 0.125 , 0.875 , 0.625 , 0.1875, 0.8125, 0.4375, 0.    ,\n",
       "         0.    , 0.    , 0.125 , 0.8125, 1.    , 0.5   , 0.0625, 0.    ],\n",
       "        [0.    , 0.    , 0.5   , 0.8125, 0.6875, 0.0625, 0.    , 0.    ,\n",
       "         0.    , 0.25  , 0.9375, 0.3125, 0.75  , 0.375 , 0.    , 0.    ,\n",
       "         0.    , 0.    , 0.    , 0.    , 0.625 , 0.25  , 0.    , 0.    ,\n",
       "         0.    , 0.    , 0.    , 0.375 , 1.    , 0.25  , 0.    , 0.    ,\n",
       "         0.    , 0.    , 0.    , 0.3125, 0.8125, 0.9375, 0.1875, 0.    ,\n",
       "         0.    , 0.    , 0.0625, 0.    , 0.    , 0.4375, 0.75  , 0.    ,\n",
       "         0.    , 0.0625, 0.9375, 0.5   , 0.4375, 0.75  , 0.75  , 0.    ,\n",
       "         0.    , 0.    , 0.375 , 0.875 , 1.    , 0.9375, 0.3125, 0.    ],\n",
       "        [0.    , 0.    , 0.25  , 0.9375, 1.    , 0.375 , 0.    , 0.    ,\n",
       "         0.    , 0.    , 0.8125, 0.6875, 0.6875, 0.9375, 0.    , 0.    ,\n",
       "         0.    , 0.    , 0.9375, 0.8125, 0.9375, 1.    , 0.4375, 0.    ,\n",
       "         0.    , 0.    , 0.4375, 1.    , 1.    , 0.6875, 0.125 , 0.    ,\n",
       "         0.    , 0.    , 0.3125, 0.9375, 1.    , 0.125 , 0.    , 0.    ,\n",
       "         0.    , 0.    , 1.    , 0.5625, 0.75  , 0.6875, 0.    , 0.    ,\n",
       "         0.    , 0.125 , 1.    , 0.375 , 0.5   , 1.    , 0.    , 0.    ,\n",
       "         0.    , 0.    , 0.4375, 0.875 , 0.8125, 0.5   , 0.    , 0.    ]]),\n",
       " 'loss': None,\n",
       " 'lr': 0.02,\n",
       " 'nn': None,\n",
       " 'num_cls': 10,\n",
       " 'num_lm': 10,\n",
       " 'random_state': 101,\n",
       " 'reg_l1': 0.0}"
      ]
     },
     "execution_count": 40,
     "metadata": {},
     "output_type": "execute_result"
    }
   ],
   "source": [
    "clf.sk_params"
   ]
  },
  {
   "cell_type": "code",
   "execution_count": 41,
   "metadata": {},
   "outputs": [
    {
     "data": {
      "text/plain": [
       "{'build_fn': <function gkernel.sklearn.make_model>,\n",
       " 'classes_': array([0, 1, 2, 3, 4, 5, 6, 7, 8, 9]),\n",
       " 'model': <keras.engine.training.Model at 0x7f8ce61d31d0>,\n",
       " 'n_classes_': 10,\n",
       " 'sk_params': {'callbacks': None,\n",
       "  'lm': array([[0.    , 0.    , 0.1875, 0.625 , 1.    , 0.25  , 0.    , 0.    ,\n",
       "          0.    , 0.0625, 0.9375, 1.    , 1.    , 0.625 , 0.    , 0.    ,\n",
       "          0.    , 0.375 , 0.625 , 0.125 , 0.1875, 0.875 , 0.0625, 0.    ,\n",
       "          0.    , 0.5   , 0.375 , 0.    , 0.    , 0.625 , 0.25  , 0.    ,\n",
       "          0.    , 0.25  , 0.5   , 0.    , 0.    , 0.3125, 0.5   , 0.    ,\n",
       "          0.    , 0.    , 0.9375, 0.    , 0.    , 0.5625, 0.5   , 0.    ,\n",
       "          0.    , 0.    , 0.75  , 0.875 , 0.625 , 1.    , 0.1875, 0.    ,\n",
       "          0.    , 0.    , 0.25  , 0.875 , 0.8125, 0.3125, 0.    , 0.    ],\n",
       "         [0.    , 0.    , 0.    , 0.    , 0.5   , 0.9375, 0.5625, 0.    ,\n",
       "          0.    , 0.    , 0.0625, 0.75  , 0.5   , 0.125 , 0.6875, 0.    ,\n",
       "          0.    , 0.    , 0.625 , 0.6875, 0.    , 0.6875, 0.5   , 0.    ,\n",
       "          0.    , 0.3125, 1.    , 0.875 , 0.9375, 0.9375, 0.1875, 0.    ,\n",
       "          0.    , 0.125 , 0.75  , 0.625 , 0.25  , 0.875 , 0.    , 0.    ,\n",
       "          0.    , 0.    , 0.    , 0.    , 0.375 , 0.5625, 0.    , 0.    ,\n",
       "          0.    , 0.    , 0.    , 0.    , 0.5625, 0.375 , 0.    , 0.    ,\n",
       "          0.    , 0.    , 0.    , 0.    , 0.5625, 0.375 , 0.    , 0.    ],\n",
       "         [0.    , 0.    , 0.1875, 0.9375, 0.4375, 0.    , 0.    , 0.    ,\n",
       "          0.    , 0.1875, 0.9375, 0.6875, 0.0625, 0.0625, 0.4375, 0.    ,\n",
       "          0.    , 0.5   , 1.    , 0.125 , 0.    , 0.8125, 0.9375, 0.    ,\n",
       "          0.    , 0.5   , 1.    , 0.8125, 0.875 , 1.    , 0.3125, 0.    ,\n",
       "          0.    , 0.    , 0.5   , 0.5625, 0.9375, 0.8125, 0.    , 0.    ,\n",
       "          0.    , 0.    , 0.    , 0.5   , 1.    , 0.125 , 0.    , 0.    ,\n",
       "          0.    , 0.    , 0.    , 0.75  , 0.75  , 0.    , 0.    , 0.    ,\n",
       "          0.    , 0.    , 0.1875, 1.    , 0.25  , 0.    , 0.    , 0.    ],\n",
       "         [0.    , 0.    , 0.    , 0.875 , 0.75  , 0.0625, 0.    , 0.    ,\n",
       "          0.    , 0.    , 0.25  , 0.9375, 0.4375, 0.625 , 0.    , 0.    ,\n",
       "          0.    , 0.125 , 1.    , 0.9375, 0.3125, 0.75  , 0.125 , 0.    ,\n",
       "          0.    , 0.4375, 1.    , 0.    , 0.    , 0.6875, 0.3125, 0.    ,\n",
       "          0.    , 0.3125, 0.75  , 0.    , 0.    , 0.75  , 0.25  , 0.    ,\n",
       "          0.    , 0.0625, 0.9375, 0.    , 0.    , 0.875 , 0.125 , 0.    ,\n",
       "          0.    , 0.    , 0.5625, 0.375 , 0.4375, 0.9375, 0.    , 0.    ,\n",
       "          0.    , 0.    , 0.0625, 0.8125, 1.    , 0.5   , 0.    , 0.    ],\n",
       "         [0.    , 0.    , 0.    , 0.0625, 1.    , 0.1875, 0.    , 0.    ,\n",
       "          0.    , 0.    , 0.    , 0.625 , 0.6875, 0.    , 0.    , 0.    ,\n",
       "          0.    , 0.    , 0.0625, 0.875 , 0.1875, 0.    , 0.    , 0.    ,\n",
       "          0.    , 0.    , 0.4375, 0.75  , 0.    , 0.1875, 0.5625, 0.    ,\n",
       "          0.    , 0.    , 0.875 , 0.125 , 0.    , 0.625 , 0.4375, 0.    ,\n",
       "          0.    , 0.375 , 0.8125, 0.3125, 0.6875, 0.875 , 0.0625, 0.    ,\n",
       "          0.    , 0.6875, 1.    , 1.    , 1.    , 0.5625, 0.    , 0.    ,\n",
       "          0.    , 0.0625, 0.125 , 0.0625, 0.875 , 0.0625, 0.    , 0.    ],\n",
       "         [0.    , 0.    , 0.375 , 0.8125, 1.    , 0.375 , 0.    , 0.    ,\n",
       "          0.    , 0.1875, 1.    , 0.875 , 0.9375, 1.    , 0.0625, 0.    ,\n",
       "          0.    , 0.    , 0.3125, 0.    , 0.5   , 1.    , 0.125 , 0.    ,\n",
       "          0.    , 0.    , 0.    , 0.    , 0.5   , 1.    , 0.1875, 0.    ,\n",
       "          0.    , 0.1875, 0.9375, 1.    , 1.    , 1.    , 0.5625, 0.    ,\n",
       "          0.    , 0.3125, 0.8125, 0.875 , 1.    , 0.6875, 0.1875, 0.    ,\n",
       "          0.    , 0.    , 0.    , 0.75  , 0.9375, 0.0625, 0.    , 0.    ,\n",
       "          0.    , 0.    , 0.25  , 1.    , 0.4375, 0.    , 0.    , 0.    ],\n",
       "         [0.    , 0.    , 0.    , 0.0625, 0.5625, 1.    , 0.5625, 0.    ,\n",
       "          0.    , 0.    , 0.0625, 0.6875, 0.8125, 0.875 , 0.75  , 0.0625,\n",
       "          0.    , 0.0625, 0.9375, 0.8125, 0.25  , 1.    , 1.    , 0.1875,\n",
       "          0.    , 0.125 , 1.    , 1.    , 1.    , 0.9375, 0.75  , 0.    ,\n",
       "          0.    , 0.    , 0.4375, 0.5   , 0.25  , 0.875 , 0.3125, 0.    ,\n",
       "          0.    , 0.    , 0.    , 0.    , 0.3125, 0.875 , 0.    , 0.    ,\n",
       "          0.    , 0.    , 0.    , 0.    , 0.5   , 0.5625, 0.    , 0.    ,\n",
       "          0.    , 0.    , 0.    , 0.    , 0.75  , 0.375 , 0.    , 0.    ],\n",
       "         [0.    , 0.    , 0.0625, 0.8125, 0.    , 0.    , 0.    , 0.    ,\n",
       "          0.    , 0.    , 0.4375, 0.625 , 0.    , 0.    , 0.    , 0.    ,\n",
       "          0.    , 0.0625, 1.    , 0.125 , 0.    , 0.    , 0.    , 0.    ,\n",
       "          0.    , 0.25  , 0.8125, 0.    , 0.    , 0.    , 0.    , 0.    ,\n",
       "          0.    , 0.4375, 0.75  , 0.25  , 0.6875, 0.5625, 0.0625, 0.    ,\n",
       "          0.    , 0.25  , 1.    , 0.9375, 0.5   , 0.75  , 0.4375, 0.    ,\n",
       "          0.    , 0.125 , 0.875 , 0.625 , 0.1875, 0.8125, 0.4375, 0.    ,\n",
       "          0.    , 0.    , 0.125 , 0.8125, 1.    , 0.5   , 0.0625, 0.    ],\n",
       "         [0.    , 0.    , 0.5   , 0.8125, 0.6875, 0.0625, 0.    , 0.    ,\n",
       "          0.    , 0.25  , 0.9375, 0.3125, 0.75  , 0.375 , 0.    , 0.    ,\n",
       "          0.    , 0.    , 0.    , 0.    , 0.625 , 0.25  , 0.    , 0.    ,\n",
       "          0.    , 0.    , 0.    , 0.375 , 1.    , 0.25  , 0.    , 0.    ,\n",
       "          0.    , 0.    , 0.    , 0.3125, 0.8125, 0.9375, 0.1875, 0.    ,\n",
       "          0.    , 0.    , 0.0625, 0.    , 0.    , 0.4375, 0.75  , 0.    ,\n",
       "          0.    , 0.0625, 0.9375, 0.5   , 0.4375, 0.75  , 0.75  , 0.    ,\n",
       "          0.    , 0.    , 0.375 , 0.875 , 1.    , 0.9375, 0.3125, 0.    ],\n",
       "         [0.    , 0.    , 0.25  , 0.9375, 1.    , 0.375 , 0.    , 0.    ,\n",
       "          0.    , 0.    , 0.8125, 0.6875, 0.6875, 0.9375, 0.    , 0.    ,\n",
       "          0.    , 0.    , 0.9375, 0.8125, 0.9375, 1.    , 0.4375, 0.    ,\n",
       "          0.    , 0.    , 0.4375, 1.    , 1.    , 0.6875, 0.125 , 0.    ,\n",
       "          0.    , 0.    , 0.3125, 0.9375, 1.    , 0.125 , 0.    , 0.    ,\n",
       "          0.    , 0.    , 1.    , 0.5625, 0.75  , 0.6875, 0.    , 0.    ,\n",
       "          0.    , 0.125 , 1.    , 0.375 , 0.5   , 1.    , 0.    , 0.    ,\n",
       "          0.    , 0.    , 0.4375, 0.875 , 0.8125, 0.5   , 0.    , 0.    ]]),\n",
       "  'loss': None,\n",
       "  'lr': 0.02,\n",
       "  'nn': None,\n",
       "  'num_cls': 10,\n",
       "  'num_lm': 10,\n",
       "  'random_state': 101,\n",
       "  'reg_l1': 0.0}}"
      ]
     },
     "execution_count": 41,
     "metadata": {},
     "output_type": "execute_result"
    }
   ],
   "source": [
    "clf.__dict__"
   ]
  },
  {
   "cell_type": "code",
   "execution_count": 42,
   "metadata": {},
   "outputs": [
    {
     "data": {
      "text/plain": [
       "0.12609605"
      ]
     },
     "execution_count": 42,
     "metadata": {},
     "output_type": "execute_result"
    }
   ],
   "source": [
    "clf.current_gamma()"
   ]
  },
  {
   "cell_type": "code",
   "execution_count": 43,
   "metadata": {},
   "outputs": [
    {
     "data": {
      "text/plain": [
       "array([1, 3, 9, 7, 9, 1, 3, 5, 7, 3])"
      ]
     },
     "execution_count": 43,
     "metadata": {},
     "output_type": "execute_result"
    }
   ],
   "source": [
    "clf.predict(xtrain)[:10]"
   ]
  },
  {
   "cell_type": "code",
   "execution_count": 44,
   "metadata": {},
   "outputs": [
    {
     "data": {
      "text/plain": [
       "array([[9.9925631e-01, 4.1906512e-10, 5.9126410e-06, 7.2028136e-08,\n",
       "        9.9023811e-09, 7.1079092e-04, 1.6889842e-05, 9.8417652e-10,\n",
       "        6.8688773e-06, 3.1222512e-06],\n",
       "       [5.7839177e-04, 6.1191487e-01, 4.7389716e-02, 6.3307524e-02,\n",
       "        6.8702619e-04, 2.3014540e-02, 7.8982217e-03, 7.2013261e-03,\n",
       "        2.3722799e-01, 7.8036956e-04],\n",
       "       [1.1816927e-04, 9.1798865e-04, 1.1727712e-07, 3.5124785e-07,\n",
       "        9.9241167e-01, 1.6877448e-04, 6.3763047e-03, 3.6467459e-06,\n",
       "        2.9218349e-06, 3.7095854e-10],\n",
       "       [2.3529769e-03, 4.5107925e-04, 1.4088393e-04, 1.5793583e-07,\n",
       "        2.7551541e-02, 2.8499831e-03, 9.6476007e-01, 6.4187510e-08,\n",
       "        1.8932214e-03, 1.8801689e-09],\n",
       "       [9.2950853e-07, 1.1893382e-02, 1.5568626e-03, 1.5455922e-03,\n",
       "        2.3638739e-08, 2.0909197e-04, 8.4163796e-05, 1.1215670e-06,\n",
       "        9.8421484e-01, 4.9396564e-04]], dtype=float32)"
      ]
     },
     "execution_count": 44,
     "metadata": {},
     "output_type": "execute_result"
    }
   ],
   "source": [
    "clf.predict_proba(xtest)[:5]"
   ]
  },
  {
   "cell_type": "code",
   "execution_count": 45,
   "metadata": {},
   "outputs": [
    {
     "name": "stdout",
     "output_type": "stream",
     "text": [
      "898/898 [==============================] - 0s 174us/step\n"
     ]
    },
    {
     "data": {
      "text/plain": [
       "0.8930957683741648"
      ]
     },
     "execution_count": 45,
     "metadata": {},
     "output_type": "execute_result"
    }
   ],
   "source": [
    "clf.score(xtrain, ytrain)"
   ]
  },
  {
   "cell_type": "code",
   "execution_count": 46,
   "metadata": {},
   "outputs": [
    {
     "name": "stdout",
     "output_type": "stream",
     "text": [
      "899/899 [==============================] - 0s 22us/step\n"
     ]
    },
    {
     "data": {
      "text/plain": [
       "0.8765294771968855"
      ]
     },
     "execution_count": 46,
     "metadata": {},
     "output_type": "execute_result"
    }
   ],
   "source": [
    "clf.score(xtest, yans)"
   ]
  },
  {
   "cell_type": "code",
   "execution_count": 47,
   "metadata": {},
   "outputs": [
    {
     "name": "stdout",
     "output_type": "stream",
     "text": [
      "F1_SCORE : 0.8933308554585822\n",
      "              precision    recall  f1-score   support\n",
      "\n",
      "           0       1.00      0.97      0.98        88\n",
      "           1       0.75      0.84      0.79        89\n",
      "           2       0.92      0.95      0.93        91\n",
      "           3       0.91      0.88      0.90        93\n",
      "           4       0.95      0.95      0.95        88\n",
      "           5       0.84      0.85      0.84        91\n",
      "           6       0.96      0.99      0.97        90\n",
      "           7       0.92      0.85      0.88        91\n",
      "           8       0.86      0.78      0.82        86\n",
      "           9       0.84      0.88      0.86        91\n",
      "\n",
      "   micro avg       0.89      0.89      0.89       898\n",
      "   macro avg       0.90      0.89      0.89       898\n",
      "weighted avg       0.90      0.89      0.89       898\n",
      "\n",
      "[[85  0  1  0  1  1  0  0  0  0]\n",
      " [ 0 75  0  2  0  2  1  0  5  4]\n",
      " [ 0  3 86  0  0  1  0  1  0  0]\n",
      " [ 0  1  1 82  0  1  0  4  2  2]\n",
      " [ 0  2  0  0 84  1  1  0  0  0]\n",
      " [ 0  3  0  0  1 77  2  1  2  5]\n",
      " [ 0  1  0  0  0  0 89  0  0  0]\n",
      " [ 0  6  3  0  1  4  0 77  0  0]\n",
      " [ 0  9  2  0  1  3  0  0 67  4]\n",
      " [ 0  0  0  6  0  2  0  1  2 80]]\n"
     ]
    }
   ],
   "source": [
    "print('F1_SCORE :', f1_score(np.argmax(ytrain,axis=1), clf.predict(xtrain), average='macro'))\n",
    "print(classification_report(np.argmax(ytrain,axis=1), clf.predict(xtrain)))\n",
    "print(confusion_matrix(np.argmax(ytrain,axis=1), clf.predict(xtrain)))"
   ]
  },
  {
   "cell_type": "code",
   "execution_count": 48,
   "metadata": {},
   "outputs": [
    {
     "name": "stdout",
     "output_type": "stream",
     "text": [
      "F1_SCORE : 0.8784938213924866\n",
      "              precision    recall  f1-score   support\n",
      "\n",
      "           0       1.00      1.00      1.00        90\n",
      "           1       0.71      0.71      0.71        93\n",
      "           2       0.96      0.91      0.93        86\n",
      "           3       0.95      0.84      0.89        90\n",
      "           4       0.97      0.91      0.94        93\n",
      "           5       0.71      0.85      0.77        91\n",
      "           6       0.95      0.96      0.95        91\n",
      "           7       0.92      0.88      0.90        88\n",
      "           8       0.82      0.82      0.82        88\n",
      "           9       0.84      0.90      0.87        89\n",
      "\n",
      "   micro avg       0.88      0.88      0.88       899\n",
      "   macro avg       0.88      0.88      0.88       899\n",
      "weighted avg       0.88      0.88      0.88       899\n",
      "\n",
      "[[90  0  0  0  0  0  0  0  0  0]\n",
      " [ 0 66  0  0  0 14  4  0  5  4]\n",
      " [ 0  2 78  1  0  2  0  1  2  0]\n",
      " [ 0  5  0 76  0  0  0  4  3  2]\n",
      " [ 0  4  0  0 85  2  1  1  0  0]\n",
      " [ 0  3  1  1  1 77  0  0  3  5]\n",
      " [ 0  0  0  0  1  2 87  0  1  0]\n",
      " [ 0  3  2  0  0  5  0 77  1  0]\n",
      " [ 0  9  0  0  1  2  0  0 72  4]\n",
      " [ 0  1  0  2  0  4  0  1  1 80]]\n"
     ]
    }
   ],
   "source": [
    "print('F1_SCORE :', f1_score(np.argmax(yans,axis=1), clf.predict(xtest), average='macro'))\n",
    "print(classification_report(np.argmax(yans,axis=1), clf.predict(xtest)))\n",
    "print(confusion_matrix(np.argmax(yans,axis=1), clf.predict(xtest)))"
   ]
  },
  {
   "cell_type": "code",
   "execution_count": null,
   "metadata": {
    "collapsed": true
   },
   "outputs": [],
   "source": []
  },
  {
   "cell_type": "code",
   "execution_count": 49,
   "metadata": {},
   "outputs": [
    {
     "data": {
      "text/plain": [
       "3"
      ]
     },
     "execution_count": 49,
     "metadata": {},
     "output_type": "execute_result"
    }
   ],
   "source": [
    "cv_splitter = StratifiedShuffleSplit(n_splits=3, test_size=0.35, random_state=0)\n",
    "cv_splitter.get_n_splits(xtrain, ytrain)"
   ]
  },
  {
   "cell_type": "code",
   "execution_count": 50,
   "metadata": {},
   "outputs": [
    {
     "data": {
      "text/plain": [
       "[2, 5, 10, 20, 50, 100, 150, 200, 250, 300]"
      ]
     },
     "execution_count": 50,
     "metadata": {},
     "output_type": "execute_result"
    }
   ],
   "source": [
    "param_name = \"num_lm\"\n",
    "param_range = [2, 5, 10, 20, 50, 100, 150, 200, 250, 300]\n",
    "param_range"
   ]
  },
  {
   "cell_type": "code",
   "execution_count": 51,
   "metadata": {},
   "outputs": [
    {
     "name": "stderr",
     "output_type": "stream",
     "text": [
      "[Parallel(n_jobs=1)]: Using backend SequentialBackend with 1 concurrent workers.\n"
     ]
    },
    {
     "name": "stdout",
     "output_type": "stream",
     "text": [
      "[CV] num_lm=2 ........................................................\n",
      "[CV] ......................................... num_lm=2, total=   9.8s\n",
      "[CV] num_lm=5 ........................................................\n"
     ]
    },
    {
     "name": "stderr",
     "output_type": "stream",
     "text": [
      "[Parallel(n_jobs=1)]: Done   1 out of   1 | elapsed:    9.8s remaining:    0.0s\n"
     ]
    },
    {
     "name": "stdout",
     "output_type": "stream",
     "text": [
      "[CV] ......................................... num_lm=5, total=  13.4s\n",
      "[CV] num_lm=10 .......................................................\n",
      "[CV] ........................................ num_lm=10, total=  10.3s\n",
      "[CV] num_lm=20 .......................................................\n",
      "[CV] ........................................ num_lm=20, total=  12.4s\n",
      "[CV] num_lm=50 .......................................................\n",
      "[CV] ........................................ num_lm=50, total=  13.3s\n",
      "[CV] num_lm=100 ......................................................\n",
      "[CV] ....................................... num_lm=100, total=  10.7s\n",
      "[CV] num_lm=150 ......................................................\n",
      "[CV] ....................................... num_lm=150, total=  14.3s\n",
      "[CV] num_lm=200 ......................................................\n",
      "[CV] ....................................... num_lm=200, total=  14.0s\n",
      "[CV] num_lm=250 ......................................................\n",
      "[CV] ....................................... num_lm=250, total=  17.5s\n",
      "[CV] num_lm=300 ......................................................\n",
      "[CV] ....................................... num_lm=300, total=  13.2s\n",
      "[CV] num_lm=2 ........................................................\n",
      "[CV] ......................................... num_lm=2, total=  10.1s\n",
      "[CV] num_lm=5 ........................................................\n",
      "[CV] ......................................... num_lm=5, total=  11.3s\n",
      "[CV] num_lm=10 .......................................................\n",
      "[CV] ........................................ num_lm=10, total=  11.1s\n",
      "[CV] num_lm=20 .......................................................\n",
      "[CV] ........................................ num_lm=20, total=  11.1s\n",
      "[CV] num_lm=50 .......................................................\n",
      "[CV] ........................................ num_lm=50, total=  12.9s\n",
      "[CV] num_lm=100 ......................................................\n",
      "[CV] ....................................... num_lm=100, total=  16.8s\n",
      "[CV] num_lm=150 ......................................................\n",
      "[CV] ....................................... num_lm=150, total=  15.1s\n",
      "[CV] num_lm=200 ......................................................\n",
      "[CV] ....................................... num_lm=200, total=  17.7s\n",
      "[CV] num_lm=250 ......................................................\n",
      "[CV] ....................................... num_lm=250, total=  20.9s\n",
      "[CV] num_lm=300 ......................................................\n",
      "[CV] ....................................... num_lm=300, total=  15.6s\n",
      "[CV] num_lm=2 ........................................................\n",
      "[CV] ......................................... num_lm=2, total=   7.8s\n",
      "[CV] num_lm=5 ........................................................\n",
      "[CV] ......................................... num_lm=5, total=   8.0s\n",
      "[CV] num_lm=10 .......................................................\n",
      "[CV] ........................................ num_lm=10, total=  11.1s\n",
      "[CV] num_lm=20 .......................................................\n",
      "[CV] ........................................ num_lm=20, total=  11.3s\n",
      "[CV] num_lm=50 .......................................................\n",
      "[CV] ........................................ num_lm=50, total=  12.2s\n",
      "[CV] num_lm=100 ......................................................\n",
      "[CV] ....................................... num_lm=100, total=  13.2s\n",
      "[CV] num_lm=150 ......................................................\n",
      "[CV] ....................................... num_lm=150, total=  17.0s\n",
      "[CV] num_lm=200 ......................................................\n",
      "[CV] ....................................... num_lm=200, total=  11.5s\n",
      "[CV] num_lm=250 ......................................................\n",
      "[CV] ....................................... num_lm=250, total=  19.5s\n",
      "[CV] num_lm=300 ......................................................\n",
      "[CV] ....................................... num_lm=300, total=  18.2s\n",
      "CPU times: user 8min 46s, sys: 18.4 s, total: 9min 4s\n",
      "Wall time: 6min 42s\n"
     ]
    },
    {
     "name": "stderr",
     "output_type": "stream",
     "text": [
      "[Parallel(n_jobs=1)]: Done  30 out of  30 | elapsed:  6.7min finished\n"
     ]
    }
   ],
   "source": [
    "%%time\n",
    "\n",
    "def f1_scorer_2(estimator, X, y):\n",
    "    pred = estimator.predict(X)\n",
    "    s = f1_score(np.argmax(y, axis=1), pred, average='macro')\n",
    "    return s\n",
    "\n",
    "train_scores, test_scores = validation_curve(\n",
    "    RBFClassifier(\n",
    "        num_lm=2,\n",
    "        lm_select_from_x=True,\n",
    "        random_state=None,\n",
    "        lr=0.02, gamma='scale',\n",
    "        epochs=500, batch_size=32, verbose=0\n",
    "    ),\n",
    "    xtrain, ytrain,\n",
    "    param_name=param_name, param_range=param_range,\n",
    "    cv=cv_splitter, n_jobs=1, verbose=2, scoring=f1_scorer_2)"
   ]
  },
  {
   "cell_type": "code",
   "execution_count": 52,
   "metadata": {},
   "outputs": [
    {
     "data": {
      "text/plain": [
       "array([[  2.        ,   0.38291652,   0.38505651],\n",
       "       [  5.        ,   0.69133533,   0.68230387],\n",
       "       [ 10.        ,   0.85259193,   0.84993541],\n",
       "       [ 20.        ,   0.93344017,   0.92211466],\n",
       "       [ 50.        ,   0.98337274,   0.93883809],\n",
       "       [100.        ,   0.99768954,   0.95666685],\n",
       "       [150.        ,   0.99828932,   0.95257025],\n",
       "       [200.        ,   1.        ,   0.95773152],\n",
       "       [250.        ,   1.        ,   0.95463554],\n",
       "       [300.        ,   1.        ,   0.95671637]])"
      ]
     },
     "execution_count": 52,
     "metadata": {},
     "output_type": "execute_result"
    }
   ],
   "source": [
    "train_scores_mean = np.mean(train_scores, axis=1)\n",
    "train_scores_std = np.std(train_scores, axis=1)\n",
    "test_scores_mean = np.mean(test_scores, axis=1)\n",
    "test_scores_std = np.std(test_scores, axis=1)\n",
    "np.c_[param_range, train_scores_mean, test_scores_mean]"
   ]
  },
  {
   "cell_type": "code",
   "execution_count": 53,
   "metadata": {},
   "outputs": [
    {
     "data": {
      "text/plain": [
       "<matplotlib.legend.Legend at 0x7f8caaf51390>"
      ]
     },
     "execution_count": 53,
     "metadata": {},
     "output_type": "execute_result"
    },
    {
     "data": {
      "image/png": "[encoded data removed]",
      "text/plain": [
       "<matplotlib.figure.Figure at 0x7f8cec079978>"
      ]
     },
     "metadata": {},
     "output_type": "display_data"
    }
   ],
   "source": [
    "plt.title(\"Validation Curve\")\n",
    "plt.xlabel(\"param\")\n",
    "plt.ylabel(\"Score\")\n",
    "plt.ylim(0.0, 1.1)\n",
    "lw = 2\n",
    "plt.semilogx(param_range, train_scores_mean, label=\"Training score\",\n",
    "             color=\"darkorange\", lw=lw)\n",
    "plt.fill_between(param_range, train_scores_mean - train_scores_std,\n",
    "                 train_scores_mean + train_scores_std, alpha=0.2,\n",
    "                 color=\"darkorange\", lw=lw)\n",
    "plt.semilogx(param_range, test_scores_mean, label=\"Cross-validation score\",\n",
    "             color=\"navy\", lw=lw)\n",
    "plt.fill_between(param_range, test_scores_mean - test_scores_std,\n",
    "                 test_scores_mean + test_scores_std, alpha=0.2,\n",
    "                 color=\"navy\", lw=lw)\n",
    "plt.legend(loc=\"best\")"
   ]
  },
  {
   "cell_type": "code",
   "execution_count": 54,
   "metadata": {},
   "outputs": [
    {
     "name": "stdout",
     "output_type": "stream",
     "text": [
      "CPU times: user 24.6 s, sys: 787 ms, total: 25.4 s\n",
      "Wall time: 19 s\n"
     ]
    }
   ],
   "source": [
    "%%time\n",
    "\n",
    "'''test data'''\n",
    "est = RBFClassifier(\n",
    "    num_lm=200,\n",
    "    lm_select_from_x=True,\n",
    "    random_state=None,\n",
    "    lr=0.02, gamma='scale',\n",
    "    epochs=500, verbose=0\n",
    ")\n",
    "hst = est.fit(xtrain, ytrain)"
   ]
  },
  {
   "cell_type": "code",
   "execution_count": 55,
   "metadata": {},
   "outputs": [
    {
     "data": {
      "text/plain": [
       "<matplotlib.legend.Legend at 0x7f8cd41a4b00>"
      ]
     },
     "execution_count": 55,
     "metadata": {},
     "output_type": "execute_result"
    },
    {
     "data": {
      "image/png": "[encoded data removed]",
      "text/plain": [
       "<matplotlib.figure.Figure at 0x7f8ca991aa58>"
      ]
     },
     "metadata": {},
     "output_type": "display_data"
    }
   ],
   "source": [
    "fig, ax = plt.subplots(1, 3, figsize=(20,5))\n",
    "ax[0].set_title('loss')\n",
    "ax[0].plot(list(range(len(hst[\"loss\"]))), hst[\"loss\"], label=\"Train loss\")\n",
    "ax[1].set_title('accuracy')\n",
    "ax[1].plot(list(range(len(hst[\"loss\"]))), hst[\"acc\"], label=\"accuracy\")\n",
    "ax[2].set_title('learning rate')\n",
    "ax[2].plot(list(range(len(hst[\"loss\"]))), hst[\"lr\"], label=\"learning rate\")\n",
    "ax[0].legend()\n",
    "ax[1].legend()\n",
    "ax[2].legend()"
   ]
  },
  {
   "cell_type": "code",
   "execution_count": 56,
   "metadata": {
    "collapsed": true
   },
   "outputs": [],
   "source": [
    "pred = est.predict(xtrain)"
   ]
  },
  {
   "cell_type": "code",
   "execution_count": 57,
   "metadata": {},
   "outputs": [
    {
     "name": "stdout",
     "output_type": "stream",
     "text": [
      "F1_SCORE : 1.0\n",
      "              precision    recall  f1-score   support\n",
      "\n",
      "           0       1.00      1.00      1.00        88\n",
      "           1       1.00      1.00      1.00        89\n",
      "           2       1.00      1.00      1.00        91\n",
      "           3       1.00      1.00      1.00        93\n",
      "           4       1.00      1.00      1.00        88\n",
      "           5       1.00      1.00      1.00        91\n",
      "           6       1.00      1.00      1.00        90\n",
      "           7       1.00      1.00      1.00        91\n",
      "           8       1.00      1.00      1.00        86\n",
      "           9       1.00      1.00      1.00        91\n",
      "\n",
      "   micro avg       1.00      1.00      1.00       898\n",
      "   macro avg       1.00      1.00      1.00       898\n",
      "weighted avg       1.00      1.00      1.00       898\n",
      "\n",
      "[[88  0  0  0  0  0  0  0  0  0]\n",
      " [ 0 89  0  0  0  0  0  0  0  0]\n",
      " [ 0  0 91  0  0  0  0  0  0  0]\n",
      " [ 0  0  0 93  0  0  0  0  0  0]\n",
      " [ 0  0  0  0 88  0  0  0  0  0]\n",
      " [ 0  0  0  0  0 91  0  0  0  0]\n",
      " [ 0  0  0  0  0  0 90  0  0  0]\n",
      " [ 0  0  0  0  0  0  0 91  0  0]\n",
      " [ 0  0  0  0  0  0  0  0 86  0]\n",
      " [ 0  0  0  0  0  0  0  0  0 91]]\n"
     ]
    }
   ],
   "source": [
    "print('F1_SCORE :', f1_score(np.argmax(ytrain, axis=1), pred, average='macro'))\n",
    "print(classification_report(np.argmax(ytrain, axis=1), pred))\n",
    "print(confusion_matrix(np.argmax(ytrain, axis=1), pred))"
   ]
  },
  {
   "cell_type": "code",
   "execution_count": 58,
   "metadata": {
    "collapsed": true
   },
   "outputs": [],
   "source": [
    "pred_test = est.predict(xtest)"
   ]
  },
  {
   "cell_type": "code",
   "execution_count": 59,
   "metadata": {},
   "outputs": [
    {
     "name": "stdout",
     "output_type": "stream",
     "text": [
      "F1_SCORE : 0.9722185637767021\n",
      "              precision    recall  f1-score   support\n",
      "\n",
      "           0       1.00      1.00      1.00        90\n",
      "           1       1.00      0.96      0.98        93\n",
      "           2       0.99      1.00      0.99        86\n",
      "           3       0.95      0.98      0.96        90\n",
      "           4       0.99      0.98      0.98        93\n",
      "           5       0.96      0.97      0.96        91\n",
      "           6       1.00      0.96      0.98        91\n",
      "           7       0.97      0.97      0.97        88\n",
      "           8       0.93      0.99      0.96        88\n",
      "           9       0.95      0.93      0.94        89\n",
      "\n",
      "   micro avg       0.97      0.97      0.97       899\n",
      "   macro avg       0.97      0.97      0.97       899\n",
      "weighted avg       0.97      0.97      0.97       899\n",
      "\n",
      "[[90  0  0  0  0  0  0  0  0  0]\n",
      " [ 0 89  1  0  0  0  0  0  2  1]\n",
      " [ 0  0 86  0  0  0  0  0  0  0]\n",
      " [ 0  0  0 88  0  0  0  1  1  0]\n",
      " [ 0  0  0  0 91  0  0  1  0  1]\n",
      " [ 0  0  0  1  1 88  0  0  0  1]\n",
      " [ 0  0  0  0  0  3 87  0  1  0]\n",
      " [ 0  0  0  0  0  0  0 85  2  1]\n",
      " [ 0  0  0  0  0  0  0  1 87  0]\n",
      " [ 0  0  0  4  0  1  0  0  1 83]]\n"
     ]
    }
   ],
   "source": [
    "print('F1_SCORE :', f1_score(np.argmax(yans, axis=1), pred_test, average='macro'))\n",
    "print(classification_report(np.argmax(yans, axis=1), pred_test))\n",
    "print(confusion_matrix(np.argmax(yans, axis=1), pred_test))"
   ]
  },
  {
   "cell_type": "code",
   "execution_count": null,
   "metadata": {
    "collapsed": true
   },
   "outputs": [],
   "source": []
  },
  {
   "cell_type": "code",
   "execution_count": null,
   "metadata": {
    "collapsed": true
   },
   "outputs": [],
   "source": []
  },
  {
   "cell_type": "code",
   "execution_count": 60,
   "metadata": {
    "collapsed": true
   },
   "outputs": [],
   "source": [
    "from sklearn.model_selection import StratifiedShuffleSplit, GridSearchCV, validation_curve\n",
    "from sklearn.feature_selection import RFECV\n",
    "from sklearn.linear_model import LogisticRegression, Lasso\n",
    "import pandas as pd\n",
    "from sklearn.metrics import mean_squared_error, mean_absolute_error, roc_auc_score, r2_score, make_scorer\n",
    "from sklearn.metrics.pairwise import cosine_similarity, euclidean_distances\n",
    "import joblib"
   ]
  },
  {
   "cell_type": "code",
   "execution_count": 61,
   "metadata": {},
   "outputs": [
    {
     "name": "stdout",
     "output_type": "stream",
     "text": [
      "counter  | val_f1    |  val_r2    \n",
      "---------------------------------------------\n",
      "    0    |  0.9443   |  0.8315   2.020876e-01 <-- skipping  \n",
      "    1    |  0.9689   |  0.9401   1.973164e-01 <-- OK  \n",
      "    2    |  0.9509   |  0.8474   2.061151e-01 <-- OK  \n",
      "    3    |  0.9664   |  0.9072   1.980436e-01 <-- OK  \n",
      "    4    |  0.9621   |  0.8949   1.899433e-01 <-- OK  \n",
      "    5    |  0.9463   |  0.8760   1.877566e-01 <-- skipping  \n",
      "    6    |  0.9600   |  0.9045   2.007581e-01 <-- OK  \n",
      "    7    |  0.9592   |  0.8872   1.863372e-01 <-- OK  \n",
      "    8    |  0.9558   |  0.8841   1.962620e-01 <-- OK  \n",
      "    9    |  0.9431   |  0.8420   1.894986e-01 <-- skipping  \n",
      "   10    |  0.9642   |  0.9176   2.034638e-01 <-- OK  \n",
      "   11    |  0.9628   |  0.8724   2.122148e-01 <-- OK  \n",
      "   12    |  0.9597   |  0.9003   1.789106e-01 <-- OK  \n",
      "   13    |  0.9468   |  0.8190   1.757926e-01 <-- skipping  \n",
      "   14    |  0.9575   |  0.8935   2.018411e-01 <-- OK  \n",
      "   15    |  0.9506   |  0.8818   1.890843e-01 <-- OK  \n",
      "   16    |  0.9581   |  0.9513   1.969933e-01 <-- OK  \n",
      "   17    |  0.9556   |  0.8806   1.953887e-01 <-- OK  \n",
      "   18    |  0.9617   |  0.9185   1.923230e-01 <-- OK  \n",
      "   19    |  0.9352   |  0.7989   1.875293e-01 <-- skipping  \n",
      "   20    |  0.9461   |  0.8695   1.806514e-01 <-- skipping  \n",
      "   21    |  0.9491   |  0.8833   2.051197e-01 <-- skipping  \n",
      "   22    |  0.9572   |  0.8613   2.004727e-01 <-- OK  \n",
      "   23    |  0.9447   |  0.8939   1.928281e-01 <-- skipping  \n",
      "   24    |  0.9570   |  0.8427   2.058290e-01 <-- OK  \n",
      "   25    |  0.9572   |  0.8437   1.883616e-01 <-- OK  \n",
      "   26    |  0.9622   |  0.8925   1.886667e-01 <-- OK  \n",
      "   27    |  0.9373   |  0.8680   1.862873e-01 <-- skipping  \n",
      "   28    |  0.9644   |  0.8918   2.083431e-01 <-- OK  \n",
      "   29    |  0.9599   |  0.9110   2.064395e-01 <-- OK  \n",
      "   30    |  0.9530   |  0.8599   1.941388e-01 <-- OK  \n",
      "   31    |  0.9551   |  0.8859   1.992990e-01 <-- OK  \n",
      "   32    |  0.9507   |  0.8632   1.920428e-01 <-- OK  \n",
      "   33    |  0.9483   |  0.8665   1.869285e-01 <-- skipping  \n",
      "   34    |  0.9489   |  0.8544   1.943433e-01 <-- skipping  \n",
      "   35    |  0.9443   |  0.8127   1.948948e-01 <-- skipping  \n",
      "   36    |  0.9596   |  0.8796   1.995969e-01 <-- OK  \n",
      "   37    |  0.9691   |  0.9146   2.067448e-01 <-- OK  \n",
      "   38    |  0.9662   |  0.8980   1.936766e-01 <-- OK  \n",
      "   39    |  0.9461   |  0.8747   1.928560e-01 <-- skipping  \n",
      "   40    |  0.9617   |  0.8728   1.959969e-01 <-- OK  \n",
      "   41    |  0.9665   |  0.9250   2.037285e-01 <-- OK  \n",
      "   42    |  0.9599   |  0.9256   2.011646e-01 <-- OK  \n",
      "   43    |  0.9666   |  0.9260   1.893333e-01 <-- OK  \n",
      "   44    |  0.9687   |  0.8912   1.984520e-01 <-- OK  \n",
      "   45    |  0.9687   |  0.9465   1.933427e-01 <-- OK  \n",
      "   46    |  0.9577   |  0.8761   1.907952e-01 <-- OK  \n",
      "   47    |  0.9556   |  0.8812   1.803988e-01 <-- OK  \n",
      "   48    |  0.9593   |  0.9029   1.947805e-01 <-- OK  \n",
      "   49    |  0.9597   |  0.8986   1.986569e-01 <-- OK  \n",
      "CPU times: user 27min 1s, sys: 46.6 s, total: 27min 48s\n",
      "Wall time: 31min 30s\n"
     ]
    }
   ],
   "source": [
    "%%time\n",
    "\n",
    "ins_splitter = StratifiedShuffleSplit(n_splits=50, test_size=0.5, random_state=0)\n",
    "var_idx_all = np.arange(xtrain.shape[1])\n",
    "threshold = 0.95\n",
    "#threshold = 0.30\n",
    "importances = np.zeros((xtrain.shape[1],))\n",
    "predictions = pd.DataFrame()\n",
    "#preds_all = pd.DataFrame()\n",
    "pred_all_list = []\n",
    "pred_train_all_list = []\n",
    "counter = 0\n",
    "np.random.seed(10001)\n",
    "\n",
    "print(\"counter  | val_f1    |  val_r2    \")\n",
    "print(\"---------------------------------------------\")\n",
    "\n",
    "\n",
    "for train_index, val_index in ins_splitter.split(xtrain, ytrain):\n",
    "    x_train_tr, x_train_val = xtrain[train_index], xtrain[val_index]\n",
    "    y_train_tr, y_train_val = ytrain[train_index], ytrain[val_index]\n",
    "    \n",
    "    \n",
    "    #estimator = LGBMRegressor(min_child_samples=50, reg_alpha=100)\n",
    "    estimator = RBFClassifier(\n",
    "        num_lm=250,\n",
    "        lm_select_from_x=True,\n",
    "        random_state=None,\n",
    "        lr=0.02, gamma='scale',\n",
    "        epochs=500, batch_size=32, verbose=0\n",
    "    )\n",
    "    estimator.fit(x_train_tr, y_train_tr)\n",
    "    \n",
    "    # score our fitted model on validation data\n",
    "    val_y_pred = estimator.predict(x_train_val)\n",
    "    val_mse = mean_squared_error(np.argmax(y_train_val,axis=1), val_y_pred)\n",
    "    val_mae = mean_absolute_error(np.argmax(y_train_val,axis=1), val_y_pred)\n",
    "    val_kappa = 0.0\n",
    "    val_f1 = f1_score(np.argmax(y_train_val,axis=1), val_y_pred, average='macro')\n",
    "    val_cos = cosine_similarity(np.argmax(y_train_val,axis=1).reshape(1, -1), val_y_pred.reshape(1, -1))[0][0]\n",
    "    val_dst = euclidean_distances(np.argmax(y_train_val,axis=1).reshape(1, -1), val_y_pred.reshape(1, -1))[0][0]\n",
    "    val_r2  = r2_score(np.argmax(y_train_val,axis=1), val_y_pred)\n",
    "    gamma = estimator.current_gamma()\n",
    "    \n",
    "    if val_f1 > threshold:\n",
    "        message = '<-- OK'\n",
    "        pred_train_all = estimator.predict_proba(xtrain)\n",
    "        pred_train_all_list.append(pred_train_all)\n",
    "        pred_all = estimator.predict_proba(xtest)\n",
    "        pred_all_list.append(pred_all)\n",
    "        #preds_all = pd.concat([preds_all, pd.DataFrame(pred_all)], axis=1)\n",
    "        #prediction = grid_search.best_estimator_.predict(x_test0)\n",
    "        #predictions = pd.concat([predictions, pd.DataFrame(prediction)], axis=1)\n",
    "        #importances += estimator.feature_importances_\n",
    "        #filename = 'model-{}.sav'.format(counter)\n",
    "        #joblib.dump(estimator, filename)\n",
    "    else:\n",
    "        message = '<-- skipping'\n",
    "\n",
    "    print(\"{0:5}    |  {3:.4f}   |  {4:.4f}   {5:5e} {7}  \".format(\n",
    "        counter,\n",
    "        val_mse,\n",
    "        val_mae,\n",
    "        val_f1,\n",
    "        val_r2,\n",
    "        gamma,\n",
    "        0,\n",
    "        message))\n",
    "    \n",
    "    counter += 1"
   ]
  },
  {
   "cell_type": "code",
   "execution_count": 62,
   "metadata": {},
   "outputs": [
    {
     "name": "stdout",
     "output_type": "stream",
     "text": [
      "F1_SCORE : 0.98438261442802\n",
      "F1_SCORE : 0.9755032814785828\n",
      "F1_SCORE : 0.9832098990649021\n",
      "F1_SCORE : 0.9811009132064727\n",
      "F1_SCORE : 0.9799067587683761\n",
      "F1_SCORE : 0.9797003802137321\n",
      "F1_SCORE : 0.977744010707994\n",
      "F1_SCORE : 0.9821395735078449\n",
      "F1_SCORE : 0.9812714931212598\n",
      "F1_SCORE : 0.9798703343872506\n",
      "F1_SCORE : 0.978761736986843\n",
      "F1_SCORE : 0.9753122070409598\n",
      "F1_SCORE : 0.9789750282193868\n",
      "F1_SCORE : 0.9777272367489734\n",
      "F1_SCORE : 0.9809317749716412\n",
      "F1_SCORE : 0.9786447905797097\n",
      "F1_SCORE : 0.9785996623351517\n",
      "F1_SCORE : 0.978659493860803\n",
      "F1_SCORE : 0.981084446470071\n",
      "F1_SCORE : 0.9821248602616658\n",
      "F1_SCORE : 0.9799171628196154\n",
      "F1_SCORE : 0.9764723150793106\n",
      "F1_SCORE : 0.9775616675721521\n",
      "F1_SCORE : 0.9753175966147621\n",
      "F1_SCORE : 0.979870929330537\n",
      "F1_SCORE : 0.9844790294547574\n",
      "F1_SCORE : 0.9831421118850155\n",
      "F1_SCORE : 0.9809071632296493\n",
      "F1_SCORE : 0.9832961672891584\n",
      "F1_SCORE : 0.9799808091796187\n",
      "F1_SCORE : 0.9832767219028089\n",
      "F1_SCORE : 0.9843074595727985\n",
      "F1_SCORE : 0.9843681003502128\n",
      "F1_SCORE : 0.9788691196564949\n",
      "F1_SCORE : 0.9777443229153784\n",
      "F1_SCORE : 0.9796996749076883\n",
      "F1_SCORE : 0.9798351289112592\n"
     ]
    }
   ],
   "source": [
    "for ee in pred_train_all_list:\n",
    "    print('F1_SCORE :', f1_score(np.argmax(ytrain, axis=1), np.argmax(ee, axis=1), average='macro'))"
   ]
  },
  {
   "cell_type": "code",
   "execution_count": 63,
   "metadata": {},
   "outputs": [
    {
     "name": "stdout",
     "output_type": "stream",
     "text": [
      "F1_SCORE : 0.9966650325628439\n",
      "              precision    recall  f1-score   support\n",
      "\n",
      "           0       1.00      1.00      1.00        88\n",
      "           1       1.00      0.99      0.99        89\n",
      "           2       1.00      1.00      1.00        91\n",
      "           3       1.00      0.99      0.99        93\n",
      "           4       1.00      1.00      1.00        88\n",
      "           5       0.99      1.00      0.99        91\n",
      "           6       0.99      1.00      0.99        90\n",
      "           7       1.00      1.00      1.00        91\n",
      "           8       0.99      1.00      0.99        86\n",
      "           9       1.00      0.99      0.99        91\n",
      "\n",
      "   micro avg       1.00      1.00      1.00       898\n",
      "   macro avg       1.00      1.00      1.00       898\n",
      "weighted avg       1.00      1.00      1.00       898\n",
      "\n",
      "[[88  0  0  0  0  0  0  0  0  0]\n",
      " [ 0 88  0  0  0  0  1  0  0  0]\n",
      " [ 0  0 91  0  0  0  0  0  0  0]\n",
      " [ 0  0  0 92  0  1  0  0  0  0]\n",
      " [ 0  0  0  0 88  0  0  0  0  0]\n",
      " [ 0  0  0  0  0 91  0  0  0  0]\n",
      " [ 0  0  0  0  0  0 90  0  0  0]\n",
      " [ 0  0  0  0  0  0  0 91  0  0]\n",
      " [ 0  0  0  0  0  0  0  0 86  0]\n",
      " [ 0  0  0  0  0  0  0  0  1 90]]\n"
     ]
    }
   ],
   "source": [
    "print('F1_SCORE :', f1_score(np.argmax(ytrain, axis=1), np.argmax(np.stack(pred_train_all_list).mean(axis=0), axis=1), average='macro'))\n",
    "print(classification_report(np.argmax(ytrain, axis=1), np.argmax(np.stack(pred_train_all_list).mean(axis=0), axis=1)))\n",
    "print(confusion_matrix(np.argmax(ytrain, axis=1), np.argmax(np.stack(pred_train_all_list).mean(axis=0), axis=1)))"
   ]
  },
  {
   "cell_type": "code",
   "execution_count": 64,
   "metadata": {},
   "outputs": [
    {
     "data": {
      "text/plain": [
       "(899, 10)"
      ]
     },
     "execution_count": 64,
     "metadata": {},
     "output_type": "execute_result"
    }
   ],
   "source": [
    "np.stack(pred_all_list).mean(axis=0).shape"
   ]
  },
  {
   "cell_type": "code",
   "execution_count": 65,
   "metadata": {},
   "outputs": [
    {
     "name": "stdout",
     "output_type": "stream",
     "text": [
      "F1_SCORE : 0.9679019636310336\n",
      "F1_SCORE : 0.9635101586416477\n",
      "F1_SCORE : 0.9612971038501597\n",
      "F1_SCORE : 0.9577986369832961\n",
      "F1_SCORE : 0.9568290608437529\n",
      "F1_SCORE : 0.9589067377766078\n",
      "F1_SCORE : 0.9626059370300567\n",
      "F1_SCORE : 0.9666188807115329\n",
      "F1_SCORE : 0.9590642254880922\n",
      "F1_SCORE : 0.9565748878571491\n",
      "F1_SCORE : 0.9578694177069259\n",
      "F1_SCORE : 0.9599473695797162\n",
      "F1_SCORE : 0.9634248779842768\n",
      "F1_SCORE : 0.967827027100253\n",
      "F1_SCORE : 0.9744113699116911\n",
      "F1_SCORE : 0.9688243314511651\n",
      "F1_SCORE : 0.9621678575079533\n",
      "F1_SCORE : 0.9609363475812402\n",
      "F1_SCORE : 0.9645178781039687\n",
      "F1_SCORE : 0.9744472384975819\n",
      "F1_SCORE : 0.9631803019164401\n",
      "F1_SCORE : 0.9610238177234361\n",
      "F1_SCORE : 0.9632341762713219\n",
      "F1_SCORE : 0.961184538982019\n",
      "F1_SCORE : 0.9645388511935977\n",
      "F1_SCORE : 0.966717970517475\n",
      "F1_SCORE : 0.9600253452025616\n",
      "F1_SCORE : 0.9566130394618512\n",
      "F1_SCORE : 0.9710743037922243\n",
      "F1_SCORE : 0.9614612712832509\n",
      "F1_SCORE : 0.9723059469728504\n",
      "F1_SCORE : 0.968973912352606\n",
      "F1_SCORE : 0.9632037893870589\n",
      "F1_SCORE : 0.9601715005369311\n",
      "F1_SCORE : 0.9667164766071374\n",
      "F1_SCORE : 0.9665577825592824\n",
      "F1_SCORE : 0.9632866332717439\n"
     ]
    }
   ],
   "source": [
    "for ee in pred_all_list:\n",
    "    print('F1_SCORE :', f1_score(np.argmax(yans, axis=1), np.argmax(ee, axis=1), average='macro'))"
   ]
  },
  {
   "cell_type": "code",
   "execution_count": 66,
   "metadata": {},
   "outputs": [
    {
     "name": "stdout",
     "output_type": "stream",
     "text": [
      "F1_SCORE : 0.9733833456604071\n",
      "              precision    recall  f1-score   support\n",
      "\n",
      "           0       1.00      1.00      1.00        90\n",
      "           1       1.00      0.96      0.98        93\n",
      "           2       0.99      1.00      0.99        86\n",
      "           3       0.98      0.98      0.98        90\n",
      "           4       0.99      0.97      0.98        93\n",
      "           5       0.95      0.96      0.95        91\n",
      "           6       0.99      0.97      0.98        91\n",
      "           7       0.97      0.97      0.97        88\n",
      "           8       0.94      0.99      0.96        88\n",
      "           9       0.94      0.96      0.95        89\n",
      "\n",
      "   micro avg       0.97      0.97      0.97       899\n",
      "   macro avg       0.97      0.97      0.97       899\n",
      "weighted avg       0.97      0.97      0.97       899\n",
      "\n",
      "[[90  0  0  0  0  0  0  0  0  0]\n",
      " [ 0 89  1  0  0  1  1  0  0  1]\n",
      " [ 0  0 86  0  0  0  0  0  0  0]\n",
      " [ 0  0  0 88  0  0  0  1  1  0]\n",
      " [ 0  0  0  0 90  0  0  1  1  1]\n",
      " [ 0  0  0  1  1 87  0  0  0  2]\n",
      " [ 0  0  0  0  0  2 88  0  1  0]\n",
      " [ 0  0  0  0  0  0  0 85  2  1]\n",
      " [ 0  0  0  0  0  0  0  1 87  0]\n",
      " [ 0  0  0  1  0  2  0  0  1 85]]\n"
     ]
    }
   ],
   "source": [
    "print('F1_SCORE :', f1_score(np.argmax(yans, axis=1), np.argmax(np.stack(pred_all_list).mean(axis=0), axis=1), average='macro'))\n",
    "print(classification_report(np.argmax(yans, axis=1), np.argmax(np.stack(pred_all_list).mean(axis=0), axis=1)))\n",
    "print(confusion_matrix(np.argmax(yans, axis=1), np.argmax(np.stack(pred_all_list).mean(axis=0), axis=1)))"
   ]
  },
  {
   "cell_type": "code",
   "execution_count": null,
   "metadata": {
    "collapsed": true
   },
   "outputs": [],
   "source": []
  },
  {
   "cell_type": "markdown",
   "metadata": {},
   "source": [
    "## validation_curve + LogisticRegression"
   ]
  },
  {
   "cell_type": "code",
   "execution_count": 67,
   "metadata": {},
   "outputs": [
    {
     "data": {
      "text/plain": [
       "3"
      ]
     },
     "execution_count": 67,
     "metadata": {},
     "output_type": "execute_result"
    }
   ],
   "source": [
    "cv_splitter = StratifiedShuffleSplit(n_splits=3, test_size=0.35, random_state=0)\n",
    "cv_splitter.get_n_splits(xtrain, ytrain)"
   ]
  },
  {
   "cell_type": "code",
   "execution_count": 68,
   "metadata": {},
   "outputs": [
    {
     "data": {
      "text/plain": [
       "array([1.e-03, 1.e-02, 1.e-01, 1.e+00, 1.e+01, 1.e+02, 1.e+03, 1.e+04,\n",
       "       1.e+05])"
      ]
     },
     "execution_count": 68,
     "metadata": {},
     "output_type": "execute_result"
    }
   ],
   "source": [
    "param_name = \"C\"\n",
    "param_range = np.logspace(-3, 5, 9)\n",
    "param_range"
   ]
  },
  {
   "cell_type": "code",
   "execution_count": 69,
   "metadata": {
    "collapsed": true
   },
   "outputs": [],
   "source": [
    "def f1_scorer(estimator, X, y):\n",
    "    pred = estimator.predict(X)\n",
    "    s = f1_score(y, pred, average='macro')\n",
    "    return s"
   ]
  },
  {
   "cell_type": "code",
   "execution_count": 70,
   "metadata": {
    "collapsed": true
   },
   "outputs": [],
   "source": [
    "import warnings\n",
    "warnings.filterwarnings('ignore')"
   ]
  },
  {
   "cell_type": "code",
   "execution_count": 71,
   "metadata": {},
   "outputs": [
    {
     "name": "stderr",
     "output_type": "stream",
     "text": [
      "[Parallel(n_jobs=1)]: Using backend SequentialBackend with 1 concurrent workers.\n",
      "[Parallel(n_jobs=1)]: Done   1 out of   1 | elapsed:    0.0s remaining:    0.0s\n"
     ]
    },
    {
     "name": "stdout",
     "output_type": "stream",
     "text": [
      "[CV] C=0.001 .........................................................\n",
      "[CV] .......................................... C=0.001, total=   0.0s\n",
      "[CV] C=0.01 ..........................................................\n",
      "[CV] ........................................... C=0.01, total=   0.2s\n",
      "[CV] C=0.1 ...........................................................\n",
      "[CV] ............................................ C=0.1, total=  51.7s\n",
      "[CV] C=1.0 ...........................................................\n",
      "[CV] ............................................ C=1.0, total= 1.2min\n",
      "[CV] C=10.0 ..........................................................\n",
      "[CV] ........................................... C=10.0, total= 2.1min\n",
      "[CV] C=100.0 .........................................................\n",
      "[CV] .......................................... C=100.0, total= 2.3min\n",
      "[CV] C=1000.0 ........................................................\n",
      "[CV] ......................................... C=1000.0, total= 1.6min\n",
      "[CV] C=10000.0 .......................................................\n",
      "[CV] ........................................ C=10000.0, total=  34.8s\n",
      "[CV] C=100000.0 ......................................................\n",
      "[CV] ....................................... C=100000.0, total=  45.0s\n",
      "[CV] C=0.001 .........................................................\n",
      "[CV] .......................................... C=0.001, total=   0.0s\n",
      "[CV] C=0.01 ..........................................................\n",
      "[CV] ........................................... C=0.01, total=   0.2s\n",
      "[CV] C=0.1 ...........................................................\n",
      "[CV] ............................................ C=0.1, total= 1.5min\n",
      "[CV] C=1.0 ...........................................................\n",
      "[CV] ............................................ C=1.0, total= 1.9min\n",
      "[CV] C=10.0 ..........................................................\n",
      "[CV] ........................................... C=10.0, total= 1.8min\n",
      "[CV] C=100.0 .........................................................\n",
      "[CV] .......................................... C=100.0, total= 2.0min\n",
      "[CV] C=1000.0 ........................................................\n",
      "[CV] ......................................... C=1000.0, total= 1.5min\n",
      "[CV] C=10000.0 .......................................................\n",
      "[CV] ........................................ C=10000.0, total=  35.9s\n",
      "[CV] C=100000.0 ......................................................\n",
      "[CV] ....................................... C=100000.0, total=  41.4s\n",
      "[CV] C=0.001 .........................................................\n",
      "[CV] .......................................... C=0.001, total=   0.0s\n",
      "[CV] C=0.01 ..........................................................\n",
      "[CV] ........................................... C=0.01, total=   0.2s\n",
      "[CV] C=0.1 ...........................................................\n",
      "[CV] ............................................ C=0.1, total= 1.0min\n",
      "[CV] C=1.0 ...........................................................\n",
      "[CV] ............................................ C=1.0, total= 2.5min\n",
      "[CV] C=10.0 ..........................................................\n",
      "[CV] ........................................... C=10.0, total= 1.9min\n",
      "[CV] C=100.0 .........................................................\n",
      "[CV] .......................................... C=100.0, total= 2.2min\n",
      "[CV] C=1000.0 ........................................................\n",
      "[CV] ......................................... C=1000.0, total=  28.1s\n",
      "[CV] C=10000.0 .......................................................\n",
      "[CV] ........................................ C=10000.0, total=  11.1s\n",
      "[CV] C=100000.0 ......................................................\n",
      "[CV] ....................................... C=100000.0, total=  21.0s\n",
      "CPU times: user 14min 31s, sys: 1.69 s, total: 14min 33s\n",
      "Wall time: 28min\n"
     ]
    },
    {
     "name": "stderr",
     "output_type": "stream",
     "text": [
      "[Parallel(n_jobs=1)]: Done  27 out of  27 | elapsed: 28.0min finished\n"
     ]
    }
   ],
   "source": [
    "%%time\n",
    "\n",
    "train_scores, test_scores = validation_curve(\n",
    "    LogisticRegression(penalty='l1', multi_class='multinomial', solver='saga', max_iter=10000),\n",
    "    np.hstack(pred_train_all_list), np.argmax(ytrain, axis=1),\n",
    "    param_name=param_name, param_range=param_range,\n",
    "    cv=cv_splitter, n_jobs=1, verbose=2, scoring=f1_scorer)"
   ]
  },
  {
   "cell_type": "code",
   "execution_count": 72,
   "metadata": {},
   "outputs": [
    {
     "data": {
      "text/plain": [
       "array([[1.00000000e-03, 1.83800623e-02, 1.82688944e-02],\n",
       "       [1.00000000e-02, 1.86625194e-02, 1.89655172e-02],\n",
       "       [1.00000000e-01, 1.00000000e+00, 9.78626463e-01],\n",
       "       [1.00000000e+00, 1.00000000e+00, 9.85154502e-01],\n",
       "       [1.00000000e+01, 1.00000000e+00, 9.90451516e-01],\n",
       "       [1.00000000e+02, 1.00000000e+00, 9.91444906e-01],\n",
       "       [1.00000000e+03, 1.00000000e+00, 9.94690580e-01],\n",
       "       [1.00000000e+04, 1.00000000e+00, 9.95749035e-01],\n",
       "       [1.00000000e+05, 1.00000000e+00, 9.94673232e-01]])"
      ]
     },
     "execution_count": 72,
     "metadata": {},
     "output_type": "execute_result"
    }
   ],
   "source": [
    "train_scores_mean = np.mean(train_scores, axis=1)\n",
    "train_scores_std = np.std(train_scores, axis=1)\n",
    "test_scores_mean = np.mean(test_scores, axis=1)\n",
    "test_scores_std = np.std(test_scores, axis=1)\n",
    "np.c_[param_range, train_scores_mean, test_scores_mean]"
   ]
  },
  {
   "cell_type": "code",
   "execution_count": 73,
   "metadata": {},
   "outputs": [
    {
     "data": {
      "text/plain": [
       "<matplotlib.legend.Legend at 0x7f8ca8659b38>"
      ]
     },
     "execution_count": 73,
     "metadata": {},
     "output_type": "execute_result"
    },
    {
     "data": {
      "image/png": "[encoded data removed]",
      "text/plain": [
       "<matplotlib.figure.Figure at 0x7f8caabdcdd8>"
      ]
     },
     "metadata": {},
     "output_type": "display_data"
    }
   ],
   "source": [
    "plt.title(\"Validation Curve\")\n",
    "plt.xlabel(\"param\")\n",
    "plt.ylabel(\"Score\")\n",
    "plt.ylim(0.0, 1.1)\n",
    "lw = 2\n",
    "plt.semilogx(param_range, train_scores_mean, label=\"Training score\",\n",
    "             color=\"darkorange\", lw=lw)\n",
    "plt.fill_between(param_range, train_scores_mean - train_scores_std,\n",
    "                 train_scores_mean + train_scores_std, alpha=0.2,\n",
    "                 color=\"darkorange\", lw=lw)\n",
    "plt.semilogx(param_range, test_scores_mean, label=\"Cross-validation score\",\n",
    "             color=\"navy\", lw=lw)\n",
    "plt.fill_between(param_range, test_scores_mean - test_scores_std,\n",
    "                 test_scores_mean + test_scores_std, alpha=0.2,\n",
    "                 color=\"navy\", lw=lw)\n",
    "plt.legend(loc=\"best\")"
   ]
  },
  {
   "cell_type": "code",
   "execution_count": 74,
   "metadata": {},
   "outputs": [
    {
     "data": {
      "text/plain": [
       "LogisticRegression(C=100000, class_weight=None, dual=False,\n",
       "          fit_intercept=True, intercept_scaling=1, max_iter=10000,\n",
       "          multi_class='multinomial', n_jobs=None, penalty='l1',\n",
       "          random_state=None, solver='saga', tol=0.0001, verbose=0,\n",
       "          warm_start=False)"
      ]
     },
     "execution_count": 74,
     "metadata": {},
     "output_type": "execute_result"
    }
   ],
   "source": [
    "'''test data'''\n",
    "est = LogisticRegression(penalty='l1', multi_class='multinomial', solver='saga', max_iter=10000, C=100000)\n",
    "est.fit(np.hstack(pred_train_all_list), np.argmax(ytrain, axis=1))"
   ]
  },
  {
   "cell_type": "code",
   "execution_count": 75,
   "metadata": {
    "collapsed": true
   },
   "outputs": [],
   "source": [
    "pred = est.predict(np.hstack(pred_train_all_list))"
   ]
  },
  {
   "cell_type": "code",
   "execution_count": 76,
   "metadata": {},
   "outputs": [
    {
     "name": "stdout",
     "output_type": "stream",
     "text": [
      "F1_SCORE : 1.0\n",
      "              precision    recall  f1-score   support\n",
      "\n",
      "           0       1.00      1.00      1.00        88\n",
      "           1       1.00      1.00      1.00        89\n",
      "           2       1.00      1.00      1.00        91\n",
      "           3       1.00      1.00      1.00        93\n",
      "           4       1.00      1.00      1.00        88\n",
      "           5       1.00      1.00      1.00        91\n",
      "           6       1.00      1.00      1.00        90\n",
      "           7       1.00      1.00      1.00        91\n",
      "           8       1.00      1.00      1.00        86\n",
      "           9       1.00      1.00      1.00        91\n",
      "\n",
      "   micro avg       1.00      1.00      1.00       898\n",
      "   macro avg       1.00      1.00      1.00       898\n",
      "weighted avg       1.00      1.00      1.00       898\n",
      "\n",
      "[[88  0  0  0  0  0  0  0  0  0]\n",
      " [ 0 89  0  0  0  0  0  0  0  0]\n",
      " [ 0  0 91  0  0  0  0  0  0  0]\n",
      " [ 0  0  0 93  0  0  0  0  0  0]\n",
      " [ 0  0  0  0 88  0  0  0  0  0]\n",
      " [ 0  0  0  0  0 91  0  0  0  0]\n",
      " [ 0  0  0  0  0  0 90  0  0  0]\n",
      " [ 0  0  0  0  0  0  0 91  0  0]\n",
      " [ 0  0  0  0  0  0  0  0 86  0]\n",
      " [ 0  0  0  0  0  0  0  0  0 91]]\n"
     ]
    }
   ],
   "source": [
    "print('F1_SCORE :', f1_score(np.argmax(ytrain, axis=1), pred, average='macro'))\n",
    "print(classification_report(np.argmax(ytrain, axis=1), pred))\n",
    "print(confusion_matrix(np.argmax(ytrain, axis=1), pred))"
   ]
  },
  {
   "cell_type": "code",
   "execution_count": 77,
   "metadata": {
    "collapsed": true
   },
   "outputs": [],
   "source": [
    "pred_test = est.predict(np.hstack(pred_all_list))"
   ]
  },
  {
   "cell_type": "code",
   "execution_count": 78,
   "metadata": {},
   "outputs": [
    {
     "name": "stdout",
     "output_type": "stream",
     "text": [
      "F1_SCORE : 0.9733247761174508\n",
      "              precision    recall  f1-score   support\n",
      "\n",
      "           0       1.00      1.00      1.00        90\n",
      "           1       1.00      0.97      0.98        93\n",
      "           2       0.99      1.00      0.99        86\n",
      "           3       0.95      0.98      0.96        90\n",
      "           4       0.99      0.98      0.98        93\n",
      "           5       0.95      0.96      0.95        91\n",
      "           6       1.00      0.97      0.98        91\n",
      "           7       0.97      0.97      0.97        88\n",
      "           8       0.96      0.99      0.97        88\n",
      "           9       0.94      0.93      0.94        89\n",
      "\n",
      "   micro avg       0.97      0.97      0.97       899\n",
      "   macro avg       0.97      0.97      0.97       899\n",
      "weighted avg       0.97      0.97      0.97       899\n",
      "\n",
      "[[90  0  0  0  0  0  0  0  0  0]\n",
      " [ 0 90  1  0  0  1  0  0  0  1]\n",
      " [ 0  0 86  0  0  0  0  0  0  0]\n",
      " [ 0  0  0 88  0  0  0  1  1  0]\n",
      " [ 0  0  0  0 91  0  0  1  0  1]\n",
      " [ 0  0  0  1  1 87  0  0  0  2]\n",
      " [ 0  0  0  0  0  2 88  0  1  0]\n",
      " [ 0  0  0  0  0  0  0 85  2  1]\n",
      " [ 0  0  0  0  0  0  0  1 87  0]\n",
      " [ 0  0  0  4  0  2  0  0  0 83]]\n"
     ]
    }
   ],
   "source": [
    "print('F1_SCORE :', f1_score(np.argmax(yans, axis=1), pred_test, average='macro'))\n",
    "print(classification_report(np.argmax(yans, axis=1), pred_test))\n",
    "print(confusion_matrix(np.argmax(yans, axis=1), pred_test))"
   ]
  },
  {
   "cell_type": "code",
   "execution_count": null,
   "metadata": {
    "collapsed": true
   },
   "outputs": [],
   "source": []
  },
  {
   "cell_type": "markdown",
   "metadata": {},
   "source": [
    "## validation_curve + LGBMClassifier"
   ]
  },
  {
   "cell_type": "code",
   "execution_count": 79,
   "metadata": {},
   "outputs": [
    {
     "data": {
      "text/plain": [
       "array([1.e-03, 1.e-02, 1.e-01, 1.e+00, 1.e+01, 1.e+02, 1.e+03])"
      ]
     },
     "execution_count": 79,
     "metadata": {},
     "output_type": "execute_result"
    }
   ],
   "source": [
    "'''LGBMClassifier'''\n",
    "from lightgbm import LGBMClassifier\n",
    "\n",
    "param_name = \"reg_alpha\"\n",
    "param_range = np.logspace(-3, 3, 7)\n",
    "param_range"
   ]
  },
  {
   "cell_type": "code",
   "execution_count": 80,
   "metadata": {},
   "outputs": [
    {
     "name": "stdout",
     "output_type": "stream",
     "text": [
      "[CV] reg_alpha=0.001 .................................................\n"
     ]
    },
    {
     "name": "stderr",
     "output_type": "stream",
     "text": [
      "[Parallel(n_jobs=1)]: Using backend SequentialBackend with 1 concurrent workers.\n",
      "[Parallel(n_jobs=1)]: Done   1 out of   1 | elapsed:    0.2s remaining:    0.0s\n"
     ]
    },
    {
     "name": "stdout",
     "output_type": "stream",
     "text": [
      "[CV] .................................. reg_alpha=0.001, total=   0.2s\n",
      "[CV] reg_alpha=0.01 ..................................................\n",
      "[CV] ................................... reg_alpha=0.01, total=   0.1s\n",
      "[CV] reg_alpha=0.1 ...................................................\n",
      "[CV] .................................... reg_alpha=0.1, total=   0.1s\n",
      "[CV] reg_alpha=1.0 ...................................................\n",
      "[CV] .................................... reg_alpha=1.0, total=   0.1s\n",
      "[CV] reg_alpha=10.0 ..................................................\n",
      "[CV] ................................... reg_alpha=10.0, total=   0.1s\n",
      "[CV] reg_alpha=100.0 .................................................\n",
      "[CV] .................................. reg_alpha=100.0, total=   0.1s\n",
      "[CV] reg_alpha=1000.0 ................................................\n",
      "[CV] ................................. reg_alpha=1000.0, total=   0.1s\n",
      "[CV] reg_alpha=0.001 .................................................\n",
      "[CV] .................................. reg_alpha=0.001, total=   0.2s\n",
      "[CV] reg_alpha=0.01 ..................................................\n",
      "[CV] ................................... reg_alpha=0.01, total=   0.1s\n",
      "[CV] reg_alpha=0.1 ...................................................\n",
      "[CV] .................................... reg_alpha=0.1, total=   0.1s\n",
      "[CV] reg_alpha=1.0 ...................................................\n",
      "[CV] .................................... reg_alpha=1.0, total=   0.1s\n",
      "[CV] reg_alpha=10.0 ..................................................\n",
      "[CV] ................................... reg_alpha=10.0, total=   0.1s\n",
      "[CV] reg_alpha=100.0 .................................................\n",
      "[CV] .................................. reg_alpha=100.0, total=   0.1s\n",
      "[CV] reg_alpha=1000.0 ................................................\n",
      "[CV] ................................. reg_alpha=1000.0, total=   0.1s\n",
      "[CV] reg_alpha=0.001 .................................................\n",
      "[CV] .................................. reg_alpha=0.001, total=   0.2s\n",
      "[CV] reg_alpha=0.01 ..................................................\n",
      "[CV] ................................... reg_alpha=0.01, total=   0.1s\n",
      "[CV] reg_alpha=0.1 ...................................................\n",
      "[CV] .................................... reg_alpha=0.1, total=   0.1s\n",
      "[CV] reg_alpha=1.0 ...................................................\n",
      "[CV] .................................... reg_alpha=1.0, total=   0.1s\n",
      "[CV] reg_alpha=10.0 ..................................................\n",
      "[CV] ................................... reg_alpha=10.0, total=   0.1s\n",
      "[CV] reg_alpha=100.0 .................................................\n",
      "[CV] .................................. reg_alpha=100.0, total=   0.1s\n",
      "[CV] reg_alpha=1000.0 ................................................\n",
      "[CV] ................................. reg_alpha=1000.0, total=   0.1s\n",
      "CPU times: user 2.6 s, sys: 110 ms, total: 2.71 s\n",
      "Wall time: 2.69 s\n"
     ]
    },
    {
     "name": "stderr",
     "output_type": "stream",
     "text": [
      "[Parallel(n_jobs=1)]: Done  21 out of  21 | elapsed:    2.7s finished\n"
     ]
    }
   ],
   "source": [
    "%%time\n",
    "\n",
    "train_scores, test_scores = validation_curve(\n",
    "    LGBMClassifier(\n",
    "        min_child_samples=20,\n",
    "        reg_alpha=0.1\n",
    "    ),\n",
    "    np.hstack(pred_train_all_list), np.argmax(ytrain, axis=1),\n",
    "    param_name=param_name, param_range=param_range,\n",
    "    cv=cv_splitter, n_jobs=1, verbose=2, scoring=f1_scorer)"
   ]
  },
  {
   "cell_type": "code",
   "execution_count": 81,
   "metadata": {},
   "outputs": [
    {
     "data": {
      "text/plain": [
       "array([[1.00000000e-03, 1.00000000e+00, 9.81847260e-01],\n",
       "       [1.00000000e-02, 1.00000000e+00, 9.81815616e-01],\n",
       "       [1.00000000e-01, 1.00000000e+00, 9.80788932e-01],\n",
       "       [1.00000000e+00, 1.00000000e+00, 9.80772543e-01],\n",
       "       [1.00000000e+01, 1.00000000e+00, 9.80772543e-01],\n",
       "       [1.00000000e+02, 1.78125000e-02, 1.79190751e-02],\n",
       "       [1.00000000e+03, 1.78125000e-02, 1.79190751e-02]])"
      ]
     },
     "execution_count": 81,
     "metadata": {},
     "output_type": "execute_result"
    }
   ],
   "source": [
    "train_scores_mean = np.mean(train_scores, axis=1)\n",
    "train_scores_std = np.std(train_scores, axis=1)\n",
    "test_scores_mean = np.mean(test_scores, axis=1)\n",
    "test_scores_std = np.std(test_scores, axis=1)\n",
    "np.c_[param_range, train_scores_mean, test_scores_mean]"
   ]
  },
  {
   "cell_type": "code",
   "execution_count": 82,
   "metadata": {},
   "outputs": [
    {
     "data": {
      "text/plain": [
       "<matplotlib.legend.Legend at 0x7f8ca849e3c8>"
      ]
     },
     "execution_count": 82,
     "metadata": {},
     "output_type": "execute_result"
    },
    {
     "data": {
      "image/png": "[encoded data removed]",
      "text/plain": [
       "<matplotlib.figure.Figure at 0x7f8c93d21d68>"
      ]
     },
     "metadata": {},
     "output_type": "display_data"
    }
   ],
   "source": [
    "plt.title(\"Validation Curve\")\n",
    "plt.xlabel(\"param\")\n",
    "plt.ylabel(\"Score\")\n",
    "plt.ylim(0.0, 1.1)\n",
    "lw = 2\n",
    "plt.semilogx(param_range, train_scores_mean, label=\"Training score\",\n",
    "             color=\"darkorange\", lw=lw)\n",
    "plt.fill_between(param_range, train_scores_mean - train_scores_std,\n",
    "                 train_scores_mean + train_scores_std, alpha=0.2,\n",
    "                 color=\"darkorange\", lw=lw)\n",
    "plt.semilogx(param_range, test_scores_mean, label=\"Cross-validation score\",\n",
    "             color=\"navy\", lw=lw)\n",
    "plt.fill_between(param_range, test_scores_mean - test_scores_std,\n",
    "                 test_scores_mean + test_scores_std, alpha=0.2,\n",
    "                 color=\"navy\", lw=lw)\n",
    "plt.legend(loc=\"best\")"
   ]
  },
  {
   "cell_type": "code",
   "execution_count": 83,
   "metadata": {},
   "outputs": [
    {
     "data": {
      "text/plain": [
       "LGBMClassifier(boosting_type='gbdt', colsample_bytree=1, learning_rate=0.1,\n",
       "        max_bin=255, max_depth=-1, min_child_samples=50,\n",
       "        min_child_weight=5, min_split_gain=0, n_estimators=10, nthread=-1,\n",
       "        num_leaves=31, objective='multiclass', reg_alpha=0.01,\n",
       "        reg_lambda=0, seed=0, silent=True, subsample=1,\n",
       "        subsample_for_bin=50000, subsample_freq=1)"
      ]
     },
     "execution_count": 83,
     "metadata": {},
     "output_type": "execute_result"
    }
   ],
   "source": [
    "'''test data'''\n",
    "est = LGBMClassifier(\n",
    "        min_child_samples=50,\n",
    "        reg_alpha=0.01\n",
    "    )\n",
    "est.fit(np.hstack(pred_train_all_list), np.argmax(ytrain, axis=1))"
   ]
  },
  {
   "cell_type": "code",
   "execution_count": 84,
   "metadata": {
    "collapsed": true
   },
   "outputs": [],
   "source": [
    "pred = est.predict(np.hstack(pred_train_all_list))"
   ]
  },
  {
   "cell_type": "code",
   "execution_count": 85,
   "metadata": {},
   "outputs": [
    {
     "name": "stdout",
     "output_type": "stream",
     "text": [
      "F1_SCORE : 1.0\n",
      "              precision    recall  f1-score   support\n",
      "\n",
      "           0       1.00      1.00      1.00        88\n",
      "           1       1.00      1.00      1.00        89\n",
      "           2       1.00      1.00      1.00        91\n",
      "           3       1.00      1.00      1.00        93\n",
      "           4       1.00      1.00      1.00        88\n",
      "           5       1.00      1.00      1.00        91\n",
      "           6       1.00      1.00      1.00        90\n",
      "           7       1.00      1.00      1.00        91\n",
      "           8       1.00      1.00      1.00        86\n",
      "           9       1.00      1.00      1.00        91\n",
      "\n",
      "   micro avg       1.00      1.00      1.00       898\n",
      "   macro avg       1.00      1.00      1.00       898\n",
      "weighted avg       1.00      1.00      1.00       898\n",
      "\n",
      "[[88  0  0  0  0  0  0  0  0  0]\n",
      " [ 0 89  0  0  0  0  0  0  0  0]\n",
      " [ 0  0 91  0  0  0  0  0  0  0]\n",
      " [ 0  0  0 93  0  0  0  0  0  0]\n",
      " [ 0  0  0  0 88  0  0  0  0  0]\n",
      " [ 0  0  0  0  0 91  0  0  0  0]\n",
      " [ 0  0  0  0  0  0 90  0  0  0]\n",
      " [ 0  0  0  0  0  0  0 91  0  0]\n",
      " [ 0  0  0  0  0  0  0  0 86  0]\n",
      " [ 0  0  0  0  0  0  0  0  0 91]]\n"
     ]
    }
   ],
   "source": [
    "print('F1_SCORE :', f1_score(np.argmax(ytrain, axis=1), pred, average='macro'))\n",
    "print(classification_report(np.argmax(ytrain, axis=1), pred))\n",
    "print(confusion_matrix(np.argmax(ytrain, axis=1), pred))"
   ]
  },
  {
   "cell_type": "code",
   "execution_count": 86,
   "metadata": {
    "collapsed": true
   },
   "outputs": [],
   "source": [
    "pred_test = est.predict(np.hstack(pred_all_list))"
   ]
  },
  {
   "cell_type": "code",
   "execution_count": 87,
   "metadata": {},
   "outputs": [
    {
     "name": "stdout",
     "output_type": "stream",
     "text": [
      "F1_SCORE : 0.9688390948156869\n",
      "              precision    recall  f1-score   support\n",
      "\n",
      "           0       0.99      1.00      0.99        90\n",
      "           1       1.00      0.96      0.98        93\n",
      "           2       1.00      1.00      1.00        86\n",
      "           3       0.93      0.99      0.96        90\n",
      "           4       0.99      0.98      0.98        93\n",
      "           5       0.92      0.98      0.95        91\n",
      "           6       0.99      0.95      0.97        91\n",
      "           7       0.96      0.98      0.97        88\n",
      "           8       0.97      0.98      0.97        88\n",
      "           9       0.96      0.89      0.92        89\n",
      "\n",
      "   micro avg       0.97      0.97      0.97       899\n",
      "   macro avg       0.97      0.97      0.97       899\n",
      "weighted avg       0.97      0.97      0.97       899\n",
      "\n",
      "[[90  0  0  0  0  0  0  0  0  0]\n",
      " [ 0 89  0  0  0  1  0  0  2  1]\n",
      " [ 0  0 86  0  0  0  0  0  0  0]\n",
      " [ 0  0  0 89  0  0  0  1  0  0]\n",
      " [ 0  0  0  0 91  0  0  1  0  1]\n",
      " [ 0  0  0  1  1 89  0  0  0  0]\n",
      " [ 1  0  0  0  0  4 86  0  0  0]\n",
      " [ 0  0  0  0  0  0  0 86  1  1]\n",
      " [ 0  0  0  0  0  0  1  1 86  0]\n",
      " [ 0  0  0  6  0  3  0  1  0 79]]\n"
     ]
    }
   ],
   "source": [
    "print('F1_SCORE :', f1_score(np.argmax(yans, axis=1), pred_test, average='macro'))\n",
    "print(classification_report(np.argmax(yans, axis=1), pred_test))\n",
    "print(confusion_matrix(np.argmax(yans, axis=1), pred_test))"
   ]
  },
  {
   "cell_type": "code",
   "execution_count": null,
   "metadata": {
    "collapsed": true
   },
   "outputs": [],
   "source": []
  },
  {
   "cell_type": "code",
   "execution_count": null,
   "metadata": {
    "collapsed": true
   },
   "outputs": [],
   "source": []
  },
  {
   "cell_type": "code",
   "execution_count": null,
   "metadata": {
    "collapsed": true
   },
   "outputs": [],
   "source": []
  },
  {
   "cell_type": "code",
   "execution_count": null,
   "metadata": {
    "collapsed": true
   },
   "outputs": [],
   "source": []
  },
  {
   "cell_type": "code",
   "execution_count": null,
   "metadata": {
    "collapsed": true
   },
   "outputs": [],
   "source": []
  }
 ],
 "metadata": {
  "kernelspec": {
   "display_name": "Python 3",
   "language": "python",
   "name": "python3"
  },
  "language_info": {
   "codemirror_mode": {
    "name": "ipython",
    "version": 3
   },
   "file_extension": ".py",
   "mimetype": "text/x-python",
   "name": "python",
   "nbconvert_exporter": "python",
   "pygments_lexer": "ipython3",
   "version": "3.6.8"
  }
 },
 "nbformat": 4,
 "nbformat_minor": 2
}
