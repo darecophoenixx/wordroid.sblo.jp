{
 "cells": [
  {
   "cell_type": "markdown",
   "metadata": {},
   "source": [
    "## scikit-learn digits dataset example"
   ]
  },
  {
   "cell_type": "code",
   "execution_count": 1,
   "metadata": {},
   "outputs": [
    {
     "name": "stderr",
     "output_type": "stream",
     "text": [
      "Using TensorFlow backend.\n"
     ]
    }
   ],
   "source": [
    "%matplotlib inline\n",
    "from IPython.display import SVG\n",
    "from keras.utils.vis_utils import model_to_dot"
   ]
  },
  {
   "cell_type": "code",
   "execution_count": 2,
   "metadata": {
    "collapsed": true
   },
   "outputs": [],
   "source": [
    "import sys\n",
    "sys.path.append('/home/admin/github/wordroid.sblo.jp/lib')\n",
    "from keras_ex.GaussianKernel import GaussianKernel, GaussianKernel2, GaussianKernel3\n",
    "\n",
    "# or copy and paste the definition of `GaussianKernel` here."
   ]
  },
  {
   "cell_type": "code",
   "execution_count": 3,
   "metadata": {
    "collapsed": true
   },
   "outputs": [],
   "source": [
    "import numpy as np\n",
    "import pandas as pd\n",
    "from sklearn import datasets\n",
    "from sklearn import preprocessing\n",
    "from sklearn.decomposition import PCA\n",
    "from sklearn import cluster, datasets, mixture\n",
    "from sklearn.datasets import load_digits\n",
    "from sklearn.preprocessing import StandardScaler, OneHotEncoder\n",
    "from sklearn.metrics import f1_score, classification_report, confusion_matrix\n",
    "from sklearn.model_selection import train_test_split\n",
    "\n",
    "import matplotlib.pyplot as plt\n",
    "from matplotlib.colors import ListedColormap\n",
    "import seaborn as sns\n",
    "\n",
    "from keras.layers import Input, Embedding, LSTM, GRU, Dense, Dropout, Lambda, \\\n",
    "    Conv1D, Conv2D, Conv3D, \\\n",
    "    Conv2DTranspose, \\\n",
    "    AveragePooling1D, \\\n",
    "    MaxPooling1D, MaxPooling2D, MaxPooling3D, \\\n",
    "    GlobalAveragePooling1D, \\\n",
    "    GlobalMaxPooling1D, GlobalMaxPooling2D, \\\n",
    "    LocallyConnected1D, LocallyConnected2D, \\\n",
    "    concatenate, Flatten, Average, Activation, \\\n",
    "    RepeatVector, Permute, Reshape, Dot, \\\n",
    "    multiply, dot, add, \\\n",
    "    PReLU, \\\n",
    "    Bidirectional, TimeDistributed, \\\n",
    "    SpatialDropout1D, \\\n",
    "    BatchNormalization\n",
    "from keras.models import Model, Sequential\n",
    "from keras import losses\n",
    "from keras.callbacks import BaseLogger, ProgbarLogger, Callback, History\n",
    "from keras.wrappers.scikit_learn import KerasClassifier\n",
    "from keras import regularizers\n",
    "from keras import initializers\n",
    "from keras.metrics import categorical_accuracy\n",
    "from keras.constraints import maxnorm, non_neg\n",
    "from keras.optimizers import RMSprop\n",
    "from keras.utils import to_categorical\n",
    "from keras import backend as K"
   ]
  },
  {
   "cell_type": "code",
   "execution_count": 4,
   "metadata": {
    "collapsed": true
   },
   "outputs": [],
   "source": [
    "digits = load_digits()\n",
    "X, y = digits.data, digits.target"
   ]
  },
  {
   "cell_type": "code",
   "execution_count": 5,
   "metadata": {
    "collapsed": true
   },
   "outputs": [],
   "source": [
    "X = X.reshape((X.shape[0], -1))"
   ]
  },
  {
   "cell_type": "code",
   "execution_count": 6,
   "metadata": {},
   "outputs": [
    {
     "data": {
      "text/plain": [
       "(1797, 64)"
      ]
     },
     "execution_count": 6,
     "metadata": {},
     "output_type": "execute_result"
    }
   ],
   "source": [
    "X_sc = X / 16.0\n",
    "X_sc.shape"
   ]
  },
  {
   "cell_type": "code",
   "execution_count": 7,
   "metadata": {},
   "outputs": [
    {
     "name": "stdout",
     "output_type": "stream",
     "text": [
      "(1078, 64)\n",
      "(719, 64)\n",
      "(1078,)\n",
      "(719,)\n"
     ]
    }
   ],
   "source": [
    "X_sc_train, X_sc_test, y_train, y_test = train_test_split(X_sc, y, test_size=0.4, random_state=0)\n",
    "print(X_sc_train.shape)\n",
    "print(X_sc_test.shape)\n",
    "print(y_train.shape)\n",
    "print(y_test.shape)"
   ]
  },
  {
   "cell_type": "code",
   "execution_count": 8,
   "metadata": {},
   "outputs": [
    {
     "data": {
      "text/plain": [
       "(1797, 10)"
      ]
     },
     "execution_count": 8,
     "metadata": {},
     "output_type": "execute_result"
    }
   ],
   "source": [
    "y_cat = to_categorical(y)\n",
    "y_cat.shape"
   ]
  },
  {
   "cell_type": "code",
   "execution_count": 9,
   "metadata": {},
   "outputs": [
    {
     "data": {
      "text/plain": [
       "(1078, 10)"
      ]
     },
     "execution_count": 9,
     "metadata": {},
     "output_type": "execute_result"
    }
   ],
   "source": [
    "y_cat_train = to_categorical(y_train)\n",
    "y_cat_train.shape"
   ]
  },
  {
   "cell_type": "code",
   "execution_count": 10,
   "metadata": {},
   "outputs": [
    {
     "data": {
      "text/plain": [
       "(719, 10)"
      ]
     },
     "execution_count": 10,
     "metadata": {},
     "output_type": "execute_result"
    }
   ],
   "source": [
    "y_cat_test = to_categorical(y_test)\n",
    "y_cat_test.shape"
   ]
  },
  {
   "cell_type": "code",
   "execution_count": 11,
   "metadata": {
    "collapsed": true
   },
   "outputs": [],
   "source": [
    "def get_lm(smpl, y, num_lm0=20, random_state=0):\n",
    "    cls = sorted(np.unique(y))\n",
    "    np.random.seed(random_state)\n",
    "    num_feature = np.prod(smpl.shape[1:])\n",
    "    shape = np.hstack([num_lm0, smpl.shape[1:]])\n",
    "    num_lm = num_lm0 * len(cls)\n",
    "    init_list = []\n",
    "    for ii in cls:\n",
    "        init_wgt0 = smpl[y==ii]\n",
    "        init_wgt0 = init_wgt0[np.random.choice(range(init_wgt0.shape[0]), size=num_lm0, replace=False)] + \\\n",
    "                    np.random.normal(scale=0.002, size=num_lm0*num_feature).reshape(shape)\n",
    "        init_list.append(init_wgt0)\n",
    "    init_wgt = np.vstack(init_list)\n",
    "    init_wgt = init_wgt[np.random.permutation(range(init_wgt.shape[0]))]\n",
    "    return init_wgt"
   ]
  },
  {
   "cell_type": "code",
   "execution_count": 12,
   "metadata": {},
   "outputs": [
    {
     "data": {
      "text/plain": [
       "<matplotlib.image.AxesImage at 0x7f2f492b2da0>"
      ]
     },
     "execution_count": 12,
     "metadata": {},
     "output_type": "execute_result"
    },
    {
     "data": {
      "image/png": "[encoded data removed]",
      "text/plain": [
       "<matplotlib.figure.Figure at 0x7f2f6318d358>"
      ]
     },
     "metadata": {},
     "output_type": "display_data"
    }
   ],
   "source": [
    "plt.imshow(X[0].reshape((8,8)))"
   ]
  },
  {
   "cell_type": "markdown",
   "metadata": {},
   "source": [
    "### create model"
   ]
  },
  {
   "cell_type": "code",
   "execution_count": 13,
   "metadata": {},
   "outputs": [
    {
     "data": {
      "text/plain": [
       "(200, 64)"
      ]
     },
     "execution_count": 13,
     "metadata": {},
     "output_type": "execute_result"
    }
   ],
   "source": [
    "'''\n",
    "chose landmarks on input data\n",
    "pick 20 data each digit\n",
    "'''\n",
    "num_lm0 = 20\n",
    "num_lm = num_lm0 * 10\n",
    "\n",
    "init_wgt = get_lm(X_sc_train, y_train, num_lm0=num_lm0)\n",
    "init_wgt.shape"
   ]
  },
  {
   "cell_type": "code",
   "execution_count": 14,
   "metadata": {},
   "outputs": [
    {
     "name": "stdout",
     "output_type": "stream",
     "text": [
      "(10, 200)\n"
     ]
    },
    {
     "data": {
      "text/plain": [
       "array([[ 0.72150955,  0.73561866,  0.82786211, ...,  0.41821092,\n",
       "         0.89579757,  0.91663392],\n",
       "       [ 0.53282433,  0.95938975,  0.4606461 , ...,  0.34725582,\n",
       "         0.52960293,  0.74073731],\n",
       "       [ 0.19641256,  0.93073513,  0.27859638, ...,  0.40815083,\n",
       "         0.74430385,  0.842343  ],\n",
       "       ..., \n",
       "       [ 0.03160016,  0.13718324,  0.13656883, ...,  0.02309561,\n",
       "         0.84539496,  0.80830776],\n",
       "       [ 0.99771232,  0.54711599,  0.12419023, ...,  0.12487177,\n",
       "         0.31043308,  0.99672953],\n",
       "       [ 0.1143734 ,  0.87510768,  0.00171543, ...,  0.69388459,\n",
       "         0.66499431,  0.46904023]])"
      ]
     },
     "execution_count": 14,
     "metadata": {},
     "output_type": "execute_result"
    }
   ],
   "source": [
    "'''\n",
    "chose landmarks randomly for gk2\n",
    "'''\n",
    "#num_lm2 = 200\n",
    "num_lm2 = 10\n",
    "init_lm2 = np.random.random_sample((num_lm2, num_lm))\n",
    "print(init_lm2.shape)\n",
    "init_lm2"
   ]
  },
  {
   "cell_type": "code",
   "execution_count": 15,
   "metadata": {
    "scrolled": false
   },
   "outputs": [
    {
     "name": "stdout",
     "output_type": "stream",
     "text": [
      "_________________________________________________________________\n",
      "Layer (type)                 Output Shape              Param #   \n",
      "=================================================================\n",
      "input_img (InputLayer)       (None, 64)                0         \n",
      "_________________________________________________________________\n",
      "dense_1 (Dense)              (None, 10)                650       \n",
      "=================================================================\n",
      "Total params: 650\n",
      "Trainable params: 650\n",
      "Non-trainable params: 0\n",
      "_________________________________________________________________\n"
     ]
    }
   ],
   "source": [
    "np.random.seed(0)\n",
    "\n",
    "def make_modelz(wgt_embed=None):\n",
    "    inp_img = Input(shape=(64,), name='input_img')\n",
    "    \n",
    "    x = Dense(10, activation='softmax')(inp_img)\n",
    "    model = Model(inp_img, x)\n",
    "    \n",
    "    model.compile(loss='categorical_crossentropy',\n",
    "                  metrics=['accuracy'],\n",
    "                  optimizer='adam')\n",
    "    \n",
    "    return {\n",
    "        'model': model,\n",
    "    }\n",
    "\n",
    "models = make_modelz()\n",
    "model = models['model']\n",
    "model.summary()"
   ]
  },
  {
   "cell_type": "code",
   "execution_count": 16,
   "metadata": {},
   "outputs": [
    {
     "data": {
      "image/svg+xml": [
       "<svg height=\"118pt\" viewBox=\"0.00 0.00 148.00 118.00\" width=\"148pt\" xmlns=\"http://www.w3.org/2000/svg\" xmlns:xlink=\"http://www.w3.org/1999/xlink\">\n",
       "<g class=\"graph\" id=\"graph0\" transform=\"scale(1 1) rotate(0) translate(4 114)\">\n",
       "<title>G</title>\n",
       "<polygon fill=\"white\" points=\"-4,4 -4,-114 144,-114 144,4 -4,4\" stroke=\"none\"/>\n",
       "<!-- 139841066599088 -->\n",
       "<g class=\"node\" id=\"node1\"><title>139841066599088</title>\n",
       "<polygon fill=\"none\" points=\"0,-73.5 0,-109.5 140,-109.5 140,-73.5 0,-73.5\" stroke=\"black\"/>\n",
       "<text font-family=\"Times,serif\" font-size=\"14.00\" text-anchor=\"middle\" x=\"70\" y=\"-87.8\">input_img: InputLayer</text>\n",
       "</g>\n",
       "<!-- 139841066602056 -->\n",
       "<g class=\"node\" id=\"node2\"><title>139841066602056</title>\n",
       "<polygon fill=\"none\" points=\"19,-0.5 19,-36.5 121,-36.5 121,-0.5 19,-0.5\" stroke=\"black\"/>\n",
       "<text font-family=\"Times,serif\" font-size=\"14.00\" text-anchor=\"middle\" x=\"70\" y=\"-14.8\">dense_1: Dense</text>\n",
       "</g>\n",
       "<!-- 139841066599088&#45;&gt;139841066602056 -->\n",
       "<g class=\"edge\" id=\"edge1\"><title>139841066599088-&gt;139841066602056</title>\n",
       "<path d=\"M70,-73.3129C70,-65.2895 70,-55.5475 70,-46.5691\" fill=\"none\" stroke=\"black\"/>\n",
       "<polygon fill=\"black\" points=\"73.5001,-46.5288 70,-36.5288 66.5001,-46.5289 73.5001,-46.5288\" stroke=\"black\"/>\n",
       "</g>\n",
       "</g>\n",
       "</svg>"
      ],
      "text/plain": [
       "<IPython.core.display.SVG object>"
      ]
     },
     "execution_count": 16,
     "metadata": {},
     "output_type": "execute_result"
    }
   ],
   "source": [
    "SVG(model_to_dot(model).create(prog='dot', format='svg'))"
   ]
  },
  {
   "cell_type": "markdown",
   "metadata": {},
   "source": [
    "### train"
   ]
  },
  {
   "cell_type": "code",
   "execution_count": 17,
   "metadata": {
    "scrolled": true
   },
   "outputs": [
    {
     "data": {
      "text/plain": [
       "<keras.callbacks.History at 0x7f2f45cc6b38>"
      ]
     },
     "execution_count": 17,
     "metadata": {},
     "output_type": "execute_result"
    }
   ],
   "source": [
    "model.fit(X_sc_train,\n",
    "          y_cat_train,\n",
    "          validation_data=(X_sc_test, y_cat_test),\n",
    "          verbose=0,\n",
    "          batch_size=32,\n",
    "          epochs=150)"
   ]
  },
  {
   "cell_type": "code",
   "execution_count": 18,
   "metadata": {
    "scrolled": true
   },
   "outputs": [
    {
     "data": {
      "text/plain": [
       "<keras.callbacks.History at 0x7f2f45c19cf8>"
      ]
     },
     "execution_count": 18,
     "metadata": {},
     "output_type": "execute_result"
    }
   ],
   "source": [
    "model.fit(X_sc_train,\n",
    "          y_cat_train,\n",
    "          validation_data=(X_sc_test, y_cat_test),\n",
    "          verbose=0,\n",
    "          batch_size=32,\n",
    "          epochs=150)"
   ]
  },
  {
   "cell_type": "code",
   "execution_count": 19,
   "metadata": {
    "scrolled": true
   },
   "outputs": [
    {
     "data": {
      "text/plain": [
       "<keras.callbacks.History at 0x7f2f45c0bf28>"
      ]
     },
     "execution_count": 19,
     "metadata": {},
     "output_type": "execute_result"
    }
   ],
   "source": [
    "model.fit(X_sc_train,\n",
    "          y_cat_train,\n",
    "          validation_data=(X_sc_test, y_cat_test),\n",
    "          verbose=0,\n",
    "          batch_size=32,\n",
    "          epochs=150)"
   ]
  },
  {
   "cell_type": "markdown",
   "metadata": {},
   "source": [
    "### training data"
   ]
  },
  {
   "cell_type": "code",
   "execution_count": 20,
   "metadata": {},
   "outputs": [
    {
     "data": {
      "text/plain": [
       "(1078, 10)"
      ]
     },
     "execution_count": 20,
     "metadata": {},
     "output_type": "execute_result"
    }
   ],
   "source": [
    "pred_cls = models['model'].predict(X_sc_train)\n",
    "pred_cls.shape"
   ]
  },
  {
   "cell_type": "code",
   "execution_count": 21,
   "metadata": {},
   "outputs": [
    {
     "data": {
      "text/plain": [
       "array([[118,   0,   0,   0,   0,   0,   0,   0,   0,   0],\n",
       "       [  0, 109,   0,   0,   0,   0,   0,   0,   0,   0],\n",
       "       [  0,   0, 106,   0,   0,   0,   0,   0,   0,   0],\n",
       "       [  0,   0,   0, 113,   0,   0,   0,   0,   0,   0],\n",
       "       [  0,   0,   0,   0, 118,   0,   0,   0,   0,   0],\n",
       "       [  0,   0,   0,   0,   0,  93,   0,   0,   0,   0],\n",
       "       [  0,   0,   0,   0,   0,   0, 105,   0,   0,   0],\n",
       "       [  0,   0,   0,   0,   0,   0,   0, 114,   0,   0],\n",
       "       [  0,   1,   0,   0,   0,   0,   0,   0,  95,   0],\n",
       "       [  0,   0,   0,   0,   0,   0,   0,   0,   1, 105]])"
      ]
     },
     "execution_count": 21,
     "metadata": {},
     "output_type": "execute_result"
    }
   ],
   "source": [
    "confusion_matrix(y_train, np.argmax(pred_cls, axis=1))"
   ]
  },
  {
   "cell_type": "code",
   "execution_count": 22,
   "metadata": {},
   "outputs": [
    {
     "name": "stdout",
     "output_type": "stream",
     "text": [
      "             precision    recall  f1-score   support\n",
      "\n",
      "          0       1.00      1.00      1.00       118\n",
      "          1       0.99      1.00      1.00       109\n",
      "          2       1.00      1.00      1.00       106\n",
      "          3       1.00      1.00      1.00       113\n",
      "          4       1.00      1.00      1.00       118\n",
      "          5       1.00      1.00      1.00        93\n",
      "          6       1.00      1.00      1.00       105\n",
      "          7       1.00      1.00      1.00       114\n",
      "          8       0.99      0.99      0.99        96\n",
      "          9       1.00      0.99      1.00       106\n",
      "\n",
      "avg / total       1.00      1.00      1.00      1078\n",
      "\n"
     ]
    }
   ],
   "source": [
    "print(classification_report(y_train, np.argmax(pred_cls, axis=1)))"
   ]
  },
  {
   "cell_type": "markdown",
   "metadata": {},
   "source": [
    "### test data"
   ]
  },
  {
   "cell_type": "code",
   "execution_count": 23,
   "metadata": {},
   "outputs": [
    {
     "data": {
      "text/plain": [
       "(719, 10)"
      ]
     },
     "execution_count": 23,
     "metadata": {},
     "output_type": "execute_result"
    }
   ],
   "source": [
    "pred_cls_test = models['model'].predict(X_sc_test)\n",
    "pred_cls_test.shape"
   ]
  },
  {
   "cell_type": "code",
   "execution_count": 24,
   "metadata": {},
   "outputs": [
    {
     "data": {
      "text/plain": [
       "array([[60,  0,  0,  0,  0,  0,  0,  0,  0,  0],\n",
       "       [ 0, 70,  0,  0,  0,  0,  1,  0,  2,  0],\n",
       "       [ 0,  1, 69,  0,  0,  0,  0,  0,  1,  0],\n",
       "       [ 0,  0,  0, 67,  0,  2,  0,  0,  1,  0],\n",
       "       [ 0,  0,  0,  0, 63,  0,  0,  0,  0,  0],\n",
       "       [ 0,  0,  0,  0,  0, 87,  1,  0,  0,  1],\n",
       "       [ 0,  1,  0,  0,  1,  0, 74,  0,  0,  0],\n",
       "       [ 0,  0,  0,  0,  0,  0,  0, 65,  0,  0],\n",
       "       [ 0,  3,  0,  0,  0,  1,  0,  0, 74,  0],\n",
       "       [ 0,  2,  0,  0,  0,  1,  0,  1,  0, 70]])"
      ]
     },
     "execution_count": 24,
     "metadata": {},
     "output_type": "execute_result"
    }
   ],
   "source": [
    "confusion_matrix(y_test, np.argmax(pred_cls_test, axis=1))"
   ]
  },
  {
   "cell_type": "code",
   "execution_count": 25,
   "metadata": {},
   "outputs": [
    {
     "name": "stdout",
     "output_type": "stream",
     "text": [
      "             precision    recall  f1-score   support\n",
      "\n",
      "          0       1.00      1.00      1.00        60\n",
      "          1       0.91      0.96      0.93        73\n",
      "          2       1.00      0.97      0.99        71\n",
      "          3       1.00      0.96      0.98        70\n",
      "          4       0.98      1.00      0.99        63\n",
      "          5       0.96      0.98      0.97        89\n",
      "          6       0.97      0.97      0.97        76\n",
      "          7       0.98      1.00      0.99        65\n",
      "          8       0.95      0.95      0.95        78\n",
      "          9       0.99      0.95      0.97        74\n",
      "\n",
      "avg / total       0.97      0.97      0.97       719\n",
      "\n"
     ]
    }
   ],
   "source": [
    "print(classification_report(y_test, np.argmax(pred_cls_test, axis=1)))"
   ]
  },
  {
   "cell_type": "code",
   "execution_count": 26,
   "metadata": {},
   "outputs": [
    {
     "data": {
      "text/plain": [
       "0.97362282725845906"
      ]
     },
     "execution_count": 26,
     "metadata": {},
     "output_type": "execute_result"
    }
   ],
   "source": [
    "f1_score(y_test, np.argmax(pred_cls_test, axis=1), average='macro')"
   ]
  },
  {
   "cell_type": "code",
   "execution_count": null,
   "metadata": {
    "collapsed": true
   },
   "outputs": [],
   "source": []
  }
 ],
 "metadata": {
  "kernelspec": {
   "display_name": "Python 3",
   "language": "python",
   "name": "python3"
  },
  "language_info": {
   "codemirror_mode": {
    "name": "ipython",
    "version": 3
   },
   "file_extension": ".py",
   "mimetype": "text/x-python",
   "name": "python",
   "nbconvert_exporter": "python",
   "pygments_lexer": "ipython3",
   "version": "3.6.2"
  }
 },
 "nbformat": 4,
 "nbformat_minor": 2
}
